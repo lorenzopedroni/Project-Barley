{
 "cells": [
  {
   "cell_type": "markdown",
   "metadata": {},
   "source": [
    "# 0 Project Barley"
   ]
  },
  {
   "cell_type": "markdown",
   "metadata": {},
   "source": [
    "Along this project we will work on various Barley's cultivar starting from Hv_Morex. The aim of this project is to further understand the importance of introns within genes and within Untranslated Regions (UTRs) and their differences. \n",
    "\n",
    "Another not secondary objective is to build a pipeline as much reproducible as possible. This notebook is meant to give readers a crystal clear view of how we proceeded to implement our work. \n",
    "\n",
    "All the work has been performed on a Linux machine running _Ubuntu 20.04.2 LTS x86_64_."
   ]
  },
  {
   "cell_type": "markdown",
   "metadata": {},
   "source": [
    "# 1 Working environment"
   ]
  },
  {
   "cell_type": "markdown",
   "metadata": {},
   "source": [
    "**Before running the notebook** be sure to activate the conda environment shared with you:\n",
    "- $ conda activate Pedroni_Thesis.yml"
   ]
  },
  {
   "cell_type": "code",
   "execution_count": 1,
   "metadata": {},
   "outputs": [
    {
     "name": "stdout",
     "output_type": "stream",
     "text": [
      "\u001b[43C\u001b[0m\u001b[31m\u001b[1mOS\u001b[0m\u001b[0m:\u001b[0m Ubuntu 20.04.2 LTS x86_64\u001b[0m \r\n",
      "\u001b[43C\u001b[0m\u001b[31m\u001b[1mHost\u001b[0m\u001b[0m:\u001b[0m X580VD 1.0\u001b[0m \r\n",
      "\u001b[43C\u001b[0m\u001b[31m\u001b[1mKernel\u001b[0m\u001b[0m:\u001b[0m 5.4.0-74-generic\u001b[0m \r\n",
      "\u001b[43C\u001b[0m\u001b[31m\u001b[1mUptime\u001b[0m\u001b[0m:\u001b[0m 1 hour, 33 mins\u001b[0m \r\n",
      "\u001b[43C\u001b[0m\u001b[31m\u001b[1mPackages\u001b[0m\u001b[0m:\u001b[0m 2889 (dpkg), 5 (flatpak), 19 (snap)\u001b[0m \r\n",
      "\u001b[43C\u001b[0m\u001b[31m\u001b[1mShell\u001b[0m\u001b[0m:\u001b[0m bash 5.0.17\u001b[0m \r\n",
      "\u001b[43C\u001b[0m\u001b[31m\u001b[1mResolution\u001b[0m\u001b[0m:\u001b[0m 1920x1080\u001b[0m \r\n",
      "\u001b[43C\u001b[0m\u001b[31m\u001b[1mDE\u001b[0m\u001b[0m:\u001b[0m GNOME\u001b[0m \r\n",
      "\u001b[43C\u001b[0m\u001b[31m\u001b[1mWM\u001b[0m\u001b[0m:\u001b[0m Mutter\u001b[0m \r\n",
      "\u001b[43C\u001b[0m\u001b[31m\u001b[1mWM Theme\u001b[0m\u001b[0m:\u001b[0m Adwaita\u001b[0m \r\n",
      "\u001b[43C\u001b[0m\u001b[31m\u001b[1mTheme\u001b[0m\u001b[0m:\u001b[0m Orchis [GTK2/3]\u001b[0m \r\n",
      "\u001b[43C\u001b[0m\u001b[31m\u001b[1mIcons\u001b[0m\u001b[0m:\u001b[0m Tela-circle [GTK2/3]\u001b[0m \r\n",
      "\u001b[43C\u001b[0m\u001b[31m\u001b[1mCPU\u001b[0m\u001b[0m:\u001b[0m Intel i7-7700HQ (8) @ 3.800GHz\u001b[0m \r\n",
      "\u001b[43C\u001b[0m\u001b[31m\u001b[1mGPU\u001b[0m\u001b[0m:\u001b[0m NVIDIA GeForce GTX 1050 Mobile\u001b[0m \r\n",
      "\u001b[43C\u001b[0m\u001b[31m\u001b[1mGPU\u001b[0m\u001b[0m:\u001b[0m Intel HD Graphics 630\u001b[0m \r\n",
      "\u001b[43C\u001b[0m\u001b[31m\u001b[1mMemory\u001b[0m\u001b[0m:\u001b[0m 2702MiB / 15897MiB\u001b[0m \r\n",
      "\r\n"
     ]
    }
   ],
   "source": [
    "### --- This command can be installed with: $ sudo apt-get install neofetch\n",
    "### --- It is used to show the software/hardware characteristics of the machine used to complete this project.\n",
    "! neofetch | tail -22 | head -17"
   ]
  },
  {
   "cell_type": "code",
   "execution_count": 2,
   "metadata": {
    "scrolled": true
   },
   "outputs": [
    {
     "name": "stdout",
     "output_type": "stream",
     "text": [
      "\u001b[01;34m.\u001b[00m\r\n",
      "├── \u001b[01;34mData\u001b[00m\r\n",
      "│   └── \u001b[01;34mraw\u001b[00m\r\n",
      "├── \u001b[01;34mOutput\u001b[00m\r\n",
      "└── \u001b[01;34mScripts\u001b[00m\r\n",
      "    └── \u001b[01;34mscript_out\u001b[00m\r\n",
      "\r\n",
      "5 directories\r\n"
     ]
    }
   ],
   "source": [
    "### --- This command is used to show you how directories should be organized to better be able to follow this work.\n",
    "### --- The root directory of this project is called 'Project Barley'\n",
    "! tree -d"
   ]
  },
  {
   "cell_type": "markdown",
   "metadata": {},
   "source": [
    "# 2 Implementing an intron analysis on data from a long-read sequence assembly in Barley"
   ]
  },
  {
   "cell_type": "markdown",
   "metadata": {},
   "source": [
    "The study I am referring to can be found [here](https://academic.oup.com/plcell/advance-article/doi/10.1093/plcell/koab077/6169005) while all the data can be found [here](https://doi.ipk-gatersleben.de/DOI/b2f47dfb-47ff-4114-89ae-bad8dcc515a1/21172880-2956-4cbb-ab2c-5c00bceb08a2/0). "
   ]
  },
  {
   "cell_type": "markdown",
   "metadata": {},
   "source": [
    "## 2.1 Hv_Morex HC"
   ]
  },
  {
   "cell_type": "markdown",
   "metadata": {},
   "source": [
    "### 2.1.1 Collecting Data"
   ]
  },
  {
   "cell_type": "code",
   "execution_count": 3,
   "metadata": {
    "scrolled": true
   },
   "outputs": [
    {
     "name": "stdout",
     "output_type": "stream",
     "text": [
      "--2021-06-03 16:19:52--  https://doi.ipk-gatersleben.de/DOI/b2f47dfb-47ff-4114-89ae-bad8dcc515a1/2492a5a9-08a8-4022-b6ad-9b056a00f64f/1/DOWNLOAD\n",
      "Resolving doi.ipk-gatersleben.de (doi.ipk-gatersleben.de)... 194.94.136.144\n",
      "Connecting to doi.ipk-gatersleben.de (doi.ipk-gatersleben.de)|194.94.136.144|:443... connected.\n",
      "HTTP request sent, awaiting response... 200 OK\n",
      "Length: 59307477 (57M) [text/plain]\n",
      "Saving to: ‘Data/raw/Hv_Morex.pgsb.Jul2020.HC.gff3’\n",
      "\n",
      "Data/raw/Hv_Morex.p 100%[===================>]  56,56M  1,20MB/s    in 41s     \n",
      "\n",
      "2021-06-03 16:20:34 (1,39 MB/s) - ‘Data/raw/Hv_Morex.pgsb.Jul2020.HC.gff3’ saved [59307477/59307477]\n",
      "\n"
     ]
    }
   ],
   "source": [
    "### --- This will download the raw data to the subdirectory raw under the directory Data\n",
    "! wget -O Data/raw/Hv_Morex.pgsb.Jul2020.HC.gff3 https://doi.ipk-gatersleben.de/DOI/b2f47dfb-47ff-4114-89ae-bad8dcc515a1/2492a5a9-08a8-4022-b6ad-9b056a00f64f/1/DOWNLOAD"
   ]
  },
  {
   "cell_type": "markdown",
   "metadata": {},
   "source": [
    "### 2.1.2 Processing data"
   ]
  },
  {
   "cell_type": "code",
   "execution_count": 1,
   "metadata": {},
   "outputs": [],
   "source": [
    "### --- Importing the libraries needed to handle data and visualize them\n",
    "import pandas as pd \n",
    "import numpy as np\n",
    "import matplotlib.pyplot as plt"
   ]
  },
  {
   "cell_type": "code",
   "execution_count": 5,
   "metadata": {},
   "outputs": [],
   "source": [
    "### --- Removing all hashtags from the gff3 file\n",
    "! sed '/#/d' Data/raw/Hv_Morex.pgsb.Jul2020.HC.gff3  > Data/Hv_Morex_nohashtag.pgsb.Jul2020.HC.gff3"
   ]
  },
  {
   "cell_type": "code",
   "execution_count": 6,
   "metadata": {},
   "outputs": [],
   "source": [
    "### --- Changing the gff3 file to a csv format file to import it with pandas\n",
    "! cat Data/Hv_Morex_nohashtag.pgsb.Jul2020.HC.gff3 | sed 's/,/--/g' | sed 's/;/--/g' | sed 's/\\t/,/g' | awk -F '--' '{print $1}' > Data/Hv_Morex_nohashtag.pgsb.Jul2020.HC.csv"
   ]
  },
  {
   "cell_type": "code",
   "execution_count": 7,
   "metadata": {},
   "outputs": [
    {
     "data": {
      "text/html": [
       "<div>\n",
       "<style scoped>\n",
       "    .dataframe tbody tr th:only-of-type {\n",
       "        vertical-align: middle;\n",
       "    }\n",
       "\n",
       "    .dataframe tbody tr th {\n",
       "        vertical-align: top;\n",
       "    }\n",
       "\n",
       "    .dataframe thead th {\n",
       "        text-align: right;\n",
       "    }\n",
       "</style>\n",
       "<table border=\"1\" class=\"dataframe\">\n",
       "  <thead>\n",
       "    <tr style=\"text-align: right;\">\n",
       "      <th></th>\n",
       "      <th>chr</th>\n",
       "      <th>source</th>\n",
       "      <th>type</th>\n",
       "      <th>start</th>\n",
       "      <th>end</th>\n",
       "      <th>score</th>\n",
       "      <th>strand</th>\n",
       "      <th>phase</th>\n",
       "      <th>attributes</th>\n",
       "    </tr>\n",
       "  </thead>\n",
       "  <tbody>\n",
       "    <tr>\n",
       "      <th>0</th>\n",
       "      <td>chr1H</td>\n",
       "      <td>pgsb</td>\n",
       "      <td>gene</td>\n",
       "      <td>76744</td>\n",
       "      <td>77373</td>\n",
       "      <td>.</td>\n",
       "      <td>+</td>\n",
       "      <td>.</td>\n",
       "      <td>ID=HORVU.MOREX.r3.1HG0000030</td>\n",
       "    </tr>\n",
       "    <tr>\n",
       "      <th>1</th>\n",
       "      <td>chr1H</td>\n",
       "      <td>pgsb</td>\n",
       "      <td>mRNA</td>\n",
       "      <td>76744</td>\n",
       "      <td>77373</td>\n",
       "      <td>.</td>\n",
       "      <td>+</td>\n",
       "      <td>.</td>\n",
       "      <td>ID=HORVU.MOREX.r3.1HG0000030.1</td>\n",
       "    </tr>\n",
       "    <tr>\n",
       "      <th>2</th>\n",
       "      <td>chr1H</td>\n",
       "      <td>pgsb</td>\n",
       "      <td>exon</td>\n",
       "      <td>76744</td>\n",
       "      <td>77373</td>\n",
       "      <td>.</td>\n",
       "      <td>+</td>\n",
       "      <td>.</td>\n",
       "      <td>ID=HORVU.MOREX.r3.1HG0000030.1.exon1</td>\n",
       "    </tr>\n",
       "    <tr>\n",
       "      <th>3</th>\n",
       "      <td>chr1H</td>\n",
       "      <td>pgsb</td>\n",
       "      <td>CDS</td>\n",
       "      <td>76744</td>\n",
       "      <td>77373</td>\n",
       "      <td>.</td>\n",
       "      <td>+</td>\n",
       "      <td>0</td>\n",
       "      <td>ID=HORVU.MOREX.r3.1HG0000030.1.CDS1</td>\n",
       "    </tr>\n",
       "    <tr>\n",
       "      <th>4</th>\n",
       "      <td>chr1H</td>\n",
       "      <td>pgsb</td>\n",
       "      <td>gene</td>\n",
       "      <td>78284</td>\n",
       "      <td>81892</td>\n",
       "      <td>.</td>\n",
       "      <td>-</td>\n",
       "      <td>.</td>\n",
       "      <td>ID=HORVU.MOREX.r3.1HG0000040</td>\n",
       "    </tr>\n",
       "  </tbody>\n",
       "</table>\n",
       "</div>"
      ],
      "text/plain": [
       "     chr source  type  start    end score strand phase  \\\n",
       "0  chr1H   pgsb  gene  76744  77373     .      +     .   \n",
       "1  chr1H   pgsb  mRNA  76744  77373     .      +     .   \n",
       "2  chr1H   pgsb  exon  76744  77373     .      +     .   \n",
       "3  chr1H   pgsb   CDS  76744  77373     .      +     0   \n",
       "4  chr1H   pgsb  gene  78284  81892     .      -     .   \n",
       "\n",
       "                             attributes  \n",
       "0          ID=HORVU.MOREX.r3.1HG0000030  \n",
       "1        ID=HORVU.MOREX.r3.1HG0000030.1  \n",
       "2  ID=HORVU.MOREX.r3.1HG0000030.1.exon1  \n",
       "3   ID=HORVU.MOREX.r3.1HG0000030.1.CDS1  \n",
       "4          ID=HORVU.MOREX.r3.1HG0000040  "
      ]
     },
     "execution_count": 7,
     "metadata": {},
     "output_type": "execute_result"
    }
   ],
   "source": [
    "### --- Transforming the gff3 file to a pandas dataframe to better handle it\n",
    "df_Hv_MorexHC = pd.read_csv('Data/Hv_Morex_nohashtag.pgsb.Jul2020.HC.csv', header=None, names = ['chr', 'source', 'type','start','end','score','strand','phase','attributes'])\n",
    "df_Hv_MorexHC.head()"
   ]
  },
  {
   "cell_type": "code",
   "execution_count": 11,
   "metadata": {},
   "outputs": [
    {
     "data": {
      "text/html": [
       "<div>\n",
       "<style scoped>\n",
       "    .dataframe tbody tr th:only-of-type {\n",
       "        vertical-align: middle;\n",
       "    }\n",
       "\n",
       "    .dataframe tbody tr th {\n",
       "        vertical-align: top;\n",
       "    }\n",
       "\n",
       "    .dataframe thead th {\n",
       "        text-align: right;\n",
       "    }\n",
       "</style>\n",
       "<table border=\"1\" class=\"dataframe\">\n",
       "  <thead>\n",
       "    <tr style=\"text-align: right;\">\n",
       "      <th></th>\n",
       "      <th>chr</th>\n",
       "      <th>source</th>\n",
       "      <th>type</th>\n",
       "      <th>start</th>\n",
       "      <th>end</th>\n",
       "      <th>score</th>\n",
       "      <th>strand</th>\n",
       "      <th>phase</th>\n",
       "      <th>attributes</th>\n",
       "    </tr>\n",
       "  </thead>\n",
       "  <tbody>\n",
       "    <tr>\n",
       "      <th>2</th>\n",
       "      <td>chr1H</td>\n",
       "      <td>pgsb</td>\n",
       "      <td>exon</td>\n",
       "      <td>76744</td>\n",
       "      <td>77373</td>\n",
       "      <td>.</td>\n",
       "      <td>+</td>\n",
       "      <td>.</td>\n",
       "      <td>ID=HORVU.MOREX.r3.1HG0000030.1.exon1</td>\n",
       "    </tr>\n",
       "    <tr>\n",
       "      <th>7</th>\n",
       "      <td>chr1H</td>\n",
       "      <td>pgsb</td>\n",
       "      <td>exon</td>\n",
       "      <td>78284</td>\n",
       "      <td>78954</td>\n",
       "      <td>.</td>\n",
       "      <td>-</td>\n",
       "      <td>.</td>\n",
       "      <td>ID=HORVU.MOREX.r3.1HG0000040.1.exon1</td>\n",
       "    </tr>\n",
       "    <tr>\n",
       "      <th>9</th>\n",
       "      <td>chr1H</td>\n",
       "      <td>pgsb</td>\n",
       "      <td>exon</td>\n",
       "      <td>79063</td>\n",
       "      <td>79104</td>\n",
       "      <td>.</td>\n",
       "      <td>-</td>\n",
       "      <td>.</td>\n",
       "      <td>ID=HORVU.MOREX.r3.1HG0000040.1.exon2</td>\n",
       "    </tr>\n",
       "    <tr>\n",
       "      <th>11</th>\n",
       "      <td>chr1H</td>\n",
       "      <td>pgsb</td>\n",
       "      <td>exon</td>\n",
       "      <td>79609</td>\n",
       "      <td>79676</td>\n",
       "      <td>.</td>\n",
       "      <td>-</td>\n",
       "      <td>.</td>\n",
       "      <td>ID=HORVU.MOREX.r3.1HG0000040.1.exon3</td>\n",
       "    </tr>\n",
       "    <tr>\n",
       "      <th>13</th>\n",
       "      <td>chr1H</td>\n",
       "      <td>pgsb</td>\n",
       "      <td>exon</td>\n",
       "      <td>79757</td>\n",
       "      <td>79799</td>\n",
       "      <td>.</td>\n",
       "      <td>-</td>\n",
       "      <td>.</td>\n",
       "      <td>ID=HORVU.MOREX.r3.1HG0000040.1.exon4</td>\n",
       "    </tr>\n",
       "  </tbody>\n",
       "</table>\n",
       "</div>"
      ],
      "text/plain": [
       "      chr source  type  start    end score strand phase  \\\n",
       "2   chr1H   pgsb  exon  76744  77373     .      +     .   \n",
       "7   chr1H   pgsb  exon  78284  78954     .      -     .   \n",
       "9   chr1H   pgsb  exon  79063  79104     .      -     .   \n",
       "11  chr1H   pgsb  exon  79609  79676     .      -     .   \n",
       "13  chr1H   pgsb  exon  79757  79799     .      -     .   \n",
       "\n",
       "                              attributes  \n",
       "2   ID=HORVU.MOREX.r3.1HG0000030.1.exon1  \n",
       "7   ID=HORVU.MOREX.r3.1HG0000040.1.exon1  \n",
       "9   ID=HORVU.MOREX.r3.1HG0000040.1.exon2  \n",
       "11  ID=HORVU.MOREX.r3.1HG0000040.1.exon3  \n",
       "13  ID=HORVU.MOREX.r3.1HG0000040.1.exon4  "
      ]
     },
     "execution_count": 11,
     "metadata": {},
     "output_type": "execute_result"
    }
   ],
   "source": [
    "### --- Building a separate dataframe containing all exons\n",
    "exon_Hv_MorexHC = df_Hv_MorexHC.loc[df_Hv_MorexHC['type'].isin(['exon'])]\n",
    "exon_Hv_MorexHC.head()"
   ]
  },
  {
   "cell_type": "code",
   "execution_count": 12,
   "metadata": {},
   "outputs": [],
   "source": [
    "### --- Exporting the exon dataframe to a tsv file \n",
    "exon_Hv_MorexHC.to_csv('Data/Hv_MorexHC_exon.tsv',sep='\\t',index=False,header=False)"
   ]
  },
  {
   "cell_type": "code",
   "execution_count": 14,
   "metadata": {
    "scrolled": true
   },
   "outputs": [
    {
     "data": {
      "text/html": [
       "<div>\n",
       "<style scoped>\n",
       "    .dataframe tbody tr th:only-of-type {\n",
       "        vertical-align: middle;\n",
       "    }\n",
       "\n",
       "    .dataframe tbody tr th {\n",
       "        vertical-align: top;\n",
       "    }\n",
       "\n",
       "    .dataframe thead th {\n",
       "        text-align: right;\n",
       "    }\n",
       "</style>\n",
       "<table border=\"1\" class=\"dataframe\">\n",
       "  <thead>\n",
       "    <tr style=\"text-align: right;\">\n",
       "      <th></th>\n",
       "      <th>chr</th>\n",
       "      <th>source</th>\n",
       "      <th>type</th>\n",
       "      <th>start</th>\n",
       "      <th>end</th>\n",
       "      <th>score</th>\n",
       "      <th>strand</th>\n",
       "      <th>phase</th>\n",
       "      <th>attributes</th>\n",
       "    </tr>\n",
       "  </thead>\n",
       "  <tbody>\n",
       "    <tr>\n",
       "      <th>0</th>\n",
       "      <td>chr1H</td>\n",
       "      <td>pgsb</td>\n",
       "      <td>gene</td>\n",
       "      <td>76744</td>\n",
       "      <td>77373</td>\n",
       "      <td>.</td>\n",
       "      <td>+</td>\n",
       "      <td>.</td>\n",
       "      <td>ID=HORVU.MOREX.r3.1HG0000030</td>\n",
       "    </tr>\n",
       "    <tr>\n",
       "      <th>1</th>\n",
       "      <td>chr1H</td>\n",
       "      <td>pgsb</td>\n",
       "      <td>mRNA</td>\n",
       "      <td>76744</td>\n",
       "      <td>77373</td>\n",
       "      <td>.</td>\n",
       "      <td>+</td>\n",
       "      <td>.</td>\n",
       "      <td>ID=HORVU.MOREX.r3.1HG0000030.1</td>\n",
       "    </tr>\n",
       "    <tr>\n",
       "      <th>2</th>\n",
       "      <td>chr1H</td>\n",
       "      <td>pgsb</td>\n",
       "      <td>exon</td>\n",
       "      <td>76744</td>\n",
       "      <td>77373</td>\n",
       "      <td>.</td>\n",
       "      <td>+</td>\n",
       "      <td>.</td>\n",
       "      <td>ID=HORVU.MOREX.r3.1HG0000030.1.exon1</td>\n",
       "    </tr>\n",
       "    <tr>\n",
       "      <th>3</th>\n",
       "      <td>chr1H</td>\n",
       "      <td>pgsb</td>\n",
       "      <td>CDS</td>\n",
       "      <td>76744</td>\n",
       "      <td>77373</td>\n",
       "      <td>.</td>\n",
       "      <td>+</td>\n",
       "      <td>0</td>\n",
       "      <td>ID=HORVU.MOREX.r3.1HG0000030.1.CDS1</td>\n",
       "    </tr>\n",
       "    <tr>\n",
       "      <th>48</th>\n",
       "      <td>chr1H</td>\n",
       "      <td>pgsb</td>\n",
       "      <td>gene</td>\n",
       "      <td>132221</td>\n",
       "      <td>138736</td>\n",
       "      <td>.</td>\n",
       "      <td>+</td>\n",
       "      <td>.</td>\n",
       "      <td>ID=HORVU.MOREX.r3.1HG0000060</td>\n",
       "    </tr>\n",
       "  </tbody>\n",
       "</table>\n",
       "</div>"
      ],
      "text/plain": [
       "      chr source  type   start     end score strand phase  \\\n",
       "0   chr1H   pgsb  gene   76744   77373     .      +     .   \n",
       "1   chr1H   pgsb  mRNA   76744   77373     .      +     .   \n",
       "2   chr1H   pgsb  exon   76744   77373     .      +     .   \n",
       "3   chr1H   pgsb   CDS   76744   77373     .      +     0   \n",
       "48  chr1H   pgsb  gene  132221  138736     .      +     .   \n",
       "\n",
       "                              attributes  \n",
       "0           ID=HORVU.MOREX.r3.1HG0000030  \n",
       "1         ID=HORVU.MOREX.r3.1HG0000030.1  \n",
       "2   ID=HORVU.MOREX.r3.1HG0000030.1.exon1  \n",
       "3    ID=HORVU.MOREX.r3.1HG0000030.1.CDS1  \n",
       "48          ID=HORVU.MOREX.r3.1HG0000060  "
      ]
     },
     "execution_count": 14,
     "metadata": {},
     "output_type": "execute_result"
    }
   ],
   "source": [
    "### --- Keeping in a separated dataframe the forward strands\n",
    "forw_Hv_MorexHC = df_Hv_MorexHC.loc[df_Hv_MorexHC['strand'].isin(['+'])]\n",
    "forw_Hv_MorexHC.head()"
   ]
  },
  {
   "cell_type": "code",
   "execution_count": 15,
   "metadata": {},
   "outputs": [
    {
     "data": {
      "text/html": [
       "<div>\n",
       "<style scoped>\n",
       "    .dataframe tbody tr th:only-of-type {\n",
       "        vertical-align: middle;\n",
       "    }\n",
       "\n",
       "    .dataframe tbody tr th {\n",
       "        vertical-align: top;\n",
       "    }\n",
       "\n",
       "    .dataframe thead th {\n",
       "        text-align: right;\n",
       "    }\n",
       "</style>\n",
       "<table border=\"1\" class=\"dataframe\">\n",
       "  <thead>\n",
       "    <tr style=\"text-align: right;\">\n",
       "      <th></th>\n",
       "      <th>chr</th>\n",
       "      <th>source</th>\n",
       "      <th>type</th>\n",
       "      <th>start</th>\n",
       "      <th>end</th>\n",
       "      <th>score</th>\n",
       "      <th>strand</th>\n",
       "      <th>phase</th>\n",
       "      <th>attributes</th>\n",
       "    </tr>\n",
       "  </thead>\n",
       "  <tbody>\n",
       "    <tr>\n",
       "      <th>4</th>\n",
       "      <td>chr1H</td>\n",
       "      <td>pgsb</td>\n",
       "      <td>gene</td>\n",
       "      <td>78284</td>\n",
       "      <td>81892</td>\n",
       "      <td>.</td>\n",
       "      <td>-</td>\n",
       "      <td>.</td>\n",
       "      <td>ID=HORVU.MOREX.r3.1HG0000040</td>\n",
       "    </tr>\n",
       "    <tr>\n",
       "      <th>5</th>\n",
       "      <td>chr1H</td>\n",
       "      <td>pgsb</td>\n",
       "      <td>mRNA</td>\n",
       "      <td>78284</td>\n",
       "      <td>81892</td>\n",
       "      <td>.</td>\n",
       "      <td>-</td>\n",
       "      <td>.</td>\n",
       "      <td>ID=HORVU.MOREX.r3.1HG0000040.1</td>\n",
       "    </tr>\n",
       "    <tr>\n",
       "      <th>6</th>\n",
       "      <td>chr1H</td>\n",
       "      <td>pgsb</td>\n",
       "      <td>three_prime_UTR</td>\n",
       "      <td>78284</td>\n",
       "      <td>78510</td>\n",
       "      <td>.</td>\n",
       "      <td>-</td>\n",
       "      <td>.</td>\n",
       "      <td>ID=HORVU.MOREX.r3.1HG0000040.1.three_prime_UTR1</td>\n",
       "    </tr>\n",
       "    <tr>\n",
       "      <th>7</th>\n",
       "      <td>chr1H</td>\n",
       "      <td>pgsb</td>\n",
       "      <td>exon</td>\n",
       "      <td>78284</td>\n",
       "      <td>78954</td>\n",
       "      <td>.</td>\n",
       "      <td>-</td>\n",
       "      <td>.</td>\n",
       "      <td>ID=HORVU.MOREX.r3.1HG0000040.1.exon1</td>\n",
       "    </tr>\n",
       "    <tr>\n",
       "      <th>8</th>\n",
       "      <td>chr1H</td>\n",
       "      <td>pgsb</td>\n",
       "      <td>CDS</td>\n",
       "      <td>78511</td>\n",
       "      <td>78954</td>\n",
       "      <td>.</td>\n",
       "      <td>-</td>\n",
       "      <td>0</td>\n",
       "      <td>ID=HORVU.MOREX.r3.1HG0000040.1.CDS1</td>\n",
       "    </tr>\n",
       "  </tbody>\n",
       "</table>\n",
       "</div>"
      ],
      "text/plain": [
       "     chr source             type  start    end score strand phase  \\\n",
       "4  chr1H   pgsb             gene  78284  81892     .      -     .   \n",
       "5  chr1H   pgsb             mRNA  78284  81892     .      -     .   \n",
       "6  chr1H   pgsb  three_prime_UTR  78284  78510     .      -     .   \n",
       "7  chr1H   pgsb             exon  78284  78954     .      -     .   \n",
       "8  chr1H   pgsb              CDS  78511  78954     .      -     0   \n",
       "\n",
       "                                        attributes  \n",
       "4                     ID=HORVU.MOREX.r3.1HG0000040  \n",
       "5                   ID=HORVU.MOREX.r3.1HG0000040.1  \n",
       "6  ID=HORVU.MOREX.r3.1HG0000040.1.three_prime_UTR1  \n",
       "7             ID=HORVU.MOREX.r3.1HG0000040.1.exon1  \n",
       "8              ID=HORVU.MOREX.r3.1HG0000040.1.CDS1  "
      ]
     },
     "execution_count": 15,
     "metadata": {},
     "output_type": "execute_result"
    }
   ],
   "source": [
    "### --- Keeping in a separated dataframe the reverse strands\n",
    "rev_Hv_MorexHC = df_Hv_MorexHC.loc[df_Hv_MorexHC['strand'].isin(['-'])]\n",
    "rev_Hv_MorexHC.head()"
   ]
  },
  {
   "cell_type": "code",
   "execution_count": 16,
   "metadata": {
    "scrolled": true
   },
   "outputs": [
    {
     "data": {
      "text/html": [
       "<div>\n",
       "<style scoped>\n",
       "    .dataframe tbody tr th:only-of-type {\n",
       "        vertical-align: middle;\n",
       "    }\n",
       "\n",
       "    .dataframe tbody tr th {\n",
       "        vertical-align: top;\n",
       "    }\n",
       "\n",
       "    .dataframe thead th {\n",
       "        text-align: right;\n",
       "    }\n",
       "</style>\n",
       "<table border=\"1\" class=\"dataframe\">\n",
       "  <thead>\n",
       "    <tr style=\"text-align: right;\">\n",
       "      <th></th>\n",
       "      <th>chr</th>\n",
       "      <th>source</th>\n",
       "      <th>type</th>\n",
       "      <th>start</th>\n",
       "      <th>end</th>\n",
       "      <th>score</th>\n",
       "      <th>strand</th>\n",
       "      <th>phase</th>\n",
       "      <th>attributes</th>\n",
       "    </tr>\n",
       "  </thead>\n",
       "  <tbody>\n",
       "    <tr>\n",
       "      <th>50</th>\n",
       "      <td>chr1H</td>\n",
       "      <td>pgsb</td>\n",
       "      <td>five_prime_UTR</td>\n",
       "      <td>132221</td>\n",
       "      <td>132375</td>\n",
       "      <td>.</td>\n",
       "      <td>+</td>\n",
       "      <td>.</td>\n",
       "      <td>ID=HORVU.MOREX.r3.1HG0000060.1.five_prime_UTR1</td>\n",
       "    </tr>\n",
       "    <tr>\n",
       "      <th>93</th>\n",
       "      <td>chr1H</td>\n",
       "      <td>pgsb</td>\n",
       "      <td>three_prime_UTR</td>\n",
       "      <td>138505</td>\n",
       "      <td>138736</td>\n",
       "      <td>.</td>\n",
       "      <td>+</td>\n",
       "      <td>.</td>\n",
       "      <td>ID=HORVU.MOREX.r3.1HG0000060.1.three_prime_UTR2</td>\n",
       "    </tr>\n",
       "    <tr>\n",
       "      <th>97</th>\n",
       "      <td>chr1H</td>\n",
       "      <td>pgsb</td>\n",
       "      <td>five_prime_UTR</td>\n",
       "      <td>146607</td>\n",
       "      <td>146749</td>\n",
       "      <td>.</td>\n",
       "      <td>+</td>\n",
       "      <td>.</td>\n",
       "      <td>ID=HORVU.MOREX.r3.1HG0000070.1.five_prime_UTR1</td>\n",
       "    </tr>\n",
       "    <tr>\n",
       "      <th>98</th>\n",
       "      <td>chr1H</td>\n",
       "      <td>pgsb</td>\n",
       "      <td>five_prime_UTR</td>\n",
       "      <td>146981</td>\n",
       "      <td>146996</td>\n",
       "      <td>.</td>\n",
       "      <td>+</td>\n",
       "      <td>.</td>\n",
       "      <td>ID=HORVU.MOREX.r3.1HG0000070.1.five_prime_UTR2</td>\n",
       "    </tr>\n",
       "    <tr>\n",
       "      <th>103</th>\n",
       "      <td>chr1H</td>\n",
       "      <td>pgsb</td>\n",
       "      <td>three_prime_UTR</td>\n",
       "      <td>148229</td>\n",
       "      <td>148562</td>\n",
       "      <td>.</td>\n",
       "      <td>+</td>\n",
       "      <td>.</td>\n",
       "      <td>ID=HORVU.MOREX.r3.1HG0000070.1.three_prime_UTR3</td>\n",
       "    </tr>\n",
       "  </tbody>\n",
       "</table>\n",
       "</div>"
      ],
      "text/plain": [
       "       chr source             type   start     end score strand phase  \\\n",
       "50   chr1H   pgsb   five_prime_UTR  132221  132375     .      +     .   \n",
       "93   chr1H   pgsb  three_prime_UTR  138505  138736     .      +     .   \n",
       "97   chr1H   pgsb   five_prime_UTR  146607  146749     .      +     .   \n",
       "98   chr1H   pgsb   five_prime_UTR  146981  146996     .      +     .   \n",
       "103  chr1H   pgsb  three_prime_UTR  148229  148562     .      +     .   \n",
       "\n",
       "                                          attributes  \n",
       "50    ID=HORVU.MOREX.r3.1HG0000060.1.five_prime_UTR1  \n",
       "93   ID=HORVU.MOREX.r3.1HG0000060.1.three_prime_UTR2  \n",
       "97    ID=HORVU.MOREX.r3.1HG0000070.1.five_prime_UTR1  \n",
       "98    ID=HORVU.MOREX.r3.1HG0000070.1.five_prime_UTR2  \n",
       "103  ID=HORVU.MOREX.r3.1HG0000070.1.three_prime_UTR3  "
      ]
     },
     "execution_count": 16,
     "metadata": {},
     "output_type": "execute_result"
    }
   ],
   "source": [
    "### --- Keeping in a separated dataframe the UTR regions on the forward strands\n",
    "UTR_forw_Hv_MorexHC = forw_Hv_MorexHC.loc[df_Hv_MorexHC['type'].isin(['three_prime_UTR','five_prime_UTR'])]\n",
    "UTR_forw_Hv_MorexHC.head()"
   ]
  },
  {
   "cell_type": "code",
   "execution_count": 17,
   "metadata": {},
   "outputs": [],
   "source": [
    "### --- Writing to a tsv formatted file the UTR_df_forw dataframe\n",
    "UTR_forw_Hv_MorexHC.to_csv('Data/Hv_MorexHC_UTRforw.tsv',sep='\\t',index=False,header=False)"
   ]
  },
  {
   "cell_type": "code",
   "execution_count": 18,
   "metadata": {
    "scrolled": false
   },
   "outputs": [
    {
     "data": {
      "text/html": [
       "<div>\n",
       "<style scoped>\n",
       "    .dataframe tbody tr th:only-of-type {\n",
       "        vertical-align: middle;\n",
       "    }\n",
       "\n",
       "    .dataframe tbody tr th {\n",
       "        vertical-align: top;\n",
       "    }\n",
       "\n",
       "    .dataframe thead th {\n",
       "        text-align: right;\n",
       "    }\n",
       "</style>\n",
       "<table border=\"1\" class=\"dataframe\">\n",
       "  <thead>\n",
       "    <tr style=\"text-align: right;\">\n",
       "      <th></th>\n",
       "      <th>chr</th>\n",
       "      <th>source</th>\n",
       "      <th>type</th>\n",
       "      <th>start</th>\n",
       "      <th>end</th>\n",
       "      <th>score</th>\n",
       "      <th>strand</th>\n",
       "      <th>phase</th>\n",
       "      <th>attributes</th>\n",
       "    </tr>\n",
       "  </thead>\n",
       "  <tbody>\n",
       "    <tr>\n",
       "      <th>6</th>\n",
       "      <td>chr1H</td>\n",
       "      <td>pgsb</td>\n",
       "      <td>three_prime_UTR</td>\n",
       "      <td>78284</td>\n",
       "      <td>78510</td>\n",
       "      <td>.</td>\n",
       "      <td>-</td>\n",
       "      <td>.</td>\n",
       "      <td>ID=HORVU.MOREX.r3.1HG0000040.1.three_prime_UTR1</td>\n",
       "    </tr>\n",
       "    <tr>\n",
       "      <th>27</th>\n",
       "      <td>chr1H</td>\n",
       "      <td>pgsb</td>\n",
       "      <td>five_prime_UTR</td>\n",
       "      <td>81706</td>\n",
       "      <td>81892</td>\n",
       "      <td>.</td>\n",
       "      <td>-</td>\n",
       "      <td>.</td>\n",
       "      <td>ID=HORVU.MOREX.r3.1HG0000040.1.five_prime_UTR2</td>\n",
       "    </tr>\n",
       "    <tr>\n",
       "      <th>30</th>\n",
       "      <td>chr1H</td>\n",
       "      <td>pgsb</td>\n",
       "      <td>three_prime_UTR</td>\n",
       "      <td>84091</td>\n",
       "      <td>84317</td>\n",
       "      <td>.</td>\n",
       "      <td>-</td>\n",
       "      <td>.</td>\n",
       "      <td>ID=HORVU.MOREX.r3.1HG0000050.1.three_prime_UTR1</td>\n",
       "    </tr>\n",
       "    <tr>\n",
       "      <th>47</th>\n",
       "      <td>chr1H</td>\n",
       "      <td>pgsb</td>\n",
       "      <td>five_prime_UTR</td>\n",
       "      <td>86846</td>\n",
       "      <td>87063</td>\n",
       "      <td>.</td>\n",
       "      <td>-</td>\n",
       "      <td>.</td>\n",
       "      <td>ID=HORVU.MOREX.r3.1HG0000050.1.five_prime_UTR2</td>\n",
       "    </tr>\n",
       "    <tr>\n",
       "      <th>126</th>\n",
       "      <td>chr1H</td>\n",
       "      <td>pgsb</td>\n",
       "      <td>three_prime_UTR</td>\n",
       "      <td>156767</td>\n",
       "      <td>157203</td>\n",
       "      <td>.</td>\n",
       "      <td>-</td>\n",
       "      <td>.</td>\n",
       "      <td>ID=HORVU.MOREX.r3.1HG0000090.1.three_prime_UTR1</td>\n",
       "    </tr>\n",
       "  </tbody>\n",
       "</table>\n",
       "</div>"
      ],
      "text/plain": [
       "       chr source             type   start     end score strand phase  \\\n",
       "6    chr1H   pgsb  three_prime_UTR   78284   78510     .      -     .   \n",
       "27   chr1H   pgsb   five_prime_UTR   81706   81892     .      -     .   \n",
       "30   chr1H   pgsb  three_prime_UTR   84091   84317     .      -     .   \n",
       "47   chr1H   pgsb   five_prime_UTR   86846   87063     .      -     .   \n",
       "126  chr1H   pgsb  three_prime_UTR  156767  157203     .      -     .   \n",
       "\n",
       "                                          attributes  \n",
       "6    ID=HORVU.MOREX.r3.1HG0000040.1.three_prime_UTR1  \n",
       "27    ID=HORVU.MOREX.r3.1HG0000040.1.five_prime_UTR2  \n",
       "30   ID=HORVU.MOREX.r3.1HG0000050.1.three_prime_UTR1  \n",
       "47    ID=HORVU.MOREX.r3.1HG0000050.1.five_prime_UTR2  \n",
       "126  ID=HORVU.MOREX.r3.1HG0000090.1.three_prime_UTR1  "
      ]
     },
     "execution_count": 18,
     "metadata": {},
     "output_type": "execute_result"
    }
   ],
   "source": [
    "### --- Keeping in a separated dataframe the UTR regions on the reverse strands\n",
    "UTR_rev_Hv_MorexHC = rev_Hv_MorexHC.loc[df_Hv_MorexHC['type'].isin(['three_prime_UTR','five_prime_UTR'])]\n",
    "UTR_rev_Hv_MorexHC.head()"
   ]
  },
  {
   "cell_type": "code",
   "execution_count": 19,
   "metadata": {},
   "outputs": [],
   "source": [
    "### --- Writing to a tsv formatted file the UTR_df_rev dataframe\n",
    "UTR_rev_Hv_MorexHC.to_csv('Data/Hv_MorexHC_UTRrev.tsv',sep='\\t',index=False,header=False)"
   ]
  },
  {
   "cell_type": "markdown",
   "metadata": {},
   "source": [
    "### 2.1.3 Extracting introns from the whole genome"
   ]
  },
  {
   "cell_type": "code",
   "execution_count": 2,
   "metadata": {},
   "outputs": [],
   "source": [
    "### --- Function to extract introns from the whole genome\n",
    "### --- Infile is a file like Hv_MorexHC_exon.tsv \n",
    "### --- Outfile will be written thanks to this function\n",
    "### --- If there are two or more exons belonging to the same mRNA one after the other it compute the introns separating them\n",
    "def extract_tot_introns(infile, outfile):\n",
    "    introns = open(outfile, 'a') # Output/Hv_Morex_introns.tsv\n",
    "    introns.write('ID'+'\\t'+'type'+'\\t'+'start'+'\\t'+'end'+'\\t'+'length') \n",
    "    with open(infile) as f: # Data/Hv_Morex_exon.tsv\n",
    "        lines = f.readlines()\n",
    "        for i in range(0, len(lines)):\n",
    "            if i+1 == len(lines): # This is to avoid out of range error\n",
    "                break \n",
    "            else:\n",
    "                line = lines[i]\n",
    "                line = line.rstrip()\n",
    "                line = line.split()\n",
    "                next_line = lines[i+1]\n",
    "                next_line = lines[i+1].rstrip()\n",
    "                next_line = lines[i+1].split()\n",
    "                if '.'.join(line[8].split('.')[0:5]) != '.'.join(next_line[8].split('.')[0:5]): continue # Checking if the next exon has the same ID of the one we are at\n",
    "                #print('The intron coordinates at %s are from %d to %d and the intron length is %d.' % (line[8][:30], int(line[4])+1, int(next_line[3])-1, int(next_line[3])-1 - int(line[4])+1))\n",
    "                introns.write('\\n'+'.'.join(line[8].split('.')[0:5])+'\\t'+ 'intron ' +'\\t'+str(int(line[4])+1)+'\\t'+str(int(next_line[3])-1)+'\\t'+str(int(next_line[3])-1-int(line[4])+1))\n",
    "    introns.close()\n"
   ]
  },
  {
   "cell_type": "code",
   "execution_count": 21,
   "metadata": {},
   "outputs": [],
   "source": [
    "### --- Extracting introns from Hv_MorexHC\n",
    "extract_tot_introns('Data/Hv_MorexHC_exon.tsv', 'Output/Hv_MorexHC_introns.tsv')"
   ]
  },
  {
   "cell_type": "code",
   "execution_count": 22,
   "metadata": {
    "scrolled": false
   },
   "outputs": [
    {
     "data": {
      "text/html": [
       "<div>\n",
       "<style scoped>\n",
       "    .dataframe tbody tr th:only-of-type {\n",
       "        vertical-align: middle;\n",
       "    }\n",
       "\n",
       "    .dataframe tbody tr th {\n",
       "        vertical-align: top;\n",
       "    }\n",
       "\n",
       "    .dataframe thead th {\n",
       "        text-align: right;\n",
       "    }\n",
       "</style>\n",
       "<table border=\"1\" class=\"dataframe\">\n",
       "  <thead>\n",
       "    <tr style=\"text-align: right;\">\n",
       "      <th></th>\n",
       "      <th>ID</th>\n",
       "      <th>type</th>\n",
       "      <th>start</th>\n",
       "      <th>end</th>\n",
       "      <th>length</th>\n",
       "    </tr>\n",
       "  </thead>\n",
       "  <tbody>\n",
       "    <tr>\n",
       "      <th>0</th>\n",
       "      <td>ID=HORVU.MOREX.r3.1HG0000040.1</td>\n",
       "      <td>intron</td>\n",
       "      <td>78955</td>\n",
       "      <td>79062</td>\n",
       "      <td>109</td>\n",
       "    </tr>\n",
       "    <tr>\n",
       "      <th>1</th>\n",
       "      <td>ID=HORVU.MOREX.r3.1HG0000040.1</td>\n",
       "      <td>intron</td>\n",
       "      <td>79105</td>\n",
       "      <td>79608</td>\n",
       "      <td>505</td>\n",
       "    </tr>\n",
       "    <tr>\n",
       "      <th>2</th>\n",
       "      <td>ID=HORVU.MOREX.r3.1HG0000040.1</td>\n",
       "      <td>intron</td>\n",
       "      <td>79677</td>\n",
       "      <td>79756</td>\n",
       "      <td>81</td>\n",
       "    </tr>\n",
       "    <tr>\n",
       "      <th>3</th>\n",
       "      <td>ID=HORVU.MOREX.r3.1HG0000040.1</td>\n",
       "      <td>intron</td>\n",
       "      <td>79800</td>\n",
       "      <td>79900</td>\n",
       "      <td>102</td>\n",
       "    </tr>\n",
       "    <tr>\n",
       "      <th>4</th>\n",
       "      <td>ID=HORVU.MOREX.r3.1HG0000040.1</td>\n",
       "      <td>intron</td>\n",
       "      <td>79933</td>\n",
       "      <td>80484</td>\n",
       "      <td>553</td>\n",
       "    </tr>\n",
       "    <tr>\n",
       "      <th>...</th>\n",
       "      <td>...</td>\n",
       "      <td>...</td>\n",
       "      <td>...</td>\n",
       "      <td>...</td>\n",
       "      <td>...</td>\n",
       "    </tr>\n",
       "    <tr>\n",
       "      <th>95</th>\n",
       "      <td>ID=HORVU.MOREX.r3.1HG0000250.1</td>\n",
       "      <td>intron</td>\n",
       "      <td>604220</td>\n",
       "      <td>604743</td>\n",
       "      <td>525</td>\n",
       "    </tr>\n",
       "    <tr>\n",
       "      <th>96</th>\n",
       "      <td>ID=HORVU.MOREX.r3.1HG0000260.1</td>\n",
       "      <td>intron</td>\n",
       "      <td>669330</td>\n",
       "      <td>669483</td>\n",
       "      <td>155</td>\n",
       "    </tr>\n",
       "    <tr>\n",
       "      <th>97</th>\n",
       "      <td>ID=HORVU.MOREX.r3.1HG0000260.1</td>\n",
       "      <td>intron</td>\n",
       "      <td>669685</td>\n",
       "      <td>669841</td>\n",
       "      <td>158</td>\n",
       "    </tr>\n",
       "    <tr>\n",
       "      <th>98</th>\n",
       "      <td>ID=HORVU.MOREX.r3.1HG0000280.1</td>\n",
       "      <td>intron</td>\n",
       "      <td>711070</td>\n",
       "      <td>711148</td>\n",
       "      <td>80</td>\n",
       "    </tr>\n",
       "    <tr>\n",
       "      <th>99</th>\n",
       "      <td>ID=HORVU.MOREX.r3.1HG0000280.1</td>\n",
       "      <td>intron</td>\n",
       "      <td>711550</td>\n",
       "      <td>712102</td>\n",
       "      <td>554</td>\n",
       "    </tr>\n",
       "  </tbody>\n",
       "</table>\n",
       "<p>100 rows × 5 columns</p>\n",
       "</div>"
      ],
      "text/plain": [
       "                                ID     type   start     end  length\n",
       "0   ID=HORVU.MOREX.r3.1HG0000040.1  intron    78955   79062     109\n",
       "1   ID=HORVU.MOREX.r3.1HG0000040.1  intron    79105   79608     505\n",
       "2   ID=HORVU.MOREX.r3.1HG0000040.1  intron    79677   79756      81\n",
       "3   ID=HORVU.MOREX.r3.1HG0000040.1  intron    79800   79900     102\n",
       "4   ID=HORVU.MOREX.r3.1HG0000040.1  intron    79933   80484     553\n",
       "..                             ...      ...     ...     ...     ...\n",
       "95  ID=HORVU.MOREX.r3.1HG0000250.1  intron   604220  604743     525\n",
       "96  ID=HORVU.MOREX.r3.1HG0000260.1  intron   669330  669483     155\n",
       "97  ID=HORVU.MOREX.r3.1HG0000260.1  intron   669685  669841     158\n",
       "98  ID=HORVU.MOREX.r3.1HG0000280.1  intron   711070  711148      80\n",
       "99  ID=HORVU.MOREX.r3.1HG0000280.1  intron   711550  712102     554\n",
       "\n",
       "[100 rows x 5 columns]"
      ]
     },
     "execution_count": 22,
     "metadata": {},
     "output_type": "execute_result"
    }
   ],
   "source": [
    "introns_Hv_MorexHC = pd.read_csv('Output/Hv_MorexHC_introns.tsv', sep = '\\t')\n",
    "introns_Hv_MorexHC[:100]"
   ]
  },
  {
   "cell_type": "code",
   "execution_count": 3,
   "metadata": {},
   "outputs": [],
   "source": [
    "### --- Function to count introns within a dataframe made of exons formatted like exon_Hv_MorexHC\n",
    "### --- If I use i[:28] I consider the gene, If I use i[:31] I'm at level of mRNA\n",
    "### --- Actually using 31 I would avoid the problem of certain genes having >= 10 transcripts\n",
    "def counting_introns_type(in_dataframe):\n",
    "    counts = dict()\n",
    "    for i in in_dataframe['attributes']:\n",
    "        counts[i[:28]] = counts.get(i[:28], 0) + 1\n",
    "    return counts"
   ]
  },
  {
   "cell_type": "code",
   "execution_count": 58,
   "metadata": {},
   "outputs": [],
   "source": [
    "### --- Counting introns type in Hv_MorexHC\n",
    "introns_dictionary_Hv_MorexHC = counting_introns_type(exon_Hv_MorexHC)"
   ]
  },
  {
   "cell_type": "code",
   "execution_count": 4,
   "metadata": {
    "scrolled": true
   },
   "outputs": [],
   "source": [
    "### --- Function to check intronless (no introns), intronpoor (<= 3 introns) and intron rich (> 3 introns)\n",
    "### --- This division is made on the following assumption: n° introns = n° exons - 1\n",
    "def splitting_introns_type(dictionary):\n",
    "    intronless = 0\n",
    "    intronpoor = 0\n",
    "    intronrich = 0\n",
    "    intronless_list = []\n",
    "    intronpoor_list = []\n",
    "    intronrich_list = []\n",
    "    for i in dictionary:\n",
    "        if dictionary[i] == 1:\n",
    "            intronless += 1\n",
    "            intronless_list.append(i)\n",
    "        elif dictionary[i]>1 and dictionary[i]<= 4:\n",
    "            intronpoor += 1\n",
    "            intronpoor_list.append(i)\n",
    "        elif dictionary[i] > 4:\n",
    "            intronrich += 1\n",
    "            intronrich_list.append(i)\n",
    "\n",
    "    print('Intronless are: %d' % intronless)\n",
    "    print('Intronpoor are: %d' % intronpoor)\n",
    "    print('Intronrich are: %d' % intronrich)\n",
    "    \n",
    "    return (intronless, intronpoor, intronrich, intronless_list, intronpoor_list, intronrich_list)"
   ]
  },
  {
   "cell_type": "code",
   "execution_count": 106,
   "metadata": {
    "scrolled": false
   },
   "outputs": [
    {
     "name": "stdout",
     "output_type": "stream",
     "text": [
      "Intronless are: 11537\n",
      "Intronpoor are: 12997\n",
      "Intronrich are: 11293\n"
     ]
    }
   ],
   "source": [
    "n_intronless_Hv_MorexHC, n_intronpoor_Hv_MorexHC, n_intronrich_Hv_MorexHC, intronless_Hv_MorexHC, intronpoor_Hv_MorexHC, intronrich_Hv_MorexHC = splitting_introns_type(introns_dictionary_Hv_MorexHC)"
   ]
  },
  {
   "cell_type": "code",
   "execution_count": 80,
   "metadata": {},
   "outputs": [
    {
     "data": {
      "image/png": "[encoded data removed]",
      "text/plain": [
       "<Figure size 720x504 with 1 Axes>"
      ]
     },
     "metadata": {},
     "output_type": "display_data"
    }
   ],
   "source": [
    "genes = ['Intronless', 'Intronpoor', 'Intronrich']\n",
    "data = [11537, 12997, 11293]\n",
    "fig = plt.figure(figsize =(10, 7))\n",
    "plt.pie(data, labels = genes, autopct='%1.0f%%')\n",
    "plt.title(\"Genes Hv_MorexHC Distribution\", bbox={'facecolor':'0.8', 'pad':5})\n",
    "plt.show()"
   ]
  },
  {
   "cell_type": "code",
   "execution_count": 102,
   "metadata": {},
   "outputs": [],
   "source": [
    "### --- Creating the list of Hv_MorexHC gene IDs to check the number of transcripts using command line\n",
    "intronless_file = open('Output/Hv_MorexHC_intronlessIDs.txt', 'a')\n",
    "intronpoor_file = open('Output/Hv_MorexHC_intronpoorIDs.txt', 'a')\n",
    "intronrich_file = open('Output/Hv_MorexHC_intronrichIDs.txt', 'a')\n",
    "for i in range(len(intronless_Hv_MorexHC)):\n",
    "    if i == len(intronless_Hv_MorexHC) -1:\n",
    "        intronless_file.write(intronless_Hv_MorexHC[i])\n",
    "    else:\n",
    "        intronless_file.write(intronless_Hv_MorexHC[i] + '\\n')\n",
    "intronless_file.close()\n",
    "\n",
    "for i in range(len(intronpoor_Hv_MorexHC)):\n",
    "    if i == len(intronpoor_Hv_MorexHC) -1:\n",
    "        intronpoor_file.write(intronpoor_Hv_MorexHC[i])\n",
    "    else:\n",
    "        intronpoor_file.write(intronpoor_Hv_MorexHC[i] + '\\n')\n",
    "intronpoor_file.close()\n",
    "\n",
    "for i in range(len(intronrich_Hv_MorexHC)):\n",
    "    if i == len(intronrich_Hv_MorexHC) -1:\n",
    "        intronrich_file.write(intronrich_Hv_MorexHC[i])\n",
    "    else:\n",
    "        intronrich_file.write(intronrich_Hv_MorexHC[i]+'\\n')\n",
    "intronrich_file.close()\n"
   ]
  },
  {
   "cell_type": "code",
   "execution_count": 104,
   "metadata": {},
   "outputs": [],
   "source": [
    "### --- Storing the number of transcripts in intron-less/poor/rich genes within a variable \n",
    "n_mRNA_intronless_Hv_MorexHC = ! grep -f Output/Hv_MorexHC_intronlessIDs.txt Data/Hv_Morex_nohashtag.pgsb.Jul2020.HC.gff3 | awk -F '\\t' '{print $3}' | grep -w 'mRNA' | wc -l\n",
    "n_mRNA_intronpoor_Hv_MorexHC = ! grep -f Output/Hv_MorexHC_intronpoorIDs.txt Data/Hv_Morex_nohashtag.pgsb.Jul2020.HC.gff3 | awk -F '\\t' '{print $3}' | grep -w 'mRNA' | wc -l\n",
    "n_mRNA_intronrich_Hv_MorexHC = ! grep -f Output/Hv_MorexHC_intronrichIDs.txt Data/Hv_Morex_nohashtag.pgsb.Jul2020.HC.gff3 | awk -F '\\t' '{print $3}' | grep -w 'mRNA' | wc -l"
   ]
  },
  {
   "cell_type": "code",
   "execution_count": 116,
   "metadata": {},
   "outputs": [
    {
     "name": "stdout",
     "output_type": "stream",
     "text": [
      "1.0\n",
      "1.0041548049549895\n",
      "1.1843619941556716\n"
     ]
    }
   ],
   "source": [
    "### --- Checking the average number of transcripts for each gene-type\n",
    "avg_mRNA_intronless_Hv_MorexHC = int(n_mRNA_intronless_Hv_MorexHC[0])/n_intronless_Hv_MorexHC\n",
    "print(avg_mRNA_intronless_Hv_MorexHC)\n",
    "avg_mRNA_intronpoor_Hv_MorexHC = int(n_mRNA_intronpoor_Hv_MorexHC[0])/n_intronpoor_Hv_MorexHC\n",
    "print(avg_mRNA_intronpoor_Hv_MorexHC)\n",
    "avg_mRNA_intronrich_Hv_MorexHC = int(n_mRNA_intronrich_Hv_MorexHC[0])/n_intronrich_Hv_MorexHC\n",
    "print(avg_mRNA_intronrich_Hv_MorexHC)"
   ]
  },
  {
   "cell_type": "markdown",
   "metadata": {},
   "source": [
    "### 2.1.4 Extracting introns from UTR regions"
   ]
  },
  {
   "cell_type": "code",
   "execution_count": 5,
   "metadata": {},
   "outputs": [],
   "source": [
    "### --- Function to extract introns from UTR regions.\n",
    "### --- Infile is a file like Hv_Morex_UTRforw_introns.tsv \n",
    "### --- Outfile will be written thanks to this function\n",
    "### --- Being all on the same strand when two or more UTRs of the same type are one row after the other it means there is a intron separating them\n",
    "def extract_UTR_introns(infile, outfile):\n",
    "    UTR_introns_forw = open(outfile, 'a')\n",
    "    UTR_introns_forw.write('ID'+'\\t'+'type'+'\\t'+'start'+'\\t'+'end'+'\\t'+'length') # Defining the header\n",
    "    with open(infile) as f:\n",
    "        lines = f.readlines()\n",
    "        for i in range(0, len(lines)):\n",
    "            if i+1 == len(lines):\n",
    "                break\n",
    "            else:\n",
    "                line = lines[i]\n",
    "                line = line.rstrip()\n",
    "                line = line.split()\n",
    "                next_line = lines[i+1]\n",
    "                next_line = lines[i+1].rstrip()\n",
    "                next_line = lines[i+1].split()\n",
    "                if line[2] != next_line[2] or '.'.join(line[8].split('.')[0:5]) != '.'.join(next_line[8].split('.')[0:5]): continue\n",
    "                #print('The intron coordinates at %s are from %d to %d and the intron length is %d.' % ('.'.join(line[8].split('.')[0:5]), int(line[4])+1, int(next_line[3])-1, int(next_line[3])-1 - int(line[4])+1))\n",
    "                UTR_introns_forw.write('\\n'+'.'.join(line[8].split('.')[0:5])+'\\t'+ 'intron '+line[2]+'\\t'+str(int(line[4])+1)+'\\t'+str(int(next_line[3])-1)+'\\t'+str(int(next_line[3])-1-int(line[4])+1))\n",
    "    UTR_introns_forw.close()"
   ]
  },
  {
   "cell_type": "code",
   "execution_count": 33,
   "metadata": {},
   "outputs": [],
   "source": [
    "### --- Extracting introns from UTR forward Hv_MorexHC\n",
    "extract_UTR_introns('Data/Hv_MorexHC_UTRforw.tsv', 'Output/Hv_MorexHC_UTRforw_introns.tsv')"
   ]
  },
  {
   "cell_type": "code",
   "execution_count": 34,
   "metadata": {},
   "outputs": [],
   "source": [
    "### --- Extracting introns from UTR reverse Hv_MorexHC\n",
    "extract_UTR_introns('Data/Hv_MorexHC_UTRrev.tsv', 'Output/Hv_MorexHC_UTRrev_introns.tsv')"
   ]
  },
  {
   "cell_type": "code",
   "execution_count": 35,
   "metadata": {},
   "outputs": [
    {
     "data": {
      "text/html": [
       "<div>\n",
       "<style scoped>\n",
       "    .dataframe tbody tr th:only-of-type {\n",
       "        vertical-align: middle;\n",
       "    }\n",
       "\n",
       "    .dataframe tbody tr th {\n",
       "        vertical-align: top;\n",
       "    }\n",
       "\n",
       "    .dataframe thead th {\n",
       "        text-align: right;\n",
       "    }\n",
       "</style>\n",
       "<table border=\"1\" class=\"dataframe\">\n",
       "  <thead>\n",
       "    <tr style=\"text-align: right;\">\n",
       "      <th></th>\n",
       "      <th>ID</th>\n",
       "      <th>type</th>\n",
       "      <th>start</th>\n",
       "      <th>end</th>\n",
       "      <th>length</th>\n",
       "    </tr>\n",
       "  </thead>\n",
       "  <tbody>\n",
       "    <tr>\n",
       "      <th>0</th>\n",
       "      <td>ID=HORVU.MOREX.r3.1HG0000070.1</td>\n",
       "      <td>intron five_prime_UTR</td>\n",
       "      <td>146750</td>\n",
       "      <td>146980</td>\n",
       "      <td>232</td>\n",
       "    </tr>\n",
       "    <tr>\n",
       "      <th>1</th>\n",
       "      <td>ID=HORVU.MOREX.r3.1HG0000080.1</td>\n",
       "      <td>intron five_prime_UTR</td>\n",
       "      <td>153530</td>\n",
       "      <td>153625</td>\n",
       "      <td>97</td>\n",
       "    </tr>\n",
       "    <tr>\n",
       "      <th>2</th>\n",
       "      <td>ID=HORVU.MOREX.r3.1HG0000620.1</td>\n",
       "      <td>intron five_prime_UTR</td>\n",
       "      <td>1614154</td>\n",
       "      <td>1615780</td>\n",
       "      <td>1628</td>\n",
       "    </tr>\n",
       "    <tr>\n",
       "      <th>3</th>\n",
       "      <td>ID=HORVU.MOREX.r3.1HG0000620.2</td>\n",
       "      <td>intron five_prime_UTR</td>\n",
       "      <td>1614154</td>\n",
       "      <td>1615780</td>\n",
       "      <td>1628</td>\n",
       "    </tr>\n",
       "    <tr>\n",
       "      <th>4</th>\n",
       "      <td>ID=HORVU.MOREX.r3.1HG0000620.3</td>\n",
       "      <td>intron five_prime_UTR</td>\n",
       "      <td>1614665</td>\n",
       "      <td>1615780</td>\n",
       "      <td>1117</td>\n",
       "    </tr>\n",
       "  </tbody>\n",
       "</table>\n",
       "</div>"
      ],
      "text/plain": [
       "                               ID                   type    start      end  \\\n",
       "0  ID=HORVU.MOREX.r3.1HG0000070.1  intron five_prime_UTR   146750   146980   \n",
       "1  ID=HORVU.MOREX.r3.1HG0000080.1  intron five_prime_UTR   153530   153625   \n",
       "2  ID=HORVU.MOREX.r3.1HG0000620.1  intron five_prime_UTR  1614154  1615780   \n",
       "3  ID=HORVU.MOREX.r3.1HG0000620.2  intron five_prime_UTR  1614154  1615780   \n",
       "4  ID=HORVU.MOREX.r3.1HG0000620.3  intron five_prime_UTR  1614665  1615780   \n",
       "\n",
       "   length  \n",
       "0     232  \n",
       "1      97  \n",
       "2    1628  \n",
       "3    1628  \n",
       "4    1117  "
      ]
     },
     "execution_count": 35,
     "metadata": {},
     "output_type": "execute_result"
    }
   ],
   "source": [
    "introns_UTR_forw_Hv_MorexHC = pd.read_csv('Output/Hv_MorexHC_UTRforw_introns.tsv', sep='\\t')\n",
    "introns_UTR_forw_Hv_MorexHC.head()"
   ]
  },
  {
   "cell_type": "code",
   "execution_count": 36,
   "metadata": {},
   "outputs": [
    {
     "data": {
      "text/html": [
       "<div>\n",
       "<style scoped>\n",
       "    .dataframe tbody tr th:only-of-type {\n",
       "        vertical-align: middle;\n",
       "    }\n",
       "\n",
       "    .dataframe tbody tr th {\n",
       "        vertical-align: top;\n",
       "    }\n",
       "\n",
       "    .dataframe thead th {\n",
       "        text-align: right;\n",
       "    }\n",
       "</style>\n",
       "<table border=\"1\" class=\"dataframe\">\n",
       "  <thead>\n",
       "    <tr style=\"text-align: right;\">\n",
       "      <th></th>\n",
       "      <th>ID</th>\n",
       "      <th>type</th>\n",
       "      <th>start</th>\n",
       "      <th>end</th>\n",
       "      <th>length</th>\n",
       "    </tr>\n",
       "  </thead>\n",
       "  <tbody>\n",
       "    <tr>\n",
       "      <th>0</th>\n",
       "      <td>ID=HORVU.MOREX.r3.1HG0000130.1</td>\n",
       "      <td>intron three_prime_UTR</td>\n",
       "      <td>377002</td>\n",
       "      <td>377104</td>\n",
       "      <td>104</td>\n",
       "    </tr>\n",
       "    <tr>\n",
       "      <th>1</th>\n",
       "      <td>ID=HORVU.MOREX.r3.1HG0000350.1</td>\n",
       "      <td>intron five_prime_UTR</td>\n",
       "      <td>1156130</td>\n",
       "      <td>1159354</td>\n",
       "      <td>3226</td>\n",
       "    </tr>\n",
       "    <tr>\n",
       "      <th>2</th>\n",
       "      <td>ID=HORVU.MOREX.r3.1HG0001120.1</td>\n",
       "      <td>intron five_prime_UTR</td>\n",
       "      <td>2577943</td>\n",
       "      <td>2580334</td>\n",
       "      <td>2393</td>\n",
       "    </tr>\n",
       "    <tr>\n",
       "      <th>3</th>\n",
       "      <td>ID=HORVU.MOREX.r3.1HG0001400.1</td>\n",
       "      <td>intron five_prime_UTR</td>\n",
       "      <td>3193629</td>\n",
       "      <td>3198818</td>\n",
       "      <td>5191</td>\n",
       "    </tr>\n",
       "    <tr>\n",
       "      <th>4</th>\n",
       "      <td>ID=HORVU.MOREX.r3.1HG0001400.1</td>\n",
       "      <td>intron five_prime_UTR</td>\n",
       "      <td>3198962</td>\n",
       "      <td>3199088</td>\n",
       "      <td>128</td>\n",
       "    </tr>\n",
       "  </tbody>\n",
       "</table>\n",
       "</div>"
      ],
      "text/plain": [
       "                               ID                    type    start      end  \\\n",
       "0  ID=HORVU.MOREX.r3.1HG0000130.1  intron three_prime_UTR   377002   377104   \n",
       "1  ID=HORVU.MOREX.r3.1HG0000350.1   intron five_prime_UTR  1156130  1159354   \n",
       "2  ID=HORVU.MOREX.r3.1HG0001120.1   intron five_prime_UTR  2577943  2580334   \n",
       "3  ID=HORVU.MOREX.r3.1HG0001400.1   intron five_prime_UTR  3193629  3198818   \n",
       "4  ID=HORVU.MOREX.r3.1HG0001400.1   intron five_prime_UTR  3198962  3199088   \n",
       "\n",
       "   length  \n",
       "0     104  \n",
       "1    3226  \n",
       "2    2393  \n",
       "3    5191  \n",
       "4     128  "
      ]
     },
     "execution_count": 36,
     "metadata": {},
     "output_type": "execute_result"
    }
   ],
   "source": [
    "introns_UTR_rev_Hv_MorexHC = pd.read_csv('Output/Hv_MorexHC_UTRrev_introns.tsv', sep = '\\t')\n",
    "introns_UTR_rev_Hv_MorexHC.head()"
   ]
  },
  {
   "cell_type": "code",
   "execution_count": 37,
   "metadata": {},
   "outputs": [],
   "source": [
    "### --- Concatenating the UTR_introns to build a unique dataframe\n",
    "frames = [introns_UTR_forw_Hv_MorexHC, introns_UTR_rev_Hv_MorexHC]\n",
    "introns_UTR_Hv_MorexHC = pd.concat(frames)"
   ]
  },
  {
   "cell_type": "code",
   "execution_count": 38,
   "metadata": {},
   "outputs": [],
   "source": [
    "### --- Setting figure and font size\n",
    "plt.rcParams[\"figure.figsize\"] = (20, 20)\n",
    "plt.rcParams[\"font.size\"] = 15"
   ]
  },
  {
   "cell_type": "code",
   "execution_count": 39,
   "metadata": {},
   "outputs": [
    {
     "data": {
      "text/plain": [
       "count     5049.000000\n",
       "mean       914.958210\n",
       "std       2505.112829\n",
       "min         33.000000\n",
       "25%        121.000000\n",
       "50%        406.000000\n",
       "75%        943.000000\n",
       "max      74239.000000\n",
       "Name: length, dtype: float64"
      ]
     },
     "execution_count": 39,
     "metadata": {},
     "output_type": "execute_result"
    }
   ],
   "source": [
    "### --- Performing some basic statistics \n",
    "introns_UTR_Hv_MorexHC['length'].describe()"
   ]
  },
  {
   "cell_type": "code",
   "execution_count": 40,
   "metadata": {},
   "outputs": [
    {
     "data": {
      "text/plain": [
       "<AxesSubplot:ylabel='Density'>"
      ]
     },
     "execution_count": 40,
     "metadata": {},
     "output_type": "execute_result"
    },
    {
     "data": {
      "image/png": "[encoded data removed]",
      "text/plain": [
       "<Figure size 1440x1440 with 1 Axes>"
      ]
     },
     "metadata": {
      "needs_background": "light"
     },
     "output_type": "display_data"
    }
   ],
   "source": [
    "### --- Plotting the distribution of UTR introns length\n",
    "introns_UTR_Hv_MorexHC['length'].plot.density()"
   ]
  },
  {
   "cell_type": "code",
   "execution_count": 45,
   "metadata": {},
   "outputs": [
    {
     "data": {
      "text/plain": [
       "<AxesSubplot:>"
      ]
     },
     "execution_count": 45,
     "metadata": {},
     "output_type": "execute_result"
    },
    {
     "data": {
      "image/png": "[encoded data removed]",
      "text/plain": [
       "<Figure size 1440x1440 with 1 Axes>"
      ]
     },
     "metadata": {
      "needs_background": "light"
     },
     "output_type": "display_data"
    }
   ],
   "source": [
    "### --- Plotting the boxplot of UTR introns length without outliers\n",
    "introns_UTR_Hv_MorexHC.boxplot(column='length', return_type='axes', showfliers=False) # showfliers = False -> discard outliers"
   ]
  },
  {
   "cell_type": "code",
   "execution_count": 54,
   "metadata": {},
   "outputs": [],
   "source": [
    "### --- splitting in introns 3'UTR and 5'UTR to eventually if there are differences among the two\n",
    "introns_UTR3_Hv_MorexHC = introns_UTR_Hv_MorexHC.loc[introns_UTR_Hv_MorexHC['type'].isin(['intron three_prime_UTR'])]\n",
    "introns_UTR5_Hv_MorexHC = introns_UTR_Hv_MorexHC.loc[introns_UTR_Hv_MorexHC['type'].isin(['intron five_prime_UTR'])]\n"
   ]
  },
  {
   "cell_type": "code",
   "execution_count": 55,
   "metadata": {},
   "outputs": [
    {
     "data": {
      "text/html": [
       "<div>\n",
       "<style scoped>\n",
       "    .dataframe tbody tr th:only-of-type {\n",
       "        vertical-align: middle;\n",
       "    }\n",
       "\n",
       "    .dataframe tbody tr th {\n",
       "        vertical-align: top;\n",
       "    }\n",
       "\n",
       "    .dataframe thead th {\n",
       "        text-align: right;\n",
       "    }\n",
       "</style>\n",
       "<table border=\"1\" class=\"dataframe\">\n",
       "  <thead>\n",
       "    <tr style=\"text-align: right;\">\n",
       "      <th></th>\n",
       "      <th>ID</th>\n",
       "      <th>type</th>\n",
       "      <th>start</th>\n",
       "      <th>end</th>\n",
       "      <th>length</th>\n",
       "    </tr>\n",
       "  </thead>\n",
       "  <tbody>\n",
       "    <tr>\n",
       "      <th>11</th>\n",
       "      <td>ID=HORVU.MOREX.r3.1HG0003090.2</td>\n",
       "      <td>intron three_prime_UTR</td>\n",
       "      <td>5946475</td>\n",
       "      <td>5974459</td>\n",
       "      <td>27986</td>\n",
       "    </tr>\n",
       "    <tr>\n",
       "      <th>12</th>\n",
       "      <td>ID=HORVU.MOREX.r3.1HG0003090.6</td>\n",
       "      <td>intron three_prime_UTR</td>\n",
       "      <td>5946475</td>\n",
       "      <td>5974459</td>\n",
       "      <td>27986</td>\n",
       "    </tr>\n",
       "    <tr>\n",
       "      <th>24</th>\n",
       "      <td>ID=HORVU.MOREX.r3.1HG0007160.1</td>\n",
       "      <td>intron three_prime_UTR</td>\n",
       "      <td>14661381</td>\n",
       "      <td>14662100</td>\n",
       "      <td>721</td>\n",
       "    </tr>\n",
       "    <tr>\n",
       "      <th>25</th>\n",
       "      <td>ID=HORVU.MOREX.r3.1HG0007160.1</td>\n",
       "      <td>intron three_prime_UTR</td>\n",
       "      <td>14662182</td>\n",
       "      <td>14662301</td>\n",
       "      <td>121</td>\n",
       "    </tr>\n",
       "    <tr>\n",
       "      <th>27</th>\n",
       "      <td>ID=HORVU.MOREX.r3.1HG0007370.2</td>\n",
       "      <td>intron three_prime_UTR</td>\n",
       "      <td>15093762</td>\n",
       "      <td>15093878</td>\n",
       "      <td>118</td>\n",
       "    </tr>\n",
       "    <tr>\n",
       "      <th>...</th>\n",
       "      <td>...</td>\n",
       "      <td>...</td>\n",
       "      <td>...</td>\n",
       "      <td>...</td>\n",
       "      <td>...</td>\n",
       "    </tr>\n",
       "    <tr>\n",
       "      <th>2406</th>\n",
       "      <td>ID=HORVU.MOREX.r3.7HG0748130.1</td>\n",
       "      <td>intron three_prime_UTR</td>\n",
       "      <td>620827612</td>\n",
       "      <td>620827821</td>\n",
       "      <td>211</td>\n",
       "    </tr>\n",
       "    <tr>\n",
       "      <th>2407</th>\n",
       "      <td>ID=HORVU.MOREX.r3.7HG0749430.1</td>\n",
       "      <td>intron three_prime_UTR</td>\n",
       "      <td>623175384</td>\n",
       "      <td>623176311</td>\n",
       "      <td>929</td>\n",
       "    </tr>\n",
       "    <tr>\n",
       "      <th>2408</th>\n",
       "      <td>ID=HORVU.MOREX.r3.7HG0749440.1</td>\n",
       "      <td>intron three_prime_UTR</td>\n",
       "      <td>623212429</td>\n",
       "      <td>623212835</td>\n",
       "      <td>408</td>\n",
       "    </tr>\n",
       "    <tr>\n",
       "      <th>2412</th>\n",
       "      <td>ID=HORVU.MOREX.r3.7HG0749980.1</td>\n",
       "      <td>intron three_prime_UTR</td>\n",
       "      <td>624202455</td>\n",
       "      <td>624203734</td>\n",
       "      <td>1281</td>\n",
       "    </tr>\n",
       "    <tr>\n",
       "      <th>2418</th>\n",
       "      <td>ID=HORVU.MOREX.r3.7HG0752790.1</td>\n",
       "      <td>intron three_prime_UTR</td>\n",
       "      <td>631981108</td>\n",
       "      <td>631981202</td>\n",
       "      <td>96</td>\n",
       "    </tr>\n",
       "  </tbody>\n",
       "</table>\n",
       "<p>1632 rows × 5 columns</p>\n",
       "</div>"
      ],
      "text/plain": [
       "                                  ID                    type      start  \\\n",
       "11    ID=HORVU.MOREX.r3.1HG0003090.2  intron three_prime_UTR    5946475   \n",
       "12    ID=HORVU.MOREX.r3.1HG0003090.6  intron three_prime_UTR    5946475   \n",
       "24    ID=HORVU.MOREX.r3.1HG0007160.1  intron three_prime_UTR   14661381   \n",
       "25    ID=HORVU.MOREX.r3.1HG0007160.1  intron three_prime_UTR   14662182   \n",
       "27    ID=HORVU.MOREX.r3.1HG0007370.2  intron three_prime_UTR   15093762   \n",
       "...                              ...                     ...        ...   \n",
       "2406  ID=HORVU.MOREX.r3.7HG0748130.1  intron three_prime_UTR  620827612   \n",
       "2407  ID=HORVU.MOREX.r3.7HG0749430.1  intron three_prime_UTR  623175384   \n",
       "2408  ID=HORVU.MOREX.r3.7HG0749440.1  intron three_prime_UTR  623212429   \n",
       "2412  ID=HORVU.MOREX.r3.7HG0749980.1  intron three_prime_UTR  624202455   \n",
       "2418  ID=HORVU.MOREX.r3.7HG0752790.1  intron three_prime_UTR  631981108   \n",
       "\n",
       "            end  length  \n",
       "11      5974459   27986  \n",
       "12      5974459   27986  \n",
       "24     14662100     721  \n",
       "25     14662301     121  \n",
       "27     15093878     118  \n",
       "...         ...     ...  \n",
       "2406  620827821     211  \n",
       "2407  623176311     929  \n",
       "2408  623212835     408  \n",
       "2412  624203734    1281  \n",
       "2418  631981202      96  \n",
       "\n",
       "[1632 rows x 5 columns]"
      ]
     },
     "execution_count": 55,
     "metadata": {},
     "output_type": "execute_result"
    }
   ],
   "source": [
    "introns_UTR3_Hv_MorexHC"
   ]
  },
  {
   "cell_type": "code",
   "execution_count": 118,
   "metadata": {},
   "outputs": [
    {
     "data": {
      "text/plain": [
       "count     1632.000000\n",
       "mean      1001.586397\n",
       "std       3572.896832\n",
       "min         33.000000\n",
       "25%         99.000000\n",
       "50%        196.000000\n",
       "75%        750.500000\n",
       "max      74239.000000\n",
       "Name: length, dtype: float64"
      ]
     },
     "execution_count": 118,
     "metadata": {},
     "output_type": "execute_result"
    }
   ],
   "source": [
    "introns_UTR3_Hv_MorexHC['length'].describe()"
   ]
  },
  {
   "cell_type": "code",
   "execution_count": 119,
   "metadata": {},
   "outputs": [
    {
     "data": {
      "text/html": [
       "<div>\n",
       "<style scoped>\n",
       "    .dataframe tbody tr th:only-of-type {\n",
       "        vertical-align: middle;\n",
       "    }\n",
       "\n",
       "    .dataframe tbody tr th {\n",
       "        vertical-align: top;\n",
       "    }\n",
       "\n",
       "    .dataframe thead th {\n",
       "        text-align: right;\n",
       "    }\n",
       "</style>\n",
       "<table border=\"1\" class=\"dataframe\">\n",
       "  <thead>\n",
       "    <tr style=\"text-align: right;\">\n",
       "      <th></th>\n",
       "      <th>ID</th>\n",
       "      <th>type</th>\n",
       "      <th>start</th>\n",
       "      <th>end</th>\n",
       "      <th>length</th>\n",
       "    </tr>\n",
       "  </thead>\n",
       "  <tbody>\n",
       "    <tr>\n",
       "      <th>0</th>\n",
       "      <td>ID=HORVU.MOREX.r3.1HG0000070.1</td>\n",
       "      <td>intron five_prime_UTR</td>\n",
       "      <td>146750</td>\n",
       "      <td>146980</td>\n",
       "      <td>232</td>\n",
       "    </tr>\n",
       "    <tr>\n",
       "      <th>1</th>\n",
       "      <td>ID=HORVU.MOREX.r3.1HG0000080.1</td>\n",
       "      <td>intron five_prime_UTR</td>\n",
       "      <td>153530</td>\n",
       "      <td>153625</td>\n",
       "      <td>97</td>\n",
       "    </tr>\n",
       "    <tr>\n",
       "      <th>2</th>\n",
       "      <td>ID=HORVU.MOREX.r3.1HG0000620.1</td>\n",
       "      <td>intron five_prime_UTR</td>\n",
       "      <td>1614154</td>\n",
       "      <td>1615780</td>\n",
       "      <td>1628</td>\n",
       "    </tr>\n",
       "    <tr>\n",
       "      <th>3</th>\n",
       "      <td>ID=HORVU.MOREX.r3.1HG0000620.2</td>\n",
       "      <td>intron five_prime_UTR</td>\n",
       "      <td>1614154</td>\n",
       "      <td>1615780</td>\n",
       "      <td>1628</td>\n",
       "    </tr>\n",
       "    <tr>\n",
       "      <th>4</th>\n",
       "      <td>ID=HORVU.MOREX.r3.1HG0000620.3</td>\n",
       "      <td>intron five_prime_UTR</td>\n",
       "      <td>1614665</td>\n",
       "      <td>1615780</td>\n",
       "      <td>1117</td>\n",
       "    </tr>\n",
       "    <tr>\n",
       "      <th>...</th>\n",
       "      <td>...</td>\n",
       "      <td>...</td>\n",
       "      <td>...</td>\n",
       "      <td>...</td>\n",
       "      <td>...</td>\n",
       "    </tr>\n",
       "    <tr>\n",
       "      <th>2416</th>\n",
       "      <td>ID=HORVU.MOREX.r3.7HG0751310.1</td>\n",
       "      <td>intron five_prime_UTR</td>\n",
       "      <td>627322202</td>\n",
       "      <td>627322296</td>\n",
       "      <td>96</td>\n",
       "    </tr>\n",
       "    <tr>\n",
       "      <th>2417</th>\n",
       "      <td>ID=HORVU.MOREX.r3.7HG0752050.1</td>\n",
       "      <td>intron five_prime_UTR</td>\n",
       "      <td>628813527</td>\n",
       "      <td>628813619</td>\n",
       "      <td>94</td>\n",
       "    </tr>\n",
       "    <tr>\n",
       "      <th>2419</th>\n",
       "      <td>ID=HORVU.MOREX.r3.7HG0752950.1</td>\n",
       "      <td>intron five_prime_UTR</td>\n",
       "      <td>632146924</td>\n",
       "      <td>632147308</td>\n",
       "      <td>386</td>\n",
       "    </tr>\n",
       "    <tr>\n",
       "      <th>2420</th>\n",
       "      <td>ID=HORVU.MOREX.r3.UnG0753140.1</td>\n",
       "      <td>intron five_prime_UTR</td>\n",
       "      <td>475717</td>\n",
       "      <td>475945</td>\n",
       "      <td>230</td>\n",
       "    </tr>\n",
       "    <tr>\n",
       "      <th>2421</th>\n",
       "      <td>ID=HORVU.MOREX.r3.UnG0753140.1</td>\n",
       "      <td>intron five_prime_UTR</td>\n",
       "      <td>476070</td>\n",
       "      <td>480556</td>\n",
       "      <td>4488</td>\n",
       "    </tr>\n",
       "  </tbody>\n",
       "</table>\n",
       "<p>3417 rows × 5 columns</p>\n",
       "</div>"
      ],
      "text/plain": [
       "                                  ID                   type      start  \\\n",
       "0     ID=HORVU.MOREX.r3.1HG0000070.1  intron five_prime_UTR     146750   \n",
       "1     ID=HORVU.MOREX.r3.1HG0000080.1  intron five_prime_UTR     153530   \n",
       "2     ID=HORVU.MOREX.r3.1HG0000620.1  intron five_prime_UTR    1614154   \n",
       "3     ID=HORVU.MOREX.r3.1HG0000620.2  intron five_prime_UTR    1614154   \n",
       "4     ID=HORVU.MOREX.r3.1HG0000620.3  intron five_prime_UTR    1614665   \n",
       "...                              ...                    ...        ...   \n",
       "2416  ID=HORVU.MOREX.r3.7HG0751310.1  intron five_prime_UTR  627322202   \n",
       "2417  ID=HORVU.MOREX.r3.7HG0752050.1  intron five_prime_UTR  628813527   \n",
       "2419  ID=HORVU.MOREX.r3.7HG0752950.1  intron five_prime_UTR  632146924   \n",
       "2420  ID=HORVU.MOREX.r3.UnG0753140.1  intron five_prime_UTR     475717   \n",
       "2421  ID=HORVU.MOREX.r3.UnG0753140.1  intron five_prime_UTR     476070   \n",
       "\n",
       "            end  length  \n",
       "0        146980     232  \n",
       "1        153625      97  \n",
       "2       1615780    1628  \n",
       "3       1615780    1628  \n",
       "4       1615780    1117  \n",
       "...         ...     ...  \n",
       "2416  627322296      96  \n",
       "2417  628813619      94  \n",
       "2419  632147308     386  \n",
       "2420     475945     230  \n",
       "2421     480556    4488  \n",
       "\n",
       "[3417 rows x 5 columns]"
      ]
     },
     "execution_count": 119,
     "metadata": {},
     "output_type": "execute_result"
    }
   ],
   "source": [
    "introns_UTR5_Hv_MorexHC"
   ]
  },
  {
   "cell_type": "code",
   "execution_count": 120,
   "metadata": {},
   "outputs": [
    {
     "data": {
      "text/plain": [
       "count     3417.000000\n",
       "mean       873.583553\n",
       "std       1781.409570\n",
       "min         41.000000\n",
       "25%        150.000000\n",
       "50%        511.000000\n",
       "75%        997.000000\n",
       "max      34933.000000\n",
       "Name: length, dtype: float64"
      ]
     },
     "execution_count": 120,
     "metadata": {},
     "output_type": "execute_result"
    }
   ],
   "source": [
    "introns_UTR5_Hv_MorexHC['length'].describe()"
   ]
  },
  {
   "cell_type": "markdown",
   "metadata": {},
   "source": [
    "### 2.1.5 Removing UTR introns from the whole introns dataframe"
   ]
  },
  {
   "cell_type": "code",
   "execution_count": 64,
   "metadata": {},
   "outputs": [
    {
     "data": {
      "text/html": [
       "<div>\n",
       "<style scoped>\n",
       "    .dataframe tbody tr th:only-of-type {\n",
       "        vertical-align: middle;\n",
       "    }\n",
       "\n",
       "    .dataframe tbody tr th {\n",
       "        vertical-align: top;\n",
       "    }\n",
       "\n",
       "    .dataframe thead th {\n",
       "        text-align: right;\n",
       "    }\n",
       "</style>\n",
       "<table border=\"1\" class=\"dataframe\">\n",
       "  <thead>\n",
       "    <tr style=\"text-align: right;\">\n",
       "      <th></th>\n",
       "      <th>ID</th>\n",
       "      <th>type</th>\n",
       "      <th>start</th>\n",
       "      <th>end</th>\n",
       "      <th>length</th>\n",
       "    </tr>\n",
       "  </thead>\n",
       "  <tbody>\n",
       "    <tr>\n",
       "      <th>0</th>\n",
       "      <td>ID=HORVU.MOREX.r3.1HG0000040.1</td>\n",
       "      <td>intron</td>\n",
       "      <td>78955</td>\n",
       "      <td>79062</td>\n",
       "      <td>109</td>\n",
       "    </tr>\n",
       "    <tr>\n",
       "      <th>1</th>\n",
       "      <td>ID=HORVU.MOREX.r3.1HG0000040.1</td>\n",
       "      <td>intron</td>\n",
       "      <td>79105</td>\n",
       "      <td>79608</td>\n",
       "      <td>505</td>\n",
       "    </tr>\n",
       "    <tr>\n",
       "      <th>2</th>\n",
       "      <td>ID=HORVU.MOREX.r3.1HG0000040.1</td>\n",
       "      <td>intron</td>\n",
       "      <td>79677</td>\n",
       "      <td>79756</td>\n",
       "      <td>81</td>\n",
       "    </tr>\n",
       "    <tr>\n",
       "      <th>3</th>\n",
       "      <td>ID=HORVU.MOREX.r3.1HG0000040.1</td>\n",
       "      <td>intron</td>\n",
       "      <td>79800</td>\n",
       "      <td>79900</td>\n",
       "      <td>102</td>\n",
       "    </tr>\n",
       "    <tr>\n",
       "      <th>4</th>\n",
       "      <td>ID=HORVU.MOREX.r3.1HG0000040.1</td>\n",
       "      <td>intron</td>\n",
       "      <td>79933</td>\n",
       "      <td>80484</td>\n",
       "      <td>553</td>\n",
       "    </tr>\n",
       "  </tbody>\n",
       "</table>\n",
       "</div>"
      ],
      "text/plain": [
       "                               ID     type  start    end  length\n",
       "0  ID=HORVU.MOREX.r3.1HG0000040.1  intron   78955  79062     109\n",
       "1  ID=HORVU.MOREX.r3.1HG0000040.1  intron   79105  79608     505\n",
       "2  ID=HORVU.MOREX.r3.1HG0000040.1  intron   79677  79756      81\n",
       "3  ID=HORVU.MOREX.r3.1HG0000040.1  intron   79800  79900     102\n",
       "4  ID=HORVU.MOREX.r3.1HG0000040.1  intron   79933  80484     553"
      ]
     },
     "execution_count": 64,
     "metadata": {},
     "output_type": "execute_result"
    }
   ],
   "source": [
    "### --- Checking total introns dataframe \n",
    "introns_Hv_MorexHC.head()"
   ]
  },
  {
   "cell_type": "code",
   "execution_count": 65,
   "metadata": {},
   "outputs": [
    {
     "data": {
      "text/html": [
       "<div>\n",
       "<style scoped>\n",
       "    .dataframe tbody tr th:only-of-type {\n",
       "        vertical-align: middle;\n",
       "    }\n",
       "\n",
       "    .dataframe tbody tr th {\n",
       "        vertical-align: top;\n",
       "    }\n",
       "\n",
       "    .dataframe thead th {\n",
       "        text-align: right;\n",
       "    }\n",
       "</style>\n",
       "<table border=\"1\" class=\"dataframe\">\n",
       "  <thead>\n",
       "    <tr style=\"text-align: right;\">\n",
       "      <th></th>\n",
       "      <th>ID</th>\n",
       "      <th>type</th>\n",
       "      <th>start</th>\n",
       "      <th>end</th>\n",
       "      <th>length</th>\n",
       "    </tr>\n",
       "  </thead>\n",
       "  <tbody>\n",
       "    <tr>\n",
       "      <th>0</th>\n",
       "      <td>ID=HORVU.MOREX.r3.1HG0000070.1</td>\n",
       "      <td>intron five_prime_UTR</td>\n",
       "      <td>146750</td>\n",
       "      <td>146980</td>\n",
       "      <td>232</td>\n",
       "    </tr>\n",
       "    <tr>\n",
       "      <th>1</th>\n",
       "      <td>ID=HORVU.MOREX.r3.1HG0000080.1</td>\n",
       "      <td>intron five_prime_UTR</td>\n",
       "      <td>153530</td>\n",
       "      <td>153625</td>\n",
       "      <td>97</td>\n",
       "    </tr>\n",
       "    <tr>\n",
       "      <th>2</th>\n",
       "      <td>ID=HORVU.MOREX.r3.1HG0000620.1</td>\n",
       "      <td>intron five_prime_UTR</td>\n",
       "      <td>1614154</td>\n",
       "      <td>1615780</td>\n",
       "      <td>1628</td>\n",
       "    </tr>\n",
       "    <tr>\n",
       "      <th>3</th>\n",
       "      <td>ID=HORVU.MOREX.r3.1HG0000620.2</td>\n",
       "      <td>intron five_prime_UTR</td>\n",
       "      <td>1614154</td>\n",
       "      <td>1615780</td>\n",
       "      <td>1628</td>\n",
       "    </tr>\n",
       "    <tr>\n",
       "      <th>4</th>\n",
       "      <td>ID=HORVU.MOREX.r3.1HG0000620.3</td>\n",
       "      <td>intron five_prime_UTR</td>\n",
       "      <td>1614665</td>\n",
       "      <td>1615780</td>\n",
       "      <td>1117</td>\n",
       "    </tr>\n",
       "  </tbody>\n",
       "</table>\n",
       "</div>"
      ],
      "text/plain": [
       "                               ID                   type    start      end  \\\n",
       "0  ID=HORVU.MOREX.r3.1HG0000070.1  intron five_prime_UTR   146750   146980   \n",
       "1  ID=HORVU.MOREX.r3.1HG0000080.1  intron five_prime_UTR   153530   153625   \n",
       "2  ID=HORVU.MOREX.r3.1HG0000620.1  intron five_prime_UTR  1614154  1615780   \n",
       "3  ID=HORVU.MOREX.r3.1HG0000620.2  intron five_prime_UTR  1614154  1615780   \n",
       "4  ID=HORVU.MOREX.r3.1HG0000620.3  intron five_prime_UTR  1614665  1615780   \n",
       "\n",
       "   length  \n",
       "0     232  \n",
       "1      97  \n",
       "2    1628  \n",
       "3    1628  \n",
       "4    1117  "
      ]
     },
     "execution_count": 65,
     "metadata": {},
     "output_type": "execute_result"
    }
   ],
   "source": [
    "### --- Checking UTR introns dataframe\n",
    "introns_UTR_Hv_MorexHC.head()"
   ]
  },
  {
   "cell_type": "code",
   "execution_count": 6,
   "metadata": {},
   "outputs": [],
   "source": [
    "### --- Function to create remove from the total introns the one within UTRs and create a dataframe with introns within cds\n",
    "### --- The indataframe must be formatted like introns_Hv_MorexHC\n",
    "### --- The assumption is to use pd.concat() to concatenate the two dataframes and then drop the duplicates\n",
    "def cds_introns_dataframe(indataframe1, indataframe2):\n",
    "    total_introns_df = pd.concat([indataframe1,indataframe2])\n",
    "    #print(len(total_introns_df))\n",
    "    #print(len(introns_UTR))\n",
    "    #print(len(introns_df))\n",
    "    #print(len(total_introns_df.drop_duplicates(['ID','start','end'],keep=False))) \n",
    "    introns_cds_df = total_introns_df.drop_duplicates(['ID','start','end'],keep=False)\n",
    "    return introns_cds_df"
   ]
  },
  {
   "cell_type": "code",
   "execution_count": 67,
   "metadata": {},
   "outputs": [
    {
     "data": {
      "text/html": [
       "<div>\n",
       "<style scoped>\n",
       "    .dataframe tbody tr th:only-of-type {\n",
       "        vertical-align: middle;\n",
       "    }\n",
       "\n",
       "    .dataframe tbody tr th {\n",
       "        vertical-align: top;\n",
       "    }\n",
       "\n",
       "    .dataframe thead th {\n",
       "        text-align: right;\n",
       "    }\n",
       "</style>\n",
       "<table border=\"1\" class=\"dataframe\">\n",
       "  <thead>\n",
       "    <tr style=\"text-align: right;\">\n",
       "      <th></th>\n",
       "      <th>ID</th>\n",
       "      <th>type</th>\n",
       "      <th>start</th>\n",
       "      <th>end</th>\n",
       "      <th>length</th>\n",
       "    </tr>\n",
       "  </thead>\n",
       "  <tbody>\n",
       "    <tr>\n",
       "      <th>0</th>\n",
       "      <td>ID=HORVU.MOREX.r3.1HG0000040.1</td>\n",
       "      <td>intron</td>\n",
       "      <td>78955</td>\n",
       "      <td>79062</td>\n",
       "      <td>109</td>\n",
       "    </tr>\n",
       "    <tr>\n",
       "      <th>1</th>\n",
       "      <td>ID=HORVU.MOREX.r3.1HG0000040.1</td>\n",
       "      <td>intron</td>\n",
       "      <td>79105</td>\n",
       "      <td>79608</td>\n",
       "      <td>505</td>\n",
       "    </tr>\n",
       "    <tr>\n",
       "      <th>2</th>\n",
       "      <td>ID=HORVU.MOREX.r3.1HG0000040.1</td>\n",
       "      <td>intron</td>\n",
       "      <td>79677</td>\n",
       "      <td>79756</td>\n",
       "      <td>81</td>\n",
       "    </tr>\n",
       "    <tr>\n",
       "      <th>3</th>\n",
       "      <td>ID=HORVU.MOREX.r3.1HG0000040.1</td>\n",
       "      <td>intron</td>\n",
       "      <td>79800</td>\n",
       "      <td>79900</td>\n",
       "      <td>102</td>\n",
       "    </tr>\n",
       "    <tr>\n",
       "      <th>4</th>\n",
       "      <td>ID=HORVU.MOREX.r3.1HG0000040.1</td>\n",
       "      <td>intron</td>\n",
       "      <td>79933</td>\n",
       "      <td>80484</td>\n",
       "      <td>553</td>\n",
       "    </tr>\n",
       "    <tr>\n",
       "      <th>...</th>\n",
       "      <td>...</td>\n",
       "      <td>...</td>\n",
       "      <td>...</td>\n",
       "      <td>...</td>\n",
       "      <td>...</td>\n",
       "    </tr>\n",
       "    <tr>\n",
       "      <th>131226</th>\n",
       "      <td>ID=HORVU.MOREX.r3.UnG0816010.1</td>\n",
       "      <td>intron</td>\n",
       "      <td>28860551</td>\n",
       "      <td>28860786</td>\n",
       "      <td>237</td>\n",
       "    </tr>\n",
       "    <tr>\n",
       "      <th>131227</th>\n",
       "      <td>ID=HORVU.MOREX.r3.UnG0816010.1</td>\n",
       "      <td>intron</td>\n",
       "      <td>28861622</td>\n",
       "      <td>28861672</td>\n",
       "      <td>52</td>\n",
       "    </tr>\n",
       "    <tr>\n",
       "      <th>131228</th>\n",
       "      <td>ID=HORVU.MOREX.r3.UnG0816040.1</td>\n",
       "      <td>intron</td>\n",
       "      <td>28867800</td>\n",
       "      <td>28867889</td>\n",
       "      <td>91</td>\n",
       "    </tr>\n",
       "    <tr>\n",
       "      <th>131229</th>\n",
       "      <td>ID=HORVU.MOREX.r3.UnG0816160.1</td>\n",
       "      <td>intron</td>\n",
       "      <td>28884605</td>\n",
       "      <td>28884809</td>\n",
       "      <td>206</td>\n",
       "    </tr>\n",
       "    <tr>\n",
       "      <th>131230</th>\n",
       "      <td>ID=HORVU.MOREX.r3.UnG0816320.1</td>\n",
       "      <td>intron</td>\n",
       "      <td>28904141</td>\n",
       "      <td>28904339</td>\n",
       "      <td>200</td>\n",
       "    </tr>\n",
       "  </tbody>\n",
       "</table>\n",
       "<p>126182 rows × 5 columns</p>\n",
       "</div>"
      ],
      "text/plain": [
       "                                    ID     type     start       end  length\n",
       "0       ID=HORVU.MOREX.r3.1HG0000040.1  intron      78955     79062     109\n",
       "1       ID=HORVU.MOREX.r3.1HG0000040.1  intron      79105     79608     505\n",
       "2       ID=HORVU.MOREX.r3.1HG0000040.1  intron      79677     79756      81\n",
       "3       ID=HORVU.MOREX.r3.1HG0000040.1  intron      79800     79900     102\n",
       "4       ID=HORVU.MOREX.r3.1HG0000040.1  intron      79933     80484     553\n",
       "...                                ...      ...       ...       ...     ...\n",
       "131226  ID=HORVU.MOREX.r3.UnG0816010.1  intron   28860551  28860786     237\n",
       "131227  ID=HORVU.MOREX.r3.UnG0816010.1  intron   28861622  28861672      52\n",
       "131228  ID=HORVU.MOREX.r3.UnG0816040.1  intron   28867800  28867889      91\n",
       "131229  ID=HORVU.MOREX.r3.UnG0816160.1  intron   28884605  28884809     206\n",
       "131230  ID=HORVU.MOREX.r3.UnG0816320.1  intron   28904141  28904339     200\n",
       "\n",
       "[126182 rows x 5 columns]"
      ]
     },
     "execution_count": 67,
     "metadata": {},
     "output_type": "execute_result"
    }
   ],
   "source": [
    "### --- Extracting introns from cds within Hv_MorexHC\n",
    "introns_cds_Hv_MorexHC = cds_introns_dataframe(introns_Hv_MorexHC, introns_UTR_Hv_MorexHC)\n",
    "introns_cds_Hv_MorexHC"
   ]
  },
  {
   "cell_type": "code",
   "execution_count": 68,
   "metadata": {},
   "outputs": [
    {
     "data": {
      "text/html": [
       "<div>\n",
       "<style scoped>\n",
       "    .dataframe tbody tr th:only-of-type {\n",
       "        vertical-align: middle;\n",
       "    }\n",
       "\n",
       "    .dataframe tbody tr th {\n",
       "        vertical-align: top;\n",
       "    }\n",
       "\n",
       "    .dataframe thead th {\n",
       "        text-align: right;\n",
       "    }\n",
       "</style>\n",
       "<table border=\"1\" class=\"dataframe\">\n",
       "  <thead>\n",
       "    <tr style=\"text-align: right;\">\n",
       "      <th></th>\n",
       "      <th>ID</th>\n",
       "      <th>type</th>\n",
       "      <th>start</th>\n",
       "      <th>end</th>\n",
       "      <th>length</th>\n",
       "    </tr>\n",
       "  </thead>\n",
       "  <tbody>\n",
       "  </tbody>\n",
       "</table>\n",
       "</div>"
      ],
      "text/plain": [
       "Empty DataFrame\n",
       "Columns: [ID, type, start, end, length]\n",
       "Index: []"
      ]
     },
     "execution_count": 68,
     "metadata": {},
     "output_type": "execute_result"
    }
   ],
   "source": [
    "### --- Checking if there are not introns UTR within the created dataframe\n",
    "introns_cds_Hv_MorexHC.loc[introns_cds_Hv_MorexHC['type'].isin(['intron three_prime_UTR','intron five_prime_UTR'])]"
   ]
  },
  {
   "cell_type": "code",
   "execution_count": 73,
   "metadata": {},
   "outputs": [
    {
     "data": {
      "text/plain": [
       "count    126182.000000\n",
       "mean        565.209444\n",
       "std        2222.947337\n",
       "min          22.000000\n",
       "25%          94.000000\n",
       "50%         131.000000\n",
       "75%         439.000000\n",
       "max      234533.000000\n",
       "Name: length, dtype: float64"
      ]
     },
     "execution_count": 73,
     "metadata": {},
     "output_type": "execute_result"
    }
   ],
   "source": [
    "### --- Basic statistics of Hv_MorexHC introns cds\n",
    "introns_cds_Hv_MorexHC['length'].describe()"
   ]
  },
  {
   "cell_type": "code",
   "execution_count": 74,
   "metadata": {},
   "outputs": [
    {
     "data": {
      "text/plain": [
       "<AxesSubplot:ylabel='Density'>"
      ]
     },
     "execution_count": 74,
     "metadata": {},
     "output_type": "execute_result"
    },
    {
     "data": {
      "image/png": "[encoded data removed]",
      "text/plain": [
       "<Figure size 1440x1440 with 1 Axes>"
      ]
     },
     "metadata": {
      "needs_background": "light"
     },
     "output_type": "display_data"
    }
   ],
   "source": [
    "### --- Plotting the distribution of Hv_MorexHC cds introns length\n",
    "introns_cds_Hv_MorexHC['length'].plot.density()"
   ]
  },
  {
   "cell_type": "code",
   "execution_count": 79,
   "metadata": {},
   "outputs": [
    {
     "data": {
      "text/plain": [
       "<AxesSubplot:>"
      ]
     },
     "execution_count": 79,
     "metadata": {},
     "output_type": "execute_result"
    },
    {
     "data": {
      "image/png": "[encoded data removed]",
      "text/plain": [
       "<Figure size 1440x1440 with 1 Axes>"
      ]
     },
     "metadata": {
      "needs_background": "light"
     },
     "output_type": "display_data"
    }
   ],
   "source": [
    "### --- Plotting the boxplot of Hv_MorexHC cds introns length without outliers\n",
    "introns_cds_Hv_MorexHC.boxplot(column='length', return_type='axes', showfliers=False) # showfliers = False -> discard outliers"
   ]
  },
  {
   "cell_type": "markdown",
   "metadata": {},
   "source": [
    "### 2.1.6 Re-organizing files and directories"
   ]
  },
  {
   "cell_type": "code",
   "execution_count": 133,
   "metadata": {
    "scrolled": true
   },
   "outputs": [
    {
     "name": "stdout",
     "output_type": "stream",
     "text": [
      "Hv_MorexHC_exon.tsv\t\t      Hv_Morex_nohashtag.pgsb.Jul2020.HC.csv\r\n",
      "Hv_MorexHC_UTRforw.tsv\t\t      Hv_Morex_nohashtag.pgsb.Jul2020.HC.gff3\r\n",
      "Hv_MorexHC_UTRrev.tsv\t\t      Hv_Morex_nohashtag.pgsb.Jul2020.LC.gff3\r\n",
      "Hv_Morex_nohashtag.pgsb.Jul2020.gff3  raw\r\n"
     ]
    }
   ],
   "source": [
    "! ls Data/"
   ]
  },
  {
   "cell_type": "code",
   "execution_count": 134,
   "metadata": {},
   "outputs": [],
   "source": [
    "! mkdir Data/Hv_Morex_longread"
   ]
  },
  {
   "cell_type": "code",
   "execution_count": 135,
   "metadata": {},
   "outputs": [],
   "source": [
    "! mv Data/Hv_MorexHC* Data/Hv_Morex_longread/"
   ]
  },
  {
   "cell_type": "code",
   "execution_count": 136,
   "metadata": {},
   "outputs": [
    {
     "name": "stdout",
     "output_type": "stream",
     "text": [
      "Hv_MorexHC_exon.tsv  Hv_MorexHC_UTRforw.tsv  Hv_MorexHC_UTRrev.tsv\r\n"
     ]
    }
   ],
   "source": [
    "! ls Data/Hv_Morex_longread/"
   ]
  },
  {
   "cell_type": "code",
   "execution_count": 121,
   "metadata": {},
   "outputs": [
    {
     "name": "stdout",
     "output_type": "stream",
     "text": [
      "Hv_MorexHC_intronlessIDs.txt  Hv_MorexHC_introns.tsv\r\n",
      "Hv_MorexHC_intronpoorIDs.txt  Hv_MorexHC_UTRforw_introns.tsv\r\n",
      "Hv_MorexHC_intronrichIDs.txt  Hv_MorexHC_UTRrev_introns.tsv\r\n"
     ]
    }
   ],
   "source": [
    "! ls Output/"
   ]
  },
  {
   "cell_type": "code",
   "execution_count": 126,
   "metadata": {},
   "outputs": [],
   "source": [
    "! mkdir Output/Hv_Morex_longread"
   ]
  },
  {
   "cell_type": "code",
   "execution_count": 127,
   "metadata": {},
   "outputs": [],
   "source": [
    "! mv Output/Hv_MorexHC* Output/Hv_Morex_longread"
   ]
  },
  {
   "cell_type": "code",
   "execution_count": 128,
   "metadata": {},
   "outputs": [
    {
     "name": "stdout",
     "output_type": "stream",
     "text": [
      "Hv_MorexHC_intronlessIDs.txt  Hv_MorexHC_introns.tsv\r\n",
      "Hv_MorexHC_intronpoorIDs.txt  Hv_MorexHC_UTRforw_introns.tsv\r\n",
      "Hv_MorexHC_intronrichIDs.txt  Hv_MorexHC_UTRrev_introns.tsv\r\n"
     ]
    }
   ],
   "source": [
    "! ls Output/Hv_Morex_longread/"
   ]
  },
  {
   "cell_type": "markdown",
   "metadata": {},
   "source": [
    "# 2.2 Reproducing on Hv_Morex LC"
   ]
  },
  {
   "cell_type": "markdown",
   "metadata": {},
   "source": [
    "### 2.2.1 Collecting Data"
   ]
  },
  {
   "cell_type": "code",
   "execution_count": 129,
   "metadata": {},
   "outputs": [
    {
     "name": "stdout",
     "output_type": "stream",
     "text": [
      "--2021-06-03 18:19:52--  https://doi.ipk-gatersleben.de/DOI/b2f47dfb-47ff-4114-89ae-bad8dcc515a1/e27077bd-fa0b-4c20-ba87-5c84b9d0641c/1/DOWNLOAD\n",
      "Resolving doi.ipk-gatersleben.de (doi.ipk-gatersleben.de)... 194.94.136.144\n",
      "Connecting to doi.ipk-gatersleben.de (doi.ipk-gatersleben.de)|194.94.136.144|:443... connected.\n",
      "HTTP request sent, awaiting response... 200 OK\n",
      "Length: 36401810 (35M) [text/plain]\n",
      "Saving to: ‘Data/raw/Hv_Morex.pgsb.Jul2020.LC.gff3’\n",
      "\n",
      "Data/raw/Hv_Morex.p 100%[===================>]  34,71M  1,41MB/s    in 20s     \n",
      "\n",
      "2021-06-03 18:20:13 (1,74 MB/s) - ‘Data/raw/Hv_Morex.pgsb.Jul2020.LC.gff3’ saved [36401810/36401810]\n",
      "\n"
     ]
    }
   ],
   "source": [
    "### --- This will download the raw data to the subdirectory raw under the directory Data\n",
    "! wget -O Data/raw/Hv_Morex.pgsb.Jul2020.LC.gff3 https://doi.ipk-gatersleben.de/DOI/b2f47dfb-47ff-4114-89ae-bad8dcc515a1/e27077bd-fa0b-4c20-ba87-5c84b9d0641c/1/DOWNLOAD"
   ]
  },
  {
   "cell_type": "markdown",
   "metadata": {},
   "source": [
    "### 2.2.2 Processing Data"
   ]
  },
  {
   "cell_type": "code",
   "execution_count": 138,
   "metadata": {},
   "outputs": [],
   "source": [
    "### --- There is no need to import the libraries again\n",
    "# import pandas as pd\n",
    "# import numpy as np\n",
    "# import matplotlib.pyplot as plt"
   ]
  },
  {
   "cell_type": "code",
   "execution_count": 131,
   "metadata": {},
   "outputs": [],
   "source": [
    "### --- Removing all hashtags from the gff3 file\n",
    "! sed '/#/d' Data/raw/Hv_Morex.pgsb.Jul2020.LC.gff3  > Data/Hv_Morex_nohashtag.pgsb.Jul2020.LC.gff3"
   ]
  },
  {
   "cell_type": "code",
   "execution_count": 139,
   "metadata": {},
   "outputs": [],
   "source": [
    "### --- Changing the gff3 file to a csv format file to import it with pandas\n",
    "! cat Data/Hv_Morex_nohashtag.pgsb.Jul2020.LC.gff3 | sed 's/,/--/g' | sed 's/;/--/g' | sed 's/\\t/,/g' | awk -F '--' '{print $1}' > Data/Hv_Morex_nohashtag.pgsb.Jul2020.LC.csv"
   ]
  },
  {
   "cell_type": "code",
   "execution_count": 140,
   "metadata": {
    "scrolled": true
   },
   "outputs": [
    {
     "data": {
      "text/html": [
       "<div>\n",
       "<style scoped>\n",
       "    .dataframe tbody tr th:only-of-type {\n",
       "        vertical-align: middle;\n",
       "    }\n",
       "\n",
       "    .dataframe tbody tr th {\n",
       "        vertical-align: top;\n",
       "    }\n",
       "\n",
       "    .dataframe thead th {\n",
       "        text-align: right;\n",
       "    }\n",
       "</style>\n",
       "<table border=\"1\" class=\"dataframe\">\n",
       "  <thead>\n",
       "    <tr style=\"text-align: right;\">\n",
       "      <th></th>\n",
       "      <th>chr</th>\n",
       "      <th>source</th>\n",
       "      <th>type</th>\n",
       "      <th>start</th>\n",
       "      <th>end</th>\n",
       "      <th>score</th>\n",
       "      <th>strand</th>\n",
       "      <th>phase</th>\n",
       "      <th>attributes</th>\n",
       "    </tr>\n",
       "  </thead>\n",
       "  <tbody>\n",
       "    <tr>\n",
       "      <th>0</th>\n",
       "      <td>chr1H</td>\n",
       "      <td>pgsb</td>\n",
       "      <td>gene</td>\n",
       "      <td>49526</td>\n",
       "      <td>50649</td>\n",
       "      <td>.</td>\n",
       "      <td>+</td>\n",
       "      <td>.</td>\n",
       "      <td>ID=HORVU.MOREX.r3.1HG0000010</td>\n",
       "    </tr>\n",
       "    <tr>\n",
       "      <th>1</th>\n",
       "      <td>chr1H</td>\n",
       "      <td>pgsb</td>\n",
       "      <td>mRNA</td>\n",
       "      <td>49526</td>\n",
       "      <td>50649</td>\n",
       "      <td>.</td>\n",
       "      <td>+</td>\n",
       "      <td>.</td>\n",
       "      <td>ID=HORVU.MOREX.r3.1HG0000010.1</td>\n",
       "    </tr>\n",
       "    <tr>\n",
       "      <th>2</th>\n",
       "      <td>chr1H</td>\n",
       "      <td>pgsb</td>\n",
       "      <td>five_prime_UTR</td>\n",
       "      <td>49526</td>\n",
       "      <td>49582</td>\n",
       "      <td>.</td>\n",
       "      <td>+</td>\n",
       "      <td>.</td>\n",
       "      <td>ID=HORVU.MOREX.r3.1HG0000010.1.five_prime_UTR1</td>\n",
       "    </tr>\n",
       "    <tr>\n",
       "      <th>3</th>\n",
       "      <td>chr1H</td>\n",
       "      <td>pgsb</td>\n",
       "      <td>exon</td>\n",
       "      <td>49526</td>\n",
       "      <td>49772</td>\n",
       "      <td>.</td>\n",
       "      <td>+</td>\n",
       "      <td>.</td>\n",
       "      <td>ID=HORVU.MOREX.r3.1HG0000010.1.exon1</td>\n",
       "    </tr>\n",
       "    <tr>\n",
       "      <th>4</th>\n",
       "      <td>chr1H</td>\n",
       "      <td>pgsb</td>\n",
       "      <td>CDS</td>\n",
       "      <td>49583</td>\n",
       "      <td>49772</td>\n",
       "      <td>.</td>\n",
       "      <td>+</td>\n",
       "      <td>0</td>\n",
       "      <td>ID=HORVU.MOREX.r3.1HG0000010.1.CDS1</td>\n",
       "    </tr>\n",
       "  </tbody>\n",
       "</table>\n",
       "</div>"
      ],
      "text/plain": [
       "     chr source            type  start    end score strand phase  \\\n",
       "0  chr1H   pgsb            gene  49526  50649     .      +     .   \n",
       "1  chr1H   pgsb            mRNA  49526  50649     .      +     .   \n",
       "2  chr1H   pgsb  five_prime_UTR  49526  49582     .      +     .   \n",
       "3  chr1H   pgsb            exon  49526  49772     .      +     .   \n",
       "4  chr1H   pgsb             CDS  49583  49772     .      +     0   \n",
       "\n",
       "                                       attributes  \n",
       "0                    ID=HORVU.MOREX.r3.1HG0000010  \n",
       "1                  ID=HORVU.MOREX.r3.1HG0000010.1  \n",
       "2  ID=HORVU.MOREX.r3.1HG0000010.1.five_prime_UTR1  \n",
       "3            ID=HORVU.MOREX.r3.1HG0000010.1.exon1  \n",
       "4             ID=HORVU.MOREX.r3.1HG0000010.1.CDS1  "
      ]
     },
     "execution_count": 140,
     "metadata": {},
     "output_type": "execute_result"
    }
   ],
   "source": [
    "### --- Transforming the gff3 file to a pandas dataframe to better handle it\n",
    "df_Hv_MorexLC = pd.read_csv('Data/Hv_Morex_nohashtag.pgsb.Jul2020.LC.csv', header=None, names = ['chr', 'source', 'type','start','end','score','strand','phase','attributes'])\n",
    "df_Hv_MorexLC.head()"
   ]
  },
  {
   "cell_type": "code",
   "execution_count": 141,
   "metadata": {},
   "outputs": [
    {
     "data": {
      "text/html": [
       "<div>\n",
       "<style scoped>\n",
       "    .dataframe tbody tr th:only-of-type {\n",
       "        vertical-align: middle;\n",
       "    }\n",
       "\n",
       "    .dataframe tbody tr th {\n",
       "        vertical-align: top;\n",
       "    }\n",
       "\n",
       "    .dataframe thead th {\n",
       "        text-align: right;\n",
       "    }\n",
       "</style>\n",
       "<table border=\"1\" class=\"dataframe\">\n",
       "  <thead>\n",
       "    <tr style=\"text-align: right;\">\n",
       "      <th></th>\n",
       "      <th>chr</th>\n",
       "      <th>source</th>\n",
       "      <th>type</th>\n",
       "      <th>start</th>\n",
       "      <th>end</th>\n",
       "      <th>score</th>\n",
       "      <th>strand</th>\n",
       "      <th>phase</th>\n",
       "      <th>attributes</th>\n",
       "    </tr>\n",
       "  </thead>\n",
       "  <tbody>\n",
       "    <tr>\n",
       "      <th>3</th>\n",
       "      <td>chr1H</td>\n",
       "      <td>pgsb</td>\n",
       "      <td>exon</td>\n",
       "      <td>49526</td>\n",
       "      <td>49772</td>\n",
       "      <td>.</td>\n",
       "      <td>+</td>\n",
       "      <td>.</td>\n",
       "      <td>ID=HORVU.MOREX.r3.1HG0000010.1.exon1</td>\n",
       "    </tr>\n",
       "    <tr>\n",
       "      <th>6</th>\n",
       "      <td>chr1H</td>\n",
       "      <td>pgsb</td>\n",
       "      <td>exon</td>\n",
       "      <td>50195</td>\n",
       "      <td>50649</td>\n",
       "      <td>.</td>\n",
       "      <td>+</td>\n",
       "      <td>.</td>\n",
       "      <td>ID=HORVU.MOREX.r3.1HG0000010.1.exon2</td>\n",
       "    </tr>\n",
       "    <tr>\n",
       "      <th>10</th>\n",
       "      <td>chr1H</td>\n",
       "      <td>pgsb</td>\n",
       "      <td>exon</td>\n",
       "      <td>53979</td>\n",
       "      <td>54323</td>\n",
       "      <td>.</td>\n",
       "      <td>+</td>\n",
       "      <td>.</td>\n",
       "      <td>ID=HORVU.MOREX.r3.1HG0000020.1.exon1</td>\n",
       "    </tr>\n",
       "    <tr>\n",
       "      <th>15</th>\n",
       "      <td>chr1H</td>\n",
       "      <td>pgsb</td>\n",
       "      <td>exon</td>\n",
       "      <td>161529</td>\n",
       "      <td>162712</td>\n",
       "      <td>.</td>\n",
       "      <td>-</td>\n",
       "      <td>.</td>\n",
       "      <td>ID=HORVU.MOREX.r3.1HG0000100.1.exon1</td>\n",
       "    </tr>\n",
       "    <tr>\n",
       "      <th>17</th>\n",
       "      <td>chr1H</td>\n",
       "      <td>pgsb</td>\n",
       "      <td>exon</td>\n",
       "      <td>162818</td>\n",
       "      <td>163068</td>\n",
       "      <td>.</td>\n",
       "      <td>-</td>\n",
       "      <td>.</td>\n",
       "      <td>ID=HORVU.MOREX.r3.1HG0000100.1.exon2</td>\n",
       "    </tr>\n",
       "  </tbody>\n",
       "</table>\n",
       "</div>"
      ],
      "text/plain": [
       "      chr source  type   start     end score strand phase  \\\n",
       "3   chr1H   pgsb  exon   49526   49772     .      +     .   \n",
       "6   chr1H   pgsb  exon   50195   50649     .      +     .   \n",
       "10  chr1H   pgsb  exon   53979   54323     .      +     .   \n",
       "15  chr1H   pgsb  exon  161529  162712     .      -     .   \n",
       "17  chr1H   pgsb  exon  162818  163068     .      -     .   \n",
       "\n",
       "                              attributes  \n",
       "3   ID=HORVU.MOREX.r3.1HG0000010.1.exon1  \n",
       "6   ID=HORVU.MOREX.r3.1HG0000010.1.exon2  \n",
       "10  ID=HORVU.MOREX.r3.1HG0000020.1.exon1  \n",
       "15  ID=HORVU.MOREX.r3.1HG0000100.1.exon1  \n",
       "17  ID=HORVU.MOREX.r3.1HG0000100.1.exon2  "
      ]
     },
     "execution_count": 141,
     "metadata": {},
     "output_type": "execute_result"
    }
   ],
   "source": [
    "### --- Building a separate dataframe containing all exons\n",
    "exon_Hv_MorexLC = df_Hv_MorexLC.loc[df_Hv_MorexLC['type'].isin(['exon'])]\n",
    "exon_Hv_MorexLC.head()"
   ]
  },
  {
   "cell_type": "code",
   "execution_count": 142,
   "metadata": {},
   "outputs": [],
   "source": [
    "### --- Exporting the exon dataframe to a tsv file \n",
    "exon_Hv_MorexLC.to_csv('Data/Hv_MorexLC_exon.tsv',sep='\\t',index=False,header=False)"
   ]
  },
  {
   "cell_type": "code",
   "execution_count": 143,
   "metadata": {
    "scrolled": true
   },
   "outputs": [
    {
     "data": {
      "text/html": [
       "<div>\n",
       "<style scoped>\n",
       "    .dataframe tbody tr th:only-of-type {\n",
       "        vertical-align: middle;\n",
       "    }\n",
       "\n",
       "    .dataframe tbody tr th {\n",
       "        vertical-align: top;\n",
       "    }\n",
       "\n",
       "    .dataframe thead th {\n",
       "        text-align: right;\n",
       "    }\n",
       "</style>\n",
       "<table border=\"1\" class=\"dataframe\">\n",
       "  <thead>\n",
       "    <tr style=\"text-align: right;\">\n",
       "      <th></th>\n",
       "      <th>chr</th>\n",
       "      <th>source</th>\n",
       "      <th>type</th>\n",
       "      <th>start</th>\n",
       "      <th>end</th>\n",
       "      <th>score</th>\n",
       "      <th>strand</th>\n",
       "      <th>phase</th>\n",
       "      <th>attributes</th>\n",
       "    </tr>\n",
       "  </thead>\n",
       "  <tbody>\n",
       "    <tr>\n",
       "      <th>0</th>\n",
       "      <td>chr1H</td>\n",
       "      <td>pgsb</td>\n",
       "      <td>gene</td>\n",
       "      <td>49526</td>\n",
       "      <td>50649</td>\n",
       "      <td>.</td>\n",
       "      <td>+</td>\n",
       "      <td>.</td>\n",
       "      <td>ID=HORVU.MOREX.r3.1HG0000010</td>\n",
       "    </tr>\n",
       "    <tr>\n",
       "      <th>1</th>\n",
       "      <td>chr1H</td>\n",
       "      <td>pgsb</td>\n",
       "      <td>mRNA</td>\n",
       "      <td>49526</td>\n",
       "      <td>50649</td>\n",
       "      <td>.</td>\n",
       "      <td>+</td>\n",
       "      <td>.</td>\n",
       "      <td>ID=HORVU.MOREX.r3.1HG0000010.1</td>\n",
       "    </tr>\n",
       "    <tr>\n",
       "      <th>2</th>\n",
       "      <td>chr1H</td>\n",
       "      <td>pgsb</td>\n",
       "      <td>five_prime_UTR</td>\n",
       "      <td>49526</td>\n",
       "      <td>49582</td>\n",
       "      <td>.</td>\n",
       "      <td>+</td>\n",
       "      <td>.</td>\n",
       "      <td>ID=HORVU.MOREX.r3.1HG0000010.1.five_prime_UTR1</td>\n",
       "    </tr>\n",
       "    <tr>\n",
       "      <th>3</th>\n",
       "      <td>chr1H</td>\n",
       "      <td>pgsb</td>\n",
       "      <td>exon</td>\n",
       "      <td>49526</td>\n",
       "      <td>49772</td>\n",
       "      <td>.</td>\n",
       "      <td>+</td>\n",
       "      <td>.</td>\n",
       "      <td>ID=HORVU.MOREX.r3.1HG0000010.1.exon1</td>\n",
       "    </tr>\n",
       "    <tr>\n",
       "      <th>4</th>\n",
       "      <td>chr1H</td>\n",
       "      <td>pgsb</td>\n",
       "      <td>CDS</td>\n",
       "      <td>49583</td>\n",
       "      <td>49772</td>\n",
       "      <td>.</td>\n",
       "      <td>+</td>\n",
       "      <td>0</td>\n",
       "      <td>ID=HORVU.MOREX.r3.1HG0000010.1.CDS1</td>\n",
       "    </tr>\n",
       "  </tbody>\n",
       "</table>\n",
       "</div>"
      ],
      "text/plain": [
       "     chr source            type  start    end score strand phase  \\\n",
       "0  chr1H   pgsb            gene  49526  50649     .      +     .   \n",
       "1  chr1H   pgsb            mRNA  49526  50649     .      +     .   \n",
       "2  chr1H   pgsb  five_prime_UTR  49526  49582     .      +     .   \n",
       "3  chr1H   pgsb            exon  49526  49772     .      +     .   \n",
       "4  chr1H   pgsb             CDS  49583  49772     .      +     0   \n",
       "\n",
       "                                       attributes  \n",
       "0                    ID=HORVU.MOREX.r3.1HG0000010  \n",
       "1                  ID=HORVU.MOREX.r3.1HG0000010.1  \n",
       "2  ID=HORVU.MOREX.r3.1HG0000010.1.five_prime_UTR1  \n",
       "3            ID=HORVU.MOREX.r3.1HG0000010.1.exon1  \n",
       "4             ID=HORVU.MOREX.r3.1HG0000010.1.CDS1  "
      ]
     },
     "execution_count": 143,
     "metadata": {},
     "output_type": "execute_result"
    }
   ],
   "source": [
    "### --- Keeping in a separated dataframe the forward strands\n",
    "forw_Hv_MorexLC = df_Hv_MorexLC.loc[df_Hv_MorexLC['strand'].isin(['+'])]\n",
    "forw_Hv_MorexLC.head()"
   ]
  },
  {
   "cell_type": "code",
   "execution_count": 144,
   "metadata": {
    "scrolled": true
   },
   "outputs": [
    {
     "data": {
      "text/html": [
       "<div>\n",
       "<style scoped>\n",
       "    .dataframe tbody tr th:only-of-type {\n",
       "        vertical-align: middle;\n",
       "    }\n",
       "\n",
       "    .dataframe tbody tr th {\n",
       "        vertical-align: top;\n",
       "    }\n",
       "\n",
       "    .dataframe thead th {\n",
       "        text-align: right;\n",
       "    }\n",
       "</style>\n",
       "<table border=\"1\" class=\"dataframe\">\n",
       "  <thead>\n",
       "    <tr style=\"text-align: right;\">\n",
       "      <th></th>\n",
       "      <th>chr</th>\n",
       "      <th>source</th>\n",
       "      <th>type</th>\n",
       "      <th>start</th>\n",
       "      <th>end</th>\n",
       "      <th>score</th>\n",
       "      <th>strand</th>\n",
       "      <th>phase</th>\n",
       "      <th>attributes</th>\n",
       "    </tr>\n",
       "  </thead>\n",
       "  <tbody>\n",
       "    <tr>\n",
       "      <th>12</th>\n",
       "      <td>chr1H</td>\n",
       "      <td>pgsb</td>\n",
       "      <td>gene</td>\n",
       "      <td>161529</td>\n",
       "      <td>166657</td>\n",
       "      <td>.</td>\n",
       "      <td>-</td>\n",
       "      <td>.</td>\n",
       "      <td>ID=HORVU.MOREX.r3.1HG0000100</td>\n",
       "    </tr>\n",
       "    <tr>\n",
       "      <th>13</th>\n",
       "      <td>chr1H</td>\n",
       "      <td>pgsb</td>\n",
       "      <td>mRNA</td>\n",
       "      <td>161529</td>\n",
       "      <td>166657</td>\n",
       "      <td>.</td>\n",
       "      <td>-</td>\n",
       "      <td>.</td>\n",
       "      <td>ID=HORVU.MOREX.r3.1HG0000100.1</td>\n",
       "    </tr>\n",
       "    <tr>\n",
       "      <th>14</th>\n",
       "      <td>chr1H</td>\n",
       "      <td>pgsb</td>\n",
       "      <td>three_prime_UTR</td>\n",
       "      <td>161529</td>\n",
       "      <td>161892</td>\n",
       "      <td>.</td>\n",
       "      <td>-</td>\n",
       "      <td>.</td>\n",
       "      <td>ID=HORVU.MOREX.r3.1HG0000100.1.three_prime_UTR1</td>\n",
       "    </tr>\n",
       "    <tr>\n",
       "      <th>15</th>\n",
       "      <td>chr1H</td>\n",
       "      <td>pgsb</td>\n",
       "      <td>exon</td>\n",
       "      <td>161529</td>\n",
       "      <td>162712</td>\n",
       "      <td>.</td>\n",
       "      <td>-</td>\n",
       "      <td>.</td>\n",
       "      <td>ID=HORVU.MOREX.r3.1HG0000100.1.exon1</td>\n",
       "    </tr>\n",
       "    <tr>\n",
       "      <th>16</th>\n",
       "      <td>chr1H</td>\n",
       "      <td>pgsb</td>\n",
       "      <td>CDS</td>\n",
       "      <td>161893</td>\n",
       "      <td>162712</td>\n",
       "      <td>.</td>\n",
       "      <td>-</td>\n",
       "      <td>1</td>\n",
       "      <td>ID=HORVU.MOREX.r3.1HG0000100.1.CDS1</td>\n",
       "    </tr>\n",
       "  </tbody>\n",
       "</table>\n",
       "</div>"
      ],
      "text/plain": [
       "      chr source             type   start     end score strand phase  \\\n",
       "12  chr1H   pgsb             gene  161529  166657     .      -     .   \n",
       "13  chr1H   pgsb             mRNA  161529  166657     .      -     .   \n",
       "14  chr1H   pgsb  three_prime_UTR  161529  161892     .      -     .   \n",
       "15  chr1H   pgsb             exon  161529  162712     .      -     .   \n",
       "16  chr1H   pgsb              CDS  161893  162712     .      -     1   \n",
       "\n",
       "                                         attributes  \n",
       "12                     ID=HORVU.MOREX.r3.1HG0000100  \n",
       "13                   ID=HORVU.MOREX.r3.1HG0000100.1  \n",
       "14  ID=HORVU.MOREX.r3.1HG0000100.1.three_prime_UTR1  \n",
       "15             ID=HORVU.MOREX.r3.1HG0000100.1.exon1  \n",
       "16              ID=HORVU.MOREX.r3.1HG0000100.1.CDS1  "
      ]
     },
     "execution_count": 144,
     "metadata": {},
     "output_type": "execute_result"
    }
   ],
   "source": [
    "### --- Keeping in a separated dataframe the reverse strands\n",
    "rev_Hv_MorexLC = df_Hv_MorexLC.loc[df_Hv_MorexLC['strand'].isin(['-'])]\n",
    "rev_Hv_MorexLC.head()"
   ]
  },
  {
   "cell_type": "code",
   "execution_count": 145,
   "metadata": {},
   "outputs": [
    {
     "data": {
      "text/html": [
       "<div>\n",
       "<style scoped>\n",
       "    .dataframe tbody tr th:only-of-type {\n",
       "        vertical-align: middle;\n",
       "    }\n",
       "\n",
       "    .dataframe tbody tr th {\n",
       "        vertical-align: top;\n",
       "    }\n",
       "\n",
       "    .dataframe thead th {\n",
       "        text-align: right;\n",
       "    }\n",
       "</style>\n",
       "<table border=\"1\" class=\"dataframe\">\n",
       "  <thead>\n",
       "    <tr style=\"text-align: right;\">\n",
       "      <th></th>\n",
       "      <th>chr</th>\n",
       "      <th>source</th>\n",
       "      <th>type</th>\n",
       "      <th>start</th>\n",
       "      <th>end</th>\n",
       "      <th>score</th>\n",
       "      <th>strand</th>\n",
       "      <th>phase</th>\n",
       "      <th>attributes</th>\n",
       "    </tr>\n",
       "  </thead>\n",
       "  <tbody>\n",
       "    <tr>\n",
       "      <th>2</th>\n",
       "      <td>chr1H</td>\n",
       "      <td>pgsb</td>\n",
       "      <td>five_prime_UTR</td>\n",
       "      <td>49526</td>\n",
       "      <td>49582</td>\n",
       "      <td>.</td>\n",
       "      <td>+</td>\n",
       "      <td>.</td>\n",
       "      <td>ID=HORVU.MOREX.r3.1HG0000010.1.five_prime_UTR1</td>\n",
       "    </tr>\n",
       "    <tr>\n",
       "      <th>7</th>\n",
       "      <td>chr1H</td>\n",
       "      <td>pgsb</td>\n",
       "      <td>three_prime_UTR</td>\n",
       "      <td>50428</td>\n",
       "      <td>50649</td>\n",
       "      <td>.</td>\n",
       "      <td>+</td>\n",
       "      <td>.</td>\n",
       "      <td>ID=HORVU.MOREX.r3.1HG0000010.1.three_prime_UTR2</td>\n",
       "    </tr>\n",
       "    <tr>\n",
       "      <th>693</th>\n",
       "      <td>chr1H</td>\n",
       "      <td>pgsb</td>\n",
       "      <td>five_prime_UTR</td>\n",
       "      <td>7942206</td>\n",
       "      <td>7942870</td>\n",
       "      <td>.</td>\n",
       "      <td>+</td>\n",
       "      <td>.</td>\n",
       "      <td>ID=HORVU.MOREX.r3.1HG0003730.1.five_prime_UTR1</td>\n",
       "    </tr>\n",
       "    <tr>\n",
       "      <th>1826</th>\n",
       "      <td>chr1H</td>\n",
       "      <td>pgsb</td>\n",
       "      <td>three_prime_UTR</td>\n",
       "      <td>16128825</td>\n",
       "      <td>16128956</td>\n",
       "      <td>.</td>\n",
       "      <td>+</td>\n",
       "      <td>.</td>\n",
       "      <td>ID=HORVU.MOREX.r3.1HG0007720.1.three_prime_UTR1</td>\n",
       "    </tr>\n",
       "    <tr>\n",
       "      <th>2009</th>\n",
       "      <td>chr1H</td>\n",
       "      <td>pgsb</td>\n",
       "      <td>five_prime_UTR</td>\n",
       "      <td>17860934</td>\n",
       "      <td>17860983</td>\n",
       "      <td>.</td>\n",
       "      <td>+</td>\n",
       "      <td>.</td>\n",
       "      <td>ID=HORVU.MOREX.r3.1HG0008240.1.five_prime_UTR1</td>\n",
       "    </tr>\n",
       "  </tbody>\n",
       "</table>\n",
       "</div>"
      ],
      "text/plain": [
       "        chr source             type     start       end score strand phase  \\\n",
       "2     chr1H   pgsb   five_prime_UTR     49526     49582     .      +     .   \n",
       "7     chr1H   pgsb  three_prime_UTR     50428     50649     .      +     .   \n",
       "693   chr1H   pgsb   five_prime_UTR   7942206   7942870     .      +     .   \n",
       "1826  chr1H   pgsb  three_prime_UTR  16128825  16128956     .      +     .   \n",
       "2009  chr1H   pgsb   five_prime_UTR  17860934  17860983     .      +     .   \n",
       "\n",
       "                                           attributes  \n",
       "2      ID=HORVU.MOREX.r3.1HG0000010.1.five_prime_UTR1  \n",
       "7     ID=HORVU.MOREX.r3.1HG0000010.1.three_prime_UTR2  \n",
       "693    ID=HORVU.MOREX.r3.1HG0003730.1.five_prime_UTR1  \n",
       "1826  ID=HORVU.MOREX.r3.1HG0007720.1.three_prime_UTR1  \n",
       "2009   ID=HORVU.MOREX.r3.1HG0008240.1.five_prime_UTR1  "
      ]
     },
     "execution_count": 145,
     "metadata": {},
     "output_type": "execute_result"
    }
   ],
   "source": [
    "### --- Keeping in a separated dataframe the UTR regions on the forward strands\n",
    "UTR_forw_Hv_MorexLC = forw_Hv_MorexLC.loc[df_Hv_MorexLC['type'].isin(['three_prime_UTR','five_prime_UTR'])]\n",
    "UTR_forw_Hv_MorexLC.head()"
   ]
  },
  {
   "cell_type": "code",
   "execution_count": 146,
   "metadata": {},
   "outputs": [],
   "source": [
    "### --- Writing to a tsv formatted file the UTR_df_forw dataframe\n",
    "UTR_forw_Hv_MorexLC.to_csv('Data/Hv_MorexLC_UTRforw.tsv',sep='\\t',index=False,header=False)"
   ]
  },
  {
   "cell_type": "code",
   "execution_count": 147,
   "metadata": {
    "scrolled": true
   },
   "outputs": [
    {
     "data": {
      "text/html": [
       "<div>\n",
       "<style scoped>\n",
       "    .dataframe tbody tr th:only-of-type {\n",
       "        vertical-align: middle;\n",
       "    }\n",
       "\n",
       "    .dataframe tbody tr th {\n",
       "        vertical-align: top;\n",
       "    }\n",
       "\n",
       "    .dataframe thead th {\n",
       "        text-align: right;\n",
       "    }\n",
       "</style>\n",
       "<table border=\"1\" class=\"dataframe\">\n",
       "  <thead>\n",
       "    <tr style=\"text-align: right;\">\n",
       "      <th></th>\n",
       "      <th>chr</th>\n",
       "      <th>source</th>\n",
       "      <th>type</th>\n",
       "      <th>start</th>\n",
       "      <th>end</th>\n",
       "      <th>score</th>\n",
       "      <th>strand</th>\n",
       "      <th>phase</th>\n",
       "      <th>attributes</th>\n",
       "    </tr>\n",
       "  </thead>\n",
       "  <tbody>\n",
       "    <tr>\n",
       "      <th>14</th>\n",
       "      <td>chr1H</td>\n",
       "      <td>pgsb</td>\n",
       "      <td>three_prime_UTR</td>\n",
       "      <td>161529</td>\n",
       "      <td>161892</td>\n",
       "      <td>.</td>\n",
       "      <td>-</td>\n",
       "      <td>.</td>\n",
       "      <td>ID=HORVU.MOREX.r3.1HG0000100.1.three_prime_UTR1</td>\n",
       "    </tr>\n",
       "    <tr>\n",
       "      <th>23</th>\n",
       "      <td>chr1H</td>\n",
       "      <td>pgsb</td>\n",
       "      <td>five_prime_UTR</td>\n",
       "      <td>166559</td>\n",
       "      <td>166657</td>\n",
       "      <td>.</td>\n",
       "      <td>-</td>\n",
       "      <td>.</td>\n",
       "      <td>ID=HORVU.MOREX.r3.1HG0000100.1.five_prime_UTR2</td>\n",
       "    </tr>\n",
       "    <tr>\n",
       "      <th>496</th>\n",
       "      <td>chr1H</td>\n",
       "      <td>pgsb</td>\n",
       "      <td>three_prime_UTR</td>\n",
       "      <td>5367715</td>\n",
       "      <td>5367998</td>\n",
       "      <td>.</td>\n",
       "      <td>-</td>\n",
       "      <td>.</td>\n",
       "      <td>ID=HORVU.MOREX.r3.1HG0002620.1.three_prime_UTR1</td>\n",
       "    </tr>\n",
       "    <tr>\n",
       "      <th>500</th>\n",
       "      <td>chr1H</td>\n",
       "      <td>pgsb</td>\n",
       "      <td>five_prime_UTR</td>\n",
       "      <td>5370295</td>\n",
       "      <td>5370423</td>\n",
       "      <td>.</td>\n",
       "      <td>-</td>\n",
       "      <td>.</td>\n",
       "      <td>ID=HORVU.MOREX.r3.1HG0002620.1.five_prime_UTR2</td>\n",
       "    </tr>\n",
       "    <tr>\n",
       "      <th>704</th>\n",
       "      <td>chr1H</td>\n",
       "      <td>pgsb</td>\n",
       "      <td>five_prime_UTR</td>\n",
       "      <td>7998340</td>\n",
       "      <td>7998963</td>\n",
       "      <td>.</td>\n",
       "      <td>-</td>\n",
       "      <td>.</td>\n",
       "      <td>ID=HORVU.MOREX.r3.1HG0003750.1.five_prime_UTR1</td>\n",
       "    </tr>\n",
       "  </tbody>\n",
       "</table>\n",
       "</div>"
      ],
      "text/plain": [
       "       chr source             type    start      end score strand phase  \\\n",
       "14   chr1H   pgsb  three_prime_UTR   161529   161892     .      -     .   \n",
       "23   chr1H   pgsb   five_prime_UTR   166559   166657     .      -     .   \n",
       "496  chr1H   pgsb  three_prime_UTR  5367715  5367998     .      -     .   \n",
       "500  chr1H   pgsb   five_prime_UTR  5370295  5370423     .      -     .   \n",
       "704  chr1H   pgsb   five_prime_UTR  7998340  7998963     .      -     .   \n",
       "\n",
       "                                          attributes  \n",
       "14   ID=HORVU.MOREX.r3.1HG0000100.1.three_prime_UTR1  \n",
       "23    ID=HORVU.MOREX.r3.1HG0000100.1.five_prime_UTR2  \n",
       "496  ID=HORVU.MOREX.r3.1HG0002620.1.three_prime_UTR1  \n",
       "500   ID=HORVU.MOREX.r3.1HG0002620.1.five_prime_UTR2  \n",
       "704   ID=HORVU.MOREX.r3.1HG0003750.1.five_prime_UTR1  "
      ]
     },
     "execution_count": 147,
     "metadata": {},
     "output_type": "execute_result"
    }
   ],
   "source": [
    "### --- Keeping in a separated dataframe the UTR regions on the reverse strands\n",
    "UTR_rev_Hv_MorexLC = rev_Hv_MorexLC.loc[df_Hv_MorexLC['type'].isin(['three_prime_UTR','five_prime_UTR'])]\n",
    "UTR_rev_Hv_MorexLC.head()"
   ]
  },
  {
   "cell_type": "code",
   "execution_count": 148,
   "metadata": {},
   "outputs": [],
   "source": [
    "### --- Writing to a tsv formatted file the UTR_df_rev dataframe\n",
    "UTR_rev_Hv_MorexLC.to_csv('Data/Hv_MorexLC_UTRrev.tsv',sep='\\t',index=False,header=False)"
   ]
  },
  {
   "cell_type": "markdown",
   "metadata": {},
   "source": [
    "### 2.2.3 Extracting introns from the whole genome"
   ]
  },
  {
   "cell_type": "code",
   "execution_count": 149,
   "metadata": {},
   "outputs": [],
   "source": [
    "### --- Extracting introns from Hv_MorexLC\n",
    "extract_tot_introns('Data/Hv_MorexLC_exon.tsv', 'Output/Hv_MorexLC_introns.tsv')"
   ]
  },
  {
   "cell_type": "code",
   "execution_count": 150,
   "metadata": {
    "scrolled": true
   },
   "outputs": [
    {
     "data": {
      "text/html": [
       "<div>\n",
       "<style scoped>\n",
       "    .dataframe tbody tr th:only-of-type {\n",
       "        vertical-align: middle;\n",
       "    }\n",
       "\n",
       "    .dataframe tbody tr th {\n",
       "        vertical-align: top;\n",
       "    }\n",
       "\n",
       "    .dataframe thead th {\n",
       "        text-align: right;\n",
       "    }\n",
       "</style>\n",
       "<table border=\"1\" class=\"dataframe\">\n",
       "  <thead>\n",
       "    <tr style=\"text-align: right;\">\n",
       "      <th></th>\n",
       "      <th>ID</th>\n",
       "      <th>type</th>\n",
       "      <th>start</th>\n",
       "      <th>end</th>\n",
       "      <th>length</th>\n",
       "    </tr>\n",
       "  </thead>\n",
       "  <tbody>\n",
       "    <tr>\n",
       "      <th>0</th>\n",
       "      <td>ID=HORVU.MOREX.r3.1HG0000010.1</td>\n",
       "      <td>intron</td>\n",
       "      <td>49773</td>\n",
       "      <td>50194</td>\n",
       "      <td>423</td>\n",
       "    </tr>\n",
       "    <tr>\n",
       "      <th>1</th>\n",
       "      <td>ID=HORVU.MOREX.r3.1HG0000100.1</td>\n",
       "      <td>intron</td>\n",
       "      <td>162713</td>\n",
       "      <td>162817</td>\n",
       "      <td>106</td>\n",
       "    </tr>\n",
       "    <tr>\n",
       "      <th>2</th>\n",
       "      <td>ID=HORVU.MOREX.r3.1HG0000100.1</td>\n",
       "      <td>intron</td>\n",
       "      <td>163069</td>\n",
       "      <td>163164</td>\n",
       "      <td>97</td>\n",
       "    </tr>\n",
       "    <tr>\n",
       "      <th>3</th>\n",
       "      <td>ID=HORVU.MOREX.r3.1HG0000100.1</td>\n",
       "      <td>intron</td>\n",
       "      <td>163386</td>\n",
       "      <td>166230</td>\n",
       "      <td>2846</td>\n",
       "    </tr>\n",
       "    <tr>\n",
       "      <th>4</th>\n",
       "      <td>ID=HORVU.MOREX.r3.1HG0000120.1</td>\n",
       "      <td>intron</td>\n",
       "      <td>190996</td>\n",
       "      <td>191280</td>\n",
       "      <td>286</td>\n",
       "    </tr>\n",
       "    <tr>\n",
       "      <th>...</th>\n",
       "      <td>...</td>\n",
       "      <td>...</td>\n",
       "      <td>...</td>\n",
       "      <td>...</td>\n",
       "      <td>...</td>\n",
       "    </tr>\n",
       "    <tr>\n",
       "      <th>95</th>\n",
       "      <td>ID=HORVU.MOREX.r3.1HG0004090.1</td>\n",
       "      <td>intron</td>\n",
       "      <td>8818290</td>\n",
       "      <td>8818371</td>\n",
       "      <td>83</td>\n",
       "    </tr>\n",
       "    <tr>\n",
       "      <th>96</th>\n",
       "      <td>ID=HORVU.MOREX.r3.1HG0004090.1</td>\n",
       "      <td>intron</td>\n",
       "      <td>8818465</td>\n",
       "      <td>8818552</td>\n",
       "      <td>89</td>\n",
       "    </tr>\n",
       "    <tr>\n",
       "      <th>97</th>\n",
       "      <td>ID=HORVU.MOREX.r3.1HG0004090.1</td>\n",
       "      <td>intron</td>\n",
       "      <td>8818763</td>\n",
       "      <td>8818850</td>\n",
       "      <td>89</td>\n",
       "    </tr>\n",
       "    <tr>\n",
       "      <th>98</th>\n",
       "      <td>ID=HORVU.MOREX.r3.1HG0004090.1</td>\n",
       "      <td>intron</td>\n",
       "      <td>8819105</td>\n",
       "      <td>8819191</td>\n",
       "      <td>88</td>\n",
       "    </tr>\n",
       "    <tr>\n",
       "      <th>99</th>\n",
       "      <td>ID=HORVU.MOREX.r3.1HG0004170.1</td>\n",
       "      <td>intron</td>\n",
       "      <td>8917167</td>\n",
       "      <td>8917458</td>\n",
       "      <td>293</td>\n",
       "    </tr>\n",
       "  </tbody>\n",
       "</table>\n",
       "<p>100 rows × 5 columns</p>\n",
       "</div>"
      ],
      "text/plain": [
       "                                ID     type    start      end  length\n",
       "0   ID=HORVU.MOREX.r3.1HG0000010.1  intron     49773    50194     423\n",
       "1   ID=HORVU.MOREX.r3.1HG0000100.1  intron    162713   162817     106\n",
       "2   ID=HORVU.MOREX.r3.1HG0000100.1  intron    163069   163164      97\n",
       "3   ID=HORVU.MOREX.r3.1HG0000100.1  intron    163386   166230    2846\n",
       "4   ID=HORVU.MOREX.r3.1HG0000120.1  intron    190996   191280     286\n",
       "..                             ...      ...      ...      ...     ...\n",
       "95  ID=HORVU.MOREX.r3.1HG0004090.1  intron   8818290  8818371      83\n",
       "96  ID=HORVU.MOREX.r3.1HG0004090.1  intron   8818465  8818552      89\n",
       "97  ID=HORVU.MOREX.r3.1HG0004090.1  intron   8818763  8818850      89\n",
       "98  ID=HORVU.MOREX.r3.1HG0004090.1  intron   8819105  8819191      88\n",
       "99  ID=HORVU.MOREX.r3.1HG0004170.1  intron   8917167  8917458     293\n",
       "\n",
       "[100 rows x 5 columns]"
      ]
     },
     "execution_count": 150,
     "metadata": {},
     "output_type": "execute_result"
    }
   ],
   "source": [
    "introns_Hv_MorexLC = pd.read_csv('Output/Hv_MorexLC_introns.tsv', sep = '\\t')\n",
    "introns_Hv_MorexLC[:100]"
   ]
  },
  {
   "cell_type": "code",
   "execution_count": 151,
   "metadata": {},
   "outputs": [],
   "source": [
    "### --- Counting introns type in Hv_MorexHC\n",
    "introns_dictionary_Hv_MorexLC = counting_introns_type(exon_Hv_MorexLC)"
   ]
  },
  {
   "cell_type": "code",
   "execution_count": 152,
   "metadata": {},
   "outputs": [
    {
     "name": "stdout",
     "output_type": "stream",
     "text": [
      "Intronless are: 34638\n",
      "Intronpoor are: 9345\n",
      "Intronrich are: 1877\n"
     ]
    }
   ],
   "source": [
    "n_intronless_Hv_MorexLC, n_intronpoor_Hv_MorexLC, n_intronrich_Hv_MorexLC, intronless_Hv_MorexLC, intronpoor_Hv_MorexLC, intronrich_Hv_MorexLC = splitting_introns_type(introns_dictionary_Hv_MorexLC)"
   ]
  },
  {
   "cell_type": "code",
   "execution_count": 156,
   "metadata": {},
   "outputs": [
    {
     "data": {
      "image/png": "[encoded data removed]",
      "text/plain": [
       "<Figure size 720x504 with 1 Axes>"
      ]
     },
     "metadata": {},
     "output_type": "display_data"
    }
   ],
   "source": [
    "data_Hv_MorexLC = [34638, 9345, 1877]\n",
    "fig = plt.figure(figsize =(10, 7))\n",
    "plt.pie(data_Hv_MorexLC, labels = genes, autopct='%1.0f%%')\n",
    "plt.title(\"Genes Hv_MorexLC Distribution\", bbox={'facecolor':'0.8', 'pad':5})\n",
    "plt.show()"
   ]
  },
  {
   "cell_type": "code",
   "execution_count": 160,
   "metadata": {},
   "outputs": [],
   "source": [
    "### --- Creating the list of Hv_MorexLC gene IDs to check the number of transcripts using command line\n",
    "intronless_file_Hv_Morex_LC = open('Output/Hv_MorexLC_intronlessIDs.txt', 'a')\n",
    "intronpoor_file_Hv_Morex_LC = open('Output/Hv_MorexLC_intronpoorIDs.txt', 'a')\n",
    "intronrich_file_Hv_Morex_LC = open('Output/Hv_MorexLC_intronrichIDs.txt', 'a')\n",
    "for i in range(len(intronless_Hv_MorexLC)):\n",
    "    if i == len(intronless_Hv_MorexLC) -1:\n",
    "        intronless_file_Hv_Morex_LC.write(intronless_Hv_MorexLC[i])\n",
    "    else:\n",
    "        intronless_file_Hv_Morex_LC.write(intronless_Hv_MorexLC[i] + '\\n')\n",
    "intronless_file_Hv_Morex_LC.close()\n",
    "\n",
    "for i in range(len(intronpoor_Hv_MorexLC)):\n",
    "    if i == len(intronpoor_Hv_MorexLC) -1:\n",
    "        intronpoor_file_Hv_Morex_LC.write(intronpoor_Hv_MorexLC[i])\n",
    "    else:\n",
    "        intronpoor_file_Hv_Morex_LC.write(intronpoor_Hv_MorexLC[i] + '\\n')\n",
    "intronpoor_file_Hv_Morex_LC.close()\n",
    "\n",
    "for i in range(len(intronrich_Hv_MorexLC)):\n",
    "    if i == len(intronrich_Hv_MorexLC) -1:\n",
    "        intronrich_file_Hv_Morex_LC.write(intronrich_Hv_MorexLC[i])\n",
    "    else:\n",
    "        intronrich_file_Hv_Morex_LC.write(intronrich_Hv_MorexLC[i]+'\\n')\n",
    "intronrich_file_Hv_Morex_LC.close()\n"
   ]
  },
  {
   "cell_type": "code",
   "execution_count": 161,
   "metadata": {},
   "outputs": [],
   "source": [
    "### --- Storing the number of transcripts in intron-less/poor/rich genes within a variable \n",
    "n_mRNA_intronless_Hv_MorexLC = ! grep -f Output/Hv_MorexLC_intronlessIDs.txt Data/Hv_Morex_nohashtag.pgsb.Jul2020.LC.gff3 | awk -F '\\t' '{print $3}' | grep -w 'mRNA' | wc -l\n",
    "n_mRNA_intronpoor_Hv_MorexLC = ! grep -f Output/Hv_MorexLC_intronpoorIDs.txt Data/Hv_Morex_nohashtag.pgsb.Jul2020.LC.gff3 | awk -F '\\t' '{print $3}' | grep -w 'mRNA' | wc -l\n",
    "n_mRNA_intronrich_Hv_MorexLC = ! grep -f Output/Hv_MorexLC_intronrichIDs.txt Data/Hv_Morex_nohashtag.pgsb.Jul2020.LC.gff3 | awk -F '\\t' '{print $3}' | grep -w 'mRNA' | wc -l"
   ]
  },
  {
   "cell_type": "code",
   "execution_count": 162,
   "metadata": {},
   "outputs": [
    {
     "name": "stdout",
     "output_type": "stream",
     "text": [
      "1.0\n",
      "1.000749063670412\n",
      "1.0852424080980287\n"
     ]
    }
   ],
   "source": [
    "### --- Checking the average number of transcripts for each gene-type\n",
    "avg_mRNA_intronless_Hv_MorexLC = int(n_mRNA_intronless_Hv_MorexLC[0])/n_intronless_Hv_MorexLC\n",
    "print(avg_mRNA_intronless_Hv_MorexLC)\n",
    "avg_mRNA_intronpoor_Hv_MorexLC = int(n_mRNA_intronpoor_Hv_MorexLC[0])/n_intronpoor_Hv_MorexLC\n",
    "print(avg_mRNA_intronpoor_Hv_MorexLC)\n",
    "avg_mRNA_intronrich_Hv_MorexLC = int(n_mRNA_intronrich_Hv_MorexLC[0])/n_intronrich_Hv_MorexLC\n",
    "print(avg_mRNA_intronrich_Hv_MorexLC)"
   ]
  },
  {
   "cell_type": "markdown",
   "metadata": {},
   "source": [
    "### 2.2.4 Extracting introns from UTR regions"
   ]
  },
  {
   "cell_type": "code",
   "execution_count": 163,
   "metadata": {},
   "outputs": [],
   "source": [
    "### --- Extracting introns from UTR forward Hv_MorexLC\n",
    "extract_UTR_introns('Data/Hv_MorexLC_UTRforw.tsv', 'Output/Hv_MorexLC_UTRforw_introns.tsv')"
   ]
  },
  {
   "cell_type": "code",
   "execution_count": 164,
   "metadata": {},
   "outputs": [],
   "source": [
    "### --- Extracting introns from UTR reverse Hv_MorexLC\n",
    "extract_UTR_introns('Data/Hv_MorexLC_UTRrev.tsv', 'Output/Hv_MorexLC_UTRrev_introns.tsv')"
   ]
  },
  {
   "cell_type": "code",
   "execution_count": 165,
   "metadata": {},
   "outputs": [
    {
     "data": {
      "text/html": [
       "<div>\n",
       "<style scoped>\n",
       "    .dataframe tbody tr th:only-of-type {\n",
       "        vertical-align: middle;\n",
       "    }\n",
       "\n",
       "    .dataframe tbody tr th {\n",
       "        vertical-align: top;\n",
       "    }\n",
       "\n",
       "    .dataframe thead th {\n",
       "        text-align: right;\n",
       "    }\n",
       "</style>\n",
       "<table border=\"1\" class=\"dataframe\">\n",
       "  <thead>\n",
       "    <tr style=\"text-align: right;\">\n",
       "      <th></th>\n",
       "      <th>ID</th>\n",
       "      <th>type</th>\n",
       "      <th>start</th>\n",
       "      <th>end</th>\n",
       "      <th>length</th>\n",
       "    </tr>\n",
       "  </thead>\n",
       "  <tbody>\n",
       "    <tr>\n",
       "      <th>0</th>\n",
       "      <td>ID=HORVU.MOREX.r3.1HG0013040.1</td>\n",
       "      <td>intron five_prime_UTR</td>\n",
       "      <td>32366793</td>\n",
       "      <td>32368232</td>\n",
       "      <td>1441</td>\n",
       "    </tr>\n",
       "    <tr>\n",
       "      <th>1</th>\n",
       "      <td>ID=HORVU.MOREX.r3.1HG0016180.1</td>\n",
       "      <td>intron five_prime_UTR</td>\n",
       "      <td>46808524</td>\n",
       "      <td>46808624</td>\n",
       "      <td>102</td>\n",
       "    </tr>\n",
       "    <tr>\n",
       "      <th>2</th>\n",
       "      <td>ID=HORVU.MOREX.r3.1HG0033800.1</td>\n",
       "      <td>intron three_prime_UTR</td>\n",
       "      <td>179225709</td>\n",
       "      <td>179226387</td>\n",
       "      <td>680</td>\n",
       "    </tr>\n",
       "    <tr>\n",
       "      <th>3</th>\n",
       "      <td>ID=HORVU.MOREX.r3.1HG0033800.1</td>\n",
       "      <td>intron three_prime_UTR</td>\n",
       "      <td>179226467</td>\n",
       "      <td>179227377</td>\n",
       "      <td>912</td>\n",
       "    </tr>\n",
       "    <tr>\n",
       "      <th>4</th>\n",
       "      <td>ID=HORVU.MOREX.r3.1HG0033820.1</td>\n",
       "      <td>intron three_prime_UTR</td>\n",
       "      <td>179278895</td>\n",
       "      <td>179278985</td>\n",
       "      <td>92</td>\n",
       "    </tr>\n",
       "  </tbody>\n",
       "</table>\n",
       "</div>"
      ],
      "text/plain": [
       "                               ID                    type      start  \\\n",
       "0  ID=HORVU.MOREX.r3.1HG0013040.1   intron five_prime_UTR   32366793   \n",
       "1  ID=HORVU.MOREX.r3.1HG0016180.1   intron five_prime_UTR   46808524   \n",
       "2  ID=HORVU.MOREX.r3.1HG0033800.1  intron three_prime_UTR  179225709   \n",
       "3  ID=HORVU.MOREX.r3.1HG0033800.1  intron three_prime_UTR  179226467   \n",
       "4  ID=HORVU.MOREX.r3.1HG0033820.1  intron three_prime_UTR  179278895   \n",
       "\n",
       "         end  length  \n",
       "0   32368232    1441  \n",
       "1   46808624     102  \n",
       "2  179226387     680  \n",
       "3  179227377     912  \n",
       "4  179278985      92  "
      ]
     },
     "execution_count": 165,
     "metadata": {},
     "output_type": "execute_result"
    }
   ],
   "source": [
    "introns_UTR_forw_Hv_MorexLC = pd.read_csv('Output/Hv_MorexLC_UTRforw_introns.tsv', sep='\\t')\n",
    "introns_UTR_forw_Hv_MorexLC.head()"
   ]
  },
  {
   "cell_type": "code",
   "execution_count": 166,
   "metadata": {
    "scrolled": true
   },
   "outputs": [
    {
     "data": {
      "text/html": [
       "<div>\n",
       "<style scoped>\n",
       "    .dataframe tbody tr th:only-of-type {\n",
       "        vertical-align: middle;\n",
       "    }\n",
       "\n",
       "    .dataframe tbody tr th {\n",
       "        vertical-align: top;\n",
       "    }\n",
       "\n",
       "    .dataframe thead th {\n",
       "        text-align: right;\n",
       "    }\n",
       "</style>\n",
       "<table border=\"1\" class=\"dataframe\">\n",
       "  <thead>\n",
       "    <tr style=\"text-align: right;\">\n",
       "      <th></th>\n",
       "      <th>ID</th>\n",
       "      <th>type</th>\n",
       "      <th>start</th>\n",
       "      <th>end</th>\n",
       "      <th>length</th>\n",
       "    </tr>\n",
       "  </thead>\n",
       "  <tbody>\n",
       "    <tr>\n",
       "      <th>0</th>\n",
       "      <td>ID=HORVU.MOREX.r3.1HG0014180.1</td>\n",
       "      <td>intron five_prime_UTR</td>\n",
       "      <td>36894157</td>\n",
       "      <td>36894895</td>\n",
       "      <td>740</td>\n",
       "    </tr>\n",
       "    <tr>\n",
       "      <th>1</th>\n",
       "      <td>ID=HORVU.MOREX.r3.1HG0014180.2</td>\n",
       "      <td>intron five_prime_UTR</td>\n",
       "      <td>36894157</td>\n",
       "      <td>36894774</td>\n",
       "      <td>619</td>\n",
       "    </tr>\n",
       "    <tr>\n",
       "      <th>2</th>\n",
       "      <td>ID=HORVU.MOREX.r3.1HG0016500.1</td>\n",
       "      <td>intron three_prime_UTR</td>\n",
       "      <td>48532571</td>\n",
       "      <td>48532662</td>\n",
       "      <td>93</td>\n",
       "    </tr>\n",
       "    <tr>\n",
       "      <th>3</th>\n",
       "      <td>ID=HORVU.MOREX.r3.1HG0016500.1</td>\n",
       "      <td>intron three_prime_UTR</td>\n",
       "      <td>48532748</td>\n",
       "      <td>48533976</td>\n",
       "      <td>1230</td>\n",
       "    </tr>\n",
       "    <tr>\n",
       "      <th>4</th>\n",
       "      <td>ID=HORVU.MOREX.r3.1HG0016500.2</td>\n",
       "      <td>intron three_prime_UTR</td>\n",
       "      <td>48530961</td>\n",
       "      <td>48532662</td>\n",
       "      <td>1703</td>\n",
       "    </tr>\n",
       "  </tbody>\n",
       "</table>\n",
       "</div>"
      ],
      "text/plain": [
       "                               ID                    type     start       end  \\\n",
       "0  ID=HORVU.MOREX.r3.1HG0014180.1   intron five_prime_UTR  36894157  36894895   \n",
       "1  ID=HORVU.MOREX.r3.1HG0014180.2   intron five_prime_UTR  36894157  36894774   \n",
       "2  ID=HORVU.MOREX.r3.1HG0016500.1  intron three_prime_UTR  48532571  48532662   \n",
       "3  ID=HORVU.MOREX.r3.1HG0016500.1  intron three_prime_UTR  48532748  48533976   \n",
       "4  ID=HORVU.MOREX.r3.1HG0016500.2  intron three_prime_UTR  48530961  48532662   \n",
       "\n",
       "   length  \n",
       "0     740  \n",
       "1     619  \n",
       "2      93  \n",
       "3    1230  \n",
       "4    1703  "
      ]
     },
     "execution_count": 166,
     "metadata": {},
     "output_type": "execute_result"
    }
   ],
   "source": [
    "introns_UTR_rev_Hv_MorexLC = pd.read_csv('Output/Hv_MorexLC_UTRrev_introns.tsv', sep = '\\t')\n",
    "introns_UTR_rev_Hv_MorexLC.head()"
   ]
  },
  {
   "cell_type": "code",
   "execution_count": 167,
   "metadata": {},
   "outputs": [],
   "source": [
    "### --- Concatenating the UTR_introns to build a unique dataframe\n",
    "frames_Hv_MorexLC = [introns_UTR_forw_Hv_MorexLC, introns_UTR_rev_Hv_MorexLC]\n",
    "introns_UTR_Hv_MorexLC = pd.concat(frames_Hv_MorexLC)"
   ]
  },
  {
   "cell_type": "code",
   "execution_count": 169,
   "metadata": {},
   "outputs": [
    {
     "data": {
      "text/plain": [
       "count      662.000000\n",
       "mean       762.001511\n",
       "std       1953.932847\n",
       "min         60.000000\n",
       "25%        105.250000\n",
       "50%        265.500000\n",
       "75%        844.750000\n",
       "max      30548.000000\n",
       "Name: length, dtype: float64"
      ]
     },
     "execution_count": 169,
     "metadata": {},
     "output_type": "execute_result"
    }
   ],
   "source": [
    "### --- Performing some basic statistics \n",
    "introns_UTR_Hv_MorexLC['length'].describe()"
   ]
  },
  {
   "cell_type": "code",
   "execution_count": 170,
   "metadata": {},
   "outputs": [
    {
     "data": {
      "text/plain": [
       "<AxesSubplot:ylabel='Density'>"
      ]
     },
     "execution_count": 170,
     "metadata": {},
     "output_type": "execute_result"
    },
    {
     "data": {
      "image/png": "[encoded data removed]",
      "text/plain": [
       "<Figure size 1440x1440 with 1 Axes>"
      ]
     },
     "metadata": {
      "needs_background": "light"
     },
     "output_type": "display_data"
    }
   ],
   "source": [
    "### --- Plotting the distribution of UTR introns length\n",
    "introns_UTR_Hv_MorexLC['length'].plot.density()"
   ]
  },
  {
   "cell_type": "code",
   "execution_count": 171,
   "metadata": {
    "scrolled": true
   },
   "outputs": [
    {
     "data": {
      "text/plain": [
       "<AxesSubplot:>"
      ]
     },
     "execution_count": 171,
     "metadata": {},
     "output_type": "execute_result"
    },
    {
     "data": {
      "image/png": "[encoded data removed]",
      "text/plain": [
       "<Figure size 1440x1440 with 1 Axes>"
      ]
     },
     "metadata": {
      "needs_background": "light"
     },
     "output_type": "display_data"
    }
   ],
   "source": [
    "### --- Plotting the boxplot of UTR introns length without outliers\n",
    "introns_UTR_Hv_MorexLC.boxplot(column='length', return_type='axes', showfliers=False) # showfliers = False -> discard outliers"
   ]
  },
  {
   "cell_type": "code",
   "execution_count": 172,
   "metadata": {},
   "outputs": [],
   "source": [
    "### --- splitting in introns 3'UTR and 5'UTR to eventually if there are differences among the two\n",
    "introns_UTR3_Hv_MorexLC = introns_UTR_Hv_MorexLC.loc[introns_UTR_Hv_MorexLC['type'].isin(['intron three_prime_UTR'])]\n",
    "introns_UTR5_Hv_MorexLC = introns_UTR_Hv_MorexLC.loc[introns_UTR_Hv_MorexLC['type'].isin(['intron five_prime_UTR'])]"
   ]
  },
  {
   "cell_type": "code",
   "execution_count": 173,
   "metadata": {},
   "outputs": [
    {
     "data": {
      "text/html": [
       "<div>\n",
       "<style scoped>\n",
       "    .dataframe tbody tr th:only-of-type {\n",
       "        vertical-align: middle;\n",
       "    }\n",
       "\n",
       "    .dataframe tbody tr th {\n",
       "        vertical-align: top;\n",
       "    }\n",
       "\n",
       "    .dataframe thead th {\n",
       "        text-align: right;\n",
       "    }\n",
       "</style>\n",
       "<table border=\"1\" class=\"dataframe\">\n",
       "  <thead>\n",
       "    <tr style=\"text-align: right;\">\n",
       "      <th></th>\n",
       "      <th>ID</th>\n",
       "      <th>type</th>\n",
       "      <th>start</th>\n",
       "      <th>end</th>\n",
       "      <th>length</th>\n",
       "    </tr>\n",
       "  </thead>\n",
       "  <tbody>\n",
       "    <tr>\n",
       "      <th>2</th>\n",
       "      <td>ID=HORVU.MOREX.r3.1HG0033800.1</td>\n",
       "      <td>intron three_prime_UTR</td>\n",
       "      <td>179225709</td>\n",
       "      <td>179226387</td>\n",
       "      <td>680</td>\n",
       "    </tr>\n",
       "    <tr>\n",
       "      <th>3</th>\n",
       "      <td>ID=HORVU.MOREX.r3.1HG0033800.1</td>\n",
       "      <td>intron three_prime_UTR</td>\n",
       "      <td>179226467</td>\n",
       "      <td>179227377</td>\n",
       "      <td>912</td>\n",
       "    </tr>\n",
       "    <tr>\n",
       "      <th>4</th>\n",
       "      <td>ID=HORVU.MOREX.r3.1HG0033820.1</td>\n",
       "      <td>intron three_prime_UTR</td>\n",
       "      <td>179278895</td>\n",
       "      <td>179278985</td>\n",
       "      <td>92</td>\n",
       "    </tr>\n",
       "    <tr>\n",
       "      <th>8</th>\n",
       "      <td>ID=HORVU.MOREX.r3.1HG0040200.1</td>\n",
       "      <td>intron three_prime_UTR</td>\n",
       "      <td>254273004</td>\n",
       "      <td>254273075</td>\n",
       "      <td>73</td>\n",
       "    </tr>\n",
       "    <tr>\n",
       "      <th>9</th>\n",
       "      <td>ID=HORVU.MOREX.r3.1HG0040200.1</td>\n",
       "      <td>intron three_prime_UTR</td>\n",
       "      <td>254273172</td>\n",
       "      <td>254273252</td>\n",
       "      <td>82</td>\n",
       "    </tr>\n",
       "    <tr>\n",
       "      <th>...</th>\n",
       "      <td>...</td>\n",
       "      <td>...</td>\n",
       "      <td>...</td>\n",
       "      <td>...</td>\n",
       "      <td>...</td>\n",
       "    </tr>\n",
       "    <tr>\n",
       "      <th>256</th>\n",
       "      <td>ID=HORVU.MOREX.r3.7HG0686700.4</td>\n",
       "      <td>intron three_prime_UTR</td>\n",
       "      <td>225674132</td>\n",
       "      <td>225674643</td>\n",
       "      <td>513</td>\n",
       "    </tr>\n",
       "    <tr>\n",
       "      <th>260</th>\n",
       "      <td>ID=HORVU.MOREX.r3.7HG0690620.1</td>\n",
       "      <td>intron three_prime_UTR</td>\n",
       "      <td>264611386</td>\n",
       "      <td>264612013</td>\n",
       "      <td>629</td>\n",
       "    </tr>\n",
       "    <tr>\n",
       "      <th>261</th>\n",
       "      <td>ID=HORVU.MOREX.r3.7HG0693690.1</td>\n",
       "      <td>intron three_prime_UTR</td>\n",
       "      <td>306366598</td>\n",
       "      <td>306367589</td>\n",
       "      <td>993</td>\n",
       "    </tr>\n",
       "    <tr>\n",
       "      <th>264</th>\n",
       "      <td>ID=HORVU.MOREX.r3.7HG0697870.1</td>\n",
       "      <td>intron three_prime_UTR</td>\n",
       "      <td>360535445</td>\n",
       "      <td>360536998</td>\n",
       "      <td>1555</td>\n",
       "    </tr>\n",
       "    <tr>\n",
       "      <th>267</th>\n",
       "      <td>ID=HORVU.MOREX.r3.7HG0711160.1</td>\n",
       "      <td>intron three_prime_UTR</td>\n",
       "      <td>469702088</td>\n",
       "      <td>469704059</td>\n",
       "      <td>1973</td>\n",
       "    </tr>\n",
       "  </tbody>\n",
       "</table>\n",
       "<p>380 rows × 5 columns</p>\n",
       "</div>"
      ],
      "text/plain": [
       "                                 ID                    type      start  \\\n",
       "2    ID=HORVU.MOREX.r3.1HG0033800.1  intron three_prime_UTR  179225709   \n",
       "3    ID=HORVU.MOREX.r3.1HG0033800.1  intron three_prime_UTR  179226467   \n",
       "4    ID=HORVU.MOREX.r3.1HG0033820.1  intron three_prime_UTR  179278895   \n",
       "8    ID=HORVU.MOREX.r3.1HG0040200.1  intron three_prime_UTR  254273004   \n",
       "9    ID=HORVU.MOREX.r3.1HG0040200.1  intron three_prime_UTR  254273172   \n",
       "..                              ...                     ...        ...   \n",
       "256  ID=HORVU.MOREX.r3.7HG0686700.4  intron three_prime_UTR  225674132   \n",
       "260  ID=HORVU.MOREX.r3.7HG0690620.1  intron three_prime_UTR  264611386   \n",
       "261  ID=HORVU.MOREX.r3.7HG0693690.1  intron three_prime_UTR  306366598   \n",
       "264  ID=HORVU.MOREX.r3.7HG0697870.1  intron three_prime_UTR  360535445   \n",
       "267  ID=HORVU.MOREX.r3.7HG0711160.1  intron three_prime_UTR  469702088   \n",
       "\n",
       "           end  length  \n",
       "2    179226387     680  \n",
       "3    179227377     912  \n",
       "4    179278985      92  \n",
       "8    254273075      73  \n",
       "9    254273252      82  \n",
       "..         ...     ...  \n",
       "256  225674643     513  \n",
       "260  264612013     629  \n",
       "261  306367589     993  \n",
       "264  360536998    1555  \n",
       "267  469704059    1973  \n",
       "\n",
       "[380 rows x 5 columns]"
      ]
     },
     "execution_count": 173,
     "metadata": {},
     "output_type": "execute_result"
    }
   ],
   "source": [
    "introns_UTR3_Hv_MorexLC"
   ]
  },
  {
   "cell_type": "code",
   "execution_count": 176,
   "metadata": {},
   "outputs": [
    {
     "data": {
      "text/plain": [
       "count      380.000000\n",
       "mean       822.815789\n",
       "std       2185.413050\n",
       "min         64.000000\n",
       "25%        105.000000\n",
       "50%        298.000000\n",
       "75%        844.250000\n",
       "max      30548.000000\n",
       "Name: length, dtype: float64"
      ]
     },
     "execution_count": 176,
     "metadata": {},
     "output_type": "execute_result"
    }
   ],
   "source": [
    "introns_UTR3_Hv_MorexLC['length'].describe()"
   ]
  },
  {
   "cell_type": "code",
   "execution_count": 174,
   "metadata": {},
   "outputs": [
    {
     "data": {
      "text/html": [
       "<div>\n",
       "<style scoped>\n",
       "    .dataframe tbody tr th:only-of-type {\n",
       "        vertical-align: middle;\n",
       "    }\n",
       "\n",
       "    .dataframe tbody tr th {\n",
       "        vertical-align: top;\n",
       "    }\n",
       "\n",
       "    .dataframe thead th {\n",
       "        text-align: right;\n",
       "    }\n",
       "</style>\n",
       "<table border=\"1\" class=\"dataframe\">\n",
       "  <thead>\n",
       "    <tr style=\"text-align: right;\">\n",
       "      <th></th>\n",
       "      <th>ID</th>\n",
       "      <th>type</th>\n",
       "      <th>start</th>\n",
       "      <th>end</th>\n",
       "      <th>length</th>\n",
       "    </tr>\n",
       "  </thead>\n",
       "  <tbody>\n",
       "    <tr>\n",
       "      <th>0</th>\n",
       "      <td>ID=HORVU.MOREX.r3.1HG0013040.1</td>\n",
       "      <td>intron five_prime_UTR</td>\n",
       "      <td>32366793</td>\n",
       "      <td>32368232</td>\n",
       "      <td>1441</td>\n",
       "    </tr>\n",
       "    <tr>\n",
       "      <th>1</th>\n",
       "      <td>ID=HORVU.MOREX.r3.1HG0016180.1</td>\n",
       "      <td>intron five_prime_UTR</td>\n",
       "      <td>46808524</td>\n",
       "      <td>46808624</td>\n",
       "      <td>102</td>\n",
       "    </tr>\n",
       "    <tr>\n",
       "      <th>5</th>\n",
       "      <td>ID=HORVU.MOREX.r3.1HG0036900.1</td>\n",
       "      <td>intron five_prime_UTR</td>\n",
       "      <td>220266901</td>\n",
       "      <td>220267015</td>\n",
       "      <td>116</td>\n",
       "    </tr>\n",
       "    <tr>\n",
       "      <th>6</th>\n",
       "      <td>ID=HORVU.MOREX.r3.1HG0036900.1</td>\n",
       "      <td>intron five_prime_UTR</td>\n",
       "      <td>220267198</td>\n",
       "      <td>220267704</td>\n",
       "      <td>508</td>\n",
       "    </tr>\n",
       "    <tr>\n",
       "      <th>7</th>\n",
       "      <td>ID=HORVU.MOREX.r3.1HG0036900.2</td>\n",
       "      <td>intron five_prime_UTR</td>\n",
       "      <td>220266901</td>\n",
       "      <td>220267015</td>\n",
       "      <td>116</td>\n",
       "    </tr>\n",
       "    <tr>\n",
       "      <th>...</th>\n",
       "      <td>...</td>\n",
       "      <td>...</td>\n",
       "      <td>...</td>\n",
       "      <td>...</td>\n",
       "      <td>...</td>\n",
       "    </tr>\n",
       "    <tr>\n",
       "      <th>263</th>\n",
       "      <td>ID=HORVU.MOREX.r3.7HG0695870.1</td>\n",
       "      <td>intron five_prime_UTR</td>\n",
       "      <td>335796573</td>\n",
       "      <td>335796877</td>\n",
       "      <td>306</td>\n",
       "    </tr>\n",
       "    <tr>\n",
       "      <th>265</th>\n",
       "      <td>ID=HORVU.MOREX.r3.7HG0697870.1</td>\n",
       "      <td>intron five_prime_UTR</td>\n",
       "      <td>360537796</td>\n",
       "      <td>360537891</td>\n",
       "      <td>97</td>\n",
       "    </tr>\n",
       "    <tr>\n",
       "      <th>266</th>\n",
       "      <td>ID=HORVU.MOREX.r3.7HG0704470.1</td>\n",
       "      <td>intron five_prime_UTR</td>\n",
       "      <td>422495764</td>\n",
       "      <td>422495886</td>\n",
       "      <td>124</td>\n",
       "    </tr>\n",
       "    <tr>\n",
       "      <th>268</th>\n",
       "      <td>ID=HORVU.MOREX.r3.7HG0717650.1</td>\n",
       "      <td>intron five_prime_UTR</td>\n",
       "      <td>511731957</td>\n",
       "      <td>511732038</td>\n",
       "      <td>83</td>\n",
       "    </tr>\n",
       "    <tr>\n",
       "      <th>269</th>\n",
       "      <td>ID=HORVU.MOREX.r3.7HG0726810.1</td>\n",
       "      <td>intron five_prime_UTR</td>\n",
       "      <td>564148992</td>\n",
       "      <td>564150547</td>\n",
       "      <td>1557</td>\n",
       "    </tr>\n",
       "  </tbody>\n",
       "</table>\n",
       "<p>282 rows × 5 columns</p>\n",
       "</div>"
      ],
      "text/plain": [
       "                                 ID                   type      start  \\\n",
       "0    ID=HORVU.MOREX.r3.1HG0013040.1  intron five_prime_UTR   32366793   \n",
       "1    ID=HORVU.MOREX.r3.1HG0016180.1  intron five_prime_UTR   46808524   \n",
       "5    ID=HORVU.MOREX.r3.1HG0036900.1  intron five_prime_UTR  220266901   \n",
       "6    ID=HORVU.MOREX.r3.1HG0036900.1  intron five_prime_UTR  220267198   \n",
       "7    ID=HORVU.MOREX.r3.1HG0036900.2  intron five_prime_UTR  220266901   \n",
       "..                              ...                    ...        ...   \n",
       "263  ID=HORVU.MOREX.r3.7HG0695870.1  intron five_prime_UTR  335796573   \n",
       "265  ID=HORVU.MOREX.r3.7HG0697870.1  intron five_prime_UTR  360537796   \n",
       "266  ID=HORVU.MOREX.r3.7HG0704470.1  intron five_prime_UTR  422495764   \n",
       "268  ID=HORVU.MOREX.r3.7HG0717650.1  intron five_prime_UTR  511731957   \n",
       "269  ID=HORVU.MOREX.r3.7HG0726810.1  intron five_prime_UTR  564148992   \n",
       "\n",
       "           end  length  \n",
       "0     32368232    1441  \n",
       "1     46808624     102  \n",
       "5    220267015     116  \n",
       "6    220267704     508  \n",
       "7    220267015     116  \n",
       "..         ...     ...  \n",
       "263  335796877     306  \n",
       "265  360537891      97  \n",
       "266  422495886     124  \n",
       "268  511732038      83  \n",
       "269  564150547    1557  \n",
       "\n",
       "[282 rows x 5 columns]"
      ]
     },
     "execution_count": 174,
     "metadata": {},
     "output_type": "execute_result"
    }
   ],
   "source": [
    "introns_UTR5_Hv_MorexLC"
   ]
  },
  {
   "cell_type": "code",
   "execution_count": 177,
   "metadata": {},
   "outputs": [
    {
     "data": {
      "text/plain": [
       "count      282.000000\n",
       "mean       680.053191\n",
       "std       1589.765537\n",
       "min         60.000000\n",
       "25%        106.000000\n",
       "50%        240.500000\n",
       "75%        838.750000\n",
       "max      24296.000000\n",
       "Name: length, dtype: float64"
      ]
     },
     "execution_count": 177,
     "metadata": {},
     "output_type": "execute_result"
    }
   ],
   "source": [
    "introns_UTR5_Hv_MorexLC['length'].describe()"
   ]
  },
  {
   "cell_type": "markdown",
   "metadata": {},
   "source": [
    "### 2.2.5 Removing UTR introns from the whole introns dataframe"
   ]
  },
  {
   "cell_type": "code",
   "execution_count": 178,
   "metadata": {},
   "outputs": [
    {
     "data": {
      "text/html": [
       "<div>\n",
       "<style scoped>\n",
       "    .dataframe tbody tr th:only-of-type {\n",
       "        vertical-align: middle;\n",
       "    }\n",
       "\n",
       "    .dataframe tbody tr th {\n",
       "        vertical-align: top;\n",
       "    }\n",
       "\n",
       "    .dataframe thead th {\n",
       "        text-align: right;\n",
       "    }\n",
       "</style>\n",
       "<table border=\"1\" class=\"dataframe\">\n",
       "  <thead>\n",
       "    <tr style=\"text-align: right;\">\n",
       "      <th></th>\n",
       "      <th>ID</th>\n",
       "      <th>type</th>\n",
       "      <th>start</th>\n",
       "      <th>end</th>\n",
       "      <th>length</th>\n",
       "    </tr>\n",
       "  </thead>\n",
       "  <tbody>\n",
       "    <tr>\n",
       "      <th>0</th>\n",
       "      <td>ID=HORVU.MOREX.r3.1HG0000010.1</td>\n",
       "      <td>intron</td>\n",
       "      <td>49773</td>\n",
       "      <td>50194</td>\n",
       "      <td>423</td>\n",
       "    </tr>\n",
       "    <tr>\n",
       "      <th>1</th>\n",
       "      <td>ID=HORVU.MOREX.r3.1HG0000100.1</td>\n",
       "      <td>intron</td>\n",
       "      <td>162713</td>\n",
       "      <td>162817</td>\n",
       "      <td>106</td>\n",
       "    </tr>\n",
       "    <tr>\n",
       "      <th>2</th>\n",
       "      <td>ID=HORVU.MOREX.r3.1HG0000100.1</td>\n",
       "      <td>intron</td>\n",
       "      <td>163069</td>\n",
       "      <td>163164</td>\n",
       "      <td>97</td>\n",
       "    </tr>\n",
       "    <tr>\n",
       "      <th>3</th>\n",
       "      <td>ID=HORVU.MOREX.r3.1HG0000100.1</td>\n",
       "      <td>intron</td>\n",
       "      <td>163386</td>\n",
       "      <td>166230</td>\n",
       "      <td>2846</td>\n",
       "    </tr>\n",
       "    <tr>\n",
       "      <th>4</th>\n",
       "      <td>ID=HORVU.MOREX.r3.1HG0000120.1</td>\n",
       "      <td>intron</td>\n",
       "      <td>190996</td>\n",
       "      <td>191280</td>\n",
       "      <td>286</td>\n",
       "    </tr>\n",
       "  </tbody>\n",
       "</table>\n",
       "</div>"
      ],
      "text/plain": [
       "                               ID     type   start     end  length\n",
       "0  ID=HORVU.MOREX.r3.1HG0000010.1  intron    49773   50194     423\n",
       "1  ID=HORVU.MOREX.r3.1HG0000100.1  intron   162713  162817     106\n",
       "2  ID=HORVU.MOREX.r3.1HG0000100.1  intron   163069  163164      97\n",
       "3  ID=HORVU.MOREX.r3.1HG0000100.1  intron   163386  166230    2846\n",
       "4  ID=HORVU.MOREX.r3.1HG0000120.1  intron   190996  191280     286"
      ]
     },
     "execution_count": 178,
     "metadata": {},
     "output_type": "execute_result"
    }
   ],
   "source": [
    "### --- Checking total introns dataframe \n",
    "introns_Hv_MorexLC.head()"
   ]
  },
  {
   "cell_type": "code",
   "execution_count": 179,
   "metadata": {},
   "outputs": [
    {
     "data": {
      "text/html": [
       "<div>\n",
       "<style scoped>\n",
       "    .dataframe tbody tr th:only-of-type {\n",
       "        vertical-align: middle;\n",
       "    }\n",
       "\n",
       "    .dataframe tbody tr th {\n",
       "        vertical-align: top;\n",
       "    }\n",
       "\n",
       "    .dataframe thead th {\n",
       "        text-align: right;\n",
       "    }\n",
       "</style>\n",
       "<table border=\"1\" class=\"dataframe\">\n",
       "  <thead>\n",
       "    <tr style=\"text-align: right;\">\n",
       "      <th></th>\n",
       "      <th>ID</th>\n",
       "      <th>type</th>\n",
       "      <th>start</th>\n",
       "      <th>end</th>\n",
       "      <th>length</th>\n",
       "    </tr>\n",
       "  </thead>\n",
       "  <tbody>\n",
       "    <tr>\n",
       "      <th>0</th>\n",
       "      <td>ID=HORVU.MOREX.r3.1HG0013040.1</td>\n",
       "      <td>intron five_prime_UTR</td>\n",
       "      <td>32366793</td>\n",
       "      <td>32368232</td>\n",
       "      <td>1441</td>\n",
       "    </tr>\n",
       "    <tr>\n",
       "      <th>1</th>\n",
       "      <td>ID=HORVU.MOREX.r3.1HG0016180.1</td>\n",
       "      <td>intron five_prime_UTR</td>\n",
       "      <td>46808524</td>\n",
       "      <td>46808624</td>\n",
       "      <td>102</td>\n",
       "    </tr>\n",
       "    <tr>\n",
       "      <th>2</th>\n",
       "      <td>ID=HORVU.MOREX.r3.1HG0033800.1</td>\n",
       "      <td>intron three_prime_UTR</td>\n",
       "      <td>179225709</td>\n",
       "      <td>179226387</td>\n",
       "      <td>680</td>\n",
       "    </tr>\n",
       "    <tr>\n",
       "      <th>3</th>\n",
       "      <td>ID=HORVU.MOREX.r3.1HG0033800.1</td>\n",
       "      <td>intron three_prime_UTR</td>\n",
       "      <td>179226467</td>\n",
       "      <td>179227377</td>\n",
       "      <td>912</td>\n",
       "    </tr>\n",
       "    <tr>\n",
       "      <th>4</th>\n",
       "      <td>ID=HORVU.MOREX.r3.1HG0033820.1</td>\n",
       "      <td>intron three_prime_UTR</td>\n",
       "      <td>179278895</td>\n",
       "      <td>179278985</td>\n",
       "      <td>92</td>\n",
       "    </tr>\n",
       "  </tbody>\n",
       "</table>\n",
       "</div>"
      ],
      "text/plain": [
       "                               ID                    type      start  \\\n",
       "0  ID=HORVU.MOREX.r3.1HG0013040.1   intron five_prime_UTR   32366793   \n",
       "1  ID=HORVU.MOREX.r3.1HG0016180.1   intron five_prime_UTR   46808524   \n",
       "2  ID=HORVU.MOREX.r3.1HG0033800.1  intron three_prime_UTR  179225709   \n",
       "3  ID=HORVU.MOREX.r3.1HG0033800.1  intron three_prime_UTR  179226467   \n",
       "4  ID=HORVU.MOREX.r3.1HG0033820.1  intron three_prime_UTR  179278895   \n",
       "\n",
       "         end  length  \n",
       "0   32368232    1441  \n",
       "1   46808624     102  \n",
       "2  179226387     680  \n",
       "3  179227377     912  \n",
       "4  179278985      92  "
      ]
     },
     "execution_count": 179,
     "metadata": {},
     "output_type": "execute_result"
    }
   ],
   "source": [
    "### --- Checking UTR introns dataframe\n",
    "introns_UTR_Hv_MorexLC.head()"
   ]
  },
  {
   "cell_type": "code",
   "execution_count": 180,
   "metadata": {},
   "outputs": [
    {
     "data": {
      "text/html": [
       "<div>\n",
       "<style scoped>\n",
       "    .dataframe tbody tr th:only-of-type {\n",
       "        vertical-align: middle;\n",
       "    }\n",
       "\n",
       "    .dataframe tbody tr th {\n",
       "        vertical-align: top;\n",
       "    }\n",
       "\n",
       "    .dataframe thead th {\n",
       "        text-align: right;\n",
       "    }\n",
       "</style>\n",
       "<table border=\"1\" class=\"dataframe\">\n",
       "  <thead>\n",
       "    <tr style=\"text-align: right;\">\n",
       "      <th></th>\n",
       "      <th>ID</th>\n",
       "      <th>type</th>\n",
       "      <th>start</th>\n",
       "      <th>end</th>\n",
       "      <th>length</th>\n",
       "    </tr>\n",
       "  </thead>\n",
       "  <tbody>\n",
       "    <tr>\n",
       "      <th>0</th>\n",
       "      <td>ID=HORVU.MOREX.r3.1HG0000010.1</td>\n",
       "      <td>intron</td>\n",
       "      <td>49773</td>\n",
       "      <td>50194</td>\n",
       "      <td>423</td>\n",
       "    </tr>\n",
       "    <tr>\n",
       "      <th>1</th>\n",
       "      <td>ID=HORVU.MOREX.r3.1HG0000100.1</td>\n",
       "      <td>intron</td>\n",
       "      <td>162713</td>\n",
       "      <td>162817</td>\n",
       "      <td>106</td>\n",
       "    </tr>\n",
       "    <tr>\n",
       "      <th>2</th>\n",
       "      <td>ID=HORVU.MOREX.r3.1HG0000100.1</td>\n",
       "      <td>intron</td>\n",
       "      <td>163069</td>\n",
       "      <td>163164</td>\n",
       "      <td>97</td>\n",
       "    </tr>\n",
       "    <tr>\n",
       "      <th>3</th>\n",
       "      <td>ID=HORVU.MOREX.r3.1HG0000100.1</td>\n",
       "      <td>intron</td>\n",
       "      <td>163386</td>\n",
       "      <td>166230</td>\n",
       "      <td>2846</td>\n",
       "    </tr>\n",
       "    <tr>\n",
       "      <th>4</th>\n",
       "      <td>ID=HORVU.MOREX.r3.1HG0000120.1</td>\n",
       "      <td>intron</td>\n",
       "      <td>190996</td>\n",
       "      <td>191280</td>\n",
       "      <td>286</td>\n",
       "    </tr>\n",
       "    <tr>\n",
       "      <th>...</th>\n",
       "      <td>...</td>\n",
       "      <td>...</td>\n",
       "      <td>...</td>\n",
       "      <td>...</td>\n",
       "      <td>...</td>\n",
       "    </tr>\n",
       "    <tr>\n",
       "      <th>25451</th>\n",
       "      <td>ID=HORVU.MOREX.r3.UnG0816300.1</td>\n",
       "      <td>intron</td>\n",
       "      <td>28901487</td>\n",
       "      <td>28901588</td>\n",
       "      <td>103</td>\n",
       "    </tr>\n",
       "    <tr>\n",
       "      <th>25452</th>\n",
       "      <td>ID=HORVU.MOREX.r3.UnG0816640.1</td>\n",
       "      <td>intron</td>\n",
       "      <td>29002646</td>\n",
       "      <td>29003296</td>\n",
       "      <td>652</td>\n",
       "    </tr>\n",
       "    <tr>\n",
       "      <th>25453</th>\n",
       "      <td>ID=HORVU.MOREX.r3.UnG0816680.1</td>\n",
       "      <td>intron</td>\n",
       "      <td>29008046</td>\n",
       "      <td>29008730</td>\n",
       "      <td>686</td>\n",
       "    </tr>\n",
       "    <tr>\n",
       "      <th>25454</th>\n",
       "      <td>ID=HORVU.MOREX.r3.UnG0816840.1</td>\n",
       "      <td>intron</td>\n",
       "      <td>29079790</td>\n",
       "      <td>29086201</td>\n",
       "      <td>6413</td>\n",
       "    </tr>\n",
       "    <tr>\n",
       "      <th>25455</th>\n",
       "      <td>ID=HORVU.MOREX.r3.UnG0816840.1</td>\n",
       "      <td>intron</td>\n",
       "      <td>29086208</td>\n",
       "      <td>29088676</td>\n",
       "      <td>2470</td>\n",
       "    </tr>\n",
       "  </tbody>\n",
       "</table>\n",
       "<p>24794 rows × 5 columns</p>\n",
       "</div>"
      ],
      "text/plain": [
       "                                   ID     type     start       end  length\n",
       "0      ID=HORVU.MOREX.r3.1HG0000010.1  intron      49773     50194     423\n",
       "1      ID=HORVU.MOREX.r3.1HG0000100.1  intron     162713    162817     106\n",
       "2      ID=HORVU.MOREX.r3.1HG0000100.1  intron     163069    163164      97\n",
       "3      ID=HORVU.MOREX.r3.1HG0000100.1  intron     163386    166230    2846\n",
       "4      ID=HORVU.MOREX.r3.1HG0000120.1  intron     190996    191280     286\n",
       "...                               ...      ...       ...       ...     ...\n",
       "25451  ID=HORVU.MOREX.r3.UnG0816300.1  intron   28901487  28901588     103\n",
       "25452  ID=HORVU.MOREX.r3.UnG0816640.1  intron   29002646  29003296     652\n",
       "25453  ID=HORVU.MOREX.r3.UnG0816680.1  intron   29008046  29008730     686\n",
       "25454  ID=HORVU.MOREX.r3.UnG0816840.1  intron   29079790  29086201    6413\n",
       "25455  ID=HORVU.MOREX.r3.UnG0816840.1  intron   29086208  29088676    2470\n",
       "\n",
       "[24794 rows x 5 columns]"
      ]
     },
     "execution_count": 180,
     "metadata": {},
     "output_type": "execute_result"
    }
   ],
   "source": [
    "### --- Extracting introns from cds within Hv_MorexHC\n",
    "introns_cds_Hv_MorexLC = cds_introns_dataframe(introns_Hv_MorexLC, introns_UTR_Hv_MorexLC)\n",
    "introns_cds_Hv_MorexLC"
   ]
  },
  {
   "cell_type": "code",
   "execution_count": 181,
   "metadata": {},
   "outputs": [
    {
     "data": {
      "text/html": [
       "<div>\n",
       "<style scoped>\n",
       "    .dataframe tbody tr th:only-of-type {\n",
       "        vertical-align: middle;\n",
       "    }\n",
       "\n",
       "    .dataframe tbody tr th {\n",
       "        vertical-align: top;\n",
       "    }\n",
       "\n",
       "    .dataframe thead th {\n",
       "        text-align: right;\n",
       "    }\n",
       "</style>\n",
       "<table border=\"1\" class=\"dataframe\">\n",
       "  <thead>\n",
       "    <tr style=\"text-align: right;\">\n",
       "      <th></th>\n",
       "      <th>ID</th>\n",
       "      <th>type</th>\n",
       "      <th>start</th>\n",
       "      <th>end</th>\n",
       "      <th>length</th>\n",
       "    </tr>\n",
       "  </thead>\n",
       "  <tbody>\n",
       "  </tbody>\n",
       "</table>\n",
       "</div>"
      ],
      "text/plain": [
       "Empty DataFrame\n",
       "Columns: [ID, type, start, end, length]\n",
       "Index: []"
      ]
     },
     "execution_count": 181,
     "metadata": {},
     "output_type": "execute_result"
    }
   ],
   "source": [
    "### --- Checking if there are not introns UTR within the created dataframe\n",
    "introns_cds_Hv_MorexLC.loc[introns_cds_Hv_MorexLC['type'].isin(['intron three_prime_UTR','intron five_prime_UTR'])]"
   ]
  },
  {
   "cell_type": "code",
   "execution_count": 182,
   "metadata": {},
   "outputs": [
    {
     "data": {
      "text/plain": [
       "count     24794.000000\n",
       "mean        487.854602\n",
       "std        3634.413380\n",
       "min          22.000000\n",
       "25%          88.000000\n",
       "50%         110.500000\n",
       "75%         314.000000\n",
       "max      500805.000000\n",
       "Name: length, dtype: float64"
      ]
     },
     "execution_count": 182,
     "metadata": {},
     "output_type": "execute_result"
    }
   ],
   "source": [
    "### --- Basic statistics of Hv_MorexLC introns cds\n",
    "introns_cds_Hv_MorexLC['length'].describe()"
   ]
  },
  {
   "cell_type": "code",
   "execution_count": 183,
   "metadata": {
    "scrolled": true
   },
   "outputs": [
    {
     "data": {
      "text/plain": [
       "<AxesSubplot:ylabel='Density'>"
      ]
     },
     "execution_count": 183,
     "metadata": {},
     "output_type": "execute_result"
    },
    {
     "data": {
      "image/png": "[encoded data removed]",
      "text/plain": [
       "<Figure size 1440x1440 with 1 Axes>"
      ]
     },
     "metadata": {
      "needs_background": "light"
     },
     "output_type": "display_data"
    }
   ],
   "source": [
    "### --- Plotting the distribution of Hv_MorexLC cds introns length\n",
    "introns_cds_Hv_MorexLC['length'].plot.density()"
   ]
  },
  {
   "cell_type": "code",
   "execution_count": 184,
   "metadata": {
    "scrolled": true
   },
   "outputs": [
    {
     "data": {
      "text/plain": [
       "<AxesSubplot:>"
      ]
     },
     "execution_count": 184,
     "metadata": {},
     "output_type": "execute_result"
    },
    {
     "data": {
      "image/png": "[encoded data removed]",
      "text/plain": [
       "<Figure size 1440x1440 with 1 Axes>"
      ]
     },
     "metadata": {
      "needs_background": "light"
     },
     "output_type": "display_data"
    }
   ],
   "source": [
    "### --- Plotting the boxplot of Hv_MorexLC cds introns length without outliers\n",
    "introns_cds_Hv_MorexLC.boxplot(column='length', return_type='axes', showfliers=False) # showfliers = False -> discard outliers"
   ]
  },
  {
   "cell_type": "markdown",
   "metadata": {},
   "source": [
    "### 2.2.6 Re-organizing files and directories"
   ]
  },
  {
   "cell_type": "code",
   "execution_count": 185,
   "metadata": {},
   "outputs": [
    {
     "name": "stdout",
     "output_type": "stream",
     "text": [
      "Hv_MorexLC_exon.tsv\t\t      Hv_Morex_nohashtag.pgsb.Jul2020.HC.csv\r\n",
      "Hv_MorexLC_UTRforw.tsv\t\t      Hv_Morex_nohashtag.pgsb.Jul2020.HC.gff3\r\n",
      "Hv_MorexLC_UTRrev.tsv\t\t      Hv_Morex_nohashtag.pgsb.Jul2020.LC.csv\r\n",
      "Hv_Morex_longread\t\t      Hv_Morex_nohashtag.pgsb.Jul2020.LC.gff3\r\n",
      "Hv_Morex_nohashtag.pgsb.Jul2020.gff3  raw\r\n"
     ]
    }
   ],
   "source": [
    "! ls Data/"
   ]
  },
  {
   "cell_type": "code",
   "execution_count": 186,
   "metadata": {},
   "outputs": [],
   "source": [
    "! mv Data/Hv_MorexLC* Data/Hv_Morex_longread/"
   ]
  },
  {
   "cell_type": "code",
   "execution_count": 187,
   "metadata": {},
   "outputs": [
    {
     "name": "stdout",
     "output_type": "stream",
     "text": [
      "Hv_MorexHC_exon.tsv\tHv_MorexHC_UTRrev.tsv  Hv_MorexLC_UTRforw.tsv\r\n",
      "Hv_MorexHC_UTRforw.tsv\tHv_MorexLC_exon.tsv    Hv_MorexLC_UTRrev.tsv\r\n"
     ]
    }
   ],
   "source": [
    "! ls Data/Hv_Morex_longread/"
   ]
  },
  {
   "cell_type": "code",
   "execution_count": 188,
   "metadata": {},
   "outputs": [
    {
     "name": "stdout",
     "output_type": "stream",
     "text": [
      "Hv_MorexLC_intronlessIDs.txt  Hv_MorexLC_introns.tsv\t      Hv_Morex_longread\r\n",
      "Hv_MorexLC_intronpoorIDs.txt  Hv_MorexLC_UTRforw_introns.tsv\r\n",
      "Hv_MorexLC_intronrichIDs.txt  Hv_MorexLC_UTRrev_introns.tsv\r\n"
     ]
    }
   ],
   "source": [
    "! ls Output/"
   ]
  },
  {
   "cell_type": "code",
   "execution_count": 189,
   "metadata": {},
   "outputs": [],
   "source": [
    "! mv Output/Hv_MorexLC* Output/Hv_Morex_longread/"
   ]
  },
  {
   "cell_type": "code",
   "execution_count": 190,
   "metadata": {},
   "outputs": [
    {
     "name": "stdout",
     "output_type": "stream",
     "text": [
      "Hv_MorexHC_intronlessIDs.txt\tHv_MorexLC_intronlessIDs.txt\r\n",
      "Hv_MorexHC_intronpoorIDs.txt\tHv_MorexLC_intronpoorIDs.txt\r\n",
      "Hv_MorexHC_intronrichIDs.txt\tHv_MorexLC_intronrichIDs.txt\r\n",
      "Hv_MorexHC_introns.tsv\t\tHv_MorexLC_introns.tsv\r\n",
      "Hv_MorexHC_UTRforw_introns.tsv\tHv_MorexLC_UTRforw_introns.tsv\r\n",
      "Hv_MorexHC_UTRrev_introns.tsv\tHv_MorexLC_UTRrev_introns.tsv\r\n"
     ]
    }
   ],
   "source": [
    "! ls Output/Hv_Morex_longread/"
   ]
  },
  {
   "cell_type": "markdown",
   "metadata": {},
   "source": [
    "# 2.3 Reproducing on Hv_Morex total"
   ]
  },
  {
   "cell_type": "markdown",
   "metadata": {},
   "source": [
    "### 2.3.1 Collecting Data"
   ]
  },
  {
   "cell_type": "code",
   "execution_count": 130,
   "metadata": {},
   "outputs": [
    {
     "name": "stdout",
     "output_type": "stream",
     "text": [
      "--2021-06-03 18:21:54--  https://doi.ipk-gatersleben.de/DOI/b2f47dfb-47ff-4114-89ae-bad8dcc515a1/5d16cc17-c37f-417f-855d-c5e72c721f6c/1/DOWNLOAD\n",
      "Resolving doi.ipk-gatersleben.de (doi.ipk-gatersleben.de)... 194.94.136.144\n",
      "Connecting to doi.ipk-gatersleben.de (doi.ipk-gatersleben.de)|194.94.136.144|:443... connected.\n",
      "HTTP request sent, awaiting response... 200 OK\n",
      "Length: 95708927 (91M) [text/plain]\n",
      "Saving to: ‘Data/raw/Hv_Morex.pgsb.Jul2020.gff3’\n",
      "\n",
      "Data/raw/Hv_Morex.p 100%[===================>]  91,27M  1,57MB/s    in 64s     \n",
      "\n",
      "2021-06-03 18:22:58 (1,44 MB/s) - ‘Data/raw/Hv_Morex.pgsb.Jul2020.gff3’ saved [95708927/95708927]\n",
      "\n"
     ]
    }
   ],
   "source": [
    "### --- This will download the raw data to the subdirectory raw under the directory Data\n",
    "! wget -O Data/raw/Hv_Morex.pgsb.Jul2020.gff3 https://doi.ipk-gatersleben.de/DOI/b2f47dfb-47ff-4114-89ae-bad8dcc515a1/5d16cc17-c37f-417f-855d-c5e72c721f6c/1/DOWNLOAD "
   ]
  },
  {
   "cell_type": "markdown",
   "metadata": {},
   "source": [
    "### 2.3.2 Processing Data"
   ]
  },
  {
   "cell_type": "code",
   "execution_count": 1,
   "metadata": {},
   "outputs": [],
   "source": [
    "### --- There is no need to import the libraries again\n",
    "# import pandas as pd\n",
    "# import numpy as np\n",
    "# import matplotlib.pyplot as plt"
   ]
  },
  {
   "cell_type": "code",
   "execution_count": 132,
   "metadata": {},
   "outputs": [],
   "source": [
    "### --- Removing all hashtags from the gff3 file\n",
    "! sed '/#/d' Data/raw/Hv_Morex.pgsb.Jul2020.gff3  > Data/Hv_Morex_nohashtag.pgsb.Jul2020.gff3"
   ]
  },
  {
   "cell_type": "code",
   "execution_count": 2,
   "metadata": {},
   "outputs": [],
   "source": [
    "### --- Changing the gff3 file to a csv format file to import it with pandas\n",
    "! cat Data/Hv_Morex_nohashtag.pgsb.Jul2020.gff3 | sed 's/,/--/g' | sed 's/;/--/g' | sed 's/\\t/,/g' | awk -F '--' '{print $1}' > Data/Hv_Morex_nohashtag.pgsb.Jul2020.csv"
   ]
  },
  {
   "cell_type": "code",
   "execution_count": 5,
   "metadata": {},
   "outputs": [
    {
     "data": {
      "text/html": [
       "<div>\n",
       "<style scoped>\n",
       "    .dataframe tbody tr th:only-of-type {\n",
       "        vertical-align: middle;\n",
       "    }\n",
       "\n",
       "    .dataframe tbody tr th {\n",
       "        vertical-align: top;\n",
       "    }\n",
       "\n",
       "    .dataframe thead th {\n",
       "        text-align: right;\n",
       "    }\n",
       "</style>\n",
       "<table border=\"1\" class=\"dataframe\">\n",
       "  <thead>\n",
       "    <tr style=\"text-align: right;\">\n",
       "      <th></th>\n",
       "      <th>chr</th>\n",
       "      <th>source</th>\n",
       "      <th>type</th>\n",
       "      <th>start</th>\n",
       "      <th>end</th>\n",
       "      <th>score</th>\n",
       "      <th>strand</th>\n",
       "      <th>phase</th>\n",
       "      <th>attributes</th>\n",
       "    </tr>\n",
       "  </thead>\n",
       "  <tbody>\n",
       "    <tr>\n",
       "      <th>0</th>\n",
       "      <td>chr1H</td>\n",
       "      <td>pgsb</td>\n",
       "      <td>gene</td>\n",
       "      <td>49526</td>\n",
       "      <td>50649</td>\n",
       "      <td>.</td>\n",
       "      <td>+</td>\n",
       "      <td>.</td>\n",
       "      <td>ID=HORVU.MOREX.r3.1HG0000010</td>\n",
       "    </tr>\n",
       "    <tr>\n",
       "      <th>1</th>\n",
       "      <td>chr1H</td>\n",
       "      <td>pgsb</td>\n",
       "      <td>mRNA</td>\n",
       "      <td>49526</td>\n",
       "      <td>50649</td>\n",
       "      <td>.</td>\n",
       "      <td>+</td>\n",
       "      <td>.</td>\n",
       "      <td>ID=HORVU.MOREX.r3.1HG0000010.1</td>\n",
       "    </tr>\n",
       "    <tr>\n",
       "      <th>2</th>\n",
       "      <td>chr1H</td>\n",
       "      <td>pgsb</td>\n",
       "      <td>five_prime_UTR</td>\n",
       "      <td>49526</td>\n",
       "      <td>49582</td>\n",
       "      <td>.</td>\n",
       "      <td>+</td>\n",
       "      <td>.</td>\n",
       "      <td>ID=HORVU.MOREX.r3.1HG0000010.1.five_prime_UTR1</td>\n",
       "    </tr>\n",
       "    <tr>\n",
       "      <th>3</th>\n",
       "      <td>chr1H</td>\n",
       "      <td>pgsb</td>\n",
       "      <td>exon</td>\n",
       "      <td>49526</td>\n",
       "      <td>49772</td>\n",
       "      <td>.</td>\n",
       "      <td>+</td>\n",
       "      <td>.</td>\n",
       "      <td>ID=HORVU.MOREX.r3.1HG0000010.1.exon1</td>\n",
       "    </tr>\n",
       "    <tr>\n",
       "      <th>4</th>\n",
       "      <td>chr1H</td>\n",
       "      <td>pgsb</td>\n",
       "      <td>CDS</td>\n",
       "      <td>49583</td>\n",
       "      <td>49772</td>\n",
       "      <td>.</td>\n",
       "      <td>+</td>\n",
       "      <td>0</td>\n",
       "      <td>ID=HORVU.MOREX.r3.1HG0000010.1.CDS1</td>\n",
       "    </tr>\n",
       "  </tbody>\n",
       "</table>\n",
       "</div>"
      ],
      "text/plain": [
       "     chr source            type  start    end score strand phase  \\\n",
       "0  chr1H   pgsb            gene  49526  50649     .      +     .   \n",
       "1  chr1H   pgsb            mRNA  49526  50649     .      +     .   \n",
       "2  chr1H   pgsb  five_prime_UTR  49526  49582     .      +     .   \n",
       "3  chr1H   pgsb            exon  49526  49772     .      +     .   \n",
       "4  chr1H   pgsb             CDS  49583  49772     .      +     0   \n",
       "\n",
       "                                       attributes  \n",
       "0                    ID=HORVU.MOREX.r3.1HG0000010  \n",
       "1                  ID=HORVU.MOREX.r3.1HG0000010.1  \n",
       "2  ID=HORVU.MOREX.r3.1HG0000010.1.five_prime_UTR1  \n",
       "3            ID=HORVU.MOREX.r3.1HG0000010.1.exon1  \n",
       "4             ID=HORVU.MOREX.r3.1HG0000010.1.CDS1  "
      ]
     },
     "execution_count": 5,
     "metadata": {},
     "output_type": "execute_result"
    }
   ],
   "source": [
    "### --- Transforming the gff3 file to a pandas dataframe to better handle it\n",
    "df_Hv_Morex = pd.read_csv('Data/Hv_Morex_nohashtag.pgsb.Jul2020.csv', header=None, names = ['chr', 'source', 'type','start','end','score','strand','phase','attributes'])\n",
    "df_Hv_Morex.head()"
   ]
  },
  {
   "cell_type": "code",
   "execution_count": 6,
   "metadata": {
    "scrolled": true
   },
   "outputs": [
    {
     "data": {
      "text/html": [
       "<div>\n",
       "<style scoped>\n",
       "    .dataframe tbody tr th:only-of-type {\n",
       "        vertical-align: middle;\n",
       "    }\n",
       "\n",
       "    .dataframe tbody tr th {\n",
       "        vertical-align: top;\n",
       "    }\n",
       "\n",
       "    .dataframe thead th {\n",
       "        text-align: right;\n",
       "    }\n",
       "</style>\n",
       "<table border=\"1\" class=\"dataframe\">\n",
       "  <thead>\n",
       "    <tr style=\"text-align: right;\">\n",
       "      <th></th>\n",
       "      <th>chr</th>\n",
       "      <th>source</th>\n",
       "      <th>type</th>\n",
       "      <th>start</th>\n",
       "      <th>end</th>\n",
       "      <th>score</th>\n",
       "      <th>strand</th>\n",
       "      <th>phase</th>\n",
       "      <th>attributes</th>\n",
       "    </tr>\n",
       "  </thead>\n",
       "  <tbody>\n",
       "    <tr>\n",
       "      <th>3</th>\n",
       "      <td>chr1H</td>\n",
       "      <td>pgsb</td>\n",
       "      <td>exon</td>\n",
       "      <td>49526</td>\n",
       "      <td>49772</td>\n",
       "      <td>.</td>\n",
       "      <td>+</td>\n",
       "      <td>.</td>\n",
       "      <td>ID=HORVU.MOREX.r3.1HG0000010.1.exon1</td>\n",
       "    </tr>\n",
       "    <tr>\n",
       "      <th>6</th>\n",
       "      <td>chr1H</td>\n",
       "      <td>pgsb</td>\n",
       "      <td>exon</td>\n",
       "      <td>50195</td>\n",
       "      <td>50649</td>\n",
       "      <td>.</td>\n",
       "      <td>+</td>\n",
       "      <td>.</td>\n",
       "      <td>ID=HORVU.MOREX.r3.1HG0000010.1.exon2</td>\n",
       "    </tr>\n",
       "    <tr>\n",
       "      <th>10</th>\n",
       "      <td>chr1H</td>\n",
       "      <td>pgsb</td>\n",
       "      <td>exon</td>\n",
       "      <td>53979</td>\n",
       "      <td>54323</td>\n",
       "      <td>.</td>\n",
       "      <td>+</td>\n",
       "      <td>.</td>\n",
       "      <td>ID=HORVU.MOREX.r3.1HG0000020.1.exon1</td>\n",
       "    </tr>\n",
       "    <tr>\n",
       "      <th>14</th>\n",
       "      <td>chr1H</td>\n",
       "      <td>pgsb</td>\n",
       "      <td>exon</td>\n",
       "      <td>76744</td>\n",
       "      <td>77373</td>\n",
       "      <td>.</td>\n",
       "      <td>+</td>\n",
       "      <td>.</td>\n",
       "      <td>ID=HORVU.MOREX.r3.1HG0000030.1.exon1</td>\n",
       "    </tr>\n",
       "    <tr>\n",
       "      <th>19</th>\n",
       "      <td>chr1H</td>\n",
       "      <td>pgsb</td>\n",
       "      <td>exon</td>\n",
       "      <td>78284</td>\n",
       "      <td>78954</td>\n",
       "      <td>.</td>\n",
       "      <td>-</td>\n",
       "      <td>.</td>\n",
       "      <td>ID=HORVU.MOREX.r3.1HG0000040.1.exon1</td>\n",
       "    </tr>\n",
       "  </tbody>\n",
       "</table>\n",
       "</div>"
      ],
      "text/plain": [
       "      chr source  type  start    end score strand phase  \\\n",
       "3   chr1H   pgsb  exon  49526  49772     .      +     .   \n",
       "6   chr1H   pgsb  exon  50195  50649     .      +     .   \n",
       "10  chr1H   pgsb  exon  53979  54323     .      +     .   \n",
       "14  chr1H   pgsb  exon  76744  77373     .      +     .   \n",
       "19  chr1H   pgsb  exon  78284  78954     .      -     .   \n",
       "\n",
       "                              attributes  \n",
       "3   ID=HORVU.MOREX.r3.1HG0000010.1.exon1  \n",
       "6   ID=HORVU.MOREX.r3.1HG0000010.1.exon2  \n",
       "10  ID=HORVU.MOREX.r3.1HG0000020.1.exon1  \n",
       "14  ID=HORVU.MOREX.r3.1HG0000030.1.exon1  \n",
       "19  ID=HORVU.MOREX.r3.1HG0000040.1.exon1  "
      ]
     },
     "execution_count": 6,
     "metadata": {},
     "output_type": "execute_result"
    }
   ],
   "source": [
    "### --- Building a separate dataframe containing all exons\n",
    "exon_Hv_Morex = df_Hv_Morex.loc[df_Hv_Morex['type'].isin(['exon'])]\n",
    "exon_Hv_Morex.head()"
   ]
  },
  {
   "cell_type": "code",
   "execution_count": 7,
   "metadata": {},
   "outputs": [],
   "source": [
    "### --- Exporting the exon dataframe to a tsv file \n",
    "exon_Hv_Morex.to_csv('Data/Hv_Morex_exon.tsv',sep='\\t',index=False,header=False)"
   ]
  },
  {
   "cell_type": "code",
   "execution_count": 8,
   "metadata": {
    "scrolled": true
   },
   "outputs": [
    {
     "data": {
      "text/html": [
       "<div>\n",
       "<style scoped>\n",
       "    .dataframe tbody tr th:only-of-type {\n",
       "        vertical-align: middle;\n",
       "    }\n",
       "\n",
       "    .dataframe tbody tr th {\n",
       "        vertical-align: top;\n",
       "    }\n",
       "\n",
       "    .dataframe thead th {\n",
       "        text-align: right;\n",
       "    }\n",
       "</style>\n",
       "<table border=\"1\" class=\"dataframe\">\n",
       "  <thead>\n",
       "    <tr style=\"text-align: right;\">\n",
       "      <th></th>\n",
       "      <th>chr</th>\n",
       "      <th>source</th>\n",
       "      <th>type</th>\n",
       "      <th>start</th>\n",
       "      <th>end</th>\n",
       "      <th>score</th>\n",
       "      <th>strand</th>\n",
       "      <th>phase</th>\n",
       "      <th>attributes</th>\n",
       "    </tr>\n",
       "  </thead>\n",
       "  <tbody>\n",
       "    <tr>\n",
       "      <th>0</th>\n",
       "      <td>chr1H</td>\n",
       "      <td>pgsb</td>\n",
       "      <td>gene</td>\n",
       "      <td>49526</td>\n",
       "      <td>50649</td>\n",
       "      <td>.</td>\n",
       "      <td>+</td>\n",
       "      <td>.</td>\n",
       "      <td>ID=HORVU.MOREX.r3.1HG0000010</td>\n",
       "    </tr>\n",
       "    <tr>\n",
       "      <th>1</th>\n",
       "      <td>chr1H</td>\n",
       "      <td>pgsb</td>\n",
       "      <td>mRNA</td>\n",
       "      <td>49526</td>\n",
       "      <td>50649</td>\n",
       "      <td>.</td>\n",
       "      <td>+</td>\n",
       "      <td>.</td>\n",
       "      <td>ID=HORVU.MOREX.r3.1HG0000010.1</td>\n",
       "    </tr>\n",
       "    <tr>\n",
       "      <th>2</th>\n",
       "      <td>chr1H</td>\n",
       "      <td>pgsb</td>\n",
       "      <td>five_prime_UTR</td>\n",
       "      <td>49526</td>\n",
       "      <td>49582</td>\n",
       "      <td>.</td>\n",
       "      <td>+</td>\n",
       "      <td>.</td>\n",
       "      <td>ID=HORVU.MOREX.r3.1HG0000010.1.five_prime_UTR1</td>\n",
       "    </tr>\n",
       "    <tr>\n",
       "      <th>3</th>\n",
       "      <td>chr1H</td>\n",
       "      <td>pgsb</td>\n",
       "      <td>exon</td>\n",
       "      <td>49526</td>\n",
       "      <td>49772</td>\n",
       "      <td>.</td>\n",
       "      <td>+</td>\n",
       "      <td>.</td>\n",
       "      <td>ID=HORVU.MOREX.r3.1HG0000010.1.exon1</td>\n",
       "    </tr>\n",
       "    <tr>\n",
       "      <th>4</th>\n",
       "      <td>chr1H</td>\n",
       "      <td>pgsb</td>\n",
       "      <td>CDS</td>\n",
       "      <td>49583</td>\n",
       "      <td>49772</td>\n",
       "      <td>.</td>\n",
       "      <td>+</td>\n",
       "      <td>0</td>\n",
       "      <td>ID=HORVU.MOREX.r3.1HG0000010.1.CDS1</td>\n",
       "    </tr>\n",
       "  </tbody>\n",
       "</table>\n",
       "</div>"
      ],
      "text/plain": [
       "     chr source            type  start    end score strand phase  \\\n",
       "0  chr1H   pgsb            gene  49526  50649     .      +     .   \n",
       "1  chr1H   pgsb            mRNA  49526  50649     .      +     .   \n",
       "2  chr1H   pgsb  five_prime_UTR  49526  49582     .      +     .   \n",
       "3  chr1H   pgsb            exon  49526  49772     .      +     .   \n",
       "4  chr1H   pgsb             CDS  49583  49772     .      +     0   \n",
       "\n",
       "                                       attributes  \n",
       "0                    ID=HORVU.MOREX.r3.1HG0000010  \n",
       "1                  ID=HORVU.MOREX.r3.1HG0000010.1  \n",
       "2  ID=HORVU.MOREX.r3.1HG0000010.1.five_prime_UTR1  \n",
       "3            ID=HORVU.MOREX.r3.1HG0000010.1.exon1  \n",
       "4             ID=HORVU.MOREX.r3.1HG0000010.1.CDS1  "
      ]
     },
     "execution_count": 8,
     "metadata": {},
     "output_type": "execute_result"
    }
   ],
   "source": [
    "### --- Keeping in a separated dataframe the forward strands\n",
    "forw_Hv_Morex = df_Hv_Morex.loc[df_Hv_Morex['strand'].isin(['+'])]\n",
    "forw_Hv_Morex.head()"
   ]
  },
  {
   "cell_type": "code",
   "execution_count": 10,
   "metadata": {},
   "outputs": [
    {
     "data": {
      "text/html": [
       "<div>\n",
       "<style scoped>\n",
       "    .dataframe tbody tr th:only-of-type {\n",
       "        vertical-align: middle;\n",
       "    }\n",
       "\n",
       "    .dataframe tbody tr th {\n",
       "        vertical-align: top;\n",
       "    }\n",
       "\n",
       "    .dataframe thead th {\n",
       "        text-align: right;\n",
       "    }\n",
       "</style>\n",
       "<table border=\"1\" class=\"dataframe\">\n",
       "  <thead>\n",
       "    <tr style=\"text-align: right;\">\n",
       "      <th></th>\n",
       "      <th>chr</th>\n",
       "      <th>source</th>\n",
       "      <th>type</th>\n",
       "      <th>start</th>\n",
       "      <th>end</th>\n",
       "      <th>score</th>\n",
       "      <th>strand</th>\n",
       "      <th>phase</th>\n",
       "      <th>attributes</th>\n",
       "    </tr>\n",
       "  </thead>\n",
       "  <tbody>\n",
       "    <tr>\n",
       "      <th>16</th>\n",
       "      <td>chr1H</td>\n",
       "      <td>pgsb</td>\n",
       "      <td>gene</td>\n",
       "      <td>78284</td>\n",
       "      <td>81892</td>\n",
       "      <td>.</td>\n",
       "      <td>-</td>\n",
       "      <td>.</td>\n",
       "      <td>ID=HORVU.MOREX.r3.1HG0000040</td>\n",
       "    </tr>\n",
       "    <tr>\n",
       "      <th>17</th>\n",
       "      <td>chr1H</td>\n",
       "      <td>pgsb</td>\n",
       "      <td>mRNA</td>\n",
       "      <td>78284</td>\n",
       "      <td>81892</td>\n",
       "      <td>.</td>\n",
       "      <td>-</td>\n",
       "      <td>.</td>\n",
       "      <td>ID=HORVU.MOREX.r3.1HG0000040.1</td>\n",
       "    </tr>\n",
       "    <tr>\n",
       "      <th>18</th>\n",
       "      <td>chr1H</td>\n",
       "      <td>pgsb</td>\n",
       "      <td>three_prime_UTR</td>\n",
       "      <td>78284</td>\n",
       "      <td>78510</td>\n",
       "      <td>.</td>\n",
       "      <td>-</td>\n",
       "      <td>.</td>\n",
       "      <td>ID=HORVU.MOREX.r3.1HG0000040.1.three_prime_UTR1</td>\n",
       "    </tr>\n",
       "    <tr>\n",
       "      <th>19</th>\n",
       "      <td>chr1H</td>\n",
       "      <td>pgsb</td>\n",
       "      <td>exon</td>\n",
       "      <td>78284</td>\n",
       "      <td>78954</td>\n",
       "      <td>.</td>\n",
       "      <td>-</td>\n",
       "      <td>.</td>\n",
       "      <td>ID=HORVU.MOREX.r3.1HG0000040.1.exon1</td>\n",
       "    </tr>\n",
       "    <tr>\n",
       "      <th>20</th>\n",
       "      <td>chr1H</td>\n",
       "      <td>pgsb</td>\n",
       "      <td>CDS</td>\n",
       "      <td>78511</td>\n",
       "      <td>78954</td>\n",
       "      <td>.</td>\n",
       "      <td>-</td>\n",
       "      <td>0</td>\n",
       "      <td>ID=HORVU.MOREX.r3.1HG0000040.1.CDS1</td>\n",
       "    </tr>\n",
       "  </tbody>\n",
       "</table>\n",
       "</div>"
      ],
      "text/plain": [
       "      chr source             type  start    end score strand phase  \\\n",
       "16  chr1H   pgsb             gene  78284  81892     .      -     .   \n",
       "17  chr1H   pgsb             mRNA  78284  81892     .      -     .   \n",
       "18  chr1H   pgsb  three_prime_UTR  78284  78510     .      -     .   \n",
       "19  chr1H   pgsb             exon  78284  78954     .      -     .   \n",
       "20  chr1H   pgsb              CDS  78511  78954     .      -     0   \n",
       "\n",
       "                                         attributes  \n",
       "16                     ID=HORVU.MOREX.r3.1HG0000040  \n",
       "17                   ID=HORVU.MOREX.r3.1HG0000040.1  \n",
       "18  ID=HORVU.MOREX.r3.1HG0000040.1.three_prime_UTR1  \n",
       "19             ID=HORVU.MOREX.r3.1HG0000040.1.exon1  \n",
       "20              ID=HORVU.MOREX.r3.1HG0000040.1.CDS1  "
      ]
     },
     "execution_count": 10,
     "metadata": {},
     "output_type": "execute_result"
    }
   ],
   "source": [
    "### --- Keeping in a separated dataframe the reverse strands\n",
    "rev_Hv_Morex = df_Hv_Morex.loc[df_Hv_Morex['strand'].isin(['-'])]\n",
    "rev_Hv_Morex.head()"
   ]
  },
  {
   "cell_type": "code",
   "execution_count": 11,
   "metadata": {},
   "outputs": [
    {
     "data": {
      "text/html": [
       "<div>\n",
       "<style scoped>\n",
       "    .dataframe tbody tr th:only-of-type {\n",
       "        vertical-align: middle;\n",
       "    }\n",
       "\n",
       "    .dataframe tbody tr th {\n",
       "        vertical-align: top;\n",
       "    }\n",
       "\n",
       "    .dataframe thead th {\n",
       "        text-align: right;\n",
       "    }\n",
       "</style>\n",
       "<table border=\"1\" class=\"dataframe\">\n",
       "  <thead>\n",
       "    <tr style=\"text-align: right;\">\n",
       "      <th></th>\n",
       "      <th>chr</th>\n",
       "      <th>source</th>\n",
       "      <th>type</th>\n",
       "      <th>start</th>\n",
       "      <th>end</th>\n",
       "      <th>score</th>\n",
       "      <th>strand</th>\n",
       "      <th>phase</th>\n",
       "      <th>attributes</th>\n",
       "    </tr>\n",
       "  </thead>\n",
       "  <tbody>\n",
       "    <tr>\n",
       "      <th>2</th>\n",
       "      <td>chr1H</td>\n",
       "      <td>pgsb</td>\n",
       "      <td>five_prime_UTR</td>\n",
       "      <td>49526</td>\n",
       "      <td>49582</td>\n",
       "      <td>.</td>\n",
       "      <td>+</td>\n",
       "      <td>.</td>\n",
       "      <td>ID=HORVU.MOREX.r3.1HG0000010.1.five_prime_UTR1</td>\n",
       "    </tr>\n",
       "    <tr>\n",
       "      <th>7</th>\n",
       "      <td>chr1H</td>\n",
       "      <td>pgsb</td>\n",
       "      <td>three_prime_UTR</td>\n",
       "      <td>50428</td>\n",
       "      <td>50649</td>\n",
       "      <td>.</td>\n",
       "      <td>+</td>\n",
       "      <td>.</td>\n",
       "      <td>ID=HORVU.MOREX.r3.1HG0000010.1.three_prime_UTR2</td>\n",
       "    </tr>\n",
       "    <tr>\n",
       "      <th>62</th>\n",
       "      <td>chr1H</td>\n",
       "      <td>pgsb</td>\n",
       "      <td>five_prime_UTR</td>\n",
       "      <td>132221</td>\n",
       "      <td>132375</td>\n",
       "      <td>.</td>\n",
       "      <td>+</td>\n",
       "      <td>.</td>\n",
       "      <td>ID=HORVU.MOREX.r3.1HG0000060.1.five_prime_UTR1</td>\n",
       "    </tr>\n",
       "    <tr>\n",
       "      <th>105</th>\n",
       "      <td>chr1H</td>\n",
       "      <td>pgsb</td>\n",
       "      <td>three_prime_UTR</td>\n",
       "      <td>138505</td>\n",
       "      <td>138736</td>\n",
       "      <td>.</td>\n",
       "      <td>+</td>\n",
       "      <td>.</td>\n",
       "      <td>ID=HORVU.MOREX.r3.1HG0000060.1.three_prime_UTR2</td>\n",
       "    </tr>\n",
       "    <tr>\n",
       "      <th>109</th>\n",
       "      <td>chr1H</td>\n",
       "      <td>pgsb</td>\n",
       "      <td>five_prime_UTR</td>\n",
       "      <td>146607</td>\n",
       "      <td>146749</td>\n",
       "      <td>.</td>\n",
       "      <td>+</td>\n",
       "      <td>.</td>\n",
       "      <td>ID=HORVU.MOREX.r3.1HG0000070.1.five_prime_UTR1</td>\n",
       "    </tr>\n",
       "  </tbody>\n",
       "</table>\n",
       "</div>"
      ],
      "text/plain": [
       "       chr source             type   start     end score strand phase  \\\n",
       "2    chr1H   pgsb   five_prime_UTR   49526   49582     .      +     .   \n",
       "7    chr1H   pgsb  three_prime_UTR   50428   50649     .      +     .   \n",
       "62   chr1H   pgsb   five_prime_UTR  132221  132375     .      +     .   \n",
       "105  chr1H   pgsb  three_prime_UTR  138505  138736     .      +     .   \n",
       "109  chr1H   pgsb   five_prime_UTR  146607  146749     .      +     .   \n",
       "\n",
       "                                          attributes  \n",
       "2     ID=HORVU.MOREX.r3.1HG0000010.1.five_prime_UTR1  \n",
       "7    ID=HORVU.MOREX.r3.1HG0000010.1.three_prime_UTR2  \n",
       "62    ID=HORVU.MOREX.r3.1HG0000060.1.five_prime_UTR1  \n",
       "105  ID=HORVU.MOREX.r3.1HG0000060.1.three_prime_UTR2  \n",
       "109   ID=HORVU.MOREX.r3.1HG0000070.1.five_prime_UTR1  "
      ]
     },
     "execution_count": 11,
     "metadata": {},
     "output_type": "execute_result"
    }
   ],
   "source": [
    "### --- Keeping in a separated dataframe the UTR regions on the forward strands\n",
    "UTR_forw_Hv_Morex = forw_Hv_Morex.loc[df_Hv_Morex['type'].isin(['three_prime_UTR','five_prime_UTR'])]\n",
    "UTR_forw_Hv_Morex.head()"
   ]
  },
  {
   "cell_type": "code",
   "execution_count": 12,
   "metadata": {},
   "outputs": [],
   "source": [
    "### --- Writing to a tsv formatted file the UTR_df_rev dataframe\n",
    "UTR_forw_Hv_Morex.to_csv('Data/Hv_Morex_UTRforw.tsv',sep='\\t',index=False,header=False)"
   ]
  },
  {
   "cell_type": "code",
   "execution_count": 13,
   "metadata": {
    "scrolled": true
   },
   "outputs": [
    {
     "data": {
      "text/html": [
       "<div>\n",
       "<style scoped>\n",
       "    .dataframe tbody tr th:only-of-type {\n",
       "        vertical-align: middle;\n",
       "    }\n",
       "\n",
       "    .dataframe tbody tr th {\n",
       "        vertical-align: top;\n",
       "    }\n",
       "\n",
       "    .dataframe thead th {\n",
       "        text-align: right;\n",
       "    }\n",
       "</style>\n",
       "<table border=\"1\" class=\"dataframe\">\n",
       "  <thead>\n",
       "    <tr style=\"text-align: right;\">\n",
       "      <th></th>\n",
       "      <th>chr</th>\n",
       "      <th>source</th>\n",
       "      <th>type</th>\n",
       "      <th>start</th>\n",
       "      <th>end</th>\n",
       "      <th>score</th>\n",
       "      <th>strand</th>\n",
       "      <th>phase</th>\n",
       "      <th>attributes</th>\n",
       "    </tr>\n",
       "  </thead>\n",
       "  <tbody>\n",
       "    <tr>\n",
       "      <th>18</th>\n",
       "      <td>chr1H</td>\n",
       "      <td>pgsb</td>\n",
       "      <td>three_prime_UTR</td>\n",
       "      <td>78284</td>\n",
       "      <td>78510</td>\n",
       "      <td>.</td>\n",
       "      <td>-</td>\n",
       "      <td>.</td>\n",
       "      <td>ID=HORVU.MOREX.r3.1HG0000040.1.three_prime_UTR1</td>\n",
       "    </tr>\n",
       "    <tr>\n",
       "      <th>39</th>\n",
       "      <td>chr1H</td>\n",
       "      <td>pgsb</td>\n",
       "      <td>five_prime_UTR</td>\n",
       "      <td>81706</td>\n",
       "      <td>81892</td>\n",
       "      <td>.</td>\n",
       "      <td>-</td>\n",
       "      <td>.</td>\n",
       "      <td>ID=HORVU.MOREX.r3.1HG0000040.1.five_prime_UTR2</td>\n",
       "    </tr>\n",
       "    <tr>\n",
       "      <th>42</th>\n",
       "      <td>chr1H</td>\n",
       "      <td>pgsb</td>\n",
       "      <td>three_prime_UTR</td>\n",
       "      <td>84091</td>\n",
       "      <td>84317</td>\n",
       "      <td>.</td>\n",
       "      <td>-</td>\n",
       "      <td>.</td>\n",
       "      <td>ID=HORVU.MOREX.r3.1HG0000050.1.three_prime_UTR1</td>\n",
       "    </tr>\n",
       "    <tr>\n",
       "      <th>59</th>\n",
       "      <td>chr1H</td>\n",
       "      <td>pgsb</td>\n",
       "      <td>five_prime_UTR</td>\n",
       "      <td>86846</td>\n",
       "      <td>87063</td>\n",
       "      <td>.</td>\n",
       "      <td>-</td>\n",
       "      <td>.</td>\n",
       "      <td>ID=HORVU.MOREX.r3.1HG0000050.1.five_prime_UTR2</td>\n",
       "    </tr>\n",
       "    <tr>\n",
       "      <th>138</th>\n",
       "      <td>chr1H</td>\n",
       "      <td>pgsb</td>\n",
       "      <td>three_prime_UTR</td>\n",
       "      <td>156767</td>\n",
       "      <td>157203</td>\n",
       "      <td>.</td>\n",
       "      <td>-</td>\n",
       "      <td>.</td>\n",
       "      <td>ID=HORVU.MOREX.r3.1HG0000090.1.three_prime_UTR1</td>\n",
       "    </tr>\n",
       "  </tbody>\n",
       "</table>\n",
       "</div>"
      ],
      "text/plain": [
       "       chr source             type   start     end score strand phase  \\\n",
       "18   chr1H   pgsb  three_prime_UTR   78284   78510     .      -     .   \n",
       "39   chr1H   pgsb   five_prime_UTR   81706   81892     .      -     .   \n",
       "42   chr1H   pgsb  three_prime_UTR   84091   84317     .      -     .   \n",
       "59   chr1H   pgsb   five_prime_UTR   86846   87063     .      -     .   \n",
       "138  chr1H   pgsb  three_prime_UTR  156767  157203     .      -     .   \n",
       "\n",
       "                                          attributes  \n",
       "18   ID=HORVU.MOREX.r3.1HG0000040.1.three_prime_UTR1  \n",
       "39    ID=HORVU.MOREX.r3.1HG0000040.1.five_prime_UTR2  \n",
       "42   ID=HORVU.MOREX.r3.1HG0000050.1.three_prime_UTR1  \n",
       "59    ID=HORVU.MOREX.r3.1HG0000050.1.five_prime_UTR2  \n",
       "138  ID=HORVU.MOREX.r3.1HG0000090.1.three_prime_UTR1  "
      ]
     },
     "execution_count": 13,
     "metadata": {},
     "output_type": "execute_result"
    }
   ],
   "source": [
    "### --- Keeping in a separated dataframe the UTR regions on the reverse strands\n",
    "UTR_rev_Hv_Morex = rev_Hv_Morex.loc[df_Hv_Morex['type'].isin(['three_prime_UTR','five_prime_UTR'])]\n",
    "UTR_rev_Hv_Morex.head()"
   ]
  },
  {
   "cell_type": "code",
   "execution_count": 14,
   "metadata": {},
   "outputs": [],
   "source": [
    "### --- Writing to a tsv formatted file the UTR_df_rev dataframe\n",
    "UTR_rev_Hv_Morex.to_csv('Data/Hv_Morex_UTRrev.tsv',sep='\\t',index=False,header=False)"
   ]
  },
  {
   "cell_type": "markdown",
   "metadata": {},
   "source": [
    "### 2.3.3 Extracting introns from the whole genome"
   ]
  },
  {
   "cell_type": "code",
   "execution_count": 21,
   "metadata": {},
   "outputs": [],
   "source": [
    "### --- Extracting introns from Hv_Morex\n",
    "extract_tot_introns('Data/Hv_Morex_exon.tsv', 'Output/Hv_Morex_introns.tsv')"
   ]
  },
  {
   "cell_type": "code",
   "execution_count": 22,
   "metadata": {},
   "outputs": [
    {
     "data": {
      "text/html": [
       "<div>\n",
       "<style scoped>\n",
       "    .dataframe tbody tr th:only-of-type {\n",
       "        vertical-align: middle;\n",
       "    }\n",
       "\n",
       "    .dataframe tbody tr th {\n",
       "        vertical-align: top;\n",
       "    }\n",
       "\n",
       "    .dataframe thead th {\n",
       "        text-align: right;\n",
       "    }\n",
       "</style>\n",
       "<table border=\"1\" class=\"dataframe\">\n",
       "  <thead>\n",
       "    <tr style=\"text-align: right;\">\n",
       "      <th></th>\n",
       "      <th>ID</th>\n",
       "      <th>type</th>\n",
       "      <th>start</th>\n",
       "      <th>end</th>\n",
       "      <th>length</th>\n",
       "    </tr>\n",
       "  </thead>\n",
       "  <tbody>\n",
       "    <tr>\n",
       "      <th>0</th>\n",
       "      <td>ID=HORVU.MOREX.r3.1HG0000010.1</td>\n",
       "      <td>intron</td>\n",
       "      <td>49773</td>\n",
       "      <td>50194</td>\n",
       "      <td>423</td>\n",
       "    </tr>\n",
       "    <tr>\n",
       "      <th>1</th>\n",
       "      <td>ID=HORVU.MOREX.r3.1HG0000040.1</td>\n",
       "      <td>intron</td>\n",
       "      <td>78955</td>\n",
       "      <td>79062</td>\n",
       "      <td>109</td>\n",
       "    </tr>\n",
       "    <tr>\n",
       "      <th>2</th>\n",
       "      <td>ID=HORVU.MOREX.r3.1HG0000040.1</td>\n",
       "      <td>intron</td>\n",
       "      <td>79105</td>\n",
       "      <td>79608</td>\n",
       "      <td>505</td>\n",
       "    </tr>\n",
       "    <tr>\n",
       "      <th>3</th>\n",
       "      <td>ID=HORVU.MOREX.r3.1HG0000040.1</td>\n",
       "      <td>intron</td>\n",
       "      <td>79677</td>\n",
       "      <td>79756</td>\n",
       "      <td>81</td>\n",
       "    </tr>\n",
       "    <tr>\n",
       "      <th>4</th>\n",
       "      <td>ID=HORVU.MOREX.r3.1HG0000040.1</td>\n",
       "      <td>intron</td>\n",
       "      <td>79800</td>\n",
       "      <td>79900</td>\n",
       "      <td>102</td>\n",
       "    </tr>\n",
       "    <tr>\n",
       "      <th>...</th>\n",
       "      <td>...</td>\n",
       "      <td>...</td>\n",
       "      <td>...</td>\n",
       "      <td>...</td>\n",
       "      <td>...</td>\n",
       "    </tr>\n",
       "    <tr>\n",
       "      <th>95</th>\n",
       "      <td>ID=HORVU.MOREX.r3.1HG0000170.1</td>\n",
       "      <td>intron</td>\n",
       "      <td>424743</td>\n",
       "      <td>429267</td>\n",
       "      <td>4526</td>\n",
       "    </tr>\n",
       "    <tr>\n",
       "      <th>96</th>\n",
       "      <td>ID=HORVU.MOREX.r3.1HG0000190.1</td>\n",
       "      <td>intron</td>\n",
       "      <td>437991</td>\n",
       "      <td>438084</td>\n",
       "      <td>95</td>\n",
       "    </tr>\n",
       "    <tr>\n",
       "      <th>97</th>\n",
       "      <td>ID=HORVU.MOREX.r3.1HG0000210.1</td>\n",
       "      <td>intron</td>\n",
       "      <td>540340</td>\n",
       "      <td>540864</td>\n",
       "      <td>526</td>\n",
       "    </tr>\n",
       "    <tr>\n",
       "      <th>98</th>\n",
       "      <td>ID=HORVU.MOREX.r3.1HG0000210.1</td>\n",
       "      <td>intron</td>\n",
       "      <td>543264</td>\n",
       "      <td>543345</td>\n",
       "      <td>83</td>\n",
       "    </tr>\n",
       "    <tr>\n",
       "      <th>99</th>\n",
       "      <td>ID=HORVU.MOREX.r3.1HG0000220.1</td>\n",
       "      <td>intron</td>\n",
       "      <td>580551</td>\n",
       "      <td>583395</td>\n",
       "      <td>2846</td>\n",
       "    </tr>\n",
       "  </tbody>\n",
       "</table>\n",
       "<p>100 rows × 5 columns</p>\n",
       "</div>"
      ],
      "text/plain": [
       "                                ID     type   start     end  length\n",
       "0   ID=HORVU.MOREX.r3.1HG0000010.1  intron    49773   50194     423\n",
       "1   ID=HORVU.MOREX.r3.1HG0000040.1  intron    78955   79062     109\n",
       "2   ID=HORVU.MOREX.r3.1HG0000040.1  intron    79105   79608     505\n",
       "3   ID=HORVU.MOREX.r3.1HG0000040.1  intron    79677   79756      81\n",
       "4   ID=HORVU.MOREX.r3.1HG0000040.1  intron    79800   79900     102\n",
       "..                             ...      ...     ...     ...     ...\n",
       "95  ID=HORVU.MOREX.r3.1HG0000170.1  intron   424743  429267    4526\n",
       "96  ID=HORVU.MOREX.r3.1HG0000190.1  intron   437991  438084      95\n",
       "97  ID=HORVU.MOREX.r3.1HG0000210.1  intron   540340  540864     526\n",
       "98  ID=HORVU.MOREX.r3.1HG0000210.1  intron   543264  543345      83\n",
       "99  ID=HORVU.MOREX.r3.1HG0000220.1  intron   580551  583395    2846\n",
       "\n",
       "[100 rows x 5 columns]"
      ]
     },
     "execution_count": 22,
     "metadata": {},
     "output_type": "execute_result"
    }
   ],
   "source": [
    "introns_Hv_Morex = pd.read_csv('Output/Hv_Morex_introns.tsv', sep = '\\t')\n",
    "introns_Hv_Morex[:100]"
   ]
  },
  {
   "cell_type": "code",
   "execution_count": 23,
   "metadata": {},
   "outputs": [],
   "source": [
    "### --- Counting introns type in Hv_MorexHC\n",
    "introns_dictionary_Hv_Morex = counting_introns_type(exon_Hv_Morex)"
   ]
  },
  {
   "cell_type": "code",
   "execution_count": 25,
   "metadata": {},
   "outputs": [
    {
     "name": "stdout",
     "output_type": "stream",
     "text": [
      "Intronless are: 46175\n",
      "Intronpoor are: 22342\n",
      "Intronrich are: 13170\n"
     ]
    }
   ],
   "source": [
    "n_intronless_Hv_Morex, n_intronpoor_Hv_Morex, n_intronrich_Hv_Morex, intronless_Hv_Morex, intronpoor_Hv_Morex, intronrich_Hv_Morex = splitting_introns_type(introns_dictionary_Hv_Morex)"
   ]
  },
  {
   "cell_type": "code",
   "execution_count": 27,
   "metadata": {},
   "outputs": [
    {
     "data": {
      "image/png": "[encoded data removed]",
      "text/plain": [
       "<Figure size 720x504 with 1 Axes>"
      ]
     },
     "metadata": {},
     "output_type": "display_data"
    }
   ],
   "source": [
    "genes = ['Intronless', 'Intronpoor', 'Intronrich']\n",
    "data_Hv_Morex = [46175, 22342, 13170]\n",
    "fig = plt.figure(figsize =(10, 7))\n",
    "plt.pie(data_Hv_Morex, labels = genes, autopct='%1.0f%%')\n",
    "plt.title(\"Genes Hv_Morex Distribution\", bbox={'facecolor':'0.8', 'pad':5})\n",
    "plt.show()"
   ]
  },
  {
   "cell_type": "code",
   "execution_count": 28,
   "metadata": {},
   "outputs": [],
   "source": [
    "### --- Creating the list of Hv_Morex gene IDs to check the number of transcripts using command line\n",
    "intronless_file_Hv_Morex = open('Output/Hv_Morex_intronlessIDs.txt', 'a')\n",
    "intronpoor_file_Hv_Morex = open('Output/Hv_Morex_intronpoorIDs.txt', 'a')\n",
    "intronrich_file_Hv_Morex = open('Output/Hv_Morex_intronrichIDs.txt', 'a')\n",
    "for i in range(len(intronless_Hv_Morex)):\n",
    "    if i == len(intronless_Hv_Morex) -1:\n",
    "        intronless_file_Hv_Morex.write(intronless_Hv_Morex[i])\n",
    "    else:\n",
    "        intronless_file_Hv_Morex.write(intronless_Hv_Morex[i] + '\\n')\n",
    "intronless_file_Hv_Morex.close()\n",
    "\n",
    "for i in range(len(intronpoor_Hv_Morex)):\n",
    "    if i == len(intronpoor_Hv_Morex) -1:\n",
    "        intronpoor_file_Hv_Morex.write(intronpoor_Hv_Morex[i])\n",
    "    else:\n",
    "        intronpoor_file_Hv_Morex.write(intronpoor_Hv_Morex[i] + '\\n')\n",
    "intronpoor_file_Hv_Morex.close()\n",
    "\n",
    "for i in range(len(intronrich_Hv_Morex)):\n",
    "    if i == len(intronrich_Hv_Morex) -1:\n",
    "        intronrich_file_Hv_Morex.write(intronrich_Hv_Morex[i])\n",
    "    else:\n",
    "        intronrich_file_Hv_Morex.write(intronrich_Hv_Morex[i]+'\\n')\n",
    "intronrich_file_Hv_Morex.close()\n"
   ]
  },
  {
   "cell_type": "code",
   "execution_count": 29,
   "metadata": {},
   "outputs": [],
   "source": [
    "### --- Storing the number of transcripts in intron-less/poor/rich genes within a variable \n",
    "n_mRNA_intronless_Hv_Morex = ! grep -f Output/Hv_Morex_intronlessIDs.txt Data/Hv_Morex_nohashtag.pgsb.Jul2020.gff3 | awk -F '\\t' '{print $3}' | grep -w 'mRNA' | wc -l\n",
    "n_mRNA_intronpoor_Hv_Morex = ! grep -f Output/Hv_Morex_intronpoorIDs.txt Data/Hv_Morex_nohashtag.pgsb.Jul2020.gff3 | awk -F '\\t' '{print $3}' | grep -w 'mRNA' | wc -l\n",
    "n_mRNA_intronrich_Hv_Morex = ! grep -f Output/Hv_Morex_intronrichIDs.txt Data/Hv_Morex_nohashtag.pgsb.Jul2020.gff3 | awk -F '\\t' '{print $3}' | grep -w 'mRNA' | wc -l"
   ]
  },
  {
   "cell_type": "code",
   "execution_count": 30,
   "metadata": {},
   "outputs": [
    {
     "name": "stdout",
     "output_type": "stream",
     "text": [
      "1.0\n",
      "1.0027302837704772\n",
      "1.1702353834472285\n"
     ]
    }
   ],
   "source": [
    "### --- Checking the average number of transcripts for each gene-type\n",
    "avg_mRNA_intronless_Hv_Morex = int(n_mRNA_intronless_Hv_Morex[0])/n_intronless_Hv_Morex\n",
    "print(avg_mRNA_intronless_Hv_Morex)\n",
    "avg_mRNA_intronpoor_Hv_Morex = int(n_mRNA_intronpoor_Hv_Morex[0])/n_intronpoor_Hv_Morex\n",
    "print(avg_mRNA_intronpoor_Hv_Morex)\n",
    "avg_mRNA_intronrich_Hv_Morex = int(n_mRNA_intronrich_Hv_Morex[0])/n_intronrich_Hv_Morex\n",
    "print(avg_mRNA_intronrich_Hv_Morex)"
   ]
  },
  {
   "cell_type": "markdown",
   "metadata": {},
   "source": [
    "### 2.3.4 Extracting introns from UTR regions"
   ]
  },
  {
   "cell_type": "code",
   "execution_count": 36,
   "metadata": {},
   "outputs": [],
   "source": [
    "### --- Extracting introns from UTR forward Hv_Morex\n",
    "extract_UTR_introns('Data/Hv_Morex_UTRforw.tsv', 'Output/Hv_Morex_UTRforw_introns.tsv')"
   ]
  },
  {
   "cell_type": "code",
   "execution_count": 37,
   "metadata": {},
   "outputs": [],
   "source": [
    "### --- Extracting introns from UTR reverse Hv_Morex\n",
    "extract_UTR_introns('Data/Hv_Morex_UTRrev.tsv', 'Output/Hv_Morex_UTRrev_introns.tsv')"
   ]
  },
  {
   "cell_type": "code",
   "execution_count": 38,
   "metadata": {
    "scrolled": true
   },
   "outputs": [
    {
     "data": {
      "text/html": [
       "<div>\n",
       "<style scoped>\n",
       "    .dataframe tbody tr th:only-of-type {\n",
       "        vertical-align: middle;\n",
       "    }\n",
       "\n",
       "    .dataframe tbody tr th {\n",
       "        vertical-align: top;\n",
       "    }\n",
       "\n",
       "    .dataframe thead th {\n",
       "        text-align: right;\n",
       "    }\n",
       "</style>\n",
       "<table border=\"1\" class=\"dataframe\">\n",
       "  <thead>\n",
       "    <tr style=\"text-align: right;\">\n",
       "      <th></th>\n",
       "      <th>ID</th>\n",
       "      <th>type</th>\n",
       "      <th>start</th>\n",
       "      <th>end</th>\n",
       "      <th>length</th>\n",
       "    </tr>\n",
       "  </thead>\n",
       "  <tbody>\n",
       "    <tr>\n",
       "      <th>0</th>\n",
       "      <td>ID=HORVU.MOREX.r3.1HG0000070.1</td>\n",
       "      <td>intron five_prime_UTR</td>\n",
       "      <td>146750</td>\n",
       "      <td>146980</td>\n",
       "      <td>232</td>\n",
       "    </tr>\n",
       "    <tr>\n",
       "      <th>1</th>\n",
       "      <td>ID=HORVU.MOREX.r3.1HG0000080.1</td>\n",
       "      <td>intron five_prime_UTR</td>\n",
       "      <td>153530</td>\n",
       "      <td>153625</td>\n",
       "      <td>97</td>\n",
       "    </tr>\n",
       "    <tr>\n",
       "      <th>2</th>\n",
       "      <td>ID=HORVU.MOREX.r3.1HG0000620.1</td>\n",
       "      <td>intron five_prime_UTR</td>\n",
       "      <td>1614154</td>\n",
       "      <td>1615780</td>\n",
       "      <td>1628</td>\n",
       "    </tr>\n",
       "    <tr>\n",
       "      <th>3</th>\n",
       "      <td>ID=HORVU.MOREX.r3.1HG0000620.2</td>\n",
       "      <td>intron five_prime_UTR</td>\n",
       "      <td>1614154</td>\n",
       "      <td>1615780</td>\n",
       "      <td>1628</td>\n",
       "    </tr>\n",
       "    <tr>\n",
       "      <th>4</th>\n",
       "      <td>ID=HORVU.MOREX.r3.1HG0000620.3</td>\n",
       "      <td>intron five_prime_UTR</td>\n",
       "      <td>1614665</td>\n",
       "      <td>1615780</td>\n",
       "      <td>1117</td>\n",
       "    </tr>\n",
       "  </tbody>\n",
       "</table>\n",
       "</div>"
      ],
      "text/plain": [
       "                               ID                   type    start      end  \\\n",
       "0  ID=HORVU.MOREX.r3.1HG0000070.1  intron five_prime_UTR   146750   146980   \n",
       "1  ID=HORVU.MOREX.r3.1HG0000080.1  intron five_prime_UTR   153530   153625   \n",
       "2  ID=HORVU.MOREX.r3.1HG0000620.1  intron five_prime_UTR  1614154  1615780   \n",
       "3  ID=HORVU.MOREX.r3.1HG0000620.2  intron five_prime_UTR  1614154  1615780   \n",
       "4  ID=HORVU.MOREX.r3.1HG0000620.3  intron five_prime_UTR  1614665  1615780   \n",
       "\n",
       "   length  \n",
       "0     232  \n",
       "1      97  \n",
       "2    1628  \n",
       "3    1628  \n",
       "4    1117  "
      ]
     },
     "execution_count": 38,
     "metadata": {},
     "output_type": "execute_result"
    }
   ],
   "source": [
    "introns_UTR_forw_Hv_Morex = pd.read_csv('Output/Hv_Morex_UTRforw_introns.tsv', sep='\\t')\n",
    "introns_UTR_forw_Hv_Morex.head()"
   ]
  },
  {
   "cell_type": "code",
   "execution_count": 39,
   "metadata": {},
   "outputs": [
    {
     "data": {
      "text/html": [
       "<div>\n",
       "<style scoped>\n",
       "    .dataframe tbody tr th:only-of-type {\n",
       "        vertical-align: middle;\n",
       "    }\n",
       "\n",
       "    .dataframe tbody tr th {\n",
       "        vertical-align: top;\n",
       "    }\n",
       "\n",
       "    .dataframe thead th {\n",
       "        text-align: right;\n",
       "    }\n",
       "</style>\n",
       "<table border=\"1\" class=\"dataframe\">\n",
       "  <thead>\n",
       "    <tr style=\"text-align: right;\">\n",
       "      <th></th>\n",
       "      <th>ID</th>\n",
       "      <th>type</th>\n",
       "      <th>start</th>\n",
       "      <th>end</th>\n",
       "      <th>length</th>\n",
       "    </tr>\n",
       "  </thead>\n",
       "  <tbody>\n",
       "    <tr>\n",
       "      <th>0</th>\n",
       "      <td>ID=HORVU.MOREX.r3.1HG0000130.1</td>\n",
       "      <td>intron three_prime_UTR</td>\n",
       "      <td>377002</td>\n",
       "      <td>377104</td>\n",
       "      <td>104</td>\n",
       "    </tr>\n",
       "    <tr>\n",
       "      <th>1</th>\n",
       "      <td>ID=HORVU.MOREX.r3.1HG0000350.1</td>\n",
       "      <td>intron five_prime_UTR</td>\n",
       "      <td>1156130</td>\n",
       "      <td>1159354</td>\n",
       "      <td>3226</td>\n",
       "    </tr>\n",
       "    <tr>\n",
       "      <th>2</th>\n",
       "      <td>ID=HORVU.MOREX.r3.1HG0001120.1</td>\n",
       "      <td>intron five_prime_UTR</td>\n",
       "      <td>2577943</td>\n",
       "      <td>2580334</td>\n",
       "      <td>2393</td>\n",
       "    </tr>\n",
       "    <tr>\n",
       "      <th>3</th>\n",
       "      <td>ID=HORVU.MOREX.r3.1HG0001400.1</td>\n",
       "      <td>intron five_prime_UTR</td>\n",
       "      <td>3193629</td>\n",
       "      <td>3198818</td>\n",
       "      <td>5191</td>\n",
       "    </tr>\n",
       "    <tr>\n",
       "      <th>4</th>\n",
       "      <td>ID=HORVU.MOREX.r3.1HG0001400.1</td>\n",
       "      <td>intron five_prime_UTR</td>\n",
       "      <td>3198962</td>\n",
       "      <td>3199088</td>\n",
       "      <td>128</td>\n",
       "    </tr>\n",
       "  </tbody>\n",
       "</table>\n",
       "</div>"
      ],
      "text/plain": [
       "                               ID                    type    start      end  \\\n",
       "0  ID=HORVU.MOREX.r3.1HG0000130.1  intron three_prime_UTR   377002   377104   \n",
       "1  ID=HORVU.MOREX.r3.1HG0000350.1   intron five_prime_UTR  1156130  1159354   \n",
       "2  ID=HORVU.MOREX.r3.1HG0001120.1   intron five_prime_UTR  2577943  2580334   \n",
       "3  ID=HORVU.MOREX.r3.1HG0001400.1   intron five_prime_UTR  3193629  3198818   \n",
       "4  ID=HORVU.MOREX.r3.1HG0001400.1   intron five_prime_UTR  3198962  3199088   \n",
       "\n",
       "   length  \n",
       "0     104  \n",
       "1    3226  \n",
       "2    2393  \n",
       "3    5191  \n",
       "4     128  "
      ]
     },
     "execution_count": 39,
     "metadata": {},
     "output_type": "execute_result"
    }
   ],
   "source": [
    "introns_UTR_rev_Hv_Morex = pd.read_csv('Output/Hv_Morex_UTRrev_introns.tsv', sep = '\\t')\n",
    "introns_UTR_rev_Hv_Morex.head()"
   ]
  },
  {
   "cell_type": "code",
   "execution_count": 40,
   "metadata": {},
   "outputs": [],
   "source": [
    "### --- Concatenating the UTR_introns to build a unique dataframe\n",
    "frames_Hv_Morex = [introns_UTR_forw_Hv_Morex, introns_UTR_rev_Hv_Morex]\n",
    "introns_UTR_Hv_Morex = pd.concat(frames_Hv_Morex)"
   ]
  },
  {
   "cell_type": "code",
   "execution_count": 41,
   "metadata": {},
   "outputs": [
    {
     "data": {
      "text/plain": [
       "count     5711.000000\n",
       "mean       897.227981\n",
       "std       2447.933245\n",
       "min         33.000000\n",
       "25%        119.000000\n",
       "50%        396.000000\n",
       "75%        932.000000\n",
       "max      74239.000000\n",
       "Name: length, dtype: float64"
      ]
     },
     "execution_count": 41,
     "metadata": {},
     "output_type": "execute_result"
    }
   ],
   "source": [
    "### --- Performing some basic statistics \n",
    "introns_UTR_Hv_Morex['length'].describe()"
   ]
  },
  {
   "cell_type": "code",
   "execution_count": 42,
   "metadata": {},
   "outputs": [
    {
     "data": {
      "text/plain": [
       "<AxesSubplot:ylabel='Density'>"
      ]
     },
     "execution_count": 42,
     "metadata": {},
     "output_type": "execute_result"
    },
    {
     "data": {
      "image/png": "[encoded data removed]",
      "text/plain": [
       "<Figure size 432x288 with 1 Axes>"
      ]
     },
     "metadata": {
      "needs_background": "light"
     },
     "output_type": "display_data"
    }
   ],
   "source": [
    "### --- Plotting the distribution of UTR introns length\n",
    "introns_UTR_Hv_Morex['length'].plot.density()"
   ]
  },
  {
   "cell_type": "code",
   "execution_count": 43,
   "metadata": {},
   "outputs": [
    {
     "data": {
      "text/plain": [
       "<AxesSubplot:>"
      ]
     },
     "execution_count": 43,
     "metadata": {},
     "output_type": "execute_result"
    },
    {
     "data": {
      "image/png": "[encoded data removed]",
      "text/plain": [
       "<Figure size 432x288 with 1 Axes>"
      ]
     },
     "metadata": {
      "needs_background": "light"
     },
     "output_type": "display_data"
    }
   ],
   "source": [
    "### --- Plotting the boxplot of UTR introns length without outliers\n",
    "introns_UTR_Hv_Morex.boxplot(column='length', return_type='axes', showfliers=False) # showfliers = False -> discard outliers"
   ]
  },
  {
   "cell_type": "code",
   "execution_count": 44,
   "metadata": {},
   "outputs": [],
   "source": [
    "### --- splitting in introns 3'UTR and 5'UTR to eventually if there are differences among the two\n",
    "introns_UTR3_Hv_Morex = introns_UTR_Hv_Morex.loc[introns_UTR_Hv_Morex['type'].isin(['intron three_prime_UTR'])]\n",
    "introns_UTR5_Hv_Morex = introns_UTR_Hv_Morex.loc[introns_UTR_Hv_Morex['type'].isin(['intron five_prime_UTR'])]"
   ]
  },
  {
   "cell_type": "code",
   "execution_count": 45,
   "metadata": {},
   "outputs": [
    {
     "data": {
      "text/html": [
       "<div>\n",
       "<style scoped>\n",
       "    .dataframe tbody tr th:only-of-type {\n",
       "        vertical-align: middle;\n",
       "    }\n",
       "\n",
       "    .dataframe tbody tr th {\n",
       "        vertical-align: top;\n",
       "    }\n",
       "\n",
       "    .dataframe thead th {\n",
       "        text-align: right;\n",
       "    }\n",
       "</style>\n",
       "<table border=\"1\" class=\"dataframe\">\n",
       "  <thead>\n",
       "    <tr style=\"text-align: right;\">\n",
       "      <th></th>\n",
       "      <th>ID</th>\n",
       "      <th>type</th>\n",
       "      <th>start</th>\n",
       "      <th>end</th>\n",
       "      <th>length</th>\n",
       "    </tr>\n",
       "  </thead>\n",
       "  <tbody>\n",
       "    <tr>\n",
       "      <th>11</th>\n",
       "      <td>ID=HORVU.MOREX.r3.1HG0003090.2</td>\n",
       "      <td>intron three_prime_UTR</td>\n",
       "      <td>5946475</td>\n",
       "      <td>5974459</td>\n",
       "      <td>27986</td>\n",
       "    </tr>\n",
       "    <tr>\n",
       "      <th>12</th>\n",
       "      <td>ID=HORVU.MOREX.r3.1HG0003090.6</td>\n",
       "      <td>intron three_prime_UTR</td>\n",
       "      <td>5946475</td>\n",
       "      <td>5974459</td>\n",
       "      <td>27986</td>\n",
       "    </tr>\n",
       "    <tr>\n",
       "      <th>24</th>\n",
       "      <td>ID=HORVU.MOREX.r3.1HG0007160.1</td>\n",
       "      <td>intron three_prime_UTR</td>\n",
       "      <td>14661381</td>\n",
       "      <td>14662100</td>\n",
       "      <td>721</td>\n",
       "    </tr>\n",
       "    <tr>\n",
       "      <th>25</th>\n",
       "      <td>ID=HORVU.MOREX.r3.1HG0007160.1</td>\n",
       "      <td>intron three_prime_UTR</td>\n",
       "      <td>14662182</td>\n",
       "      <td>14662301</td>\n",
       "      <td>121</td>\n",
       "    </tr>\n",
       "    <tr>\n",
       "      <th>27</th>\n",
       "      <td>ID=HORVU.MOREX.r3.1HG0007370.2</td>\n",
       "      <td>intron three_prime_UTR</td>\n",
       "      <td>15093762</td>\n",
       "      <td>15093878</td>\n",
       "      <td>118</td>\n",
       "    </tr>\n",
       "    <tr>\n",
       "      <th>...</th>\n",
       "      <td>...</td>\n",
       "      <td>...</td>\n",
       "      <td>...</td>\n",
       "      <td>...</td>\n",
       "      <td>...</td>\n",
       "    </tr>\n",
       "    <tr>\n",
       "      <th>2676</th>\n",
       "      <td>ID=HORVU.MOREX.r3.7HG0748130.1</td>\n",
       "      <td>intron three_prime_UTR</td>\n",
       "      <td>620827612</td>\n",
       "      <td>620827821</td>\n",
       "      <td>211</td>\n",
       "    </tr>\n",
       "    <tr>\n",
       "      <th>2677</th>\n",
       "      <td>ID=HORVU.MOREX.r3.7HG0749430.1</td>\n",
       "      <td>intron three_prime_UTR</td>\n",
       "      <td>623175384</td>\n",
       "      <td>623176311</td>\n",
       "      <td>929</td>\n",
       "    </tr>\n",
       "    <tr>\n",
       "      <th>2678</th>\n",
       "      <td>ID=HORVU.MOREX.r3.7HG0749440.1</td>\n",
       "      <td>intron three_prime_UTR</td>\n",
       "      <td>623212429</td>\n",
       "      <td>623212835</td>\n",
       "      <td>408</td>\n",
       "    </tr>\n",
       "    <tr>\n",
       "      <th>2682</th>\n",
       "      <td>ID=HORVU.MOREX.r3.7HG0749980.1</td>\n",
       "      <td>intron three_prime_UTR</td>\n",
       "      <td>624202455</td>\n",
       "      <td>624203734</td>\n",
       "      <td>1281</td>\n",
       "    </tr>\n",
       "    <tr>\n",
       "      <th>2688</th>\n",
       "      <td>ID=HORVU.MOREX.r3.7HG0752790.1</td>\n",
       "      <td>intron three_prime_UTR</td>\n",
       "      <td>631981108</td>\n",
       "      <td>631981202</td>\n",
       "      <td>96</td>\n",
       "    </tr>\n",
       "  </tbody>\n",
       "</table>\n",
       "<p>2012 rows × 5 columns</p>\n",
       "</div>"
      ],
      "text/plain": [
       "                                  ID                    type      start  \\\n",
       "11    ID=HORVU.MOREX.r3.1HG0003090.2  intron three_prime_UTR    5946475   \n",
       "12    ID=HORVU.MOREX.r3.1HG0003090.6  intron three_prime_UTR    5946475   \n",
       "24    ID=HORVU.MOREX.r3.1HG0007160.1  intron three_prime_UTR   14661381   \n",
       "25    ID=HORVU.MOREX.r3.1HG0007160.1  intron three_prime_UTR   14662182   \n",
       "27    ID=HORVU.MOREX.r3.1HG0007370.2  intron three_prime_UTR   15093762   \n",
       "...                              ...                     ...        ...   \n",
       "2676  ID=HORVU.MOREX.r3.7HG0748130.1  intron three_prime_UTR  620827612   \n",
       "2677  ID=HORVU.MOREX.r3.7HG0749430.1  intron three_prime_UTR  623175384   \n",
       "2678  ID=HORVU.MOREX.r3.7HG0749440.1  intron three_prime_UTR  623212429   \n",
       "2682  ID=HORVU.MOREX.r3.7HG0749980.1  intron three_prime_UTR  624202455   \n",
       "2688  ID=HORVU.MOREX.r3.7HG0752790.1  intron three_prime_UTR  631981108   \n",
       "\n",
       "            end  length  \n",
       "11      5974459   27986  \n",
       "12      5974459   27986  \n",
       "24     14662100     721  \n",
       "25     14662301     121  \n",
       "27     15093878     118  \n",
       "...         ...     ...  \n",
       "2676  620827821     211  \n",
       "2677  623176311     929  \n",
       "2678  623212835     408  \n",
       "2682  624203734    1281  \n",
       "2688  631981202      96  \n",
       "\n",
       "[2012 rows x 5 columns]"
      ]
     },
     "execution_count": 45,
     "metadata": {},
     "output_type": "execute_result"
    }
   ],
   "source": [
    "introns_UTR3_Hv_Morex"
   ]
  },
  {
   "cell_type": "code",
   "execution_count": 46,
   "metadata": {},
   "outputs": [
    {
     "data": {
      "text/plain": [
       "count     2012.000000\n",
       "mean       967.822565\n",
       "std       3355.354223\n",
       "min         33.000000\n",
       "25%        100.000000\n",
       "50%        208.500000\n",
       "75%        771.750000\n",
       "max      74239.000000\n",
       "Name: length, dtype: float64"
      ]
     },
     "execution_count": 46,
     "metadata": {},
     "output_type": "execute_result"
    }
   ],
   "source": [
    "introns_UTR3_Hv_Morex['length'].describe()"
   ]
  },
  {
   "cell_type": "code",
   "execution_count": 47,
   "metadata": {},
   "outputs": [
    {
     "data": {
      "text/html": [
       "<div>\n",
       "<style scoped>\n",
       "    .dataframe tbody tr th:only-of-type {\n",
       "        vertical-align: middle;\n",
       "    }\n",
       "\n",
       "    .dataframe tbody tr th {\n",
       "        vertical-align: top;\n",
       "    }\n",
       "\n",
       "    .dataframe thead th {\n",
       "        text-align: right;\n",
       "    }\n",
       "</style>\n",
       "<table border=\"1\" class=\"dataframe\">\n",
       "  <thead>\n",
       "    <tr style=\"text-align: right;\">\n",
       "      <th></th>\n",
       "      <th>ID</th>\n",
       "      <th>type</th>\n",
       "      <th>start</th>\n",
       "      <th>end</th>\n",
       "      <th>length</th>\n",
       "    </tr>\n",
       "  </thead>\n",
       "  <tbody>\n",
       "    <tr>\n",
       "      <th>0</th>\n",
       "      <td>ID=HORVU.MOREX.r3.1HG0000070.1</td>\n",
       "      <td>intron five_prime_UTR</td>\n",
       "      <td>146750</td>\n",
       "      <td>146980</td>\n",
       "      <td>232</td>\n",
       "    </tr>\n",
       "    <tr>\n",
       "      <th>1</th>\n",
       "      <td>ID=HORVU.MOREX.r3.1HG0000080.1</td>\n",
       "      <td>intron five_prime_UTR</td>\n",
       "      <td>153530</td>\n",
       "      <td>153625</td>\n",
       "      <td>97</td>\n",
       "    </tr>\n",
       "    <tr>\n",
       "      <th>2</th>\n",
       "      <td>ID=HORVU.MOREX.r3.1HG0000620.1</td>\n",
       "      <td>intron five_prime_UTR</td>\n",
       "      <td>1614154</td>\n",
       "      <td>1615780</td>\n",
       "      <td>1628</td>\n",
       "    </tr>\n",
       "    <tr>\n",
       "      <th>3</th>\n",
       "      <td>ID=HORVU.MOREX.r3.1HG0000620.2</td>\n",
       "      <td>intron five_prime_UTR</td>\n",
       "      <td>1614154</td>\n",
       "      <td>1615780</td>\n",
       "      <td>1628</td>\n",
       "    </tr>\n",
       "    <tr>\n",
       "      <th>4</th>\n",
       "      <td>ID=HORVU.MOREX.r3.1HG0000620.3</td>\n",
       "      <td>intron five_prime_UTR</td>\n",
       "      <td>1614665</td>\n",
       "      <td>1615780</td>\n",
       "      <td>1117</td>\n",
       "    </tr>\n",
       "    <tr>\n",
       "      <th>...</th>\n",
       "      <td>...</td>\n",
       "      <td>...</td>\n",
       "      <td>...</td>\n",
       "      <td>...</td>\n",
       "      <td>...</td>\n",
       "    </tr>\n",
       "    <tr>\n",
       "      <th>2686</th>\n",
       "      <td>ID=HORVU.MOREX.r3.7HG0751310.1</td>\n",
       "      <td>intron five_prime_UTR</td>\n",
       "      <td>627322202</td>\n",
       "      <td>627322296</td>\n",
       "      <td>96</td>\n",
       "    </tr>\n",
       "    <tr>\n",
       "      <th>2687</th>\n",
       "      <td>ID=HORVU.MOREX.r3.7HG0752050.1</td>\n",
       "      <td>intron five_prime_UTR</td>\n",
       "      <td>628813527</td>\n",
       "      <td>628813619</td>\n",
       "      <td>94</td>\n",
       "    </tr>\n",
       "    <tr>\n",
       "      <th>2689</th>\n",
       "      <td>ID=HORVU.MOREX.r3.7HG0752950.1</td>\n",
       "      <td>intron five_prime_UTR</td>\n",
       "      <td>632146924</td>\n",
       "      <td>632147308</td>\n",
       "      <td>386</td>\n",
       "    </tr>\n",
       "    <tr>\n",
       "      <th>2690</th>\n",
       "      <td>ID=HORVU.MOREX.r3.UnG0753140.1</td>\n",
       "      <td>intron five_prime_UTR</td>\n",
       "      <td>475717</td>\n",
       "      <td>475945</td>\n",
       "      <td>230</td>\n",
       "    </tr>\n",
       "    <tr>\n",
       "      <th>2691</th>\n",
       "      <td>ID=HORVU.MOREX.r3.UnG0753140.1</td>\n",
       "      <td>intron five_prime_UTR</td>\n",
       "      <td>476070</td>\n",
       "      <td>480556</td>\n",
       "      <td>4488</td>\n",
       "    </tr>\n",
       "  </tbody>\n",
       "</table>\n",
       "<p>3699 rows × 5 columns</p>\n",
       "</div>"
      ],
      "text/plain": [
       "                                  ID                   type      start  \\\n",
       "0     ID=HORVU.MOREX.r3.1HG0000070.1  intron five_prime_UTR     146750   \n",
       "1     ID=HORVU.MOREX.r3.1HG0000080.1  intron five_prime_UTR     153530   \n",
       "2     ID=HORVU.MOREX.r3.1HG0000620.1  intron five_prime_UTR    1614154   \n",
       "3     ID=HORVU.MOREX.r3.1HG0000620.2  intron five_prime_UTR    1614154   \n",
       "4     ID=HORVU.MOREX.r3.1HG0000620.3  intron five_prime_UTR    1614665   \n",
       "...                              ...                    ...        ...   \n",
       "2686  ID=HORVU.MOREX.r3.7HG0751310.1  intron five_prime_UTR  627322202   \n",
       "2687  ID=HORVU.MOREX.r3.7HG0752050.1  intron five_prime_UTR  628813527   \n",
       "2689  ID=HORVU.MOREX.r3.7HG0752950.1  intron five_prime_UTR  632146924   \n",
       "2690  ID=HORVU.MOREX.r3.UnG0753140.1  intron five_prime_UTR     475717   \n",
       "2691  ID=HORVU.MOREX.r3.UnG0753140.1  intron five_prime_UTR     476070   \n",
       "\n",
       "            end  length  \n",
       "0        146980     232  \n",
       "1        153625      97  \n",
       "2       1615780    1628  \n",
       "3       1615780    1628  \n",
       "4       1615780    1117  \n",
       "...         ...     ...  \n",
       "2686  627322296      96  \n",
       "2687  628813619      94  \n",
       "2689  632147308     386  \n",
       "2690     475945     230  \n",
       "2691     480556    4488  \n",
       "\n",
       "[3699 rows x 5 columns]"
      ]
     },
     "execution_count": 47,
     "metadata": {},
     "output_type": "execute_result"
    }
   ],
   "source": [
    "introns_UTR5_Hv_Morex"
   ]
  },
  {
   "cell_type": "code",
   "execution_count": 48,
   "metadata": {},
   "outputs": [
    {
     "data": {
      "text/plain": [
       "count     3699.000000\n",
       "mean       858.829413\n",
       "std       1768.080234\n",
       "min         41.000000\n",
       "25%        142.000000\n",
       "50%        497.000000\n",
       "75%        991.000000\n",
       "max      34933.000000\n",
       "Name: length, dtype: float64"
      ]
     },
     "execution_count": 48,
     "metadata": {},
     "output_type": "execute_result"
    }
   ],
   "source": [
    "introns_UTR5_Hv_Morex['length'].describe()"
   ]
  },
  {
   "cell_type": "markdown",
   "metadata": {},
   "source": [
    "### 2.3.5 Removing UTR introns from the whole introns dataframe"
   ]
  },
  {
   "cell_type": "code",
   "execution_count": 49,
   "metadata": {},
   "outputs": [
    {
     "data": {
      "text/html": [
       "<div>\n",
       "<style scoped>\n",
       "    .dataframe tbody tr th:only-of-type {\n",
       "        vertical-align: middle;\n",
       "    }\n",
       "\n",
       "    .dataframe tbody tr th {\n",
       "        vertical-align: top;\n",
       "    }\n",
       "\n",
       "    .dataframe thead th {\n",
       "        text-align: right;\n",
       "    }\n",
       "</style>\n",
       "<table border=\"1\" class=\"dataframe\">\n",
       "  <thead>\n",
       "    <tr style=\"text-align: right;\">\n",
       "      <th></th>\n",
       "      <th>ID</th>\n",
       "      <th>type</th>\n",
       "      <th>start</th>\n",
       "      <th>end</th>\n",
       "      <th>length</th>\n",
       "    </tr>\n",
       "  </thead>\n",
       "  <tbody>\n",
       "    <tr>\n",
       "      <th>0</th>\n",
       "      <td>ID=HORVU.MOREX.r3.1HG0000010.1</td>\n",
       "      <td>intron</td>\n",
       "      <td>49773</td>\n",
       "      <td>50194</td>\n",
       "      <td>423</td>\n",
       "    </tr>\n",
       "    <tr>\n",
       "      <th>1</th>\n",
       "      <td>ID=HORVU.MOREX.r3.1HG0000040.1</td>\n",
       "      <td>intron</td>\n",
       "      <td>78955</td>\n",
       "      <td>79062</td>\n",
       "      <td>109</td>\n",
       "    </tr>\n",
       "    <tr>\n",
       "      <th>2</th>\n",
       "      <td>ID=HORVU.MOREX.r3.1HG0000040.1</td>\n",
       "      <td>intron</td>\n",
       "      <td>79105</td>\n",
       "      <td>79608</td>\n",
       "      <td>505</td>\n",
       "    </tr>\n",
       "    <tr>\n",
       "      <th>3</th>\n",
       "      <td>ID=HORVU.MOREX.r3.1HG0000040.1</td>\n",
       "      <td>intron</td>\n",
       "      <td>79677</td>\n",
       "      <td>79756</td>\n",
       "      <td>81</td>\n",
       "    </tr>\n",
       "    <tr>\n",
       "      <th>4</th>\n",
       "      <td>ID=HORVU.MOREX.r3.1HG0000040.1</td>\n",
       "      <td>intron</td>\n",
       "      <td>79800</td>\n",
       "      <td>79900</td>\n",
       "      <td>102</td>\n",
       "    </tr>\n",
       "  </tbody>\n",
       "</table>\n",
       "</div>"
      ],
      "text/plain": [
       "                               ID     type  start    end  length\n",
       "0  ID=HORVU.MOREX.r3.1HG0000010.1  intron   49773  50194     423\n",
       "1  ID=HORVU.MOREX.r3.1HG0000040.1  intron   78955  79062     109\n",
       "2  ID=HORVU.MOREX.r3.1HG0000040.1  intron   79105  79608     505\n",
       "3  ID=HORVU.MOREX.r3.1HG0000040.1  intron   79677  79756      81\n",
       "4  ID=HORVU.MOREX.r3.1HG0000040.1  intron   79800  79900     102"
      ]
     },
     "execution_count": 49,
     "metadata": {},
     "output_type": "execute_result"
    }
   ],
   "source": [
    "### --- Checking total introns dataframe \n",
    "introns_Hv_Morex.head()"
   ]
  },
  {
   "cell_type": "code",
   "execution_count": 50,
   "metadata": {},
   "outputs": [
    {
     "data": {
      "text/html": [
       "<div>\n",
       "<style scoped>\n",
       "    .dataframe tbody tr th:only-of-type {\n",
       "        vertical-align: middle;\n",
       "    }\n",
       "\n",
       "    .dataframe tbody tr th {\n",
       "        vertical-align: top;\n",
       "    }\n",
       "\n",
       "    .dataframe thead th {\n",
       "        text-align: right;\n",
       "    }\n",
       "</style>\n",
       "<table border=\"1\" class=\"dataframe\">\n",
       "  <thead>\n",
       "    <tr style=\"text-align: right;\">\n",
       "      <th></th>\n",
       "      <th>ID</th>\n",
       "      <th>type</th>\n",
       "      <th>start</th>\n",
       "      <th>end</th>\n",
       "      <th>length</th>\n",
       "    </tr>\n",
       "  </thead>\n",
       "  <tbody>\n",
       "    <tr>\n",
       "      <th>0</th>\n",
       "      <td>ID=HORVU.MOREX.r3.1HG0000070.1</td>\n",
       "      <td>intron five_prime_UTR</td>\n",
       "      <td>146750</td>\n",
       "      <td>146980</td>\n",
       "      <td>232</td>\n",
       "    </tr>\n",
       "    <tr>\n",
       "      <th>1</th>\n",
       "      <td>ID=HORVU.MOREX.r3.1HG0000080.1</td>\n",
       "      <td>intron five_prime_UTR</td>\n",
       "      <td>153530</td>\n",
       "      <td>153625</td>\n",
       "      <td>97</td>\n",
       "    </tr>\n",
       "    <tr>\n",
       "      <th>2</th>\n",
       "      <td>ID=HORVU.MOREX.r3.1HG0000620.1</td>\n",
       "      <td>intron five_prime_UTR</td>\n",
       "      <td>1614154</td>\n",
       "      <td>1615780</td>\n",
       "      <td>1628</td>\n",
       "    </tr>\n",
       "    <tr>\n",
       "      <th>3</th>\n",
       "      <td>ID=HORVU.MOREX.r3.1HG0000620.2</td>\n",
       "      <td>intron five_prime_UTR</td>\n",
       "      <td>1614154</td>\n",
       "      <td>1615780</td>\n",
       "      <td>1628</td>\n",
       "    </tr>\n",
       "    <tr>\n",
       "      <th>4</th>\n",
       "      <td>ID=HORVU.MOREX.r3.1HG0000620.3</td>\n",
       "      <td>intron five_prime_UTR</td>\n",
       "      <td>1614665</td>\n",
       "      <td>1615780</td>\n",
       "      <td>1117</td>\n",
       "    </tr>\n",
       "  </tbody>\n",
       "</table>\n",
       "</div>"
      ],
      "text/plain": [
       "                               ID                   type    start      end  \\\n",
       "0  ID=HORVU.MOREX.r3.1HG0000070.1  intron five_prime_UTR   146750   146980   \n",
       "1  ID=HORVU.MOREX.r3.1HG0000080.1  intron five_prime_UTR   153530   153625   \n",
       "2  ID=HORVU.MOREX.r3.1HG0000620.1  intron five_prime_UTR  1614154  1615780   \n",
       "3  ID=HORVU.MOREX.r3.1HG0000620.2  intron five_prime_UTR  1614154  1615780   \n",
       "4  ID=HORVU.MOREX.r3.1HG0000620.3  intron five_prime_UTR  1614665  1615780   \n",
       "\n",
       "   length  \n",
       "0     232  \n",
       "1      97  \n",
       "2    1628  \n",
       "3    1628  \n",
       "4    1117  "
      ]
     },
     "execution_count": 50,
     "metadata": {},
     "output_type": "execute_result"
    }
   ],
   "source": [
    "### --- Checking UTR introns dataframe\n",
    "introns_UTR_Hv_Morex.head()"
   ]
  },
  {
   "cell_type": "code",
   "execution_count": 51,
   "metadata": {},
   "outputs": [
    {
     "data": {
      "text/html": [
       "<div>\n",
       "<style scoped>\n",
       "    .dataframe tbody tr th:only-of-type {\n",
       "        vertical-align: middle;\n",
       "    }\n",
       "\n",
       "    .dataframe tbody tr th {\n",
       "        vertical-align: top;\n",
       "    }\n",
       "\n",
       "    .dataframe thead th {\n",
       "        text-align: right;\n",
       "    }\n",
       "</style>\n",
       "<table border=\"1\" class=\"dataframe\">\n",
       "  <thead>\n",
       "    <tr style=\"text-align: right;\">\n",
       "      <th></th>\n",
       "      <th>ID</th>\n",
       "      <th>type</th>\n",
       "      <th>start</th>\n",
       "      <th>end</th>\n",
       "      <th>length</th>\n",
       "    </tr>\n",
       "  </thead>\n",
       "  <tbody>\n",
       "    <tr>\n",
       "      <th>0</th>\n",
       "      <td>ID=HORVU.MOREX.r3.1HG0000010.1</td>\n",
       "      <td>intron</td>\n",
       "      <td>49773</td>\n",
       "      <td>50194</td>\n",
       "      <td>423</td>\n",
       "    </tr>\n",
       "    <tr>\n",
       "      <th>1</th>\n",
       "      <td>ID=HORVU.MOREX.r3.1HG0000040.1</td>\n",
       "      <td>intron</td>\n",
       "      <td>78955</td>\n",
       "      <td>79062</td>\n",
       "      <td>109</td>\n",
       "    </tr>\n",
       "    <tr>\n",
       "      <th>2</th>\n",
       "      <td>ID=HORVU.MOREX.r3.1HG0000040.1</td>\n",
       "      <td>intron</td>\n",
       "      <td>79105</td>\n",
       "      <td>79608</td>\n",
       "      <td>505</td>\n",
       "    </tr>\n",
       "    <tr>\n",
       "      <th>3</th>\n",
       "      <td>ID=HORVU.MOREX.r3.1HG0000040.1</td>\n",
       "      <td>intron</td>\n",
       "      <td>79677</td>\n",
       "      <td>79756</td>\n",
       "      <td>81</td>\n",
       "    </tr>\n",
       "    <tr>\n",
       "      <th>4</th>\n",
       "      <td>ID=HORVU.MOREX.r3.1HG0000040.1</td>\n",
       "      <td>intron</td>\n",
       "      <td>79800</td>\n",
       "      <td>79900</td>\n",
       "      <td>102</td>\n",
       "    </tr>\n",
       "    <tr>\n",
       "      <th>...</th>\n",
       "      <td>...</td>\n",
       "      <td>...</td>\n",
       "      <td>...</td>\n",
       "      <td>...</td>\n",
       "      <td>...</td>\n",
       "    </tr>\n",
       "    <tr>\n",
       "      <th>156682</th>\n",
       "      <td>ID=HORVU.MOREX.r3.UnG0816320.1</td>\n",
       "      <td>intron</td>\n",
       "      <td>28904141</td>\n",
       "      <td>28904339</td>\n",
       "      <td>200</td>\n",
       "    </tr>\n",
       "    <tr>\n",
       "      <th>156683</th>\n",
       "      <td>ID=HORVU.MOREX.r3.UnG0816640.1</td>\n",
       "      <td>intron</td>\n",
       "      <td>29002646</td>\n",
       "      <td>29003296</td>\n",
       "      <td>652</td>\n",
       "    </tr>\n",
       "    <tr>\n",
       "      <th>156684</th>\n",
       "      <td>ID=HORVU.MOREX.r3.UnG0816680.1</td>\n",
       "      <td>intron</td>\n",
       "      <td>29008046</td>\n",
       "      <td>29008730</td>\n",
       "      <td>686</td>\n",
       "    </tr>\n",
       "    <tr>\n",
       "      <th>156685</th>\n",
       "      <td>ID=HORVU.MOREX.r3.UnG0816840.1</td>\n",
       "      <td>intron</td>\n",
       "      <td>29079790</td>\n",
       "      <td>29086201</td>\n",
       "      <td>6413</td>\n",
       "    </tr>\n",
       "    <tr>\n",
       "      <th>156686</th>\n",
       "      <td>ID=HORVU.MOREX.r3.UnG0816840.1</td>\n",
       "      <td>intron</td>\n",
       "      <td>29086208</td>\n",
       "      <td>29088676</td>\n",
       "      <td>2470</td>\n",
       "    </tr>\n",
       "  </tbody>\n",
       "</table>\n",
       "<p>150976 rows × 5 columns</p>\n",
       "</div>"
      ],
      "text/plain": [
       "                                    ID     type     start       end  length\n",
       "0       ID=HORVU.MOREX.r3.1HG0000010.1  intron      49773     50194     423\n",
       "1       ID=HORVU.MOREX.r3.1HG0000040.1  intron      78955     79062     109\n",
       "2       ID=HORVU.MOREX.r3.1HG0000040.1  intron      79105     79608     505\n",
       "3       ID=HORVU.MOREX.r3.1HG0000040.1  intron      79677     79756      81\n",
       "4       ID=HORVU.MOREX.r3.1HG0000040.1  intron      79800     79900     102\n",
       "...                                ...      ...       ...       ...     ...\n",
       "156682  ID=HORVU.MOREX.r3.UnG0816320.1  intron   28904141  28904339     200\n",
       "156683  ID=HORVU.MOREX.r3.UnG0816640.1  intron   29002646  29003296     652\n",
       "156684  ID=HORVU.MOREX.r3.UnG0816680.1  intron   29008046  29008730     686\n",
       "156685  ID=HORVU.MOREX.r3.UnG0816840.1  intron   29079790  29086201    6413\n",
       "156686  ID=HORVU.MOREX.r3.UnG0816840.1  intron   29086208  29088676    2470\n",
       "\n",
       "[150976 rows x 5 columns]"
      ]
     },
     "execution_count": 51,
     "metadata": {},
     "output_type": "execute_result"
    }
   ],
   "source": [
    "### --- Extracting introns from cds within Hv_MorexHC\n",
    "introns_cds_Hv_Morex = cds_introns_dataframe(introns_Hv_Morex, introns_UTR_Hv_Morex)\n",
    "introns_cds_Hv_Morex"
   ]
  },
  {
   "cell_type": "code",
   "execution_count": 52,
   "metadata": {},
   "outputs": [
    {
     "data": {
      "text/html": [
       "<div>\n",
       "<style scoped>\n",
       "    .dataframe tbody tr th:only-of-type {\n",
       "        vertical-align: middle;\n",
       "    }\n",
       "\n",
       "    .dataframe tbody tr th {\n",
       "        vertical-align: top;\n",
       "    }\n",
       "\n",
       "    .dataframe thead th {\n",
       "        text-align: right;\n",
       "    }\n",
       "</style>\n",
       "<table border=\"1\" class=\"dataframe\">\n",
       "  <thead>\n",
       "    <tr style=\"text-align: right;\">\n",
       "      <th></th>\n",
       "      <th>ID</th>\n",
       "      <th>type</th>\n",
       "      <th>start</th>\n",
       "      <th>end</th>\n",
       "      <th>length</th>\n",
       "    </tr>\n",
       "  </thead>\n",
       "  <tbody>\n",
       "  </tbody>\n",
       "</table>\n",
       "</div>"
      ],
      "text/plain": [
       "Empty DataFrame\n",
       "Columns: [ID, type, start, end, length]\n",
       "Index: []"
      ]
     },
     "execution_count": 52,
     "metadata": {},
     "output_type": "execute_result"
    }
   ],
   "source": [
    "### --- Checking if there are not introns UTR within the created dataframe\n",
    "introns_cds_Hv_Morex.loc[introns_cds_Hv_Morex['type'].isin(['intron three_prime_UTR','intron five_prime_UTR'])]"
   ]
  },
  {
   "cell_type": "code",
   "execution_count": 53,
   "metadata": {},
   "outputs": [
    {
     "data": {
      "text/plain": [
       "count    150976.000000\n",
       "mean        552.505862\n",
       "std        2509.972190\n",
       "min          22.000000\n",
       "25%          92.000000\n",
       "50%         127.000000\n",
       "75%         421.000000\n",
       "max      500805.000000\n",
       "Name: length, dtype: float64"
      ]
     },
     "execution_count": 53,
     "metadata": {},
     "output_type": "execute_result"
    }
   ],
   "source": [
    "### --- Basic statistics of Hv_Morex introns cds\n",
    "introns_cds_Hv_Morex['length'].describe()"
   ]
  },
  {
   "cell_type": "code",
   "execution_count": 54,
   "metadata": {},
   "outputs": [
    {
     "data": {
      "text/plain": [
       "<AxesSubplot:ylabel='Density'>"
      ]
     },
     "execution_count": 54,
     "metadata": {},
     "output_type": "execute_result"
    },
    {
     "data": {
      "image/png": "[encoded data removed]",
      "text/plain": [
       "<Figure size 432x288 with 1 Axes>"
      ]
     },
     "metadata": {
      "needs_background": "light"
     },
     "output_type": "display_data"
    }
   ],
   "source": [
    "### --- Plotting the distribution of Hv_Morex cds introns length\n",
    "introns_cds_Hv_Morex['length'].plot.density()"
   ]
  },
  {
   "cell_type": "code",
   "execution_count": 55,
   "metadata": {},
   "outputs": [
    {
     "data": {
      "text/plain": [
       "<AxesSubplot:>"
      ]
     },
     "execution_count": 55,
     "metadata": {},
     "output_type": "execute_result"
    },
    {
     "data": {
      "image/png": "[encoded data removed]",
      "text/plain": [
       "<Figure size 432x288 with 1 Axes>"
      ]
     },
     "metadata": {
      "needs_background": "light"
     },
     "output_type": "display_data"
    }
   ],
   "source": [
    "### --- Plotting the boxplot of Hv_Morex cds introns length without outliers\n",
    "introns_cds_Hv_Morex.boxplot(column='length', return_type='axes', showfliers=False) # showfliers = False -> discard outliers"
   ]
  },
  {
   "cell_type": "markdown",
   "metadata": {},
   "source": [
    "### 2.3.6 Re-organizing files and directories"
   ]
  },
  {
   "cell_type": "code",
   "execution_count": 56,
   "metadata": {},
   "outputs": [
    {
     "name": "stdout",
     "output_type": "stream",
     "text": [
      "Hv_Morex_exon.tsv\r\n",
      "Hv_Morex_longread\r\n",
      "Hv_Morex_nohashtag.pgsb.Jul2020.csv\r\n",
      "Hv_Morex_nohashtag.pgsb.Jul2020.gff3\r\n",
      "Hv_Morex_nohashtag.pgsb.Jul2020.HC.csv\r\n",
      "Hv_Morex_nohashtag.pgsb.Jul2020.HC.gff3\r\n",
      "Hv_Morex_nohashtag.pgsb.Jul2020.LC.csv\r\n",
      "Hv_Morex_nohashtag.pgsb.Jul2020.LC.gff3\r\n",
      "Hv_Morex_UTRforw.tsv\r\n",
      "Hv_Morex_UTRrev.tsv\r\n",
      "raw\r\n"
     ]
    }
   ],
   "source": [
    "! ls Data/"
   ]
  },
  {
   "cell_type": "code",
   "execution_count": 57,
   "metadata": {},
   "outputs": [],
   "source": [
    "! mv Data/*tsv Data/Hv_Morex_longread"
   ]
  },
  {
   "cell_type": "code",
   "execution_count": 34,
   "metadata": {},
   "outputs": [],
   "source": [
    "! mv Data/Hv_Morex_n* Data/Hv_Morex_longread/"
   ]
  },
  {
   "cell_type": "code",
   "execution_count": 35,
   "metadata": {},
   "outputs": [
    {
     "name": "stdout",
     "output_type": "stream",
     "text": [
      "Hv_Morex_exon.tsv\t\t     Hv_Morex_nohashtag.pgsb.Jul2020.gff3\r\n",
      "Hv_MorexHC_exon.tsv\t\t     Hv_Morex_nohashtag.pgsb.Jul2020.HC.csv\r\n",
      "Hv_MorexHC_UTRforw.tsv\t\t     Hv_Morex_nohashtag.pgsb.Jul2020.HC.gff3\r\n",
      "Hv_MorexHC_UTRrev.tsv\t\t     Hv_Morex_nohashtag.pgsb.Jul2020.LC.csv\r\n",
      "Hv_MorexLC_exon.tsv\t\t     Hv_Morex_nohashtag.pgsb.Jul2020.LC.gff3\r\n",
      "Hv_MorexLC_UTRforw.tsv\t\t     Hv_Morex_UTRforw.tsv\r\n",
      "Hv_MorexLC_UTRrev.tsv\t\t     Hv_Morex_UTRrev.tsv\r\n",
      "Hv_Morex_nohashtag.pgsb.Jul2020.csv\r\n"
     ]
    }
   ],
   "source": [
    "! ls Data/Hv_Morex_longread/"
   ]
  },
  {
   "cell_type": "code",
   "execution_count": 59,
   "metadata": {},
   "outputs": [
    {
     "name": "stdout",
     "output_type": "stream",
     "text": [
      "Hv_Morex_intronlessIDs.txt  Hv_Morex_longread\r\n",
      "Hv_Morex_intronpoorIDs.txt  Hv_Morex_UTRforw_introns.tsv\r\n",
      "Hv_Morex_intronrichIDs.txt  Hv_Morex_UTRrev_introns.tsv\r\n",
      "Hv_Morex_introns.tsv\r\n"
     ]
    }
   ],
   "source": [
    "! ls Output/"
   ]
  },
  {
   "cell_type": "code",
   "execution_count": 60,
   "metadata": {},
   "outputs": [],
   "source": [
    "! mv Output/*tsv Output/Hv_Morex_longread/"
   ]
  },
  {
   "cell_type": "code",
   "execution_count": 61,
   "metadata": {},
   "outputs": [],
   "source": [
    "! mv Output/*txt Output/Hv_Morex_longread/"
   ]
  },
  {
   "cell_type": "code",
   "execution_count": 62,
   "metadata": {},
   "outputs": [
    {
     "name": "stdout",
     "output_type": "stream",
     "text": [
      "Hv_MorexHC_intronlessIDs.txt\tHv_Morex_introns.tsv\r\n",
      "Hv_MorexHC_intronpoorIDs.txt\tHv_MorexLC_intronlessIDs.txt\r\n",
      "Hv_MorexHC_intronrichIDs.txt\tHv_MorexLC_intronpoorIDs.txt\r\n",
      "Hv_MorexHC_introns.tsv\t\tHv_MorexLC_intronrichIDs.txt\r\n",
      "Hv_MorexHC_UTRforw_introns.tsv\tHv_MorexLC_introns.tsv\r\n",
      "Hv_MorexHC_UTRrev_introns.tsv\tHv_MorexLC_UTRforw_introns.tsv\r\n",
      "Hv_Morex_intronlessIDs.txt\tHv_MorexLC_UTRrev_introns.tsv\r\n",
      "Hv_Morex_intronpoorIDs.txt\tHv_Morex_UTRforw_introns.tsv\r\n",
      "Hv_Morex_intronrichIDs.txt\tHv_Morex_UTRrev_introns.tsv\r\n"
     ]
    }
   ],
   "source": [
    "! ls Output/Hv_Morex_longread/"
   ]
  },
  {
   "cell_type": "markdown",
   "metadata": {},
   "source": [
    "# 3 Reproducing the same analysis using data of a Pan Genome study"
   ]
  },
  {
   "cell_type": "markdown",
   "metadata": {},
   "source": [
    "The Pan Genome study I am referring to can be found [here](https://www.nature.com/articles/s41586-020-2947-8). All the data can be found [here](https://doi.ipk-gatersleben.de/DOI/c4d433dc-bf7c-4ad9-9368-69bb77837ca5/3490162b-3d76-4ba1-b6ee-3eaed5f6b644/2/).\n",
    "\n",
    "I will firstly perform the analysis on the data within the _Denovo_gene_annotation_ directory and then on the ones within the _Gene_projection_ directory. "
   ]
  },
  {
   "cell_type": "markdown",
   "metadata": {},
   "source": [
    "## 3.1 Barke - De novo gene annotation "
   ]
  },
  {
   "cell_type": "markdown",
   "metadata": {},
   "source": [
    "### 3.1.1 Collecting Data"
   ]
  },
  {
   "cell_type": "code",
   "execution_count": 7,
   "metadata": {},
   "outputs": [
    {
     "name": "stdout",
     "output_type": "stream",
     "text": [
      "--2021-06-04 11:01:00--  https://doi.ipk-gatersleben.de/DOI/c4d433dc-bf7c-4ad9-9368-69bb77837ca5/1f736b6a-20f5-4e48-83c9-a308a51221ee/1/DOWNLOAD\n",
      "Resolving doi.ipk-gatersleben.de (doi.ipk-gatersleben.de)... 194.94.136.144\n",
      "Connecting to doi.ipk-gatersleben.de (doi.ipk-gatersleben.de)|194.94.136.144|:443... connected.\n",
      "HTTP request sent, awaiting response... 200 OK\n",
      "Length: 58830221 (56M) [text/plain]\n",
      "Saving to: ‘Data/raw/Barke.gff3’\n",
      "\n",
      "Data/raw/Barke.gff3 100%[===================>]  56,10M  1,95MB/s    in 31s     \n",
      "\n",
      "2021-06-04 11:01:31 (1,81 MB/s) - ‘Data/raw/Barke.gff3’ saved [58830221/58830221]\n",
      "\n"
     ]
    }
   ],
   "source": [
    "### --- This will download the raw data to the subdirectory raw under the directory Data\n",
    "! wget -O Data/raw/Barke.gff3 https://doi.ipk-gatersleben.de/DOI/c4d433dc-bf7c-4ad9-9368-69bb77837ca5/1f736b6a-20f5-4e48-83c9-a308a51221ee/1/DOWNLOAD"
   ]
  },
  {
   "cell_type": "markdown",
   "metadata": {},
   "source": [
    "### 3.1.2 Processing Data"
   ]
  },
  {
   "cell_type": "code",
   "execution_count": 8,
   "metadata": {},
   "outputs": [],
   "source": [
    "### --- There is no need to import the libraries again\n",
    "# import pandas as pd\n",
    "# import numpy as np\n",
    "# import matplotlib.pyplot as plt"
   ]
  },
  {
   "cell_type": "code",
   "execution_count": 9,
   "metadata": {},
   "outputs": [],
   "source": [
    "### --- Removing all hashtags from the gff3 file\n",
    "! sed '/#/d' Data/raw/Barke.gff3  > Data/Barke_nohashtag.gff3"
   ]
  },
  {
   "cell_type": "code",
   "execution_count": 10,
   "metadata": {},
   "outputs": [],
   "source": [
    "### --- Changing the gff3 file to a csv format file to import it with pandas\n",
    "! cat Data/Barke_nohashtag.gff3 | sed 's/,/--/g' | sed 's/;/--/g' | sed 's/\\t/,/g' | awk -F '--' '{print $1}' > Data/Barke_nohashtag.csv"
   ]
  },
  {
   "cell_type": "code",
   "execution_count": 11,
   "metadata": {
    "scrolled": true
   },
   "outputs": [
    {
     "data": {
      "text/html": [
       "<div>\n",
       "<style scoped>\n",
       "    .dataframe tbody tr th:only-of-type {\n",
       "        vertical-align: middle;\n",
       "    }\n",
       "\n",
       "    .dataframe tbody tr th {\n",
       "        vertical-align: top;\n",
       "    }\n",
       "\n",
       "    .dataframe thead th {\n",
       "        text-align: right;\n",
       "    }\n",
       "</style>\n",
       "<table border=\"1\" class=\"dataframe\">\n",
       "  <thead>\n",
       "    <tr style=\"text-align: right;\">\n",
       "      <th></th>\n",
       "      <th>chr</th>\n",
       "      <th>source</th>\n",
       "      <th>type</th>\n",
       "      <th>start</th>\n",
       "      <th>end</th>\n",
       "      <th>score</th>\n",
       "      <th>strand</th>\n",
       "      <th>phase</th>\n",
       "      <th>attributes</th>\n",
       "    </tr>\n",
       "  </thead>\n",
       "  <tbody>\n",
       "    <tr>\n",
       "      <th>0</th>\n",
       "      <td>chr1H</td>\n",
       "      <td>PGSB</td>\n",
       "      <td>gene</td>\n",
       "      <td>72210</td>\n",
       "      <td>73054</td>\n",
       "      <td>.</td>\n",
       "      <td>+</td>\n",
       "      <td>.</td>\n",
       "      <td>ID=HORVU.BARKE.r1.1HG0000010</td>\n",
       "    </tr>\n",
       "    <tr>\n",
       "      <th>1</th>\n",
       "      <td>chr1H</td>\n",
       "      <td>PGSB</td>\n",
       "      <td>mRNA</td>\n",
       "      <td>72210</td>\n",
       "      <td>73054</td>\n",
       "      <td>.</td>\n",
       "      <td>+</td>\n",
       "      <td>.</td>\n",
       "      <td>ID=HORVU.BARKE.r1.1HG0000010.1</td>\n",
       "    </tr>\n",
       "    <tr>\n",
       "      <th>2</th>\n",
       "      <td>chr1H</td>\n",
       "      <td>PGSB</td>\n",
       "      <td>exon</td>\n",
       "      <td>72210</td>\n",
       "      <td>72399</td>\n",
       "      <td>.</td>\n",
       "      <td>+</td>\n",
       "      <td>.</td>\n",
       "      <td>ID=HORVU.BARKE.r1.1HG0000010.1.exon.1</td>\n",
       "    </tr>\n",
       "    <tr>\n",
       "      <th>3</th>\n",
       "      <td>chr1H</td>\n",
       "      <td>PGSB</td>\n",
       "      <td>CDS</td>\n",
       "      <td>72210</td>\n",
       "      <td>72399</td>\n",
       "      <td>.</td>\n",
       "      <td>+</td>\n",
       "      <td>0</td>\n",
       "      <td>ID=HORVU.BARKE.r1.1HG0000010.1.CDS.1</td>\n",
       "    </tr>\n",
       "    <tr>\n",
       "      <th>4</th>\n",
       "      <td>chr1H</td>\n",
       "      <td>PGSB</td>\n",
       "      <td>exon</td>\n",
       "      <td>72822</td>\n",
       "      <td>73054</td>\n",
       "      <td>.</td>\n",
       "      <td>+</td>\n",
       "      <td>.</td>\n",
       "      <td>ID=HORVU.BARKE.r1.1HG0000010.1.exon.2</td>\n",
       "    </tr>\n",
       "  </tbody>\n",
       "</table>\n",
       "</div>"
      ],
      "text/plain": [
       "     chr source  type  start    end score strand phase  \\\n",
       "0  chr1H   PGSB  gene  72210  73054     .      +     .   \n",
       "1  chr1H   PGSB  mRNA  72210  73054     .      +     .   \n",
       "2  chr1H   PGSB  exon  72210  72399     .      +     .   \n",
       "3  chr1H   PGSB   CDS  72210  72399     .      +     0   \n",
       "4  chr1H   PGSB  exon  72822  73054     .      +     .   \n",
       "\n",
       "                              attributes  \n",
       "0           ID=HORVU.BARKE.r1.1HG0000010  \n",
       "1         ID=HORVU.BARKE.r1.1HG0000010.1  \n",
       "2  ID=HORVU.BARKE.r1.1HG0000010.1.exon.1  \n",
       "3   ID=HORVU.BARKE.r1.1HG0000010.1.CDS.1  \n",
       "4  ID=HORVU.BARKE.r1.1HG0000010.1.exon.2  "
      ]
     },
     "execution_count": 11,
     "metadata": {},
     "output_type": "execute_result"
    }
   ],
   "source": [
    "### --- Transforming the gff3 file to a pandas dataframe to better handle it\n",
    "df_Barke = pd.read_csv('Data/Barke_nohashtag.csv', header=None, names = ['chr', 'source', 'type','start','end','score','strand','phase','attributes'])\n",
    "df_Barke.head()"
   ]
  },
  {
   "cell_type": "code",
   "execution_count": 12,
   "metadata": {},
   "outputs": [
    {
     "data": {
      "text/html": [
       "<div>\n",
       "<style scoped>\n",
       "    .dataframe tbody tr th:only-of-type {\n",
       "        vertical-align: middle;\n",
       "    }\n",
       "\n",
       "    .dataframe tbody tr th {\n",
       "        vertical-align: top;\n",
       "    }\n",
       "\n",
       "    .dataframe thead th {\n",
       "        text-align: right;\n",
       "    }\n",
       "</style>\n",
       "<table border=\"1\" class=\"dataframe\">\n",
       "  <thead>\n",
       "    <tr style=\"text-align: right;\">\n",
       "      <th></th>\n",
       "      <th>chr</th>\n",
       "      <th>source</th>\n",
       "      <th>type</th>\n",
       "      <th>start</th>\n",
       "      <th>end</th>\n",
       "      <th>score</th>\n",
       "      <th>strand</th>\n",
       "      <th>phase</th>\n",
       "      <th>attributes</th>\n",
       "    </tr>\n",
       "  </thead>\n",
       "  <tbody>\n",
       "    <tr>\n",
       "      <th>2</th>\n",
       "      <td>chr1H</td>\n",
       "      <td>PGSB</td>\n",
       "      <td>exon</td>\n",
       "      <td>72210</td>\n",
       "      <td>72399</td>\n",
       "      <td>.</td>\n",
       "      <td>+</td>\n",
       "      <td>.</td>\n",
       "      <td>ID=HORVU.BARKE.r1.1HG0000010.1.exon.1</td>\n",
       "    </tr>\n",
       "    <tr>\n",
       "      <th>4</th>\n",
       "      <td>chr1H</td>\n",
       "      <td>PGSB</td>\n",
       "      <td>exon</td>\n",
       "      <td>72822</td>\n",
       "      <td>73054</td>\n",
       "      <td>.</td>\n",
       "      <td>+</td>\n",
       "      <td>.</td>\n",
       "      <td>ID=HORVU.BARKE.r1.1HG0000010.1.exon.2</td>\n",
       "    </tr>\n",
       "    <tr>\n",
       "      <th>8</th>\n",
       "      <td>chr1H</td>\n",
       "      <td>PGSB</td>\n",
       "      <td>exon</td>\n",
       "      <td>102846</td>\n",
       "      <td>103475</td>\n",
       "      <td>.</td>\n",
       "      <td>+</td>\n",
       "      <td>.</td>\n",
       "      <td>ID=HORVU.BARKE.r1.1HG0000020.1.exon.1</td>\n",
       "    </tr>\n",
       "    <tr>\n",
       "      <th>12</th>\n",
       "      <td>chr1H</td>\n",
       "      <td>PGSB</td>\n",
       "      <td>exon</td>\n",
       "      <td>104616</td>\n",
       "      <td>105062</td>\n",
       "      <td>.</td>\n",
       "      <td>-</td>\n",
       "      <td>.</td>\n",
       "      <td>ID=HORVU.BARKE.r1.1HG0000030.1.exon.1</td>\n",
       "    </tr>\n",
       "    <tr>\n",
       "      <th>14</th>\n",
       "      <td>chr1H</td>\n",
       "      <td>PGSB</td>\n",
       "      <td>exon</td>\n",
       "      <td>105168</td>\n",
       "      <td>105209</td>\n",
       "      <td>.</td>\n",
       "      <td>-</td>\n",
       "      <td>.</td>\n",
       "      <td>ID=HORVU.BARKE.r1.1HG0000030.1.exon.2</td>\n",
       "    </tr>\n",
       "  </tbody>\n",
       "</table>\n",
       "</div>"
      ],
      "text/plain": [
       "      chr source  type   start     end score strand phase  \\\n",
       "2   chr1H   PGSB  exon   72210   72399     .      +     .   \n",
       "4   chr1H   PGSB  exon   72822   73054     .      +     .   \n",
       "8   chr1H   PGSB  exon  102846  103475     .      +     .   \n",
       "12  chr1H   PGSB  exon  104616  105062     .      -     .   \n",
       "14  chr1H   PGSB  exon  105168  105209     .      -     .   \n",
       "\n",
       "                               attributes  \n",
       "2   ID=HORVU.BARKE.r1.1HG0000010.1.exon.1  \n",
       "4   ID=HORVU.BARKE.r1.1HG0000010.1.exon.2  \n",
       "8   ID=HORVU.BARKE.r1.1HG0000020.1.exon.1  \n",
       "12  ID=HORVU.BARKE.r1.1HG0000030.1.exon.1  \n",
       "14  ID=HORVU.BARKE.r1.1HG0000030.1.exon.2  "
      ]
     },
     "execution_count": 12,
     "metadata": {},
     "output_type": "execute_result"
    }
   ],
   "source": [
    "### --- Building a separate dataframe containing all exons\n",
    "exon_Barke = df_Barke.loc[df_Barke['type'].isin(['exon'])]\n",
    "exon_Barke.head()"
   ]
  },
  {
   "cell_type": "code",
   "execution_count": 13,
   "metadata": {},
   "outputs": [],
   "source": [
    "### --- Exporting the exon dataframe to a tsv file \n",
    "exon_Barke.to_csv('Data/Barke_exon.tsv',sep='\\t',index=False,header=False)"
   ]
  },
  {
   "cell_type": "code",
   "execution_count": 14,
   "metadata": {},
   "outputs": [
    {
     "data": {
      "text/html": [
       "<div>\n",
       "<style scoped>\n",
       "    .dataframe tbody tr th:only-of-type {\n",
       "        vertical-align: middle;\n",
       "    }\n",
       "\n",
       "    .dataframe tbody tr th {\n",
       "        vertical-align: top;\n",
       "    }\n",
       "\n",
       "    .dataframe thead th {\n",
       "        text-align: right;\n",
       "    }\n",
       "</style>\n",
       "<table border=\"1\" class=\"dataframe\">\n",
       "  <thead>\n",
       "    <tr style=\"text-align: right;\">\n",
       "      <th></th>\n",
       "      <th>chr</th>\n",
       "      <th>source</th>\n",
       "      <th>type</th>\n",
       "      <th>start</th>\n",
       "      <th>end</th>\n",
       "      <th>score</th>\n",
       "      <th>strand</th>\n",
       "      <th>phase</th>\n",
       "      <th>attributes</th>\n",
       "    </tr>\n",
       "  </thead>\n",
       "  <tbody>\n",
       "    <tr>\n",
       "      <th>0</th>\n",
       "      <td>chr1H</td>\n",
       "      <td>PGSB</td>\n",
       "      <td>gene</td>\n",
       "      <td>72210</td>\n",
       "      <td>73054</td>\n",
       "      <td>.</td>\n",
       "      <td>+</td>\n",
       "      <td>.</td>\n",
       "      <td>ID=HORVU.BARKE.r1.1HG0000010</td>\n",
       "    </tr>\n",
       "    <tr>\n",
       "      <th>1</th>\n",
       "      <td>chr1H</td>\n",
       "      <td>PGSB</td>\n",
       "      <td>mRNA</td>\n",
       "      <td>72210</td>\n",
       "      <td>73054</td>\n",
       "      <td>.</td>\n",
       "      <td>+</td>\n",
       "      <td>.</td>\n",
       "      <td>ID=HORVU.BARKE.r1.1HG0000010.1</td>\n",
       "    </tr>\n",
       "    <tr>\n",
       "      <th>2</th>\n",
       "      <td>chr1H</td>\n",
       "      <td>PGSB</td>\n",
       "      <td>exon</td>\n",
       "      <td>72210</td>\n",
       "      <td>72399</td>\n",
       "      <td>.</td>\n",
       "      <td>+</td>\n",
       "      <td>.</td>\n",
       "      <td>ID=HORVU.BARKE.r1.1HG0000010.1.exon.1</td>\n",
       "    </tr>\n",
       "    <tr>\n",
       "      <th>3</th>\n",
       "      <td>chr1H</td>\n",
       "      <td>PGSB</td>\n",
       "      <td>CDS</td>\n",
       "      <td>72210</td>\n",
       "      <td>72399</td>\n",
       "      <td>.</td>\n",
       "      <td>+</td>\n",
       "      <td>0</td>\n",
       "      <td>ID=HORVU.BARKE.r1.1HG0000010.1.CDS.1</td>\n",
       "    </tr>\n",
       "    <tr>\n",
       "      <th>4</th>\n",
       "      <td>chr1H</td>\n",
       "      <td>PGSB</td>\n",
       "      <td>exon</td>\n",
       "      <td>72822</td>\n",
       "      <td>73054</td>\n",
       "      <td>.</td>\n",
       "      <td>+</td>\n",
       "      <td>.</td>\n",
       "      <td>ID=HORVU.BARKE.r1.1HG0000010.1.exon.2</td>\n",
       "    </tr>\n",
       "  </tbody>\n",
       "</table>\n",
       "</div>"
      ],
      "text/plain": [
       "     chr source  type  start    end score strand phase  \\\n",
       "0  chr1H   PGSB  gene  72210  73054     .      +     .   \n",
       "1  chr1H   PGSB  mRNA  72210  73054     .      +     .   \n",
       "2  chr1H   PGSB  exon  72210  72399     .      +     .   \n",
       "3  chr1H   PGSB   CDS  72210  72399     .      +     0   \n",
       "4  chr1H   PGSB  exon  72822  73054     .      +     .   \n",
       "\n",
       "                              attributes  \n",
       "0           ID=HORVU.BARKE.r1.1HG0000010  \n",
       "1         ID=HORVU.BARKE.r1.1HG0000010.1  \n",
       "2  ID=HORVU.BARKE.r1.1HG0000010.1.exon.1  \n",
       "3   ID=HORVU.BARKE.r1.1HG0000010.1.CDS.1  \n",
       "4  ID=HORVU.BARKE.r1.1HG0000010.1.exon.2  "
      ]
     },
     "execution_count": 14,
     "metadata": {},
     "output_type": "execute_result"
    }
   ],
   "source": [
    "### --- Keeping in a separated dataframe the forward strands\n",
    "forw_Barke = df_Barke.loc[df_Barke['strand'].isin(['+'])]\n",
    "forw_Barke.head()"
   ]
  },
  {
   "cell_type": "code",
   "execution_count": 15,
   "metadata": {},
   "outputs": [
    {
     "data": {
      "text/html": [
       "<div>\n",
       "<style scoped>\n",
       "    .dataframe tbody tr th:only-of-type {\n",
       "        vertical-align: middle;\n",
       "    }\n",
       "\n",
       "    .dataframe tbody tr th {\n",
       "        vertical-align: top;\n",
       "    }\n",
       "\n",
       "    .dataframe thead th {\n",
       "        text-align: right;\n",
       "    }\n",
       "</style>\n",
       "<table border=\"1\" class=\"dataframe\">\n",
       "  <thead>\n",
       "    <tr style=\"text-align: right;\">\n",
       "      <th></th>\n",
       "      <th>chr</th>\n",
       "      <th>source</th>\n",
       "      <th>type</th>\n",
       "      <th>start</th>\n",
       "      <th>end</th>\n",
       "      <th>score</th>\n",
       "      <th>strand</th>\n",
       "      <th>phase</th>\n",
       "      <th>attributes</th>\n",
       "    </tr>\n",
       "  </thead>\n",
       "  <tbody>\n",
       "    <tr>\n",
       "      <th>10</th>\n",
       "      <td>chr1H</td>\n",
       "      <td>PGSB</td>\n",
       "      <td>gene</td>\n",
       "      <td>104616</td>\n",
       "      <td>112948</td>\n",
       "      <td>.</td>\n",
       "      <td>-</td>\n",
       "      <td>.</td>\n",
       "      <td>ID=HORVU.BARKE.r1.1HG0000030</td>\n",
       "    </tr>\n",
       "    <tr>\n",
       "      <th>11</th>\n",
       "      <td>chr1H</td>\n",
       "      <td>PGSB</td>\n",
       "      <td>mRNA</td>\n",
       "      <td>104616</td>\n",
       "      <td>112948</td>\n",
       "      <td>.</td>\n",
       "      <td>-</td>\n",
       "      <td>.</td>\n",
       "      <td>ID=HORVU.BARKE.r1.1HG0000030.1</td>\n",
       "    </tr>\n",
       "    <tr>\n",
       "      <th>12</th>\n",
       "      <td>chr1H</td>\n",
       "      <td>PGSB</td>\n",
       "      <td>exon</td>\n",
       "      <td>104616</td>\n",
       "      <td>105062</td>\n",
       "      <td>.</td>\n",
       "      <td>-</td>\n",
       "      <td>.</td>\n",
       "      <td>ID=HORVU.BARKE.r1.1HG0000030.1.exon.1</td>\n",
       "    </tr>\n",
       "    <tr>\n",
       "      <th>13</th>\n",
       "      <td>chr1H</td>\n",
       "      <td>PGSB</td>\n",
       "      <td>CDS</td>\n",
       "      <td>104616</td>\n",
       "      <td>105062</td>\n",
       "      <td>.</td>\n",
       "      <td>-</td>\n",
       "      <td>0</td>\n",
       "      <td>ID=HORVU.BARKE.r1.1HG0000030.1.CDS.1</td>\n",
       "    </tr>\n",
       "    <tr>\n",
       "      <th>14</th>\n",
       "      <td>chr1H</td>\n",
       "      <td>PGSB</td>\n",
       "      <td>exon</td>\n",
       "      <td>105168</td>\n",
       "      <td>105209</td>\n",
       "      <td>.</td>\n",
       "      <td>-</td>\n",
       "      <td>.</td>\n",
       "      <td>ID=HORVU.BARKE.r1.1HG0000030.1.exon.2</td>\n",
       "    </tr>\n",
       "  </tbody>\n",
       "</table>\n",
       "</div>"
      ],
      "text/plain": [
       "      chr source  type   start     end score strand phase  \\\n",
       "10  chr1H   PGSB  gene  104616  112948     .      -     .   \n",
       "11  chr1H   PGSB  mRNA  104616  112948     .      -     .   \n",
       "12  chr1H   PGSB  exon  104616  105062     .      -     .   \n",
       "13  chr1H   PGSB   CDS  104616  105062     .      -     0   \n",
       "14  chr1H   PGSB  exon  105168  105209     .      -     .   \n",
       "\n",
       "                               attributes  \n",
       "10           ID=HORVU.BARKE.r1.1HG0000030  \n",
       "11         ID=HORVU.BARKE.r1.1HG0000030.1  \n",
       "12  ID=HORVU.BARKE.r1.1HG0000030.1.exon.1  \n",
       "13   ID=HORVU.BARKE.r1.1HG0000030.1.CDS.1  \n",
       "14  ID=HORVU.BARKE.r1.1HG0000030.1.exon.2  "
      ]
     },
     "execution_count": 15,
     "metadata": {},
     "output_type": "execute_result"
    }
   ],
   "source": [
    "### --- Keeping in a separated dataframe the reverse strands\n",
    "rev_Barke = df_Barke.loc[df_Barke['strand'].isin(['-'])]\n",
    "rev_Barke.head()"
   ]
  },
  {
   "cell_type": "code",
   "execution_count": 16,
   "metadata": {},
   "outputs": [
    {
     "data": {
      "text/html": [
       "<div>\n",
       "<style scoped>\n",
       "    .dataframe tbody tr th:only-of-type {\n",
       "        vertical-align: middle;\n",
       "    }\n",
       "\n",
       "    .dataframe tbody tr th {\n",
       "        vertical-align: top;\n",
       "    }\n",
       "\n",
       "    .dataframe thead th {\n",
       "        text-align: right;\n",
       "    }\n",
       "</style>\n",
       "<table border=\"1\" class=\"dataframe\">\n",
       "  <thead>\n",
       "    <tr style=\"text-align: right;\">\n",
       "      <th></th>\n",
       "      <th>chr</th>\n",
       "      <th>source</th>\n",
       "      <th>type</th>\n",
       "      <th>start</th>\n",
       "      <th>end</th>\n",
       "      <th>score</th>\n",
       "      <th>strand</th>\n",
       "      <th>phase</th>\n",
       "      <th>attributes</th>\n",
       "    </tr>\n",
       "  </thead>\n",
       "  <tbody>\n",
       "  </tbody>\n",
       "</table>\n",
       "</div>"
      ],
      "text/plain": [
       "Empty DataFrame\n",
       "Columns: [chr, source, type, start, end, score, strand, phase, attributes]\n",
       "Index: []"
      ]
     },
     "execution_count": 16,
     "metadata": {},
     "output_type": "execute_result"
    }
   ],
   "source": [
    "### --- Keeping in a separated dataframe the UTR regions on the forward strands\n",
    "UTR_forw_Barke = forw_Barke.loc[df_Barke['type'].isin(['three_prime_UTR','five_prime_UTR'])]\n",
    "UTR_forw_Barke.head()"
   ]
  },
  {
   "cell_type": "code",
   "execution_count": 18,
   "metadata": {},
   "outputs": [
    {
     "data": {
      "text/html": [
       "<div>\n",
       "<style scoped>\n",
       "    .dataframe tbody tr th:only-of-type {\n",
       "        vertical-align: middle;\n",
       "    }\n",
       "\n",
       "    .dataframe tbody tr th {\n",
       "        vertical-align: top;\n",
       "    }\n",
       "\n",
       "    .dataframe thead th {\n",
       "        text-align: right;\n",
       "    }\n",
       "</style>\n",
       "<table border=\"1\" class=\"dataframe\">\n",
       "  <thead>\n",
       "    <tr style=\"text-align: right;\">\n",
       "      <th></th>\n",
       "      <th>chr</th>\n",
       "      <th>source</th>\n",
       "      <th>type</th>\n",
       "      <th>start</th>\n",
       "      <th>end</th>\n",
       "      <th>score</th>\n",
       "      <th>strand</th>\n",
       "      <th>phase</th>\n",
       "      <th>attributes</th>\n",
       "    </tr>\n",
       "  </thead>\n",
       "  <tbody>\n",
       "  </tbody>\n",
       "</table>\n",
       "</div>"
      ],
      "text/plain": [
       "Empty DataFrame\n",
       "Columns: [chr, source, type, start, end, score, strand, phase, attributes]\n",
       "Index: []"
      ]
     },
     "execution_count": 18,
     "metadata": {},
     "output_type": "execute_result"
    }
   ],
   "source": [
    "### --- Keeping in a separated dataframe the UTR regions on the reverse strands\n",
    "UTR_rev_Barke = rev_Barke.loc[df_Barke['type'].isin(['three_prime_UTR','five_prime_UTR'])]\n",
    "UTR_rev_Barke.head()"
   ]
  },
  {
   "cell_type": "markdown",
   "metadata": {},
   "source": [
    "As we see UTRs are not reported within this annotation so we cannot analyze them. We will just focus on the total number of introns. "
   ]
  },
  {
   "cell_type": "markdown",
   "metadata": {},
   "source": [
    "### 3.1.3 Extracting introns from the whole genome"
   ]
  },
  {
   "cell_type": "code",
   "execution_count": 20,
   "metadata": {},
   "outputs": [],
   "source": [
    "### --- Extracting introns from Barke\n",
    "extract_tot_introns('Data/Barke_exon.tsv', 'Output/Barke_introns.tsv')"
   ]
  },
  {
   "cell_type": "code",
   "execution_count": 21,
   "metadata": {},
   "outputs": [
    {
     "data": {
      "text/html": [
       "<div>\n",
       "<style scoped>\n",
       "    .dataframe tbody tr th:only-of-type {\n",
       "        vertical-align: middle;\n",
       "    }\n",
       "\n",
       "    .dataframe tbody tr th {\n",
       "        vertical-align: top;\n",
       "    }\n",
       "\n",
       "    .dataframe thead th {\n",
       "        text-align: right;\n",
       "    }\n",
       "</style>\n",
       "<table border=\"1\" class=\"dataframe\">\n",
       "  <thead>\n",
       "    <tr style=\"text-align: right;\">\n",
       "      <th></th>\n",
       "      <th>ID</th>\n",
       "      <th>type</th>\n",
       "      <th>start</th>\n",
       "      <th>end</th>\n",
       "      <th>length</th>\n",
       "    </tr>\n",
       "  </thead>\n",
       "  <tbody>\n",
       "    <tr>\n",
       "      <th>0</th>\n",
       "      <td>ID=HORVU.BARKE.r1.1HG0000010.1</td>\n",
       "      <td>intron</td>\n",
       "      <td>72400</td>\n",
       "      <td>72821</td>\n",
       "      <td>423</td>\n",
       "    </tr>\n",
       "    <tr>\n",
       "      <th>1</th>\n",
       "      <td>ID=HORVU.BARKE.r1.1HG0000030.1</td>\n",
       "      <td>intron</td>\n",
       "      <td>105063</td>\n",
       "      <td>105167</td>\n",
       "      <td>106</td>\n",
       "    </tr>\n",
       "    <tr>\n",
       "      <th>2</th>\n",
       "      <td>ID=HORVU.BARKE.r1.1HG0000030.1</td>\n",
       "      <td>intron</td>\n",
       "      <td>105210</td>\n",
       "      <td>105713</td>\n",
       "      <td>505</td>\n",
       "    </tr>\n",
       "    <tr>\n",
       "      <th>3</th>\n",
       "      <td>ID=HORVU.BARKE.r1.1HG0000030.1</td>\n",
       "      <td>intron</td>\n",
       "      <td>105782</td>\n",
       "      <td>105861</td>\n",
       "      <td>81</td>\n",
       "    </tr>\n",
       "    <tr>\n",
       "      <th>4</th>\n",
       "      <td>ID=HORVU.BARKE.r1.1HG0000030.1</td>\n",
       "      <td>intron</td>\n",
       "      <td>105905</td>\n",
       "      <td>106005</td>\n",
       "      <td>102</td>\n",
       "    </tr>\n",
       "    <tr>\n",
       "      <th>...</th>\n",
       "      <td>...</td>\n",
       "      <td>...</td>\n",
       "      <td>...</td>\n",
       "      <td>...</td>\n",
       "      <td>...</td>\n",
       "    </tr>\n",
       "    <tr>\n",
       "      <th>95</th>\n",
       "      <td>ID=HORVU.BARKE.r1.1HG0000150.1</td>\n",
       "      <td>intron</td>\n",
       "      <td>428232</td>\n",
       "      <td>428317</td>\n",
       "      <td>87</td>\n",
       "    </tr>\n",
       "    <tr>\n",
       "      <th>96</th>\n",
       "      <td>ID=HORVU.BARKE.r1.1HG0000160.1</td>\n",
       "      <td>intron</td>\n",
       "      <td>436394</td>\n",
       "      <td>436497</td>\n",
       "      <td>105</td>\n",
       "    </tr>\n",
       "    <tr>\n",
       "      <th>97</th>\n",
       "      <td>ID=HORVU.BARKE.r1.1HG0000170.1</td>\n",
       "      <td>intron</td>\n",
       "      <td>496838</td>\n",
       "      <td>496909</td>\n",
       "      <td>73</td>\n",
       "    </tr>\n",
       "    <tr>\n",
       "      <th>98</th>\n",
       "      <td>ID=HORVU.BARKE.r1.1HG0000170.1</td>\n",
       "      <td>intron</td>\n",
       "      <td>496951</td>\n",
       "      <td>497090</td>\n",
       "      <td>141</td>\n",
       "    </tr>\n",
       "    <tr>\n",
       "      <th>99</th>\n",
       "      <td>ID=HORVU.BARKE.r1.1HG0000180.1</td>\n",
       "      <td>intron</td>\n",
       "      <td>498165</td>\n",
       "      <td>498241</td>\n",
       "      <td>78</td>\n",
       "    </tr>\n",
       "  </tbody>\n",
       "</table>\n",
       "<p>100 rows × 5 columns</p>\n",
       "</div>"
      ],
      "text/plain": [
       "                                ID     type   start     end  length\n",
       "0   ID=HORVU.BARKE.r1.1HG0000010.1  intron    72400   72821     423\n",
       "1   ID=HORVU.BARKE.r1.1HG0000030.1  intron   105063  105167     106\n",
       "2   ID=HORVU.BARKE.r1.1HG0000030.1  intron   105210  105713     505\n",
       "3   ID=HORVU.BARKE.r1.1HG0000030.1  intron   105782  105861      81\n",
       "4   ID=HORVU.BARKE.r1.1HG0000030.1  intron   105905  106005     102\n",
       "..                             ...      ...     ...     ...     ...\n",
       "95  ID=HORVU.BARKE.r1.1HG0000150.1  intron   428232  428317      87\n",
       "96  ID=HORVU.BARKE.r1.1HG0000160.1  intron   436394  436497     105\n",
       "97  ID=HORVU.BARKE.r1.1HG0000170.1  intron   496838  496909      73\n",
       "98  ID=HORVU.BARKE.r1.1HG0000170.1  intron   496951  497090     141\n",
       "99  ID=HORVU.BARKE.r1.1HG0000180.1  intron   498165  498241      78\n",
       "\n",
       "[100 rows x 5 columns]"
      ]
     },
     "execution_count": 21,
     "metadata": {},
     "output_type": "execute_result"
    }
   ],
   "source": [
    "introns_Barke = pd.read_csv('Output/Barke_introns.tsv', sep = '\\t')\n",
    "introns_Barke[:100]"
   ]
  },
  {
   "cell_type": "code",
   "execution_count": 22,
   "metadata": {},
   "outputs": [],
   "source": [
    "### --- Counting introns type in Barke\n",
    "introns_dictionary_Barke = counting_introns_type(exon_Barke)"
   ]
  },
  {
   "cell_type": "code",
   "execution_count": 23,
   "metadata": {},
   "outputs": [
    {
     "name": "stdout",
     "output_type": "stream",
     "text": [
      "Intronless are: 25166\n",
      "Intronpoor are: 14852\n",
      "Intronrich are: 11019\n"
     ]
    }
   ],
   "source": [
    "n_intronless_Barke, n_intronpoor_Barke, n_intronrich_Barke, intronless_Barke, intronpoor_Barke, intronrich_Barke = splitting_introns_type(introns_dictionary_Barke)"
   ]
  },
  {
   "cell_type": "code",
   "execution_count": 24,
   "metadata": {},
   "outputs": [
    {
     "data": {
      "image/png": "[encoded data removed]",
      "text/plain": [
       "<Figure size 720x504 with 1 Axes>"
      ]
     },
     "metadata": {},
     "output_type": "display_data"
    }
   ],
   "source": [
    "genes = ['Intronless', 'Intronpoor', 'Intronrich']\n",
    "data_Barke = [25166, 14852, 11019]\n",
    "fig = plt.figure(figsize =(10, 7))\n",
    "plt.pie(data_Barke, labels = genes, autopct='%1.0f%%')\n",
    "plt.title(\"Genes Barke Distribution\", bbox={'facecolor':'0.8', 'pad':5})\n",
    "plt.show()"
   ]
  },
  {
   "cell_type": "code",
   "execution_count": 25,
   "metadata": {},
   "outputs": [],
   "source": [
    "### --- Creating the list of Barke gene IDs to check the number of transcripts using command line\n",
    "intronless_file_Barke = open('Output/Barke_intronlessIDs.txt', 'a')\n",
    "intronpoor_file_Barke = open('Output/Barke_intronpoorIDs.txt', 'a')\n",
    "intronrich_file_Barke = open('Output/Barke_intronrichIDs.txt', 'a')\n",
    "for i in range(len(intronless_Barke)):\n",
    "    if i == len(intronless_Barke) -1:\n",
    "        intronless_file_Barke.write(intronless_Barke[i])\n",
    "    else:\n",
    "        intronless_file_Barke.write(intronless_Barke[i] + '\\n')\n",
    "intronless_file_Barke.close()\n",
    "\n",
    "for i in range(len(intronpoor_Barke)):\n",
    "    if i == len(intronpoor_Barke) -1:\n",
    "        intronpoor_file_Barke.write(intronpoor_Barke[i])\n",
    "    else:\n",
    "        intronpoor_file_Barke.write(intronpoor_Barke[i] + '\\n')\n",
    "intronpoor_file_Barke.close()\n",
    "\n",
    "for i in range(len(intronrich_Barke)):\n",
    "    if i == len(intronrich_Barke) -1:\n",
    "        intronrich_file_Barke.write(intronrich_Barke[i])\n",
    "    else:\n",
    "        intronrich_file_Barke.write(intronrich_Barke[i]+'\\n')\n",
    "intronrich_file_Barke.close()"
   ]
  },
  {
   "cell_type": "code",
   "execution_count": 28,
   "metadata": {},
   "outputs": [],
   "source": [
    "### --- Storing the number of transcripts in intron-less/poor/rich genes within a variable \n",
    "n_mRNA_intronless_Barke = ! grep -f Output/Barke_intronlessIDs.txt Data/Barke_nohashtag.gff3 | awk -F '\\t' '{print $3}' | grep -w 'mRNA' | wc -l\n",
    "n_mRNA_intronpoor_Barke = ! grep -f Output/Barke_intronpoorIDs.txt Data/Barke_nohashtag.gff3 | awk -F '\\t' '{print $3}' | grep -w 'mRNA' | wc -l\n",
    "n_mRNA_intronrich_Barke = ! grep -f Output/Barke_intronrichIDs.txt Data/Barke_nohashtag.gff3 | awk -F '\\t' '{print $3}' | grep -w 'mRNA' | wc -l"
   ]
  },
  {
   "cell_type": "code",
   "execution_count": 29,
   "metadata": {},
   "outputs": [
    {
     "name": "stdout",
     "output_type": "stream",
     "text": [
      "1.0\n",
      "1.0\n",
      "1.0\n"
     ]
    }
   ],
   "source": [
    "### --- Checking the average number of transcripts for each gene-type\n",
    "avg_mRNA_intronless_Barke = int(n_mRNA_intronless_Barke[0])/n_intronless_Barke\n",
    "print(avg_mRNA_intronless_Barke)\n",
    "avg_mRNA_intronpoor_Barke = int(n_mRNA_intronpoor_Barke[0])/n_intronpoor_Barke\n",
    "print(avg_mRNA_intronpoor_Barke)\n",
    "avg_mRNA_intronrich_Barke = int(n_mRNA_intronrich_Barke[0])/n_intronrich_Barke\n",
    "print(avg_mRNA_intronrich_Barke)"
   ]
  },
  {
   "cell_type": "markdown",
   "metadata": {},
   "source": [
    "It seems there are no transcripts undergoing alternative splicing. This is probably due to a poor annotation. "
   ]
  },
  {
   "cell_type": "code",
   "execution_count": 30,
   "metadata": {},
   "outputs": [
    {
     "data": {
      "text/plain": [
       "count    118377.000000\n",
       "mean        521.125354\n",
       "std        1624.109541\n",
       "min          22.000000\n",
       "25%          94.000000\n",
       "50%         132.000000\n",
       "75%         433.000000\n",
       "max      137958.000000\n",
       "Name: length, dtype: float64"
      ]
     },
     "execution_count": 30,
     "metadata": {},
     "output_type": "execute_result"
    }
   ],
   "source": [
    "### --- Basic statistics of Barke introns\n",
    "introns_Barke['length'].describe()"
   ]
  },
  {
   "cell_type": "code",
   "execution_count": 31,
   "metadata": {},
   "outputs": [
    {
     "data": {
      "text/plain": [
       "<AxesSubplot:ylabel='Density'>"
      ]
     },
     "execution_count": 31,
     "metadata": {},
     "output_type": "execute_result"
    },
    {
     "data": {
      "image/png": "[encoded data removed]",
      "text/plain": [
       "<Figure size 432x288 with 1 Axes>"
      ]
     },
     "metadata": {
      "needs_background": "light"
     },
     "output_type": "display_data"
    }
   ],
   "source": [
    "### --- Plotting the distribution of Barke introns length\n",
    "introns_Barke['length'].plot.density()"
   ]
  },
  {
   "cell_type": "code",
   "execution_count": 32,
   "metadata": {},
   "outputs": [
    {
     "data": {
      "text/plain": [
       "<AxesSubplot:>"
      ]
     },
     "execution_count": 32,
     "metadata": {},
     "output_type": "execute_result"
    },
    {
     "data": {
      "image/png": "[encoded data removed]",
      "text/plain": [
       "<Figure size 432x288 with 1 Axes>"
      ]
     },
     "metadata": {
      "needs_background": "light"
     },
     "output_type": "display_data"
    }
   ],
   "source": [
    "### --- Plotting the boxplot of Barke introns length without outliers\n",
    "introns_Barke.boxplot(column='length', return_type='axes', showfliers=False) # showfliers = False -> discard outliers"
   ]
  },
  {
   "cell_type": "markdown",
   "metadata": {},
   "source": [
    "### 3.1.4 Re-organizing files and directories"
   ]
  },
  {
   "cell_type": "code",
   "execution_count": 36,
   "metadata": {
    "scrolled": true
   },
   "outputs": [
    {
     "name": "stdout",
     "output_type": "stream",
     "text": [
      "Barke_exon.tsv\t     Barke_nohashtag.gff3  raw\r\n",
      "Barke_nohashtag.csv  Hv_Morex_longread\r\n"
     ]
    }
   ],
   "source": [
    "! ls Data/"
   ]
  },
  {
   "cell_type": "code",
   "execution_count": 39,
   "metadata": {},
   "outputs": [],
   "source": [
    "! mkdir Data/Barke"
   ]
  },
  {
   "cell_type": "code",
   "execution_count": 40,
   "metadata": {},
   "outputs": [],
   "source": [
    "! mv Data/Barke_* Data/Barke/ "
   ]
  },
  {
   "cell_type": "code",
   "execution_count": 42,
   "metadata": {},
   "outputs": [
    {
     "name": "stdout",
     "output_type": "stream",
     "text": [
      "Barke_exon.tsv\tBarke_nohashtag.csv  Barke_nohashtag.gff3\r\n"
     ]
    }
   ],
   "source": [
    "! ls Data/Barke/"
   ]
  },
  {
   "cell_type": "code",
   "execution_count": 43,
   "metadata": {},
   "outputs": [
    {
     "name": "stdout",
     "output_type": "stream",
     "text": [
      "Barke_intronlessIDs.txt  Barke_intronrichIDs.txt  Hv_Morex_longread\r\n",
      "Barke_intronpoorIDs.txt  Barke_introns.tsv\r\n"
     ]
    }
   ],
   "source": [
    "! ls Output/"
   ]
  },
  {
   "cell_type": "code",
   "execution_count": 44,
   "metadata": {},
   "outputs": [],
   "source": [
    "! mkdir Output/Barke"
   ]
  },
  {
   "cell_type": "code",
   "execution_count": 45,
   "metadata": {},
   "outputs": [],
   "source": [
    "! mv Output/Barke_* Output/Barke/"
   ]
  },
  {
   "cell_type": "code",
   "execution_count": 46,
   "metadata": {},
   "outputs": [
    {
     "name": "stdout",
     "output_type": "stream",
     "text": [
      "Barke_intronlessIDs.txt  Barke_intronrichIDs.txt\r\n",
      "Barke_intronpoorIDs.txt  Barke_introns.tsv\r\n"
     ]
    }
   ],
   "source": [
    "! ls Output/Barke/"
   ]
  }
 ],
 "metadata": {
  "kernelspec": {
   "display_name": "Python 3",
   "language": "python",
   "name": "python3"
  },
  "language_info": {
   "codemirror_mode": {
    "name": "ipython",
    "version": 3
   },
   "file_extension": ".py",
   "mimetype": "text/x-python",
   "name": "python",
   "nbconvert_exporter": "python",
   "pygments_lexer": "ipython3",
   "version": "3.9.2"
  }
 },
 "nbformat": 4,
 "nbformat_minor": 4
}
