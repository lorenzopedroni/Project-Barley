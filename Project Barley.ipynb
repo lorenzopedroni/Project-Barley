{
 "cells": [
  {
   "cell_type": "markdown",
   "metadata": {},
   "source": [
    "# 0 Project Barley"
   ]
  },
  {
   "cell_type": "markdown",
   "metadata": {},
   "source": [
    "Along this project we will work on various Barley's cultivar starting from Hv_Morex. The aim of this project is to further understand the importance of introns within genes and within Untranslated Regions (UTRs) and their differences. \n",
    "\n",
    "Another not secondary objective is to build a pipeline as much reproducible as possible. This notebook is meant to give readers a crystal clear view of how we proceeded to implement our work. \n",
    "\n",
    "All the work has been performed on a Linux machine running _Ubuntu 20.04.2 LTS x86_64_."
   ]
  },
  {
   "cell_type": "markdown",
   "metadata": {},
   "source": [
    "# 1 Working environment"
   ]
  },
  {
   "cell_type": "markdown",
   "metadata": {},
   "source": [
    "**Before running the notebook** be sure to activate the conda environment shared with you:\n",
    "- $ conda activate Pedroni_Thesis.yml"
   ]
  },
  {
   "cell_type": "code",
   "execution_count": 1,
   "metadata": {},
   "outputs": [
    {
     "name": "stdout",
     "output_type": "stream",
     "text": [
      "\u001b[43C\u001b[0m\u001b[31m\u001b[1mOS\u001b[0m\u001b[0m:\u001b[0m Ubuntu 20.04.2 LTS x86_64\u001b[0m \r\n",
      "\u001b[43C\u001b[0m\u001b[31m\u001b[1mHost\u001b[0m\u001b[0m:\u001b[0m X580VD 1.0\u001b[0m \r\n",
      "\u001b[43C\u001b[0m\u001b[31m\u001b[1mKernel\u001b[0m\u001b[0m:\u001b[0m 5.4.0-74-generic\u001b[0m \r\n",
      "\u001b[43C\u001b[0m\u001b[31m\u001b[1mUptime\u001b[0m\u001b[0m:\u001b[0m 1 hour, 33 mins\u001b[0m \r\n",
      "\u001b[43C\u001b[0m\u001b[31m\u001b[1mPackages\u001b[0m\u001b[0m:\u001b[0m 2889 (dpkg), 5 (flatpak), 19 (snap)\u001b[0m \r\n",
      "\u001b[43C\u001b[0m\u001b[31m\u001b[1mShell\u001b[0m\u001b[0m:\u001b[0m bash 5.0.17\u001b[0m \r\n",
      "\u001b[43C\u001b[0m\u001b[31m\u001b[1mResolution\u001b[0m\u001b[0m:\u001b[0m 1920x1080\u001b[0m \r\n",
      "\u001b[43C\u001b[0m\u001b[31m\u001b[1mDE\u001b[0m\u001b[0m:\u001b[0m GNOME\u001b[0m \r\n",
      "\u001b[43C\u001b[0m\u001b[31m\u001b[1mWM\u001b[0m\u001b[0m:\u001b[0m Mutter\u001b[0m \r\n",
      "\u001b[43C\u001b[0m\u001b[31m\u001b[1mWM Theme\u001b[0m\u001b[0m:\u001b[0m Adwaita\u001b[0m \r\n",
      "\u001b[43C\u001b[0m\u001b[31m\u001b[1mTheme\u001b[0m\u001b[0m:\u001b[0m Orchis [GTK2/3]\u001b[0m \r\n",
      "\u001b[43C\u001b[0m\u001b[31m\u001b[1mIcons\u001b[0m\u001b[0m:\u001b[0m Tela-circle [GTK2/3]\u001b[0m \r\n",
      "\u001b[43C\u001b[0m\u001b[31m\u001b[1mCPU\u001b[0m\u001b[0m:\u001b[0m Intel i7-7700HQ (8) @ 3.800GHz\u001b[0m \r\n",
      "\u001b[43C\u001b[0m\u001b[31m\u001b[1mGPU\u001b[0m\u001b[0m:\u001b[0m NVIDIA GeForce GTX 1050 Mobile\u001b[0m \r\n",
      "\u001b[43C\u001b[0m\u001b[31m\u001b[1mGPU\u001b[0m\u001b[0m:\u001b[0m Intel HD Graphics 630\u001b[0m \r\n",
      "\u001b[43C\u001b[0m\u001b[31m\u001b[1mMemory\u001b[0m\u001b[0m:\u001b[0m 2702MiB / 15897MiB\u001b[0m \r\n",
      "\r\n"
     ]
    }
   ],
   "source": [
    "### --- This command can be installed with: $ sudo apt-get install neofetch\n",
    "### --- It is used to show the software/hardware characteristics of the machine used to complete this project.\n",
    "! neofetch | tail -22 | head -17"
   ]
  },
  {
   "cell_type": "code",
   "execution_count": 2,
   "metadata": {
    "scrolled": true
   },
   "outputs": [
    {
     "name": "stdout",
     "output_type": "stream",
     "text": [
      "\u001b[01;34m.\u001b[00m\r\n",
      "├── \u001b[01;34mData\u001b[00m\r\n",
      "│   └── \u001b[01;34mraw\u001b[00m\r\n",
      "├── \u001b[01;34mOutput\u001b[00m\r\n",
      "└── \u001b[01;34mScripts\u001b[00m\r\n",
      "    └── \u001b[01;34mscript_out\u001b[00m\r\n",
      "\r\n",
      "5 directories\r\n"
     ]
    }
   ],
   "source": [
    "### --- This command is used to show you how directories should be organized to better be able to follow this work.\n",
    "### --- The root directory of this project is called 'Project Barley'\n",
    "! tree -d"
   ]
  },
  {
   "cell_type": "markdown",
   "metadata": {},
   "source": [
    "# 2 Implementing an intron analysis on data from a long-read sequence assembly in Barley"
   ]
  },
  {
   "cell_type": "markdown",
   "metadata": {},
   "source": [
    "The study I am referring to can be found [here](https://academic.oup.com/plcell/advance-article/doi/10.1093/plcell/koab077/6169005) while all the data can be found [here](https://doi.ipk-gatersleben.de/DOI/b2f47dfb-47ff-4114-89ae-bad8dcc515a1/21172880-2956-4cbb-ab2c-5c00bceb08a2/0). "
   ]
  },
  {
   "cell_type": "markdown",
   "metadata": {},
   "source": [
    "## 2.1 Hv_Morex HC"
   ]
  },
  {
   "cell_type": "markdown",
   "metadata": {},
   "source": [
    "### 2.1.1 Collecting Data"
   ]
  },
  {
   "cell_type": "code",
   "execution_count": 3,
   "metadata": {
    "scrolled": true
   },
   "outputs": [
    {
     "name": "stdout",
     "output_type": "stream",
     "text": [
      "--2021-06-03 16:19:52--  https://doi.ipk-gatersleben.de/DOI/b2f47dfb-47ff-4114-89ae-bad8dcc515a1/2492a5a9-08a8-4022-b6ad-9b056a00f64f/1/DOWNLOAD\n",
      "Resolving doi.ipk-gatersleben.de (doi.ipk-gatersleben.de)... 194.94.136.144\n",
      "Connecting to doi.ipk-gatersleben.de (doi.ipk-gatersleben.de)|194.94.136.144|:443... connected.\n",
      "HTTP request sent, awaiting response... 200 OK\n",
      "Length: 59307477 (57M) [text/plain]\n",
      "Saving to: ‘Data/raw/Hv_Morex.pgsb.Jul2020.HC.gff3’\n",
      "\n",
      "Data/raw/Hv_Morex.p 100%[===================>]  56,56M  1,20MB/s    in 41s     \n",
      "\n",
      "2021-06-03 16:20:34 (1,39 MB/s) - ‘Data/raw/Hv_Morex.pgsb.Jul2020.HC.gff3’ saved [59307477/59307477]\n",
      "\n"
     ]
    }
   ],
   "source": [
    "### --- This will download the raw data to the subdirectory raw under the directory Data\n",
    "! wget -O Data/raw/Hv_Morex.pgsb.Jul2020.HC.gff3 https://doi.ipk-gatersleben.de/DOI/b2f47dfb-47ff-4114-89ae-bad8dcc515a1/2492a5a9-08a8-4022-b6ad-9b056a00f64f/1/DOWNLOAD"
   ]
  },
  {
   "cell_type": "markdown",
   "metadata": {},
   "source": [
    "### 2.1.2 Processing data"
   ]
  },
  {
   "cell_type": "code",
   "execution_count": 6,
   "metadata": {},
   "outputs": [],
   "source": [
    "### --- Importing the libraries needed to handle data and visualize them\n",
    "import pandas as pd \n",
    "import numpy as np\n",
    "import matplotlib.pyplot as plt"
   ]
  },
  {
   "cell_type": "code",
   "execution_count": 5,
   "metadata": {},
   "outputs": [],
   "source": [
    "### --- Removing all hashtags from the gff3 file\n",
    "! sed '/#/d' Data/raw/Hv_Morex.pgsb.Jul2020.HC.gff3  > Data/Hv_Morex_nohashtag.pgsb.Jul2020.HC.gff3"
   ]
  },
  {
   "cell_type": "code",
   "execution_count": 6,
   "metadata": {},
   "outputs": [],
   "source": [
    "### --- Changing the gff3 file to a csv format file to import it with pandas\n",
    "! cat Data/Hv_Morex_nohashtag.pgsb.Jul2020.HC.gff3 | sed 's/,/--/g' | sed 's/;/--/g' | sed 's/\\t/,/g' | awk -F '--' '{print $1}' > Data/Hv_Morex_nohashtag.pgsb.Jul2020.HC.csv"
   ]
  },
  {
   "cell_type": "code",
   "execution_count": 7,
   "metadata": {},
   "outputs": [
    {
     "data": {
      "text/html": [
       "<div>\n",
       "<style scoped>\n",
       "    .dataframe tbody tr th:only-of-type {\n",
       "        vertical-align: middle;\n",
       "    }\n",
       "\n",
       "    .dataframe tbody tr th {\n",
       "        vertical-align: top;\n",
       "    }\n",
       "\n",
       "    .dataframe thead th {\n",
       "        text-align: right;\n",
       "    }\n",
       "</style>\n",
       "<table border=\"1\" class=\"dataframe\">\n",
       "  <thead>\n",
       "    <tr style=\"text-align: right;\">\n",
       "      <th></th>\n",
       "      <th>chr</th>\n",
       "      <th>source</th>\n",
       "      <th>type</th>\n",
       "      <th>start</th>\n",
       "      <th>end</th>\n",
       "      <th>score</th>\n",
       "      <th>strand</th>\n",
       "      <th>phase</th>\n",
       "      <th>attributes</th>\n",
       "    </tr>\n",
       "  </thead>\n",
       "  <tbody>\n",
       "    <tr>\n",
       "      <th>0</th>\n",
       "      <td>chr1H</td>\n",
       "      <td>pgsb</td>\n",
       "      <td>gene</td>\n",
       "      <td>76744</td>\n",
       "      <td>77373</td>\n",
       "      <td>.</td>\n",
       "      <td>+</td>\n",
       "      <td>.</td>\n",
       "      <td>ID=HORVU.MOREX.r3.1HG0000030</td>\n",
       "    </tr>\n",
       "    <tr>\n",
       "      <th>1</th>\n",
       "      <td>chr1H</td>\n",
       "      <td>pgsb</td>\n",
       "      <td>mRNA</td>\n",
       "      <td>76744</td>\n",
       "      <td>77373</td>\n",
       "      <td>.</td>\n",
       "      <td>+</td>\n",
       "      <td>.</td>\n",
       "      <td>ID=HORVU.MOREX.r3.1HG0000030.1</td>\n",
       "    </tr>\n",
       "    <tr>\n",
       "      <th>2</th>\n",
       "      <td>chr1H</td>\n",
       "      <td>pgsb</td>\n",
       "      <td>exon</td>\n",
       "      <td>76744</td>\n",
       "      <td>77373</td>\n",
       "      <td>.</td>\n",
       "      <td>+</td>\n",
       "      <td>.</td>\n",
       "      <td>ID=HORVU.MOREX.r3.1HG0000030.1.exon1</td>\n",
       "    </tr>\n",
       "    <tr>\n",
       "      <th>3</th>\n",
       "      <td>chr1H</td>\n",
       "      <td>pgsb</td>\n",
       "      <td>CDS</td>\n",
       "      <td>76744</td>\n",
       "      <td>77373</td>\n",
       "      <td>.</td>\n",
       "      <td>+</td>\n",
       "      <td>0</td>\n",
       "      <td>ID=HORVU.MOREX.r3.1HG0000030.1.CDS1</td>\n",
       "    </tr>\n",
       "    <tr>\n",
       "      <th>4</th>\n",
       "      <td>chr1H</td>\n",
       "      <td>pgsb</td>\n",
       "      <td>gene</td>\n",
       "      <td>78284</td>\n",
       "      <td>81892</td>\n",
       "      <td>.</td>\n",
       "      <td>-</td>\n",
       "      <td>.</td>\n",
       "      <td>ID=HORVU.MOREX.r3.1HG0000040</td>\n",
       "    </tr>\n",
       "  </tbody>\n",
       "</table>\n",
       "</div>"
      ],
      "text/plain": [
       "     chr source  type  start    end score strand phase  \\\n",
       "0  chr1H   pgsb  gene  76744  77373     .      +     .   \n",
       "1  chr1H   pgsb  mRNA  76744  77373     .      +     .   \n",
       "2  chr1H   pgsb  exon  76744  77373     .      +     .   \n",
       "3  chr1H   pgsb   CDS  76744  77373     .      +     0   \n",
       "4  chr1H   pgsb  gene  78284  81892     .      -     .   \n",
       "\n",
       "                             attributes  \n",
       "0          ID=HORVU.MOREX.r3.1HG0000030  \n",
       "1        ID=HORVU.MOREX.r3.1HG0000030.1  \n",
       "2  ID=HORVU.MOREX.r3.1HG0000030.1.exon1  \n",
       "3   ID=HORVU.MOREX.r3.1HG0000030.1.CDS1  \n",
       "4          ID=HORVU.MOREX.r3.1HG0000040  "
      ]
     },
     "execution_count": 7,
     "metadata": {},
     "output_type": "execute_result"
    }
   ],
   "source": [
    "### --- Transforming the gff3 file to a pandas dataframe to better handle it\n",
    "df_Hv_MorexHC = pd.read_csv('Data/Hv_Morex_nohashtag.pgsb.Jul2020.HC.csv', header=None, names = ['chr', 'source', 'type','start','end','score','strand','phase','attributes'])\n",
    "df_Hv_MorexHC.head()"
   ]
  },
  {
   "cell_type": "code",
   "execution_count": 11,
   "metadata": {},
   "outputs": [
    {
     "data": {
      "text/html": [
       "<div>\n",
       "<style scoped>\n",
       "    .dataframe tbody tr th:only-of-type {\n",
       "        vertical-align: middle;\n",
       "    }\n",
       "\n",
       "    .dataframe tbody tr th {\n",
       "        vertical-align: top;\n",
       "    }\n",
       "\n",
       "    .dataframe thead th {\n",
       "        text-align: right;\n",
       "    }\n",
       "</style>\n",
       "<table border=\"1\" class=\"dataframe\">\n",
       "  <thead>\n",
       "    <tr style=\"text-align: right;\">\n",
       "      <th></th>\n",
       "      <th>chr</th>\n",
       "      <th>source</th>\n",
       "      <th>type</th>\n",
       "      <th>start</th>\n",
       "      <th>end</th>\n",
       "      <th>score</th>\n",
       "      <th>strand</th>\n",
       "      <th>phase</th>\n",
       "      <th>attributes</th>\n",
       "    </tr>\n",
       "  </thead>\n",
       "  <tbody>\n",
       "    <tr>\n",
       "      <th>2</th>\n",
       "      <td>chr1H</td>\n",
       "      <td>pgsb</td>\n",
       "      <td>exon</td>\n",
       "      <td>76744</td>\n",
       "      <td>77373</td>\n",
       "      <td>.</td>\n",
       "      <td>+</td>\n",
       "      <td>.</td>\n",
       "      <td>ID=HORVU.MOREX.r3.1HG0000030.1.exon1</td>\n",
       "    </tr>\n",
       "    <tr>\n",
       "      <th>7</th>\n",
       "      <td>chr1H</td>\n",
       "      <td>pgsb</td>\n",
       "      <td>exon</td>\n",
       "      <td>78284</td>\n",
       "      <td>78954</td>\n",
       "      <td>.</td>\n",
       "      <td>-</td>\n",
       "      <td>.</td>\n",
       "      <td>ID=HORVU.MOREX.r3.1HG0000040.1.exon1</td>\n",
       "    </tr>\n",
       "    <tr>\n",
       "      <th>9</th>\n",
       "      <td>chr1H</td>\n",
       "      <td>pgsb</td>\n",
       "      <td>exon</td>\n",
       "      <td>79063</td>\n",
       "      <td>79104</td>\n",
       "      <td>.</td>\n",
       "      <td>-</td>\n",
       "      <td>.</td>\n",
       "      <td>ID=HORVU.MOREX.r3.1HG0000040.1.exon2</td>\n",
       "    </tr>\n",
       "    <tr>\n",
       "      <th>11</th>\n",
       "      <td>chr1H</td>\n",
       "      <td>pgsb</td>\n",
       "      <td>exon</td>\n",
       "      <td>79609</td>\n",
       "      <td>79676</td>\n",
       "      <td>.</td>\n",
       "      <td>-</td>\n",
       "      <td>.</td>\n",
       "      <td>ID=HORVU.MOREX.r3.1HG0000040.1.exon3</td>\n",
       "    </tr>\n",
       "    <tr>\n",
       "      <th>13</th>\n",
       "      <td>chr1H</td>\n",
       "      <td>pgsb</td>\n",
       "      <td>exon</td>\n",
       "      <td>79757</td>\n",
       "      <td>79799</td>\n",
       "      <td>.</td>\n",
       "      <td>-</td>\n",
       "      <td>.</td>\n",
       "      <td>ID=HORVU.MOREX.r3.1HG0000040.1.exon4</td>\n",
       "    </tr>\n",
       "  </tbody>\n",
       "</table>\n",
       "</div>"
      ],
      "text/plain": [
       "      chr source  type  start    end score strand phase  \\\n",
       "2   chr1H   pgsb  exon  76744  77373     .      +     .   \n",
       "7   chr1H   pgsb  exon  78284  78954     .      -     .   \n",
       "9   chr1H   pgsb  exon  79063  79104     .      -     .   \n",
       "11  chr1H   pgsb  exon  79609  79676     .      -     .   \n",
       "13  chr1H   pgsb  exon  79757  79799     .      -     .   \n",
       "\n",
       "                              attributes  \n",
       "2   ID=HORVU.MOREX.r3.1HG0000030.1.exon1  \n",
       "7   ID=HORVU.MOREX.r3.1HG0000040.1.exon1  \n",
       "9   ID=HORVU.MOREX.r3.1HG0000040.1.exon2  \n",
       "11  ID=HORVU.MOREX.r3.1HG0000040.1.exon3  \n",
       "13  ID=HORVU.MOREX.r3.1HG0000040.1.exon4  "
      ]
     },
     "execution_count": 11,
     "metadata": {},
     "output_type": "execute_result"
    }
   ],
   "source": [
    "### --- Building a separate dataframe containing all exons\n",
    "exon_Hv_MorexHC = df_Hv_MorexHC.loc[df_Hv_MorexHC['type'].isin(['exon'])]\n",
    "exon_Hv_MorexHC.head()"
   ]
  },
  {
   "cell_type": "code",
   "execution_count": 12,
   "metadata": {},
   "outputs": [],
   "source": [
    "### --- Exporting the exon dataframe to a tsv file \n",
    "exon_Hv_MorexHC.to_csv('Data/Hv_MorexHC_exon.tsv',sep='\\t',index=False,header=False)"
   ]
  },
  {
   "cell_type": "code",
   "execution_count": 14,
   "metadata": {
    "scrolled": true
   },
   "outputs": [
    {
     "data": {
      "text/html": [
       "<div>\n",
       "<style scoped>\n",
       "    .dataframe tbody tr th:only-of-type {\n",
       "        vertical-align: middle;\n",
       "    }\n",
       "\n",
       "    .dataframe tbody tr th {\n",
       "        vertical-align: top;\n",
       "    }\n",
       "\n",
       "    .dataframe thead th {\n",
       "        text-align: right;\n",
       "    }\n",
       "</style>\n",
       "<table border=\"1\" class=\"dataframe\">\n",
       "  <thead>\n",
       "    <tr style=\"text-align: right;\">\n",
       "      <th></th>\n",
       "      <th>chr</th>\n",
       "      <th>source</th>\n",
       "      <th>type</th>\n",
       "      <th>start</th>\n",
       "      <th>end</th>\n",
       "      <th>score</th>\n",
       "      <th>strand</th>\n",
       "      <th>phase</th>\n",
       "      <th>attributes</th>\n",
       "    </tr>\n",
       "  </thead>\n",
       "  <tbody>\n",
       "    <tr>\n",
       "      <th>0</th>\n",
       "      <td>chr1H</td>\n",
       "      <td>pgsb</td>\n",
       "      <td>gene</td>\n",
       "      <td>76744</td>\n",
       "      <td>77373</td>\n",
       "      <td>.</td>\n",
       "      <td>+</td>\n",
       "      <td>.</td>\n",
       "      <td>ID=HORVU.MOREX.r3.1HG0000030</td>\n",
       "    </tr>\n",
       "    <tr>\n",
       "      <th>1</th>\n",
       "      <td>chr1H</td>\n",
       "      <td>pgsb</td>\n",
       "      <td>mRNA</td>\n",
       "      <td>76744</td>\n",
       "      <td>77373</td>\n",
       "      <td>.</td>\n",
       "      <td>+</td>\n",
       "      <td>.</td>\n",
       "      <td>ID=HORVU.MOREX.r3.1HG0000030.1</td>\n",
       "    </tr>\n",
       "    <tr>\n",
       "      <th>2</th>\n",
       "      <td>chr1H</td>\n",
       "      <td>pgsb</td>\n",
       "      <td>exon</td>\n",
       "      <td>76744</td>\n",
       "      <td>77373</td>\n",
       "      <td>.</td>\n",
       "      <td>+</td>\n",
       "      <td>.</td>\n",
       "      <td>ID=HORVU.MOREX.r3.1HG0000030.1.exon1</td>\n",
       "    </tr>\n",
       "    <tr>\n",
       "      <th>3</th>\n",
       "      <td>chr1H</td>\n",
       "      <td>pgsb</td>\n",
       "      <td>CDS</td>\n",
       "      <td>76744</td>\n",
       "      <td>77373</td>\n",
       "      <td>.</td>\n",
       "      <td>+</td>\n",
       "      <td>0</td>\n",
       "      <td>ID=HORVU.MOREX.r3.1HG0000030.1.CDS1</td>\n",
       "    </tr>\n",
       "    <tr>\n",
       "      <th>48</th>\n",
       "      <td>chr1H</td>\n",
       "      <td>pgsb</td>\n",
       "      <td>gene</td>\n",
       "      <td>132221</td>\n",
       "      <td>138736</td>\n",
       "      <td>.</td>\n",
       "      <td>+</td>\n",
       "      <td>.</td>\n",
       "      <td>ID=HORVU.MOREX.r3.1HG0000060</td>\n",
       "    </tr>\n",
       "  </tbody>\n",
       "</table>\n",
       "</div>"
      ],
      "text/plain": [
       "      chr source  type   start     end score strand phase  \\\n",
       "0   chr1H   pgsb  gene   76744   77373     .      +     .   \n",
       "1   chr1H   pgsb  mRNA   76744   77373     .      +     .   \n",
       "2   chr1H   pgsb  exon   76744   77373     .      +     .   \n",
       "3   chr1H   pgsb   CDS   76744   77373     .      +     0   \n",
       "48  chr1H   pgsb  gene  132221  138736     .      +     .   \n",
       "\n",
       "                              attributes  \n",
       "0           ID=HORVU.MOREX.r3.1HG0000030  \n",
       "1         ID=HORVU.MOREX.r3.1HG0000030.1  \n",
       "2   ID=HORVU.MOREX.r3.1HG0000030.1.exon1  \n",
       "3    ID=HORVU.MOREX.r3.1HG0000030.1.CDS1  \n",
       "48          ID=HORVU.MOREX.r3.1HG0000060  "
      ]
     },
     "execution_count": 14,
     "metadata": {},
     "output_type": "execute_result"
    }
   ],
   "source": [
    "### --- Keeping in a separated dataframe the forward strands\n",
    "forw_Hv_MorexHC = df_Hv_MorexHC.loc[df_Hv_MorexHC['strand'].isin(['+'])]\n",
    "forw_Hv_MorexHC.head()"
   ]
  },
  {
   "cell_type": "code",
   "execution_count": 15,
   "metadata": {},
   "outputs": [
    {
     "data": {
      "text/html": [
       "<div>\n",
       "<style scoped>\n",
       "    .dataframe tbody tr th:only-of-type {\n",
       "        vertical-align: middle;\n",
       "    }\n",
       "\n",
       "    .dataframe tbody tr th {\n",
       "        vertical-align: top;\n",
       "    }\n",
       "\n",
       "    .dataframe thead th {\n",
       "        text-align: right;\n",
       "    }\n",
       "</style>\n",
       "<table border=\"1\" class=\"dataframe\">\n",
       "  <thead>\n",
       "    <tr style=\"text-align: right;\">\n",
       "      <th></th>\n",
       "      <th>chr</th>\n",
       "      <th>source</th>\n",
       "      <th>type</th>\n",
       "      <th>start</th>\n",
       "      <th>end</th>\n",
       "      <th>score</th>\n",
       "      <th>strand</th>\n",
       "      <th>phase</th>\n",
       "      <th>attributes</th>\n",
       "    </tr>\n",
       "  </thead>\n",
       "  <tbody>\n",
       "    <tr>\n",
       "      <th>4</th>\n",
       "      <td>chr1H</td>\n",
       "      <td>pgsb</td>\n",
       "      <td>gene</td>\n",
       "      <td>78284</td>\n",
       "      <td>81892</td>\n",
       "      <td>.</td>\n",
       "      <td>-</td>\n",
       "      <td>.</td>\n",
       "      <td>ID=HORVU.MOREX.r3.1HG0000040</td>\n",
       "    </tr>\n",
       "    <tr>\n",
       "      <th>5</th>\n",
       "      <td>chr1H</td>\n",
       "      <td>pgsb</td>\n",
       "      <td>mRNA</td>\n",
       "      <td>78284</td>\n",
       "      <td>81892</td>\n",
       "      <td>.</td>\n",
       "      <td>-</td>\n",
       "      <td>.</td>\n",
       "      <td>ID=HORVU.MOREX.r3.1HG0000040.1</td>\n",
       "    </tr>\n",
       "    <tr>\n",
       "      <th>6</th>\n",
       "      <td>chr1H</td>\n",
       "      <td>pgsb</td>\n",
       "      <td>three_prime_UTR</td>\n",
       "      <td>78284</td>\n",
       "      <td>78510</td>\n",
       "      <td>.</td>\n",
       "      <td>-</td>\n",
       "      <td>.</td>\n",
       "      <td>ID=HORVU.MOREX.r3.1HG0000040.1.three_prime_UTR1</td>\n",
       "    </tr>\n",
       "    <tr>\n",
       "      <th>7</th>\n",
       "      <td>chr1H</td>\n",
       "      <td>pgsb</td>\n",
       "      <td>exon</td>\n",
       "      <td>78284</td>\n",
       "      <td>78954</td>\n",
       "      <td>.</td>\n",
       "      <td>-</td>\n",
       "      <td>.</td>\n",
       "      <td>ID=HORVU.MOREX.r3.1HG0000040.1.exon1</td>\n",
       "    </tr>\n",
       "    <tr>\n",
       "      <th>8</th>\n",
       "      <td>chr1H</td>\n",
       "      <td>pgsb</td>\n",
       "      <td>CDS</td>\n",
       "      <td>78511</td>\n",
       "      <td>78954</td>\n",
       "      <td>.</td>\n",
       "      <td>-</td>\n",
       "      <td>0</td>\n",
       "      <td>ID=HORVU.MOREX.r3.1HG0000040.1.CDS1</td>\n",
       "    </tr>\n",
       "  </tbody>\n",
       "</table>\n",
       "</div>"
      ],
      "text/plain": [
       "     chr source             type  start    end score strand phase  \\\n",
       "4  chr1H   pgsb             gene  78284  81892     .      -     .   \n",
       "5  chr1H   pgsb             mRNA  78284  81892     .      -     .   \n",
       "6  chr1H   pgsb  three_prime_UTR  78284  78510     .      -     .   \n",
       "7  chr1H   pgsb             exon  78284  78954     .      -     .   \n",
       "8  chr1H   pgsb              CDS  78511  78954     .      -     0   \n",
       "\n",
       "                                        attributes  \n",
       "4                     ID=HORVU.MOREX.r3.1HG0000040  \n",
       "5                   ID=HORVU.MOREX.r3.1HG0000040.1  \n",
       "6  ID=HORVU.MOREX.r3.1HG0000040.1.three_prime_UTR1  \n",
       "7             ID=HORVU.MOREX.r3.1HG0000040.1.exon1  \n",
       "8              ID=HORVU.MOREX.r3.1HG0000040.1.CDS1  "
      ]
     },
     "execution_count": 15,
     "metadata": {},
     "output_type": "execute_result"
    }
   ],
   "source": [
    "### --- Keeping in a separated dataframe the reverse strands\n",
    "rev_Hv_MorexHC = df_Hv_MorexHC.loc[df_Hv_MorexHC['strand'].isin(['-'])]\n",
    "rev_Hv_MorexHC.head()"
   ]
  },
  {
   "cell_type": "code",
   "execution_count": 16,
   "metadata": {
    "scrolled": true
   },
   "outputs": [
    {
     "data": {
      "text/html": [
       "<div>\n",
       "<style scoped>\n",
       "    .dataframe tbody tr th:only-of-type {\n",
       "        vertical-align: middle;\n",
       "    }\n",
       "\n",
       "    .dataframe tbody tr th {\n",
       "        vertical-align: top;\n",
       "    }\n",
       "\n",
       "    .dataframe thead th {\n",
       "        text-align: right;\n",
       "    }\n",
       "</style>\n",
       "<table border=\"1\" class=\"dataframe\">\n",
       "  <thead>\n",
       "    <tr style=\"text-align: right;\">\n",
       "      <th></th>\n",
       "      <th>chr</th>\n",
       "      <th>source</th>\n",
       "      <th>type</th>\n",
       "      <th>start</th>\n",
       "      <th>end</th>\n",
       "      <th>score</th>\n",
       "      <th>strand</th>\n",
       "      <th>phase</th>\n",
       "      <th>attributes</th>\n",
       "    </tr>\n",
       "  </thead>\n",
       "  <tbody>\n",
       "    <tr>\n",
       "      <th>50</th>\n",
       "      <td>chr1H</td>\n",
       "      <td>pgsb</td>\n",
       "      <td>five_prime_UTR</td>\n",
       "      <td>132221</td>\n",
       "      <td>132375</td>\n",
       "      <td>.</td>\n",
       "      <td>+</td>\n",
       "      <td>.</td>\n",
       "      <td>ID=HORVU.MOREX.r3.1HG0000060.1.five_prime_UTR1</td>\n",
       "    </tr>\n",
       "    <tr>\n",
       "      <th>93</th>\n",
       "      <td>chr1H</td>\n",
       "      <td>pgsb</td>\n",
       "      <td>three_prime_UTR</td>\n",
       "      <td>138505</td>\n",
       "      <td>138736</td>\n",
       "      <td>.</td>\n",
       "      <td>+</td>\n",
       "      <td>.</td>\n",
       "      <td>ID=HORVU.MOREX.r3.1HG0000060.1.three_prime_UTR2</td>\n",
       "    </tr>\n",
       "    <tr>\n",
       "      <th>97</th>\n",
       "      <td>chr1H</td>\n",
       "      <td>pgsb</td>\n",
       "      <td>five_prime_UTR</td>\n",
       "      <td>146607</td>\n",
       "      <td>146749</td>\n",
       "      <td>.</td>\n",
       "      <td>+</td>\n",
       "      <td>.</td>\n",
       "      <td>ID=HORVU.MOREX.r3.1HG0000070.1.five_prime_UTR1</td>\n",
       "    </tr>\n",
       "    <tr>\n",
       "      <th>98</th>\n",
       "      <td>chr1H</td>\n",
       "      <td>pgsb</td>\n",
       "      <td>five_prime_UTR</td>\n",
       "      <td>146981</td>\n",
       "      <td>146996</td>\n",
       "      <td>.</td>\n",
       "      <td>+</td>\n",
       "      <td>.</td>\n",
       "      <td>ID=HORVU.MOREX.r3.1HG0000070.1.five_prime_UTR2</td>\n",
       "    </tr>\n",
       "    <tr>\n",
       "      <th>103</th>\n",
       "      <td>chr1H</td>\n",
       "      <td>pgsb</td>\n",
       "      <td>three_prime_UTR</td>\n",
       "      <td>148229</td>\n",
       "      <td>148562</td>\n",
       "      <td>.</td>\n",
       "      <td>+</td>\n",
       "      <td>.</td>\n",
       "      <td>ID=HORVU.MOREX.r3.1HG0000070.1.three_prime_UTR3</td>\n",
       "    </tr>\n",
       "  </tbody>\n",
       "</table>\n",
       "</div>"
      ],
      "text/plain": [
       "       chr source             type   start     end score strand phase  \\\n",
       "50   chr1H   pgsb   five_prime_UTR  132221  132375     .      +     .   \n",
       "93   chr1H   pgsb  three_prime_UTR  138505  138736     .      +     .   \n",
       "97   chr1H   pgsb   five_prime_UTR  146607  146749     .      +     .   \n",
       "98   chr1H   pgsb   five_prime_UTR  146981  146996     .      +     .   \n",
       "103  chr1H   pgsb  three_prime_UTR  148229  148562     .      +     .   \n",
       "\n",
       "                                          attributes  \n",
       "50    ID=HORVU.MOREX.r3.1HG0000060.1.five_prime_UTR1  \n",
       "93   ID=HORVU.MOREX.r3.1HG0000060.1.three_prime_UTR2  \n",
       "97    ID=HORVU.MOREX.r3.1HG0000070.1.five_prime_UTR1  \n",
       "98    ID=HORVU.MOREX.r3.1HG0000070.1.five_prime_UTR2  \n",
       "103  ID=HORVU.MOREX.r3.1HG0000070.1.three_prime_UTR3  "
      ]
     },
     "execution_count": 16,
     "metadata": {},
     "output_type": "execute_result"
    }
   ],
   "source": [
    "### --- Keeping in a separated dataframe the UTR regions on the forward strands\n",
    "UTR_forw_Hv_MorexHC = forw_Hv_MorexHC.loc[df_Hv_MorexHC['type'].isin(['three_prime_UTR','five_prime_UTR'])]\n",
    "UTR_forw_Hv_MorexHC.head()"
   ]
  },
  {
   "cell_type": "code",
   "execution_count": 17,
   "metadata": {},
   "outputs": [],
   "source": [
    "### --- Writing to a tsv formatted file the UTR_df_forw dataframe\n",
    "UTR_forw_Hv_MorexHC.to_csv('Data/Hv_MorexHC_UTRforw.tsv',sep='\\t',index=False,header=False)"
   ]
  },
  {
   "cell_type": "code",
   "execution_count": 18,
   "metadata": {
    "scrolled": false
   },
   "outputs": [
    {
     "data": {
      "text/html": [
       "<div>\n",
       "<style scoped>\n",
       "    .dataframe tbody tr th:only-of-type {\n",
       "        vertical-align: middle;\n",
       "    }\n",
       "\n",
       "    .dataframe tbody tr th {\n",
       "        vertical-align: top;\n",
       "    }\n",
       "\n",
       "    .dataframe thead th {\n",
       "        text-align: right;\n",
       "    }\n",
       "</style>\n",
       "<table border=\"1\" class=\"dataframe\">\n",
       "  <thead>\n",
       "    <tr style=\"text-align: right;\">\n",
       "      <th></th>\n",
       "      <th>chr</th>\n",
       "      <th>source</th>\n",
       "      <th>type</th>\n",
       "      <th>start</th>\n",
       "      <th>end</th>\n",
       "      <th>score</th>\n",
       "      <th>strand</th>\n",
       "      <th>phase</th>\n",
       "      <th>attributes</th>\n",
       "    </tr>\n",
       "  </thead>\n",
       "  <tbody>\n",
       "    <tr>\n",
       "      <th>6</th>\n",
       "      <td>chr1H</td>\n",
       "      <td>pgsb</td>\n",
       "      <td>three_prime_UTR</td>\n",
       "      <td>78284</td>\n",
       "      <td>78510</td>\n",
       "      <td>.</td>\n",
       "      <td>-</td>\n",
       "      <td>.</td>\n",
       "      <td>ID=HORVU.MOREX.r3.1HG0000040.1.three_prime_UTR1</td>\n",
       "    </tr>\n",
       "    <tr>\n",
       "      <th>27</th>\n",
       "      <td>chr1H</td>\n",
       "      <td>pgsb</td>\n",
       "      <td>five_prime_UTR</td>\n",
       "      <td>81706</td>\n",
       "      <td>81892</td>\n",
       "      <td>.</td>\n",
       "      <td>-</td>\n",
       "      <td>.</td>\n",
       "      <td>ID=HORVU.MOREX.r3.1HG0000040.1.five_prime_UTR2</td>\n",
       "    </tr>\n",
       "    <tr>\n",
       "      <th>30</th>\n",
       "      <td>chr1H</td>\n",
       "      <td>pgsb</td>\n",
       "      <td>three_prime_UTR</td>\n",
       "      <td>84091</td>\n",
       "      <td>84317</td>\n",
       "      <td>.</td>\n",
       "      <td>-</td>\n",
       "      <td>.</td>\n",
       "      <td>ID=HORVU.MOREX.r3.1HG0000050.1.three_prime_UTR1</td>\n",
       "    </tr>\n",
       "    <tr>\n",
       "      <th>47</th>\n",
       "      <td>chr1H</td>\n",
       "      <td>pgsb</td>\n",
       "      <td>five_prime_UTR</td>\n",
       "      <td>86846</td>\n",
       "      <td>87063</td>\n",
       "      <td>.</td>\n",
       "      <td>-</td>\n",
       "      <td>.</td>\n",
       "      <td>ID=HORVU.MOREX.r3.1HG0000050.1.five_prime_UTR2</td>\n",
       "    </tr>\n",
       "    <tr>\n",
       "      <th>126</th>\n",
       "      <td>chr1H</td>\n",
       "      <td>pgsb</td>\n",
       "      <td>three_prime_UTR</td>\n",
       "      <td>156767</td>\n",
       "      <td>157203</td>\n",
       "      <td>.</td>\n",
       "      <td>-</td>\n",
       "      <td>.</td>\n",
       "      <td>ID=HORVU.MOREX.r3.1HG0000090.1.three_prime_UTR1</td>\n",
       "    </tr>\n",
       "  </tbody>\n",
       "</table>\n",
       "</div>"
      ],
      "text/plain": [
       "       chr source             type   start     end score strand phase  \\\n",
       "6    chr1H   pgsb  three_prime_UTR   78284   78510     .      -     .   \n",
       "27   chr1H   pgsb   five_prime_UTR   81706   81892     .      -     .   \n",
       "30   chr1H   pgsb  three_prime_UTR   84091   84317     .      -     .   \n",
       "47   chr1H   pgsb   five_prime_UTR   86846   87063     .      -     .   \n",
       "126  chr1H   pgsb  three_prime_UTR  156767  157203     .      -     .   \n",
       "\n",
       "                                          attributes  \n",
       "6    ID=HORVU.MOREX.r3.1HG0000040.1.three_prime_UTR1  \n",
       "27    ID=HORVU.MOREX.r3.1HG0000040.1.five_prime_UTR2  \n",
       "30   ID=HORVU.MOREX.r3.1HG0000050.1.three_prime_UTR1  \n",
       "47    ID=HORVU.MOREX.r3.1HG0000050.1.five_prime_UTR2  \n",
       "126  ID=HORVU.MOREX.r3.1HG0000090.1.three_prime_UTR1  "
      ]
     },
     "execution_count": 18,
     "metadata": {},
     "output_type": "execute_result"
    }
   ],
   "source": [
    "### --- Keeping in a separated dataframe the UTR regions on the reverse strands\n",
    "UTR_rev_Hv_MorexHC = rev_Hv_MorexHC.loc[df_Hv_MorexHC['type'].isin(['three_prime_UTR','five_prime_UTR'])]\n",
    "UTR_rev_Hv_MorexHC.head()"
   ]
  },
  {
   "cell_type": "code",
   "execution_count": 19,
   "metadata": {},
   "outputs": [],
   "source": [
    "### --- Writing to a tsv formatted file the UTR_df_rev dataframe\n",
    "UTR_rev_Hv_MorexHC.to_csv('Data/Hv_MorexHC_UTRrev.tsv',sep='\\t',index=False,header=False)"
   ]
  },
  {
   "cell_type": "markdown",
   "metadata": {},
   "source": [
    "### 2.1.3 Extracting introns from the whole genome"
   ]
  },
  {
   "cell_type": "code",
   "execution_count": 7,
   "metadata": {},
   "outputs": [],
   "source": [
    "### --- Function to extract introns from the whole genome\n",
    "### --- Infile is a file like Hv_MorexHC_exon.tsv \n",
    "### --- Outfile will be written thanks to this function\n",
    "### --- If there are two or more exons belonging to the same mRNA one after the other it compute the introns separating them\n",
    "def extract_tot_introns(infile, outfile):\n",
    "    introns = open(outfile, 'a') # Output/Hv_Morex_introns.tsv\n",
    "    introns.write('ID'+'\\t'+'type'+'\\t'+'start'+'\\t'+'end'+'\\t'+'length') \n",
    "    with open(infile) as f: # Data/Hv_Morex_exon.tsv\n",
    "        lines = f.readlines()\n",
    "        for i in range(0, len(lines)):\n",
    "            if i+1 == len(lines): # This is to avoid out of range error\n",
    "                break \n",
    "            else:\n",
    "                line = lines[i]\n",
    "                line = line.rstrip()\n",
    "                line = line.split()\n",
    "                next_line = lines[i+1]\n",
    "                next_line = lines[i+1].rstrip()\n",
    "                next_line = lines[i+1].split()\n",
    "                if '.'.join(line[8].split('.')[0:5]) != '.'.join(next_line[8].split('.')[0:5]): continue # Checking if the next exon has the same ID of the one we are at\n",
    "                #print('The intron coordinates at %s are from %d to %d and the intron length is %d.' % (line[8][:30], int(line[4])+1, int(next_line[3])-1, int(next_line[3])-1 - int(line[4])+1))\n",
    "                introns.write('\\n'+'.'.join(line[8].split('.')[0:5])+'\\t'+ 'intron ' +'\\t'+str(int(line[4])+1)+'\\t'+str(int(next_line[3])-1)+'\\t'+str(int(next_line[3])-1-int(line[4])+1))\n",
    "    introns.close()\n"
   ]
  },
  {
   "cell_type": "code",
   "execution_count": 21,
   "metadata": {},
   "outputs": [],
   "source": [
    "### --- Extracting introns from Hv_MorexHC\n",
    "extract_tot_introns('Data/Hv_MorexHC_exon.tsv', 'Output/Hv_MorexHC_introns.tsv')"
   ]
  },
  {
   "cell_type": "code",
   "execution_count": 22,
   "metadata": {
    "scrolled": false
   },
   "outputs": [
    {
     "data": {
      "text/html": [
       "<div>\n",
       "<style scoped>\n",
       "    .dataframe tbody tr th:only-of-type {\n",
       "        vertical-align: middle;\n",
       "    }\n",
       "\n",
       "    .dataframe tbody tr th {\n",
       "        vertical-align: top;\n",
       "    }\n",
       "\n",
       "    .dataframe thead th {\n",
       "        text-align: right;\n",
       "    }\n",
       "</style>\n",
       "<table border=\"1\" class=\"dataframe\">\n",
       "  <thead>\n",
       "    <tr style=\"text-align: right;\">\n",
       "      <th></th>\n",
       "      <th>ID</th>\n",
       "      <th>type</th>\n",
       "      <th>start</th>\n",
       "      <th>end</th>\n",
       "      <th>length</th>\n",
       "    </tr>\n",
       "  </thead>\n",
       "  <tbody>\n",
       "    <tr>\n",
       "      <th>0</th>\n",
       "      <td>ID=HORVU.MOREX.r3.1HG0000040.1</td>\n",
       "      <td>intron</td>\n",
       "      <td>78955</td>\n",
       "      <td>79062</td>\n",
       "      <td>109</td>\n",
       "    </tr>\n",
       "    <tr>\n",
       "      <th>1</th>\n",
       "      <td>ID=HORVU.MOREX.r3.1HG0000040.1</td>\n",
       "      <td>intron</td>\n",
       "      <td>79105</td>\n",
       "      <td>79608</td>\n",
       "      <td>505</td>\n",
       "    </tr>\n",
       "    <tr>\n",
       "      <th>2</th>\n",
       "      <td>ID=HORVU.MOREX.r3.1HG0000040.1</td>\n",
       "      <td>intron</td>\n",
       "      <td>79677</td>\n",
       "      <td>79756</td>\n",
       "      <td>81</td>\n",
       "    </tr>\n",
       "    <tr>\n",
       "      <th>3</th>\n",
       "      <td>ID=HORVU.MOREX.r3.1HG0000040.1</td>\n",
       "      <td>intron</td>\n",
       "      <td>79800</td>\n",
       "      <td>79900</td>\n",
       "      <td>102</td>\n",
       "    </tr>\n",
       "    <tr>\n",
       "      <th>4</th>\n",
       "      <td>ID=HORVU.MOREX.r3.1HG0000040.1</td>\n",
       "      <td>intron</td>\n",
       "      <td>79933</td>\n",
       "      <td>80484</td>\n",
       "      <td>553</td>\n",
       "    </tr>\n",
       "    <tr>\n",
       "      <th>...</th>\n",
       "      <td>...</td>\n",
       "      <td>...</td>\n",
       "      <td>...</td>\n",
       "      <td>...</td>\n",
       "      <td>...</td>\n",
       "    </tr>\n",
       "    <tr>\n",
       "      <th>95</th>\n",
       "      <td>ID=HORVU.MOREX.r3.1HG0000250.1</td>\n",
       "      <td>intron</td>\n",
       "      <td>604220</td>\n",
       "      <td>604743</td>\n",
       "      <td>525</td>\n",
       "    </tr>\n",
       "    <tr>\n",
       "      <th>96</th>\n",
       "      <td>ID=HORVU.MOREX.r3.1HG0000260.1</td>\n",
       "      <td>intron</td>\n",
       "      <td>669330</td>\n",
       "      <td>669483</td>\n",
       "      <td>155</td>\n",
       "    </tr>\n",
       "    <tr>\n",
       "      <th>97</th>\n",
       "      <td>ID=HORVU.MOREX.r3.1HG0000260.1</td>\n",
       "      <td>intron</td>\n",
       "      <td>669685</td>\n",
       "      <td>669841</td>\n",
       "      <td>158</td>\n",
       "    </tr>\n",
       "    <tr>\n",
       "      <th>98</th>\n",
       "      <td>ID=HORVU.MOREX.r3.1HG0000280.1</td>\n",
       "      <td>intron</td>\n",
       "      <td>711070</td>\n",
       "      <td>711148</td>\n",
       "      <td>80</td>\n",
       "    </tr>\n",
       "    <tr>\n",
       "      <th>99</th>\n",
       "      <td>ID=HORVU.MOREX.r3.1HG0000280.1</td>\n",
       "      <td>intron</td>\n",
       "      <td>711550</td>\n",
       "      <td>712102</td>\n",
       "      <td>554</td>\n",
       "    </tr>\n",
       "  </tbody>\n",
       "</table>\n",
       "<p>100 rows × 5 columns</p>\n",
       "</div>"
      ],
      "text/plain": [
       "                                ID     type   start     end  length\n",
       "0   ID=HORVU.MOREX.r3.1HG0000040.1  intron    78955   79062     109\n",
       "1   ID=HORVU.MOREX.r3.1HG0000040.1  intron    79105   79608     505\n",
       "2   ID=HORVU.MOREX.r3.1HG0000040.1  intron    79677   79756      81\n",
       "3   ID=HORVU.MOREX.r3.1HG0000040.1  intron    79800   79900     102\n",
       "4   ID=HORVU.MOREX.r3.1HG0000040.1  intron    79933   80484     553\n",
       "..                             ...      ...     ...     ...     ...\n",
       "95  ID=HORVU.MOREX.r3.1HG0000250.1  intron   604220  604743     525\n",
       "96  ID=HORVU.MOREX.r3.1HG0000260.1  intron   669330  669483     155\n",
       "97  ID=HORVU.MOREX.r3.1HG0000260.1  intron   669685  669841     158\n",
       "98  ID=HORVU.MOREX.r3.1HG0000280.1  intron   711070  711148      80\n",
       "99  ID=HORVU.MOREX.r3.1HG0000280.1  intron   711550  712102     554\n",
       "\n",
       "[100 rows x 5 columns]"
      ]
     },
     "execution_count": 22,
     "metadata": {},
     "output_type": "execute_result"
    }
   ],
   "source": [
    "introns_Hv_MorexHC = pd.read_csv('Output/Hv_MorexHC_introns.tsv', sep = '\\t')\n",
    "introns_Hv_MorexHC[:100]"
   ]
  },
  {
   "cell_type": "code",
   "execution_count": 35,
   "metadata": {},
   "outputs": [],
   "source": [
    "### --- Function to count introns within a dataframe made of exons formatted like exon_Hv_MorexHC\n",
    "### --- If I use i[:28] I consider the gene, If I use i[:31] I'm at level of mRNA\n",
    "### --- Actually using 31 I would avoid the problem of certain genes having >= 10 transcripts\n",
    "def counting_introns_type(in_dataframe):\n",
    "    counts = dict()\n",
    "    for i in in_dataframe['attributes']:\n",
    "        counts['.'.join(i.split('.')[0:5])] = counts.get('.'.join(i.split('.')[0:5]), 0) + 1\n",
    "    return counts"
   ]
  },
  {
   "cell_type": "code",
   "execution_count": 58,
   "metadata": {},
   "outputs": [],
   "source": [
    "### --- Counting introns type in Hv_MorexHC\n",
    "introns_dictionary_Hv_MorexHC = counting_introns_type(exon_Hv_MorexHC)"
   ]
  },
  {
   "cell_type": "code",
   "execution_count": 9,
   "metadata": {
    "scrolled": true
   },
   "outputs": [],
   "source": [
    "### --- Function to check intronless (no introns), intronpoor (<= 3 introns) and intron rich (> 3 introns)\n",
    "### --- This division is made on the following assumption: n° introns = n° exons - 1\n",
    "def splitting_introns_type(dictionary):\n",
    "    intronless = 0\n",
    "    intronpoor = 0\n",
    "    intronrich = 0\n",
    "    intronless_list = []\n",
    "    intronpoor_list = []\n",
    "    intronrich_list = []\n",
    "    for i in dictionary:\n",
    "        if dictionary[i] == 1:\n",
    "            intronless += 1\n",
    "            intronless_list.append(i)\n",
    "        elif dictionary[i]>1 and dictionary[i]<= 4:\n",
    "            intronpoor += 1\n",
    "            intronpoor_list.append(i)\n",
    "        elif dictionary[i] > 4:\n",
    "            intronrich += 1\n",
    "            intronrich_list.append(i)\n",
    "\n",
    "    print('Intronless are: %d' % intronless)\n",
    "    print('Intronpoor are: %d' % intronpoor)\n",
    "    print('Intronrich are: %d' % intronrich)\n",
    "    \n",
    "    return (intronless, intronpoor, intronrich, intronless_list, intronpoor_list, intronrich_list)"
   ]
  },
  {
   "cell_type": "code",
   "execution_count": 106,
   "metadata": {
    "scrolled": false
   },
   "outputs": [
    {
     "name": "stdout",
     "output_type": "stream",
     "text": [
      "Intronless are: 11537\n",
      "Intronpoor are: 12997\n",
      "Intronrich are: 11293\n"
     ]
    }
   ],
   "source": [
    "n_intronless_Hv_MorexHC, n_intronpoor_Hv_MorexHC, n_intronrich_Hv_MorexHC, intronless_Hv_MorexHC, intronpoor_Hv_MorexHC, intronrich_Hv_MorexHC = splitting_introns_type(introns_dictionary_Hv_MorexHC)"
   ]
  },
  {
   "cell_type": "code",
   "execution_count": 80,
   "metadata": {},
   "outputs": [
    {
     "data": {
      "image/png": "[encoded data removed]",
      "text/plain": [
       "<Figure size 720x504 with 1 Axes>"
      ]
     },
     "metadata": {},
     "output_type": "display_data"
    }
   ],
   "source": [
    "genes = ['Intronless', 'Intronpoor', 'Intronrich']\n",
    "data = [11537, 12997, 11293]\n",
    "fig = plt.figure(figsize =(10, 7))\n",
    "plt.pie(data, labels = genes, autopct='%1.0f%%')\n",
    "plt.title(\"Genes Hv_MorexHC Distribution\", bbox={'facecolor':'0.8', 'pad':5})\n",
    "plt.show()"
   ]
  },
  {
   "cell_type": "code",
   "execution_count": 102,
   "metadata": {},
   "outputs": [],
   "source": [
    "### --- Creating the list of Hv_MorexHC gene IDs to check the number of transcripts using command line\n",
    "intronless_file = open('Output/Hv_MorexHC_intronlessIDs.txt', 'a')\n",
    "intronpoor_file = open('Output/Hv_MorexHC_intronpoorIDs.txt', 'a')\n",
    "intronrich_file = open('Output/Hv_MorexHC_intronrichIDs.txt', 'a')\n",
    "for i in range(len(intronless_Hv_MorexHC)):\n",
    "    if i == len(intronless_Hv_MorexHC) -1:\n",
    "        intronless_file.write(intronless_Hv_MorexHC[i])\n",
    "    else:\n",
    "        intronless_file.write(intronless_Hv_MorexHC[i] + '\\n')\n",
    "intronless_file.close()\n",
    "\n",
    "for i in range(len(intronpoor_Hv_MorexHC)):\n",
    "    if i == len(intronpoor_Hv_MorexHC) -1:\n",
    "        intronpoor_file.write(intronpoor_Hv_MorexHC[i])\n",
    "    else:\n",
    "        intronpoor_file.write(intronpoor_Hv_MorexHC[i] + '\\n')\n",
    "intronpoor_file.close()\n",
    "\n",
    "for i in range(len(intronrich_Hv_MorexHC)):\n",
    "    if i == len(intronrich_Hv_MorexHC) -1:\n",
    "        intronrich_file.write(intronrich_Hv_MorexHC[i])\n",
    "    else:\n",
    "        intronrich_file.write(intronrich_Hv_MorexHC[i]+'\\n')\n",
    "intronrich_file.close()\n"
   ]
  },
  {
   "cell_type": "code",
   "execution_count": 104,
   "metadata": {},
   "outputs": [],
   "source": [
    "### --- Storing the number of transcripts in intron-less/poor/rich genes within a variable \n",
    "n_mRNA_intronless_Hv_MorexHC = ! grep -f Output/Hv_MorexHC_intronlessIDs.txt Data/Hv_Morex_nohashtag.pgsb.Jul2020.HC.gff3 | awk -F '\\t' '{print $3}' | grep -w 'mRNA' | wc -l\n",
    "n_mRNA_intronpoor_Hv_MorexHC = ! grep -f Output/Hv_MorexHC_intronpoorIDs.txt Data/Hv_Morex_nohashtag.pgsb.Jul2020.HC.gff3 | awk -F '\\t' '{print $3}' | grep -w 'mRNA' | wc -l\n",
    "n_mRNA_intronrich_Hv_MorexHC = ! grep -f Output/Hv_MorexHC_intronrichIDs.txt Data/Hv_Morex_nohashtag.pgsb.Jul2020.HC.gff3 | awk -F '\\t' '{print $3}' | grep -w 'mRNA' | wc -l"
   ]
  },
  {
   "cell_type": "code",
   "execution_count": 116,
   "metadata": {},
   "outputs": [
    {
     "name": "stdout",
     "output_type": "stream",
     "text": [
      "1.0\n",
      "1.0041548049549895\n",
      "1.1843619941556716\n"
     ]
    }
   ],
   "source": [
    "### --- Checking the average number of transcripts for each gene-type\n",
    "avg_mRNA_intronless_Hv_MorexHC = int(n_mRNA_intronless_Hv_MorexHC[0])/n_intronless_Hv_MorexHC\n",
    "print(avg_mRNA_intronless_Hv_MorexHC)\n",
    "avg_mRNA_intronpoor_Hv_MorexHC = int(n_mRNA_intronpoor_Hv_MorexHC[0])/n_intronpoor_Hv_MorexHC\n",
    "print(avg_mRNA_intronpoor_Hv_MorexHC)\n",
    "avg_mRNA_intronrich_Hv_MorexHC = int(n_mRNA_intronrich_Hv_MorexHC[0])/n_intronrich_Hv_MorexHC\n",
    "print(avg_mRNA_intronrich_Hv_MorexHC)"
   ]
  },
  {
   "cell_type": "markdown",
   "metadata": {},
   "source": [
    "### 2.1.4 Extracting introns from UTR regions"
   ]
  },
  {
   "cell_type": "code",
   "execution_count": 10,
   "metadata": {},
   "outputs": [],
   "source": [
    "### --- Function to extract introns from UTR regions.\n",
    "### --- Infile is a file like Hv_Morex_UTRforw_introns.tsv \n",
    "### --- Outfile will be written thanks to this function\n",
    "### --- Being all on the same strand when two or more UTRs of the same type are one row after the other it means there is a intron separating them\n",
    "def extract_UTR_introns(infile, outfile):\n",
    "    UTR_introns_forw = open(outfile, 'a')\n",
    "    UTR_introns_forw.write('ID'+'\\t'+'type'+'\\t'+'start'+'\\t'+'end'+'\\t'+'length') # Defining the header\n",
    "    with open(infile) as f:\n",
    "        lines = f.readlines()\n",
    "        for i in range(0, len(lines)):\n",
    "            if i+1 == len(lines):\n",
    "                break\n",
    "            else:\n",
    "                line = lines[i]\n",
    "                line = line.rstrip()\n",
    "                line = line.split()\n",
    "                next_line = lines[i+1]\n",
    "                next_line = lines[i+1].rstrip()\n",
    "                next_line = lines[i+1].split()\n",
    "                if line[2] != next_line[2] or '.'.join(line[8].split('.')[0:5]) != '.'.join(next_line[8].split('.')[0:5]): continue\n",
    "                #print('The intron coordinates at %s are from %d to %d and the intron length is %d.' % ('.'.join(line[8].split('.')[0:5]), int(line[4])+1, int(next_line[3])-1, int(next_line[3])-1 - int(line[4])+1))\n",
    "                UTR_introns_forw.write('\\n'+'.'.join(line[8].split('.')[0:5])+'\\t'+ 'intron '+line[2]+'\\t'+str(int(line[4])+1)+'\\t'+str(int(next_line[3])-1)+'\\t'+str(int(next_line[3])-1-int(line[4])+1))\n",
    "    UTR_introns_forw.close()"
   ]
  },
  {
   "cell_type": "code",
   "execution_count": 33,
   "metadata": {},
   "outputs": [],
   "source": [
    "### --- Extracting introns from UTR forward Hv_MorexHC\n",
    "extract_UTR_introns('Data/Hv_MorexHC_UTRforw.tsv', 'Output/Hv_MorexHC_UTRforw_introns.tsv')"
   ]
  },
  {
   "cell_type": "code",
   "execution_count": 34,
   "metadata": {},
   "outputs": [],
   "source": [
    "### --- Extracting introns from UTR reverse Hv_MorexHC\n",
    "extract_UTR_introns('Data/Hv_MorexHC_UTRrev.tsv', 'Output/Hv_MorexHC_UTRrev_introns.tsv')"
   ]
  },
  {
   "cell_type": "code",
   "execution_count": 35,
   "metadata": {},
   "outputs": [
    {
     "data": {
      "text/html": [
       "<div>\n",
       "<style scoped>\n",
       "    .dataframe tbody tr th:only-of-type {\n",
       "        vertical-align: middle;\n",
       "    }\n",
       "\n",
       "    .dataframe tbody tr th {\n",
       "        vertical-align: top;\n",
       "    }\n",
       "\n",
       "    .dataframe thead th {\n",
       "        text-align: right;\n",
       "    }\n",
       "</style>\n",
       "<table border=\"1\" class=\"dataframe\">\n",
       "  <thead>\n",
       "    <tr style=\"text-align: right;\">\n",
       "      <th></th>\n",
       "      <th>ID</th>\n",
       "      <th>type</th>\n",
       "      <th>start</th>\n",
       "      <th>end</th>\n",
       "      <th>length</th>\n",
       "    </tr>\n",
       "  </thead>\n",
       "  <tbody>\n",
       "    <tr>\n",
       "      <th>0</th>\n",
       "      <td>ID=HORVU.MOREX.r3.1HG0000070.1</td>\n",
       "      <td>intron five_prime_UTR</td>\n",
       "      <td>146750</td>\n",
       "      <td>146980</td>\n",
       "      <td>232</td>\n",
       "    </tr>\n",
       "    <tr>\n",
       "      <th>1</th>\n",
       "      <td>ID=HORVU.MOREX.r3.1HG0000080.1</td>\n",
       "      <td>intron five_prime_UTR</td>\n",
       "      <td>153530</td>\n",
       "      <td>153625</td>\n",
       "      <td>97</td>\n",
       "    </tr>\n",
       "    <tr>\n",
       "      <th>2</th>\n",
       "      <td>ID=HORVU.MOREX.r3.1HG0000620.1</td>\n",
       "      <td>intron five_prime_UTR</td>\n",
       "      <td>1614154</td>\n",
       "      <td>1615780</td>\n",
       "      <td>1628</td>\n",
       "    </tr>\n",
       "    <tr>\n",
       "      <th>3</th>\n",
       "      <td>ID=HORVU.MOREX.r3.1HG0000620.2</td>\n",
       "      <td>intron five_prime_UTR</td>\n",
       "      <td>1614154</td>\n",
       "      <td>1615780</td>\n",
       "      <td>1628</td>\n",
       "    </tr>\n",
       "    <tr>\n",
       "      <th>4</th>\n",
       "      <td>ID=HORVU.MOREX.r3.1HG0000620.3</td>\n",
       "      <td>intron five_prime_UTR</td>\n",
       "      <td>1614665</td>\n",
       "      <td>1615780</td>\n",
       "      <td>1117</td>\n",
       "    </tr>\n",
       "  </tbody>\n",
       "</table>\n",
       "</div>"
      ],
      "text/plain": [
       "                               ID                   type    start      end  \\\n",
       "0  ID=HORVU.MOREX.r3.1HG0000070.1  intron five_prime_UTR   146750   146980   \n",
       "1  ID=HORVU.MOREX.r3.1HG0000080.1  intron five_prime_UTR   153530   153625   \n",
       "2  ID=HORVU.MOREX.r3.1HG0000620.1  intron five_prime_UTR  1614154  1615780   \n",
       "3  ID=HORVU.MOREX.r3.1HG0000620.2  intron five_prime_UTR  1614154  1615780   \n",
       "4  ID=HORVU.MOREX.r3.1HG0000620.3  intron five_prime_UTR  1614665  1615780   \n",
       "\n",
       "   length  \n",
       "0     232  \n",
       "1      97  \n",
       "2    1628  \n",
       "3    1628  \n",
       "4    1117  "
      ]
     },
     "execution_count": 35,
     "metadata": {},
     "output_type": "execute_result"
    }
   ],
   "source": [
    "introns_UTR_forw_Hv_MorexHC = pd.read_csv('Output/Hv_MorexHC_UTRforw_introns.tsv', sep='\\t')\n",
    "introns_UTR_forw_Hv_MorexHC.head()"
   ]
  },
  {
   "cell_type": "code",
   "execution_count": 36,
   "metadata": {},
   "outputs": [
    {
     "data": {
      "text/html": [
       "<div>\n",
       "<style scoped>\n",
       "    .dataframe tbody tr th:only-of-type {\n",
       "        vertical-align: middle;\n",
       "    }\n",
       "\n",
       "    .dataframe tbody tr th {\n",
       "        vertical-align: top;\n",
       "    }\n",
       "\n",
       "    .dataframe thead th {\n",
       "        text-align: right;\n",
       "    }\n",
       "</style>\n",
       "<table border=\"1\" class=\"dataframe\">\n",
       "  <thead>\n",
       "    <tr style=\"text-align: right;\">\n",
       "      <th></th>\n",
       "      <th>ID</th>\n",
       "      <th>type</th>\n",
       "      <th>start</th>\n",
       "      <th>end</th>\n",
       "      <th>length</th>\n",
       "    </tr>\n",
       "  </thead>\n",
       "  <tbody>\n",
       "    <tr>\n",
       "      <th>0</th>\n",
       "      <td>ID=HORVU.MOREX.r3.1HG0000130.1</td>\n",
       "      <td>intron three_prime_UTR</td>\n",
       "      <td>377002</td>\n",
       "      <td>377104</td>\n",
       "      <td>104</td>\n",
       "    </tr>\n",
       "    <tr>\n",
       "      <th>1</th>\n",
       "      <td>ID=HORVU.MOREX.r3.1HG0000350.1</td>\n",
       "      <td>intron five_prime_UTR</td>\n",
       "      <td>1156130</td>\n",
       "      <td>1159354</td>\n",
       "      <td>3226</td>\n",
       "    </tr>\n",
       "    <tr>\n",
       "      <th>2</th>\n",
       "      <td>ID=HORVU.MOREX.r3.1HG0001120.1</td>\n",
       "      <td>intron five_prime_UTR</td>\n",
       "      <td>2577943</td>\n",
       "      <td>2580334</td>\n",
       "      <td>2393</td>\n",
       "    </tr>\n",
       "    <tr>\n",
       "      <th>3</th>\n",
       "      <td>ID=HORVU.MOREX.r3.1HG0001400.1</td>\n",
       "      <td>intron five_prime_UTR</td>\n",
       "      <td>3193629</td>\n",
       "      <td>3198818</td>\n",
       "      <td>5191</td>\n",
       "    </tr>\n",
       "    <tr>\n",
       "      <th>4</th>\n",
       "      <td>ID=HORVU.MOREX.r3.1HG0001400.1</td>\n",
       "      <td>intron five_prime_UTR</td>\n",
       "      <td>3198962</td>\n",
       "      <td>3199088</td>\n",
       "      <td>128</td>\n",
       "    </tr>\n",
       "  </tbody>\n",
       "</table>\n",
       "</div>"
      ],
      "text/plain": [
       "                               ID                    type    start      end  \\\n",
       "0  ID=HORVU.MOREX.r3.1HG0000130.1  intron three_prime_UTR   377002   377104   \n",
       "1  ID=HORVU.MOREX.r3.1HG0000350.1   intron five_prime_UTR  1156130  1159354   \n",
       "2  ID=HORVU.MOREX.r3.1HG0001120.1   intron five_prime_UTR  2577943  2580334   \n",
       "3  ID=HORVU.MOREX.r3.1HG0001400.1   intron five_prime_UTR  3193629  3198818   \n",
       "4  ID=HORVU.MOREX.r3.1HG0001400.1   intron five_prime_UTR  3198962  3199088   \n",
       "\n",
       "   length  \n",
       "0     104  \n",
       "1    3226  \n",
       "2    2393  \n",
       "3    5191  \n",
       "4     128  "
      ]
     },
     "execution_count": 36,
     "metadata": {},
     "output_type": "execute_result"
    }
   ],
   "source": [
    "introns_UTR_rev_Hv_MorexHC = pd.read_csv('Output/Hv_MorexHC_UTRrev_introns.tsv', sep = '\\t')\n",
    "introns_UTR_rev_Hv_MorexHC.head()"
   ]
  },
  {
   "cell_type": "code",
   "execution_count": 37,
   "metadata": {},
   "outputs": [],
   "source": [
    "### --- Concatenating the UTR_introns to build a unique dataframe\n",
    "frames = [introns_UTR_forw_Hv_MorexHC, introns_UTR_rev_Hv_MorexHC]\n",
    "introns_UTR_Hv_MorexHC = pd.concat(frames)"
   ]
  },
  {
   "cell_type": "code",
   "execution_count": 38,
   "metadata": {},
   "outputs": [],
   "source": [
    "### --- Setting figure and font size\n",
    "plt.rcParams[\"figure.figsize\"] = (20, 20)\n",
    "plt.rcParams[\"font.size\"] = 15"
   ]
  },
  {
   "cell_type": "code",
   "execution_count": 39,
   "metadata": {},
   "outputs": [
    {
     "data": {
      "text/plain": [
       "count     5049.000000\n",
       "mean       914.958210\n",
       "std       2505.112829\n",
       "min         33.000000\n",
       "25%        121.000000\n",
       "50%        406.000000\n",
       "75%        943.000000\n",
       "max      74239.000000\n",
       "Name: length, dtype: float64"
      ]
     },
     "execution_count": 39,
     "metadata": {},
     "output_type": "execute_result"
    }
   ],
   "source": [
    "### --- Performing some basic statistics \n",
    "introns_UTR_Hv_MorexHC['length'].describe()"
   ]
  },
  {
   "cell_type": "code",
   "execution_count": 40,
   "metadata": {},
   "outputs": [
    {
     "data": {
      "text/plain": [
       "<AxesSubplot:ylabel='Density'>"
      ]
     },
     "execution_count": 40,
     "metadata": {},
     "output_type": "execute_result"
    },
    {
     "data": {
      "image/png": "[encoded data removed]",
      "text/plain": [
       "<Figure size 1440x1440 with 1 Axes>"
      ]
     },
     "metadata": {
      "needs_background": "light"
     },
     "output_type": "display_data"
    }
   ],
   "source": [
    "### --- Plotting the distribution of UTR introns length\n",
    "introns_UTR_Hv_MorexHC['length'].plot.density()"
   ]
  },
  {
   "cell_type": "code",
   "execution_count": 45,
   "metadata": {},
   "outputs": [
    {
     "data": {
      "text/plain": [
       "<AxesSubplot:>"
      ]
     },
     "execution_count": 45,
     "metadata": {},
     "output_type": "execute_result"
    },
    {
     "data": {
      "image/png": "[encoded data removed]",
      "text/plain": [
       "<Figure size 1440x1440 with 1 Axes>"
      ]
     },
     "metadata": {
      "needs_background": "light"
     },
     "output_type": "display_data"
    }
   ],
   "source": [
    "### --- Plotting the boxplot of UTR introns length without outliers\n",
    "introns_UTR_Hv_MorexHC.boxplot(column='length', return_type='axes', showfliers=False) # showfliers = False -> discard outliers"
   ]
  },
  {
   "cell_type": "code",
   "execution_count": 54,
   "metadata": {},
   "outputs": [],
   "source": [
    "### --- splitting in introns 3'UTR and 5'UTR to eventually if there are differences among the two\n",
    "introns_UTR3_Hv_MorexHC = introns_UTR_Hv_MorexHC.loc[introns_UTR_Hv_MorexHC['type'].isin(['intron three_prime_UTR'])]\n",
    "introns_UTR5_Hv_MorexHC = introns_UTR_Hv_MorexHC.loc[introns_UTR_Hv_MorexHC['type'].isin(['intron five_prime_UTR'])]\n"
   ]
  },
  {
   "cell_type": "code",
   "execution_count": 55,
   "metadata": {},
   "outputs": [
    {
     "data": {
      "text/html": [
       "<div>\n",
       "<style scoped>\n",
       "    .dataframe tbody tr th:only-of-type {\n",
       "        vertical-align: middle;\n",
       "    }\n",
       "\n",
       "    .dataframe tbody tr th {\n",
       "        vertical-align: top;\n",
       "    }\n",
       "\n",
       "    .dataframe thead th {\n",
       "        text-align: right;\n",
       "    }\n",
       "</style>\n",
       "<table border=\"1\" class=\"dataframe\">\n",
       "  <thead>\n",
       "    <tr style=\"text-align: right;\">\n",
       "      <th></th>\n",
       "      <th>ID</th>\n",
       "      <th>type</th>\n",
       "      <th>start</th>\n",
       "      <th>end</th>\n",
       "      <th>length</th>\n",
       "    </tr>\n",
       "  </thead>\n",
       "  <tbody>\n",
       "    <tr>\n",
       "      <th>11</th>\n",
       "      <td>ID=HORVU.MOREX.r3.1HG0003090.2</td>\n",
       "      <td>intron three_prime_UTR</td>\n",
       "      <td>5946475</td>\n",
       "      <td>5974459</td>\n",
       "      <td>27986</td>\n",
       "    </tr>\n",
       "    <tr>\n",
       "      <th>12</th>\n",
       "      <td>ID=HORVU.MOREX.r3.1HG0003090.6</td>\n",
       "      <td>intron three_prime_UTR</td>\n",
       "      <td>5946475</td>\n",
       "      <td>5974459</td>\n",
       "      <td>27986</td>\n",
       "    </tr>\n",
       "    <tr>\n",
       "      <th>24</th>\n",
       "      <td>ID=HORVU.MOREX.r3.1HG0007160.1</td>\n",
       "      <td>intron three_prime_UTR</td>\n",
       "      <td>14661381</td>\n",
       "      <td>14662100</td>\n",
       "      <td>721</td>\n",
       "    </tr>\n",
       "    <tr>\n",
       "      <th>25</th>\n",
       "      <td>ID=HORVU.MOREX.r3.1HG0007160.1</td>\n",
       "      <td>intron three_prime_UTR</td>\n",
       "      <td>14662182</td>\n",
       "      <td>14662301</td>\n",
       "      <td>121</td>\n",
       "    </tr>\n",
       "    <tr>\n",
       "      <th>27</th>\n",
       "      <td>ID=HORVU.MOREX.r3.1HG0007370.2</td>\n",
       "      <td>intron three_prime_UTR</td>\n",
       "      <td>15093762</td>\n",
       "      <td>15093878</td>\n",
       "      <td>118</td>\n",
       "    </tr>\n",
       "    <tr>\n",
       "      <th>...</th>\n",
       "      <td>...</td>\n",
       "      <td>...</td>\n",
       "      <td>...</td>\n",
       "      <td>...</td>\n",
       "      <td>...</td>\n",
       "    </tr>\n",
       "    <tr>\n",
       "      <th>2406</th>\n",
       "      <td>ID=HORVU.MOREX.r3.7HG0748130.1</td>\n",
       "      <td>intron three_prime_UTR</td>\n",
       "      <td>620827612</td>\n",
       "      <td>620827821</td>\n",
       "      <td>211</td>\n",
       "    </tr>\n",
       "    <tr>\n",
       "      <th>2407</th>\n",
       "      <td>ID=HORVU.MOREX.r3.7HG0749430.1</td>\n",
       "      <td>intron three_prime_UTR</td>\n",
       "      <td>623175384</td>\n",
       "      <td>623176311</td>\n",
       "      <td>929</td>\n",
       "    </tr>\n",
       "    <tr>\n",
       "      <th>2408</th>\n",
       "      <td>ID=HORVU.MOREX.r3.7HG0749440.1</td>\n",
       "      <td>intron three_prime_UTR</td>\n",
       "      <td>623212429</td>\n",
       "      <td>623212835</td>\n",
       "      <td>408</td>\n",
       "    </tr>\n",
       "    <tr>\n",
       "      <th>2412</th>\n",
       "      <td>ID=HORVU.MOREX.r3.7HG0749980.1</td>\n",
       "      <td>intron three_prime_UTR</td>\n",
       "      <td>624202455</td>\n",
       "      <td>624203734</td>\n",
       "      <td>1281</td>\n",
       "    </tr>\n",
       "    <tr>\n",
       "      <th>2418</th>\n",
       "      <td>ID=HORVU.MOREX.r3.7HG0752790.1</td>\n",
       "      <td>intron three_prime_UTR</td>\n",
       "      <td>631981108</td>\n",
       "      <td>631981202</td>\n",
       "      <td>96</td>\n",
       "    </tr>\n",
       "  </tbody>\n",
       "</table>\n",
       "<p>1632 rows × 5 columns</p>\n",
       "</div>"
      ],
      "text/plain": [
       "                                  ID                    type      start  \\\n",
       "11    ID=HORVU.MOREX.r3.1HG0003090.2  intron three_prime_UTR    5946475   \n",
       "12    ID=HORVU.MOREX.r3.1HG0003090.6  intron three_prime_UTR    5946475   \n",
       "24    ID=HORVU.MOREX.r3.1HG0007160.1  intron three_prime_UTR   14661381   \n",
       "25    ID=HORVU.MOREX.r3.1HG0007160.1  intron three_prime_UTR   14662182   \n",
       "27    ID=HORVU.MOREX.r3.1HG0007370.2  intron three_prime_UTR   15093762   \n",
       "...                              ...                     ...        ...   \n",
       "2406  ID=HORVU.MOREX.r3.7HG0748130.1  intron three_prime_UTR  620827612   \n",
       "2407  ID=HORVU.MOREX.r3.7HG0749430.1  intron three_prime_UTR  623175384   \n",
       "2408  ID=HORVU.MOREX.r3.7HG0749440.1  intron three_prime_UTR  623212429   \n",
       "2412  ID=HORVU.MOREX.r3.7HG0749980.1  intron three_prime_UTR  624202455   \n",
       "2418  ID=HORVU.MOREX.r3.7HG0752790.1  intron three_prime_UTR  631981108   \n",
       "\n",
       "            end  length  \n",
       "11      5974459   27986  \n",
       "12      5974459   27986  \n",
       "24     14662100     721  \n",
       "25     14662301     121  \n",
       "27     15093878     118  \n",
       "...         ...     ...  \n",
       "2406  620827821     211  \n",
       "2407  623176311     929  \n",
       "2408  623212835     408  \n",
       "2412  624203734    1281  \n",
       "2418  631981202      96  \n",
       "\n",
       "[1632 rows x 5 columns]"
      ]
     },
     "execution_count": 55,
     "metadata": {},
     "output_type": "execute_result"
    }
   ],
   "source": [
    "introns_UTR3_Hv_MorexHC"
   ]
  },
  {
   "cell_type": "code",
   "execution_count": 118,
   "metadata": {},
   "outputs": [
    {
     "data": {
      "text/plain": [
       "count     1632.000000\n",
       "mean      1001.586397\n",
       "std       3572.896832\n",
       "min         33.000000\n",
       "25%         99.000000\n",
       "50%        196.000000\n",
       "75%        750.500000\n",
       "max      74239.000000\n",
       "Name: length, dtype: float64"
      ]
     },
     "execution_count": 118,
     "metadata": {},
     "output_type": "execute_result"
    }
   ],
   "source": [
    "introns_UTR3_Hv_MorexHC['length'].describe()"
   ]
  },
  {
   "cell_type": "code",
   "execution_count": 119,
   "metadata": {},
   "outputs": [
    {
     "data": {
      "text/html": [
       "<div>\n",
       "<style scoped>\n",
       "    .dataframe tbody tr th:only-of-type {\n",
       "        vertical-align: middle;\n",
       "    }\n",
       "\n",
       "    .dataframe tbody tr th {\n",
       "        vertical-align: top;\n",
       "    }\n",
       "\n",
       "    .dataframe thead th {\n",
       "        text-align: right;\n",
       "    }\n",
       "</style>\n",
       "<table border=\"1\" class=\"dataframe\">\n",
       "  <thead>\n",
       "    <tr style=\"text-align: right;\">\n",
       "      <th></th>\n",
       "      <th>ID</th>\n",
       "      <th>type</th>\n",
       "      <th>start</th>\n",
       "      <th>end</th>\n",
       "      <th>length</th>\n",
       "    </tr>\n",
       "  </thead>\n",
       "  <tbody>\n",
       "    <tr>\n",
       "      <th>0</th>\n",
       "      <td>ID=HORVU.MOREX.r3.1HG0000070.1</td>\n",
       "      <td>intron five_prime_UTR</td>\n",
       "      <td>146750</td>\n",
       "      <td>146980</td>\n",
       "      <td>232</td>\n",
       "    </tr>\n",
       "    <tr>\n",
       "      <th>1</th>\n",
       "      <td>ID=HORVU.MOREX.r3.1HG0000080.1</td>\n",
       "      <td>intron five_prime_UTR</td>\n",
       "      <td>153530</td>\n",
       "      <td>153625</td>\n",
       "      <td>97</td>\n",
       "    </tr>\n",
       "    <tr>\n",
       "      <th>2</th>\n",
       "      <td>ID=HORVU.MOREX.r3.1HG0000620.1</td>\n",
       "      <td>intron five_prime_UTR</td>\n",
       "      <td>1614154</td>\n",
       "      <td>1615780</td>\n",
       "      <td>1628</td>\n",
       "    </tr>\n",
       "    <tr>\n",
       "      <th>3</th>\n",
       "      <td>ID=HORVU.MOREX.r3.1HG0000620.2</td>\n",
       "      <td>intron five_prime_UTR</td>\n",
       "      <td>1614154</td>\n",
       "      <td>1615780</td>\n",
       "      <td>1628</td>\n",
       "    </tr>\n",
       "    <tr>\n",
       "      <th>4</th>\n",
       "      <td>ID=HORVU.MOREX.r3.1HG0000620.3</td>\n",
       "      <td>intron five_prime_UTR</td>\n",
       "      <td>1614665</td>\n",
       "      <td>1615780</td>\n",
       "      <td>1117</td>\n",
       "    </tr>\n",
       "    <tr>\n",
       "      <th>...</th>\n",
       "      <td>...</td>\n",
       "      <td>...</td>\n",
       "      <td>...</td>\n",
       "      <td>...</td>\n",
       "      <td>...</td>\n",
       "    </tr>\n",
       "    <tr>\n",
       "      <th>2416</th>\n",
       "      <td>ID=HORVU.MOREX.r3.7HG0751310.1</td>\n",
       "      <td>intron five_prime_UTR</td>\n",
       "      <td>627322202</td>\n",
       "      <td>627322296</td>\n",
       "      <td>96</td>\n",
       "    </tr>\n",
       "    <tr>\n",
       "      <th>2417</th>\n",
       "      <td>ID=HORVU.MOREX.r3.7HG0752050.1</td>\n",
       "      <td>intron five_prime_UTR</td>\n",
       "      <td>628813527</td>\n",
       "      <td>628813619</td>\n",
       "      <td>94</td>\n",
       "    </tr>\n",
       "    <tr>\n",
       "      <th>2419</th>\n",
       "      <td>ID=HORVU.MOREX.r3.7HG0752950.1</td>\n",
       "      <td>intron five_prime_UTR</td>\n",
       "      <td>632146924</td>\n",
       "      <td>632147308</td>\n",
       "      <td>386</td>\n",
       "    </tr>\n",
       "    <tr>\n",
       "      <th>2420</th>\n",
       "      <td>ID=HORVU.MOREX.r3.UnG0753140.1</td>\n",
       "      <td>intron five_prime_UTR</td>\n",
       "      <td>475717</td>\n",
       "      <td>475945</td>\n",
       "      <td>230</td>\n",
       "    </tr>\n",
       "    <tr>\n",
       "      <th>2421</th>\n",
       "      <td>ID=HORVU.MOREX.r3.UnG0753140.1</td>\n",
       "      <td>intron five_prime_UTR</td>\n",
       "      <td>476070</td>\n",
       "      <td>480556</td>\n",
       "      <td>4488</td>\n",
       "    </tr>\n",
       "  </tbody>\n",
       "</table>\n",
       "<p>3417 rows × 5 columns</p>\n",
       "</div>"
      ],
      "text/plain": [
       "                                  ID                   type      start  \\\n",
       "0     ID=HORVU.MOREX.r3.1HG0000070.1  intron five_prime_UTR     146750   \n",
       "1     ID=HORVU.MOREX.r3.1HG0000080.1  intron five_prime_UTR     153530   \n",
       "2     ID=HORVU.MOREX.r3.1HG0000620.1  intron five_prime_UTR    1614154   \n",
       "3     ID=HORVU.MOREX.r3.1HG0000620.2  intron five_prime_UTR    1614154   \n",
       "4     ID=HORVU.MOREX.r3.1HG0000620.3  intron five_prime_UTR    1614665   \n",
       "...                              ...                    ...        ...   \n",
       "2416  ID=HORVU.MOREX.r3.7HG0751310.1  intron five_prime_UTR  627322202   \n",
       "2417  ID=HORVU.MOREX.r3.7HG0752050.1  intron five_prime_UTR  628813527   \n",
       "2419  ID=HORVU.MOREX.r3.7HG0752950.1  intron five_prime_UTR  632146924   \n",
       "2420  ID=HORVU.MOREX.r3.UnG0753140.1  intron five_prime_UTR     475717   \n",
       "2421  ID=HORVU.MOREX.r3.UnG0753140.1  intron five_prime_UTR     476070   \n",
       "\n",
       "            end  length  \n",
       "0        146980     232  \n",
       "1        153625      97  \n",
       "2       1615780    1628  \n",
       "3       1615780    1628  \n",
       "4       1615780    1117  \n",
       "...         ...     ...  \n",
       "2416  627322296      96  \n",
       "2417  628813619      94  \n",
       "2419  632147308     386  \n",
       "2420     475945     230  \n",
       "2421     480556    4488  \n",
       "\n",
       "[3417 rows x 5 columns]"
      ]
     },
     "execution_count": 119,
     "metadata": {},
     "output_type": "execute_result"
    }
   ],
   "source": [
    "introns_UTR5_Hv_MorexHC"
   ]
  },
  {
   "cell_type": "code",
   "execution_count": 120,
   "metadata": {},
   "outputs": [
    {
     "data": {
      "text/plain": [
       "count     3417.000000\n",
       "mean       873.583553\n",
       "std       1781.409570\n",
       "min         41.000000\n",
       "25%        150.000000\n",
       "50%        511.000000\n",
       "75%        997.000000\n",
       "max      34933.000000\n",
       "Name: length, dtype: float64"
      ]
     },
     "execution_count": 120,
     "metadata": {},
     "output_type": "execute_result"
    }
   ],
   "source": [
    "introns_UTR5_Hv_MorexHC['length'].describe()"
   ]
  },
  {
   "cell_type": "markdown",
   "metadata": {},
   "source": [
    "### 2.1.5 Removing UTR introns from the whole introns dataframe"
   ]
  },
  {
   "cell_type": "code",
   "execution_count": 64,
   "metadata": {},
   "outputs": [
    {
     "data": {
      "text/html": [
       "<div>\n",
       "<style scoped>\n",
       "    .dataframe tbody tr th:only-of-type {\n",
       "        vertical-align: middle;\n",
       "    }\n",
       "\n",
       "    .dataframe tbody tr th {\n",
       "        vertical-align: top;\n",
       "    }\n",
       "\n",
       "    .dataframe thead th {\n",
       "        text-align: right;\n",
       "    }\n",
       "</style>\n",
       "<table border=\"1\" class=\"dataframe\">\n",
       "  <thead>\n",
       "    <tr style=\"text-align: right;\">\n",
       "      <th></th>\n",
       "      <th>ID</th>\n",
       "      <th>type</th>\n",
       "      <th>start</th>\n",
       "      <th>end</th>\n",
       "      <th>length</th>\n",
       "    </tr>\n",
       "  </thead>\n",
       "  <tbody>\n",
       "    <tr>\n",
       "      <th>0</th>\n",
       "      <td>ID=HORVU.MOREX.r3.1HG0000040.1</td>\n",
       "      <td>intron</td>\n",
       "      <td>78955</td>\n",
       "      <td>79062</td>\n",
       "      <td>109</td>\n",
       "    </tr>\n",
       "    <tr>\n",
       "      <th>1</th>\n",
       "      <td>ID=HORVU.MOREX.r3.1HG0000040.1</td>\n",
       "      <td>intron</td>\n",
       "      <td>79105</td>\n",
       "      <td>79608</td>\n",
       "      <td>505</td>\n",
       "    </tr>\n",
       "    <tr>\n",
       "      <th>2</th>\n",
       "      <td>ID=HORVU.MOREX.r3.1HG0000040.1</td>\n",
       "      <td>intron</td>\n",
       "      <td>79677</td>\n",
       "      <td>79756</td>\n",
       "      <td>81</td>\n",
       "    </tr>\n",
       "    <tr>\n",
       "      <th>3</th>\n",
       "      <td>ID=HORVU.MOREX.r3.1HG0000040.1</td>\n",
       "      <td>intron</td>\n",
       "      <td>79800</td>\n",
       "      <td>79900</td>\n",
       "      <td>102</td>\n",
       "    </tr>\n",
       "    <tr>\n",
       "      <th>4</th>\n",
       "      <td>ID=HORVU.MOREX.r3.1HG0000040.1</td>\n",
       "      <td>intron</td>\n",
       "      <td>79933</td>\n",
       "      <td>80484</td>\n",
       "      <td>553</td>\n",
       "    </tr>\n",
       "  </tbody>\n",
       "</table>\n",
       "</div>"
      ],
      "text/plain": [
       "                               ID     type  start    end  length\n",
       "0  ID=HORVU.MOREX.r3.1HG0000040.1  intron   78955  79062     109\n",
       "1  ID=HORVU.MOREX.r3.1HG0000040.1  intron   79105  79608     505\n",
       "2  ID=HORVU.MOREX.r3.1HG0000040.1  intron   79677  79756      81\n",
       "3  ID=HORVU.MOREX.r3.1HG0000040.1  intron   79800  79900     102\n",
       "4  ID=HORVU.MOREX.r3.1HG0000040.1  intron   79933  80484     553"
      ]
     },
     "execution_count": 64,
     "metadata": {},
     "output_type": "execute_result"
    }
   ],
   "source": [
    "### --- Checking total introns dataframe \n",
    "introns_Hv_MorexHC.head()"
   ]
  },
  {
   "cell_type": "code",
   "execution_count": 65,
   "metadata": {},
   "outputs": [
    {
     "data": {
      "text/html": [
       "<div>\n",
       "<style scoped>\n",
       "    .dataframe tbody tr th:only-of-type {\n",
       "        vertical-align: middle;\n",
       "    }\n",
       "\n",
       "    .dataframe tbody tr th {\n",
       "        vertical-align: top;\n",
       "    }\n",
       "\n",
       "    .dataframe thead th {\n",
       "        text-align: right;\n",
       "    }\n",
       "</style>\n",
       "<table border=\"1\" class=\"dataframe\">\n",
       "  <thead>\n",
       "    <tr style=\"text-align: right;\">\n",
       "      <th></th>\n",
       "      <th>ID</th>\n",
       "      <th>type</th>\n",
       "      <th>start</th>\n",
       "      <th>end</th>\n",
       "      <th>length</th>\n",
       "    </tr>\n",
       "  </thead>\n",
       "  <tbody>\n",
       "    <tr>\n",
       "      <th>0</th>\n",
       "      <td>ID=HORVU.MOREX.r3.1HG0000070.1</td>\n",
       "      <td>intron five_prime_UTR</td>\n",
       "      <td>146750</td>\n",
       "      <td>146980</td>\n",
       "      <td>232</td>\n",
       "    </tr>\n",
       "    <tr>\n",
       "      <th>1</th>\n",
       "      <td>ID=HORVU.MOREX.r3.1HG0000080.1</td>\n",
       "      <td>intron five_prime_UTR</td>\n",
       "      <td>153530</td>\n",
       "      <td>153625</td>\n",
       "      <td>97</td>\n",
       "    </tr>\n",
       "    <tr>\n",
       "      <th>2</th>\n",
       "      <td>ID=HORVU.MOREX.r3.1HG0000620.1</td>\n",
       "      <td>intron five_prime_UTR</td>\n",
       "      <td>1614154</td>\n",
       "      <td>1615780</td>\n",
       "      <td>1628</td>\n",
       "    </tr>\n",
       "    <tr>\n",
       "      <th>3</th>\n",
       "      <td>ID=HORVU.MOREX.r3.1HG0000620.2</td>\n",
       "      <td>intron five_prime_UTR</td>\n",
       "      <td>1614154</td>\n",
       "      <td>1615780</td>\n",
       "      <td>1628</td>\n",
       "    </tr>\n",
       "    <tr>\n",
       "      <th>4</th>\n",
       "      <td>ID=HORVU.MOREX.r3.1HG0000620.3</td>\n",
       "      <td>intron five_prime_UTR</td>\n",
       "      <td>1614665</td>\n",
       "      <td>1615780</td>\n",
       "      <td>1117</td>\n",
       "    </tr>\n",
       "  </tbody>\n",
       "</table>\n",
       "</div>"
      ],
      "text/plain": [
       "                               ID                   type    start      end  \\\n",
       "0  ID=HORVU.MOREX.r3.1HG0000070.1  intron five_prime_UTR   146750   146980   \n",
       "1  ID=HORVU.MOREX.r3.1HG0000080.1  intron five_prime_UTR   153530   153625   \n",
       "2  ID=HORVU.MOREX.r3.1HG0000620.1  intron five_prime_UTR  1614154  1615780   \n",
       "3  ID=HORVU.MOREX.r3.1HG0000620.2  intron five_prime_UTR  1614154  1615780   \n",
       "4  ID=HORVU.MOREX.r3.1HG0000620.3  intron five_prime_UTR  1614665  1615780   \n",
       "\n",
       "   length  \n",
       "0     232  \n",
       "1      97  \n",
       "2    1628  \n",
       "3    1628  \n",
       "4    1117  "
      ]
     },
     "execution_count": 65,
     "metadata": {},
     "output_type": "execute_result"
    }
   ],
   "source": [
    "### --- Checking UTR introns dataframe\n",
    "introns_UTR_Hv_MorexHC.head()"
   ]
  },
  {
   "cell_type": "code",
   "execution_count": 11,
   "metadata": {},
   "outputs": [],
   "source": [
    "### --- Function to create remove from the total introns the one within UTRs and create a dataframe with introns within cds\n",
    "### --- The indataframe must be formatted like introns_Hv_MorexHC\n",
    "### --- The assumption is to use pd.concat() to concatenate the two dataframes and then drop the duplicates\n",
    "def cds_introns_dataframe(indataframe1, indataframe2):\n",
    "    total_introns_df = pd.concat([indataframe1,indataframe2])\n",
    "    #print(len(total_introns_df))\n",
    "    #print(len(introns_UTR))\n",
    "    #print(len(introns_df))\n",
    "    #print(len(total_introns_df.drop_duplicates(['ID','start','end'],keep=False))) \n",
    "    introns_cds_df = total_introns_df.drop_duplicates(['ID','start','end'],keep=False)\n",
    "    return introns_cds_df"
   ]
  },
  {
   "cell_type": "code",
   "execution_count": 67,
   "metadata": {},
   "outputs": [
    {
     "data": {
      "text/html": [
       "<div>\n",
       "<style scoped>\n",
       "    .dataframe tbody tr th:only-of-type {\n",
       "        vertical-align: middle;\n",
       "    }\n",
       "\n",
       "    .dataframe tbody tr th {\n",
       "        vertical-align: top;\n",
       "    }\n",
       "\n",
       "    .dataframe thead th {\n",
       "        text-align: right;\n",
       "    }\n",
       "</style>\n",
       "<table border=\"1\" class=\"dataframe\">\n",
       "  <thead>\n",
       "    <tr style=\"text-align: right;\">\n",
       "      <th></th>\n",
       "      <th>ID</th>\n",
       "      <th>type</th>\n",
       "      <th>start</th>\n",
       "      <th>end</th>\n",
       "      <th>length</th>\n",
       "    </tr>\n",
       "  </thead>\n",
       "  <tbody>\n",
       "    <tr>\n",
       "      <th>0</th>\n",
       "      <td>ID=HORVU.MOREX.r3.1HG0000040.1</td>\n",
       "      <td>intron</td>\n",
       "      <td>78955</td>\n",
       "      <td>79062</td>\n",
       "      <td>109</td>\n",
       "    </tr>\n",
       "    <tr>\n",
       "      <th>1</th>\n",
       "      <td>ID=HORVU.MOREX.r3.1HG0000040.1</td>\n",
       "      <td>intron</td>\n",
       "      <td>79105</td>\n",
       "      <td>79608</td>\n",
       "      <td>505</td>\n",
       "    </tr>\n",
       "    <tr>\n",
       "      <th>2</th>\n",
       "      <td>ID=HORVU.MOREX.r3.1HG0000040.1</td>\n",
       "      <td>intron</td>\n",
       "      <td>79677</td>\n",
       "      <td>79756</td>\n",
       "      <td>81</td>\n",
       "    </tr>\n",
       "    <tr>\n",
       "      <th>3</th>\n",
       "      <td>ID=HORVU.MOREX.r3.1HG0000040.1</td>\n",
       "      <td>intron</td>\n",
       "      <td>79800</td>\n",
       "      <td>79900</td>\n",
       "      <td>102</td>\n",
       "    </tr>\n",
       "    <tr>\n",
       "      <th>4</th>\n",
       "      <td>ID=HORVU.MOREX.r3.1HG0000040.1</td>\n",
       "      <td>intron</td>\n",
       "      <td>79933</td>\n",
       "      <td>80484</td>\n",
       "      <td>553</td>\n",
       "    </tr>\n",
       "    <tr>\n",
       "      <th>...</th>\n",
       "      <td>...</td>\n",
       "      <td>...</td>\n",
       "      <td>...</td>\n",
       "      <td>...</td>\n",
       "      <td>...</td>\n",
       "    </tr>\n",
       "    <tr>\n",
       "      <th>131226</th>\n",
       "      <td>ID=HORVU.MOREX.r3.UnG0816010.1</td>\n",
       "      <td>intron</td>\n",
       "      <td>28860551</td>\n",
       "      <td>28860786</td>\n",
       "      <td>237</td>\n",
       "    </tr>\n",
       "    <tr>\n",
       "      <th>131227</th>\n",
       "      <td>ID=HORVU.MOREX.r3.UnG0816010.1</td>\n",
       "      <td>intron</td>\n",
       "      <td>28861622</td>\n",
       "      <td>28861672</td>\n",
       "      <td>52</td>\n",
       "    </tr>\n",
       "    <tr>\n",
       "      <th>131228</th>\n",
       "      <td>ID=HORVU.MOREX.r3.UnG0816040.1</td>\n",
       "      <td>intron</td>\n",
       "      <td>28867800</td>\n",
       "      <td>28867889</td>\n",
       "      <td>91</td>\n",
       "    </tr>\n",
       "    <tr>\n",
       "      <th>131229</th>\n",
       "      <td>ID=HORVU.MOREX.r3.UnG0816160.1</td>\n",
       "      <td>intron</td>\n",
       "      <td>28884605</td>\n",
       "      <td>28884809</td>\n",
       "      <td>206</td>\n",
       "    </tr>\n",
       "    <tr>\n",
       "      <th>131230</th>\n",
       "      <td>ID=HORVU.MOREX.r3.UnG0816320.1</td>\n",
       "      <td>intron</td>\n",
       "      <td>28904141</td>\n",
       "      <td>28904339</td>\n",
       "      <td>200</td>\n",
       "    </tr>\n",
       "  </tbody>\n",
       "</table>\n",
       "<p>126182 rows × 5 columns</p>\n",
       "</div>"
      ],
      "text/plain": [
       "                                    ID     type     start       end  length\n",
       "0       ID=HORVU.MOREX.r3.1HG0000040.1  intron      78955     79062     109\n",
       "1       ID=HORVU.MOREX.r3.1HG0000040.1  intron      79105     79608     505\n",
       "2       ID=HORVU.MOREX.r3.1HG0000040.1  intron      79677     79756      81\n",
       "3       ID=HORVU.MOREX.r3.1HG0000040.1  intron      79800     79900     102\n",
       "4       ID=HORVU.MOREX.r3.1HG0000040.1  intron      79933     80484     553\n",
       "...                                ...      ...       ...       ...     ...\n",
       "131226  ID=HORVU.MOREX.r3.UnG0816010.1  intron   28860551  28860786     237\n",
       "131227  ID=HORVU.MOREX.r3.UnG0816010.1  intron   28861622  28861672      52\n",
       "131228  ID=HORVU.MOREX.r3.UnG0816040.1  intron   28867800  28867889      91\n",
       "131229  ID=HORVU.MOREX.r3.UnG0816160.1  intron   28884605  28884809     206\n",
       "131230  ID=HORVU.MOREX.r3.UnG0816320.1  intron   28904141  28904339     200\n",
       "\n",
       "[126182 rows x 5 columns]"
      ]
     },
     "execution_count": 67,
     "metadata": {},
     "output_type": "execute_result"
    }
   ],
   "source": [
    "### --- Extracting introns from cds within Hv_MorexHC\n",
    "introns_cds_Hv_MorexHC = cds_introns_dataframe(introns_Hv_MorexHC, introns_UTR_Hv_MorexHC)\n",
    "introns_cds_Hv_MorexHC"
   ]
  },
  {
   "cell_type": "code",
   "execution_count": 68,
   "metadata": {},
   "outputs": [
    {
     "data": {
      "text/html": [
       "<div>\n",
       "<style scoped>\n",
       "    .dataframe tbody tr th:only-of-type {\n",
       "        vertical-align: middle;\n",
       "    }\n",
       "\n",
       "    .dataframe tbody tr th {\n",
       "        vertical-align: top;\n",
       "    }\n",
       "\n",
       "    .dataframe thead th {\n",
       "        text-align: right;\n",
       "    }\n",
       "</style>\n",
       "<table border=\"1\" class=\"dataframe\">\n",
       "  <thead>\n",
       "    <tr style=\"text-align: right;\">\n",
       "      <th></th>\n",
       "      <th>ID</th>\n",
       "      <th>type</th>\n",
       "      <th>start</th>\n",
       "      <th>end</th>\n",
       "      <th>length</th>\n",
       "    </tr>\n",
       "  </thead>\n",
       "  <tbody>\n",
       "  </tbody>\n",
       "</table>\n",
       "</div>"
      ],
      "text/plain": [
       "Empty DataFrame\n",
       "Columns: [ID, type, start, end, length]\n",
       "Index: []"
      ]
     },
     "execution_count": 68,
     "metadata": {},
     "output_type": "execute_result"
    }
   ],
   "source": [
    "### --- Checking if there are not introns UTR within the created dataframe\n",
    "introns_cds_Hv_MorexHC.loc[introns_cds_Hv_MorexHC['type'].isin(['intron three_prime_UTR','intron five_prime_UTR'])]"
   ]
  },
  {
   "cell_type": "code",
   "execution_count": 73,
   "metadata": {},
   "outputs": [
    {
     "data": {
      "text/plain": [
       "count    126182.000000\n",
       "mean        565.209444\n",
       "std        2222.947337\n",
       "min          22.000000\n",
       "25%          94.000000\n",
       "50%         131.000000\n",
       "75%         439.000000\n",
       "max      234533.000000\n",
       "Name: length, dtype: float64"
      ]
     },
     "execution_count": 73,
     "metadata": {},
     "output_type": "execute_result"
    }
   ],
   "source": [
    "### --- Basic statistics of Hv_MorexHC introns cds\n",
    "introns_cds_Hv_MorexHC['length'].describe()"
   ]
  },
  {
   "cell_type": "code",
   "execution_count": 74,
   "metadata": {},
   "outputs": [
    {
     "data": {
      "text/plain": [
       "<AxesSubplot:ylabel='Density'>"
      ]
     },
     "execution_count": 74,
     "metadata": {},
     "output_type": "execute_result"
    },
    {
     "data": {
      "image/png": "[encoded data removed]",
      "text/plain": [
       "<Figure size 1440x1440 with 1 Axes>"
      ]
     },
     "metadata": {
      "needs_background": "light"
     },
     "output_type": "display_data"
    }
   ],
   "source": [
    "### --- Plotting the distribution of Hv_MorexHC cds introns length\n",
    "introns_cds_Hv_MorexHC['length'].plot.density()"
   ]
  },
  {
   "cell_type": "code",
   "execution_count": 79,
   "metadata": {},
   "outputs": [
    {
     "data": {
      "text/plain": [
       "<AxesSubplot:>"
      ]
     },
     "execution_count": 79,
     "metadata": {},
     "output_type": "execute_result"
    },
    {
     "data": {
      "image/png": "[encoded data removed]",
      "text/plain": [
       "<Figure size 1440x1440 with 1 Axes>"
      ]
     },
     "metadata": {
      "needs_background": "light"
     },
     "output_type": "display_data"
    }
   ],
   "source": [
    "### --- Plotting the boxplot of Hv_MorexHC cds introns length without outliers\n",
    "introns_cds_Hv_MorexHC.boxplot(column='length', return_type='axes', showfliers=False) # showfliers = False -> discard outliers"
   ]
  },
  {
   "cell_type": "markdown",
   "metadata": {},
   "source": [
    "### 2.1.6 Re-organizing files and directories"
   ]
  },
  {
   "cell_type": "code",
   "execution_count": 133,
   "metadata": {
    "scrolled": true
   },
   "outputs": [
    {
     "name": "stdout",
     "output_type": "stream",
     "text": [
      "Hv_MorexHC_exon.tsv\t\t      Hv_Morex_nohashtag.pgsb.Jul2020.HC.csv\r\n",
      "Hv_MorexHC_UTRforw.tsv\t\t      Hv_Morex_nohashtag.pgsb.Jul2020.HC.gff3\r\n",
      "Hv_MorexHC_UTRrev.tsv\t\t      Hv_Morex_nohashtag.pgsb.Jul2020.LC.gff3\r\n",
      "Hv_Morex_nohashtag.pgsb.Jul2020.gff3  raw\r\n"
     ]
    }
   ],
   "source": [
    "! ls Data/"
   ]
  },
  {
   "cell_type": "code",
   "execution_count": 134,
   "metadata": {},
   "outputs": [],
   "source": [
    "! mkdir Data/Hv_Morex_longread"
   ]
  },
  {
   "cell_type": "code",
   "execution_count": 135,
   "metadata": {},
   "outputs": [],
   "source": [
    "! mv Data/Hv_MorexHC* Data/Hv_Morex_longread/"
   ]
  },
  {
   "cell_type": "code",
   "execution_count": 136,
   "metadata": {},
   "outputs": [
    {
     "name": "stdout",
     "output_type": "stream",
     "text": [
      "Hv_MorexHC_exon.tsv  Hv_MorexHC_UTRforw.tsv  Hv_MorexHC_UTRrev.tsv\r\n"
     ]
    }
   ],
   "source": [
    "! ls Data/Hv_Morex_longread/"
   ]
  },
  {
   "cell_type": "code",
   "execution_count": 121,
   "metadata": {},
   "outputs": [
    {
     "name": "stdout",
     "output_type": "stream",
     "text": [
      "Hv_MorexHC_intronlessIDs.txt  Hv_MorexHC_introns.tsv\r\n",
      "Hv_MorexHC_intronpoorIDs.txt  Hv_MorexHC_UTRforw_introns.tsv\r\n",
      "Hv_MorexHC_intronrichIDs.txt  Hv_MorexHC_UTRrev_introns.tsv\r\n"
     ]
    }
   ],
   "source": [
    "! ls Output/"
   ]
  },
  {
   "cell_type": "code",
   "execution_count": 126,
   "metadata": {},
   "outputs": [],
   "source": [
    "! mkdir Output/Hv_Morex_longread"
   ]
  },
  {
   "cell_type": "code",
   "execution_count": 127,
   "metadata": {},
   "outputs": [],
   "source": [
    "! mv Output/Hv_MorexHC* Output/Hv_Morex_longread"
   ]
  },
  {
   "cell_type": "code",
   "execution_count": 128,
   "metadata": {},
   "outputs": [
    {
     "name": "stdout",
     "output_type": "stream",
     "text": [
      "Hv_MorexHC_intronlessIDs.txt  Hv_MorexHC_introns.tsv\r\n",
      "Hv_MorexHC_intronpoorIDs.txt  Hv_MorexHC_UTRforw_introns.tsv\r\n",
      "Hv_MorexHC_intronrichIDs.txt  Hv_MorexHC_UTRrev_introns.tsv\r\n"
     ]
    }
   ],
   "source": [
    "! ls Output/Hv_Morex_longread/"
   ]
  },
  {
   "cell_type": "markdown",
   "metadata": {},
   "source": [
    "# 2.2 Reproducing on Hv_Morex LC"
   ]
  },
  {
   "cell_type": "markdown",
   "metadata": {},
   "source": [
    "### 2.2.1 Collecting Data"
   ]
  },
  {
   "cell_type": "code",
   "execution_count": 129,
   "metadata": {},
   "outputs": [
    {
     "name": "stdout",
     "output_type": "stream",
     "text": [
      "--2021-06-03 18:19:52--  https://doi.ipk-gatersleben.de/DOI/b2f47dfb-47ff-4114-89ae-bad8dcc515a1/e27077bd-fa0b-4c20-ba87-5c84b9d0641c/1/DOWNLOAD\n",
      "Resolving doi.ipk-gatersleben.de (doi.ipk-gatersleben.de)... 194.94.136.144\n",
      "Connecting to doi.ipk-gatersleben.de (doi.ipk-gatersleben.de)|194.94.136.144|:443... connected.\n",
      "HTTP request sent, awaiting response... 200 OK\n",
      "Length: 36401810 (35M) [text/plain]\n",
      "Saving to: ‘Data/raw/Hv_Morex.pgsb.Jul2020.LC.gff3’\n",
      "\n",
      "Data/raw/Hv_Morex.p 100%[===================>]  34,71M  1,41MB/s    in 20s     \n",
      "\n",
      "2021-06-03 18:20:13 (1,74 MB/s) - ‘Data/raw/Hv_Morex.pgsb.Jul2020.LC.gff3’ saved [36401810/36401810]\n",
      "\n"
     ]
    }
   ],
   "source": [
    "### --- This will download the raw data to the subdirectory raw under the directory Data\n",
    "! wget -O Data/raw/Hv_Morex.pgsb.Jul2020.LC.gff3 https://doi.ipk-gatersleben.de/DOI/b2f47dfb-47ff-4114-89ae-bad8dcc515a1/e27077bd-fa0b-4c20-ba87-5c84b9d0641c/1/DOWNLOAD"
   ]
  },
  {
   "cell_type": "markdown",
   "metadata": {},
   "source": [
    "### 2.2.2 Processing Data"
   ]
  },
  {
   "cell_type": "code",
   "execution_count": 138,
   "metadata": {},
   "outputs": [],
   "source": [
    "### --- There is no need to import the libraries again\n",
    "# import pandas as pd\n",
    "# import numpy as np\n",
    "# import matplotlib.pyplot as plt"
   ]
  },
  {
   "cell_type": "code",
   "execution_count": 131,
   "metadata": {},
   "outputs": [],
   "source": [
    "### --- Removing all hashtags from the gff3 file\n",
    "! sed '/#/d' Data/raw/Hv_Morex.pgsb.Jul2020.LC.gff3  > Data/Hv_Morex_nohashtag.pgsb.Jul2020.LC.gff3"
   ]
  },
  {
   "cell_type": "code",
   "execution_count": 139,
   "metadata": {},
   "outputs": [],
   "source": [
    "### --- Changing the gff3 file to a csv format file to import it with pandas\n",
    "! cat Data/Hv_Morex_nohashtag.pgsb.Jul2020.LC.gff3 | sed 's/,/--/g' | sed 's/;/--/g' | sed 's/\\t/,/g' | awk -F '--' '{print $1}' > Data/Hv_Morex_nohashtag.pgsb.Jul2020.LC.csv"
   ]
  },
  {
   "cell_type": "code",
   "execution_count": 140,
   "metadata": {
    "scrolled": true
   },
   "outputs": [
    {
     "data": {
      "text/html": [
       "<div>\n",
       "<style scoped>\n",
       "    .dataframe tbody tr th:only-of-type {\n",
       "        vertical-align: middle;\n",
       "    }\n",
       "\n",
       "    .dataframe tbody tr th {\n",
       "        vertical-align: top;\n",
       "    }\n",
       "\n",
       "    .dataframe thead th {\n",
       "        text-align: right;\n",
       "    }\n",
       "</style>\n",
       "<table border=\"1\" class=\"dataframe\">\n",
       "  <thead>\n",
       "    <tr style=\"text-align: right;\">\n",
       "      <th></th>\n",
       "      <th>chr</th>\n",
       "      <th>source</th>\n",
       "      <th>type</th>\n",
       "      <th>start</th>\n",
       "      <th>end</th>\n",
       "      <th>score</th>\n",
       "      <th>strand</th>\n",
       "      <th>phase</th>\n",
       "      <th>attributes</th>\n",
       "    </tr>\n",
       "  </thead>\n",
       "  <tbody>\n",
       "    <tr>\n",
       "      <th>0</th>\n",
       "      <td>chr1H</td>\n",
       "      <td>pgsb</td>\n",
       "      <td>gene</td>\n",
       "      <td>49526</td>\n",
       "      <td>50649</td>\n",
       "      <td>.</td>\n",
       "      <td>+</td>\n",
       "      <td>.</td>\n",
       "      <td>ID=HORVU.MOREX.r3.1HG0000010</td>\n",
       "    </tr>\n",
       "    <tr>\n",
       "      <th>1</th>\n",
       "      <td>chr1H</td>\n",
       "      <td>pgsb</td>\n",
       "      <td>mRNA</td>\n",
       "      <td>49526</td>\n",
       "      <td>50649</td>\n",
       "      <td>.</td>\n",
       "      <td>+</td>\n",
       "      <td>.</td>\n",
       "      <td>ID=HORVU.MOREX.r3.1HG0000010.1</td>\n",
       "    </tr>\n",
       "    <tr>\n",
       "      <th>2</th>\n",
       "      <td>chr1H</td>\n",
       "      <td>pgsb</td>\n",
       "      <td>five_prime_UTR</td>\n",
       "      <td>49526</td>\n",
       "      <td>49582</td>\n",
       "      <td>.</td>\n",
       "      <td>+</td>\n",
       "      <td>.</td>\n",
       "      <td>ID=HORVU.MOREX.r3.1HG0000010.1.five_prime_UTR1</td>\n",
       "    </tr>\n",
       "    <tr>\n",
       "      <th>3</th>\n",
       "      <td>chr1H</td>\n",
       "      <td>pgsb</td>\n",
       "      <td>exon</td>\n",
       "      <td>49526</td>\n",
       "      <td>49772</td>\n",
       "      <td>.</td>\n",
       "      <td>+</td>\n",
       "      <td>.</td>\n",
       "      <td>ID=HORVU.MOREX.r3.1HG0000010.1.exon1</td>\n",
       "    </tr>\n",
       "    <tr>\n",
       "      <th>4</th>\n",
       "      <td>chr1H</td>\n",
       "      <td>pgsb</td>\n",
       "      <td>CDS</td>\n",
       "      <td>49583</td>\n",
       "      <td>49772</td>\n",
       "      <td>.</td>\n",
       "      <td>+</td>\n",
       "      <td>0</td>\n",
       "      <td>ID=HORVU.MOREX.r3.1HG0000010.1.CDS1</td>\n",
       "    </tr>\n",
       "  </tbody>\n",
       "</table>\n",
       "</div>"
      ],
      "text/plain": [
       "     chr source            type  start    end score strand phase  \\\n",
       "0  chr1H   pgsb            gene  49526  50649     .      +     .   \n",
       "1  chr1H   pgsb            mRNA  49526  50649     .      +     .   \n",
       "2  chr1H   pgsb  five_prime_UTR  49526  49582     .      +     .   \n",
       "3  chr1H   pgsb            exon  49526  49772     .      +     .   \n",
       "4  chr1H   pgsb             CDS  49583  49772     .      +     0   \n",
       "\n",
       "                                       attributes  \n",
       "0                    ID=HORVU.MOREX.r3.1HG0000010  \n",
       "1                  ID=HORVU.MOREX.r3.1HG0000010.1  \n",
       "2  ID=HORVU.MOREX.r3.1HG0000010.1.five_prime_UTR1  \n",
       "3            ID=HORVU.MOREX.r3.1HG0000010.1.exon1  \n",
       "4             ID=HORVU.MOREX.r3.1HG0000010.1.CDS1  "
      ]
     },
     "execution_count": 140,
     "metadata": {},
     "output_type": "execute_result"
    }
   ],
   "source": [
    "### --- Transforming the gff3 file to a pandas dataframe to better handle it\n",
    "df_Hv_MorexLC = pd.read_csv('Data/Hv_Morex_nohashtag.pgsb.Jul2020.LC.csv', header=None, names = ['chr', 'source', 'type','start','end','score','strand','phase','attributes'])\n",
    "df_Hv_MorexLC.head()"
   ]
  },
  {
   "cell_type": "code",
   "execution_count": 141,
   "metadata": {},
   "outputs": [
    {
     "data": {
      "text/html": [
       "<div>\n",
       "<style scoped>\n",
       "    .dataframe tbody tr th:only-of-type {\n",
       "        vertical-align: middle;\n",
       "    }\n",
       "\n",
       "    .dataframe tbody tr th {\n",
       "        vertical-align: top;\n",
       "    }\n",
       "\n",
       "    .dataframe thead th {\n",
       "        text-align: right;\n",
       "    }\n",
       "</style>\n",
       "<table border=\"1\" class=\"dataframe\">\n",
       "  <thead>\n",
       "    <tr style=\"text-align: right;\">\n",
       "      <th></th>\n",
       "      <th>chr</th>\n",
       "      <th>source</th>\n",
       "      <th>type</th>\n",
       "      <th>start</th>\n",
       "      <th>end</th>\n",
       "      <th>score</th>\n",
       "      <th>strand</th>\n",
       "      <th>phase</th>\n",
       "      <th>attributes</th>\n",
       "    </tr>\n",
       "  </thead>\n",
       "  <tbody>\n",
       "    <tr>\n",
       "      <th>3</th>\n",
       "      <td>chr1H</td>\n",
       "      <td>pgsb</td>\n",
       "      <td>exon</td>\n",
       "      <td>49526</td>\n",
       "      <td>49772</td>\n",
       "      <td>.</td>\n",
       "      <td>+</td>\n",
       "      <td>.</td>\n",
       "      <td>ID=HORVU.MOREX.r3.1HG0000010.1.exon1</td>\n",
       "    </tr>\n",
       "    <tr>\n",
       "      <th>6</th>\n",
       "      <td>chr1H</td>\n",
       "      <td>pgsb</td>\n",
       "      <td>exon</td>\n",
       "      <td>50195</td>\n",
       "      <td>50649</td>\n",
       "      <td>.</td>\n",
       "      <td>+</td>\n",
       "      <td>.</td>\n",
       "      <td>ID=HORVU.MOREX.r3.1HG0000010.1.exon2</td>\n",
       "    </tr>\n",
       "    <tr>\n",
       "      <th>10</th>\n",
       "      <td>chr1H</td>\n",
       "      <td>pgsb</td>\n",
       "      <td>exon</td>\n",
       "      <td>53979</td>\n",
       "      <td>54323</td>\n",
       "      <td>.</td>\n",
       "      <td>+</td>\n",
       "      <td>.</td>\n",
       "      <td>ID=HORVU.MOREX.r3.1HG0000020.1.exon1</td>\n",
       "    </tr>\n",
       "    <tr>\n",
       "      <th>15</th>\n",
       "      <td>chr1H</td>\n",
       "      <td>pgsb</td>\n",
       "      <td>exon</td>\n",
       "      <td>161529</td>\n",
       "      <td>162712</td>\n",
       "      <td>.</td>\n",
       "      <td>-</td>\n",
       "      <td>.</td>\n",
       "      <td>ID=HORVU.MOREX.r3.1HG0000100.1.exon1</td>\n",
       "    </tr>\n",
       "    <tr>\n",
       "      <th>17</th>\n",
       "      <td>chr1H</td>\n",
       "      <td>pgsb</td>\n",
       "      <td>exon</td>\n",
       "      <td>162818</td>\n",
       "      <td>163068</td>\n",
       "      <td>.</td>\n",
       "      <td>-</td>\n",
       "      <td>.</td>\n",
       "      <td>ID=HORVU.MOREX.r3.1HG0000100.1.exon2</td>\n",
       "    </tr>\n",
       "  </tbody>\n",
       "</table>\n",
       "</div>"
      ],
      "text/plain": [
       "      chr source  type   start     end score strand phase  \\\n",
       "3   chr1H   pgsb  exon   49526   49772     .      +     .   \n",
       "6   chr1H   pgsb  exon   50195   50649     .      +     .   \n",
       "10  chr1H   pgsb  exon   53979   54323     .      +     .   \n",
       "15  chr1H   pgsb  exon  161529  162712     .      -     .   \n",
       "17  chr1H   pgsb  exon  162818  163068     .      -     .   \n",
       "\n",
       "                              attributes  \n",
       "3   ID=HORVU.MOREX.r3.1HG0000010.1.exon1  \n",
       "6   ID=HORVU.MOREX.r3.1HG0000010.1.exon2  \n",
       "10  ID=HORVU.MOREX.r3.1HG0000020.1.exon1  \n",
       "15  ID=HORVU.MOREX.r3.1HG0000100.1.exon1  \n",
       "17  ID=HORVU.MOREX.r3.1HG0000100.1.exon2  "
      ]
     },
     "execution_count": 141,
     "metadata": {},
     "output_type": "execute_result"
    }
   ],
   "source": [
    "### --- Building a separate dataframe containing all exons\n",
    "exon_Hv_MorexLC = df_Hv_MorexLC.loc[df_Hv_MorexLC['type'].isin(['exon'])]\n",
    "exon_Hv_MorexLC.head()"
   ]
  },
  {
   "cell_type": "code",
   "execution_count": 142,
   "metadata": {},
   "outputs": [],
   "source": [
    "### --- Exporting the exon dataframe to a tsv file \n",
    "exon_Hv_MorexLC.to_csv('Data/Hv_MorexLC_exon.tsv',sep='\\t',index=False,header=False)"
   ]
  },
  {
   "cell_type": "code",
   "execution_count": 143,
   "metadata": {
    "scrolled": true
   },
   "outputs": [
    {
     "data": {
      "text/html": [
       "<div>\n",
       "<style scoped>\n",
       "    .dataframe tbody tr th:only-of-type {\n",
       "        vertical-align: middle;\n",
       "    }\n",
       "\n",
       "    .dataframe tbody tr th {\n",
       "        vertical-align: top;\n",
       "    }\n",
       "\n",
       "    .dataframe thead th {\n",
       "        text-align: right;\n",
       "    }\n",
       "</style>\n",
       "<table border=\"1\" class=\"dataframe\">\n",
       "  <thead>\n",
       "    <tr style=\"text-align: right;\">\n",
       "      <th></th>\n",
       "      <th>chr</th>\n",
       "      <th>source</th>\n",
       "      <th>type</th>\n",
       "      <th>start</th>\n",
       "      <th>end</th>\n",
       "      <th>score</th>\n",
       "      <th>strand</th>\n",
       "      <th>phase</th>\n",
       "      <th>attributes</th>\n",
       "    </tr>\n",
       "  </thead>\n",
       "  <tbody>\n",
       "    <tr>\n",
       "      <th>0</th>\n",
       "      <td>chr1H</td>\n",
       "      <td>pgsb</td>\n",
       "      <td>gene</td>\n",
       "      <td>49526</td>\n",
       "      <td>50649</td>\n",
       "      <td>.</td>\n",
       "      <td>+</td>\n",
       "      <td>.</td>\n",
       "      <td>ID=HORVU.MOREX.r3.1HG0000010</td>\n",
       "    </tr>\n",
       "    <tr>\n",
       "      <th>1</th>\n",
       "      <td>chr1H</td>\n",
       "      <td>pgsb</td>\n",
       "      <td>mRNA</td>\n",
       "      <td>49526</td>\n",
       "      <td>50649</td>\n",
       "      <td>.</td>\n",
       "      <td>+</td>\n",
       "      <td>.</td>\n",
       "      <td>ID=HORVU.MOREX.r3.1HG0000010.1</td>\n",
       "    </tr>\n",
       "    <tr>\n",
       "      <th>2</th>\n",
       "      <td>chr1H</td>\n",
       "      <td>pgsb</td>\n",
       "      <td>five_prime_UTR</td>\n",
       "      <td>49526</td>\n",
       "      <td>49582</td>\n",
       "      <td>.</td>\n",
       "      <td>+</td>\n",
       "      <td>.</td>\n",
       "      <td>ID=HORVU.MOREX.r3.1HG0000010.1.five_prime_UTR1</td>\n",
       "    </tr>\n",
       "    <tr>\n",
       "      <th>3</th>\n",
       "      <td>chr1H</td>\n",
       "      <td>pgsb</td>\n",
       "      <td>exon</td>\n",
       "      <td>49526</td>\n",
       "      <td>49772</td>\n",
       "      <td>.</td>\n",
       "      <td>+</td>\n",
       "      <td>.</td>\n",
       "      <td>ID=HORVU.MOREX.r3.1HG0000010.1.exon1</td>\n",
       "    </tr>\n",
       "    <tr>\n",
       "      <th>4</th>\n",
       "      <td>chr1H</td>\n",
       "      <td>pgsb</td>\n",
       "      <td>CDS</td>\n",
       "      <td>49583</td>\n",
       "      <td>49772</td>\n",
       "      <td>.</td>\n",
       "      <td>+</td>\n",
       "      <td>0</td>\n",
       "      <td>ID=HORVU.MOREX.r3.1HG0000010.1.CDS1</td>\n",
       "    </tr>\n",
       "  </tbody>\n",
       "</table>\n",
       "</div>"
      ],
      "text/plain": [
       "     chr source            type  start    end score strand phase  \\\n",
       "0  chr1H   pgsb            gene  49526  50649     .      +     .   \n",
       "1  chr1H   pgsb            mRNA  49526  50649     .      +     .   \n",
       "2  chr1H   pgsb  five_prime_UTR  49526  49582     .      +     .   \n",
       "3  chr1H   pgsb            exon  49526  49772     .      +     .   \n",
       "4  chr1H   pgsb             CDS  49583  49772     .      +     0   \n",
       "\n",
       "                                       attributes  \n",
       "0                    ID=HORVU.MOREX.r3.1HG0000010  \n",
       "1                  ID=HORVU.MOREX.r3.1HG0000010.1  \n",
       "2  ID=HORVU.MOREX.r3.1HG0000010.1.five_prime_UTR1  \n",
       "3            ID=HORVU.MOREX.r3.1HG0000010.1.exon1  \n",
       "4             ID=HORVU.MOREX.r3.1HG0000010.1.CDS1  "
      ]
     },
     "execution_count": 143,
     "metadata": {},
     "output_type": "execute_result"
    }
   ],
   "source": [
    "### --- Keeping in a separated dataframe the forward strands\n",
    "forw_Hv_MorexLC = df_Hv_MorexLC.loc[df_Hv_MorexLC['strand'].isin(['+'])]\n",
    "forw_Hv_MorexLC.head()"
   ]
  },
  {
   "cell_type": "code",
   "execution_count": 144,
   "metadata": {
    "scrolled": true
   },
   "outputs": [
    {
     "data": {
      "text/html": [
       "<div>\n",
       "<style scoped>\n",
       "    .dataframe tbody tr th:only-of-type {\n",
       "        vertical-align: middle;\n",
       "    }\n",
       "\n",
       "    .dataframe tbody tr th {\n",
       "        vertical-align: top;\n",
       "    }\n",
       "\n",
       "    .dataframe thead th {\n",
       "        text-align: right;\n",
       "    }\n",
       "</style>\n",
       "<table border=\"1\" class=\"dataframe\">\n",
       "  <thead>\n",
       "    <tr style=\"text-align: right;\">\n",
       "      <th></th>\n",
       "      <th>chr</th>\n",
       "      <th>source</th>\n",
       "      <th>type</th>\n",
       "      <th>start</th>\n",
       "      <th>end</th>\n",
       "      <th>score</th>\n",
       "      <th>strand</th>\n",
       "      <th>phase</th>\n",
       "      <th>attributes</th>\n",
       "    </tr>\n",
       "  </thead>\n",
       "  <tbody>\n",
       "    <tr>\n",
       "      <th>12</th>\n",
       "      <td>chr1H</td>\n",
       "      <td>pgsb</td>\n",
       "      <td>gene</td>\n",
       "      <td>161529</td>\n",
       "      <td>166657</td>\n",
       "      <td>.</td>\n",
       "      <td>-</td>\n",
       "      <td>.</td>\n",
       "      <td>ID=HORVU.MOREX.r3.1HG0000100</td>\n",
       "    </tr>\n",
       "    <tr>\n",
       "      <th>13</th>\n",
       "      <td>chr1H</td>\n",
       "      <td>pgsb</td>\n",
       "      <td>mRNA</td>\n",
       "      <td>161529</td>\n",
       "      <td>166657</td>\n",
       "      <td>.</td>\n",
       "      <td>-</td>\n",
       "      <td>.</td>\n",
       "      <td>ID=HORVU.MOREX.r3.1HG0000100.1</td>\n",
       "    </tr>\n",
       "    <tr>\n",
       "      <th>14</th>\n",
       "      <td>chr1H</td>\n",
       "      <td>pgsb</td>\n",
       "      <td>three_prime_UTR</td>\n",
       "      <td>161529</td>\n",
       "      <td>161892</td>\n",
       "      <td>.</td>\n",
       "      <td>-</td>\n",
       "      <td>.</td>\n",
       "      <td>ID=HORVU.MOREX.r3.1HG0000100.1.three_prime_UTR1</td>\n",
       "    </tr>\n",
       "    <tr>\n",
       "      <th>15</th>\n",
       "      <td>chr1H</td>\n",
       "      <td>pgsb</td>\n",
       "      <td>exon</td>\n",
       "      <td>161529</td>\n",
       "      <td>162712</td>\n",
       "      <td>.</td>\n",
       "      <td>-</td>\n",
       "      <td>.</td>\n",
       "      <td>ID=HORVU.MOREX.r3.1HG0000100.1.exon1</td>\n",
       "    </tr>\n",
       "    <tr>\n",
       "      <th>16</th>\n",
       "      <td>chr1H</td>\n",
       "      <td>pgsb</td>\n",
       "      <td>CDS</td>\n",
       "      <td>161893</td>\n",
       "      <td>162712</td>\n",
       "      <td>.</td>\n",
       "      <td>-</td>\n",
       "      <td>1</td>\n",
       "      <td>ID=HORVU.MOREX.r3.1HG0000100.1.CDS1</td>\n",
       "    </tr>\n",
       "  </tbody>\n",
       "</table>\n",
       "</div>"
      ],
      "text/plain": [
       "      chr source             type   start     end score strand phase  \\\n",
       "12  chr1H   pgsb             gene  161529  166657     .      -     .   \n",
       "13  chr1H   pgsb             mRNA  161529  166657     .      -     .   \n",
       "14  chr1H   pgsb  three_prime_UTR  161529  161892     .      -     .   \n",
       "15  chr1H   pgsb             exon  161529  162712     .      -     .   \n",
       "16  chr1H   pgsb              CDS  161893  162712     .      -     1   \n",
       "\n",
       "                                         attributes  \n",
       "12                     ID=HORVU.MOREX.r3.1HG0000100  \n",
       "13                   ID=HORVU.MOREX.r3.1HG0000100.1  \n",
       "14  ID=HORVU.MOREX.r3.1HG0000100.1.three_prime_UTR1  \n",
       "15             ID=HORVU.MOREX.r3.1HG0000100.1.exon1  \n",
       "16              ID=HORVU.MOREX.r3.1HG0000100.1.CDS1  "
      ]
     },
     "execution_count": 144,
     "metadata": {},
     "output_type": "execute_result"
    }
   ],
   "source": [
    "### --- Keeping in a separated dataframe the reverse strands\n",
    "rev_Hv_MorexLC = df_Hv_MorexLC.loc[df_Hv_MorexLC['strand'].isin(['-'])]\n",
    "rev_Hv_MorexLC.head()"
   ]
  },
  {
   "cell_type": "code",
   "execution_count": 145,
   "metadata": {},
   "outputs": [
    {
     "data": {
      "text/html": [
       "<div>\n",
       "<style scoped>\n",
       "    .dataframe tbody tr th:only-of-type {\n",
       "        vertical-align: middle;\n",
       "    }\n",
       "\n",
       "    .dataframe tbody tr th {\n",
       "        vertical-align: top;\n",
       "    }\n",
       "\n",
       "    .dataframe thead th {\n",
       "        text-align: right;\n",
       "    }\n",
       "</style>\n",
       "<table border=\"1\" class=\"dataframe\">\n",
       "  <thead>\n",
       "    <tr style=\"text-align: right;\">\n",
       "      <th></th>\n",
       "      <th>chr</th>\n",
       "      <th>source</th>\n",
       "      <th>type</th>\n",
       "      <th>start</th>\n",
       "      <th>end</th>\n",
       "      <th>score</th>\n",
       "      <th>strand</th>\n",
       "      <th>phase</th>\n",
       "      <th>attributes</th>\n",
       "    </tr>\n",
       "  </thead>\n",
       "  <tbody>\n",
       "    <tr>\n",
       "      <th>2</th>\n",
       "      <td>chr1H</td>\n",
       "      <td>pgsb</td>\n",
       "      <td>five_prime_UTR</td>\n",
       "      <td>49526</td>\n",
       "      <td>49582</td>\n",
       "      <td>.</td>\n",
       "      <td>+</td>\n",
       "      <td>.</td>\n",
       "      <td>ID=HORVU.MOREX.r3.1HG0000010.1.five_prime_UTR1</td>\n",
       "    </tr>\n",
       "    <tr>\n",
       "      <th>7</th>\n",
       "      <td>chr1H</td>\n",
       "      <td>pgsb</td>\n",
       "      <td>three_prime_UTR</td>\n",
       "      <td>50428</td>\n",
       "      <td>50649</td>\n",
       "      <td>.</td>\n",
       "      <td>+</td>\n",
       "      <td>.</td>\n",
       "      <td>ID=HORVU.MOREX.r3.1HG0000010.1.three_prime_UTR2</td>\n",
       "    </tr>\n",
       "    <tr>\n",
       "      <th>693</th>\n",
       "      <td>chr1H</td>\n",
       "      <td>pgsb</td>\n",
       "      <td>five_prime_UTR</td>\n",
       "      <td>7942206</td>\n",
       "      <td>7942870</td>\n",
       "      <td>.</td>\n",
       "      <td>+</td>\n",
       "      <td>.</td>\n",
       "      <td>ID=HORVU.MOREX.r3.1HG0003730.1.five_prime_UTR1</td>\n",
       "    </tr>\n",
       "    <tr>\n",
       "      <th>1826</th>\n",
       "      <td>chr1H</td>\n",
       "      <td>pgsb</td>\n",
       "      <td>three_prime_UTR</td>\n",
       "      <td>16128825</td>\n",
       "      <td>16128956</td>\n",
       "      <td>.</td>\n",
       "      <td>+</td>\n",
       "      <td>.</td>\n",
       "      <td>ID=HORVU.MOREX.r3.1HG0007720.1.three_prime_UTR1</td>\n",
       "    </tr>\n",
       "    <tr>\n",
       "      <th>2009</th>\n",
       "      <td>chr1H</td>\n",
       "      <td>pgsb</td>\n",
       "      <td>five_prime_UTR</td>\n",
       "      <td>17860934</td>\n",
       "      <td>17860983</td>\n",
       "      <td>.</td>\n",
       "      <td>+</td>\n",
       "      <td>.</td>\n",
       "      <td>ID=HORVU.MOREX.r3.1HG0008240.1.five_prime_UTR1</td>\n",
       "    </tr>\n",
       "  </tbody>\n",
       "</table>\n",
       "</div>"
      ],
      "text/plain": [
       "        chr source             type     start       end score strand phase  \\\n",
       "2     chr1H   pgsb   five_prime_UTR     49526     49582     .      +     .   \n",
       "7     chr1H   pgsb  three_prime_UTR     50428     50649     .      +     .   \n",
       "693   chr1H   pgsb   five_prime_UTR   7942206   7942870     .      +     .   \n",
       "1826  chr1H   pgsb  three_prime_UTR  16128825  16128956     .      +     .   \n",
       "2009  chr1H   pgsb   five_prime_UTR  17860934  17860983     .      +     .   \n",
       "\n",
       "                                           attributes  \n",
       "2      ID=HORVU.MOREX.r3.1HG0000010.1.five_prime_UTR1  \n",
       "7     ID=HORVU.MOREX.r3.1HG0000010.1.three_prime_UTR2  \n",
       "693    ID=HORVU.MOREX.r3.1HG0003730.1.five_prime_UTR1  \n",
       "1826  ID=HORVU.MOREX.r3.1HG0007720.1.three_prime_UTR1  \n",
       "2009   ID=HORVU.MOREX.r3.1HG0008240.1.five_prime_UTR1  "
      ]
     },
     "execution_count": 145,
     "metadata": {},
     "output_type": "execute_result"
    }
   ],
   "source": [
    "### --- Keeping in a separated dataframe the UTR regions on the forward strands\n",
    "UTR_forw_Hv_MorexLC = forw_Hv_MorexLC.loc[df_Hv_MorexLC['type'].isin(['three_prime_UTR','five_prime_UTR'])]\n",
    "UTR_forw_Hv_MorexLC.head()"
   ]
  },
  {
   "cell_type": "code",
   "execution_count": 146,
   "metadata": {},
   "outputs": [],
   "source": [
    "### --- Writing to a tsv formatted file the UTR_df_forw dataframe\n",
    "UTR_forw_Hv_MorexLC.to_csv('Data/Hv_MorexLC_UTRforw.tsv',sep='\\t',index=False,header=False)"
   ]
  },
  {
   "cell_type": "code",
   "execution_count": 147,
   "metadata": {
    "scrolled": true
   },
   "outputs": [
    {
     "data": {
      "text/html": [
       "<div>\n",
       "<style scoped>\n",
       "    .dataframe tbody tr th:only-of-type {\n",
       "        vertical-align: middle;\n",
       "    }\n",
       "\n",
       "    .dataframe tbody tr th {\n",
       "        vertical-align: top;\n",
       "    }\n",
       "\n",
       "    .dataframe thead th {\n",
       "        text-align: right;\n",
       "    }\n",
       "</style>\n",
       "<table border=\"1\" class=\"dataframe\">\n",
       "  <thead>\n",
       "    <tr style=\"text-align: right;\">\n",
       "      <th></th>\n",
       "      <th>chr</th>\n",
       "      <th>source</th>\n",
       "      <th>type</th>\n",
       "      <th>start</th>\n",
       "      <th>end</th>\n",
       "      <th>score</th>\n",
       "      <th>strand</th>\n",
       "      <th>phase</th>\n",
       "      <th>attributes</th>\n",
       "    </tr>\n",
       "  </thead>\n",
       "  <tbody>\n",
       "    <tr>\n",
       "      <th>14</th>\n",
       "      <td>chr1H</td>\n",
       "      <td>pgsb</td>\n",
       "      <td>three_prime_UTR</td>\n",
       "      <td>161529</td>\n",
       "      <td>161892</td>\n",
       "      <td>.</td>\n",
       "      <td>-</td>\n",
       "      <td>.</td>\n",
       "      <td>ID=HORVU.MOREX.r3.1HG0000100.1.three_prime_UTR1</td>\n",
       "    </tr>\n",
       "    <tr>\n",
       "      <th>23</th>\n",
       "      <td>chr1H</td>\n",
       "      <td>pgsb</td>\n",
       "      <td>five_prime_UTR</td>\n",
       "      <td>166559</td>\n",
       "      <td>166657</td>\n",
       "      <td>.</td>\n",
       "      <td>-</td>\n",
       "      <td>.</td>\n",
       "      <td>ID=HORVU.MOREX.r3.1HG0000100.1.five_prime_UTR2</td>\n",
       "    </tr>\n",
       "    <tr>\n",
       "      <th>496</th>\n",
       "      <td>chr1H</td>\n",
       "      <td>pgsb</td>\n",
       "      <td>three_prime_UTR</td>\n",
       "      <td>5367715</td>\n",
       "      <td>5367998</td>\n",
       "      <td>.</td>\n",
       "      <td>-</td>\n",
       "      <td>.</td>\n",
       "      <td>ID=HORVU.MOREX.r3.1HG0002620.1.three_prime_UTR1</td>\n",
       "    </tr>\n",
       "    <tr>\n",
       "      <th>500</th>\n",
       "      <td>chr1H</td>\n",
       "      <td>pgsb</td>\n",
       "      <td>five_prime_UTR</td>\n",
       "      <td>5370295</td>\n",
       "      <td>5370423</td>\n",
       "      <td>.</td>\n",
       "      <td>-</td>\n",
       "      <td>.</td>\n",
       "      <td>ID=HORVU.MOREX.r3.1HG0002620.1.five_prime_UTR2</td>\n",
       "    </tr>\n",
       "    <tr>\n",
       "      <th>704</th>\n",
       "      <td>chr1H</td>\n",
       "      <td>pgsb</td>\n",
       "      <td>five_prime_UTR</td>\n",
       "      <td>7998340</td>\n",
       "      <td>7998963</td>\n",
       "      <td>.</td>\n",
       "      <td>-</td>\n",
       "      <td>.</td>\n",
       "      <td>ID=HORVU.MOREX.r3.1HG0003750.1.five_prime_UTR1</td>\n",
       "    </tr>\n",
       "  </tbody>\n",
       "</table>\n",
       "</div>"
      ],
      "text/plain": [
       "       chr source             type    start      end score strand phase  \\\n",
       "14   chr1H   pgsb  three_prime_UTR   161529   161892     .      -     .   \n",
       "23   chr1H   pgsb   five_prime_UTR   166559   166657     .      -     .   \n",
       "496  chr1H   pgsb  three_prime_UTR  5367715  5367998     .      -     .   \n",
       "500  chr1H   pgsb   five_prime_UTR  5370295  5370423     .      -     .   \n",
       "704  chr1H   pgsb   five_prime_UTR  7998340  7998963     .      -     .   \n",
       "\n",
       "                                          attributes  \n",
       "14   ID=HORVU.MOREX.r3.1HG0000100.1.three_prime_UTR1  \n",
       "23    ID=HORVU.MOREX.r3.1HG0000100.1.five_prime_UTR2  \n",
       "496  ID=HORVU.MOREX.r3.1HG0002620.1.three_prime_UTR1  \n",
       "500   ID=HORVU.MOREX.r3.1HG0002620.1.five_prime_UTR2  \n",
       "704   ID=HORVU.MOREX.r3.1HG0003750.1.five_prime_UTR1  "
      ]
     },
     "execution_count": 147,
     "metadata": {},
     "output_type": "execute_result"
    }
   ],
   "source": [
    "### --- Keeping in a separated dataframe the UTR regions on the reverse strands\n",
    "UTR_rev_Hv_MorexLC = rev_Hv_MorexLC.loc[df_Hv_MorexLC['type'].isin(['three_prime_UTR','five_prime_UTR'])]\n",
    "UTR_rev_Hv_MorexLC.head()"
   ]
  },
  {
   "cell_type": "code",
   "execution_count": 148,
   "metadata": {},
   "outputs": [],
   "source": [
    "### --- Writing to a tsv formatted file the UTR_df_rev dataframe\n",
    "UTR_rev_Hv_MorexLC.to_csv('Data/Hv_MorexLC_UTRrev.tsv',sep='\\t',index=False,header=False)"
   ]
  },
  {
   "cell_type": "markdown",
   "metadata": {},
   "source": [
    "### 2.2.3 Extracting introns from the whole genome"
   ]
  },
  {
   "cell_type": "code",
   "execution_count": 149,
   "metadata": {},
   "outputs": [],
   "source": [
    "### --- Extracting introns from Hv_MorexLC\n",
    "extract_tot_introns('Data/Hv_MorexLC_exon.tsv', 'Output/Hv_MorexLC_introns.tsv')"
   ]
  },
  {
   "cell_type": "code",
   "execution_count": 150,
   "metadata": {
    "scrolled": true
   },
   "outputs": [
    {
     "data": {
      "text/html": [
       "<div>\n",
       "<style scoped>\n",
       "    .dataframe tbody tr th:only-of-type {\n",
       "        vertical-align: middle;\n",
       "    }\n",
       "\n",
       "    .dataframe tbody tr th {\n",
       "        vertical-align: top;\n",
       "    }\n",
       "\n",
       "    .dataframe thead th {\n",
       "        text-align: right;\n",
       "    }\n",
       "</style>\n",
       "<table border=\"1\" class=\"dataframe\">\n",
       "  <thead>\n",
       "    <tr style=\"text-align: right;\">\n",
       "      <th></th>\n",
       "      <th>ID</th>\n",
       "      <th>type</th>\n",
       "      <th>start</th>\n",
       "      <th>end</th>\n",
       "      <th>length</th>\n",
       "    </tr>\n",
       "  </thead>\n",
       "  <tbody>\n",
       "    <tr>\n",
       "      <th>0</th>\n",
       "      <td>ID=HORVU.MOREX.r3.1HG0000010.1</td>\n",
       "      <td>intron</td>\n",
       "      <td>49773</td>\n",
       "      <td>50194</td>\n",
       "      <td>423</td>\n",
       "    </tr>\n",
       "    <tr>\n",
       "      <th>1</th>\n",
       "      <td>ID=HORVU.MOREX.r3.1HG0000100.1</td>\n",
       "      <td>intron</td>\n",
       "      <td>162713</td>\n",
       "      <td>162817</td>\n",
       "      <td>106</td>\n",
       "    </tr>\n",
       "    <tr>\n",
       "      <th>2</th>\n",
       "      <td>ID=HORVU.MOREX.r3.1HG0000100.1</td>\n",
       "      <td>intron</td>\n",
       "      <td>163069</td>\n",
       "      <td>163164</td>\n",
       "      <td>97</td>\n",
       "    </tr>\n",
       "    <tr>\n",
       "      <th>3</th>\n",
       "      <td>ID=HORVU.MOREX.r3.1HG0000100.1</td>\n",
       "      <td>intron</td>\n",
       "      <td>163386</td>\n",
       "      <td>166230</td>\n",
       "      <td>2846</td>\n",
       "    </tr>\n",
       "    <tr>\n",
       "      <th>4</th>\n",
       "      <td>ID=HORVU.MOREX.r3.1HG0000120.1</td>\n",
       "      <td>intron</td>\n",
       "      <td>190996</td>\n",
       "      <td>191280</td>\n",
       "      <td>286</td>\n",
       "    </tr>\n",
       "    <tr>\n",
       "      <th>...</th>\n",
       "      <td>...</td>\n",
       "      <td>...</td>\n",
       "      <td>...</td>\n",
       "      <td>...</td>\n",
       "      <td>...</td>\n",
       "    </tr>\n",
       "    <tr>\n",
       "      <th>95</th>\n",
       "      <td>ID=HORVU.MOREX.r3.1HG0004090.1</td>\n",
       "      <td>intron</td>\n",
       "      <td>8818290</td>\n",
       "      <td>8818371</td>\n",
       "      <td>83</td>\n",
       "    </tr>\n",
       "    <tr>\n",
       "      <th>96</th>\n",
       "      <td>ID=HORVU.MOREX.r3.1HG0004090.1</td>\n",
       "      <td>intron</td>\n",
       "      <td>8818465</td>\n",
       "      <td>8818552</td>\n",
       "      <td>89</td>\n",
       "    </tr>\n",
       "    <tr>\n",
       "      <th>97</th>\n",
       "      <td>ID=HORVU.MOREX.r3.1HG0004090.1</td>\n",
       "      <td>intron</td>\n",
       "      <td>8818763</td>\n",
       "      <td>8818850</td>\n",
       "      <td>89</td>\n",
       "    </tr>\n",
       "    <tr>\n",
       "      <th>98</th>\n",
       "      <td>ID=HORVU.MOREX.r3.1HG0004090.1</td>\n",
       "      <td>intron</td>\n",
       "      <td>8819105</td>\n",
       "      <td>8819191</td>\n",
       "      <td>88</td>\n",
       "    </tr>\n",
       "    <tr>\n",
       "      <th>99</th>\n",
       "      <td>ID=HORVU.MOREX.r3.1HG0004170.1</td>\n",
       "      <td>intron</td>\n",
       "      <td>8917167</td>\n",
       "      <td>8917458</td>\n",
       "      <td>293</td>\n",
       "    </tr>\n",
       "  </tbody>\n",
       "</table>\n",
       "<p>100 rows × 5 columns</p>\n",
       "</div>"
      ],
      "text/plain": [
       "                                ID     type    start      end  length\n",
       "0   ID=HORVU.MOREX.r3.1HG0000010.1  intron     49773    50194     423\n",
       "1   ID=HORVU.MOREX.r3.1HG0000100.1  intron    162713   162817     106\n",
       "2   ID=HORVU.MOREX.r3.1HG0000100.1  intron    163069   163164      97\n",
       "3   ID=HORVU.MOREX.r3.1HG0000100.1  intron    163386   166230    2846\n",
       "4   ID=HORVU.MOREX.r3.1HG0000120.1  intron    190996   191280     286\n",
       "..                             ...      ...      ...      ...     ...\n",
       "95  ID=HORVU.MOREX.r3.1HG0004090.1  intron   8818290  8818371      83\n",
       "96  ID=HORVU.MOREX.r3.1HG0004090.1  intron   8818465  8818552      89\n",
       "97  ID=HORVU.MOREX.r3.1HG0004090.1  intron   8818763  8818850      89\n",
       "98  ID=HORVU.MOREX.r3.1HG0004090.1  intron   8819105  8819191      88\n",
       "99  ID=HORVU.MOREX.r3.1HG0004170.1  intron   8917167  8917458     293\n",
       "\n",
       "[100 rows x 5 columns]"
      ]
     },
     "execution_count": 150,
     "metadata": {},
     "output_type": "execute_result"
    }
   ],
   "source": [
    "introns_Hv_MorexLC = pd.read_csv('Output/Hv_MorexLC_introns.tsv', sep = '\\t')\n",
    "introns_Hv_MorexLC[:100]"
   ]
  },
  {
   "cell_type": "code",
   "execution_count": 151,
   "metadata": {},
   "outputs": [],
   "source": [
    "### --- Counting introns type in Hv_MorexHC\n",
    "introns_dictionary_Hv_MorexLC = counting_introns_type(exon_Hv_MorexLC)"
   ]
  },
  {
   "cell_type": "code",
   "execution_count": 152,
   "metadata": {},
   "outputs": [
    {
     "name": "stdout",
     "output_type": "stream",
     "text": [
      "Intronless are: 34638\n",
      "Intronpoor are: 9345\n",
      "Intronrich are: 1877\n"
     ]
    }
   ],
   "source": [
    "n_intronless_Hv_MorexLC, n_intronpoor_Hv_MorexLC, n_intronrich_Hv_MorexLC, intronless_Hv_MorexLC, intronpoor_Hv_MorexLC, intronrich_Hv_MorexLC = splitting_introns_type(introns_dictionary_Hv_MorexLC)"
   ]
  },
  {
   "cell_type": "code",
   "execution_count": 156,
   "metadata": {},
   "outputs": [
    {
     "data": {
      "image/png": "[encoded data removed]",
      "text/plain": [
       "<Figure size 720x504 with 1 Axes>"
      ]
     },
     "metadata": {},
     "output_type": "display_data"
    }
   ],
   "source": [
    "data_Hv_MorexLC = [34638, 9345, 1877]\n",
    "fig = plt.figure(figsize =(10, 7))\n",
    "plt.pie(data_Hv_MorexLC, labels = genes, autopct='%1.0f%%')\n",
    "plt.title(\"Genes Hv_MorexLC Distribution\", bbox={'facecolor':'0.8', 'pad':5})\n",
    "plt.show()"
   ]
  },
  {
   "cell_type": "code",
   "execution_count": 160,
   "metadata": {},
   "outputs": [],
   "source": [
    "### --- Creating the list of Hv_MorexLC gene IDs to check the number of transcripts using command line\n",
    "intronless_file_Hv_Morex_LC = open('Output/Hv_MorexLC_intronlessIDs.txt', 'a')\n",
    "intronpoor_file_Hv_Morex_LC = open('Output/Hv_MorexLC_intronpoorIDs.txt', 'a')\n",
    "intronrich_file_Hv_Morex_LC = open('Output/Hv_MorexLC_intronrichIDs.txt', 'a')\n",
    "for i in range(len(intronless_Hv_MorexLC)):\n",
    "    if i == len(intronless_Hv_MorexLC) -1:\n",
    "        intronless_file_Hv_Morex_LC.write(intronless_Hv_MorexLC[i])\n",
    "    else:\n",
    "        intronless_file_Hv_Morex_LC.write(intronless_Hv_MorexLC[i] + '\\n')\n",
    "intronless_file_Hv_Morex_LC.close()\n",
    "\n",
    "for i in range(len(intronpoor_Hv_MorexLC)):\n",
    "    if i == len(intronpoor_Hv_MorexLC) -1:\n",
    "        intronpoor_file_Hv_Morex_LC.write(intronpoor_Hv_MorexLC[i])\n",
    "    else:\n",
    "        intronpoor_file_Hv_Morex_LC.write(intronpoor_Hv_MorexLC[i] + '\\n')\n",
    "intronpoor_file_Hv_Morex_LC.close()\n",
    "\n",
    "for i in range(len(intronrich_Hv_MorexLC)):\n",
    "    if i == len(intronrich_Hv_MorexLC) -1:\n",
    "        intronrich_file_Hv_Morex_LC.write(intronrich_Hv_MorexLC[i])\n",
    "    else:\n",
    "        intronrich_file_Hv_Morex_LC.write(intronrich_Hv_MorexLC[i]+'\\n')\n",
    "intronrich_file_Hv_Morex_LC.close()\n"
   ]
  },
  {
   "cell_type": "code",
   "execution_count": 161,
   "metadata": {},
   "outputs": [],
   "source": [
    "### --- Storing the number of transcripts in intron-less/poor/rich genes within a variable \n",
    "n_mRNA_intronless_Hv_MorexLC = ! grep -f Output/Hv_MorexLC_intronlessIDs.txt Data/Hv_Morex_nohashtag.pgsb.Jul2020.LC.gff3 | awk -F '\\t' '{print $3}' | grep -w 'mRNA' | wc -l\n",
    "n_mRNA_intronpoor_Hv_MorexLC = ! grep -f Output/Hv_MorexLC_intronpoorIDs.txt Data/Hv_Morex_nohashtag.pgsb.Jul2020.LC.gff3 | awk -F '\\t' '{print $3}' | grep -w 'mRNA' | wc -l\n",
    "n_mRNA_intronrich_Hv_MorexLC = ! grep -f Output/Hv_MorexLC_intronrichIDs.txt Data/Hv_Morex_nohashtag.pgsb.Jul2020.LC.gff3 | awk -F '\\t' '{print $3}' | grep -w 'mRNA' | wc -l"
   ]
  },
  {
   "cell_type": "code",
   "execution_count": 162,
   "metadata": {},
   "outputs": [
    {
     "name": "stdout",
     "output_type": "stream",
     "text": [
      "1.0\n",
      "1.000749063670412\n",
      "1.0852424080980287\n"
     ]
    }
   ],
   "source": [
    "### --- Checking the average number of transcripts for each gene-type\n",
    "avg_mRNA_intronless_Hv_MorexLC = int(n_mRNA_intronless_Hv_MorexLC[0])/n_intronless_Hv_MorexLC\n",
    "print(avg_mRNA_intronless_Hv_MorexLC)\n",
    "avg_mRNA_intronpoor_Hv_MorexLC = int(n_mRNA_intronpoor_Hv_MorexLC[0])/n_intronpoor_Hv_MorexLC\n",
    "print(avg_mRNA_intronpoor_Hv_MorexLC)\n",
    "avg_mRNA_intronrich_Hv_MorexLC = int(n_mRNA_intronrich_Hv_MorexLC[0])/n_intronrich_Hv_MorexLC\n",
    "print(avg_mRNA_intronrich_Hv_MorexLC)"
   ]
  },
  {
   "cell_type": "markdown",
   "metadata": {},
   "source": [
    "### 2.2.4 Extracting introns from UTR regions"
   ]
  },
  {
   "cell_type": "code",
   "execution_count": 163,
   "metadata": {},
   "outputs": [],
   "source": [
    "### --- Extracting introns from UTR forward Hv_MorexLC\n",
    "extract_UTR_introns('Data/Hv_MorexLC_UTRforw.tsv', 'Output/Hv_MorexLC_UTRforw_introns.tsv')"
   ]
  },
  {
   "cell_type": "code",
   "execution_count": 164,
   "metadata": {},
   "outputs": [],
   "source": [
    "### --- Extracting introns from UTR reverse Hv_MorexLC\n",
    "extract_UTR_introns('Data/Hv_MorexLC_UTRrev.tsv', 'Output/Hv_MorexLC_UTRrev_introns.tsv')"
   ]
  },
  {
   "cell_type": "code",
   "execution_count": 165,
   "metadata": {},
   "outputs": [
    {
     "data": {
      "text/html": [
       "<div>\n",
       "<style scoped>\n",
       "    .dataframe tbody tr th:only-of-type {\n",
       "        vertical-align: middle;\n",
       "    }\n",
       "\n",
       "    .dataframe tbody tr th {\n",
       "        vertical-align: top;\n",
       "    }\n",
       "\n",
       "    .dataframe thead th {\n",
       "        text-align: right;\n",
       "    }\n",
       "</style>\n",
       "<table border=\"1\" class=\"dataframe\">\n",
       "  <thead>\n",
       "    <tr style=\"text-align: right;\">\n",
       "      <th></th>\n",
       "      <th>ID</th>\n",
       "      <th>type</th>\n",
       "      <th>start</th>\n",
       "      <th>end</th>\n",
       "      <th>length</th>\n",
       "    </tr>\n",
       "  </thead>\n",
       "  <tbody>\n",
       "    <tr>\n",
       "      <th>0</th>\n",
       "      <td>ID=HORVU.MOREX.r3.1HG0013040.1</td>\n",
       "      <td>intron five_prime_UTR</td>\n",
       "      <td>32366793</td>\n",
       "      <td>32368232</td>\n",
       "      <td>1441</td>\n",
       "    </tr>\n",
       "    <tr>\n",
       "      <th>1</th>\n",
       "      <td>ID=HORVU.MOREX.r3.1HG0016180.1</td>\n",
       "      <td>intron five_prime_UTR</td>\n",
       "      <td>46808524</td>\n",
       "      <td>46808624</td>\n",
       "      <td>102</td>\n",
       "    </tr>\n",
       "    <tr>\n",
       "      <th>2</th>\n",
       "      <td>ID=HORVU.MOREX.r3.1HG0033800.1</td>\n",
       "      <td>intron three_prime_UTR</td>\n",
       "      <td>179225709</td>\n",
       "      <td>179226387</td>\n",
       "      <td>680</td>\n",
       "    </tr>\n",
       "    <tr>\n",
       "      <th>3</th>\n",
       "      <td>ID=HORVU.MOREX.r3.1HG0033800.1</td>\n",
       "      <td>intron three_prime_UTR</td>\n",
       "      <td>179226467</td>\n",
       "      <td>179227377</td>\n",
       "      <td>912</td>\n",
       "    </tr>\n",
       "    <tr>\n",
       "      <th>4</th>\n",
       "      <td>ID=HORVU.MOREX.r3.1HG0033820.1</td>\n",
       "      <td>intron three_prime_UTR</td>\n",
       "      <td>179278895</td>\n",
       "      <td>179278985</td>\n",
       "      <td>92</td>\n",
       "    </tr>\n",
       "  </tbody>\n",
       "</table>\n",
       "</div>"
      ],
      "text/plain": [
       "                               ID                    type      start  \\\n",
       "0  ID=HORVU.MOREX.r3.1HG0013040.1   intron five_prime_UTR   32366793   \n",
       "1  ID=HORVU.MOREX.r3.1HG0016180.1   intron five_prime_UTR   46808524   \n",
       "2  ID=HORVU.MOREX.r3.1HG0033800.1  intron three_prime_UTR  179225709   \n",
       "3  ID=HORVU.MOREX.r3.1HG0033800.1  intron three_prime_UTR  179226467   \n",
       "4  ID=HORVU.MOREX.r3.1HG0033820.1  intron three_prime_UTR  179278895   \n",
       "\n",
       "         end  length  \n",
       "0   32368232    1441  \n",
       "1   46808624     102  \n",
       "2  179226387     680  \n",
       "3  179227377     912  \n",
       "4  179278985      92  "
      ]
     },
     "execution_count": 165,
     "metadata": {},
     "output_type": "execute_result"
    }
   ],
   "source": [
    "introns_UTR_forw_Hv_MorexLC = pd.read_csv('Output/Hv_MorexLC_UTRforw_introns.tsv', sep='\\t')\n",
    "introns_UTR_forw_Hv_MorexLC.head()"
   ]
  },
  {
   "cell_type": "code",
   "execution_count": 166,
   "metadata": {
    "scrolled": true
   },
   "outputs": [
    {
     "data": {
      "text/html": [
       "<div>\n",
       "<style scoped>\n",
       "    .dataframe tbody tr th:only-of-type {\n",
       "        vertical-align: middle;\n",
       "    }\n",
       "\n",
       "    .dataframe tbody tr th {\n",
       "        vertical-align: top;\n",
       "    }\n",
       "\n",
       "    .dataframe thead th {\n",
       "        text-align: right;\n",
       "    }\n",
       "</style>\n",
       "<table border=\"1\" class=\"dataframe\">\n",
       "  <thead>\n",
       "    <tr style=\"text-align: right;\">\n",
       "      <th></th>\n",
       "      <th>ID</th>\n",
       "      <th>type</th>\n",
       "      <th>start</th>\n",
       "      <th>end</th>\n",
       "      <th>length</th>\n",
       "    </tr>\n",
       "  </thead>\n",
       "  <tbody>\n",
       "    <tr>\n",
       "      <th>0</th>\n",
       "      <td>ID=HORVU.MOREX.r3.1HG0014180.1</td>\n",
       "      <td>intron five_prime_UTR</td>\n",
       "      <td>36894157</td>\n",
       "      <td>36894895</td>\n",
       "      <td>740</td>\n",
       "    </tr>\n",
       "    <tr>\n",
       "      <th>1</th>\n",
       "      <td>ID=HORVU.MOREX.r3.1HG0014180.2</td>\n",
       "      <td>intron five_prime_UTR</td>\n",
       "      <td>36894157</td>\n",
       "      <td>36894774</td>\n",
       "      <td>619</td>\n",
       "    </tr>\n",
       "    <tr>\n",
       "      <th>2</th>\n",
       "      <td>ID=HORVU.MOREX.r3.1HG0016500.1</td>\n",
       "      <td>intron three_prime_UTR</td>\n",
       "      <td>48532571</td>\n",
       "      <td>48532662</td>\n",
       "      <td>93</td>\n",
       "    </tr>\n",
       "    <tr>\n",
       "      <th>3</th>\n",
       "      <td>ID=HORVU.MOREX.r3.1HG0016500.1</td>\n",
       "      <td>intron three_prime_UTR</td>\n",
       "      <td>48532748</td>\n",
       "      <td>48533976</td>\n",
       "      <td>1230</td>\n",
       "    </tr>\n",
       "    <tr>\n",
       "      <th>4</th>\n",
       "      <td>ID=HORVU.MOREX.r3.1HG0016500.2</td>\n",
       "      <td>intron three_prime_UTR</td>\n",
       "      <td>48530961</td>\n",
       "      <td>48532662</td>\n",
       "      <td>1703</td>\n",
       "    </tr>\n",
       "  </tbody>\n",
       "</table>\n",
       "</div>"
      ],
      "text/plain": [
       "                               ID                    type     start       end  \\\n",
       "0  ID=HORVU.MOREX.r3.1HG0014180.1   intron five_prime_UTR  36894157  36894895   \n",
       "1  ID=HORVU.MOREX.r3.1HG0014180.2   intron five_prime_UTR  36894157  36894774   \n",
       "2  ID=HORVU.MOREX.r3.1HG0016500.1  intron three_prime_UTR  48532571  48532662   \n",
       "3  ID=HORVU.MOREX.r3.1HG0016500.1  intron three_prime_UTR  48532748  48533976   \n",
       "4  ID=HORVU.MOREX.r3.1HG0016500.2  intron three_prime_UTR  48530961  48532662   \n",
       "\n",
       "   length  \n",
       "0     740  \n",
       "1     619  \n",
       "2      93  \n",
       "3    1230  \n",
       "4    1703  "
      ]
     },
     "execution_count": 166,
     "metadata": {},
     "output_type": "execute_result"
    }
   ],
   "source": [
    "introns_UTR_rev_Hv_MorexLC = pd.read_csv('Output/Hv_MorexLC_UTRrev_introns.tsv', sep = '\\t')\n",
    "introns_UTR_rev_Hv_MorexLC.head()"
   ]
  },
  {
   "cell_type": "code",
   "execution_count": 167,
   "metadata": {},
   "outputs": [],
   "source": [
    "### --- Concatenating the UTR_introns to build a unique dataframe\n",
    "frames_Hv_MorexLC = [introns_UTR_forw_Hv_MorexLC, introns_UTR_rev_Hv_MorexLC]\n",
    "introns_UTR_Hv_MorexLC = pd.concat(frames_Hv_MorexLC)"
   ]
  },
  {
   "cell_type": "code",
   "execution_count": 169,
   "metadata": {},
   "outputs": [
    {
     "data": {
      "text/plain": [
       "count      662.000000\n",
       "mean       762.001511\n",
       "std       1953.932847\n",
       "min         60.000000\n",
       "25%        105.250000\n",
       "50%        265.500000\n",
       "75%        844.750000\n",
       "max      30548.000000\n",
       "Name: length, dtype: float64"
      ]
     },
     "execution_count": 169,
     "metadata": {},
     "output_type": "execute_result"
    }
   ],
   "source": [
    "### --- Performing some basic statistics \n",
    "introns_UTR_Hv_MorexLC['length'].describe()"
   ]
  },
  {
   "cell_type": "code",
   "execution_count": 170,
   "metadata": {},
   "outputs": [
    {
     "data": {
      "text/plain": [
       "<AxesSubplot:ylabel='Density'>"
      ]
     },
     "execution_count": 170,
     "metadata": {},
     "output_type": "execute_result"
    },
    {
     "data": {
      "image/png": "[encoded data removed]",
      "text/plain": [
       "<Figure size 1440x1440 with 1 Axes>"
      ]
     },
     "metadata": {
      "needs_background": "light"
     },
     "output_type": "display_data"
    }
   ],
   "source": [
    "### --- Plotting the distribution of UTR introns length\n",
    "introns_UTR_Hv_MorexLC['length'].plot.density()"
   ]
  },
  {
   "cell_type": "code",
   "execution_count": 171,
   "metadata": {
    "scrolled": true
   },
   "outputs": [
    {
     "data": {
      "text/plain": [
       "<AxesSubplot:>"
      ]
     },
     "execution_count": 171,
     "metadata": {},
     "output_type": "execute_result"
    },
    {
     "data": {
      "image/png": "[encoded data removed]",
      "text/plain": [
       "<Figure size 1440x1440 with 1 Axes>"
      ]
     },
     "metadata": {
      "needs_background": "light"
     },
     "output_type": "display_data"
    }
   ],
   "source": [
    "### --- Plotting the boxplot of UTR introns length without outliers\n",
    "introns_UTR_Hv_MorexLC.boxplot(column='length', return_type='axes', showfliers=False) # showfliers = False -> discard outliers"
   ]
  },
  {
   "cell_type": "code",
   "execution_count": 172,
   "metadata": {},
   "outputs": [],
   "source": [
    "### --- splitting in introns 3'UTR and 5'UTR to eventually if there are differences among the two\n",
    "introns_UTR3_Hv_MorexLC = introns_UTR_Hv_MorexLC.loc[introns_UTR_Hv_MorexLC['type'].isin(['intron three_prime_UTR'])]\n",
    "introns_UTR5_Hv_MorexLC = introns_UTR_Hv_MorexLC.loc[introns_UTR_Hv_MorexLC['type'].isin(['intron five_prime_UTR'])]"
   ]
  },
  {
   "cell_type": "code",
   "execution_count": 173,
   "metadata": {},
   "outputs": [
    {
     "data": {
      "text/html": [
       "<div>\n",
       "<style scoped>\n",
       "    .dataframe tbody tr th:only-of-type {\n",
       "        vertical-align: middle;\n",
       "    }\n",
       "\n",
       "    .dataframe tbody tr th {\n",
       "        vertical-align: top;\n",
       "    }\n",
       "\n",
       "    .dataframe thead th {\n",
       "        text-align: right;\n",
       "    }\n",
       "</style>\n",
       "<table border=\"1\" class=\"dataframe\">\n",
       "  <thead>\n",
       "    <tr style=\"text-align: right;\">\n",
       "      <th></th>\n",
       "      <th>ID</th>\n",
       "      <th>type</th>\n",
       "      <th>start</th>\n",
       "      <th>end</th>\n",
       "      <th>length</th>\n",
       "    </tr>\n",
       "  </thead>\n",
       "  <tbody>\n",
       "    <tr>\n",
       "      <th>2</th>\n",
       "      <td>ID=HORVU.MOREX.r3.1HG0033800.1</td>\n",
       "      <td>intron three_prime_UTR</td>\n",
       "      <td>179225709</td>\n",
       "      <td>179226387</td>\n",
       "      <td>680</td>\n",
       "    </tr>\n",
       "    <tr>\n",
       "      <th>3</th>\n",
       "      <td>ID=HORVU.MOREX.r3.1HG0033800.1</td>\n",
       "      <td>intron three_prime_UTR</td>\n",
       "      <td>179226467</td>\n",
       "      <td>179227377</td>\n",
       "      <td>912</td>\n",
       "    </tr>\n",
       "    <tr>\n",
       "      <th>4</th>\n",
       "      <td>ID=HORVU.MOREX.r3.1HG0033820.1</td>\n",
       "      <td>intron three_prime_UTR</td>\n",
       "      <td>179278895</td>\n",
       "      <td>179278985</td>\n",
       "      <td>92</td>\n",
       "    </tr>\n",
       "    <tr>\n",
       "      <th>8</th>\n",
       "      <td>ID=HORVU.MOREX.r3.1HG0040200.1</td>\n",
       "      <td>intron three_prime_UTR</td>\n",
       "      <td>254273004</td>\n",
       "      <td>254273075</td>\n",
       "      <td>73</td>\n",
       "    </tr>\n",
       "    <tr>\n",
       "      <th>9</th>\n",
       "      <td>ID=HORVU.MOREX.r3.1HG0040200.1</td>\n",
       "      <td>intron three_prime_UTR</td>\n",
       "      <td>254273172</td>\n",
       "      <td>254273252</td>\n",
       "      <td>82</td>\n",
       "    </tr>\n",
       "    <tr>\n",
       "      <th>...</th>\n",
       "      <td>...</td>\n",
       "      <td>...</td>\n",
       "      <td>...</td>\n",
       "      <td>...</td>\n",
       "      <td>...</td>\n",
       "    </tr>\n",
       "    <tr>\n",
       "      <th>256</th>\n",
       "      <td>ID=HORVU.MOREX.r3.7HG0686700.4</td>\n",
       "      <td>intron three_prime_UTR</td>\n",
       "      <td>225674132</td>\n",
       "      <td>225674643</td>\n",
       "      <td>513</td>\n",
       "    </tr>\n",
       "    <tr>\n",
       "      <th>260</th>\n",
       "      <td>ID=HORVU.MOREX.r3.7HG0690620.1</td>\n",
       "      <td>intron three_prime_UTR</td>\n",
       "      <td>264611386</td>\n",
       "      <td>264612013</td>\n",
       "      <td>629</td>\n",
       "    </tr>\n",
       "    <tr>\n",
       "      <th>261</th>\n",
       "      <td>ID=HORVU.MOREX.r3.7HG0693690.1</td>\n",
       "      <td>intron three_prime_UTR</td>\n",
       "      <td>306366598</td>\n",
       "      <td>306367589</td>\n",
       "      <td>993</td>\n",
       "    </tr>\n",
       "    <tr>\n",
       "      <th>264</th>\n",
       "      <td>ID=HORVU.MOREX.r3.7HG0697870.1</td>\n",
       "      <td>intron three_prime_UTR</td>\n",
       "      <td>360535445</td>\n",
       "      <td>360536998</td>\n",
       "      <td>1555</td>\n",
       "    </tr>\n",
       "    <tr>\n",
       "      <th>267</th>\n",
       "      <td>ID=HORVU.MOREX.r3.7HG0711160.1</td>\n",
       "      <td>intron three_prime_UTR</td>\n",
       "      <td>469702088</td>\n",
       "      <td>469704059</td>\n",
       "      <td>1973</td>\n",
       "    </tr>\n",
       "  </tbody>\n",
       "</table>\n",
       "<p>380 rows × 5 columns</p>\n",
       "</div>"
      ],
      "text/plain": [
       "                                 ID                    type      start  \\\n",
       "2    ID=HORVU.MOREX.r3.1HG0033800.1  intron three_prime_UTR  179225709   \n",
       "3    ID=HORVU.MOREX.r3.1HG0033800.1  intron three_prime_UTR  179226467   \n",
       "4    ID=HORVU.MOREX.r3.1HG0033820.1  intron three_prime_UTR  179278895   \n",
       "8    ID=HORVU.MOREX.r3.1HG0040200.1  intron three_prime_UTR  254273004   \n",
       "9    ID=HORVU.MOREX.r3.1HG0040200.1  intron three_prime_UTR  254273172   \n",
       "..                              ...                     ...        ...   \n",
       "256  ID=HORVU.MOREX.r3.7HG0686700.4  intron three_prime_UTR  225674132   \n",
       "260  ID=HORVU.MOREX.r3.7HG0690620.1  intron three_prime_UTR  264611386   \n",
       "261  ID=HORVU.MOREX.r3.7HG0693690.1  intron three_prime_UTR  306366598   \n",
       "264  ID=HORVU.MOREX.r3.7HG0697870.1  intron three_prime_UTR  360535445   \n",
       "267  ID=HORVU.MOREX.r3.7HG0711160.1  intron three_prime_UTR  469702088   \n",
       "\n",
       "           end  length  \n",
       "2    179226387     680  \n",
       "3    179227377     912  \n",
       "4    179278985      92  \n",
       "8    254273075      73  \n",
       "9    254273252      82  \n",
       "..         ...     ...  \n",
       "256  225674643     513  \n",
       "260  264612013     629  \n",
       "261  306367589     993  \n",
       "264  360536998    1555  \n",
       "267  469704059    1973  \n",
       "\n",
       "[380 rows x 5 columns]"
      ]
     },
     "execution_count": 173,
     "metadata": {},
     "output_type": "execute_result"
    }
   ],
   "source": [
    "introns_UTR3_Hv_MorexLC"
   ]
  },
  {
   "cell_type": "code",
   "execution_count": 176,
   "metadata": {},
   "outputs": [
    {
     "data": {
      "text/plain": [
       "count      380.000000\n",
       "mean       822.815789\n",
       "std       2185.413050\n",
       "min         64.000000\n",
       "25%        105.000000\n",
       "50%        298.000000\n",
       "75%        844.250000\n",
       "max      30548.000000\n",
       "Name: length, dtype: float64"
      ]
     },
     "execution_count": 176,
     "metadata": {},
     "output_type": "execute_result"
    }
   ],
   "source": [
    "introns_UTR3_Hv_MorexLC['length'].describe()"
   ]
  },
  {
   "cell_type": "code",
   "execution_count": 174,
   "metadata": {},
   "outputs": [
    {
     "data": {
      "text/html": [
       "<div>\n",
       "<style scoped>\n",
       "    .dataframe tbody tr th:only-of-type {\n",
       "        vertical-align: middle;\n",
       "    }\n",
       "\n",
       "    .dataframe tbody tr th {\n",
       "        vertical-align: top;\n",
       "    }\n",
       "\n",
       "    .dataframe thead th {\n",
       "        text-align: right;\n",
       "    }\n",
       "</style>\n",
       "<table border=\"1\" class=\"dataframe\">\n",
       "  <thead>\n",
       "    <tr style=\"text-align: right;\">\n",
       "      <th></th>\n",
       "      <th>ID</th>\n",
       "      <th>type</th>\n",
       "      <th>start</th>\n",
       "      <th>end</th>\n",
       "      <th>length</th>\n",
       "    </tr>\n",
       "  </thead>\n",
       "  <tbody>\n",
       "    <tr>\n",
       "      <th>0</th>\n",
       "      <td>ID=HORVU.MOREX.r3.1HG0013040.1</td>\n",
       "      <td>intron five_prime_UTR</td>\n",
       "      <td>32366793</td>\n",
       "      <td>32368232</td>\n",
       "      <td>1441</td>\n",
       "    </tr>\n",
       "    <tr>\n",
       "      <th>1</th>\n",
       "      <td>ID=HORVU.MOREX.r3.1HG0016180.1</td>\n",
       "      <td>intron five_prime_UTR</td>\n",
       "      <td>46808524</td>\n",
       "      <td>46808624</td>\n",
       "      <td>102</td>\n",
       "    </tr>\n",
       "    <tr>\n",
       "      <th>5</th>\n",
       "      <td>ID=HORVU.MOREX.r3.1HG0036900.1</td>\n",
       "      <td>intron five_prime_UTR</td>\n",
       "      <td>220266901</td>\n",
       "      <td>220267015</td>\n",
       "      <td>116</td>\n",
       "    </tr>\n",
       "    <tr>\n",
       "      <th>6</th>\n",
       "      <td>ID=HORVU.MOREX.r3.1HG0036900.1</td>\n",
       "      <td>intron five_prime_UTR</td>\n",
       "      <td>220267198</td>\n",
       "      <td>220267704</td>\n",
       "      <td>508</td>\n",
       "    </tr>\n",
       "    <tr>\n",
       "      <th>7</th>\n",
       "      <td>ID=HORVU.MOREX.r3.1HG0036900.2</td>\n",
       "      <td>intron five_prime_UTR</td>\n",
       "      <td>220266901</td>\n",
       "      <td>220267015</td>\n",
       "      <td>116</td>\n",
       "    </tr>\n",
       "    <tr>\n",
       "      <th>...</th>\n",
       "      <td>...</td>\n",
       "      <td>...</td>\n",
       "      <td>...</td>\n",
       "      <td>...</td>\n",
       "      <td>...</td>\n",
       "    </tr>\n",
       "    <tr>\n",
       "      <th>263</th>\n",
       "      <td>ID=HORVU.MOREX.r3.7HG0695870.1</td>\n",
       "      <td>intron five_prime_UTR</td>\n",
       "      <td>335796573</td>\n",
       "      <td>335796877</td>\n",
       "      <td>306</td>\n",
       "    </tr>\n",
       "    <tr>\n",
       "      <th>265</th>\n",
       "      <td>ID=HORVU.MOREX.r3.7HG0697870.1</td>\n",
       "      <td>intron five_prime_UTR</td>\n",
       "      <td>360537796</td>\n",
       "      <td>360537891</td>\n",
       "      <td>97</td>\n",
       "    </tr>\n",
       "    <tr>\n",
       "      <th>266</th>\n",
       "      <td>ID=HORVU.MOREX.r3.7HG0704470.1</td>\n",
       "      <td>intron five_prime_UTR</td>\n",
       "      <td>422495764</td>\n",
       "      <td>422495886</td>\n",
       "      <td>124</td>\n",
       "    </tr>\n",
       "    <tr>\n",
       "      <th>268</th>\n",
       "      <td>ID=HORVU.MOREX.r3.7HG0717650.1</td>\n",
       "      <td>intron five_prime_UTR</td>\n",
       "      <td>511731957</td>\n",
       "      <td>511732038</td>\n",
       "      <td>83</td>\n",
       "    </tr>\n",
       "    <tr>\n",
       "      <th>269</th>\n",
       "      <td>ID=HORVU.MOREX.r3.7HG0726810.1</td>\n",
       "      <td>intron five_prime_UTR</td>\n",
       "      <td>564148992</td>\n",
       "      <td>564150547</td>\n",
       "      <td>1557</td>\n",
       "    </tr>\n",
       "  </tbody>\n",
       "</table>\n",
       "<p>282 rows × 5 columns</p>\n",
       "</div>"
      ],
      "text/plain": [
       "                                 ID                   type      start  \\\n",
       "0    ID=HORVU.MOREX.r3.1HG0013040.1  intron five_prime_UTR   32366793   \n",
       "1    ID=HORVU.MOREX.r3.1HG0016180.1  intron five_prime_UTR   46808524   \n",
       "5    ID=HORVU.MOREX.r3.1HG0036900.1  intron five_prime_UTR  220266901   \n",
       "6    ID=HORVU.MOREX.r3.1HG0036900.1  intron five_prime_UTR  220267198   \n",
       "7    ID=HORVU.MOREX.r3.1HG0036900.2  intron five_prime_UTR  220266901   \n",
       "..                              ...                    ...        ...   \n",
       "263  ID=HORVU.MOREX.r3.7HG0695870.1  intron five_prime_UTR  335796573   \n",
       "265  ID=HORVU.MOREX.r3.7HG0697870.1  intron five_prime_UTR  360537796   \n",
       "266  ID=HORVU.MOREX.r3.7HG0704470.1  intron five_prime_UTR  422495764   \n",
       "268  ID=HORVU.MOREX.r3.7HG0717650.1  intron five_prime_UTR  511731957   \n",
       "269  ID=HORVU.MOREX.r3.7HG0726810.1  intron five_prime_UTR  564148992   \n",
       "\n",
       "           end  length  \n",
       "0     32368232    1441  \n",
       "1     46808624     102  \n",
       "5    220267015     116  \n",
       "6    220267704     508  \n",
       "7    220267015     116  \n",
       "..         ...     ...  \n",
       "263  335796877     306  \n",
       "265  360537891      97  \n",
       "266  422495886     124  \n",
       "268  511732038      83  \n",
       "269  564150547    1557  \n",
       "\n",
       "[282 rows x 5 columns]"
      ]
     },
     "execution_count": 174,
     "metadata": {},
     "output_type": "execute_result"
    }
   ],
   "source": [
    "introns_UTR5_Hv_MorexLC"
   ]
  },
  {
   "cell_type": "code",
   "execution_count": 177,
   "metadata": {},
   "outputs": [
    {
     "data": {
      "text/plain": [
       "count      282.000000\n",
       "mean       680.053191\n",
       "std       1589.765537\n",
       "min         60.000000\n",
       "25%        106.000000\n",
       "50%        240.500000\n",
       "75%        838.750000\n",
       "max      24296.000000\n",
       "Name: length, dtype: float64"
      ]
     },
     "execution_count": 177,
     "metadata": {},
     "output_type": "execute_result"
    }
   ],
   "source": [
    "introns_UTR5_Hv_MorexLC['length'].describe()"
   ]
  },
  {
   "cell_type": "markdown",
   "metadata": {},
   "source": [
    "### 2.2.5 Removing UTR introns from the whole introns dataframe"
   ]
  },
  {
   "cell_type": "code",
   "execution_count": 178,
   "metadata": {},
   "outputs": [
    {
     "data": {
      "text/html": [
       "<div>\n",
       "<style scoped>\n",
       "    .dataframe tbody tr th:only-of-type {\n",
       "        vertical-align: middle;\n",
       "    }\n",
       "\n",
       "    .dataframe tbody tr th {\n",
       "        vertical-align: top;\n",
       "    }\n",
       "\n",
       "    .dataframe thead th {\n",
       "        text-align: right;\n",
       "    }\n",
       "</style>\n",
       "<table border=\"1\" class=\"dataframe\">\n",
       "  <thead>\n",
       "    <tr style=\"text-align: right;\">\n",
       "      <th></th>\n",
       "      <th>ID</th>\n",
       "      <th>type</th>\n",
       "      <th>start</th>\n",
       "      <th>end</th>\n",
       "      <th>length</th>\n",
       "    </tr>\n",
       "  </thead>\n",
       "  <tbody>\n",
       "    <tr>\n",
       "      <th>0</th>\n",
       "      <td>ID=HORVU.MOREX.r3.1HG0000010.1</td>\n",
       "      <td>intron</td>\n",
       "      <td>49773</td>\n",
       "      <td>50194</td>\n",
       "      <td>423</td>\n",
       "    </tr>\n",
       "    <tr>\n",
       "      <th>1</th>\n",
       "      <td>ID=HORVU.MOREX.r3.1HG0000100.1</td>\n",
       "      <td>intron</td>\n",
       "      <td>162713</td>\n",
       "      <td>162817</td>\n",
       "      <td>106</td>\n",
       "    </tr>\n",
       "    <tr>\n",
       "      <th>2</th>\n",
       "      <td>ID=HORVU.MOREX.r3.1HG0000100.1</td>\n",
       "      <td>intron</td>\n",
       "      <td>163069</td>\n",
       "      <td>163164</td>\n",
       "      <td>97</td>\n",
       "    </tr>\n",
       "    <tr>\n",
       "      <th>3</th>\n",
       "      <td>ID=HORVU.MOREX.r3.1HG0000100.1</td>\n",
       "      <td>intron</td>\n",
       "      <td>163386</td>\n",
       "      <td>166230</td>\n",
       "      <td>2846</td>\n",
       "    </tr>\n",
       "    <tr>\n",
       "      <th>4</th>\n",
       "      <td>ID=HORVU.MOREX.r3.1HG0000120.1</td>\n",
       "      <td>intron</td>\n",
       "      <td>190996</td>\n",
       "      <td>191280</td>\n",
       "      <td>286</td>\n",
       "    </tr>\n",
       "  </tbody>\n",
       "</table>\n",
       "</div>"
      ],
      "text/plain": [
       "                               ID     type   start     end  length\n",
       "0  ID=HORVU.MOREX.r3.1HG0000010.1  intron    49773   50194     423\n",
       "1  ID=HORVU.MOREX.r3.1HG0000100.1  intron   162713  162817     106\n",
       "2  ID=HORVU.MOREX.r3.1HG0000100.1  intron   163069  163164      97\n",
       "3  ID=HORVU.MOREX.r3.1HG0000100.1  intron   163386  166230    2846\n",
       "4  ID=HORVU.MOREX.r3.1HG0000120.1  intron   190996  191280     286"
      ]
     },
     "execution_count": 178,
     "metadata": {},
     "output_type": "execute_result"
    }
   ],
   "source": [
    "### --- Checking total introns dataframe \n",
    "introns_Hv_MorexLC.head()"
   ]
  },
  {
   "cell_type": "code",
   "execution_count": 179,
   "metadata": {},
   "outputs": [
    {
     "data": {
      "text/html": [
       "<div>\n",
       "<style scoped>\n",
       "    .dataframe tbody tr th:only-of-type {\n",
       "        vertical-align: middle;\n",
       "    }\n",
       "\n",
       "    .dataframe tbody tr th {\n",
       "        vertical-align: top;\n",
       "    }\n",
       "\n",
       "    .dataframe thead th {\n",
       "        text-align: right;\n",
       "    }\n",
       "</style>\n",
       "<table border=\"1\" class=\"dataframe\">\n",
       "  <thead>\n",
       "    <tr style=\"text-align: right;\">\n",
       "      <th></th>\n",
       "      <th>ID</th>\n",
       "      <th>type</th>\n",
       "      <th>start</th>\n",
       "      <th>end</th>\n",
       "      <th>length</th>\n",
       "    </tr>\n",
       "  </thead>\n",
       "  <tbody>\n",
       "    <tr>\n",
       "      <th>0</th>\n",
       "      <td>ID=HORVU.MOREX.r3.1HG0013040.1</td>\n",
       "      <td>intron five_prime_UTR</td>\n",
       "      <td>32366793</td>\n",
       "      <td>32368232</td>\n",
       "      <td>1441</td>\n",
       "    </tr>\n",
       "    <tr>\n",
       "      <th>1</th>\n",
       "      <td>ID=HORVU.MOREX.r3.1HG0016180.1</td>\n",
       "      <td>intron five_prime_UTR</td>\n",
       "      <td>46808524</td>\n",
       "      <td>46808624</td>\n",
       "      <td>102</td>\n",
       "    </tr>\n",
       "    <tr>\n",
       "      <th>2</th>\n",
       "      <td>ID=HORVU.MOREX.r3.1HG0033800.1</td>\n",
       "      <td>intron three_prime_UTR</td>\n",
       "      <td>179225709</td>\n",
       "      <td>179226387</td>\n",
       "      <td>680</td>\n",
       "    </tr>\n",
       "    <tr>\n",
       "      <th>3</th>\n",
       "      <td>ID=HORVU.MOREX.r3.1HG0033800.1</td>\n",
       "      <td>intron three_prime_UTR</td>\n",
       "      <td>179226467</td>\n",
       "      <td>179227377</td>\n",
       "      <td>912</td>\n",
       "    </tr>\n",
       "    <tr>\n",
       "      <th>4</th>\n",
       "      <td>ID=HORVU.MOREX.r3.1HG0033820.1</td>\n",
       "      <td>intron three_prime_UTR</td>\n",
       "      <td>179278895</td>\n",
       "      <td>179278985</td>\n",
       "      <td>92</td>\n",
       "    </tr>\n",
       "  </tbody>\n",
       "</table>\n",
       "</div>"
      ],
      "text/plain": [
       "                               ID                    type      start  \\\n",
       "0  ID=HORVU.MOREX.r3.1HG0013040.1   intron five_prime_UTR   32366793   \n",
       "1  ID=HORVU.MOREX.r3.1HG0016180.1   intron five_prime_UTR   46808524   \n",
       "2  ID=HORVU.MOREX.r3.1HG0033800.1  intron three_prime_UTR  179225709   \n",
       "3  ID=HORVU.MOREX.r3.1HG0033800.1  intron three_prime_UTR  179226467   \n",
       "4  ID=HORVU.MOREX.r3.1HG0033820.1  intron three_prime_UTR  179278895   \n",
       "\n",
       "         end  length  \n",
       "0   32368232    1441  \n",
       "1   46808624     102  \n",
       "2  179226387     680  \n",
       "3  179227377     912  \n",
       "4  179278985      92  "
      ]
     },
     "execution_count": 179,
     "metadata": {},
     "output_type": "execute_result"
    }
   ],
   "source": [
    "### --- Checking UTR introns dataframe\n",
    "introns_UTR_Hv_MorexLC.head()"
   ]
  },
  {
   "cell_type": "code",
   "execution_count": 180,
   "metadata": {},
   "outputs": [
    {
     "data": {
      "text/html": [
       "<div>\n",
       "<style scoped>\n",
       "    .dataframe tbody tr th:only-of-type {\n",
       "        vertical-align: middle;\n",
       "    }\n",
       "\n",
       "    .dataframe tbody tr th {\n",
       "        vertical-align: top;\n",
       "    }\n",
       "\n",
       "    .dataframe thead th {\n",
       "        text-align: right;\n",
       "    }\n",
       "</style>\n",
       "<table border=\"1\" class=\"dataframe\">\n",
       "  <thead>\n",
       "    <tr style=\"text-align: right;\">\n",
       "      <th></th>\n",
       "      <th>ID</th>\n",
       "      <th>type</th>\n",
       "      <th>start</th>\n",
       "      <th>end</th>\n",
       "      <th>length</th>\n",
       "    </tr>\n",
       "  </thead>\n",
       "  <tbody>\n",
       "    <tr>\n",
       "      <th>0</th>\n",
       "      <td>ID=HORVU.MOREX.r3.1HG0000010.1</td>\n",
       "      <td>intron</td>\n",
       "      <td>49773</td>\n",
       "      <td>50194</td>\n",
       "      <td>423</td>\n",
       "    </tr>\n",
       "    <tr>\n",
       "      <th>1</th>\n",
       "      <td>ID=HORVU.MOREX.r3.1HG0000100.1</td>\n",
       "      <td>intron</td>\n",
       "      <td>162713</td>\n",
       "      <td>162817</td>\n",
       "      <td>106</td>\n",
       "    </tr>\n",
       "    <tr>\n",
       "      <th>2</th>\n",
       "      <td>ID=HORVU.MOREX.r3.1HG0000100.1</td>\n",
       "      <td>intron</td>\n",
       "      <td>163069</td>\n",
       "      <td>163164</td>\n",
       "      <td>97</td>\n",
       "    </tr>\n",
       "    <tr>\n",
       "      <th>3</th>\n",
       "      <td>ID=HORVU.MOREX.r3.1HG0000100.1</td>\n",
       "      <td>intron</td>\n",
       "      <td>163386</td>\n",
       "      <td>166230</td>\n",
       "      <td>2846</td>\n",
       "    </tr>\n",
       "    <tr>\n",
       "      <th>4</th>\n",
       "      <td>ID=HORVU.MOREX.r3.1HG0000120.1</td>\n",
       "      <td>intron</td>\n",
       "      <td>190996</td>\n",
       "      <td>191280</td>\n",
       "      <td>286</td>\n",
       "    </tr>\n",
       "    <tr>\n",
       "      <th>...</th>\n",
       "      <td>...</td>\n",
       "      <td>...</td>\n",
       "      <td>...</td>\n",
       "      <td>...</td>\n",
       "      <td>...</td>\n",
       "    </tr>\n",
       "    <tr>\n",
       "      <th>25451</th>\n",
       "      <td>ID=HORVU.MOREX.r3.UnG0816300.1</td>\n",
       "      <td>intron</td>\n",
       "      <td>28901487</td>\n",
       "      <td>28901588</td>\n",
       "      <td>103</td>\n",
       "    </tr>\n",
       "    <tr>\n",
       "      <th>25452</th>\n",
       "      <td>ID=HORVU.MOREX.r3.UnG0816640.1</td>\n",
       "      <td>intron</td>\n",
       "      <td>29002646</td>\n",
       "      <td>29003296</td>\n",
       "      <td>652</td>\n",
       "    </tr>\n",
       "    <tr>\n",
       "      <th>25453</th>\n",
       "      <td>ID=HORVU.MOREX.r3.UnG0816680.1</td>\n",
       "      <td>intron</td>\n",
       "      <td>29008046</td>\n",
       "      <td>29008730</td>\n",
       "      <td>686</td>\n",
       "    </tr>\n",
       "    <tr>\n",
       "      <th>25454</th>\n",
       "      <td>ID=HORVU.MOREX.r3.UnG0816840.1</td>\n",
       "      <td>intron</td>\n",
       "      <td>29079790</td>\n",
       "      <td>29086201</td>\n",
       "      <td>6413</td>\n",
       "    </tr>\n",
       "    <tr>\n",
       "      <th>25455</th>\n",
       "      <td>ID=HORVU.MOREX.r3.UnG0816840.1</td>\n",
       "      <td>intron</td>\n",
       "      <td>29086208</td>\n",
       "      <td>29088676</td>\n",
       "      <td>2470</td>\n",
       "    </tr>\n",
       "  </tbody>\n",
       "</table>\n",
       "<p>24794 rows × 5 columns</p>\n",
       "</div>"
      ],
      "text/plain": [
       "                                   ID     type     start       end  length\n",
       "0      ID=HORVU.MOREX.r3.1HG0000010.1  intron      49773     50194     423\n",
       "1      ID=HORVU.MOREX.r3.1HG0000100.1  intron     162713    162817     106\n",
       "2      ID=HORVU.MOREX.r3.1HG0000100.1  intron     163069    163164      97\n",
       "3      ID=HORVU.MOREX.r3.1HG0000100.1  intron     163386    166230    2846\n",
       "4      ID=HORVU.MOREX.r3.1HG0000120.1  intron     190996    191280     286\n",
       "...                               ...      ...       ...       ...     ...\n",
       "25451  ID=HORVU.MOREX.r3.UnG0816300.1  intron   28901487  28901588     103\n",
       "25452  ID=HORVU.MOREX.r3.UnG0816640.1  intron   29002646  29003296     652\n",
       "25453  ID=HORVU.MOREX.r3.UnG0816680.1  intron   29008046  29008730     686\n",
       "25454  ID=HORVU.MOREX.r3.UnG0816840.1  intron   29079790  29086201    6413\n",
       "25455  ID=HORVU.MOREX.r3.UnG0816840.1  intron   29086208  29088676    2470\n",
       "\n",
       "[24794 rows x 5 columns]"
      ]
     },
     "execution_count": 180,
     "metadata": {},
     "output_type": "execute_result"
    }
   ],
   "source": [
    "### --- Extracting introns from cds within Hv_MorexHC\n",
    "introns_cds_Hv_MorexLC = cds_introns_dataframe(introns_Hv_MorexLC, introns_UTR_Hv_MorexLC)\n",
    "introns_cds_Hv_MorexLC"
   ]
  },
  {
   "cell_type": "code",
   "execution_count": 181,
   "metadata": {},
   "outputs": [
    {
     "data": {
      "text/html": [
       "<div>\n",
       "<style scoped>\n",
       "    .dataframe tbody tr th:only-of-type {\n",
       "        vertical-align: middle;\n",
       "    }\n",
       "\n",
       "    .dataframe tbody tr th {\n",
       "        vertical-align: top;\n",
       "    }\n",
       "\n",
       "    .dataframe thead th {\n",
       "        text-align: right;\n",
       "    }\n",
       "</style>\n",
       "<table border=\"1\" class=\"dataframe\">\n",
       "  <thead>\n",
       "    <tr style=\"text-align: right;\">\n",
       "      <th></th>\n",
       "      <th>ID</th>\n",
       "      <th>type</th>\n",
       "      <th>start</th>\n",
       "      <th>end</th>\n",
       "      <th>length</th>\n",
       "    </tr>\n",
       "  </thead>\n",
       "  <tbody>\n",
       "  </tbody>\n",
       "</table>\n",
       "</div>"
      ],
      "text/plain": [
       "Empty DataFrame\n",
       "Columns: [ID, type, start, end, length]\n",
       "Index: []"
      ]
     },
     "execution_count": 181,
     "metadata": {},
     "output_type": "execute_result"
    }
   ],
   "source": [
    "### --- Checking if there are not introns UTR within the created dataframe\n",
    "introns_cds_Hv_MorexLC.loc[introns_cds_Hv_MorexLC['type'].isin(['intron three_prime_UTR','intron five_prime_UTR'])]"
   ]
  },
  {
   "cell_type": "code",
   "execution_count": 182,
   "metadata": {},
   "outputs": [
    {
     "data": {
      "text/plain": [
       "count     24794.000000\n",
       "mean        487.854602\n",
       "std        3634.413380\n",
       "min          22.000000\n",
       "25%          88.000000\n",
       "50%         110.500000\n",
       "75%         314.000000\n",
       "max      500805.000000\n",
       "Name: length, dtype: float64"
      ]
     },
     "execution_count": 182,
     "metadata": {},
     "output_type": "execute_result"
    }
   ],
   "source": [
    "### --- Basic statistics of Hv_MorexLC introns cds\n",
    "introns_cds_Hv_MorexLC['length'].describe()"
   ]
  },
  {
   "cell_type": "code",
   "execution_count": 183,
   "metadata": {
    "scrolled": true
   },
   "outputs": [
    {
     "data": {
      "text/plain": [
       "<AxesSubplot:ylabel='Density'>"
      ]
     },
     "execution_count": 183,
     "metadata": {},
     "output_type": "execute_result"
    },
    {
     "data": {
      "image/png": "[encoded data removed]",
      "text/plain": [
       "<Figure size 1440x1440 with 1 Axes>"
      ]
     },
     "metadata": {
      "needs_background": "light"
     },
     "output_type": "display_data"
    }
   ],
   "source": [
    "### --- Plotting the distribution of Hv_MorexLC cds introns length\n",
    "introns_cds_Hv_MorexLC['length'].plot.density()"
   ]
  },
  {
   "cell_type": "code",
   "execution_count": 184,
   "metadata": {
    "scrolled": true
   },
   "outputs": [
    {
     "data": {
      "text/plain": [
       "<AxesSubplot:>"
      ]
     },
     "execution_count": 184,
     "metadata": {},
     "output_type": "execute_result"
    },
    {
     "data": {
      "image/png": "[encoded data removed]",
      "text/plain": [
       "<Figure size 1440x1440 with 1 Axes>"
      ]
     },
     "metadata": {
      "needs_background": "light"
     },
     "output_type": "display_data"
    }
   ],
   "source": [
    "### --- Plotting the boxplot of Hv_MorexLC cds introns length without outliers\n",
    "introns_cds_Hv_MorexLC.boxplot(column='length', return_type='axes', showfliers=False) # showfliers = False -> discard outliers"
   ]
  },
  {
   "cell_type": "markdown",
   "metadata": {},
   "source": [
    "### 2.2.6 Re-organizing files and directories"
   ]
  },
  {
   "cell_type": "code",
   "execution_count": 185,
   "metadata": {},
   "outputs": [
    {
     "name": "stdout",
     "output_type": "stream",
     "text": [
      "Hv_MorexLC_exon.tsv\t\t      Hv_Morex_nohashtag.pgsb.Jul2020.HC.csv\r\n",
      "Hv_MorexLC_UTRforw.tsv\t\t      Hv_Morex_nohashtag.pgsb.Jul2020.HC.gff3\r\n",
      "Hv_MorexLC_UTRrev.tsv\t\t      Hv_Morex_nohashtag.pgsb.Jul2020.LC.csv\r\n",
      "Hv_Morex_longread\t\t      Hv_Morex_nohashtag.pgsb.Jul2020.LC.gff3\r\n",
      "Hv_Morex_nohashtag.pgsb.Jul2020.gff3  raw\r\n"
     ]
    }
   ],
   "source": [
    "! ls Data/"
   ]
  },
  {
   "cell_type": "code",
   "execution_count": 186,
   "metadata": {},
   "outputs": [],
   "source": [
    "! mv Data/Hv_MorexLC* Data/Hv_Morex_longread/"
   ]
  },
  {
   "cell_type": "code",
   "execution_count": 187,
   "metadata": {},
   "outputs": [
    {
     "name": "stdout",
     "output_type": "stream",
     "text": [
      "Hv_MorexHC_exon.tsv\tHv_MorexHC_UTRrev.tsv  Hv_MorexLC_UTRforw.tsv\r\n",
      "Hv_MorexHC_UTRforw.tsv\tHv_MorexLC_exon.tsv    Hv_MorexLC_UTRrev.tsv\r\n"
     ]
    }
   ],
   "source": [
    "! ls Data/Hv_Morex_longread/"
   ]
  },
  {
   "cell_type": "code",
   "execution_count": 188,
   "metadata": {},
   "outputs": [
    {
     "name": "stdout",
     "output_type": "stream",
     "text": [
      "Hv_MorexLC_intronlessIDs.txt  Hv_MorexLC_introns.tsv\t      Hv_Morex_longread\r\n",
      "Hv_MorexLC_intronpoorIDs.txt  Hv_MorexLC_UTRforw_introns.tsv\r\n",
      "Hv_MorexLC_intronrichIDs.txt  Hv_MorexLC_UTRrev_introns.tsv\r\n"
     ]
    }
   ],
   "source": [
    "! ls Output/"
   ]
  },
  {
   "cell_type": "code",
   "execution_count": 189,
   "metadata": {},
   "outputs": [],
   "source": [
    "! mv Output/Hv_MorexLC* Output/Hv_Morex_longread/"
   ]
  },
  {
   "cell_type": "code",
   "execution_count": 190,
   "metadata": {},
   "outputs": [
    {
     "name": "stdout",
     "output_type": "stream",
     "text": [
      "Hv_MorexHC_intronlessIDs.txt\tHv_MorexLC_intronlessIDs.txt\r\n",
      "Hv_MorexHC_intronpoorIDs.txt\tHv_MorexLC_intronpoorIDs.txt\r\n",
      "Hv_MorexHC_intronrichIDs.txt\tHv_MorexLC_intronrichIDs.txt\r\n",
      "Hv_MorexHC_introns.tsv\t\tHv_MorexLC_introns.tsv\r\n",
      "Hv_MorexHC_UTRforw_introns.tsv\tHv_MorexLC_UTRforw_introns.tsv\r\n",
      "Hv_MorexHC_UTRrev_introns.tsv\tHv_MorexLC_UTRrev_introns.tsv\r\n"
     ]
    }
   ],
   "source": [
    "! ls Output/Hv_Morex_longread/"
   ]
  },
  {
   "cell_type": "markdown",
   "metadata": {},
   "source": [
    "# 2.3 Reproducing on Hv_Morex total"
   ]
  },
  {
   "cell_type": "markdown",
   "metadata": {},
   "source": [
    "### 2.3.1 Collecting Data"
   ]
  },
  {
   "cell_type": "code",
   "execution_count": 130,
   "metadata": {},
   "outputs": [
    {
     "name": "stdout",
     "output_type": "stream",
     "text": [
      "--2021-06-03 18:21:54--  https://doi.ipk-gatersleben.de/DOI/b2f47dfb-47ff-4114-89ae-bad8dcc515a1/5d16cc17-c37f-417f-855d-c5e72c721f6c/1/DOWNLOAD\n",
      "Resolving doi.ipk-gatersleben.de (doi.ipk-gatersleben.de)... 194.94.136.144\n",
      "Connecting to doi.ipk-gatersleben.de (doi.ipk-gatersleben.de)|194.94.136.144|:443... connected.\n",
      "HTTP request sent, awaiting response... 200 OK\n",
      "Length: 95708927 (91M) [text/plain]\n",
      "Saving to: ‘Data/raw/Hv_Morex.pgsb.Jul2020.gff3’\n",
      "\n",
      "Data/raw/Hv_Morex.p 100%[===================>]  91,27M  1,57MB/s    in 64s     \n",
      "\n",
      "2021-06-03 18:22:58 (1,44 MB/s) - ‘Data/raw/Hv_Morex.pgsb.Jul2020.gff3’ saved [95708927/95708927]\n",
      "\n"
     ]
    }
   ],
   "source": [
    "### --- This will download the raw data to the subdirectory raw under the directory Data\n",
    "! wget -O Data/raw/Hv_Morex.pgsb.Jul2020.gff3 https://doi.ipk-gatersleben.de/DOI/b2f47dfb-47ff-4114-89ae-bad8dcc515a1/5d16cc17-c37f-417f-855d-c5e72c721f6c/1/DOWNLOAD "
   ]
  },
  {
   "cell_type": "markdown",
   "metadata": {},
   "source": [
    "### 2.3.2 Processing Data"
   ]
  },
  {
   "cell_type": "code",
   "execution_count": 1,
   "metadata": {},
   "outputs": [],
   "source": [
    "### --- There is no need to import the libraries again\n",
    "# import pandas as pd\n",
    "# import numpy as np\n",
    "# import matplotlib.pyplot as plt"
   ]
  },
  {
   "cell_type": "code",
   "execution_count": 132,
   "metadata": {},
   "outputs": [],
   "source": [
    "### --- Removing all hashtags from the gff3 file\n",
    "! sed '/#/d' Data/raw/Hv_Morex.pgsb.Jul2020.gff3  > Data/Hv_Morex_nohashtag.pgsb.Jul2020.gff3"
   ]
  },
  {
   "cell_type": "code",
   "execution_count": 2,
   "metadata": {},
   "outputs": [],
   "source": [
    "### --- Changing the gff3 file to a csv format file to import it with pandas\n",
    "! cat Data/Hv_Morex_nohashtag.pgsb.Jul2020.gff3 | sed 's/,/--/g' | sed 's/;/--/g' | sed 's/\\t/,/g' | awk -F '--' '{print $1}' > Data/Hv_Morex_nohashtag.pgsb.Jul2020.csv"
   ]
  },
  {
   "cell_type": "code",
   "execution_count": 5,
   "metadata": {},
   "outputs": [
    {
     "data": {
      "text/html": [
       "<div>\n",
       "<style scoped>\n",
       "    .dataframe tbody tr th:only-of-type {\n",
       "        vertical-align: middle;\n",
       "    }\n",
       "\n",
       "    .dataframe tbody tr th {\n",
       "        vertical-align: top;\n",
       "    }\n",
       "\n",
       "    .dataframe thead th {\n",
       "        text-align: right;\n",
       "    }\n",
       "</style>\n",
       "<table border=\"1\" class=\"dataframe\">\n",
       "  <thead>\n",
       "    <tr style=\"text-align: right;\">\n",
       "      <th></th>\n",
       "      <th>chr</th>\n",
       "      <th>source</th>\n",
       "      <th>type</th>\n",
       "      <th>start</th>\n",
       "      <th>end</th>\n",
       "      <th>score</th>\n",
       "      <th>strand</th>\n",
       "      <th>phase</th>\n",
       "      <th>attributes</th>\n",
       "    </tr>\n",
       "  </thead>\n",
       "  <tbody>\n",
       "    <tr>\n",
       "      <th>0</th>\n",
       "      <td>chr1H</td>\n",
       "      <td>pgsb</td>\n",
       "      <td>gene</td>\n",
       "      <td>49526</td>\n",
       "      <td>50649</td>\n",
       "      <td>.</td>\n",
       "      <td>+</td>\n",
       "      <td>.</td>\n",
       "      <td>ID=HORVU.MOREX.r3.1HG0000010</td>\n",
       "    </tr>\n",
       "    <tr>\n",
       "      <th>1</th>\n",
       "      <td>chr1H</td>\n",
       "      <td>pgsb</td>\n",
       "      <td>mRNA</td>\n",
       "      <td>49526</td>\n",
       "      <td>50649</td>\n",
       "      <td>.</td>\n",
       "      <td>+</td>\n",
       "      <td>.</td>\n",
       "      <td>ID=HORVU.MOREX.r3.1HG0000010.1</td>\n",
       "    </tr>\n",
       "    <tr>\n",
       "      <th>2</th>\n",
       "      <td>chr1H</td>\n",
       "      <td>pgsb</td>\n",
       "      <td>five_prime_UTR</td>\n",
       "      <td>49526</td>\n",
       "      <td>49582</td>\n",
       "      <td>.</td>\n",
       "      <td>+</td>\n",
       "      <td>.</td>\n",
       "      <td>ID=HORVU.MOREX.r3.1HG0000010.1.five_prime_UTR1</td>\n",
       "    </tr>\n",
       "    <tr>\n",
       "      <th>3</th>\n",
       "      <td>chr1H</td>\n",
       "      <td>pgsb</td>\n",
       "      <td>exon</td>\n",
       "      <td>49526</td>\n",
       "      <td>49772</td>\n",
       "      <td>.</td>\n",
       "      <td>+</td>\n",
       "      <td>.</td>\n",
       "      <td>ID=HORVU.MOREX.r3.1HG0000010.1.exon1</td>\n",
       "    </tr>\n",
       "    <tr>\n",
       "      <th>4</th>\n",
       "      <td>chr1H</td>\n",
       "      <td>pgsb</td>\n",
       "      <td>CDS</td>\n",
       "      <td>49583</td>\n",
       "      <td>49772</td>\n",
       "      <td>.</td>\n",
       "      <td>+</td>\n",
       "      <td>0</td>\n",
       "      <td>ID=HORVU.MOREX.r3.1HG0000010.1.CDS1</td>\n",
       "    </tr>\n",
       "  </tbody>\n",
       "</table>\n",
       "</div>"
      ],
      "text/plain": [
       "     chr source            type  start    end score strand phase  \\\n",
       "0  chr1H   pgsb            gene  49526  50649     .      +     .   \n",
       "1  chr1H   pgsb            mRNA  49526  50649     .      +     .   \n",
       "2  chr1H   pgsb  five_prime_UTR  49526  49582     .      +     .   \n",
       "3  chr1H   pgsb            exon  49526  49772     .      +     .   \n",
       "4  chr1H   pgsb             CDS  49583  49772     .      +     0   \n",
       "\n",
       "                                       attributes  \n",
       "0                    ID=HORVU.MOREX.r3.1HG0000010  \n",
       "1                  ID=HORVU.MOREX.r3.1HG0000010.1  \n",
       "2  ID=HORVU.MOREX.r3.1HG0000010.1.five_prime_UTR1  \n",
       "3            ID=HORVU.MOREX.r3.1HG0000010.1.exon1  \n",
       "4             ID=HORVU.MOREX.r3.1HG0000010.1.CDS1  "
      ]
     },
     "execution_count": 5,
     "metadata": {},
     "output_type": "execute_result"
    }
   ],
   "source": [
    "### --- Transforming the gff3 file to a pandas dataframe to better handle it\n",
    "df_Hv_Morex = pd.read_csv('Data/Hv_Morex_nohashtag.pgsb.Jul2020.csv', header=None, names = ['chr', 'source', 'type','start','end','score','strand','phase','attributes'])\n",
    "df_Hv_Morex.head()"
   ]
  },
  {
   "cell_type": "code",
   "execution_count": 6,
   "metadata": {
    "scrolled": true
   },
   "outputs": [
    {
     "data": {
      "text/html": [
       "<div>\n",
       "<style scoped>\n",
       "    .dataframe tbody tr th:only-of-type {\n",
       "        vertical-align: middle;\n",
       "    }\n",
       "\n",
       "    .dataframe tbody tr th {\n",
       "        vertical-align: top;\n",
       "    }\n",
       "\n",
       "    .dataframe thead th {\n",
       "        text-align: right;\n",
       "    }\n",
       "</style>\n",
       "<table border=\"1\" class=\"dataframe\">\n",
       "  <thead>\n",
       "    <tr style=\"text-align: right;\">\n",
       "      <th></th>\n",
       "      <th>chr</th>\n",
       "      <th>source</th>\n",
       "      <th>type</th>\n",
       "      <th>start</th>\n",
       "      <th>end</th>\n",
       "      <th>score</th>\n",
       "      <th>strand</th>\n",
       "      <th>phase</th>\n",
       "      <th>attributes</th>\n",
       "    </tr>\n",
       "  </thead>\n",
       "  <tbody>\n",
       "    <tr>\n",
       "      <th>3</th>\n",
       "      <td>chr1H</td>\n",
       "      <td>pgsb</td>\n",
       "      <td>exon</td>\n",
       "      <td>49526</td>\n",
       "      <td>49772</td>\n",
       "      <td>.</td>\n",
       "      <td>+</td>\n",
       "      <td>.</td>\n",
       "      <td>ID=HORVU.MOREX.r3.1HG0000010.1.exon1</td>\n",
       "    </tr>\n",
       "    <tr>\n",
       "      <th>6</th>\n",
       "      <td>chr1H</td>\n",
       "      <td>pgsb</td>\n",
       "      <td>exon</td>\n",
       "      <td>50195</td>\n",
       "      <td>50649</td>\n",
       "      <td>.</td>\n",
       "      <td>+</td>\n",
       "      <td>.</td>\n",
       "      <td>ID=HORVU.MOREX.r3.1HG0000010.1.exon2</td>\n",
       "    </tr>\n",
       "    <tr>\n",
       "      <th>10</th>\n",
       "      <td>chr1H</td>\n",
       "      <td>pgsb</td>\n",
       "      <td>exon</td>\n",
       "      <td>53979</td>\n",
       "      <td>54323</td>\n",
       "      <td>.</td>\n",
       "      <td>+</td>\n",
       "      <td>.</td>\n",
       "      <td>ID=HORVU.MOREX.r3.1HG0000020.1.exon1</td>\n",
       "    </tr>\n",
       "    <tr>\n",
       "      <th>14</th>\n",
       "      <td>chr1H</td>\n",
       "      <td>pgsb</td>\n",
       "      <td>exon</td>\n",
       "      <td>76744</td>\n",
       "      <td>77373</td>\n",
       "      <td>.</td>\n",
       "      <td>+</td>\n",
       "      <td>.</td>\n",
       "      <td>ID=HORVU.MOREX.r3.1HG0000030.1.exon1</td>\n",
       "    </tr>\n",
       "    <tr>\n",
       "      <th>19</th>\n",
       "      <td>chr1H</td>\n",
       "      <td>pgsb</td>\n",
       "      <td>exon</td>\n",
       "      <td>78284</td>\n",
       "      <td>78954</td>\n",
       "      <td>.</td>\n",
       "      <td>-</td>\n",
       "      <td>.</td>\n",
       "      <td>ID=HORVU.MOREX.r3.1HG0000040.1.exon1</td>\n",
       "    </tr>\n",
       "  </tbody>\n",
       "</table>\n",
       "</div>"
      ],
      "text/plain": [
       "      chr source  type  start    end score strand phase  \\\n",
       "3   chr1H   pgsb  exon  49526  49772     .      +     .   \n",
       "6   chr1H   pgsb  exon  50195  50649     .      +     .   \n",
       "10  chr1H   pgsb  exon  53979  54323     .      +     .   \n",
       "14  chr1H   pgsb  exon  76744  77373     .      +     .   \n",
       "19  chr1H   pgsb  exon  78284  78954     .      -     .   \n",
       "\n",
       "                              attributes  \n",
       "3   ID=HORVU.MOREX.r3.1HG0000010.1.exon1  \n",
       "6   ID=HORVU.MOREX.r3.1HG0000010.1.exon2  \n",
       "10  ID=HORVU.MOREX.r3.1HG0000020.1.exon1  \n",
       "14  ID=HORVU.MOREX.r3.1HG0000030.1.exon1  \n",
       "19  ID=HORVU.MOREX.r3.1HG0000040.1.exon1  "
      ]
     },
     "execution_count": 6,
     "metadata": {},
     "output_type": "execute_result"
    }
   ],
   "source": [
    "### --- Building a separate dataframe containing all exons\n",
    "exon_Hv_Morex = df_Hv_Morex.loc[df_Hv_Morex['type'].isin(['exon'])]\n",
    "exon_Hv_Morex.head()"
   ]
  },
  {
   "cell_type": "code",
   "execution_count": 7,
   "metadata": {},
   "outputs": [],
   "source": [
    "### --- Exporting the exon dataframe to a tsv file \n",
    "exon_Hv_Morex.to_csv('Data/Hv_Morex_exon.tsv',sep='\\t',index=False,header=False)"
   ]
  },
  {
   "cell_type": "code",
   "execution_count": 8,
   "metadata": {
    "scrolled": true
   },
   "outputs": [
    {
     "data": {
      "text/html": [
       "<div>\n",
       "<style scoped>\n",
       "    .dataframe tbody tr th:only-of-type {\n",
       "        vertical-align: middle;\n",
       "    }\n",
       "\n",
       "    .dataframe tbody tr th {\n",
       "        vertical-align: top;\n",
       "    }\n",
       "\n",
       "    .dataframe thead th {\n",
       "        text-align: right;\n",
       "    }\n",
       "</style>\n",
       "<table border=\"1\" class=\"dataframe\">\n",
       "  <thead>\n",
       "    <tr style=\"text-align: right;\">\n",
       "      <th></th>\n",
       "      <th>chr</th>\n",
       "      <th>source</th>\n",
       "      <th>type</th>\n",
       "      <th>start</th>\n",
       "      <th>end</th>\n",
       "      <th>score</th>\n",
       "      <th>strand</th>\n",
       "      <th>phase</th>\n",
       "      <th>attributes</th>\n",
       "    </tr>\n",
       "  </thead>\n",
       "  <tbody>\n",
       "    <tr>\n",
       "      <th>0</th>\n",
       "      <td>chr1H</td>\n",
       "      <td>pgsb</td>\n",
       "      <td>gene</td>\n",
       "      <td>49526</td>\n",
       "      <td>50649</td>\n",
       "      <td>.</td>\n",
       "      <td>+</td>\n",
       "      <td>.</td>\n",
       "      <td>ID=HORVU.MOREX.r3.1HG0000010</td>\n",
       "    </tr>\n",
       "    <tr>\n",
       "      <th>1</th>\n",
       "      <td>chr1H</td>\n",
       "      <td>pgsb</td>\n",
       "      <td>mRNA</td>\n",
       "      <td>49526</td>\n",
       "      <td>50649</td>\n",
       "      <td>.</td>\n",
       "      <td>+</td>\n",
       "      <td>.</td>\n",
       "      <td>ID=HORVU.MOREX.r3.1HG0000010.1</td>\n",
       "    </tr>\n",
       "    <tr>\n",
       "      <th>2</th>\n",
       "      <td>chr1H</td>\n",
       "      <td>pgsb</td>\n",
       "      <td>five_prime_UTR</td>\n",
       "      <td>49526</td>\n",
       "      <td>49582</td>\n",
       "      <td>.</td>\n",
       "      <td>+</td>\n",
       "      <td>.</td>\n",
       "      <td>ID=HORVU.MOREX.r3.1HG0000010.1.five_prime_UTR1</td>\n",
       "    </tr>\n",
       "    <tr>\n",
       "      <th>3</th>\n",
       "      <td>chr1H</td>\n",
       "      <td>pgsb</td>\n",
       "      <td>exon</td>\n",
       "      <td>49526</td>\n",
       "      <td>49772</td>\n",
       "      <td>.</td>\n",
       "      <td>+</td>\n",
       "      <td>.</td>\n",
       "      <td>ID=HORVU.MOREX.r3.1HG0000010.1.exon1</td>\n",
       "    </tr>\n",
       "    <tr>\n",
       "      <th>4</th>\n",
       "      <td>chr1H</td>\n",
       "      <td>pgsb</td>\n",
       "      <td>CDS</td>\n",
       "      <td>49583</td>\n",
       "      <td>49772</td>\n",
       "      <td>.</td>\n",
       "      <td>+</td>\n",
       "      <td>0</td>\n",
       "      <td>ID=HORVU.MOREX.r3.1HG0000010.1.CDS1</td>\n",
       "    </tr>\n",
       "  </tbody>\n",
       "</table>\n",
       "</div>"
      ],
      "text/plain": [
       "     chr source            type  start    end score strand phase  \\\n",
       "0  chr1H   pgsb            gene  49526  50649     .      +     .   \n",
       "1  chr1H   pgsb            mRNA  49526  50649     .      +     .   \n",
       "2  chr1H   pgsb  five_prime_UTR  49526  49582     .      +     .   \n",
       "3  chr1H   pgsb            exon  49526  49772     .      +     .   \n",
       "4  chr1H   pgsb             CDS  49583  49772     .      +     0   \n",
       "\n",
       "                                       attributes  \n",
       "0                    ID=HORVU.MOREX.r3.1HG0000010  \n",
       "1                  ID=HORVU.MOREX.r3.1HG0000010.1  \n",
       "2  ID=HORVU.MOREX.r3.1HG0000010.1.five_prime_UTR1  \n",
       "3            ID=HORVU.MOREX.r3.1HG0000010.1.exon1  \n",
       "4             ID=HORVU.MOREX.r3.1HG0000010.1.CDS1  "
      ]
     },
     "execution_count": 8,
     "metadata": {},
     "output_type": "execute_result"
    }
   ],
   "source": [
    "### --- Keeping in a separated dataframe the forward strands\n",
    "forw_Hv_Morex = df_Hv_Morex.loc[df_Hv_Morex['strand'].isin(['+'])]\n",
    "forw_Hv_Morex.head()"
   ]
  },
  {
   "cell_type": "code",
   "execution_count": 10,
   "metadata": {},
   "outputs": [
    {
     "data": {
      "text/html": [
       "<div>\n",
       "<style scoped>\n",
       "    .dataframe tbody tr th:only-of-type {\n",
       "        vertical-align: middle;\n",
       "    }\n",
       "\n",
       "    .dataframe tbody tr th {\n",
       "        vertical-align: top;\n",
       "    }\n",
       "\n",
       "    .dataframe thead th {\n",
       "        text-align: right;\n",
       "    }\n",
       "</style>\n",
       "<table border=\"1\" class=\"dataframe\">\n",
       "  <thead>\n",
       "    <tr style=\"text-align: right;\">\n",
       "      <th></th>\n",
       "      <th>chr</th>\n",
       "      <th>source</th>\n",
       "      <th>type</th>\n",
       "      <th>start</th>\n",
       "      <th>end</th>\n",
       "      <th>score</th>\n",
       "      <th>strand</th>\n",
       "      <th>phase</th>\n",
       "      <th>attributes</th>\n",
       "    </tr>\n",
       "  </thead>\n",
       "  <tbody>\n",
       "    <tr>\n",
       "      <th>16</th>\n",
       "      <td>chr1H</td>\n",
       "      <td>pgsb</td>\n",
       "      <td>gene</td>\n",
       "      <td>78284</td>\n",
       "      <td>81892</td>\n",
       "      <td>.</td>\n",
       "      <td>-</td>\n",
       "      <td>.</td>\n",
       "      <td>ID=HORVU.MOREX.r3.1HG0000040</td>\n",
       "    </tr>\n",
       "    <tr>\n",
       "      <th>17</th>\n",
       "      <td>chr1H</td>\n",
       "      <td>pgsb</td>\n",
       "      <td>mRNA</td>\n",
       "      <td>78284</td>\n",
       "      <td>81892</td>\n",
       "      <td>.</td>\n",
       "      <td>-</td>\n",
       "      <td>.</td>\n",
       "      <td>ID=HORVU.MOREX.r3.1HG0000040.1</td>\n",
       "    </tr>\n",
       "    <tr>\n",
       "      <th>18</th>\n",
       "      <td>chr1H</td>\n",
       "      <td>pgsb</td>\n",
       "      <td>three_prime_UTR</td>\n",
       "      <td>78284</td>\n",
       "      <td>78510</td>\n",
       "      <td>.</td>\n",
       "      <td>-</td>\n",
       "      <td>.</td>\n",
       "      <td>ID=HORVU.MOREX.r3.1HG0000040.1.three_prime_UTR1</td>\n",
       "    </tr>\n",
       "    <tr>\n",
       "      <th>19</th>\n",
       "      <td>chr1H</td>\n",
       "      <td>pgsb</td>\n",
       "      <td>exon</td>\n",
       "      <td>78284</td>\n",
       "      <td>78954</td>\n",
       "      <td>.</td>\n",
       "      <td>-</td>\n",
       "      <td>.</td>\n",
       "      <td>ID=HORVU.MOREX.r3.1HG0000040.1.exon1</td>\n",
       "    </tr>\n",
       "    <tr>\n",
       "      <th>20</th>\n",
       "      <td>chr1H</td>\n",
       "      <td>pgsb</td>\n",
       "      <td>CDS</td>\n",
       "      <td>78511</td>\n",
       "      <td>78954</td>\n",
       "      <td>.</td>\n",
       "      <td>-</td>\n",
       "      <td>0</td>\n",
       "      <td>ID=HORVU.MOREX.r3.1HG0000040.1.CDS1</td>\n",
       "    </tr>\n",
       "  </tbody>\n",
       "</table>\n",
       "</div>"
      ],
      "text/plain": [
       "      chr source             type  start    end score strand phase  \\\n",
       "16  chr1H   pgsb             gene  78284  81892     .      -     .   \n",
       "17  chr1H   pgsb             mRNA  78284  81892     .      -     .   \n",
       "18  chr1H   pgsb  three_prime_UTR  78284  78510     .      -     .   \n",
       "19  chr1H   pgsb             exon  78284  78954     .      -     .   \n",
       "20  chr1H   pgsb              CDS  78511  78954     .      -     0   \n",
       "\n",
       "                                         attributes  \n",
       "16                     ID=HORVU.MOREX.r3.1HG0000040  \n",
       "17                   ID=HORVU.MOREX.r3.1HG0000040.1  \n",
       "18  ID=HORVU.MOREX.r3.1HG0000040.1.three_prime_UTR1  \n",
       "19             ID=HORVU.MOREX.r3.1HG0000040.1.exon1  \n",
       "20              ID=HORVU.MOREX.r3.1HG0000040.1.CDS1  "
      ]
     },
     "execution_count": 10,
     "metadata": {},
     "output_type": "execute_result"
    }
   ],
   "source": [
    "### --- Keeping in a separated dataframe the reverse strands\n",
    "rev_Hv_Morex = df_Hv_Morex.loc[df_Hv_Morex['strand'].isin(['-'])]\n",
    "rev_Hv_Morex.head()"
   ]
  },
  {
   "cell_type": "code",
   "execution_count": 11,
   "metadata": {},
   "outputs": [
    {
     "data": {
      "text/html": [
       "<div>\n",
       "<style scoped>\n",
       "    .dataframe tbody tr th:only-of-type {\n",
       "        vertical-align: middle;\n",
       "    }\n",
       "\n",
       "    .dataframe tbody tr th {\n",
       "        vertical-align: top;\n",
       "    }\n",
       "\n",
       "    .dataframe thead th {\n",
       "        text-align: right;\n",
       "    }\n",
       "</style>\n",
       "<table border=\"1\" class=\"dataframe\">\n",
       "  <thead>\n",
       "    <tr style=\"text-align: right;\">\n",
       "      <th></th>\n",
       "      <th>chr</th>\n",
       "      <th>source</th>\n",
       "      <th>type</th>\n",
       "      <th>start</th>\n",
       "      <th>end</th>\n",
       "      <th>score</th>\n",
       "      <th>strand</th>\n",
       "      <th>phase</th>\n",
       "      <th>attributes</th>\n",
       "    </tr>\n",
       "  </thead>\n",
       "  <tbody>\n",
       "    <tr>\n",
       "      <th>2</th>\n",
       "      <td>chr1H</td>\n",
       "      <td>pgsb</td>\n",
       "      <td>five_prime_UTR</td>\n",
       "      <td>49526</td>\n",
       "      <td>49582</td>\n",
       "      <td>.</td>\n",
       "      <td>+</td>\n",
       "      <td>.</td>\n",
       "      <td>ID=HORVU.MOREX.r3.1HG0000010.1.five_prime_UTR1</td>\n",
       "    </tr>\n",
       "    <tr>\n",
       "      <th>7</th>\n",
       "      <td>chr1H</td>\n",
       "      <td>pgsb</td>\n",
       "      <td>three_prime_UTR</td>\n",
       "      <td>50428</td>\n",
       "      <td>50649</td>\n",
       "      <td>.</td>\n",
       "      <td>+</td>\n",
       "      <td>.</td>\n",
       "      <td>ID=HORVU.MOREX.r3.1HG0000010.1.three_prime_UTR2</td>\n",
       "    </tr>\n",
       "    <tr>\n",
       "      <th>62</th>\n",
       "      <td>chr1H</td>\n",
       "      <td>pgsb</td>\n",
       "      <td>five_prime_UTR</td>\n",
       "      <td>132221</td>\n",
       "      <td>132375</td>\n",
       "      <td>.</td>\n",
       "      <td>+</td>\n",
       "      <td>.</td>\n",
       "      <td>ID=HORVU.MOREX.r3.1HG0000060.1.five_prime_UTR1</td>\n",
       "    </tr>\n",
       "    <tr>\n",
       "      <th>105</th>\n",
       "      <td>chr1H</td>\n",
       "      <td>pgsb</td>\n",
       "      <td>three_prime_UTR</td>\n",
       "      <td>138505</td>\n",
       "      <td>138736</td>\n",
       "      <td>.</td>\n",
       "      <td>+</td>\n",
       "      <td>.</td>\n",
       "      <td>ID=HORVU.MOREX.r3.1HG0000060.1.three_prime_UTR2</td>\n",
       "    </tr>\n",
       "    <tr>\n",
       "      <th>109</th>\n",
       "      <td>chr1H</td>\n",
       "      <td>pgsb</td>\n",
       "      <td>five_prime_UTR</td>\n",
       "      <td>146607</td>\n",
       "      <td>146749</td>\n",
       "      <td>.</td>\n",
       "      <td>+</td>\n",
       "      <td>.</td>\n",
       "      <td>ID=HORVU.MOREX.r3.1HG0000070.1.five_prime_UTR1</td>\n",
       "    </tr>\n",
       "  </tbody>\n",
       "</table>\n",
       "</div>"
      ],
      "text/plain": [
       "       chr source             type   start     end score strand phase  \\\n",
       "2    chr1H   pgsb   five_prime_UTR   49526   49582     .      +     .   \n",
       "7    chr1H   pgsb  three_prime_UTR   50428   50649     .      +     .   \n",
       "62   chr1H   pgsb   five_prime_UTR  132221  132375     .      +     .   \n",
       "105  chr1H   pgsb  three_prime_UTR  138505  138736     .      +     .   \n",
       "109  chr1H   pgsb   five_prime_UTR  146607  146749     .      +     .   \n",
       "\n",
       "                                          attributes  \n",
       "2     ID=HORVU.MOREX.r3.1HG0000010.1.five_prime_UTR1  \n",
       "7    ID=HORVU.MOREX.r3.1HG0000010.1.three_prime_UTR2  \n",
       "62    ID=HORVU.MOREX.r3.1HG0000060.1.five_prime_UTR1  \n",
       "105  ID=HORVU.MOREX.r3.1HG0000060.1.three_prime_UTR2  \n",
       "109   ID=HORVU.MOREX.r3.1HG0000070.1.five_prime_UTR1  "
      ]
     },
     "execution_count": 11,
     "metadata": {},
     "output_type": "execute_result"
    }
   ],
   "source": [
    "### --- Keeping in a separated dataframe the UTR regions on the forward strands\n",
    "UTR_forw_Hv_Morex = forw_Hv_Morex.loc[df_Hv_Morex['type'].isin(['three_prime_UTR','five_prime_UTR'])]\n",
    "UTR_forw_Hv_Morex.head()"
   ]
  },
  {
   "cell_type": "code",
   "execution_count": 12,
   "metadata": {},
   "outputs": [],
   "source": [
    "### --- Writing to a tsv formatted file the UTR_df_rev dataframe\n",
    "UTR_forw_Hv_Morex.to_csv('Data/Hv_Morex_UTRforw.tsv',sep='\\t',index=False,header=False)"
   ]
  },
  {
   "cell_type": "code",
   "execution_count": 13,
   "metadata": {
    "scrolled": true
   },
   "outputs": [
    {
     "data": {
      "text/html": [
       "<div>\n",
       "<style scoped>\n",
       "    .dataframe tbody tr th:only-of-type {\n",
       "        vertical-align: middle;\n",
       "    }\n",
       "\n",
       "    .dataframe tbody tr th {\n",
       "        vertical-align: top;\n",
       "    }\n",
       "\n",
       "    .dataframe thead th {\n",
       "        text-align: right;\n",
       "    }\n",
       "</style>\n",
       "<table border=\"1\" class=\"dataframe\">\n",
       "  <thead>\n",
       "    <tr style=\"text-align: right;\">\n",
       "      <th></th>\n",
       "      <th>chr</th>\n",
       "      <th>source</th>\n",
       "      <th>type</th>\n",
       "      <th>start</th>\n",
       "      <th>end</th>\n",
       "      <th>score</th>\n",
       "      <th>strand</th>\n",
       "      <th>phase</th>\n",
       "      <th>attributes</th>\n",
       "    </tr>\n",
       "  </thead>\n",
       "  <tbody>\n",
       "    <tr>\n",
       "      <th>18</th>\n",
       "      <td>chr1H</td>\n",
       "      <td>pgsb</td>\n",
       "      <td>three_prime_UTR</td>\n",
       "      <td>78284</td>\n",
       "      <td>78510</td>\n",
       "      <td>.</td>\n",
       "      <td>-</td>\n",
       "      <td>.</td>\n",
       "      <td>ID=HORVU.MOREX.r3.1HG0000040.1.three_prime_UTR1</td>\n",
       "    </tr>\n",
       "    <tr>\n",
       "      <th>39</th>\n",
       "      <td>chr1H</td>\n",
       "      <td>pgsb</td>\n",
       "      <td>five_prime_UTR</td>\n",
       "      <td>81706</td>\n",
       "      <td>81892</td>\n",
       "      <td>.</td>\n",
       "      <td>-</td>\n",
       "      <td>.</td>\n",
       "      <td>ID=HORVU.MOREX.r3.1HG0000040.1.five_prime_UTR2</td>\n",
       "    </tr>\n",
       "    <tr>\n",
       "      <th>42</th>\n",
       "      <td>chr1H</td>\n",
       "      <td>pgsb</td>\n",
       "      <td>three_prime_UTR</td>\n",
       "      <td>84091</td>\n",
       "      <td>84317</td>\n",
       "      <td>.</td>\n",
       "      <td>-</td>\n",
       "      <td>.</td>\n",
       "      <td>ID=HORVU.MOREX.r3.1HG0000050.1.three_prime_UTR1</td>\n",
       "    </tr>\n",
       "    <tr>\n",
       "      <th>59</th>\n",
       "      <td>chr1H</td>\n",
       "      <td>pgsb</td>\n",
       "      <td>five_prime_UTR</td>\n",
       "      <td>86846</td>\n",
       "      <td>87063</td>\n",
       "      <td>.</td>\n",
       "      <td>-</td>\n",
       "      <td>.</td>\n",
       "      <td>ID=HORVU.MOREX.r3.1HG0000050.1.five_prime_UTR2</td>\n",
       "    </tr>\n",
       "    <tr>\n",
       "      <th>138</th>\n",
       "      <td>chr1H</td>\n",
       "      <td>pgsb</td>\n",
       "      <td>three_prime_UTR</td>\n",
       "      <td>156767</td>\n",
       "      <td>157203</td>\n",
       "      <td>.</td>\n",
       "      <td>-</td>\n",
       "      <td>.</td>\n",
       "      <td>ID=HORVU.MOREX.r3.1HG0000090.1.three_prime_UTR1</td>\n",
       "    </tr>\n",
       "  </tbody>\n",
       "</table>\n",
       "</div>"
      ],
      "text/plain": [
       "       chr source             type   start     end score strand phase  \\\n",
       "18   chr1H   pgsb  three_prime_UTR   78284   78510     .      -     .   \n",
       "39   chr1H   pgsb   five_prime_UTR   81706   81892     .      -     .   \n",
       "42   chr1H   pgsb  three_prime_UTR   84091   84317     .      -     .   \n",
       "59   chr1H   pgsb   five_prime_UTR   86846   87063     .      -     .   \n",
       "138  chr1H   pgsb  three_prime_UTR  156767  157203     .      -     .   \n",
       "\n",
       "                                          attributes  \n",
       "18   ID=HORVU.MOREX.r3.1HG0000040.1.three_prime_UTR1  \n",
       "39    ID=HORVU.MOREX.r3.1HG0000040.1.five_prime_UTR2  \n",
       "42   ID=HORVU.MOREX.r3.1HG0000050.1.three_prime_UTR1  \n",
       "59    ID=HORVU.MOREX.r3.1HG0000050.1.five_prime_UTR2  \n",
       "138  ID=HORVU.MOREX.r3.1HG0000090.1.three_prime_UTR1  "
      ]
     },
     "execution_count": 13,
     "metadata": {},
     "output_type": "execute_result"
    }
   ],
   "source": [
    "### --- Keeping in a separated dataframe the UTR regions on the reverse strands\n",
    "UTR_rev_Hv_Morex = rev_Hv_Morex.loc[df_Hv_Morex['type'].isin(['three_prime_UTR','five_prime_UTR'])]\n",
    "UTR_rev_Hv_Morex.head()"
   ]
  },
  {
   "cell_type": "code",
   "execution_count": 14,
   "metadata": {},
   "outputs": [],
   "source": [
    "### --- Writing to a tsv formatted file the UTR_df_rev dataframe\n",
    "UTR_rev_Hv_Morex.to_csv('Data/Hv_Morex_UTRrev.tsv',sep='\\t',index=False,header=False)"
   ]
  },
  {
   "cell_type": "markdown",
   "metadata": {},
   "source": [
    "### 2.3.3 Extracting introns from the whole genome"
   ]
  },
  {
   "cell_type": "code",
   "execution_count": 21,
   "metadata": {},
   "outputs": [],
   "source": [
    "### --- Extracting introns from Hv_Morex\n",
    "extract_tot_introns('Data/Hv_Morex_exon.tsv', 'Output/Hv_Morex_introns.tsv')"
   ]
  },
  {
   "cell_type": "code",
   "execution_count": 22,
   "metadata": {},
   "outputs": [
    {
     "data": {
      "text/html": [
       "<div>\n",
       "<style scoped>\n",
       "    .dataframe tbody tr th:only-of-type {\n",
       "        vertical-align: middle;\n",
       "    }\n",
       "\n",
       "    .dataframe tbody tr th {\n",
       "        vertical-align: top;\n",
       "    }\n",
       "\n",
       "    .dataframe thead th {\n",
       "        text-align: right;\n",
       "    }\n",
       "</style>\n",
       "<table border=\"1\" class=\"dataframe\">\n",
       "  <thead>\n",
       "    <tr style=\"text-align: right;\">\n",
       "      <th></th>\n",
       "      <th>ID</th>\n",
       "      <th>type</th>\n",
       "      <th>start</th>\n",
       "      <th>end</th>\n",
       "      <th>length</th>\n",
       "    </tr>\n",
       "  </thead>\n",
       "  <tbody>\n",
       "    <tr>\n",
       "      <th>0</th>\n",
       "      <td>ID=HORVU.MOREX.r3.1HG0000010.1</td>\n",
       "      <td>intron</td>\n",
       "      <td>49773</td>\n",
       "      <td>50194</td>\n",
       "      <td>423</td>\n",
       "    </tr>\n",
       "    <tr>\n",
       "      <th>1</th>\n",
       "      <td>ID=HORVU.MOREX.r3.1HG0000040.1</td>\n",
       "      <td>intron</td>\n",
       "      <td>78955</td>\n",
       "      <td>79062</td>\n",
       "      <td>109</td>\n",
       "    </tr>\n",
       "    <tr>\n",
       "      <th>2</th>\n",
       "      <td>ID=HORVU.MOREX.r3.1HG0000040.1</td>\n",
       "      <td>intron</td>\n",
       "      <td>79105</td>\n",
       "      <td>79608</td>\n",
       "      <td>505</td>\n",
       "    </tr>\n",
       "    <tr>\n",
       "      <th>3</th>\n",
       "      <td>ID=HORVU.MOREX.r3.1HG0000040.1</td>\n",
       "      <td>intron</td>\n",
       "      <td>79677</td>\n",
       "      <td>79756</td>\n",
       "      <td>81</td>\n",
       "    </tr>\n",
       "    <tr>\n",
       "      <th>4</th>\n",
       "      <td>ID=HORVU.MOREX.r3.1HG0000040.1</td>\n",
       "      <td>intron</td>\n",
       "      <td>79800</td>\n",
       "      <td>79900</td>\n",
       "      <td>102</td>\n",
       "    </tr>\n",
       "    <tr>\n",
       "      <th>...</th>\n",
       "      <td>...</td>\n",
       "      <td>...</td>\n",
       "      <td>...</td>\n",
       "      <td>...</td>\n",
       "      <td>...</td>\n",
       "    </tr>\n",
       "    <tr>\n",
       "      <th>95</th>\n",
       "      <td>ID=HORVU.MOREX.r3.1HG0000170.1</td>\n",
       "      <td>intron</td>\n",
       "      <td>424743</td>\n",
       "      <td>429267</td>\n",
       "      <td>4526</td>\n",
       "    </tr>\n",
       "    <tr>\n",
       "      <th>96</th>\n",
       "      <td>ID=HORVU.MOREX.r3.1HG0000190.1</td>\n",
       "      <td>intron</td>\n",
       "      <td>437991</td>\n",
       "      <td>438084</td>\n",
       "      <td>95</td>\n",
       "    </tr>\n",
       "    <tr>\n",
       "      <th>97</th>\n",
       "      <td>ID=HORVU.MOREX.r3.1HG0000210.1</td>\n",
       "      <td>intron</td>\n",
       "      <td>540340</td>\n",
       "      <td>540864</td>\n",
       "      <td>526</td>\n",
       "    </tr>\n",
       "    <tr>\n",
       "      <th>98</th>\n",
       "      <td>ID=HORVU.MOREX.r3.1HG0000210.1</td>\n",
       "      <td>intron</td>\n",
       "      <td>543264</td>\n",
       "      <td>543345</td>\n",
       "      <td>83</td>\n",
       "    </tr>\n",
       "    <tr>\n",
       "      <th>99</th>\n",
       "      <td>ID=HORVU.MOREX.r3.1HG0000220.1</td>\n",
       "      <td>intron</td>\n",
       "      <td>580551</td>\n",
       "      <td>583395</td>\n",
       "      <td>2846</td>\n",
       "    </tr>\n",
       "  </tbody>\n",
       "</table>\n",
       "<p>100 rows × 5 columns</p>\n",
       "</div>"
      ],
      "text/plain": [
       "                                ID     type   start     end  length\n",
       "0   ID=HORVU.MOREX.r3.1HG0000010.1  intron    49773   50194     423\n",
       "1   ID=HORVU.MOREX.r3.1HG0000040.1  intron    78955   79062     109\n",
       "2   ID=HORVU.MOREX.r3.1HG0000040.1  intron    79105   79608     505\n",
       "3   ID=HORVU.MOREX.r3.1HG0000040.1  intron    79677   79756      81\n",
       "4   ID=HORVU.MOREX.r3.1HG0000040.1  intron    79800   79900     102\n",
       "..                             ...      ...     ...     ...     ...\n",
       "95  ID=HORVU.MOREX.r3.1HG0000170.1  intron   424743  429267    4526\n",
       "96  ID=HORVU.MOREX.r3.1HG0000190.1  intron   437991  438084      95\n",
       "97  ID=HORVU.MOREX.r3.1HG0000210.1  intron   540340  540864     526\n",
       "98  ID=HORVU.MOREX.r3.1HG0000210.1  intron   543264  543345      83\n",
       "99  ID=HORVU.MOREX.r3.1HG0000220.1  intron   580551  583395    2846\n",
       "\n",
       "[100 rows x 5 columns]"
      ]
     },
     "execution_count": 22,
     "metadata": {},
     "output_type": "execute_result"
    }
   ],
   "source": [
    "introns_Hv_Morex = pd.read_csv('Output/Hv_Morex_introns.tsv', sep = '\\t')\n",
    "introns_Hv_Morex[:100]"
   ]
  },
  {
   "cell_type": "code",
   "execution_count": 23,
   "metadata": {},
   "outputs": [],
   "source": [
    "### --- Counting introns type in Hv_MorexHC\n",
    "introns_dictionary_Hv_Morex = counting_introns_type(exon_Hv_Morex)"
   ]
  },
  {
   "cell_type": "code",
   "execution_count": 25,
   "metadata": {},
   "outputs": [
    {
     "name": "stdout",
     "output_type": "stream",
     "text": [
      "Intronless are: 46175\n",
      "Intronpoor are: 22342\n",
      "Intronrich are: 13170\n"
     ]
    }
   ],
   "source": [
    "n_intronless_Hv_Morex, n_intronpoor_Hv_Morex, n_intronrich_Hv_Morex, intronless_Hv_Morex, intronpoor_Hv_Morex, intronrich_Hv_Morex = splitting_introns_type(introns_dictionary_Hv_Morex)"
   ]
  },
  {
   "cell_type": "code",
   "execution_count": 27,
   "metadata": {},
   "outputs": [
    {
     "data": {
      "image/png": "[encoded data removed]",
      "text/plain": [
       "<Figure size 720x504 with 1 Axes>"
      ]
     },
     "metadata": {},
     "output_type": "display_data"
    }
   ],
   "source": [
    "genes = ['Intronless', 'Intronpoor', 'Intronrich']\n",
    "data_Hv_Morex = [46175, 22342, 13170]\n",
    "fig = plt.figure(figsize =(10, 7))\n",
    "plt.pie(data_Hv_Morex, labels = genes, autopct='%1.0f%%')\n",
    "plt.title(\"Genes Hv_Morex Distribution\", bbox={'facecolor':'0.8', 'pad':5})\n",
    "plt.show()"
   ]
  },
  {
   "cell_type": "code",
   "execution_count": 28,
   "metadata": {},
   "outputs": [],
   "source": [
    "### --- Creating the list of Hv_Morex gene IDs to check the number of transcripts using command line\n",
    "intronless_file_Hv_Morex = open('Output/Hv_Morex_intronlessIDs.txt', 'a')\n",
    "intronpoor_file_Hv_Morex = open('Output/Hv_Morex_intronpoorIDs.txt', 'a')\n",
    "intronrich_file_Hv_Morex = open('Output/Hv_Morex_intronrichIDs.txt', 'a')\n",
    "for i in range(len(intronless_Hv_Morex)):\n",
    "    if i == len(intronless_Hv_Morex) -1:\n",
    "        intronless_file_Hv_Morex.write(intronless_Hv_Morex[i])\n",
    "    else:\n",
    "        intronless_file_Hv_Morex.write(intronless_Hv_Morex[i] + '\\n')\n",
    "intronless_file_Hv_Morex.close()\n",
    "\n",
    "for i in range(len(intronpoor_Hv_Morex)):\n",
    "    if i == len(intronpoor_Hv_Morex) -1:\n",
    "        intronpoor_file_Hv_Morex.write(intronpoor_Hv_Morex[i])\n",
    "    else:\n",
    "        intronpoor_file_Hv_Morex.write(intronpoor_Hv_Morex[i] + '\\n')\n",
    "intronpoor_file_Hv_Morex.close()\n",
    "\n",
    "for i in range(len(intronrich_Hv_Morex)):\n",
    "    if i == len(intronrich_Hv_Morex) -1:\n",
    "        intronrich_file_Hv_Morex.write(intronrich_Hv_Morex[i])\n",
    "    else:\n",
    "        intronrich_file_Hv_Morex.write(intronrich_Hv_Morex[i]+'\\n')\n",
    "intronrich_file_Hv_Morex.close()\n"
   ]
  },
  {
   "cell_type": "code",
   "execution_count": 29,
   "metadata": {},
   "outputs": [],
   "source": [
    "### --- Storing the number of transcripts in intron-less/poor/rich genes within a variable \n",
    "n_mRNA_intronless_Hv_Morex = ! grep -f Output/Hv_Morex_intronlessIDs.txt Data/Hv_Morex_nohashtag.pgsb.Jul2020.gff3 | awk -F '\\t' '{print $3}' | grep -w 'mRNA' | wc -l\n",
    "n_mRNA_intronpoor_Hv_Morex = ! grep -f Output/Hv_Morex_intronpoorIDs.txt Data/Hv_Morex_nohashtag.pgsb.Jul2020.gff3 | awk -F '\\t' '{print $3}' | grep -w 'mRNA' | wc -l\n",
    "n_mRNA_intronrich_Hv_Morex = ! grep -f Output/Hv_Morex_intronrichIDs.txt Data/Hv_Morex_nohashtag.pgsb.Jul2020.gff3 | awk -F '\\t' '{print $3}' | grep -w 'mRNA' | wc -l"
   ]
  },
  {
   "cell_type": "code",
   "execution_count": 30,
   "metadata": {},
   "outputs": [
    {
     "name": "stdout",
     "output_type": "stream",
     "text": [
      "1.0\n",
      "1.0027302837704772\n",
      "1.1702353834472285\n"
     ]
    }
   ],
   "source": [
    "### --- Checking the average number of transcripts for each gene-type\n",
    "avg_mRNA_intronless_Hv_Morex = int(n_mRNA_intronless_Hv_Morex[0])/n_intronless_Hv_Morex\n",
    "print(avg_mRNA_intronless_Hv_Morex)\n",
    "avg_mRNA_intronpoor_Hv_Morex = int(n_mRNA_intronpoor_Hv_Morex[0])/n_intronpoor_Hv_Morex\n",
    "print(avg_mRNA_intronpoor_Hv_Morex)\n",
    "avg_mRNA_intronrich_Hv_Morex = int(n_mRNA_intronrich_Hv_Morex[0])/n_intronrich_Hv_Morex\n",
    "print(avg_mRNA_intronrich_Hv_Morex)"
   ]
  },
  {
   "cell_type": "markdown",
   "metadata": {},
   "source": [
    "### 2.3.4 Extracting introns from UTR regions"
   ]
  },
  {
   "cell_type": "code",
   "execution_count": 36,
   "metadata": {},
   "outputs": [],
   "source": [
    "### --- Extracting introns from UTR forward Hv_Morex\n",
    "extract_UTR_introns('Data/Hv_Morex_UTRforw.tsv', 'Output/Hv_Morex_UTRforw_introns.tsv')"
   ]
  },
  {
   "cell_type": "code",
   "execution_count": 37,
   "metadata": {},
   "outputs": [],
   "source": [
    "### --- Extracting introns from UTR reverse Hv_Morex\n",
    "extract_UTR_introns('Data/Hv_Morex_UTRrev.tsv', 'Output/Hv_Morex_UTRrev_introns.tsv')"
   ]
  },
  {
   "cell_type": "code",
   "execution_count": 38,
   "metadata": {
    "scrolled": true
   },
   "outputs": [
    {
     "data": {
      "text/html": [
       "<div>\n",
       "<style scoped>\n",
       "    .dataframe tbody tr th:only-of-type {\n",
       "        vertical-align: middle;\n",
       "    }\n",
       "\n",
       "    .dataframe tbody tr th {\n",
       "        vertical-align: top;\n",
       "    }\n",
       "\n",
       "    .dataframe thead th {\n",
       "        text-align: right;\n",
       "    }\n",
       "</style>\n",
       "<table border=\"1\" class=\"dataframe\">\n",
       "  <thead>\n",
       "    <tr style=\"text-align: right;\">\n",
       "      <th></th>\n",
       "      <th>ID</th>\n",
       "      <th>type</th>\n",
       "      <th>start</th>\n",
       "      <th>end</th>\n",
       "      <th>length</th>\n",
       "    </tr>\n",
       "  </thead>\n",
       "  <tbody>\n",
       "    <tr>\n",
       "      <th>0</th>\n",
       "      <td>ID=HORVU.MOREX.r3.1HG0000070.1</td>\n",
       "      <td>intron five_prime_UTR</td>\n",
       "      <td>146750</td>\n",
       "      <td>146980</td>\n",
       "      <td>232</td>\n",
       "    </tr>\n",
       "    <tr>\n",
       "      <th>1</th>\n",
       "      <td>ID=HORVU.MOREX.r3.1HG0000080.1</td>\n",
       "      <td>intron five_prime_UTR</td>\n",
       "      <td>153530</td>\n",
       "      <td>153625</td>\n",
       "      <td>97</td>\n",
       "    </tr>\n",
       "    <tr>\n",
       "      <th>2</th>\n",
       "      <td>ID=HORVU.MOREX.r3.1HG0000620.1</td>\n",
       "      <td>intron five_prime_UTR</td>\n",
       "      <td>1614154</td>\n",
       "      <td>1615780</td>\n",
       "      <td>1628</td>\n",
       "    </tr>\n",
       "    <tr>\n",
       "      <th>3</th>\n",
       "      <td>ID=HORVU.MOREX.r3.1HG0000620.2</td>\n",
       "      <td>intron five_prime_UTR</td>\n",
       "      <td>1614154</td>\n",
       "      <td>1615780</td>\n",
       "      <td>1628</td>\n",
       "    </tr>\n",
       "    <tr>\n",
       "      <th>4</th>\n",
       "      <td>ID=HORVU.MOREX.r3.1HG0000620.3</td>\n",
       "      <td>intron five_prime_UTR</td>\n",
       "      <td>1614665</td>\n",
       "      <td>1615780</td>\n",
       "      <td>1117</td>\n",
       "    </tr>\n",
       "  </tbody>\n",
       "</table>\n",
       "</div>"
      ],
      "text/plain": [
       "                               ID                   type    start      end  \\\n",
       "0  ID=HORVU.MOREX.r3.1HG0000070.1  intron five_prime_UTR   146750   146980   \n",
       "1  ID=HORVU.MOREX.r3.1HG0000080.1  intron five_prime_UTR   153530   153625   \n",
       "2  ID=HORVU.MOREX.r3.1HG0000620.1  intron five_prime_UTR  1614154  1615780   \n",
       "3  ID=HORVU.MOREX.r3.1HG0000620.2  intron five_prime_UTR  1614154  1615780   \n",
       "4  ID=HORVU.MOREX.r3.1HG0000620.3  intron five_prime_UTR  1614665  1615780   \n",
       "\n",
       "   length  \n",
       "0     232  \n",
       "1      97  \n",
       "2    1628  \n",
       "3    1628  \n",
       "4    1117  "
      ]
     },
     "execution_count": 38,
     "metadata": {},
     "output_type": "execute_result"
    }
   ],
   "source": [
    "introns_UTR_forw_Hv_Morex = pd.read_csv('Output/Hv_Morex_UTRforw_introns.tsv', sep='\\t')\n",
    "introns_UTR_forw_Hv_Morex.head()"
   ]
  },
  {
   "cell_type": "code",
   "execution_count": 39,
   "metadata": {},
   "outputs": [
    {
     "data": {
      "text/html": [
       "<div>\n",
       "<style scoped>\n",
       "    .dataframe tbody tr th:only-of-type {\n",
       "        vertical-align: middle;\n",
       "    }\n",
       "\n",
       "    .dataframe tbody tr th {\n",
       "        vertical-align: top;\n",
       "    }\n",
       "\n",
       "    .dataframe thead th {\n",
       "        text-align: right;\n",
       "    }\n",
       "</style>\n",
       "<table border=\"1\" class=\"dataframe\">\n",
       "  <thead>\n",
       "    <tr style=\"text-align: right;\">\n",
       "      <th></th>\n",
       "      <th>ID</th>\n",
       "      <th>type</th>\n",
       "      <th>start</th>\n",
       "      <th>end</th>\n",
       "      <th>length</th>\n",
       "    </tr>\n",
       "  </thead>\n",
       "  <tbody>\n",
       "    <tr>\n",
       "      <th>0</th>\n",
       "      <td>ID=HORVU.MOREX.r3.1HG0000130.1</td>\n",
       "      <td>intron three_prime_UTR</td>\n",
       "      <td>377002</td>\n",
       "      <td>377104</td>\n",
       "      <td>104</td>\n",
       "    </tr>\n",
       "    <tr>\n",
       "      <th>1</th>\n",
       "      <td>ID=HORVU.MOREX.r3.1HG0000350.1</td>\n",
       "      <td>intron five_prime_UTR</td>\n",
       "      <td>1156130</td>\n",
       "      <td>1159354</td>\n",
       "      <td>3226</td>\n",
       "    </tr>\n",
       "    <tr>\n",
       "      <th>2</th>\n",
       "      <td>ID=HORVU.MOREX.r3.1HG0001120.1</td>\n",
       "      <td>intron five_prime_UTR</td>\n",
       "      <td>2577943</td>\n",
       "      <td>2580334</td>\n",
       "      <td>2393</td>\n",
       "    </tr>\n",
       "    <tr>\n",
       "      <th>3</th>\n",
       "      <td>ID=HORVU.MOREX.r3.1HG0001400.1</td>\n",
       "      <td>intron five_prime_UTR</td>\n",
       "      <td>3193629</td>\n",
       "      <td>3198818</td>\n",
       "      <td>5191</td>\n",
       "    </tr>\n",
       "    <tr>\n",
       "      <th>4</th>\n",
       "      <td>ID=HORVU.MOREX.r3.1HG0001400.1</td>\n",
       "      <td>intron five_prime_UTR</td>\n",
       "      <td>3198962</td>\n",
       "      <td>3199088</td>\n",
       "      <td>128</td>\n",
       "    </tr>\n",
       "  </tbody>\n",
       "</table>\n",
       "</div>"
      ],
      "text/plain": [
       "                               ID                    type    start      end  \\\n",
       "0  ID=HORVU.MOREX.r3.1HG0000130.1  intron three_prime_UTR   377002   377104   \n",
       "1  ID=HORVU.MOREX.r3.1HG0000350.1   intron five_prime_UTR  1156130  1159354   \n",
       "2  ID=HORVU.MOREX.r3.1HG0001120.1   intron five_prime_UTR  2577943  2580334   \n",
       "3  ID=HORVU.MOREX.r3.1HG0001400.1   intron five_prime_UTR  3193629  3198818   \n",
       "4  ID=HORVU.MOREX.r3.1HG0001400.1   intron five_prime_UTR  3198962  3199088   \n",
       "\n",
       "   length  \n",
       "0     104  \n",
       "1    3226  \n",
       "2    2393  \n",
       "3    5191  \n",
       "4     128  "
      ]
     },
     "execution_count": 39,
     "metadata": {},
     "output_type": "execute_result"
    }
   ],
   "source": [
    "introns_UTR_rev_Hv_Morex = pd.read_csv('Output/Hv_Morex_UTRrev_introns.tsv', sep = '\\t')\n",
    "introns_UTR_rev_Hv_Morex.head()"
   ]
  },
  {
   "cell_type": "code",
   "execution_count": 40,
   "metadata": {},
   "outputs": [],
   "source": [
    "### --- Concatenating the UTR_introns to build a unique dataframe\n",
    "frames_Hv_Morex = [introns_UTR_forw_Hv_Morex, introns_UTR_rev_Hv_Morex]\n",
    "introns_UTR_Hv_Morex = pd.concat(frames_Hv_Morex)"
   ]
  },
  {
   "cell_type": "code",
   "execution_count": 41,
   "metadata": {},
   "outputs": [
    {
     "data": {
      "text/plain": [
       "count     5711.000000\n",
       "mean       897.227981\n",
       "std       2447.933245\n",
       "min         33.000000\n",
       "25%        119.000000\n",
       "50%        396.000000\n",
       "75%        932.000000\n",
       "max      74239.000000\n",
       "Name: length, dtype: float64"
      ]
     },
     "execution_count": 41,
     "metadata": {},
     "output_type": "execute_result"
    }
   ],
   "source": [
    "### --- Performing some basic statistics \n",
    "introns_UTR_Hv_Morex['length'].describe()"
   ]
  },
  {
   "cell_type": "code",
   "execution_count": 42,
   "metadata": {},
   "outputs": [
    {
     "data": {
      "text/plain": [
       "<AxesSubplot:ylabel='Density'>"
      ]
     },
     "execution_count": 42,
     "metadata": {},
     "output_type": "execute_result"
    },
    {
     "data": {
      "image/png": "[encoded data removed]",
      "text/plain": [
       "<Figure size 432x288 with 1 Axes>"
      ]
     },
     "metadata": {
      "needs_background": "light"
     },
     "output_type": "display_data"
    }
   ],
   "source": [
    "### --- Plotting the distribution of UTR introns length\n",
    "introns_UTR_Hv_Morex['length'].plot.density()"
   ]
  },
  {
   "cell_type": "code",
   "execution_count": 43,
   "metadata": {},
   "outputs": [
    {
     "data": {
      "text/plain": [
       "<AxesSubplot:>"
      ]
     },
     "execution_count": 43,
     "metadata": {},
     "output_type": "execute_result"
    },
    {
     "data": {
      "image/png": "[encoded data removed]",
      "text/plain": [
       "<Figure size 432x288 with 1 Axes>"
      ]
     },
     "metadata": {
      "needs_background": "light"
     },
     "output_type": "display_data"
    }
   ],
   "source": [
    "### --- Plotting the boxplot of UTR introns length without outliers\n",
    "introns_UTR_Hv_Morex.boxplot(column='length', return_type='axes', showfliers=False) # showfliers = False -> discard outliers"
   ]
  },
  {
   "cell_type": "code",
   "execution_count": 44,
   "metadata": {},
   "outputs": [],
   "source": [
    "### --- splitting in introns 3'UTR and 5'UTR to eventually if there are differences among the two\n",
    "introns_UTR3_Hv_Morex = introns_UTR_Hv_Morex.loc[introns_UTR_Hv_Morex['type'].isin(['intron three_prime_UTR'])]\n",
    "introns_UTR5_Hv_Morex = introns_UTR_Hv_Morex.loc[introns_UTR_Hv_Morex['type'].isin(['intron five_prime_UTR'])]"
   ]
  },
  {
   "cell_type": "code",
   "execution_count": 45,
   "metadata": {},
   "outputs": [
    {
     "data": {
      "text/html": [
       "<div>\n",
       "<style scoped>\n",
       "    .dataframe tbody tr th:only-of-type {\n",
       "        vertical-align: middle;\n",
       "    }\n",
       "\n",
       "    .dataframe tbody tr th {\n",
       "        vertical-align: top;\n",
       "    }\n",
       "\n",
       "    .dataframe thead th {\n",
       "        text-align: right;\n",
       "    }\n",
       "</style>\n",
       "<table border=\"1\" class=\"dataframe\">\n",
       "  <thead>\n",
       "    <tr style=\"text-align: right;\">\n",
       "      <th></th>\n",
       "      <th>ID</th>\n",
       "      <th>type</th>\n",
       "      <th>start</th>\n",
       "      <th>end</th>\n",
       "      <th>length</th>\n",
       "    </tr>\n",
       "  </thead>\n",
       "  <tbody>\n",
       "    <tr>\n",
       "      <th>11</th>\n",
       "      <td>ID=HORVU.MOREX.r3.1HG0003090.2</td>\n",
       "      <td>intron three_prime_UTR</td>\n",
       "      <td>5946475</td>\n",
       "      <td>5974459</td>\n",
       "      <td>27986</td>\n",
       "    </tr>\n",
       "    <tr>\n",
       "      <th>12</th>\n",
       "      <td>ID=HORVU.MOREX.r3.1HG0003090.6</td>\n",
       "      <td>intron three_prime_UTR</td>\n",
       "      <td>5946475</td>\n",
       "      <td>5974459</td>\n",
       "      <td>27986</td>\n",
       "    </tr>\n",
       "    <tr>\n",
       "      <th>24</th>\n",
       "      <td>ID=HORVU.MOREX.r3.1HG0007160.1</td>\n",
       "      <td>intron three_prime_UTR</td>\n",
       "      <td>14661381</td>\n",
       "      <td>14662100</td>\n",
       "      <td>721</td>\n",
       "    </tr>\n",
       "    <tr>\n",
       "      <th>25</th>\n",
       "      <td>ID=HORVU.MOREX.r3.1HG0007160.1</td>\n",
       "      <td>intron three_prime_UTR</td>\n",
       "      <td>14662182</td>\n",
       "      <td>14662301</td>\n",
       "      <td>121</td>\n",
       "    </tr>\n",
       "    <tr>\n",
       "      <th>27</th>\n",
       "      <td>ID=HORVU.MOREX.r3.1HG0007370.2</td>\n",
       "      <td>intron three_prime_UTR</td>\n",
       "      <td>15093762</td>\n",
       "      <td>15093878</td>\n",
       "      <td>118</td>\n",
       "    </tr>\n",
       "    <tr>\n",
       "      <th>...</th>\n",
       "      <td>...</td>\n",
       "      <td>...</td>\n",
       "      <td>...</td>\n",
       "      <td>...</td>\n",
       "      <td>...</td>\n",
       "    </tr>\n",
       "    <tr>\n",
       "      <th>2676</th>\n",
       "      <td>ID=HORVU.MOREX.r3.7HG0748130.1</td>\n",
       "      <td>intron three_prime_UTR</td>\n",
       "      <td>620827612</td>\n",
       "      <td>620827821</td>\n",
       "      <td>211</td>\n",
       "    </tr>\n",
       "    <tr>\n",
       "      <th>2677</th>\n",
       "      <td>ID=HORVU.MOREX.r3.7HG0749430.1</td>\n",
       "      <td>intron three_prime_UTR</td>\n",
       "      <td>623175384</td>\n",
       "      <td>623176311</td>\n",
       "      <td>929</td>\n",
       "    </tr>\n",
       "    <tr>\n",
       "      <th>2678</th>\n",
       "      <td>ID=HORVU.MOREX.r3.7HG0749440.1</td>\n",
       "      <td>intron three_prime_UTR</td>\n",
       "      <td>623212429</td>\n",
       "      <td>623212835</td>\n",
       "      <td>408</td>\n",
       "    </tr>\n",
       "    <tr>\n",
       "      <th>2682</th>\n",
       "      <td>ID=HORVU.MOREX.r3.7HG0749980.1</td>\n",
       "      <td>intron three_prime_UTR</td>\n",
       "      <td>624202455</td>\n",
       "      <td>624203734</td>\n",
       "      <td>1281</td>\n",
       "    </tr>\n",
       "    <tr>\n",
       "      <th>2688</th>\n",
       "      <td>ID=HORVU.MOREX.r3.7HG0752790.1</td>\n",
       "      <td>intron three_prime_UTR</td>\n",
       "      <td>631981108</td>\n",
       "      <td>631981202</td>\n",
       "      <td>96</td>\n",
       "    </tr>\n",
       "  </tbody>\n",
       "</table>\n",
       "<p>2012 rows × 5 columns</p>\n",
       "</div>"
      ],
      "text/plain": [
       "                                  ID                    type      start  \\\n",
       "11    ID=HORVU.MOREX.r3.1HG0003090.2  intron three_prime_UTR    5946475   \n",
       "12    ID=HORVU.MOREX.r3.1HG0003090.6  intron three_prime_UTR    5946475   \n",
       "24    ID=HORVU.MOREX.r3.1HG0007160.1  intron three_prime_UTR   14661381   \n",
       "25    ID=HORVU.MOREX.r3.1HG0007160.1  intron three_prime_UTR   14662182   \n",
       "27    ID=HORVU.MOREX.r3.1HG0007370.2  intron three_prime_UTR   15093762   \n",
       "...                              ...                     ...        ...   \n",
       "2676  ID=HORVU.MOREX.r3.7HG0748130.1  intron three_prime_UTR  620827612   \n",
       "2677  ID=HORVU.MOREX.r3.7HG0749430.1  intron three_prime_UTR  623175384   \n",
       "2678  ID=HORVU.MOREX.r3.7HG0749440.1  intron three_prime_UTR  623212429   \n",
       "2682  ID=HORVU.MOREX.r3.7HG0749980.1  intron three_prime_UTR  624202455   \n",
       "2688  ID=HORVU.MOREX.r3.7HG0752790.1  intron three_prime_UTR  631981108   \n",
       "\n",
       "            end  length  \n",
       "11      5974459   27986  \n",
       "12      5974459   27986  \n",
       "24     14662100     721  \n",
       "25     14662301     121  \n",
       "27     15093878     118  \n",
       "...         ...     ...  \n",
       "2676  620827821     211  \n",
       "2677  623176311     929  \n",
       "2678  623212835     408  \n",
       "2682  624203734    1281  \n",
       "2688  631981202      96  \n",
       "\n",
       "[2012 rows x 5 columns]"
      ]
     },
     "execution_count": 45,
     "metadata": {},
     "output_type": "execute_result"
    }
   ],
   "source": [
    "introns_UTR3_Hv_Morex"
   ]
  },
  {
   "cell_type": "code",
   "execution_count": 46,
   "metadata": {},
   "outputs": [
    {
     "data": {
      "text/plain": [
       "count     2012.000000\n",
       "mean       967.822565\n",
       "std       3355.354223\n",
       "min         33.000000\n",
       "25%        100.000000\n",
       "50%        208.500000\n",
       "75%        771.750000\n",
       "max      74239.000000\n",
       "Name: length, dtype: float64"
      ]
     },
     "execution_count": 46,
     "metadata": {},
     "output_type": "execute_result"
    }
   ],
   "source": [
    "introns_UTR3_Hv_Morex['length'].describe()"
   ]
  },
  {
   "cell_type": "code",
   "execution_count": 47,
   "metadata": {},
   "outputs": [
    {
     "data": {
      "text/html": [
       "<div>\n",
       "<style scoped>\n",
       "    .dataframe tbody tr th:only-of-type {\n",
       "        vertical-align: middle;\n",
       "    }\n",
       "\n",
       "    .dataframe tbody tr th {\n",
       "        vertical-align: top;\n",
       "    }\n",
       "\n",
       "    .dataframe thead th {\n",
       "        text-align: right;\n",
       "    }\n",
       "</style>\n",
       "<table border=\"1\" class=\"dataframe\">\n",
       "  <thead>\n",
       "    <tr style=\"text-align: right;\">\n",
       "      <th></th>\n",
       "      <th>ID</th>\n",
       "      <th>type</th>\n",
       "      <th>start</th>\n",
       "      <th>end</th>\n",
       "      <th>length</th>\n",
       "    </tr>\n",
       "  </thead>\n",
       "  <tbody>\n",
       "    <tr>\n",
       "      <th>0</th>\n",
       "      <td>ID=HORVU.MOREX.r3.1HG0000070.1</td>\n",
       "      <td>intron five_prime_UTR</td>\n",
       "      <td>146750</td>\n",
       "      <td>146980</td>\n",
       "      <td>232</td>\n",
       "    </tr>\n",
       "    <tr>\n",
       "      <th>1</th>\n",
       "      <td>ID=HORVU.MOREX.r3.1HG0000080.1</td>\n",
       "      <td>intron five_prime_UTR</td>\n",
       "      <td>153530</td>\n",
       "      <td>153625</td>\n",
       "      <td>97</td>\n",
       "    </tr>\n",
       "    <tr>\n",
       "      <th>2</th>\n",
       "      <td>ID=HORVU.MOREX.r3.1HG0000620.1</td>\n",
       "      <td>intron five_prime_UTR</td>\n",
       "      <td>1614154</td>\n",
       "      <td>1615780</td>\n",
       "      <td>1628</td>\n",
       "    </tr>\n",
       "    <tr>\n",
       "      <th>3</th>\n",
       "      <td>ID=HORVU.MOREX.r3.1HG0000620.2</td>\n",
       "      <td>intron five_prime_UTR</td>\n",
       "      <td>1614154</td>\n",
       "      <td>1615780</td>\n",
       "      <td>1628</td>\n",
       "    </tr>\n",
       "    <tr>\n",
       "      <th>4</th>\n",
       "      <td>ID=HORVU.MOREX.r3.1HG0000620.3</td>\n",
       "      <td>intron five_prime_UTR</td>\n",
       "      <td>1614665</td>\n",
       "      <td>1615780</td>\n",
       "      <td>1117</td>\n",
       "    </tr>\n",
       "    <tr>\n",
       "      <th>...</th>\n",
       "      <td>...</td>\n",
       "      <td>...</td>\n",
       "      <td>...</td>\n",
       "      <td>...</td>\n",
       "      <td>...</td>\n",
       "    </tr>\n",
       "    <tr>\n",
       "      <th>2686</th>\n",
       "      <td>ID=HORVU.MOREX.r3.7HG0751310.1</td>\n",
       "      <td>intron five_prime_UTR</td>\n",
       "      <td>627322202</td>\n",
       "      <td>627322296</td>\n",
       "      <td>96</td>\n",
       "    </tr>\n",
       "    <tr>\n",
       "      <th>2687</th>\n",
       "      <td>ID=HORVU.MOREX.r3.7HG0752050.1</td>\n",
       "      <td>intron five_prime_UTR</td>\n",
       "      <td>628813527</td>\n",
       "      <td>628813619</td>\n",
       "      <td>94</td>\n",
       "    </tr>\n",
       "    <tr>\n",
       "      <th>2689</th>\n",
       "      <td>ID=HORVU.MOREX.r3.7HG0752950.1</td>\n",
       "      <td>intron five_prime_UTR</td>\n",
       "      <td>632146924</td>\n",
       "      <td>632147308</td>\n",
       "      <td>386</td>\n",
       "    </tr>\n",
       "    <tr>\n",
       "      <th>2690</th>\n",
       "      <td>ID=HORVU.MOREX.r3.UnG0753140.1</td>\n",
       "      <td>intron five_prime_UTR</td>\n",
       "      <td>475717</td>\n",
       "      <td>475945</td>\n",
       "      <td>230</td>\n",
       "    </tr>\n",
       "    <tr>\n",
       "      <th>2691</th>\n",
       "      <td>ID=HORVU.MOREX.r3.UnG0753140.1</td>\n",
       "      <td>intron five_prime_UTR</td>\n",
       "      <td>476070</td>\n",
       "      <td>480556</td>\n",
       "      <td>4488</td>\n",
       "    </tr>\n",
       "  </tbody>\n",
       "</table>\n",
       "<p>3699 rows × 5 columns</p>\n",
       "</div>"
      ],
      "text/plain": [
       "                                  ID                   type      start  \\\n",
       "0     ID=HORVU.MOREX.r3.1HG0000070.1  intron five_prime_UTR     146750   \n",
       "1     ID=HORVU.MOREX.r3.1HG0000080.1  intron five_prime_UTR     153530   \n",
       "2     ID=HORVU.MOREX.r3.1HG0000620.1  intron five_prime_UTR    1614154   \n",
       "3     ID=HORVU.MOREX.r3.1HG0000620.2  intron five_prime_UTR    1614154   \n",
       "4     ID=HORVU.MOREX.r3.1HG0000620.3  intron five_prime_UTR    1614665   \n",
       "...                              ...                    ...        ...   \n",
       "2686  ID=HORVU.MOREX.r3.7HG0751310.1  intron five_prime_UTR  627322202   \n",
       "2687  ID=HORVU.MOREX.r3.7HG0752050.1  intron five_prime_UTR  628813527   \n",
       "2689  ID=HORVU.MOREX.r3.7HG0752950.1  intron five_prime_UTR  632146924   \n",
       "2690  ID=HORVU.MOREX.r3.UnG0753140.1  intron five_prime_UTR     475717   \n",
       "2691  ID=HORVU.MOREX.r3.UnG0753140.1  intron five_prime_UTR     476070   \n",
       "\n",
       "            end  length  \n",
       "0        146980     232  \n",
       "1        153625      97  \n",
       "2       1615780    1628  \n",
       "3       1615780    1628  \n",
       "4       1615780    1117  \n",
       "...         ...     ...  \n",
       "2686  627322296      96  \n",
       "2687  628813619      94  \n",
       "2689  632147308     386  \n",
       "2690     475945     230  \n",
       "2691     480556    4488  \n",
       "\n",
       "[3699 rows x 5 columns]"
      ]
     },
     "execution_count": 47,
     "metadata": {},
     "output_type": "execute_result"
    }
   ],
   "source": [
    "introns_UTR5_Hv_Morex"
   ]
  },
  {
   "cell_type": "code",
   "execution_count": 48,
   "metadata": {},
   "outputs": [
    {
     "data": {
      "text/plain": [
       "count     3699.000000\n",
       "mean       858.829413\n",
       "std       1768.080234\n",
       "min         41.000000\n",
       "25%        142.000000\n",
       "50%        497.000000\n",
       "75%        991.000000\n",
       "max      34933.000000\n",
       "Name: length, dtype: float64"
      ]
     },
     "execution_count": 48,
     "metadata": {},
     "output_type": "execute_result"
    }
   ],
   "source": [
    "introns_UTR5_Hv_Morex['length'].describe()"
   ]
  },
  {
   "cell_type": "markdown",
   "metadata": {},
   "source": [
    "### 2.3.5 Removing UTR introns from the whole introns dataframe"
   ]
  },
  {
   "cell_type": "code",
   "execution_count": 49,
   "metadata": {},
   "outputs": [
    {
     "data": {
      "text/html": [
       "<div>\n",
       "<style scoped>\n",
       "    .dataframe tbody tr th:only-of-type {\n",
       "        vertical-align: middle;\n",
       "    }\n",
       "\n",
       "    .dataframe tbody tr th {\n",
       "        vertical-align: top;\n",
       "    }\n",
       "\n",
       "    .dataframe thead th {\n",
       "        text-align: right;\n",
       "    }\n",
       "</style>\n",
       "<table border=\"1\" class=\"dataframe\">\n",
       "  <thead>\n",
       "    <tr style=\"text-align: right;\">\n",
       "      <th></th>\n",
       "      <th>ID</th>\n",
       "      <th>type</th>\n",
       "      <th>start</th>\n",
       "      <th>end</th>\n",
       "      <th>length</th>\n",
       "    </tr>\n",
       "  </thead>\n",
       "  <tbody>\n",
       "    <tr>\n",
       "      <th>0</th>\n",
       "      <td>ID=HORVU.MOREX.r3.1HG0000010.1</td>\n",
       "      <td>intron</td>\n",
       "      <td>49773</td>\n",
       "      <td>50194</td>\n",
       "      <td>423</td>\n",
       "    </tr>\n",
       "    <tr>\n",
       "      <th>1</th>\n",
       "      <td>ID=HORVU.MOREX.r3.1HG0000040.1</td>\n",
       "      <td>intron</td>\n",
       "      <td>78955</td>\n",
       "      <td>79062</td>\n",
       "      <td>109</td>\n",
       "    </tr>\n",
       "    <tr>\n",
       "      <th>2</th>\n",
       "      <td>ID=HORVU.MOREX.r3.1HG0000040.1</td>\n",
       "      <td>intron</td>\n",
       "      <td>79105</td>\n",
       "      <td>79608</td>\n",
       "      <td>505</td>\n",
       "    </tr>\n",
       "    <tr>\n",
       "      <th>3</th>\n",
       "      <td>ID=HORVU.MOREX.r3.1HG0000040.1</td>\n",
       "      <td>intron</td>\n",
       "      <td>79677</td>\n",
       "      <td>79756</td>\n",
       "      <td>81</td>\n",
       "    </tr>\n",
       "    <tr>\n",
       "      <th>4</th>\n",
       "      <td>ID=HORVU.MOREX.r3.1HG0000040.1</td>\n",
       "      <td>intron</td>\n",
       "      <td>79800</td>\n",
       "      <td>79900</td>\n",
       "      <td>102</td>\n",
       "    </tr>\n",
       "  </tbody>\n",
       "</table>\n",
       "</div>"
      ],
      "text/plain": [
       "                               ID     type  start    end  length\n",
       "0  ID=HORVU.MOREX.r3.1HG0000010.1  intron   49773  50194     423\n",
       "1  ID=HORVU.MOREX.r3.1HG0000040.1  intron   78955  79062     109\n",
       "2  ID=HORVU.MOREX.r3.1HG0000040.1  intron   79105  79608     505\n",
       "3  ID=HORVU.MOREX.r3.1HG0000040.1  intron   79677  79756      81\n",
       "4  ID=HORVU.MOREX.r3.1HG0000040.1  intron   79800  79900     102"
      ]
     },
     "execution_count": 49,
     "metadata": {},
     "output_type": "execute_result"
    }
   ],
   "source": [
    "### --- Checking total introns dataframe \n",
    "introns_Hv_Morex.head()"
   ]
  },
  {
   "cell_type": "code",
   "execution_count": 50,
   "metadata": {},
   "outputs": [
    {
     "data": {
      "text/html": [
       "<div>\n",
       "<style scoped>\n",
       "    .dataframe tbody tr th:only-of-type {\n",
       "        vertical-align: middle;\n",
       "    }\n",
       "\n",
       "    .dataframe tbody tr th {\n",
       "        vertical-align: top;\n",
       "    }\n",
       "\n",
       "    .dataframe thead th {\n",
       "        text-align: right;\n",
       "    }\n",
       "</style>\n",
       "<table border=\"1\" class=\"dataframe\">\n",
       "  <thead>\n",
       "    <tr style=\"text-align: right;\">\n",
       "      <th></th>\n",
       "      <th>ID</th>\n",
       "      <th>type</th>\n",
       "      <th>start</th>\n",
       "      <th>end</th>\n",
       "      <th>length</th>\n",
       "    </tr>\n",
       "  </thead>\n",
       "  <tbody>\n",
       "    <tr>\n",
       "      <th>0</th>\n",
       "      <td>ID=HORVU.MOREX.r3.1HG0000070.1</td>\n",
       "      <td>intron five_prime_UTR</td>\n",
       "      <td>146750</td>\n",
       "      <td>146980</td>\n",
       "      <td>232</td>\n",
       "    </tr>\n",
       "    <tr>\n",
       "      <th>1</th>\n",
       "      <td>ID=HORVU.MOREX.r3.1HG0000080.1</td>\n",
       "      <td>intron five_prime_UTR</td>\n",
       "      <td>153530</td>\n",
       "      <td>153625</td>\n",
       "      <td>97</td>\n",
       "    </tr>\n",
       "    <tr>\n",
       "      <th>2</th>\n",
       "      <td>ID=HORVU.MOREX.r3.1HG0000620.1</td>\n",
       "      <td>intron five_prime_UTR</td>\n",
       "      <td>1614154</td>\n",
       "      <td>1615780</td>\n",
       "      <td>1628</td>\n",
       "    </tr>\n",
       "    <tr>\n",
       "      <th>3</th>\n",
       "      <td>ID=HORVU.MOREX.r3.1HG0000620.2</td>\n",
       "      <td>intron five_prime_UTR</td>\n",
       "      <td>1614154</td>\n",
       "      <td>1615780</td>\n",
       "      <td>1628</td>\n",
       "    </tr>\n",
       "    <tr>\n",
       "      <th>4</th>\n",
       "      <td>ID=HORVU.MOREX.r3.1HG0000620.3</td>\n",
       "      <td>intron five_prime_UTR</td>\n",
       "      <td>1614665</td>\n",
       "      <td>1615780</td>\n",
       "      <td>1117</td>\n",
       "    </tr>\n",
       "  </tbody>\n",
       "</table>\n",
       "</div>"
      ],
      "text/plain": [
       "                               ID                   type    start      end  \\\n",
       "0  ID=HORVU.MOREX.r3.1HG0000070.1  intron five_prime_UTR   146750   146980   \n",
       "1  ID=HORVU.MOREX.r3.1HG0000080.1  intron five_prime_UTR   153530   153625   \n",
       "2  ID=HORVU.MOREX.r3.1HG0000620.1  intron five_prime_UTR  1614154  1615780   \n",
       "3  ID=HORVU.MOREX.r3.1HG0000620.2  intron five_prime_UTR  1614154  1615780   \n",
       "4  ID=HORVU.MOREX.r3.1HG0000620.3  intron five_prime_UTR  1614665  1615780   \n",
       "\n",
       "   length  \n",
       "0     232  \n",
       "1      97  \n",
       "2    1628  \n",
       "3    1628  \n",
       "4    1117  "
      ]
     },
     "execution_count": 50,
     "metadata": {},
     "output_type": "execute_result"
    }
   ],
   "source": [
    "### --- Checking UTR introns dataframe\n",
    "introns_UTR_Hv_Morex.head()"
   ]
  },
  {
   "cell_type": "code",
   "execution_count": 51,
   "metadata": {},
   "outputs": [
    {
     "data": {
      "text/html": [
       "<div>\n",
       "<style scoped>\n",
       "    .dataframe tbody tr th:only-of-type {\n",
       "        vertical-align: middle;\n",
       "    }\n",
       "\n",
       "    .dataframe tbody tr th {\n",
       "        vertical-align: top;\n",
       "    }\n",
       "\n",
       "    .dataframe thead th {\n",
       "        text-align: right;\n",
       "    }\n",
       "</style>\n",
       "<table border=\"1\" class=\"dataframe\">\n",
       "  <thead>\n",
       "    <tr style=\"text-align: right;\">\n",
       "      <th></th>\n",
       "      <th>ID</th>\n",
       "      <th>type</th>\n",
       "      <th>start</th>\n",
       "      <th>end</th>\n",
       "      <th>length</th>\n",
       "    </tr>\n",
       "  </thead>\n",
       "  <tbody>\n",
       "    <tr>\n",
       "      <th>0</th>\n",
       "      <td>ID=HORVU.MOREX.r3.1HG0000010.1</td>\n",
       "      <td>intron</td>\n",
       "      <td>49773</td>\n",
       "      <td>50194</td>\n",
       "      <td>423</td>\n",
       "    </tr>\n",
       "    <tr>\n",
       "      <th>1</th>\n",
       "      <td>ID=HORVU.MOREX.r3.1HG0000040.1</td>\n",
       "      <td>intron</td>\n",
       "      <td>78955</td>\n",
       "      <td>79062</td>\n",
       "      <td>109</td>\n",
       "    </tr>\n",
       "    <tr>\n",
       "      <th>2</th>\n",
       "      <td>ID=HORVU.MOREX.r3.1HG0000040.1</td>\n",
       "      <td>intron</td>\n",
       "      <td>79105</td>\n",
       "      <td>79608</td>\n",
       "      <td>505</td>\n",
       "    </tr>\n",
       "    <tr>\n",
       "      <th>3</th>\n",
       "      <td>ID=HORVU.MOREX.r3.1HG0000040.1</td>\n",
       "      <td>intron</td>\n",
       "      <td>79677</td>\n",
       "      <td>79756</td>\n",
       "      <td>81</td>\n",
       "    </tr>\n",
       "    <tr>\n",
       "      <th>4</th>\n",
       "      <td>ID=HORVU.MOREX.r3.1HG0000040.1</td>\n",
       "      <td>intron</td>\n",
       "      <td>79800</td>\n",
       "      <td>79900</td>\n",
       "      <td>102</td>\n",
       "    </tr>\n",
       "    <tr>\n",
       "      <th>...</th>\n",
       "      <td>...</td>\n",
       "      <td>...</td>\n",
       "      <td>...</td>\n",
       "      <td>...</td>\n",
       "      <td>...</td>\n",
       "    </tr>\n",
       "    <tr>\n",
       "      <th>156682</th>\n",
       "      <td>ID=HORVU.MOREX.r3.UnG0816320.1</td>\n",
       "      <td>intron</td>\n",
       "      <td>28904141</td>\n",
       "      <td>28904339</td>\n",
       "      <td>200</td>\n",
       "    </tr>\n",
       "    <tr>\n",
       "      <th>156683</th>\n",
       "      <td>ID=HORVU.MOREX.r3.UnG0816640.1</td>\n",
       "      <td>intron</td>\n",
       "      <td>29002646</td>\n",
       "      <td>29003296</td>\n",
       "      <td>652</td>\n",
       "    </tr>\n",
       "    <tr>\n",
       "      <th>156684</th>\n",
       "      <td>ID=HORVU.MOREX.r3.UnG0816680.1</td>\n",
       "      <td>intron</td>\n",
       "      <td>29008046</td>\n",
       "      <td>29008730</td>\n",
       "      <td>686</td>\n",
       "    </tr>\n",
       "    <tr>\n",
       "      <th>156685</th>\n",
       "      <td>ID=HORVU.MOREX.r3.UnG0816840.1</td>\n",
       "      <td>intron</td>\n",
       "      <td>29079790</td>\n",
       "      <td>29086201</td>\n",
       "      <td>6413</td>\n",
       "    </tr>\n",
       "    <tr>\n",
       "      <th>156686</th>\n",
       "      <td>ID=HORVU.MOREX.r3.UnG0816840.1</td>\n",
       "      <td>intron</td>\n",
       "      <td>29086208</td>\n",
       "      <td>29088676</td>\n",
       "      <td>2470</td>\n",
       "    </tr>\n",
       "  </tbody>\n",
       "</table>\n",
       "<p>150976 rows × 5 columns</p>\n",
       "</div>"
      ],
      "text/plain": [
       "                                    ID     type     start       end  length\n",
       "0       ID=HORVU.MOREX.r3.1HG0000010.1  intron      49773     50194     423\n",
       "1       ID=HORVU.MOREX.r3.1HG0000040.1  intron      78955     79062     109\n",
       "2       ID=HORVU.MOREX.r3.1HG0000040.1  intron      79105     79608     505\n",
       "3       ID=HORVU.MOREX.r3.1HG0000040.1  intron      79677     79756      81\n",
       "4       ID=HORVU.MOREX.r3.1HG0000040.1  intron      79800     79900     102\n",
       "...                                ...      ...       ...       ...     ...\n",
       "156682  ID=HORVU.MOREX.r3.UnG0816320.1  intron   28904141  28904339     200\n",
       "156683  ID=HORVU.MOREX.r3.UnG0816640.1  intron   29002646  29003296     652\n",
       "156684  ID=HORVU.MOREX.r3.UnG0816680.1  intron   29008046  29008730     686\n",
       "156685  ID=HORVU.MOREX.r3.UnG0816840.1  intron   29079790  29086201    6413\n",
       "156686  ID=HORVU.MOREX.r3.UnG0816840.1  intron   29086208  29088676    2470\n",
       "\n",
       "[150976 rows x 5 columns]"
      ]
     },
     "execution_count": 51,
     "metadata": {},
     "output_type": "execute_result"
    }
   ],
   "source": [
    "### --- Extracting introns from cds within Hv_MorexHC\n",
    "introns_cds_Hv_Morex = cds_introns_dataframe(introns_Hv_Morex, introns_UTR_Hv_Morex)\n",
    "introns_cds_Hv_Morex"
   ]
  },
  {
   "cell_type": "code",
   "execution_count": 52,
   "metadata": {},
   "outputs": [
    {
     "data": {
      "text/html": [
       "<div>\n",
       "<style scoped>\n",
       "    .dataframe tbody tr th:only-of-type {\n",
       "        vertical-align: middle;\n",
       "    }\n",
       "\n",
       "    .dataframe tbody tr th {\n",
       "        vertical-align: top;\n",
       "    }\n",
       "\n",
       "    .dataframe thead th {\n",
       "        text-align: right;\n",
       "    }\n",
       "</style>\n",
       "<table border=\"1\" class=\"dataframe\">\n",
       "  <thead>\n",
       "    <tr style=\"text-align: right;\">\n",
       "      <th></th>\n",
       "      <th>ID</th>\n",
       "      <th>type</th>\n",
       "      <th>start</th>\n",
       "      <th>end</th>\n",
       "      <th>length</th>\n",
       "    </tr>\n",
       "  </thead>\n",
       "  <tbody>\n",
       "  </tbody>\n",
       "</table>\n",
       "</div>"
      ],
      "text/plain": [
       "Empty DataFrame\n",
       "Columns: [ID, type, start, end, length]\n",
       "Index: []"
      ]
     },
     "execution_count": 52,
     "metadata": {},
     "output_type": "execute_result"
    }
   ],
   "source": [
    "### --- Checking if there are not introns UTR within the created dataframe\n",
    "introns_cds_Hv_Morex.loc[introns_cds_Hv_Morex['type'].isin(['intron three_prime_UTR','intron five_prime_UTR'])]"
   ]
  },
  {
   "cell_type": "code",
   "execution_count": 53,
   "metadata": {},
   "outputs": [
    {
     "data": {
      "text/plain": [
       "count    150976.000000\n",
       "mean        552.505862\n",
       "std        2509.972190\n",
       "min          22.000000\n",
       "25%          92.000000\n",
       "50%         127.000000\n",
       "75%         421.000000\n",
       "max      500805.000000\n",
       "Name: length, dtype: float64"
      ]
     },
     "execution_count": 53,
     "metadata": {},
     "output_type": "execute_result"
    }
   ],
   "source": [
    "### --- Basic statistics of Hv_Morex introns cds\n",
    "introns_cds_Hv_Morex['length'].describe()"
   ]
  },
  {
   "cell_type": "code",
   "execution_count": 54,
   "metadata": {},
   "outputs": [
    {
     "data": {
      "text/plain": [
       "<AxesSubplot:ylabel='Density'>"
      ]
     },
     "execution_count": 54,
     "metadata": {},
     "output_type": "execute_result"
    },
    {
     "data": {
      "image/png": "[encoded data removed]",
      "text/plain": [
       "<Figure size 432x288 with 1 Axes>"
      ]
     },
     "metadata": {
      "needs_background": "light"
     },
     "output_type": "display_data"
    }
   ],
   "source": [
    "### --- Plotting the distribution of Hv_Morex cds introns length\n",
    "introns_cds_Hv_Morex['length'].plot.density()"
   ]
  },
  {
   "cell_type": "code",
   "execution_count": 55,
   "metadata": {},
   "outputs": [
    {
     "data": {
      "text/plain": [
       "<AxesSubplot:>"
      ]
     },
     "execution_count": 55,
     "metadata": {},
     "output_type": "execute_result"
    },
    {
     "data": {
      "image/png": "[encoded data removed]",
      "text/plain": [
       "<Figure size 432x288 with 1 Axes>"
      ]
     },
     "metadata": {
      "needs_background": "light"
     },
     "output_type": "display_data"
    }
   ],
   "source": [
    "### --- Plotting the boxplot of Hv_Morex cds introns length without outliers\n",
    "introns_cds_Hv_Morex.boxplot(column='length', return_type='axes', showfliers=False) # showfliers = False -> discard outliers"
   ]
  },
  {
   "cell_type": "markdown",
   "metadata": {},
   "source": [
    "### 2.3.6 Re-organizing files and directories"
   ]
  },
  {
   "cell_type": "code",
   "execution_count": 56,
   "metadata": {},
   "outputs": [
    {
     "name": "stdout",
     "output_type": "stream",
     "text": [
      "Hv_Morex_exon.tsv\r\n",
      "Hv_Morex_longread\r\n",
      "Hv_Morex_nohashtag.pgsb.Jul2020.csv\r\n",
      "Hv_Morex_nohashtag.pgsb.Jul2020.gff3\r\n",
      "Hv_Morex_nohashtag.pgsb.Jul2020.HC.csv\r\n",
      "Hv_Morex_nohashtag.pgsb.Jul2020.HC.gff3\r\n",
      "Hv_Morex_nohashtag.pgsb.Jul2020.LC.csv\r\n",
      "Hv_Morex_nohashtag.pgsb.Jul2020.LC.gff3\r\n",
      "Hv_Morex_UTRforw.tsv\r\n",
      "Hv_Morex_UTRrev.tsv\r\n",
      "raw\r\n"
     ]
    }
   ],
   "source": [
    "! ls Data/"
   ]
  },
  {
   "cell_type": "code",
   "execution_count": 57,
   "metadata": {},
   "outputs": [],
   "source": [
    "! mv Data/*tsv Data/Hv_Morex_longread"
   ]
  },
  {
   "cell_type": "code",
   "execution_count": 34,
   "metadata": {},
   "outputs": [],
   "source": [
    "! mv Data/Hv_Morex_n* Data/Hv_Morex_longread/"
   ]
  },
  {
   "cell_type": "code",
   "execution_count": 35,
   "metadata": {},
   "outputs": [
    {
     "name": "stdout",
     "output_type": "stream",
     "text": [
      "Hv_Morex_exon.tsv\t\t     Hv_Morex_nohashtag.pgsb.Jul2020.gff3\r\n",
      "Hv_MorexHC_exon.tsv\t\t     Hv_Morex_nohashtag.pgsb.Jul2020.HC.csv\r\n",
      "Hv_MorexHC_UTRforw.tsv\t\t     Hv_Morex_nohashtag.pgsb.Jul2020.HC.gff3\r\n",
      "Hv_MorexHC_UTRrev.tsv\t\t     Hv_Morex_nohashtag.pgsb.Jul2020.LC.csv\r\n",
      "Hv_MorexLC_exon.tsv\t\t     Hv_Morex_nohashtag.pgsb.Jul2020.LC.gff3\r\n",
      "Hv_MorexLC_UTRforw.tsv\t\t     Hv_Morex_UTRforw.tsv\r\n",
      "Hv_MorexLC_UTRrev.tsv\t\t     Hv_Morex_UTRrev.tsv\r\n",
      "Hv_Morex_nohashtag.pgsb.Jul2020.csv\r\n"
     ]
    }
   ],
   "source": [
    "! ls Data/Hv_Morex_longread/"
   ]
  },
  {
   "cell_type": "code",
   "execution_count": 59,
   "metadata": {},
   "outputs": [
    {
     "name": "stdout",
     "output_type": "stream",
     "text": [
      "Hv_Morex_intronlessIDs.txt  Hv_Morex_longread\r\n",
      "Hv_Morex_intronpoorIDs.txt  Hv_Morex_UTRforw_introns.tsv\r\n",
      "Hv_Morex_intronrichIDs.txt  Hv_Morex_UTRrev_introns.tsv\r\n",
      "Hv_Morex_introns.tsv\r\n"
     ]
    }
   ],
   "source": [
    "! ls Output/"
   ]
  },
  {
   "cell_type": "code",
   "execution_count": 60,
   "metadata": {},
   "outputs": [],
   "source": [
    "! mv Output/*tsv Output/Hv_Morex_longread/"
   ]
  },
  {
   "cell_type": "code",
   "execution_count": 61,
   "metadata": {},
   "outputs": [],
   "source": [
    "! mv Output/*txt Output/Hv_Morex_longread/"
   ]
  },
  {
   "cell_type": "code",
   "execution_count": 62,
   "metadata": {},
   "outputs": [
    {
     "name": "stdout",
     "output_type": "stream",
     "text": [
      "Hv_MorexHC_intronlessIDs.txt\tHv_Morex_introns.tsv\r\n",
      "Hv_MorexHC_intronpoorIDs.txt\tHv_MorexLC_intronlessIDs.txt\r\n",
      "Hv_MorexHC_intronrichIDs.txt\tHv_MorexLC_intronpoorIDs.txt\r\n",
      "Hv_MorexHC_introns.tsv\t\tHv_MorexLC_intronrichIDs.txt\r\n",
      "Hv_MorexHC_UTRforw_introns.tsv\tHv_MorexLC_introns.tsv\r\n",
      "Hv_MorexHC_UTRrev_introns.tsv\tHv_MorexLC_UTRforw_introns.tsv\r\n",
      "Hv_Morex_intronlessIDs.txt\tHv_MorexLC_UTRrev_introns.tsv\r\n",
      "Hv_Morex_intronpoorIDs.txt\tHv_Morex_UTRforw_introns.tsv\r\n",
      "Hv_Morex_intronrichIDs.txt\tHv_Morex_UTRrev_introns.tsv\r\n"
     ]
    }
   ],
   "source": [
    "! ls Output/Hv_Morex_longread/"
   ]
  },
  {
   "cell_type": "markdown",
   "metadata": {},
   "source": [
    "# 3 Reproducing the same analysis using data of a Pan Genome study"
   ]
  },
  {
   "cell_type": "markdown",
   "metadata": {},
   "source": [
    "The Pan Genome study I am referring to can be found [here](https://www.nature.com/articles/s41586-020-2947-8). All the data can be found [here](https://doi.ipk-gatersleben.de/DOI/c4d433dc-bf7c-4ad9-9368-69bb77837ca5/3490162b-3d76-4ba1-b6ee-3eaed5f6b644/2/).\n",
    "\n",
    "I will firstly perform the analysis on the data within the _Denovo_gene_annotation_ directory and then on the ones within the _Gene_projection_ directory. "
   ]
  },
  {
   "cell_type": "markdown",
   "metadata": {},
   "source": [
    "## 3.1 Barke - De novo gene annotation "
   ]
  },
  {
   "cell_type": "markdown",
   "metadata": {},
   "source": [
    "### 3.1.1 Collecting Data"
   ]
  },
  {
   "cell_type": "code",
   "execution_count": 7,
   "metadata": {},
   "outputs": [
    {
     "name": "stdout",
     "output_type": "stream",
     "text": [
      "--2021-06-04 11:01:00--  https://doi.ipk-gatersleben.de/DOI/c4d433dc-bf7c-4ad9-9368-69bb77837ca5/1f736b6a-20f5-4e48-83c9-a308a51221ee/1/DOWNLOAD\n",
      "Resolving doi.ipk-gatersleben.de (doi.ipk-gatersleben.de)... 194.94.136.144\n",
      "Connecting to doi.ipk-gatersleben.de (doi.ipk-gatersleben.de)|194.94.136.144|:443... connected.\n",
      "HTTP request sent, awaiting response... 200 OK\n",
      "Length: 58830221 (56M) [text/plain]\n",
      "Saving to: ‘Data/raw/Barke.gff3’\n",
      "\n",
      "Data/raw/Barke.gff3 100%[===================>]  56,10M  1,95MB/s    in 31s     \n",
      "\n",
      "2021-06-04 11:01:31 (1,81 MB/s) - ‘Data/raw/Barke.gff3’ saved [58830221/58830221]\n",
      "\n"
     ]
    }
   ],
   "source": [
    "### --- This will download the raw data to the subdirectory raw under the directory Data\n",
    "! wget -O Data/raw/Barke.gff3 https://doi.ipk-gatersleben.de/DOI/c4d433dc-bf7c-4ad9-9368-69bb77837ca5/1f736b6a-20f5-4e48-83c9-a308a51221ee/1/DOWNLOAD"
   ]
  },
  {
   "cell_type": "markdown",
   "metadata": {},
   "source": [
    "### 3.1.2 Processing Data"
   ]
  },
  {
   "cell_type": "code",
   "execution_count": 8,
   "metadata": {},
   "outputs": [],
   "source": [
    "### --- There is no need to import the libraries again\n",
    "# import pandas as pd\n",
    "# import numpy as np\n",
    "# import matplotlib.pyplot as plt"
   ]
  },
  {
   "cell_type": "code",
   "execution_count": 9,
   "metadata": {},
   "outputs": [],
   "source": [
    "### --- Removing all hashtags from the gff3 file\n",
    "! sed '/#/d' Data/raw/Barke.gff3  > Data/Barke_nohashtag.gff3"
   ]
  },
  {
   "cell_type": "code",
   "execution_count": 10,
   "metadata": {},
   "outputs": [],
   "source": [
    "### --- Changing the gff3 file to a csv format file to import it with pandas\n",
    "! cat Data/Barke_nohashtag.gff3 | sed 's/,/--/g' | sed 's/;/--/g' | sed 's/\\t/,/g' | awk -F '--' '{print $1}' > Data/Barke_nohashtag.csv"
   ]
  },
  {
   "cell_type": "code",
   "execution_count": 11,
   "metadata": {
    "scrolled": true
   },
   "outputs": [
    {
     "data": {
      "text/html": [
       "<div>\n",
       "<style scoped>\n",
       "    .dataframe tbody tr th:only-of-type {\n",
       "        vertical-align: middle;\n",
       "    }\n",
       "\n",
       "    .dataframe tbody tr th {\n",
       "        vertical-align: top;\n",
       "    }\n",
       "\n",
       "    .dataframe thead th {\n",
       "        text-align: right;\n",
       "    }\n",
       "</style>\n",
       "<table border=\"1\" class=\"dataframe\">\n",
       "  <thead>\n",
       "    <tr style=\"text-align: right;\">\n",
       "      <th></th>\n",
       "      <th>chr</th>\n",
       "      <th>source</th>\n",
       "      <th>type</th>\n",
       "      <th>start</th>\n",
       "      <th>end</th>\n",
       "      <th>score</th>\n",
       "      <th>strand</th>\n",
       "      <th>phase</th>\n",
       "      <th>attributes</th>\n",
       "    </tr>\n",
       "  </thead>\n",
       "  <tbody>\n",
       "    <tr>\n",
       "      <th>0</th>\n",
       "      <td>chr1H</td>\n",
       "      <td>PGSB</td>\n",
       "      <td>gene</td>\n",
       "      <td>72210</td>\n",
       "      <td>73054</td>\n",
       "      <td>.</td>\n",
       "      <td>+</td>\n",
       "      <td>.</td>\n",
       "      <td>ID=HORVU.BARKE.r1.1HG0000010</td>\n",
       "    </tr>\n",
       "    <tr>\n",
       "      <th>1</th>\n",
       "      <td>chr1H</td>\n",
       "      <td>PGSB</td>\n",
       "      <td>mRNA</td>\n",
       "      <td>72210</td>\n",
       "      <td>73054</td>\n",
       "      <td>.</td>\n",
       "      <td>+</td>\n",
       "      <td>.</td>\n",
       "      <td>ID=HORVU.BARKE.r1.1HG0000010.1</td>\n",
       "    </tr>\n",
       "    <tr>\n",
       "      <th>2</th>\n",
       "      <td>chr1H</td>\n",
       "      <td>PGSB</td>\n",
       "      <td>exon</td>\n",
       "      <td>72210</td>\n",
       "      <td>72399</td>\n",
       "      <td>.</td>\n",
       "      <td>+</td>\n",
       "      <td>.</td>\n",
       "      <td>ID=HORVU.BARKE.r1.1HG0000010.1.exon.1</td>\n",
       "    </tr>\n",
       "    <tr>\n",
       "      <th>3</th>\n",
       "      <td>chr1H</td>\n",
       "      <td>PGSB</td>\n",
       "      <td>CDS</td>\n",
       "      <td>72210</td>\n",
       "      <td>72399</td>\n",
       "      <td>.</td>\n",
       "      <td>+</td>\n",
       "      <td>0</td>\n",
       "      <td>ID=HORVU.BARKE.r1.1HG0000010.1.CDS.1</td>\n",
       "    </tr>\n",
       "    <tr>\n",
       "      <th>4</th>\n",
       "      <td>chr1H</td>\n",
       "      <td>PGSB</td>\n",
       "      <td>exon</td>\n",
       "      <td>72822</td>\n",
       "      <td>73054</td>\n",
       "      <td>.</td>\n",
       "      <td>+</td>\n",
       "      <td>.</td>\n",
       "      <td>ID=HORVU.BARKE.r1.1HG0000010.1.exon.2</td>\n",
       "    </tr>\n",
       "  </tbody>\n",
       "</table>\n",
       "</div>"
      ],
      "text/plain": [
       "     chr source  type  start    end score strand phase  \\\n",
       "0  chr1H   PGSB  gene  72210  73054     .      +     .   \n",
       "1  chr1H   PGSB  mRNA  72210  73054     .      +     .   \n",
       "2  chr1H   PGSB  exon  72210  72399     .      +     .   \n",
       "3  chr1H   PGSB   CDS  72210  72399     .      +     0   \n",
       "4  chr1H   PGSB  exon  72822  73054     .      +     .   \n",
       "\n",
       "                              attributes  \n",
       "0           ID=HORVU.BARKE.r1.1HG0000010  \n",
       "1         ID=HORVU.BARKE.r1.1HG0000010.1  \n",
       "2  ID=HORVU.BARKE.r1.1HG0000010.1.exon.1  \n",
       "3   ID=HORVU.BARKE.r1.1HG0000010.1.CDS.1  \n",
       "4  ID=HORVU.BARKE.r1.1HG0000010.1.exon.2  "
      ]
     },
     "execution_count": 11,
     "metadata": {},
     "output_type": "execute_result"
    }
   ],
   "source": [
    "### --- Transforming the gff3 file to a pandas dataframe to better handle it\n",
    "df_Barke = pd.read_csv('Data/Barke_nohashtag.csv', header=None, names = ['chr', 'source', 'type','start','end','score','strand','phase','attributes'])\n",
    "df_Barke.head()"
   ]
  },
  {
   "cell_type": "code",
   "execution_count": 12,
   "metadata": {},
   "outputs": [
    {
     "data": {
      "text/html": [
       "<div>\n",
       "<style scoped>\n",
       "    .dataframe tbody tr th:only-of-type {\n",
       "        vertical-align: middle;\n",
       "    }\n",
       "\n",
       "    .dataframe tbody tr th {\n",
       "        vertical-align: top;\n",
       "    }\n",
       "\n",
       "    .dataframe thead th {\n",
       "        text-align: right;\n",
       "    }\n",
       "</style>\n",
       "<table border=\"1\" class=\"dataframe\">\n",
       "  <thead>\n",
       "    <tr style=\"text-align: right;\">\n",
       "      <th></th>\n",
       "      <th>chr</th>\n",
       "      <th>source</th>\n",
       "      <th>type</th>\n",
       "      <th>start</th>\n",
       "      <th>end</th>\n",
       "      <th>score</th>\n",
       "      <th>strand</th>\n",
       "      <th>phase</th>\n",
       "      <th>attributes</th>\n",
       "    </tr>\n",
       "  </thead>\n",
       "  <tbody>\n",
       "    <tr>\n",
       "      <th>2</th>\n",
       "      <td>chr1H</td>\n",
       "      <td>PGSB</td>\n",
       "      <td>exon</td>\n",
       "      <td>72210</td>\n",
       "      <td>72399</td>\n",
       "      <td>.</td>\n",
       "      <td>+</td>\n",
       "      <td>.</td>\n",
       "      <td>ID=HORVU.BARKE.r1.1HG0000010.1.exon.1</td>\n",
       "    </tr>\n",
       "    <tr>\n",
       "      <th>4</th>\n",
       "      <td>chr1H</td>\n",
       "      <td>PGSB</td>\n",
       "      <td>exon</td>\n",
       "      <td>72822</td>\n",
       "      <td>73054</td>\n",
       "      <td>.</td>\n",
       "      <td>+</td>\n",
       "      <td>.</td>\n",
       "      <td>ID=HORVU.BARKE.r1.1HG0000010.1.exon.2</td>\n",
       "    </tr>\n",
       "    <tr>\n",
       "      <th>8</th>\n",
       "      <td>chr1H</td>\n",
       "      <td>PGSB</td>\n",
       "      <td>exon</td>\n",
       "      <td>102846</td>\n",
       "      <td>103475</td>\n",
       "      <td>.</td>\n",
       "      <td>+</td>\n",
       "      <td>.</td>\n",
       "      <td>ID=HORVU.BARKE.r1.1HG0000020.1.exon.1</td>\n",
       "    </tr>\n",
       "    <tr>\n",
       "      <th>12</th>\n",
       "      <td>chr1H</td>\n",
       "      <td>PGSB</td>\n",
       "      <td>exon</td>\n",
       "      <td>104616</td>\n",
       "      <td>105062</td>\n",
       "      <td>.</td>\n",
       "      <td>-</td>\n",
       "      <td>.</td>\n",
       "      <td>ID=HORVU.BARKE.r1.1HG0000030.1.exon.1</td>\n",
       "    </tr>\n",
       "    <tr>\n",
       "      <th>14</th>\n",
       "      <td>chr1H</td>\n",
       "      <td>PGSB</td>\n",
       "      <td>exon</td>\n",
       "      <td>105168</td>\n",
       "      <td>105209</td>\n",
       "      <td>.</td>\n",
       "      <td>-</td>\n",
       "      <td>.</td>\n",
       "      <td>ID=HORVU.BARKE.r1.1HG0000030.1.exon.2</td>\n",
       "    </tr>\n",
       "  </tbody>\n",
       "</table>\n",
       "</div>"
      ],
      "text/plain": [
       "      chr source  type   start     end score strand phase  \\\n",
       "2   chr1H   PGSB  exon   72210   72399     .      +     .   \n",
       "4   chr1H   PGSB  exon   72822   73054     .      +     .   \n",
       "8   chr1H   PGSB  exon  102846  103475     .      +     .   \n",
       "12  chr1H   PGSB  exon  104616  105062     .      -     .   \n",
       "14  chr1H   PGSB  exon  105168  105209     .      -     .   \n",
       "\n",
       "                               attributes  \n",
       "2   ID=HORVU.BARKE.r1.1HG0000010.1.exon.1  \n",
       "4   ID=HORVU.BARKE.r1.1HG0000010.1.exon.2  \n",
       "8   ID=HORVU.BARKE.r1.1HG0000020.1.exon.1  \n",
       "12  ID=HORVU.BARKE.r1.1HG0000030.1.exon.1  \n",
       "14  ID=HORVU.BARKE.r1.1HG0000030.1.exon.2  "
      ]
     },
     "execution_count": 12,
     "metadata": {},
     "output_type": "execute_result"
    }
   ],
   "source": [
    "### --- Building a separate dataframe containing all exons\n",
    "exon_Barke = df_Barke.loc[df_Barke['type'].isin(['exon'])]\n",
    "exon_Barke.head()"
   ]
  },
  {
   "cell_type": "code",
   "execution_count": 13,
   "metadata": {},
   "outputs": [],
   "source": [
    "### --- Exporting the exon dataframe to a tsv file \n",
    "exon_Barke.to_csv('Data/Barke_exon.tsv',sep='\\t',index=False,header=False)"
   ]
  },
  {
   "cell_type": "code",
   "execution_count": 14,
   "metadata": {},
   "outputs": [
    {
     "data": {
      "text/html": [
       "<div>\n",
       "<style scoped>\n",
       "    .dataframe tbody tr th:only-of-type {\n",
       "        vertical-align: middle;\n",
       "    }\n",
       "\n",
       "    .dataframe tbody tr th {\n",
       "        vertical-align: top;\n",
       "    }\n",
       "\n",
       "    .dataframe thead th {\n",
       "        text-align: right;\n",
       "    }\n",
       "</style>\n",
       "<table border=\"1\" class=\"dataframe\">\n",
       "  <thead>\n",
       "    <tr style=\"text-align: right;\">\n",
       "      <th></th>\n",
       "      <th>chr</th>\n",
       "      <th>source</th>\n",
       "      <th>type</th>\n",
       "      <th>start</th>\n",
       "      <th>end</th>\n",
       "      <th>score</th>\n",
       "      <th>strand</th>\n",
       "      <th>phase</th>\n",
       "      <th>attributes</th>\n",
       "    </tr>\n",
       "  </thead>\n",
       "  <tbody>\n",
       "    <tr>\n",
       "      <th>0</th>\n",
       "      <td>chr1H</td>\n",
       "      <td>PGSB</td>\n",
       "      <td>gene</td>\n",
       "      <td>72210</td>\n",
       "      <td>73054</td>\n",
       "      <td>.</td>\n",
       "      <td>+</td>\n",
       "      <td>.</td>\n",
       "      <td>ID=HORVU.BARKE.r1.1HG0000010</td>\n",
       "    </tr>\n",
       "    <tr>\n",
       "      <th>1</th>\n",
       "      <td>chr1H</td>\n",
       "      <td>PGSB</td>\n",
       "      <td>mRNA</td>\n",
       "      <td>72210</td>\n",
       "      <td>73054</td>\n",
       "      <td>.</td>\n",
       "      <td>+</td>\n",
       "      <td>.</td>\n",
       "      <td>ID=HORVU.BARKE.r1.1HG0000010.1</td>\n",
       "    </tr>\n",
       "    <tr>\n",
       "      <th>2</th>\n",
       "      <td>chr1H</td>\n",
       "      <td>PGSB</td>\n",
       "      <td>exon</td>\n",
       "      <td>72210</td>\n",
       "      <td>72399</td>\n",
       "      <td>.</td>\n",
       "      <td>+</td>\n",
       "      <td>.</td>\n",
       "      <td>ID=HORVU.BARKE.r1.1HG0000010.1.exon.1</td>\n",
       "    </tr>\n",
       "    <tr>\n",
       "      <th>3</th>\n",
       "      <td>chr1H</td>\n",
       "      <td>PGSB</td>\n",
       "      <td>CDS</td>\n",
       "      <td>72210</td>\n",
       "      <td>72399</td>\n",
       "      <td>.</td>\n",
       "      <td>+</td>\n",
       "      <td>0</td>\n",
       "      <td>ID=HORVU.BARKE.r1.1HG0000010.1.CDS.1</td>\n",
       "    </tr>\n",
       "    <tr>\n",
       "      <th>4</th>\n",
       "      <td>chr1H</td>\n",
       "      <td>PGSB</td>\n",
       "      <td>exon</td>\n",
       "      <td>72822</td>\n",
       "      <td>73054</td>\n",
       "      <td>.</td>\n",
       "      <td>+</td>\n",
       "      <td>.</td>\n",
       "      <td>ID=HORVU.BARKE.r1.1HG0000010.1.exon.2</td>\n",
       "    </tr>\n",
       "  </tbody>\n",
       "</table>\n",
       "</div>"
      ],
      "text/plain": [
       "     chr source  type  start    end score strand phase  \\\n",
       "0  chr1H   PGSB  gene  72210  73054     .      +     .   \n",
       "1  chr1H   PGSB  mRNA  72210  73054     .      +     .   \n",
       "2  chr1H   PGSB  exon  72210  72399     .      +     .   \n",
       "3  chr1H   PGSB   CDS  72210  72399     .      +     0   \n",
       "4  chr1H   PGSB  exon  72822  73054     .      +     .   \n",
       "\n",
       "                              attributes  \n",
       "0           ID=HORVU.BARKE.r1.1HG0000010  \n",
       "1         ID=HORVU.BARKE.r1.1HG0000010.1  \n",
       "2  ID=HORVU.BARKE.r1.1HG0000010.1.exon.1  \n",
       "3   ID=HORVU.BARKE.r1.1HG0000010.1.CDS.1  \n",
       "4  ID=HORVU.BARKE.r1.1HG0000010.1.exon.2  "
      ]
     },
     "execution_count": 14,
     "metadata": {},
     "output_type": "execute_result"
    }
   ],
   "source": [
    "### --- Keeping in a separated dataframe the forward strands\n",
    "forw_Barke = df_Barke.loc[df_Barke['strand'].isin(['+'])]\n",
    "forw_Barke.head()"
   ]
  },
  {
   "cell_type": "code",
   "execution_count": 15,
   "metadata": {},
   "outputs": [
    {
     "data": {
      "text/html": [
       "<div>\n",
       "<style scoped>\n",
       "    .dataframe tbody tr th:only-of-type {\n",
       "        vertical-align: middle;\n",
       "    }\n",
       "\n",
       "    .dataframe tbody tr th {\n",
       "        vertical-align: top;\n",
       "    }\n",
       "\n",
       "    .dataframe thead th {\n",
       "        text-align: right;\n",
       "    }\n",
       "</style>\n",
       "<table border=\"1\" class=\"dataframe\">\n",
       "  <thead>\n",
       "    <tr style=\"text-align: right;\">\n",
       "      <th></th>\n",
       "      <th>chr</th>\n",
       "      <th>source</th>\n",
       "      <th>type</th>\n",
       "      <th>start</th>\n",
       "      <th>end</th>\n",
       "      <th>score</th>\n",
       "      <th>strand</th>\n",
       "      <th>phase</th>\n",
       "      <th>attributes</th>\n",
       "    </tr>\n",
       "  </thead>\n",
       "  <tbody>\n",
       "    <tr>\n",
       "      <th>10</th>\n",
       "      <td>chr1H</td>\n",
       "      <td>PGSB</td>\n",
       "      <td>gene</td>\n",
       "      <td>104616</td>\n",
       "      <td>112948</td>\n",
       "      <td>.</td>\n",
       "      <td>-</td>\n",
       "      <td>.</td>\n",
       "      <td>ID=HORVU.BARKE.r1.1HG0000030</td>\n",
       "    </tr>\n",
       "    <tr>\n",
       "      <th>11</th>\n",
       "      <td>chr1H</td>\n",
       "      <td>PGSB</td>\n",
       "      <td>mRNA</td>\n",
       "      <td>104616</td>\n",
       "      <td>112948</td>\n",
       "      <td>.</td>\n",
       "      <td>-</td>\n",
       "      <td>.</td>\n",
       "      <td>ID=HORVU.BARKE.r1.1HG0000030.1</td>\n",
       "    </tr>\n",
       "    <tr>\n",
       "      <th>12</th>\n",
       "      <td>chr1H</td>\n",
       "      <td>PGSB</td>\n",
       "      <td>exon</td>\n",
       "      <td>104616</td>\n",
       "      <td>105062</td>\n",
       "      <td>.</td>\n",
       "      <td>-</td>\n",
       "      <td>.</td>\n",
       "      <td>ID=HORVU.BARKE.r1.1HG0000030.1.exon.1</td>\n",
       "    </tr>\n",
       "    <tr>\n",
       "      <th>13</th>\n",
       "      <td>chr1H</td>\n",
       "      <td>PGSB</td>\n",
       "      <td>CDS</td>\n",
       "      <td>104616</td>\n",
       "      <td>105062</td>\n",
       "      <td>.</td>\n",
       "      <td>-</td>\n",
       "      <td>0</td>\n",
       "      <td>ID=HORVU.BARKE.r1.1HG0000030.1.CDS.1</td>\n",
       "    </tr>\n",
       "    <tr>\n",
       "      <th>14</th>\n",
       "      <td>chr1H</td>\n",
       "      <td>PGSB</td>\n",
       "      <td>exon</td>\n",
       "      <td>105168</td>\n",
       "      <td>105209</td>\n",
       "      <td>.</td>\n",
       "      <td>-</td>\n",
       "      <td>.</td>\n",
       "      <td>ID=HORVU.BARKE.r1.1HG0000030.1.exon.2</td>\n",
       "    </tr>\n",
       "  </tbody>\n",
       "</table>\n",
       "</div>"
      ],
      "text/plain": [
       "      chr source  type   start     end score strand phase  \\\n",
       "10  chr1H   PGSB  gene  104616  112948     .      -     .   \n",
       "11  chr1H   PGSB  mRNA  104616  112948     .      -     .   \n",
       "12  chr1H   PGSB  exon  104616  105062     .      -     .   \n",
       "13  chr1H   PGSB   CDS  104616  105062     .      -     0   \n",
       "14  chr1H   PGSB  exon  105168  105209     .      -     .   \n",
       "\n",
       "                               attributes  \n",
       "10           ID=HORVU.BARKE.r1.1HG0000030  \n",
       "11         ID=HORVU.BARKE.r1.1HG0000030.1  \n",
       "12  ID=HORVU.BARKE.r1.1HG0000030.1.exon.1  \n",
       "13   ID=HORVU.BARKE.r1.1HG0000030.1.CDS.1  \n",
       "14  ID=HORVU.BARKE.r1.1HG0000030.1.exon.2  "
      ]
     },
     "execution_count": 15,
     "metadata": {},
     "output_type": "execute_result"
    }
   ],
   "source": [
    "### --- Keeping in a separated dataframe the reverse strands\n",
    "rev_Barke = df_Barke.loc[df_Barke['strand'].isin(['-'])]\n",
    "rev_Barke.head()"
   ]
  },
  {
   "cell_type": "code",
   "execution_count": 16,
   "metadata": {},
   "outputs": [
    {
     "data": {
      "text/html": [
       "<div>\n",
       "<style scoped>\n",
       "    .dataframe tbody tr th:only-of-type {\n",
       "        vertical-align: middle;\n",
       "    }\n",
       "\n",
       "    .dataframe tbody tr th {\n",
       "        vertical-align: top;\n",
       "    }\n",
       "\n",
       "    .dataframe thead th {\n",
       "        text-align: right;\n",
       "    }\n",
       "</style>\n",
       "<table border=\"1\" class=\"dataframe\">\n",
       "  <thead>\n",
       "    <tr style=\"text-align: right;\">\n",
       "      <th></th>\n",
       "      <th>chr</th>\n",
       "      <th>source</th>\n",
       "      <th>type</th>\n",
       "      <th>start</th>\n",
       "      <th>end</th>\n",
       "      <th>score</th>\n",
       "      <th>strand</th>\n",
       "      <th>phase</th>\n",
       "      <th>attributes</th>\n",
       "    </tr>\n",
       "  </thead>\n",
       "  <tbody>\n",
       "  </tbody>\n",
       "</table>\n",
       "</div>"
      ],
      "text/plain": [
       "Empty DataFrame\n",
       "Columns: [chr, source, type, start, end, score, strand, phase, attributes]\n",
       "Index: []"
      ]
     },
     "execution_count": 16,
     "metadata": {},
     "output_type": "execute_result"
    }
   ],
   "source": [
    "### --- Keeping in a separated dataframe the UTR regions on the forward strands\n",
    "UTR_forw_Barke = forw_Barke.loc[df_Barke['type'].isin(['three_prime_UTR','five_prime_UTR'])]\n",
    "UTR_forw_Barke.head()"
   ]
  },
  {
   "cell_type": "code",
   "execution_count": 18,
   "metadata": {},
   "outputs": [
    {
     "data": {
      "text/html": [
       "<div>\n",
       "<style scoped>\n",
       "    .dataframe tbody tr th:only-of-type {\n",
       "        vertical-align: middle;\n",
       "    }\n",
       "\n",
       "    .dataframe tbody tr th {\n",
       "        vertical-align: top;\n",
       "    }\n",
       "\n",
       "    .dataframe thead th {\n",
       "        text-align: right;\n",
       "    }\n",
       "</style>\n",
       "<table border=\"1\" class=\"dataframe\">\n",
       "  <thead>\n",
       "    <tr style=\"text-align: right;\">\n",
       "      <th></th>\n",
       "      <th>chr</th>\n",
       "      <th>source</th>\n",
       "      <th>type</th>\n",
       "      <th>start</th>\n",
       "      <th>end</th>\n",
       "      <th>score</th>\n",
       "      <th>strand</th>\n",
       "      <th>phase</th>\n",
       "      <th>attributes</th>\n",
       "    </tr>\n",
       "  </thead>\n",
       "  <tbody>\n",
       "  </tbody>\n",
       "</table>\n",
       "</div>"
      ],
      "text/plain": [
       "Empty DataFrame\n",
       "Columns: [chr, source, type, start, end, score, strand, phase, attributes]\n",
       "Index: []"
      ]
     },
     "execution_count": 18,
     "metadata": {},
     "output_type": "execute_result"
    }
   ],
   "source": [
    "### --- Keeping in a separated dataframe the UTR regions on the reverse strands\n",
    "UTR_rev_Barke = rev_Barke.loc[df_Barke['type'].isin(['three_prime_UTR','five_prime_UTR'])]\n",
    "UTR_rev_Barke.head()"
   ]
  },
  {
   "cell_type": "markdown",
   "metadata": {},
   "source": [
    "As we see UTRs are not reported within this annotation so we cannot analyze them. We will just focus on the total number of introns. "
   ]
  },
  {
   "cell_type": "markdown",
   "metadata": {},
   "source": [
    "### 3.1.3 Extracting introns from the whole genome"
   ]
  },
  {
   "cell_type": "code",
   "execution_count": 20,
   "metadata": {},
   "outputs": [],
   "source": [
    "### --- Extracting introns from Barke\n",
    "extract_tot_introns('Data/Barke_exon.tsv', 'Output/Barke_introns.tsv')"
   ]
  },
  {
   "cell_type": "code",
   "execution_count": 21,
   "metadata": {},
   "outputs": [
    {
     "data": {
      "text/html": [
       "<div>\n",
       "<style scoped>\n",
       "    .dataframe tbody tr th:only-of-type {\n",
       "        vertical-align: middle;\n",
       "    }\n",
       "\n",
       "    .dataframe tbody tr th {\n",
       "        vertical-align: top;\n",
       "    }\n",
       "\n",
       "    .dataframe thead th {\n",
       "        text-align: right;\n",
       "    }\n",
       "</style>\n",
       "<table border=\"1\" class=\"dataframe\">\n",
       "  <thead>\n",
       "    <tr style=\"text-align: right;\">\n",
       "      <th></th>\n",
       "      <th>ID</th>\n",
       "      <th>type</th>\n",
       "      <th>start</th>\n",
       "      <th>end</th>\n",
       "      <th>length</th>\n",
       "    </tr>\n",
       "  </thead>\n",
       "  <tbody>\n",
       "    <tr>\n",
       "      <th>0</th>\n",
       "      <td>ID=HORVU.BARKE.r1.1HG0000010.1</td>\n",
       "      <td>intron</td>\n",
       "      <td>72400</td>\n",
       "      <td>72821</td>\n",
       "      <td>423</td>\n",
       "    </tr>\n",
       "    <tr>\n",
       "      <th>1</th>\n",
       "      <td>ID=HORVU.BARKE.r1.1HG0000030.1</td>\n",
       "      <td>intron</td>\n",
       "      <td>105063</td>\n",
       "      <td>105167</td>\n",
       "      <td>106</td>\n",
       "    </tr>\n",
       "    <tr>\n",
       "      <th>2</th>\n",
       "      <td>ID=HORVU.BARKE.r1.1HG0000030.1</td>\n",
       "      <td>intron</td>\n",
       "      <td>105210</td>\n",
       "      <td>105713</td>\n",
       "      <td>505</td>\n",
       "    </tr>\n",
       "    <tr>\n",
       "      <th>3</th>\n",
       "      <td>ID=HORVU.BARKE.r1.1HG0000030.1</td>\n",
       "      <td>intron</td>\n",
       "      <td>105782</td>\n",
       "      <td>105861</td>\n",
       "      <td>81</td>\n",
       "    </tr>\n",
       "    <tr>\n",
       "      <th>4</th>\n",
       "      <td>ID=HORVU.BARKE.r1.1HG0000030.1</td>\n",
       "      <td>intron</td>\n",
       "      <td>105905</td>\n",
       "      <td>106005</td>\n",
       "      <td>102</td>\n",
       "    </tr>\n",
       "    <tr>\n",
       "      <th>...</th>\n",
       "      <td>...</td>\n",
       "      <td>...</td>\n",
       "      <td>...</td>\n",
       "      <td>...</td>\n",
       "      <td>...</td>\n",
       "    </tr>\n",
       "    <tr>\n",
       "      <th>95</th>\n",
       "      <td>ID=HORVU.BARKE.r1.1HG0000150.1</td>\n",
       "      <td>intron</td>\n",
       "      <td>428232</td>\n",
       "      <td>428317</td>\n",
       "      <td>87</td>\n",
       "    </tr>\n",
       "    <tr>\n",
       "      <th>96</th>\n",
       "      <td>ID=HORVU.BARKE.r1.1HG0000160.1</td>\n",
       "      <td>intron</td>\n",
       "      <td>436394</td>\n",
       "      <td>436497</td>\n",
       "      <td>105</td>\n",
       "    </tr>\n",
       "    <tr>\n",
       "      <th>97</th>\n",
       "      <td>ID=HORVU.BARKE.r1.1HG0000170.1</td>\n",
       "      <td>intron</td>\n",
       "      <td>496838</td>\n",
       "      <td>496909</td>\n",
       "      <td>73</td>\n",
       "    </tr>\n",
       "    <tr>\n",
       "      <th>98</th>\n",
       "      <td>ID=HORVU.BARKE.r1.1HG0000170.1</td>\n",
       "      <td>intron</td>\n",
       "      <td>496951</td>\n",
       "      <td>497090</td>\n",
       "      <td>141</td>\n",
       "    </tr>\n",
       "    <tr>\n",
       "      <th>99</th>\n",
       "      <td>ID=HORVU.BARKE.r1.1HG0000180.1</td>\n",
       "      <td>intron</td>\n",
       "      <td>498165</td>\n",
       "      <td>498241</td>\n",
       "      <td>78</td>\n",
       "    </tr>\n",
       "  </tbody>\n",
       "</table>\n",
       "<p>100 rows × 5 columns</p>\n",
       "</div>"
      ],
      "text/plain": [
       "                                ID     type   start     end  length\n",
       "0   ID=HORVU.BARKE.r1.1HG0000010.1  intron    72400   72821     423\n",
       "1   ID=HORVU.BARKE.r1.1HG0000030.1  intron   105063  105167     106\n",
       "2   ID=HORVU.BARKE.r1.1HG0000030.1  intron   105210  105713     505\n",
       "3   ID=HORVU.BARKE.r1.1HG0000030.1  intron   105782  105861      81\n",
       "4   ID=HORVU.BARKE.r1.1HG0000030.1  intron   105905  106005     102\n",
       "..                             ...      ...     ...     ...     ...\n",
       "95  ID=HORVU.BARKE.r1.1HG0000150.1  intron   428232  428317      87\n",
       "96  ID=HORVU.BARKE.r1.1HG0000160.1  intron   436394  436497     105\n",
       "97  ID=HORVU.BARKE.r1.1HG0000170.1  intron   496838  496909      73\n",
       "98  ID=HORVU.BARKE.r1.1HG0000170.1  intron   496951  497090     141\n",
       "99  ID=HORVU.BARKE.r1.1HG0000180.1  intron   498165  498241      78\n",
       "\n",
       "[100 rows x 5 columns]"
      ]
     },
     "execution_count": 21,
     "metadata": {},
     "output_type": "execute_result"
    }
   ],
   "source": [
    "introns_Barke = pd.read_csv('Output/Barke_introns.tsv', sep = '\\t')\n",
    "introns_Barke[:100]"
   ]
  },
  {
   "cell_type": "code",
   "execution_count": 22,
   "metadata": {},
   "outputs": [],
   "source": [
    "### --- Counting introns type in Barke\n",
    "introns_dictionary_Barke = counting_introns_type(exon_Barke)"
   ]
  },
  {
   "cell_type": "code",
   "execution_count": 23,
   "metadata": {},
   "outputs": [
    {
     "name": "stdout",
     "output_type": "stream",
     "text": [
      "Intronless are: 25166\n",
      "Intronpoor are: 14852\n",
      "Intronrich are: 11019\n"
     ]
    }
   ],
   "source": [
    "n_intronless_Barke, n_intronpoor_Barke, n_intronrich_Barke, intronless_Barke, intronpoor_Barke, intronrich_Barke = splitting_introns_type(introns_dictionary_Barke)"
   ]
  },
  {
   "cell_type": "code",
   "execution_count": 24,
   "metadata": {},
   "outputs": [
    {
     "data": {
      "image/png": "[encoded data removed]",
      "text/plain": [
       "<Figure size 720x504 with 1 Axes>"
      ]
     },
     "metadata": {},
     "output_type": "display_data"
    }
   ],
   "source": [
    "genes = ['Intronless', 'Intronpoor', 'Intronrich']\n",
    "data_Barke = [25166, 14852, 11019]\n",
    "fig = plt.figure(figsize =(10, 7))\n",
    "plt.pie(data_Barke, labels = genes, autopct='%1.0f%%')\n",
    "plt.title(\"Genes Barke Distribution\", bbox={'facecolor':'0.8', 'pad':5})\n",
    "plt.show()"
   ]
  },
  {
   "cell_type": "code",
   "execution_count": 25,
   "metadata": {},
   "outputs": [],
   "source": [
    "### --- Creating the list of Barke gene IDs to check the number of transcripts using command line\n",
    "intronless_file_Barke = open('Output/Barke_intronlessIDs.txt', 'a')\n",
    "intronpoor_file_Barke = open('Output/Barke_intronpoorIDs.txt', 'a')\n",
    "intronrich_file_Barke = open('Output/Barke_intronrichIDs.txt', 'a')\n",
    "for i in range(len(intronless_Barke)):\n",
    "    if i == len(intronless_Barke) -1:\n",
    "        intronless_file_Barke.write(intronless_Barke[i])\n",
    "    else:\n",
    "        intronless_file_Barke.write(intronless_Barke[i] + '\\n')\n",
    "intronless_file_Barke.close()\n",
    "\n",
    "for i in range(len(intronpoor_Barke)):\n",
    "    if i == len(intronpoor_Barke) -1:\n",
    "        intronpoor_file_Barke.write(intronpoor_Barke[i])\n",
    "    else:\n",
    "        intronpoor_file_Barke.write(intronpoor_Barke[i] + '\\n')\n",
    "intronpoor_file_Barke.close()\n",
    "\n",
    "for i in range(len(intronrich_Barke)):\n",
    "    if i == len(intronrich_Barke) -1:\n",
    "        intronrich_file_Barke.write(intronrich_Barke[i])\n",
    "    else:\n",
    "        intronrich_file_Barke.write(intronrich_Barke[i]+'\\n')\n",
    "intronrich_file_Barke.close()"
   ]
  },
  {
   "cell_type": "code",
   "execution_count": 28,
   "metadata": {},
   "outputs": [],
   "source": [
    "### --- Storing the number of transcripts in intron-less/poor/rich genes within a variable \n",
    "n_mRNA_intronless_Barke = ! grep -f Output/Barke_intronlessIDs.txt Data/Barke_nohashtag.gff3 | awk -F '\\t' '{print $3}' | grep -w 'mRNA' | wc -l\n",
    "n_mRNA_intronpoor_Barke = ! grep -f Output/Barke_intronpoorIDs.txt Data/Barke_nohashtag.gff3 | awk -F '\\t' '{print $3}' | grep -w 'mRNA' | wc -l\n",
    "n_mRNA_intronrich_Barke = ! grep -f Output/Barke_intronrichIDs.txt Data/Barke_nohashtag.gff3 | awk -F '\\t' '{print $3}' | grep -w 'mRNA' | wc -l"
   ]
  },
  {
   "cell_type": "code",
   "execution_count": 29,
   "metadata": {},
   "outputs": [
    {
     "name": "stdout",
     "output_type": "stream",
     "text": [
      "1.0\n",
      "1.0\n",
      "1.0\n"
     ]
    }
   ],
   "source": [
    "### --- Checking the average number of transcripts for each gene-type\n",
    "avg_mRNA_intronless_Barke = int(n_mRNA_intronless_Barke[0])/n_intronless_Barke\n",
    "print(avg_mRNA_intronless_Barke)\n",
    "avg_mRNA_intronpoor_Barke = int(n_mRNA_intronpoor_Barke[0])/n_intronpoor_Barke\n",
    "print(avg_mRNA_intronpoor_Barke)\n",
    "avg_mRNA_intronrich_Barke = int(n_mRNA_intronrich_Barke[0])/n_intronrich_Barke\n",
    "print(avg_mRNA_intronrich_Barke)"
   ]
  },
  {
   "cell_type": "markdown",
   "metadata": {},
   "source": [
    "It seems there are no transcripts undergoing alternative splicing. This is probably due to a poor annotation. "
   ]
  },
  {
   "cell_type": "code",
   "execution_count": 30,
   "metadata": {},
   "outputs": [
    {
     "data": {
      "text/plain": [
       "count    118377.000000\n",
       "mean        521.125354\n",
       "std        1624.109541\n",
       "min          22.000000\n",
       "25%          94.000000\n",
       "50%         132.000000\n",
       "75%         433.000000\n",
       "max      137958.000000\n",
       "Name: length, dtype: float64"
      ]
     },
     "execution_count": 30,
     "metadata": {},
     "output_type": "execute_result"
    }
   ],
   "source": [
    "### --- Basic statistics of Barke introns\n",
    "introns_Barke['length'].describe()"
   ]
  },
  {
   "cell_type": "code",
   "execution_count": 31,
   "metadata": {},
   "outputs": [
    {
     "data": {
      "text/plain": [
       "<AxesSubplot:ylabel='Density'>"
      ]
     },
     "execution_count": 31,
     "metadata": {},
     "output_type": "execute_result"
    },
    {
     "data": {
      "image/png": "[encoded data removed]",
      "text/plain": [
       "<Figure size 432x288 with 1 Axes>"
      ]
     },
     "metadata": {
      "needs_background": "light"
     },
     "output_type": "display_data"
    }
   ],
   "source": [
    "### --- Plotting the distribution of Barke introns length\n",
    "introns_Barke['length'].plot.density()"
   ]
  },
  {
   "cell_type": "code",
   "execution_count": 32,
   "metadata": {},
   "outputs": [
    {
     "data": {
      "text/plain": [
       "<AxesSubplot:>"
      ]
     },
     "execution_count": 32,
     "metadata": {},
     "output_type": "execute_result"
    },
    {
     "data": {
      "image/png": "[encoded data removed]",
      "text/plain": [
       "<Figure size 432x288 with 1 Axes>"
      ]
     },
     "metadata": {
      "needs_background": "light"
     },
     "output_type": "display_data"
    }
   ],
   "source": [
    "### --- Plotting the boxplot of Barke introns length without outliers\n",
    "introns_Barke.boxplot(column='length', return_type='axes', showfliers=False) # showfliers = False -> discard outliers"
   ]
  },
  {
   "cell_type": "markdown",
   "metadata": {},
   "source": [
    "### 3.1.4 Re-organizing files and directories"
   ]
  },
  {
   "cell_type": "code",
   "execution_count": 36,
   "metadata": {
    "scrolled": true
   },
   "outputs": [
    {
     "name": "stdout",
     "output_type": "stream",
     "text": [
      "Barke_exon.tsv\t     Barke_nohashtag.gff3  raw\r\n",
      "Barke_nohashtag.csv  Hv_Morex_longread\r\n"
     ]
    }
   ],
   "source": [
    "! ls Data/"
   ]
  },
  {
   "cell_type": "code",
   "execution_count": 39,
   "metadata": {},
   "outputs": [],
   "source": [
    "! mkdir Data/Barke"
   ]
  },
  {
   "cell_type": "code",
   "execution_count": 40,
   "metadata": {},
   "outputs": [],
   "source": [
    "! mv Data/Barke_* Data/Barke/ "
   ]
  },
  {
   "cell_type": "code",
   "execution_count": 42,
   "metadata": {},
   "outputs": [
    {
     "name": "stdout",
     "output_type": "stream",
     "text": [
      "Barke_exon.tsv\tBarke_nohashtag.csv  Barke_nohashtag.gff3\r\n"
     ]
    }
   ],
   "source": [
    "! ls Data/Barke/"
   ]
  },
  {
   "cell_type": "code",
   "execution_count": 43,
   "metadata": {},
   "outputs": [
    {
     "name": "stdout",
     "output_type": "stream",
     "text": [
      "Barke_intronlessIDs.txt  Barke_intronrichIDs.txt  Hv_Morex_longread\r\n",
      "Barke_intronpoorIDs.txt  Barke_introns.tsv\r\n"
     ]
    }
   ],
   "source": [
    "! ls Output/"
   ]
  },
  {
   "cell_type": "code",
   "execution_count": 44,
   "metadata": {},
   "outputs": [],
   "source": [
    "! mkdir Output/Barke"
   ]
  },
  {
   "cell_type": "code",
   "execution_count": 45,
   "metadata": {},
   "outputs": [],
   "source": [
    "! mv Output/Barke_* Output/Barke/"
   ]
  },
  {
   "cell_type": "code",
   "execution_count": 46,
   "metadata": {},
   "outputs": [
    {
     "name": "stdout",
     "output_type": "stream",
     "text": [
      "Barke_intronlessIDs.txt  Barke_intronrichIDs.txt\r\n",
      "Barke_intronpoorIDs.txt  Barke_introns.tsv\r\n"
     ]
    }
   ],
   "source": [
    "! ls Output/Barke/"
   ]
  },
  {
   "cell_type": "markdown",
   "metadata": {},
   "source": [
    "## 3.2 HOR10350 - De novo gene annotation"
   ]
  },
  {
   "cell_type": "markdown",
   "metadata": {},
   "source": [
    "### 3.2.1 Data Collection"
   ]
  },
  {
   "cell_type": "code",
   "execution_count": 1,
   "metadata": {
    "scrolled": true
   },
   "outputs": [
    {
     "name": "stdout",
     "output_type": "stream",
     "text": [
      "--2021-06-04 15:03:40--  https://doi.ipk-gatersleben.de/DOI/c4d433dc-bf7c-4ad9-9368-69bb77837ca5/4435ac3e-52f1-47df-9709-4c30e4d21131/1/DOWNLOAD\n",
      "Resolving doi.ipk-gatersleben.de (doi.ipk-gatersleben.de)... 194.94.136.144\n",
      "Connecting to doi.ipk-gatersleben.de (doi.ipk-gatersleben.de)|194.94.136.144|:443... connected.\n",
      "HTTP request sent, awaiting response... 200 OK\n",
      "Length: 62425776 (60M) [text/plain]\n",
      "Saving to: ‘Data/raw/HOR10350.gff3’\n",
      "\n",
      "Data/raw/HOR10350.g 100%[===================>]  59,53M  1,23MB/s    in 65s     \n",
      "\n",
      "2021-06-04 15:04:46 (936 KB/s) - ‘Data/raw/HOR10350.gff3’ saved [62425776/62425776]\n",
      "\n"
     ]
    }
   ],
   "source": [
    "### --- This will download the raw data to the subdirectory raw under the directory Data\n",
    "! wget -O Data/raw/HOR10350.gff3 https://doi.ipk-gatersleben.de/DOI/c4d433dc-bf7c-4ad9-9368-69bb77837ca5/4435ac3e-52f1-47df-9709-4c30e4d21131/1/DOWNLOAD"
   ]
  },
  {
   "cell_type": "markdown",
   "metadata": {},
   "source": [
    "### 3.2.2 Processing Data"
   ]
  },
  {
   "cell_type": "code",
   "execution_count": 2,
   "metadata": {},
   "outputs": [],
   "source": [
    "### --- Removing all hashtags from the gff3 file\n",
    "! sed '/#/d' Data/raw/HOR10350.gff3  > Data/HOR10350_nohashtag.gff3"
   ]
  },
  {
   "cell_type": "code",
   "execution_count": 4,
   "metadata": {},
   "outputs": [],
   "source": [
    "### --- Changing the gff3 file to a csv format file to import it with pandas\n",
    "! cat Data/HOR10350_nohashtag.gff3 | sed 's/,/--/g' | sed 's/;/--/g' | sed 's/\\t/,/g' | awk -F '--' '{print $1}' > Data/HOR10350_nohashtag.csv"
   ]
  },
  {
   "cell_type": "code",
   "execution_count": 28,
   "metadata": {},
   "outputs": [
    {
     "data": {
      "text/html": [
       "<div>\n",
       "<style scoped>\n",
       "    .dataframe tbody tr th:only-of-type {\n",
       "        vertical-align: middle;\n",
       "    }\n",
       "\n",
       "    .dataframe tbody tr th {\n",
       "        vertical-align: top;\n",
       "    }\n",
       "\n",
       "    .dataframe thead th {\n",
       "        text-align: right;\n",
       "    }\n",
       "</style>\n",
       "<table border=\"1\" class=\"dataframe\">\n",
       "  <thead>\n",
       "    <tr style=\"text-align: right;\">\n",
       "      <th></th>\n",
       "      <th>chr</th>\n",
       "      <th>source</th>\n",
       "      <th>type</th>\n",
       "      <th>start</th>\n",
       "      <th>end</th>\n",
       "      <th>score</th>\n",
       "      <th>strand</th>\n",
       "      <th>phase</th>\n",
       "      <th>attributes</th>\n",
       "    </tr>\n",
       "  </thead>\n",
       "  <tbody>\n",
       "    <tr>\n",
       "      <th>0</th>\n",
       "      <td>chr1H</td>\n",
       "      <td>PGSB</td>\n",
       "      <td>gene</td>\n",
       "      <td>238613</td>\n",
       "      <td>241489</td>\n",
       "      <td>.</td>\n",
       "      <td>-</td>\n",
       "      <td>.</td>\n",
       "      <td>ID=HORVU.HOR_10350.r1.1HG0000010</td>\n",
       "    </tr>\n",
       "    <tr>\n",
       "      <th>1</th>\n",
       "      <td>chr1H</td>\n",
       "      <td>PGSB</td>\n",
       "      <td>mRNA</td>\n",
       "      <td>238613</td>\n",
       "      <td>241489</td>\n",
       "      <td>.</td>\n",
       "      <td>-</td>\n",
       "      <td>.</td>\n",
       "      <td>ID=HORVU.HOR_10350.r1.1HG0000010.1</td>\n",
       "    </tr>\n",
       "    <tr>\n",
       "      <th>2</th>\n",
       "      <td>chr1H</td>\n",
       "      <td>PGSB</td>\n",
       "      <td>exon</td>\n",
       "      <td>238613</td>\n",
       "      <td>238663</td>\n",
       "      <td>.</td>\n",
       "      <td>-</td>\n",
       "      <td>.</td>\n",
       "      <td>ID=HORVU.HOR_10350.r1.1HG0000010.1.exon.1</td>\n",
       "    </tr>\n",
       "    <tr>\n",
       "      <th>3</th>\n",
       "      <td>chr1H</td>\n",
       "      <td>PGSB</td>\n",
       "      <td>exon</td>\n",
       "      <td>238753</td>\n",
       "      <td>239079</td>\n",
       "      <td>.</td>\n",
       "      <td>-</td>\n",
       "      <td>.</td>\n",
       "      <td>ID=HORVU.HOR_10350.r1.1HG0000010.1.exon.2</td>\n",
       "    </tr>\n",
       "    <tr>\n",
       "      <th>4</th>\n",
       "      <td>chr1H</td>\n",
       "      <td>PGSB</td>\n",
       "      <td>exon</td>\n",
       "      <td>239393</td>\n",
       "      <td>239689</td>\n",
       "      <td>.</td>\n",
       "      <td>-</td>\n",
       "      <td>.</td>\n",
       "      <td>ID=HORVU.HOR_10350.r1.1HG0000010.1.exon.3</td>\n",
       "    </tr>\n",
       "  </tbody>\n",
       "</table>\n",
       "</div>"
      ],
      "text/plain": [
       "     chr source  type   start     end score strand phase  \\\n",
       "0  chr1H   PGSB  gene  238613  241489     .      -     .   \n",
       "1  chr1H   PGSB  mRNA  238613  241489     .      -     .   \n",
       "2  chr1H   PGSB  exon  238613  238663     .      -     .   \n",
       "3  chr1H   PGSB  exon  238753  239079     .      -     .   \n",
       "4  chr1H   PGSB  exon  239393  239689     .      -     .   \n",
       "\n",
       "                                  attributes  \n",
       "0           ID=HORVU.HOR_10350.r1.1HG0000010  \n",
       "1         ID=HORVU.HOR_10350.r1.1HG0000010.1  \n",
       "2  ID=HORVU.HOR_10350.r1.1HG0000010.1.exon.1  \n",
       "3  ID=HORVU.HOR_10350.r1.1HG0000010.1.exon.2  \n",
       "4  ID=HORVU.HOR_10350.r1.1HG0000010.1.exon.3  "
      ]
     },
     "execution_count": 28,
     "metadata": {},
     "output_type": "execute_result"
    }
   ],
   "source": [
    "### --- Transforming the gff3 file to a pandas dataframe to better handle it\n",
    "df_HOR10350 = pd.read_csv('Data/HOR10350_nohashtag.csv', header=None, names = ['chr', 'source', 'type','start','end','score','strand','phase','attributes'])\n",
    "df_HOR10350.head()"
   ]
  },
  {
   "cell_type": "code",
   "execution_count": 26,
   "metadata": {},
   "outputs": [
    {
     "data": {
      "text/html": [
       "<div>\n",
       "<style scoped>\n",
       "    .dataframe tbody tr th:only-of-type {\n",
       "        vertical-align: middle;\n",
       "    }\n",
       "\n",
       "    .dataframe tbody tr th {\n",
       "        vertical-align: top;\n",
       "    }\n",
       "\n",
       "    .dataframe thead th {\n",
       "        text-align: right;\n",
       "    }\n",
       "</style>\n",
       "<table border=\"1\" class=\"dataframe\">\n",
       "  <thead>\n",
       "    <tr style=\"text-align: right;\">\n",
       "      <th></th>\n",
       "      <th>chr</th>\n",
       "      <th>source</th>\n",
       "      <th>type</th>\n",
       "      <th>start</th>\n",
       "      <th>end</th>\n",
       "      <th>score</th>\n",
       "      <th>strand</th>\n",
       "      <th>phase</th>\n",
       "      <th>attributes</th>\n",
       "    </tr>\n",
       "  </thead>\n",
       "  <tbody>\n",
       "    <tr>\n",
       "      <th>2</th>\n",
       "      <td>chr1H</td>\n",
       "      <td>PGSB</td>\n",
       "      <td>exon</td>\n",
       "      <td>238613</td>\n",
       "      <td>238663</td>\n",
       "      <td>.</td>\n",
       "      <td>-</td>\n",
       "      <td>.</td>\n",
       "      <td>ID=HORVU.HOR_10350.r1.1HG0000010.1.exon.1</td>\n",
       "    </tr>\n",
       "    <tr>\n",
       "      <th>3</th>\n",
       "      <td>chr1H</td>\n",
       "      <td>PGSB</td>\n",
       "      <td>exon</td>\n",
       "      <td>238753</td>\n",
       "      <td>239079</td>\n",
       "      <td>.</td>\n",
       "      <td>-</td>\n",
       "      <td>.</td>\n",
       "      <td>ID=HORVU.HOR_10350.r1.1HG0000010.1.exon.2</td>\n",
       "    </tr>\n",
       "    <tr>\n",
       "      <th>4</th>\n",
       "      <td>chr1H</td>\n",
       "      <td>PGSB</td>\n",
       "      <td>exon</td>\n",
       "      <td>239393</td>\n",
       "      <td>239689</td>\n",
       "      <td>.</td>\n",
       "      <td>-</td>\n",
       "      <td>.</td>\n",
       "      <td>ID=HORVU.HOR_10350.r1.1HG0000010.1.exon.3</td>\n",
       "    </tr>\n",
       "    <tr>\n",
       "      <th>5</th>\n",
       "      <td>chr1H</td>\n",
       "      <td>PGSB</td>\n",
       "      <td>exon</td>\n",
       "      <td>239941</td>\n",
       "      <td>240021</td>\n",
       "      <td>.</td>\n",
       "      <td>-</td>\n",
       "      <td>.</td>\n",
       "      <td>ID=HORVU.HOR_10350.r1.1HG0000010.1.exon.4</td>\n",
       "    </tr>\n",
       "    <tr>\n",
       "      <th>6</th>\n",
       "      <td>chr1H</td>\n",
       "      <td>PGSB</td>\n",
       "      <td>exon</td>\n",
       "      <td>241352</td>\n",
       "      <td>241489</td>\n",
       "      <td>.</td>\n",
       "      <td>-</td>\n",
       "      <td>.</td>\n",
       "      <td>ID=HORVU.HOR_10350.r1.1HG0000010.1.exon.5</td>\n",
       "    </tr>\n",
       "  </tbody>\n",
       "</table>\n",
       "</div>"
      ],
      "text/plain": [
       "     chr source  type   start     end score strand phase  \\\n",
       "2  chr1H   PGSB  exon  238613  238663     .      -     .   \n",
       "3  chr1H   PGSB  exon  238753  239079     .      -     .   \n",
       "4  chr1H   PGSB  exon  239393  239689     .      -     .   \n",
       "5  chr1H   PGSB  exon  239941  240021     .      -     .   \n",
       "6  chr1H   PGSB  exon  241352  241489     .      -     .   \n",
       "\n",
       "                                  attributes  \n",
       "2  ID=HORVU.HOR_10350.r1.1HG0000010.1.exon.1  \n",
       "3  ID=HORVU.HOR_10350.r1.1HG0000010.1.exon.2  \n",
       "4  ID=HORVU.HOR_10350.r1.1HG0000010.1.exon.3  \n",
       "5  ID=HORVU.HOR_10350.r1.1HG0000010.1.exon.4  \n",
       "6  ID=HORVU.HOR_10350.r1.1HG0000010.1.exon.5  "
      ]
     },
     "execution_count": 26,
     "metadata": {},
     "output_type": "execute_result"
    }
   ],
   "source": [
    "### --- Building a separate dataframe containing all exons\n",
    "exon_HOR10350 = df_HOR10350.loc[df_HOR10350['type'].isin(['exon'])]\n",
    "exon_HOR10350.head()"
   ]
  },
  {
   "cell_type": "code",
   "execution_count": 14,
   "metadata": {},
   "outputs": [],
   "source": [
    "### --- Exporting the exon dataframe to a tsv file \n",
    "exon_HOR10350.to_csv('Data/HOR10350_exon.tsv',sep='\\t',index=False,header=False)"
   ]
  },
  {
   "cell_type": "code",
   "execution_count": 15,
   "metadata": {},
   "outputs": [
    {
     "data": {
      "text/html": [
       "<div>\n",
       "<style scoped>\n",
       "    .dataframe tbody tr th:only-of-type {\n",
       "        vertical-align: middle;\n",
       "    }\n",
       "\n",
       "    .dataframe tbody tr th {\n",
       "        vertical-align: top;\n",
       "    }\n",
       "\n",
       "    .dataframe thead th {\n",
       "        text-align: right;\n",
       "    }\n",
       "</style>\n",
       "<table border=\"1\" class=\"dataframe\">\n",
       "  <thead>\n",
       "    <tr style=\"text-align: right;\">\n",
       "      <th></th>\n",
       "      <th>chr</th>\n",
       "      <th>source</th>\n",
       "      <th>type</th>\n",
       "      <th>start</th>\n",
       "      <th>end</th>\n",
       "      <th>score</th>\n",
       "      <th>strand</th>\n",
       "      <th>phase</th>\n",
       "      <th>attributes</th>\n",
       "    </tr>\n",
       "  </thead>\n",
       "  <tbody>\n",
       "    <tr>\n",
       "      <th>40</th>\n",
       "      <td>chr1H</td>\n",
       "      <td>PGSB</td>\n",
       "      <td>gene</td>\n",
       "      <td>284284</td>\n",
       "      <td>284626</td>\n",
       "      <td>.</td>\n",
       "      <td>+</td>\n",
       "      <td>.</td>\n",
       "      <td>ID=HORVU.HOR_10350.r1.1HG0000040</td>\n",
       "    </tr>\n",
       "    <tr>\n",
       "      <th>41</th>\n",
       "      <td>chr1H</td>\n",
       "      <td>PGSB</td>\n",
       "      <td>mRNA</td>\n",
       "      <td>284284</td>\n",
       "      <td>284626</td>\n",
       "      <td>.</td>\n",
       "      <td>+</td>\n",
       "      <td>.</td>\n",
       "      <td>ID=HORVU.HOR_10350.r1.1HG0000040.1</td>\n",
       "    </tr>\n",
       "    <tr>\n",
       "      <th>42</th>\n",
       "      <td>chr1H</td>\n",
       "      <td>PGSB</td>\n",
       "      <td>exon</td>\n",
       "      <td>284284</td>\n",
       "      <td>284344</td>\n",
       "      <td>.</td>\n",
       "      <td>+</td>\n",
       "      <td>.</td>\n",
       "      <td>ID=HORVU.HOR_10350.r1.1HG0000040.1.exon.1</td>\n",
       "    </tr>\n",
       "    <tr>\n",
       "      <th>43</th>\n",
       "      <td>chr1H</td>\n",
       "      <td>PGSB</td>\n",
       "      <td>exon</td>\n",
       "      <td>284448</td>\n",
       "      <td>284626</td>\n",
       "      <td>.</td>\n",
       "      <td>+</td>\n",
       "      <td>.</td>\n",
       "      <td>ID=HORVU.HOR_10350.r1.1HG0000040.1.exon.2</td>\n",
       "    </tr>\n",
       "    <tr>\n",
       "      <th>44</th>\n",
       "      <td>chr1H</td>\n",
       "      <td>PGSB</td>\n",
       "      <td>CDS</td>\n",
       "      <td>284284</td>\n",
       "      <td>284344</td>\n",
       "      <td>.</td>\n",
       "      <td>+</td>\n",
       "      <td>0</td>\n",
       "      <td>ID=HORVU.HOR_10350.r1.1HG0000040.1.CDS.1</td>\n",
       "    </tr>\n",
       "  </tbody>\n",
       "</table>\n",
       "</div>"
      ],
      "text/plain": [
       "      chr source  type   start     end score strand phase  \\\n",
       "40  chr1H   PGSB  gene  284284  284626     .      +     .   \n",
       "41  chr1H   PGSB  mRNA  284284  284626     .      +     .   \n",
       "42  chr1H   PGSB  exon  284284  284344     .      +     .   \n",
       "43  chr1H   PGSB  exon  284448  284626     .      +     .   \n",
       "44  chr1H   PGSB   CDS  284284  284344     .      +     0   \n",
       "\n",
       "                                   attributes  \n",
       "40           ID=HORVU.HOR_10350.r1.1HG0000040  \n",
       "41         ID=HORVU.HOR_10350.r1.1HG0000040.1  \n",
       "42  ID=HORVU.HOR_10350.r1.1HG0000040.1.exon.1  \n",
       "43  ID=HORVU.HOR_10350.r1.1HG0000040.1.exon.2  \n",
       "44   ID=HORVU.HOR_10350.r1.1HG0000040.1.CDS.1  "
      ]
     },
     "execution_count": 15,
     "metadata": {},
     "output_type": "execute_result"
    }
   ],
   "source": [
    "### --- Keeping in a separated dataframe the forward strands\n",
    "forw_HOR10350 = df_HOR10350.loc[df_HOR10350['strand'].isin(['+'])]\n",
    "forw_HOR10350.head()"
   ]
  },
  {
   "cell_type": "code",
   "execution_count": 24,
   "metadata": {},
   "outputs": [
    {
     "data": {
      "text/html": [
       "<div>\n",
       "<style scoped>\n",
       "    .dataframe tbody tr th:only-of-type {\n",
       "        vertical-align: middle;\n",
       "    }\n",
       "\n",
       "    .dataframe tbody tr th {\n",
       "        vertical-align: top;\n",
       "    }\n",
       "\n",
       "    .dataframe thead th {\n",
       "        text-align: right;\n",
       "    }\n",
       "</style>\n",
       "<table border=\"1\" class=\"dataframe\">\n",
       "  <thead>\n",
       "    <tr style=\"text-align: right;\">\n",
       "      <th></th>\n",
       "      <th>chr</th>\n",
       "      <th>source</th>\n",
       "      <th>type</th>\n",
       "      <th>start</th>\n",
       "      <th>end</th>\n",
       "      <th>score</th>\n",
       "      <th>strand</th>\n",
       "      <th>phase</th>\n",
       "      <th>attributes</th>\n",
       "    </tr>\n",
       "  </thead>\n",
       "  <tbody>\n",
       "    <tr>\n",
       "      <th>0</th>\n",
       "      <td>chr1H</td>\n",
       "      <td>PGSB</td>\n",
       "      <td>gene</td>\n",
       "      <td>238613</td>\n",
       "      <td>241489</td>\n",
       "      <td>.</td>\n",
       "      <td>-</td>\n",
       "      <td>.</td>\n",
       "      <td>ID=HORVU.HOR_10350.r1.1HG0000010</td>\n",
       "    </tr>\n",
       "    <tr>\n",
       "      <th>1</th>\n",
       "      <td>chr1H</td>\n",
       "      <td>PGSB</td>\n",
       "      <td>mRNA</td>\n",
       "      <td>238613</td>\n",
       "      <td>241489</td>\n",
       "      <td>.</td>\n",
       "      <td>-</td>\n",
       "      <td>.</td>\n",
       "      <td>ID=HORVU.HOR_10350.r1.1HG0000010.1</td>\n",
       "    </tr>\n",
       "    <tr>\n",
       "      <th>2</th>\n",
       "      <td>chr1H</td>\n",
       "      <td>PGSB</td>\n",
       "      <td>exon</td>\n",
       "      <td>238613</td>\n",
       "      <td>238663</td>\n",
       "      <td>.</td>\n",
       "      <td>-</td>\n",
       "      <td>.</td>\n",
       "      <td>ID=HORVU.HOR_10350.r1.1HG0000010.1.exon.1</td>\n",
       "    </tr>\n",
       "    <tr>\n",
       "      <th>3</th>\n",
       "      <td>chr1H</td>\n",
       "      <td>PGSB</td>\n",
       "      <td>exon</td>\n",
       "      <td>238753</td>\n",
       "      <td>239079</td>\n",
       "      <td>.</td>\n",
       "      <td>-</td>\n",
       "      <td>.</td>\n",
       "      <td>ID=HORVU.HOR_10350.r1.1HG0000010.1.exon.2</td>\n",
       "    </tr>\n",
       "    <tr>\n",
       "      <th>4</th>\n",
       "      <td>chr1H</td>\n",
       "      <td>PGSB</td>\n",
       "      <td>exon</td>\n",
       "      <td>239393</td>\n",
       "      <td>239689</td>\n",
       "      <td>.</td>\n",
       "      <td>-</td>\n",
       "      <td>.</td>\n",
       "      <td>ID=HORVU.HOR_10350.r1.1HG0000010.1.exon.3</td>\n",
       "    </tr>\n",
       "  </tbody>\n",
       "</table>\n",
       "</div>"
      ],
      "text/plain": [
       "     chr source  type   start     end score strand phase  \\\n",
       "0  chr1H   PGSB  gene  238613  241489     .      -     .   \n",
       "1  chr1H   PGSB  mRNA  238613  241489     .      -     .   \n",
       "2  chr1H   PGSB  exon  238613  238663     .      -     .   \n",
       "3  chr1H   PGSB  exon  238753  239079     .      -     .   \n",
       "4  chr1H   PGSB  exon  239393  239689     .      -     .   \n",
       "\n",
       "                                  attributes  \n",
       "0           ID=HORVU.HOR_10350.r1.1HG0000010  \n",
       "1         ID=HORVU.HOR_10350.r1.1HG0000010.1  \n",
       "2  ID=HORVU.HOR_10350.r1.1HG0000010.1.exon.1  \n",
       "3  ID=HORVU.HOR_10350.r1.1HG0000010.1.exon.2  \n",
       "4  ID=HORVU.HOR_10350.r1.1HG0000010.1.exon.3  "
      ]
     },
     "execution_count": 24,
     "metadata": {},
     "output_type": "execute_result"
    }
   ],
   "source": [
    "### --- Keeping in a separated dataframe the reverse strands\n",
    "rev_HOR10350 = df_HOR10350.loc[df_HOR10350['strand'].isin(['-'])]\n",
    "rev_HOR10350.head()"
   ]
  },
  {
   "cell_type": "code",
   "execution_count": 17,
   "metadata": {},
   "outputs": [
    {
     "data": {
      "text/html": [
       "<div>\n",
       "<style scoped>\n",
       "    .dataframe tbody tr th:only-of-type {\n",
       "        vertical-align: middle;\n",
       "    }\n",
       "\n",
       "    .dataframe tbody tr th {\n",
       "        vertical-align: top;\n",
       "    }\n",
       "\n",
       "    .dataframe thead th {\n",
       "        text-align: right;\n",
       "    }\n",
       "</style>\n",
       "<table border=\"1\" class=\"dataframe\">\n",
       "  <thead>\n",
       "    <tr style=\"text-align: right;\">\n",
       "      <th></th>\n",
       "      <th>chr</th>\n",
       "      <th>source</th>\n",
       "      <th>type</th>\n",
       "      <th>start</th>\n",
       "      <th>end</th>\n",
       "      <th>score</th>\n",
       "      <th>strand</th>\n",
       "      <th>phase</th>\n",
       "      <th>attributes</th>\n",
       "    </tr>\n",
       "  </thead>\n",
       "  <tbody>\n",
       "  </tbody>\n",
       "</table>\n",
       "</div>"
      ],
      "text/plain": [
       "Empty DataFrame\n",
       "Columns: [chr, source, type, start, end, score, strand, phase, attributes]\n",
       "Index: []"
      ]
     },
     "execution_count": 17,
     "metadata": {},
     "output_type": "execute_result"
    }
   ],
   "source": [
    "### --- Keeping in a separated dataframe the UTR regions on the forward strands\n",
    "UTR_forw_HOR10350 = forw_HOR10350.loc[df_HOR10350['type'].isin(['three_prime_UTR','five_prime_UTR'])]\n",
    "UTR_forw_HOR10350.head()"
   ]
  },
  {
   "cell_type": "code",
   "execution_count": 18,
   "metadata": {
    "scrolled": true
   },
   "outputs": [
    {
     "data": {
      "text/html": [
       "<div>\n",
       "<style scoped>\n",
       "    .dataframe tbody tr th:only-of-type {\n",
       "        vertical-align: middle;\n",
       "    }\n",
       "\n",
       "    .dataframe tbody tr th {\n",
       "        vertical-align: top;\n",
       "    }\n",
       "\n",
       "    .dataframe thead th {\n",
       "        text-align: right;\n",
       "    }\n",
       "</style>\n",
       "<table border=\"1\" class=\"dataframe\">\n",
       "  <thead>\n",
       "    <tr style=\"text-align: right;\">\n",
       "      <th></th>\n",
       "      <th>chr</th>\n",
       "      <th>source</th>\n",
       "      <th>type</th>\n",
       "      <th>start</th>\n",
       "      <th>end</th>\n",
       "      <th>score</th>\n",
       "      <th>strand</th>\n",
       "      <th>phase</th>\n",
       "      <th>attributes</th>\n",
       "    </tr>\n",
       "  </thead>\n",
       "  <tbody>\n",
       "  </tbody>\n",
       "</table>\n",
       "</div>"
      ],
      "text/plain": [
       "Empty DataFrame\n",
       "Columns: [chr, source, type, start, end, score, strand, phase, attributes]\n",
       "Index: []"
      ]
     },
     "execution_count": 18,
     "metadata": {},
     "output_type": "execute_result"
    }
   ],
   "source": [
    "### --- Keeping in a separated dataframe the UTR regions on the reverse strands\n",
    "UTR_rev_HOR10350 = rev_HOR10350.loc[df_HOR10350['type'].isin(['three_prime_UTR','five_prime_UTR'])]\n",
    "UTR_rev_HOR10350.head()"
   ]
  },
  {
   "cell_type": "markdown",
   "metadata": {},
   "source": [
    "As before there are no UTRs due to a poor annotation. "
   ]
  },
  {
   "cell_type": "markdown",
   "metadata": {},
   "source": [
    "### 3.2.3 Extracting introns from the whole genome"
   ]
  },
  {
   "cell_type": "code",
   "execution_count": 19,
   "metadata": {},
   "outputs": [],
   "source": [
    "### --- Extracting introns from HOR10350\n",
    "extract_tot_introns('Data/HOR10350_exon.tsv', 'Output/HOR10350_introns.tsv')"
   ]
  },
  {
   "cell_type": "code",
   "execution_count": 30,
   "metadata": {},
   "outputs": [
    {
     "data": {
      "text/html": [
       "<div>\n",
       "<style scoped>\n",
       "    .dataframe tbody tr th:only-of-type {\n",
       "        vertical-align: middle;\n",
       "    }\n",
       "\n",
       "    .dataframe tbody tr th {\n",
       "        vertical-align: top;\n",
       "    }\n",
       "\n",
       "    .dataframe thead th {\n",
       "        text-align: right;\n",
       "    }\n",
       "</style>\n",
       "<table border=\"1\" class=\"dataframe\">\n",
       "  <thead>\n",
       "    <tr style=\"text-align: right;\">\n",
       "      <th></th>\n",
       "      <th>ID</th>\n",
       "      <th>type</th>\n",
       "      <th>start</th>\n",
       "      <th>end</th>\n",
       "      <th>length</th>\n",
       "    </tr>\n",
       "  </thead>\n",
       "  <tbody>\n",
       "    <tr>\n",
       "      <th>0</th>\n",
       "      <td>ID=HORVU.HOR_10350.r1.1HG0000010.1</td>\n",
       "      <td>intron</td>\n",
       "      <td>238664</td>\n",
       "      <td>238752</td>\n",
       "      <td>90</td>\n",
       "    </tr>\n",
       "    <tr>\n",
       "      <th>1</th>\n",
       "      <td>ID=HORVU.HOR_10350.r1.1HG0000010.1</td>\n",
       "      <td>intron</td>\n",
       "      <td>239080</td>\n",
       "      <td>239392</td>\n",
       "      <td>314</td>\n",
       "    </tr>\n",
       "    <tr>\n",
       "      <th>2</th>\n",
       "      <td>ID=HORVU.HOR_10350.r1.1HG0000010.1</td>\n",
       "      <td>intron</td>\n",
       "      <td>239690</td>\n",
       "      <td>239940</td>\n",
       "      <td>252</td>\n",
       "    </tr>\n",
       "    <tr>\n",
       "      <th>3</th>\n",
       "      <td>ID=HORVU.HOR_10350.r1.1HG0000010.1</td>\n",
       "      <td>intron</td>\n",
       "      <td>240022</td>\n",
       "      <td>241351</td>\n",
       "      <td>1331</td>\n",
       "    </tr>\n",
       "    <tr>\n",
       "      <th>4</th>\n",
       "      <td>ID=HORVU.HOR_10350.r1.1HG0000020.1</td>\n",
       "      <td>intron</td>\n",
       "      <td>255340</td>\n",
       "      <td>255447</td>\n",
       "      <td>109</td>\n",
       "    </tr>\n",
       "    <tr>\n",
       "      <th>...</th>\n",
       "      <td>...</td>\n",
       "      <td>...</td>\n",
       "      <td>...</td>\n",
       "      <td>...</td>\n",
       "      <td>...</td>\n",
       "    </tr>\n",
       "    <tr>\n",
       "      <th>95</th>\n",
       "      <td>ID=HORVU.HOR_10350.r1.1HG0000280.1</td>\n",
       "      <td>intron</td>\n",
       "      <td>1303603</td>\n",
       "      <td>1303835</td>\n",
       "      <td>234</td>\n",
       "    </tr>\n",
       "    <tr>\n",
       "      <th>96</th>\n",
       "      <td>ID=HORVU.HOR_10350.r1.1HG0000280.1</td>\n",
       "      <td>intron</td>\n",
       "      <td>1303970</td>\n",
       "      <td>1304106</td>\n",
       "      <td>138</td>\n",
       "    </tr>\n",
       "    <tr>\n",
       "      <th>97</th>\n",
       "      <td>ID=HORVU.HOR_10350.r1.1HG0000280.1</td>\n",
       "      <td>intron</td>\n",
       "      <td>1304183</td>\n",
       "      <td>1304283</td>\n",
       "      <td>102</td>\n",
       "    </tr>\n",
       "    <tr>\n",
       "      <th>98</th>\n",
       "      <td>ID=HORVU.HOR_10350.r1.1HG0000280.1</td>\n",
       "      <td>intron</td>\n",
       "      <td>1304314</td>\n",
       "      <td>1304400</td>\n",
       "      <td>88</td>\n",
       "    </tr>\n",
       "    <tr>\n",
       "      <th>99</th>\n",
       "      <td>ID=HORVU.HOR_10350.r1.1HG0000280.1</td>\n",
       "      <td>intron</td>\n",
       "      <td>1304667</td>\n",
       "      <td>1304767</td>\n",
       "      <td>102</td>\n",
       "    </tr>\n",
       "  </tbody>\n",
       "</table>\n",
       "<p>100 rows × 5 columns</p>\n",
       "</div>"
      ],
      "text/plain": [
       "                                    ID     type    start      end  length\n",
       "0   ID=HORVU.HOR_10350.r1.1HG0000010.1  intron    238664   238752      90\n",
       "1   ID=HORVU.HOR_10350.r1.1HG0000010.1  intron    239080   239392     314\n",
       "2   ID=HORVU.HOR_10350.r1.1HG0000010.1  intron    239690   239940     252\n",
       "3   ID=HORVU.HOR_10350.r1.1HG0000010.1  intron    240022   241351    1331\n",
       "4   ID=HORVU.HOR_10350.r1.1HG0000020.1  intron    255340   255447     109\n",
       "..                                 ...      ...      ...      ...     ...\n",
       "95  ID=HORVU.HOR_10350.r1.1HG0000280.1  intron   1303603  1303835     234\n",
       "96  ID=HORVU.HOR_10350.r1.1HG0000280.1  intron   1303970  1304106     138\n",
       "97  ID=HORVU.HOR_10350.r1.1HG0000280.1  intron   1304183  1304283     102\n",
       "98  ID=HORVU.HOR_10350.r1.1HG0000280.1  intron   1304314  1304400      88\n",
       "99  ID=HORVU.HOR_10350.r1.1HG0000280.1  intron   1304667  1304767     102\n",
       "\n",
       "[100 rows x 5 columns]"
      ]
     },
     "execution_count": 30,
     "metadata": {},
     "output_type": "execute_result"
    }
   ],
   "source": [
    "introns_HOR10350 = pd.read_csv('Output/HOR10350_introns.tsv', sep = '\\t')\n",
    "introns_HOR10350[:100]"
   ]
  },
  {
   "cell_type": "code",
   "execution_count": 85,
   "metadata": {},
   "outputs": [],
   "source": [
    "### --- Counting introns type in HOR10350\n",
    "introns_dictionary_HOR10350 = counting_introns_type(exon_HOR10350)"
   ]
  },
  {
   "cell_type": "code",
   "execution_count": 86,
   "metadata": {
    "scrolled": false
   },
   "outputs": [
    {
     "name": "stdout",
     "output_type": "stream",
     "text": [
      "Intronless are: 24866\n",
      "Intronpoor are: 14709\n",
      "Intronrich are: 11126\n"
     ]
    }
   ],
   "source": [
    "n_intronless_HOR10350, n_intronpoor_HOR10350, n_intronrich_HOR10350, intronless_HOR10350, intronpoor_HOR10350, intronrich_HOR10350 = splitting_introns_type(introns_dictionary_HOR10350)"
   ]
  },
  {
   "cell_type": "code",
   "execution_count": 87,
   "metadata": {},
   "outputs": [
    {
     "data": {
      "image/png": "[encoded data removed]",
      "text/plain": [
       "<Figure size 720x504 with 1 Axes>"
      ]
     },
     "metadata": {},
     "output_type": "display_data"
    }
   ],
   "source": [
    "genes = ['Intronless', 'Intronpoor', 'Intronrich']\n",
    "data_HOR10350 = [24866, 14709, 11126]\n",
    "fig = plt.figure(figsize =(10, 7))\n",
    "plt.pie(data_HOR10350, labels = genes, autopct='%1.0f%%')\n",
    "plt.title(\"Genes HOR10350 Distribution\", bbox={'facecolor':'0.8', 'pad':5})\n",
    "plt.show()"
   ]
  },
  {
   "cell_type": "code",
   "execution_count": 39,
   "metadata": {},
   "outputs": [],
   "source": [
    "### --- Creating the list of HOR10350 gene IDs to check the number of transcripts using command line\n",
    "intronless_file_HOR10350 = open('Output/HOR10350_intronlessIDs.txt', 'a')\n",
    "intronpoor_file_HOR10350 = open('Output/HOR10350_intronpoorIDs.txt', 'a')\n",
    "intronrich_file_HOR10350 = open('Output/HOR10350_intronrichIDs.txt', 'a')\n",
    "for i in range(len(intronless_HOR10350)):\n",
    "    if i == len(intronless_HOR10350) -1:\n",
    "        intronless_file_HOR10350.write(intronless_HOR10350[i])\n",
    "    else:\n",
    "        intronless_file_HOR10350.write(intronless_HOR10350[i] + '\\n')\n",
    "intronless_file_HOR10350.close()\n",
    "\n",
    "for i in range(len(intronpoor_HOR10350)):\n",
    "    if i == len(intronpoor_HOR10350) -1:\n",
    "        intronpoor_file_HOR10350.write(intronpoor_HOR10350[i])\n",
    "    else:\n",
    "        intronpoor_file_HOR10350.write(intronpoor_HOR10350[i] + '\\n')\n",
    "intronpoor_file_HOR10350.close()\n",
    "\n",
    "for i in range(len(intronrich_HOR10350)):\n",
    "    if i == len(intronrich_HOR10350) -1:\n",
    "        intronrich_file_HOR10350.write(intronrich_HOR10350[i])\n",
    "    else:\n",
    "        intronrich_file_HOR10350.write(intronrich_HOR10350[i]+'\\n')\n",
    "intronrich_file_HOR10350.close()"
   ]
  },
  {
   "cell_type": "code",
   "execution_count": 40,
   "metadata": {},
   "outputs": [],
   "source": [
    "### --- Storing the number of transcripts in intron-less/poor/rich genes within a variable \n",
    "n_mRNA_intronless_HOR10350 = ! grep -f Output/HOR10350_intronlessIDs.txt Data/HOR10350_nohashtag.gff3 | awk -F '\\t' '{print $3}' | grep -w 'mRNA' | wc -l\n",
    "n_mRNA_intronpoor_HOR10350 = ! grep -f Output/HOR10350_intronpoorIDs.txt Data/HOR10350_nohashtag.gff3 | awk -F '\\t' '{print $3}' | grep -w 'mRNA' | wc -l\n",
    "n_mRNA_intronrich_HOR10350 = ! grep -f Output/HOR10350_intronrichIDs.txt Data/HOR10350_nohashtag.gff3 | awk -F '\\t' '{print $3}' | grep -w 'mRNA' | wc -l"
   ]
  },
  {
   "cell_type": "code",
   "execution_count": 41,
   "metadata": {
    "scrolled": true
   },
   "outputs": [
    {
     "name": "stdout",
     "output_type": "stream",
     "text": [
      "1.0\n",
      "1.0\n",
      "1.0\n"
     ]
    }
   ],
   "source": [
    "### --- Checking the average number of transcripts for each gene-type\n",
    "avg_mRNA_intronless_HOR10350 = int(n_mRNA_intronless_HOR10350[0])/n_intronless_HOR10350\n",
    "print(avg_mRNA_intronless_HOR10350)\n",
    "avg_mRNA_intronpoor_HOR10350 = int(n_mRNA_intronpoor_HOR10350[0])/n_intronpoor_HOR10350\n",
    "print(avg_mRNA_intronpoor_HOR10350)\n",
    "avg_mRNA_intronrich_HOR10350 = int(n_mRNA_intronrich_HOR10350[0])/n_intronrich_HOR10350\n",
    "print(avg_mRNA_intronrich_HOR10350)"
   ]
  },
  {
   "cell_type": "markdown",
   "metadata": {},
   "source": [
    "Once again no more than 1 transcript/gene annotated."
   ]
  },
  {
   "cell_type": "code",
   "execution_count": 42,
   "metadata": {},
   "outputs": [
    {
     "data": {
      "text/plain": [
       "count    118892.000000\n",
       "mean        529.112581\n",
       "std        1639.703205\n",
       "min          22.000000\n",
       "25%          94.000000\n",
       "50%         132.000000\n",
       "75%         436.000000\n",
       "max      128956.000000\n",
       "Name: length, dtype: float64"
      ]
     },
     "execution_count": 42,
     "metadata": {},
     "output_type": "execute_result"
    }
   ],
   "source": [
    "### --- Basic statistics of HOR10350 introns\n",
    "introns_HOR10350['length'].describe()"
   ]
  },
  {
   "cell_type": "code",
   "execution_count": 43,
   "metadata": {},
   "outputs": [
    {
     "data": {
      "text/plain": [
       "<AxesSubplot:ylabel='Density'>"
      ]
     },
     "execution_count": 43,
     "metadata": {},
     "output_type": "execute_result"
    },
    {
     "data": {
      "image/png": "[encoded data removed]",
      "text/plain": [
       "<Figure size 432x288 with 1 Axes>"
      ]
     },
     "metadata": {
      "needs_background": "light"
     },
     "output_type": "display_data"
    }
   ],
   "source": [
    "### --- Plotting the distribution of HOR10350 introns length\n",
    "introns_HOR10350['length'].plot.density()"
   ]
  },
  {
   "cell_type": "code",
   "execution_count": 44,
   "metadata": {},
   "outputs": [
    {
     "data": {
      "text/plain": [
       "<AxesSubplot:>"
      ]
     },
     "execution_count": 44,
     "metadata": {},
     "output_type": "execute_result"
    },
    {
     "data": {
      "image/png": "[encoded data removed]",
      "text/plain": [
       "<Figure size 432x288 with 1 Axes>"
      ]
     },
     "metadata": {
      "needs_background": "light"
     },
     "output_type": "display_data"
    }
   ],
   "source": [
    "### --- Plotting the boxplot of HOR10350 introns length without outliers\n",
    "introns_HOR10350.boxplot(column='length', return_type='axes', showfliers=False) # showfliers = False -> discard outliers"
   ]
  },
  {
   "cell_type": "markdown",
   "metadata": {},
   "source": [
    "### 3.2.4 Re-organizing files and directories"
   ]
  },
  {
   "cell_type": "code",
   "execution_count": 45,
   "metadata": {
    "scrolled": true
   },
   "outputs": [
    {
     "name": "stdout",
     "output_type": "stream",
     "text": [
      "Barke\t\t   HOR10350_nohashtag.csv   Hv_Morex_longread\r\n",
      "HOR10350_exon.tsv  HOR10350_nohashtag.gff3  raw\r\n"
     ]
    }
   ],
   "source": [
    "! ls Data/"
   ]
  },
  {
   "cell_type": "code",
   "execution_count": 46,
   "metadata": {},
   "outputs": [],
   "source": [
    "! mkdir Data/HOR10350"
   ]
  },
  {
   "cell_type": "code",
   "execution_count": 47,
   "metadata": {},
   "outputs": [],
   "source": [
    "! mv Data/HOR10350_* Data/HOR10350/"
   ]
  },
  {
   "cell_type": "code",
   "execution_count": 48,
   "metadata": {
    "scrolled": true
   },
   "outputs": [
    {
     "name": "stdout",
     "output_type": "stream",
     "text": [
      "Barke  HOR10350  Hv_Morex_longread  raw\r\n"
     ]
    }
   ],
   "source": [
    "! ls Data/"
   ]
  },
  {
   "cell_type": "code",
   "execution_count": 49,
   "metadata": {},
   "outputs": [
    {
     "name": "stdout",
     "output_type": "stream",
     "text": [
      "Barke\t\t\t    HOR10350_intronpoorIDs.txt\tHOR10350_introns.tsv\r\n",
      "HOR10350_intronlessIDs.txt  HOR10350_intronrichIDs.txt\tHv_Morex_longread\r\n"
     ]
    }
   ],
   "source": [
    "! ls Output/"
   ]
  },
  {
   "cell_type": "code",
   "execution_count": 52,
   "metadata": {},
   "outputs": [],
   "source": [
    "! mkdir Output/HOR10350"
   ]
  },
  {
   "cell_type": "code",
   "execution_count": 53,
   "metadata": {},
   "outputs": [],
   "source": [
    "! mv Output/HOR10350_* Output/HOR10350/"
   ]
  },
  {
   "cell_type": "code",
   "execution_count": 54,
   "metadata": {
    "scrolled": true
   },
   "outputs": [
    {
     "name": "stdout",
     "output_type": "stream",
     "text": [
      "Barke  HOR10350  Hv_Morex_longread\r\n"
     ]
    }
   ],
   "source": [
    "! ls Output/"
   ]
  },
  {
   "cell_type": "markdown",
   "metadata": {},
   "source": [
    "## 3.3 Morex - De novo gene annotation"
   ]
  },
  {
   "cell_type": "markdown",
   "metadata": {},
   "source": [
    "### 3.3.1 Data collection"
   ]
  },
  {
   "cell_type": "code",
   "execution_count": 55,
   "metadata": {},
   "outputs": [
    {
     "name": "stdout",
     "output_type": "stream",
     "text": [
      "--2021-06-04 15:37:55--  https://doi.ipk-gatersleben.de/DOI/c4d433dc-bf7c-4ad9-9368-69bb77837ca5/f937d01e-f9cf-415a-961b-c490db136f92/1/DOWNLOAD\n",
      "Resolving doi.ipk-gatersleben.de (doi.ipk-gatersleben.de)... 194.94.136.144\n",
      "Connecting to doi.ipk-gatersleben.de (doi.ipk-gatersleben.de)|194.94.136.144|:443... connected.\n",
      "HTTP request sent, awaiting response... 200 OK\n",
      "Length: 70049779 (67M) [text/plain]\n",
      "Saving to: ‘Data/raw/Morex.gff3’\n",
      "\n",
      "Data/raw/Morex.gff3 100%[===================>]  66,80M  1,20MB/s    in 89s     \n",
      "\n",
      "2021-06-04 15:39:25 (767 KB/s) - ‘Data/raw/Morex.gff3’ saved [70049779/70049779]\n",
      "\n"
     ]
    }
   ],
   "source": [
    "### --- This will download the raw data to the subdirectory raw under the directory Data\n",
    "! wget -O Data/raw/Morex.gff3 https://doi.ipk-gatersleben.de/DOI/c4d433dc-bf7c-4ad9-9368-69bb77837ca5/f937d01e-f9cf-415a-961b-c490db136f92/1/DOWNLOAD"
   ]
  },
  {
   "cell_type": "markdown",
   "metadata": {},
   "source": [
    "### 3.3.2 Processing Data"
   ]
  },
  {
   "cell_type": "code",
   "execution_count": 56,
   "metadata": {},
   "outputs": [],
   "source": [
    "### --- There is no need to import the libraries again\n",
    "# import pandas as pd\n",
    "# import numpy as np\n",
    "# import matplotlib.pyplot as plt"
   ]
  },
  {
   "cell_type": "code",
   "execution_count": 57,
   "metadata": {},
   "outputs": [],
   "source": [
    "### --- Removing all hashtags from the gff3 file\n",
    "! sed '/#/d' Data/raw/Morex.gff3  > Data/Morex_nohashtag.gff3"
   ]
  },
  {
   "cell_type": "code",
   "execution_count": 58,
   "metadata": {},
   "outputs": [],
   "source": [
    "### --- Changing the gff3 file to a csv format file to import it with pandas\n",
    "! cat Data/Morex_nohashtag.gff3 | sed 's/,/--/g' | sed 's/;/--/g' | sed 's/\\t/,/g' | awk -F '--' '{print $1}' > Data/Morex_nohashtag.csv"
   ]
  },
  {
   "cell_type": "code",
   "execution_count": 59,
   "metadata": {},
   "outputs": [
    {
     "data": {
      "text/html": [
       "<div>\n",
       "<style scoped>\n",
       "    .dataframe tbody tr th:only-of-type {\n",
       "        vertical-align: middle;\n",
       "    }\n",
       "\n",
       "    .dataframe tbody tr th {\n",
       "        vertical-align: top;\n",
       "    }\n",
       "\n",
       "    .dataframe thead th {\n",
       "        text-align: right;\n",
       "    }\n",
       "</style>\n",
       "<table border=\"1\" class=\"dataframe\">\n",
       "  <thead>\n",
       "    <tr style=\"text-align: right;\">\n",
       "      <th></th>\n",
       "      <th>chr</th>\n",
       "      <th>source</th>\n",
       "      <th>type</th>\n",
       "      <th>start</th>\n",
       "      <th>end</th>\n",
       "      <th>score</th>\n",
       "      <th>strand</th>\n",
       "      <th>phase</th>\n",
       "      <th>attributes</th>\n",
       "    </tr>\n",
       "  </thead>\n",
       "  <tbody>\n",
       "    <tr>\n",
       "      <th>0</th>\n",
       "      <td>chr1H</td>\n",
       "      <td>PGSB</td>\n",
       "      <td>gene</td>\n",
       "      <td>129733</td>\n",
       "      <td>130419</td>\n",
       "      <td>.</td>\n",
       "      <td>+</td>\n",
       "      <td>.</td>\n",
       "      <td>ID=HORVU.MOREX.r2.1HG0000010</td>\n",
       "    </tr>\n",
       "    <tr>\n",
       "      <th>1</th>\n",
       "      <td>chr1H</td>\n",
       "      <td>PGSB</td>\n",
       "      <td>mRNA</td>\n",
       "      <td>129733</td>\n",
       "      <td>130419</td>\n",
       "      <td>.</td>\n",
       "      <td>+</td>\n",
       "      <td>.</td>\n",
       "      <td>ID=HORVU.MOREX.r2.1HG0000010.1</td>\n",
       "    </tr>\n",
       "    <tr>\n",
       "      <th>2</th>\n",
       "      <td>chr1H</td>\n",
       "      <td>PGSB</td>\n",
       "      <td>exon</td>\n",
       "      <td>129733</td>\n",
       "      <td>129835</td>\n",
       "      <td>.</td>\n",
       "      <td>+</td>\n",
       "      <td>.</td>\n",
       "      <td>ID=HORVU.MOREX.r2.1HG0000010.1.exon.1</td>\n",
       "    </tr>\n",
       "    <tr>\n",
       "      <th>3</th>\n",
       "      <td>chr1H</td>\n",
       "      <td>PGSB</td>\n",
       "      <td>CDS</td>\n",
       "      <td>129733</td>\n",
       "      <td>129835</td>\n",
       "      <td>.</td>\n",
       "      <td>+</td>\n",
       "      <td>0</td>\n",
       "      <td>ID=HORVU.MOREX.r2.1HG0000010.1.CDS.1</td>\n",
       "    </tr>\n",
       "    <tr>\n",
       "      <th>4</th>\n",
       "      <td>chr1H</td>\n",
       "      <td>PGSB</td>\n",
       "      <td>exon</td>\n",
       "      <td>130121</td>\n",
       "      <td>130419</td>\n",
       "      <td>.</td>\n",
       "      <td>+</td>\n",
       "      <td>.</td>\n",
       "      <td>ID=HORVU.MOREX.r2.1HG0000010.1.exon.2</td>\n",
       "    </tr>\n",
       "  </tbody>\n",
       "</table>\n",
       "</div>"
      ],
      "text/plain": [
       "     chr source  type   start     end score strand phase  \\\n",
       "0  chr1H   PGSB  gene  129733  130419     .      +     .   \n",
       "1  chr1H   PGSB  mRNA  129733  130419     .      +     .   \n",
       "2  chr1H   PGSB  exon  129733  129835     .      +     .   \n",
       "3  chr1H   PGSB   CDS  129733  129835     .      +     0   \n",
       "4  chr1H   PGSB  exon  130121  130419     .      +     .   \n",
       "\n",
       "                              attributes  \n",
       "0           ID=HORVU.MOREX.r2.1HG0000010  \n",
       "1         ID=HORVU.MOREX.r2.1HG0000010.1  \n",
       "2  ID=HORVU.MOREX.r2.1HG0000010.1.exon.1  \n",
       "3   ID=HORVU.MOREX.r2.1HG0000010.1.CDS.1  \n",
       "4  ID=HORVU.MOREX.r2.1HG0000010.1.exon.2  "
      ]
     },
     "execution_count": 59,
     "metadata": {},
     "output_type": "execute_result"
    }
   ],
   "source": [
    "### --- Transforming the gff3 file to a pandas dataframe to better handle it\n",
    "df_Morex = pd.read_csv('Data/Morex_nohashtag.csv', header=None, names = ['chr', 'source', 'type','start','end','score','strand','phase','attributes'])\n",
    "df_Morex.head()"
   ]
  },
  {
   "cell_type": "code",
   "execution_count": 60,
   "metadata": {},
   "outputs": [
    {
     "data": {
      "text/html": [
       "<div>\n",
       "<style scoped>\n",
       "    .dataframe tbody tr th:only-of-type {\n",
       "        vertical-align: middle;\n",
       "    }\n",
       "\n",
       "    .dataframe tbody tr th {\n",
       "        vertical-align: top;\n",
       "    }\n",
       "\n",
       "    .dataframe thead th {\n",
       "        text-align: right;\n",
       "    }\n",
       "</style>\n",
       "<table border=\"1\" class=\"dataframe\">\n",
       "  <thead>\n",
       "    <tr style=\"text-align: right;\">\n",
       "      <th></th>\n",
       "      <th>chr</th>\n",
       "      <th>source</th>\n",
       "      <th>type</th>\n",
       "      <th>start</th>\n",
       "      <th>end</th>\n",
       "      <th>score</th>\n",
       "      <th>strand</th>\n",
       "      <th>phase</th>\n",
       "      <th>attributes</th>\n",
       "    </tr>\n",
       "  </thead>\n",
       "  <tbody>\n",
       "    <tr>\n",
       "      <th>2</th>\n",
       "      <td>chr1H</td>\n",
       "      <td>PGSB</td>\n",
       "      <td>exon</td>\n",
       "      <td>129733</td>\n",
       "      <td>129835</td>\n",
       "      <td>.</td>\n",
       "      <td>+</td>\n",
       "      <td>.</td>\n",
       "      <td>ID=HORVU.MOREX.r2.1HG0000010.1.exon.1</td>\n",
       "    </tr>\n",
       "    <tr>\n",
       "      <th>4</th>\n",
       "      <td>chr1H</td>\n",
       "      <td>PGSB</td>\n",
       "      <td>exon</td>\n",
       "      <td>130121</td>\n",
       "      <td>130419</td>\n",
       "      <td>.</td>\n",
       "      <td>+</td>\n",
       "      <td>.</td>\n",
       "      <td>ID=HORVU.MOREX.r2.1HG0000010.1.exon.2</td>\n",
       "    </tr>\n",
       "    <tr>\n",
       "      <th>8</th>\n",
       "      <td>chr1H</td>\n",
       "      <td>PGSB</td>\n",
       "      <td>exon</td>\n",
       "      <td>142445</td>\n",
       "      <td>142903</td>\n",
       "      <td>.</td>\n",
       "      <td>+</td>\n",
       "      <td>.</td>\n",
       "      <td>ID=HORVU.MOREX.r2.1HG0000020.1.exon.1</td>\n",
       "    </tr>\n",
       "    <tr>\n",
       "      <th>10</th>\n",
       "      <td>chr1H</td>\n",
       "      <td>PGSB</td>\n",
       "      <td>exon</td>\n",
       "      <td>143335</td>\n",
       "      <td>144686</td>\n",
       "      <td>.</td>\n",
       "      <td>+</td>\n",
       "      <td>.</td>\n",
       "      <td>ID=HORVU.MOREX.r2.1HG0000020.1.exon.2</td>\n",
       "    </tr>\n",
       "    <tr>\n",
       "      <th>12</th>\n",
       "      <td>chr1H</td>\n",
       "      <td>PGSB</td>\n",
       "      <td>exon</td>\n",
       "      <td>144801</td>\n",
       "      <td>144911</td>\n",
       "      <td>.</td>\n",
       "      <td>+</td>\n",
       "      <td>.</td>\n",
       "      <td>ID=HORVU.MOREX.r2.1HG0000020.1.exon.3</td>\n",
       "    </tr>\n",
       "  </tbody>\n",
       "</table>\n",
       "</div>"
      ],
      "text/plain": [
       "      chr source  type   start     end score strand phase  \\\n",
       "2   chr1H   PGSB  exon  129733  129835     .      +     .   \n",
       "4   chr1H   PGSB  exon  130121  130419     .      +     .   \n",
       "8   chr1H   PGSB  exon  142445  142903     .      +     .   \n",
       "10  chr1H   PGSB  exon  143335  144686     .      +     .   \n",
       "12  chr1H   PGSB  exon  144801  144911     .      +     .   \n",
       "\n",
       "                               attributes  \n",
       "2   ID=HORVU.MOREX.r2.1HG0000010.1.exon.1  \n",
       "4   ID=HORVU.MOREX.r2.1HG0000010.1.exon.2  \n",
       "8   ID=HORVU.MOREX.r2.1HG0000020.1.exon.1  \n",
       "10  ID=HORVU.MOREX.r2.1HG0000020.1.exon.2  \n",
       "12  ID=HORVU.MOREX.r2.1HG0000020.1.exon.3  "
      ]
     },
     "execution_count": 60,
     "metadata": {},
     "output_type": "execute_result"
    }
   ],
   "source": [
    "### --- Building a separate dataframe containing all exons\n",
    "exon_Morex = df_Morex.loc[df_Morex['type'].isin(['exon'])]\n",
    "exon_Morex.head()"
   ]
  },
  {
   "cell_type": "code",
   "execution_count": 61,
   "metadata": {},
   "outputs": [],
   "source": [
    "### --- Exporting the exon dataframe to a tsv file \n",
    "exon_Morex.to_csv('Data/Morex_exon.tsv',sep='\\t',index=False,header=False)"
   ]
  },
  {
   "cell_type": "code",
   "execution_count": 62,
   "metadata": {},
   "outputs": [
    {
     "data": {
      "text/html": [
       "<div>\n",
       "<style scoped>\n",
       "    .dataframe tbody tr th:only-of-type {\n",
       "        vertical-align: middle;\n",
       "    }\n",
       "\n",
       "    .dataframe tbody tr th {\n",
       "        vertical-align: top;\n",
       "    }\n",
       "\n",
       "    .dataframe thead th {\n",
       "        text-align: right;\n",
       "    }\n",
       "</style>\n",
       "<table border=\"1\" class=\"dataframe\">\n",
       "  <thead>\n",
       "    <tr style=\"text-align: right;\">\n",
       "      <th></th>\n",
       "      <th>chr</th>\n",
       "      <th>source</th>\n",
       "      <th>type</th>\n",
       "      <th>start</th>\n",
       "      <th>end</th>\n",
       "      <th>score</th>\n",
       "      <th>strand</th>\n",
       "      <th>phase</th>\n",
       "      <th>attributes</th>\n",
       "    </tr>\n",
       "  </thead>\n",
       "  <tbody>\n",
       "    <tr>\n",
       "      <th>0</th>\n",
       "      <td>chr1H</td>\n",
       "      <td>PGSB</td>\n",
       "      <td>gene</td>\n",
       "      <td>129733</td>\n",
       "      <td>130419</td>\n",
       "      <td>.</td>\n",
       "      <td>+</td>\n",
       "      <td>.</td>\n",
       "      <td>ID=HORVU.MOREX.r2.1HG0000010</td>\n",
       "    </tr>\n",
       "    <tr>\n",
       "      <th>1</th>\n",
       "      <td>chr1H</td>\n",
       "      <td>PGSB</td>\n",
       "      <td>mRNA</td>\n",
       "      <td>129733</td>\n",
       "      <td>130419</td>\n",
       "      <td>.</td>\n",
       "      <td>+</td>\n",
       "      <td>.</td>\n",
       "      <td>ID=HORVU.MOREX.r2.1HG0000010.1</td>\n",
       "    </tr>\n",
       "    <tr>\n",
       "      <th>2</th>\n",
       "      <td>chr1H</td>\n",
       "      <td>PGSB</td>\n",
       "      <td>exon</td>\n",
       "      <td>129733</td>\n",
       "      <td>129835</td>\n",
       "      <td>.</td>\n",
       "      <td>+</td>\n",
       "      <td>.</td>\n",
       "      <td>ID=HORVU.MOREX.r2.1HG0000010.1.exon.1</td>\n",
       "    </tr>\n",
       "    <tr>\n",
       "      <th>3</th>\n",
       "      <td>chr1H</td>\n",
       "      <td>PGSB</td>\n",
       "      <td>CDS</td>\n",
       "      <td>129733</td>\n",
       "      <td>129835</td>\n",
       "      <td>.</td>\n",
       "      <td>+</td>\n",
       "      <td>0</td>\n",
       "      <td>ID=HORVU.MOREX.r2.1HG0000010.1.CDS.1</td>\n",
       "    </tr>\n",
       "    <tr>\n",
       "      <th>4</th>\n",
       "      <td>chr1H</td>\n",
       "      <td>PGSB</td>\n",
       "      <td>exon</td>\n",
       "      <td>130121</td>\n",
       "      <td>130419</td>\n",
       "      <td>.</td>\n",
       "      <td>+</td>\n",
       "      <td>.</td>\n",
       "      <td>ID=HORVU.MOREX.r2.1HG0000010.1.exon.2</td>\n",
       "    </tr>\n",
       "  </tbody>\n",
       "</table>\n",
       "</div>"
      ],
      "text/plain": [
       "     chr source  type   start     end score strand phase  \\\n",
       "0  chr1H   PGSB  gene  129733  130419     .      +     .   \n",
       "1  chr1H   PGSB  mRNA  129733  130419     .      +     .   \n",
       "2  chr1H   PGSB  exon  129733  129835     .      +     .   \n",
       "3  chr1H   PGSB   CDS  129733  129835     .      +     0   \n",
       "4  chr1H   PGSB  exon  130121  130419     .      +     .   \n",
       "\n",
       "                              attributes  \n",
       "0           ID=HORVU.MOREX.r2.1HG0000010  \n",
       "1         ID=HORVU.MOREX.r2.1HG0000010.1  \n",
       "2  ID=HORVU.MOREX.r2.1HG0000010.1.exon.1  \n",
       "3   ID=HORVU.MOREX.r2.1HG0000010.1.CDS.1  \n",
       "4  ID=HORVU.MOREX.r2.1HG0000010.1.exon.2  "
      ]
     },
     "execution_count": 62,
     "metadata": {},
     "output_type": "execute_result"
    }
   ],
   "source": [
    "### --- Keeping in a separated dataframe the forward strands\n",
    "forw_Morex = df_Morex.loc[df_Morex['strand'].isin(['+'])]\n",
    "forw_Morex.head()"
   ]
  },
  {
   "cell_type": "code",
   "execution_count": 63,
   "metadata": {},
   "outputs": [
    {
     "data": {
      "text/html": [
       "<div>\n",
       "<style scoped>\n",
       "    .dataframe tbody tr th:only-of-type {\n",
       "        vertical-align: middle;\n",
       "    }\n",
       "\n",
       "    .dataframe tbody tr th {\n",
       "        vertical-align: top;\n",
       "    }\n",
       "\n",
       "    .dataframe thead th {\n",
       "        text-align: right;\n",
       "    }\n",
       "</style>\n",
       "<table border=\"1\" class=\"dataframe\">\n",
       "  <thead>\n",
       "    <tr style=\"text-align: right;\">\n",
       "      <th></th>\n",
       "      <th>chr</th>\n",
       "      <th>source</th>\n",
       "      <th>type</th>\n",
       "      <th>start</th>\n",
       "      <th>end</th>\n",
       "      <th>score</th>\n",
       "      <th>strand</th>\n",
       "      <th>phase</th>\n",
       "      <th>attributes</th>\n",
       "    </tr>\n",
       "  </thead>\n",
       "  <tbody>\n",
       "    <tr>\n",
       "      <th>54</th>\n",
       "      <td>chr1H</td>\n",
       "      <td>PGSB</td>\n",
       "      <td>gene</td>\n",
       "      <td>165513</td>\n",
       "      <td>168763</td>\n",
       "      <td>.</td>\n",
       "      <td>-</td>\n",
       "      <td>.</td>\n",
       "      <td>ID=HORVU.MOREX.r2.1HG0000050</td>\n",
       "    </tr>\n",
       "    <tr>\n",
       "      <th>55</th>\n",
       "      <td>chr1H</td>\n",
       "      <td>PGSB</td>\n",
       "      <td>mRNA</td>\n",
       "      <td>165513</td>\n",
       "      <td>168763</td>\n",
       "      <td>.</td>\n",
       "      <td>-</td>\n",
       "      <td>.</td>\n",
       "      <td>ID=HORVU.MOREX.r2.1HG0000050.1</td>\n",
       "    </tr>\n",
       "    <tr>\n",
       "      <th>56</th>\n",
       "      <td>chr1H</td>\n",
       "      <td>PGSB</td>\n",
       "      <td>exon</td>\n",
       "      <td>165513</td>\n",
       "      <td>165734</td>\n",
       "      <td>.</td>\n",
       "      <td>-</td>\n",
       "      <td>.</td>\n",
       "      <td>ID=HORVU.MOREX.r2.1HG0000050.1.exon.1</td>\n",
       "    </tr>\n",
       "    <tr>\n",
       "      <th>57</th>\n",
       "      <td>chr1H</td>\n",
       "      <td>PGSB</td>\n",
       "      <td>CDS</td>\n",
       "      <td>165513</td>\n",
       "      <td>165734</td>\n",
       "      <td>.</td>\n",
       "      <td>-</td>\n",
       "      <td>0</td>\n",
       "      <td>ID=HORVU.MOREX.r2.1HG0000050.1.CDS.1</td>\n",
       "    </tr>\n",
       "    <tr>\n",
       "      <th>58</th>\n",
       "      <td>chr1H</td>\n",
       "      <td>PGSB</td>\n",
       "      <td>exon</td>\n",
       "      <td>166213</td>\n",
       "      <td>166374</td>\n",
       "      <td>.</td>\n",
       "      <td>-</td>\n",
       "      <td>.</td>\n",
       "      <td>ID=HORVU.MOREX.r2.1HG0000050.1.exon.2</td>\n",
       "    </tr>\n",
       "  </tbody>\n",
       "</table>\n",
       "</div>"
      ],
      "text/plain": [
       "      chr source  type   start     end score strand phase  \\\n",
       "54  chr1H   PGSB  gene  165513  168763     .      -     .   \n",
       "55  chr1H   PGSB  mRNA  165513  168763     .      -     .   \n",
       "56  chr1H   PGSB  exon  165513  165734     .      -     .   \n",
       "57  chr1H   PGSB   CDS  165513  165734     .      -     0   \n",
       "58  chr1H   PGSB  exon  166213  166374     .      -     .   \n",
       "\n",
       "                               attributes  \n",
       "54           ID=HORVU.MOREX.r2.1HG0000050  \n",
       "55         ID=HORVU.MOREX.r2.1HG0000050.1  \n",
       "56  ID=HORVU.MOREX.r2.1HG0000050.1.exon.1  \n",
       "57   ID=HORVU.MOREX.r2.1HG0000050.1.CDS.1  \n",
       "58  ID=HORVU.MOREX.r2.1HG0000050.1.exon.2  "
      ]
     },
     "execution_count": 63,
     "metadata": {},
     "output_type": "execute_result"
    }
   ],
   "source": [
    "### --- Keeping in a separated dataframe the reverse strands\n",
    "rev_Morex = df_Morex.loc[df_Morex['strand'].isin(['-'])]\n",
    "rev_Morex.head()"
   ]
  },
  {
   "cell_type": "code",
   "execution_count": 64,
   "metadata": {},
   "outputs": [
    {
     "data": {
      "text/html": [
       "<div>\n",
       "<style scoped>\n",
       "    .dataframe tbody tr th:only-of-type {\n",
       "        vertical-align: middle;\n",
       "    }\n",
       "\n",
       "    .dataframe tbody tr th {\n",
       "        vertical-align: top;\n",
       "    }\n",
       "\n",
       "    .dataframe thead th {\n",
       "        text-align: right;\n",
       "    }\n",
       "</style>\n",
       "<table border=\"1\" class=\"dataframe\">\n",
       "  <thead>\n",
       "    <tr style=\"text-align: right;\">\n",
       "      <th></th>\n",
       "      <th>chr</th>\n",
       "      <th>source</th>\n",
       "      <th>type</th>\n",
       "      <th>start</th>\n",
       "      <th>end</th>\n",
       "      <th>score</th>\n",
       "      <th>strand</th>\n",
       "      <th>phase</th>\n",
       "      <th>attributes</th>\n",
       "    </tr>\n",
       "  </thead>\n",
       "  <tbody>\n",
       "  </tbody>\n",
       "</table>\n",
       "</div>"
      ],
      "text/plain": [
       "Empty DataFrame\n",
       "Columns: [chr, source, type, start, end, score, strand, phase, attributes]\n",
       "Index: []"
      ]
     },
     "execution_count": 64,
     "metadata": {},
     "output_type": "execute_result"
    }
   ],
   "source": [
    "### --- Keeping in a separated dataframe the UTR regions on the forward strands\n",
    "UTR_forw_Morex = forw_Morex.loc[df_Morex['type'].isin(['three_prime_UTR','five_prime_UTR'])]\n",
    "UTR_forw_Morex.head()"
   ]
  },
  {
   "cell_type": "code",
   "execution_count": 65,
   "metadata": {},
   "outputs": [
    {
     "data": {
      "text/html": [
       "<div>\n",
       "<style scoped>\n",
       "    .dataframe tbody tr th:only-of-type {\n",
       "        vertical-align: middle;\n",
       "    }\n",
       "\n",
       "    .dataframe tbody tr th {\n",
       "        vertical-align: top;\n",
       "    }\n",
       "\n",
       "    .dataframe thead th {\n",
       "        text-align: right;\n",
       "    }\n",
       "</style>\n",
       "<table border=\"1\" class=\"dataframe\">\n",
       "  <thead>\n",
       "    <tr style=\"text-align: right;\">\n",
       "      <th></th>\n",
       "      <th>chr</th>\n",
       "      <th>source</th>\n",
       "      <th>type</th>\n",
       "      <th>start</th>\n",
       "      <th>end</th>\n",
       "      <th>score</th>\n",
       "      <th>strand</th>\n",
       "      <th>phase</th>\n",
       "      <th>attributes</th>\n",
       "    </tr>\n",
       "  </thead>\n",
       "  <tbody>\n",
       "  </tbody>\n",
       "</table>\n",
       "</div>"
      ],
      "text/plain": [
       "Empty DataFrame\n",
       "Columns: [chr, source, type, start, end, score, strand, phase, attributes]\n",
       "Index: []"
      ]
     },
     "execution_count": 65,
     "metadata": {},
     "output_type": "execute_result"
    }
   ],
   "source": [
    "### --- Keeping in a separated dataframe the UTR regions on the reverse strands\n",
    "UTR_rev_Morex = rev_Morex.loc[df_Morex['type'].isin(['three_prime_UTR','five_prime_UTR'])]\n",
    "UTR_rev_Morex.head()"
   ]
  },
  {
   "cell_type": "markdown",
   "metadata": {},
   "source": [
    "As in the other cases no UTRs annotated."
   ]
  },
  {
   "cell_type": "markdown",
   "metadata": {},
   "source": [
    "### 3.3.3 Extracting introns from the whole genome"
   ]
  },
  {
   "cell_type": "code",
   "execution_count": 66,
   "metadata": {},
   "outputs": [],
   "source": [
    "### --- Extracting introns from Morex\n",
    "extract_tot_introns('Data/Morex_exon.tsv', 'Output/Morex_introns.tsv')"
   ]
  },
  {
   "cell_type": "code",
   "execution_count": 67,
   "metadata": {},
   "outputs": [
    {
     "data": {
      "text/html": [
       "<div>\n",
       "<style scoped>\n",
       "    .dataframe tbody tr th:only-of-type {\n",
       "        vertical-align: middle;\n",
       "    }\n",
       "\n",
       "    .dataframe tbody tr th {\n",
       "        vertical-align: top;\n",
       "    }\n",
       "\n",
       "    .dataframe thead th {\n",
       "        text-align: right;\n",
       "    }\n",
       "</style>\n",
       "<table border=\"1\" class=\"dataframe\">\n",
       "  <thead>\n",
       "    <tr style=\"text-align: right;\">\n",
       "      <th></th>\n",
       "      <th>ID</th>\n",
       "      <th>type</th>\n",
       "      <th>start</th>\n",
       "      <th>end</th>\n",
       "      <th>length</th>\n",
       "    </tr>\n",
       "  </thead>\n",
       "  <tbody>\n",
       "    <tr>\n",
       "      <th>0</th>\n",
       "      <td>ID=HORVU.MOREX.r2.1HG0000010.1</td>\n",
       "      <td>intron</td>\n",
       "      <td>129836</td>\n",
       "      <td>130120</td>\n",
       "      <td>286</td>\n",
       "    </tr>\n",
       "    <tr>\n",
       "      <th>1</th>\n",
       "      <td>ID=HORVU.MOREX.r2.1HG0000020.1</td>\n",
       "      <td>intron</td>\n",
       "      <td>142904</td>\n",
       "      <td>143334</td>\n",
       "      <td>432</td>\n",
       "    </tr>\n",
       "    <tr>\n",
       "      <th>2</th>\n",
       "      <td>ID=HORVU.MOREX.r2.1HG0000020.1</td>\n",
       "      <td>intron</td>\n",
       "      <td>144687</td>\n",
       "      <td>144800</td>\n",
       "      <td>115</td>\n",
       "    </tr>\n",
       "    <tr>\n",
       "      <th>3</th>\n",
       "      <td>ID=HORVU.MOREX.r2.1HG0000020.1</td>\n",
       "      <td>intron</td>\n",
       "      <td>144912</td>\n",
       "      <td>145021</td>\n",
       "      <td>111</td>\n",
       "    </tr>\n",
       "    <tr>\n",
       "      <th>4</th>\n",
       "      <td>ID=HORVU.MOREX.r2.1HG0000020.1</td>\n",
       "      <td>intron</td>\n",
       "      <td>145299</td>\n",
       "      <td>145392</td>\n",
       "      <td>95</td>\n",
       "    </tr>\n",
       "    <tr>\n",
       "      <th>...</th>\n",
       "      <td>...</td>\n",
       "      <td>...</td>\n",
       "      <td>...</td>\n",
       "      <td>...</td>\n",
       "      <td>...</td>\n",
       "    </tr>\n",
       "    <tr>\n",
       "      <th>95</th>\n",
       "      <td>ID=HORVU.MOREX.r2.1HG0000240.1</td>\n",
       "      <td>intron</td>\n",
       "      <td>734325</td>\n",
       "      <td>734933</td>\n",
       "      <td>610</td>\n",
       "    </tr>\n",
       "    <tr>\n",
       "      <th>96</th>\n",
       "      <td>ID=HORVU.MOREX.r2.1HG0000250.1</td>\n",
       "      <td>intron</td>\n",
       "      <td>736456</td>\n",
       "      <td>736557</td>\n",
       "      <td>103</td>\n",
       "    </tr>\n",
       "    <tr>\n",
       "      <th>97</th>\n",
       "      <td>ID=HORVU.MOREX.r2.1HG0000260.1</td>\n",
       "      <td>intron</td>\n",
       "      <td>743659</td>\n",
       "      <td>743739</td>\n",
       "      <td>82</td>\n",
       "    </tr>\n",
       "    <tr>\n",
       "      <th>98</th>\n",
       "      <td>ID=HORVU.MOREX.r2.1HG0000260.1</td>\n",
       "      <td>intron</td>\n",
       "      <td>746154</td>\n",
       "      <td>748998</td>\n",
       "      <td>2846</td>\n",
       "    </tr>\n",
       "    <tr>\n",
       "      <th>99</th>\n",
       "      <td>ID=HORVU.MOREX.r2.1HG0000270.1</td>\n",
       "      <td>intron</td>\n",
       "      <td>795103</td>\n",
       "      <td>795184</td>\n",
       "      <td>83</td>\n",
       "    </tr>\n",
       "  </tbody>\n",
       "</table>\n",
       "<p>100 rows × 5 columns</p>\n",
       "</div>"
      ],
      "text/plain": [
       "                                ID     type   start     end  length\n",
       "0   ID=HORVU.MOREX.r2.1HG0000010.1  intron   129836  130120     286\n",
       "1   ID=HORVU.MOREX.r2.1HG0000020.1  intron   142904  143334     432\n",
       "2   ID=HORVU.MOREX.r2.1HG0000020.1  intron   144687  144800     115\n",
       "3   ID=HORVU.MOREX.r2.1HG0000020.1  intron   144912  145021     111\n",
       "4   ID=HORVU.MOREX.r2.1HG0000020.1  intron   145299  145392      95\n",
       "..                             ...      ...     ...     ...     ...\n",
       "95  ID=HORVU.MOREX.r2.1HG0000240.1  intron   734325  734933     610\n",
       "96  ID=HORVU.MOREX.r2.1HG0000250.1  intron   736456  736557     103\n",
       "97  ID=HORVU.MOREX.r2.1HG0000260.1  intron   743659  743739      82\n",
       "98  ID=HORVU.MOREX.r2.1HG0000260.1  intron   746154  748998    2846\n",
       "99  ID=HORVU.MOREX.r2.1HG0000270.1  intron   795103  795184      83\n",
       "\n",
       "[100 rows x 5 columns]"
      ]
     },
     "execution_count": 67,
     "metadata": {},
     "output_type": "execute_result"
    }
   ],
   "source": [
    "introns_Morex = pd.read_csv('Output/Morex_introns.tsv', sep = '\\t')\n",
    "introns_Morex[:100]"
   ]
  },
  {
   "cell_type": "code",
   "execution_count": 68,
   "metadata": {},
   "outputs": [],
   "source": [
    "### --- Counting introns type in Morex\n",
    "introns_dictionary_Morex = counting_introns_type(exon_Morex)"
   ]
  },
  {
   "cell_type": "code",
   "execution_count": 69,
   "metadata": {},
   "outputs": [
    {
     "name": "stdout",
     "output_type": "stream",
     "text": [
      "Intronless are: 33663\n",
      "Intronpoor are: 17811\n",
      "Intronrich are: 12184\n"
     ]
    }
   ],
   "source": [
    "n_intronless_Morex, n_intronpoor_Morex, n_intronrich_Morex, intronless_Morex, intronpoor_Morex, intronrich_Morex = splitting_introns_type(introns_dictionary_Morex)"
   ]
  },
  {
   "cell_type": "code",
   "execution_count": 70,
   "metadata": {},
   "outputs": [
    {
     "data": {
      "image/png": "[encoded data removed]",
      "text/plain": [
       "<Figure size 720x504 with 1 Axes>"
      ]
     },
     "metadata": {},
     "output_type": "display_data"
    }
   ],
   "source": [
    "genes = ['Intronless', 'Intronpoor', 'Intronrich']\n",
    "data_Morex = [33663, 17811, 12184]\n",
    "fig = plt.figure(figsize =(10, 7))\n",
    "plt.pie(data_Morex, labels = genes, autopct='%1.0f%%')\n",
    "plt.title(\"Genes Morex Distribution\", bbox={'facecolor':'0.8', 'pad':5})\n",
    "plt.show()"
   ]
  },
  {
   "cell_type": "code",
   "execution_count": 71,
   "metadata": {},
   "outputs": [],
   "source": [
    "### --- Creating the list of Morex gene IDs to check the number of transcripts using command line\n",
    "intronless_file_Morex = open('Output/Morex_intronlessIDs.txt', 'a')\n",
    "intronpoor_file_Morex = open('Output/Morex_intronpoorIDs.txt', 'a')\n",
    "intronrich_file_Morex = open('Output/Morex_intronrichIDs.txt', 'a')\n",
    "for i in range(len(intronless_Morex)):\n",
    "    if i == len(intronless_Morex) -1:\n",
    "        intronless_file_Morex.write(intronless_Morex[i])\n",
    "    else:\n",
    "        intronless_file_Morex.write(intronless_Morex[i] + '\\n')\n",
    "intronless_file_Morex.close()\n",
    "\n",
    "for i in range(len(intronpoor_Morex)):\n",
    "    if i == len(intronpoor_Morex) -1:\n",
    "        intronpoor_file_Morex.write(intronpoor_Morex[i])\n",
    "    else:\n",
    "        intronpoor_file_Morex.write(intronpoor_Morex[i] + '\\n')\n",
    "intronpoor_file_Morex.close()\n",
    "\n",
    "for i in range(len(intronrich_Morex)):\n",
    "    if i == len(intronrich_Morex) -1:\n",
    "        intronrich_file_Morex.write(intronrich_Morex[i])\n",
    "    else:\n",
    "        intronrich_file_Morex.write(intronrich_Morex[i]+'\\n')\n",
    "intronrich_file_Morex.close()"
   ]
  },
  {
   "cell_type": "code",
   "execution_count": 72,
   "metadata": {},
   "outputs": [],
   "source": [
    "### --- Storing the number of transcripts in intron-less/poor/rich genes within a variable \n",
    "n_mRNA_intronless_Morex = ! grep -f Output/Morex_intronlessIDs.txt Data/Morex_nohashtag.gff3 | awk -F '\\t' '{print $3}' | grep -w 'mRNA' | wc -l\n",
    "n_mRNA_intronpoor_Morex = ! grep -f Output/Morex_intronpoorIDs.txt Data/Morex_nohashtag.gff3 | awk -F '\\t' '{print $3}' | grep -w 'mRNA' | wc -l\n",
    "n_mRNA_intronrich_Morex = ! grep -f Output/Morex_intronrichIDs.txt Data/Morex_nohashtag.gff3 | awk -F '\\t' '{print $3}' | grep -w 'mRNA' | wc -l"
   ]
  },
  {
   "cell_type": "code",
   "execution_count": 73,
   "metadata": {
    "scrolled": true
   },
   "outputs": [
    {
     "name": "stdout",
     "output_type": "stream",
     "text": [
      "1.0\n",
      "1.0\n",
      "1.0\n"
     ]
    }
   ],
   "source": [
    "### --- Checking the average number of transcripts for each gene-type\n",
    "avg_mRNA_intronless_Morex = int(n_mRNA_intronless_Morex[0])/n_intronless_Morex\n",
    "print(avg_mRNA_intronless_Morex)\n",
    "avg_mRNA_intronpoor_Morex = int(n_mRNA_intronpoor_Morex[0])/n_intronpoor_Morex\n",
    "print(avg_mRNA_intronpoor_Morex)\n",
    "avg_mRNA_intronrich_Morex = int(n_mRNA_intronrich_Morex[0])/n_intronrich_Morex\n",
    "print(avg_mRNA_intronrich_Morex)"
   ]
  },
  {
   "cell_type": "markdown",
   "metadata": {},
   "source": [
    "Poor annotation once again. "
   ]
  },
  {
   "cell_type": "code",
   "execution_count": 74,
   "metadata": {},
   "outputs": [
    {
     "data": {
      "text/plain": [
       "count    131774.000000\n",
       "mean        543.607259\n",
       "std        1584.931969\n",
       "min          23.000000\n",
       "25%          94.000000\n",
       "50%         133.000000\n",
       "75%         452.000000\n",
       "max       47239.000000\n",
       "Name: length, dtype: float64"
      ]
     },
     "execution_count": 74,
     "metadata": {},
     "output_type": "execute_result"
    }
   ],
   "source": [
    "### --- Basic statistics of Morex introns\n",
    "introns_Morex['length'].describe()"
   ]
  },
  {
   "cell_type": "code",
   "execution_count": 75,
   "metadata": {},
   "outputs": [
    {
     "data": {
      "text/plain": [
       "<AxesSubplot:ylabel='Density'>"
      ]
     },
     "execution_count": 75,
     "metadata": {},
     "output_type": "execute_result"
    },
    {
     "data": {
      "image/png": "[encoded data removed]",
      "text/plain": [
       "<Figure size 432x288 with 1 Axes>"
      ]
     },
     "metadata": {
      "needs_background": "light"
     },
     "output_type": "display_data"
    }
   ],
   "source": [
    "### --- Plotting the distribution of Morex introns length\n",
    "introns_Morex['length'].plot.density()"
   ]
  },
  {
   "cell_type": "code",
   "execution_count": 76,
   "metadata": {},
   "outputs": [
    {
     "data": {
      "text/plain": [
       "<AxesSubplot:>"
      ]
     },
     "execution_count": 76,
     "metadata": {},
     "output_type": "execute_result"
    },
    {
     "data": {
      "image/png": "[encoded data removed]",
      "text/plain": [
       "<Figure size 432x288 with 1 Axes>"
      ]
     },
     "metadata": {
      "needs_background": "light"
     },
     "output_type": "display_data"
    }
   ],
   "source": [
    "### --- Plotting the boxplot of Morex introns length without outliers\n",
    "introns_Morex.boxplot(column='length', return_type='axes', showfliers=False) # showfliers = False -> discard outliers"
   ]
  },
  {
   "cell_type": "markdown",
   "metadata": {},
   "source": [
    "### 3.3.4 Re-organizing files and directories"
   ]
  },
  {
   "cell_type": "code",
   "execution_count": 77,
   "metadata": {},
   "outputs": [
    {
     "name": "stdout",
     "output_type": "stream",
     "text": [
      "Barke\t  Hv_Morex_longread  Morex_nohashtag.csv   raw\r\n",
      "HOR10350  Morex_exon.tsv     Morex_nohashtag.gff3\r\n"
     ]
    }
   ],
   "source": [
    "! ls Data/"
   ]
  },
  {
   "cell_type": "code",
   "execution_count": 78,
   "metadata": {},
   "outputs": [],
   "source": [
    "! mkdir Data/Morex"
   ]
  },
  {
   "cell_type": "code",
   "execution_count": 79,
   "metadata": {},
   "outputs": [],
   "source": [
    "! mv Data/Morex_* Data/Morex/"
   ]
  },
  {
   "cell_type": "code",
   "execution_count": 80,
   "metadata": {},
   "outputs": [
    {
     "name": "stdout",
     "output_type": "stream",
     "text": [
      "Barke  HOR10350  Hv_Morex_longread  Morex  raw\r\n"
     ]
    }
   ],
   "source": [
    "! ls Data/"
   ]
  },
  {
   "cell_type": "code",
   "execution_count": 81,
   "metadata": {},
   "outputs": [
    {
     "name": "stdout",
     "output_type": "stream",
     "text": [
      "Barke\t  Hv_Morex_longread\t   Morex_intronpoorIDs.txt  Morex_introns.tsv\r\n",
      "HOR10350  Morex_intronlessIDs.txt  Morex_intronrichIDs.txt\r\n"
     ]
    }
   ],
   "source": [
    "! ls Output/"
   ]
  },
  {
   "cell_type": "code",
   "execution_count": 82,
   "metadata": {},
   "outputs": [],
   "source": [
    "! mkdir Output/Morex"
   ]
  },
  {
   "cell_type": "code",
   "execution_count": 83,
   "metadata": {},
   "outputs": [],
   "source": [
    "! mv Output/Morex_* Output/Morex/"
   ]
  },
  {
   "cell_type": "code",
   "execution_count": 84,
   "metadata": {},
   "outputs": [
    {
     "name": "stdout",
     "output_type": "stream",
     "text": [
      "Barke  HOR10350  Hv_Morex_longread  Morex\r\n"
     ]
    }
   ],
   "source": [
    "! ls Output/"
   ]
  },
  {
   "cell_type": "markdown",
   "metadata": {},
   "source": [
    "## 3.4 Re-defining the functions due to a different 9th field format of the genomes within the Gene_projection directory"
   ]
  },
  {
   "cell_type": "code",
   "execution_count": 103,
   "metadata": {},
   "outputs": [],
   "source": [
    "### --- Function to extract introns from the whole genome\n",
    "### --- Infile is a file like Akashinriki_exon.tsv \n",
    "### --- Outfile will be written thanks to this function\n",
    "### --- If there are two or more exons belonging to the same mRNA one after the other it compute the introns separating them\n",
    "def extract_tot_introns_gp(infile, outfile):\n",
    "    introns = open(outfile, 'a') \n",
    "    introns.write('ID'+'\\t'+'type'+'\\t'+'start'+'\\t'+'end'+'\\t'+'length') \n",
    "    with open(infile) as f: \n",
    "        lines = f.readlines()\n",
    "        for i in range(0, len(lines)):\n",
    "            if i+1 == len(lines): # This is to avoid out of range error\n",
    "                break \n",
    "            else:\n",
    "                line = lines[i]\n",
    "                line = line.rstrip()\n",
    "                line = line.split()\n",
    "                next_line = lines[i+1]\n",
    "                next_line = lines[i+1].rstrip()\n",
    "                next_line = lines[i+1].split()\n",
    "                if '_'.join(line[8].split('_')[0:3]) != '_'.join(next_line[8].split('_')[0:3]): continue # Checking if the next exon has the same ID of the one we are at\n",
    "                \n",
    "                introns.write('\\n'+'_'.join(line[8].split('_')[0:3])+'\\t'+ 'intron ' +'\\t'+str(int(line[4])+1)+'\\t'+str(int(next_line[3])-1)+'\\t'+str(int(next_line[3])-1-int(line[4])+1))\n",
    "    introns.close()\n"
   ]
  },
  {
   "cell_type": "code",
   "execution_count": 119,
   "metadata": {},
   "outputs": [],
   "source": [
    "### --- Function to count introns within a dataframe made of exons formatted like exon_Akashinriki\n",
    "\n",
    "def counting_introns_type_gp(in_dataframe):\n",
    "    counts = dict()\n",
    "    for i in in_dataframe['attributes']:\n",
    "        counts['_'.join(i.split('_')[0:3])] = counts.get('_'.join(i.split('_')[0:3]), 0) + 1\n",
    "    return counts"
   ]
  },
  {
   "cell_type": "code",
   "execution_count": 120,
   "metadata": {},
   "outputs": [],
   "source": [
    "### --- Function to extract introns from UTR regions.\n",
    "### --- Infile is a file like Akashinriki_UTRforw_introns.tsv \n",
    "### --- Outfile will be written thanks to this function\n",
    "### --- Being all on the same strand when two or more UTRs of the same type are one row after the other it means there is a intron separating them\n",
    "def extract_UTR_introns_gp(infile, outfile):\n",
    "    UTR_introns_forw = open(outfile, 'a')\n",
    "    UTR_introns_forw.write('ID'+'\\t'+'type'+'\\t'+'start'+'\\t'+'end'+'\\t'+'length') # Defining the header\n",
    "    with open(infile) as f:\n",
    "        lines = f.readlines()\n",
    "        for i in range(0, len(lines)):\n",
    "            if i+1 == len(lines):\n",
    "                break\n",
    "            else:\n",
    "                line = lines[i]\n",
    "                line = line.rstrip()\n",
    "                line = line.split()\n",
    "                next_line = lines[i+1]\n",
    "                next_line = lines[i+1].rstrip()\n",
    "                next_line = lines[i+1].split()\n",
    "                if line[2] != next_line[2] or '_'.join(line[8].split('_')[0:3]) != '_'.join(next_line[8].split('_')[0:3]): continue\n",
    "                \n",
    "                UTR_introns_forw.write('\\n'+'_'.join(line[8].split('_')[0:3])+'\\t'+ 'intron '+line[2]+'\\t'+str(int(line[4])+1)+'\\t'+str(int(next_line[3])-1)+'\\t'+str(int(next_line[3])-1-int(line[4])+1))\n",
    "    UTR_introns_forw.close()"
   ]
  },
  {
   "cell_type": "markdown",
   "metadata": {},
   "source": [
    "## 3.5 Akashinriki - Gene projection"
   ]
  },
  {
   "cell_type": "markdown",
   "metadata": {},
   "source": [
    "### 3.5.1 Data collection"
   ]
  },
  {
   "cell_type": "code",
   "execution_count": 88,
   "metadata": {},
   "outputs": [
    {
     "name": "stdout",
     "output_type": "stream",
     "text": [
      "--2021-06-04 16:20:06--  https://doi.ipk-gatersleben.de/DOI/c4d433dc-bf7c-4ad9-9368-69bb77837ca5/325492c0-89ef-4beb-87ef-c2372093a918/1/DOWNLOAD\n",
      "Resolving doi.ipk-gatersleben.de (doi.ipk-gatersleben.de)... 194.94.136.144\n",
      "Connecting to doi.ipk-gatersleben.de (doi.ipk-gatersleben.de)|194.94.136.144|:443... connected.\n",
      "HTTP request sent, awaiting response... 200 OK\n",
      "Length: 53597597 (51M) [text/plain]\n",
      "Saving to: ‘Data/raw/Akashinriki.gff3’\n",
      "\n",
      "Data/raw/Akashinrik 100%[===================>]  51,11M   179KB/s    in 86s     \n",
      "\n",
      "2021-06-04 16:21:33 (607 KB/s) - ‘Data/raw/Akashinriki.gff3’ saved [53597597/53597597]\n",
      "\n"
     ]
    }
   ],
   "source": [
    "### --- This will download the raw data to the subdirectory raw under the directory Data\n",
    "! wget -O Data/raw/Akashinriki.gff3 https://doi.ipk-gatersleben.de/DOI/c4d433dc-bf7c-4ad9-9368-69bb77837ca5/325492c0-89ef-4beb-87ef-c2372093a918/1/DOWNLOAD"
   ]
  },
  {
   "cell_type": "markdown",
   "metadata": {},
   "source": [
    "### 3.5.2 Processing Data"
   ]
  },
  {
   "cell_type": "code",
   "execution_count": 89,
   "metadata": {},
   "outputs": [],
   "source": [
    "### --- There is no need to import the libraries again\n",
    "# import pandas as pd\n",
    "# import numpy as np\n",
    "# import matplotlib.pyplot as plt"
   ]
  },
  {
   "cell_type": "code",
   "execution_count": 90,
   "metadata": {},
   "outputs": [],
   "source": [
    "### --- Removing all hashtags from the gff3 file\n",
    "! sed '/#/d' Data/raw/Akashinriki.gff3  > Data/Akashinriki_nohashtag.gff3"
   ]
  },
  {
   "cell_type": "code",
   "execution_count": 91,
   "metadata": {},
   "outputs": [],
   "source": [
    "### --- Changing the gff3 file to a csv format file to import it with pandas\n",
    "! cat Data/Akashinriki_nohashtag.gff3 | sed 's/,/--/g' | sed 's/;/--/g' | sed 's/\\t/,/g' | awk -F '--' '{print $1}' > Data/Akashinriki_nohashtag.csv"
   ]
  },
  {
   "cell_type": "code",
   "execution_count": 92,
   "metadata": {},
   "outputs": [
    {
     "data": {
      "text/html": [
       "<div>\n",
       "<style scoped>\n",
       "    .dataframe tbody tr th:only-of-type {\n",
       "        vertical-align: middle;\n",
       "    }\n",
       "\n",
       "    .dataframe tbody tr th {\n",
       "        vertical-align: top;\n",
       "    }\n",
       "\n",
       "    .dataframe thead th {\n",
       "        text-align: right;\n",
       "    }\n",
       "</style>\n",
       "<table border=\"1\" class=\"dataframe\">\n",
       "  <thead>\n",
       "    <tr style=\"text-align: right;\">\n",
       "      <th></th>\n",
       "      <th>chr</th>\n",
       "      <th>source</th>\n",
       "      <th>type</th>\n",
       "      <th>start</th>\n",
       "      <th>end</th>\n",
       "      <th>score</th>\n",
       "      <th>strand</th>\n",
       "      <th>phase</th>\n",
       "      <th>attributes</th>\n",
       "    </tr>\n",
       "  </thead>\n",
       "  <tbody>\n",
       "    <tr>\n",
       "      <th>0</th>\n",
       "      <td>chr1H</td>\n",
       "      <td>PGSBv2.28112019</td>\n",
       "      <td>gene</td>\n",
       "      <td>5070</td>\n",
       "      <td>8545</td>\n",
       "      <td>2072.693</td>\n",
       "      <td>+</td>\n",
       "      <td>.</td>\n",
       "      <td>ID=Horvu_AKASHIN_1H01G000100</td>\n",
       "    </tr>\n",
       "    <tr>\n",
       "      <th>1</th>\n",
       "      <td>chr1H</td>\n",
       "      <td>PGSBv2.28112019</td>\n",
       "      <td>mRNA</td>\n",
       "      <td>5070</td>\n",
       "      <td>8545</td>\n",
       "      <td>.</td>\n",
       "      <td>+</td>\n",
       "      <td>.</td>\n",
       "      <td>ID=Horvu_AKASHIN_1H01G000100.1</td>\n",
       "    </tr>\n",
       "    <tr>\n",
       "      <th>2</th>\n",
       "      <td>chr1H</td>\n",
       "      <td>PGSBv2.28112019</td>\n",
       "      <td>exon</td>\n",
       "      <td>5070</td>\n",
       "      <td>5510</td>\n",
       "      <td>.</td>\n",
       "      <td>+</td>\n",
       "      <td>.</td>\n",
       "      <td>ID=Horvu_AKASHIN_1H01G000100.1_exon_1</td>\n",
       "    </tr>\n",
       "    <tr>\n",
       "      <th>3</th>\n",
       "      <td>chr1H</td>\n",
       "      <td>PGSBv2.28112019</td>\n",
       "      <td>exon</td>\n",
       "      <td>7916</td>\n",
       "      <td>8545</td>\n",
       "      <td>.</td>\n",
       "      <td>+</td>\n",
       "      <td>.</td>\n",
       "      <td>ID=Horvu_AKASHIN_1H01G000100.1_exon_2</td>\n",
       "    </tr>\n",
       "    <tr>\n",
       "      <th>4</th>\n",
       "      <td>chr1H</td>\n",
       "      <td>PGSBv2.28112019</td>\n",
       "      <td>CDS</td>\n",
       "      <td>5070</td>\n",
       "      <td>5510</td>\n",
       "      <td>.</td>\n",
       "      <td>+</td>\n",
       "      <td>0</td>\n",
       "      <td>Parent=Horvu_AKASHIN_1H01G000100.1</td>\n",
       "    </tr>\n",
       "  </tbody>\n",
       "</table>\n",
       "</div>"
      ],
      "text/plain": [
       "     chr           source  type  start   end     score strand phase  \\\n",
       "0  chr1H  PGSBv2.28112019  gene   5070  8545  2072.693      +     .   \n",
       "1  chr1H  PGSBv2.28112019  mRNA   5070  8545         .      +     .   \n",
       "2  chr1H  PGSBv2.28112019  exon   5070  5510         .      +     .   \n",
       "3  chr1H  PGSBv2.28112019  exon   7916  8545         .      +     .   \n",
       "4  chr1H  PGSBv2.28112019   CDS   5070  5510         .      +     0   \n",
       "\n",
       "                              attributes  \n",
       "0           ID=Horvu_AKASHIN_1H01G000100  \n",
       "1         ID=Horvu_AKASHIN_1H01G000100.1  \n",
       "2  ID=Horvu_AKASHIN_1H01G000100.1_exon_1  \n",
       "3  ID=Horvu_AKASHIN_1H01G000100.1_exon_2  \n",
       "4     Parent=Horvu_AKASHIN_1H01G000100.1  "
      ]
     },
     "execution_count": 92,
     "metadata": {},
     "output_type": "execute_result"
    }
   ],
   "source": [
    "### --- Transforming the gff3 file to a pandas dataframe to better handle it\n",
    "df_Akashinriki = pd.read_csv('Data/Akashinriki_nohashtag.csv', header=None, names = ['chr', 'source', 'type','start','end','score','strand','phase','attributes'])\n",
    "df_Akashinriki.head()"
   ]
  },
  {
   "cell_type": "code",
   "execution_count": 93,
   "metadata": {},
   "outputs": [
    {
     "data": {
      "text/html": [
       "<div>\n",
       "<style scoped>\n",
       "    .dataframe tbody tr th:only-of-type {\n",
       "        vertical-align: middle;\n",
       "    }\n",
       "\n",
       "    .dataframe tbody tr th {\n",
       "        vertical-align: top;\n",
       "    }\n",
       "\n",
       "    .dataframe thead th {\n",
       "        text-align: right;\n",
       "    }\n",
       "</style>\n",
       "<table border=\"1\" class=\"dataframe\">\n",
       "  <thead>\n",
       "    <tr style=\"text-align: right;\">\n",
       "      <th></th>\n",
       "      <th>chr</th>\n",
       "      <th>source</th>\n",
       "      <th>type</th>\n",
       "      <th>start</th>\n",
       "      <th>end</th>\n",
       "      <th>score</th>\n",
       "      <th>strand</th>\n",
       "      <th>phase</th>\n",
       "      <th>attributes</th>\n",
       "    </tr>\n",
       "  </thead>\n",
       "  <tbody>\n",
       "    <tr>\n",
       "      <th>2</th>\n",
       "      <td>chr1H</td>\n",
       "      <td>PGSBv2.28112019</td>\n",
       "      <td>exon</td>\n",
       "      <td>5070</td>\n",
       "      <td>5510</td>\n",
       "      <td>.</td>\n",
       "      <td>+</td>\n",
       "      <td>.</td>\n",
       "      <td>ID=Horvu_AKASHIN_1H01G000100.1_exon_1</td>\n",
       "    </tr>\n",
       "    <tr>\n",
       "      <th>3</th>\n",
       "      <td>chr1H</td>\n",
       "      <td>PGSBv2.28112019</td>\n",
       "      <td>exon</td>\n",
       "      <td>7916</td>\n",
       "      <td>8545</td>\n",
       "      <td>.</td>\n",
       "      <td>+</td>\n",
       "      <td>.</td>\n",
       "      <td>ID=Horvu_AKASHIN_1H01G000100.1_exon_2</td>\n",
       "    </tr>\n",
       "    <tr>\n",
       "      <th>8</th>\n",
       "      <td>chr1H</td>\n",
       "      <td>PGSBv2.28112019</td>\n",
       "      <td>exon</td>\n",
       "      <td>11804</td>\n",
       "      <td>11974</td>\n",
       "      <td>.</td>\n",
       "      <td>-</td>\n",
       "      <td>.</td>\n",
       "      <td>ID=Horvu_AKASHIN_1H01G000200.1_exon_10</td>\n",
       "    </tr>\n",
       "    <tr>\n",
       "      <th>9</th>\n",
       "      <td>chr1H</td>\n",
       "      <td>PGSBv2.28112019</td>\n",
       "      <td>exon</td>\n",
       "      <td>12724</td>\n",
       "      <td>12861</td>\n",
       "      <td>.</td>\n",
       "      <td>-</td>\n",
       "      <td>.</td>\n",
       "      <td>ID=Horvu_AKASHIN_1H01G000200.1_exon_9</td>\n",
       "    </tr>\n",
       "    <tr>\n",
       "      <th>10</th>\n",
       "      <td>chr1H</td>\n",
       "      <td>PGSBv2.28112019</td>\n",
       "      <td>exon</td>\n",
       "      <td>13031</td>\n",
       "      <td>13250</td>\n",
       "      <td>.</td>\n",
       "      <td>-</td>\n",
       "      <td>.</td>\n",
       "      <td>ID=Horvu_AKASHIN_1H01G000200.1_exon_8</td>\n",
       "    </tr>\n",
       "  </tbody>\n",
       "</table>\n",
       "</div>"
      ],
      "text/plain": [
       "      chr           source  type  start    end score strand phase  \\\n",
       "2   chr1H  PGSBv2.28112019  exon   5070   5510     .      +     .   \n",
       "3   chr1H  PGSBv2.28112019  exon   7916   8545     .      +     .   \n",
       "8   chr1H  PGSBv2.28112019  exon  11804  11974     .      -     .   \n",
       "9   chr1H  PGSBv2.28112019  exon  12724  12861     .      -     .   \n",
       "10  chr1H  PGSBv2.28112019  exon  13031  13250     .      -     .   \n",
       "\n",
       "                                attributes  \n",
       "2    ID=Horvu_AKASHIN_1H01G000100.1_exon_1  \n",
       "3    ID=Horvu_AKASHIN_1H01G000100.1_exon_2  \n",
       "8   ID=Horvu_AKASHIN_1H01G000200.1_exon_10  \n",
       "9    ID=Horvu_AKASHIN_1H01G000200.1_exon_9  \n",
       "10   ID=Horvu_AKASHIN_1H01G000200.1_exon_8  "
      ]
     },
     "execution_count": 93,
     "metadata": {},
     "output_type": "execute_result"
    }
   ],
   "source": [
    "### --- Building a separate dataframe containing all exons\n",
    "exon_Akashinriki = df_Akashinriki.loc[df_Akashinriki['type'].isin(['exon'])]\n",
    "exon_Akashinriki.head()"
   ]
  },
  {
   "cell_type": "code",
   "execution_count": 94,
   "metadata": {},
   "outputs": [],
   "source": [
    "### --- Exporting the exon dataframe to a tsv file \n",
    "exon_Akashinriki.to_csv('Data/Akashinriki_exon.tsv',sep='\\t',index=False,header=False)"
   ]
  },
  {
   "cell_type": "code",
   "execution_count": 95,
   "metadata": {},
   "outputs": [
    {
     "data": {
      "text/html": [
       "<div>\n",
       "<style scoped>\n",
       "    .dataframe tbody tr th:only-of-type {\n",
       "        vertical-align: middle;\n",
       "    }\n",
       "\n",
       "    .dataframe tbody tr th {\n",
       "        vertical-align: top;\n",
       "    }\n",
       "\n",
       "    .dataframe thead th {\n",
       "        text-align: right;\n",
       "    }\n",
       "</style>\n",
       "<table border=\"1\" class=\"dataframe\">\n",
       "  <thead>\n",
       "    <tr style=\"text-align: right;\">\n",
       "      <th></th>\n",
       "      <th>chr</th>\n",
       "      <th>source</th>\n",
       "      <th>type</th>\n",
       "      <th>start</th>\n",
       "      <th>end</th>\n",
       "      <th>score</th>\n",
       "      <th>strand</th>\n",
       "      <th>phase</th>\n",
       "      <th>attributes</th>\n",
       "    </tr>\n",
       "  </thead>\n",
       "  <tbody>\n",
       "    <tr>\n",
       "      <th>0</th>\n",
       "      <td>chr1H</td>\n",
       "      <td>PGSBv2.28112019</td>\n",
       "      <td>gene</td>\n",
       "      <td>5070</td>\n",
       "      <td>8545</td>\n",
       "      <td>2072.693</td>\n",
       "      <td>+</td>\n",
       "      <td>.</td>\n",
       "      <td>ID=Horvu_AKASHIN_1H01G000100</td>\n",
       "    </tr>\n",
       "    <tr>\n",
       "      <th>1</th>\n",
       "      <td>chr1H</td>\n",
       "      <td>PGSBv2.28112019</td>\n",
       "      <td>mRNA</td>\n",
       "      <td>5070</td>\n",
       "      <td>8545</td>\n",
       "      <td>.</td>\n",
       "      <td>+</td>\n",
       "      <td>.</td>\n",
       "      <td>ID=Horvu_AKASHIN_1H01G000100.1</td>\n",
       "    </tr>\n",
       "    <tr>\n",
       "      <th>2</th>\n",
       "      <td>chr1H</td>\n",
       "      <td>PGSBv2.28112019</td>\n",
       "      <td>exon</td>\n",
       "      <td>5070</td>\n",
       "      <td>5510</td>\n",
       "      <td>.</td>\n",
       "      <td>+</td>\n",
       "      <td>.</td>\n",
       "      <td>ID=Horvu_AKASHIN_1H01G000100.1_exon_1</td>\n",
       "    </tr>\n",
       "    <tr>\n",
       "      <th>3</th>\n",
       "      <td>chr1H</td>\n",
       "      <td>PGSBv2.28112019</td>\n",
       "      <td>exon</td>\n",
       "      <td>7916</td>\n",
       "      <td>8545</td>\n",
       "      <td>.</td>\n",
       "      <td>+</td>\n",
       "      <td>.</td>\n",
       "      <td>ID=Horvu_AKASHIN_1H01G000100.1_exon_2</td>\n",
       "    </tr>\n",
       "    <tr>\n",
       "      <th>4</th>\n",
       "      <td>chr1H</td>\n",
       "      <td>PGSBv2.28112019</td>\n",
       "      <td>CDS</td>\n",
       "      <td>5070</td>\n",
       "      <td>5510</td>\n",
       "      <td>.</td>\n",
       "      <td>+</td>\n",
       "      <td>0</td>\n",
       "      <td>Parent=Horvu_AKASHIN_1H01G000100.1</td>\n",
       "    </tr>\n",
       "  </tbody>\n",
       "</table>\n",
       "</div>"
      ],
      "text/plain": [
       "     chr           source  type  start   end     score strand phase  \\\n",
       "0  chr1H  PGSBv2.28112019  gene   5070  8545  2072.693      +     .   \n",
       "1  chr1H  PGSBv2.28112019  mRNA   5070  8545         .      +     .   \n",
       "2  chr1H  PGSBv2.28112019  exon   5070  5510         .      +     .   \n",
       "3  chr1H  PGSBv2.28112019  exon   7916  8545         .      +     .   \n",
       "4  chr1H  PGSBv2.28112019   CDS   5070  5510         .      +     0   \n",
       "\n",
       "                              attributes  \n",
       "0           ID=Horvu_AKASHIN_1H01G000100  \n",
       "1         ID=Horvu_AKASHIN_1H01G000100.1  \n",
       "2  ID=Horvu_AKASHIN_1H01G000100.1_exon_1  \n",
       "3  ID=Horvu_AKASHIN_1H01G000100.1_exon_2  \n",
       "4     Parent=Horvu_AKASHIN_1H01G000100.1  "
      ]
     },
     "execution_count": 95,
     "metadata": {},
     "output_type": "execute_result"
    }
   ],
   "source": [
    "### --- Keeping in a separated dataframe the forward strands\n",
    "forw_Akashinriki = df_Akashinriki.loc[df_Akashinriki['strand'].isin(['+'])]\n",
    "forw_Akashinriki.head()"
   ]
  },
  {
   "cell_type": "code",
   "execution_count": 96,
   "metadata": {},
   "outputs": [
    {
     "data": {
      "text/html": [
       "<div>\n",
       "<style scoped>\n",
       "    .dataframe tbody tr th:only-of-type {\n",
       "        vertical-align: middle;\n",
       "    }\n",
       "\n",
       "    .dataframe tbody tr th {\n",
       "        vertical-align: top;\n",
       "    }\n",
       "\n",
       "    .dataframe thead th {\n",
       "        text-align: right;\n",
       "    }\n",
       "</style>\n",
       "<table border=\"1\" class=\"dataframe\">\n",
       "  <thead>\n",
       "    <tr style=\"text-align: right;\">\n",
       "      <th></th>\n",
       "      <th>chr</th>\n",
       "      <th>source</th>\n",
       "      <th>type</th>\n",
       "      <th>start</th>\n",
       "      <th>end</th>\n",
       "      <th>score</th>\n",
       "      <th>strand</th>\n",
       "      <th>phase</th>\n",
       "      <th>attributes</th>\n",
       "    </tr>\n",
       "  </thead>\n",
       "  <tbody>\n",
       "    <tr>\n",
       "      <th>6</th>\n",
       "      <td>chr1H</td>\n",
       "      <td>PGSBv2.28112019</td>\n",
       "      <td>gene</td>\n",
       "      <td>11804</td>\n",
       "      <td>19027</td>\n",
       "      <td>2763.311</td>\n",
       "      <td>-</td>\n",
       "      <td>.</td>\n",
       "      <td>ID=Horvu_AKASHIN_1H01G000200</td>\n",
       "    </tr>\n",
       "    <tr>\n",
       "      <th>7</th>\n",
       "      <td>chr1H</td>\n",
       "      <td>PGSBv2.28112019</td>\n",
       "      <td>mRNA</td>\n",
       "      <td>11804</td>\n",
       "      <td>19027</td>\n",
       "      <td>.</td>\n",
       "      <td>-</td>\n",
       "      <td>.</td>\n",
       "      <td>ID=Horvu_AKASHIN_1H01G000200.1</td>\n",
       "    </tr>\n",
       "    <tr>\n",
       "      <th>8</th>\n",
       "      <td>chr1H</td>\n",
       "      <td>PGSBv2.28112019</td>\n",
       "      <td>exon</td>\n",
       "      <td>11804</td>\n",
       "      <td>11974</td>\n",
       "      <td>.</td>\n",
       "      <td>-</td>\n",
       "      <td>.</td>\n",
       "      <td>ID=Horvu_AKASHIN_1H01G000200.1_exon_10</td>\n",
       "    </tr>\n",
       "    <tr>\n",
       "      <th>9</th>\n",
       "      <td>chr1H</td>\n",
       "      <td>PGSBv2.28112019</td>\n",
       "      <td>exon</td>\n",
       "      <td>12724</td>\n",
       "      <td>12861</td>\n",
       "      <td>.</td>\n",
       "      <td>-</td>\n",
       "      <td>.</td>\n",
       "      <td>ID=Horvu_AKASHIN_1H01G000200.1_exon_9</td>\n",
       "    </tr>\n",
       "    <tr>\n",
       "      <th>10</th>\n",
       "      <td>chr1H</td>\n",
       "      <td>PGSBv2.28112019</td>\n",
       "      <td>exon</td>\n",
       "      <td>13031</td>\n",
       "      <td>13250</td>\n",
       "      <td>.</td>\n",
       "      <td>-</td>\n",
       "      <td>.</td>\n",
       "      <td>ID=Horvu_AKASHIN_1H01G000200.1_exon_8</td>\n",
       "    </tr>\n",
       "  </tbody>\n",
       "</table>\n",
       "</div>"
      ],
      "text/plain": [
       "      chr           source  type  start    end     score strand phase  \\\n",
       "6   chr1H  PGSBv2.28112019  gene  11804  19027  2763.311      -     .   \n",
       "7   chr1H  PGSBv2.28112019  mRNA  11804  19027         .      -     .   \n",
       "8   chr1H  PGSBv2.28112019  exon  11804  11974         .      -     .   \n",
       "9   chr1H  PGSBv2.28112019  exon  12724  12861         .      -     .   \n",
       "10  chr1H  PGSBv2.28112019  exon  13031  13250         .      -     .   \n",
       "\n",
       "                                attributes  \n",
       "6             ID=Horvu_AKASHIN_1H01G000200  \n",
       "7           ID=Horvu_AKASHIN_1H01G000200.1  \n",
       "8   ID=Horvu_AKASHIN_1H01G000200.1_exon_10  \n",
       "9    ID=Horvu_AKASHIN_1H01G000200.1_exon_9  \n",
       "10   ID=Horvu_AKASHIN_1H01G000200.1_exon_8  "
      ]
     },
     "execution_count": 96,
     "metadata": {},
     "output_type": "execute_result"
    }
   ],
   "source": [
    "### --- Keeping in a separated dataframe the reverse strands\n",
    "rev_Akashinriki = df_Akashinriki.loc[df_Akashinriki['strand'].isin(['-'])]\n",
    "rev_Akashinriki.head()"
   ]
  },
  {
   "cell_type": "code",
   "execution_count": 97,
   "metadata": {},
   "outputs": [
    {
     "data": {
      "text/html": [
       "<div>\n",
       "<style scoped>\n",
       "    .dataframe tbody tr th:only-of-type {\n",
       "        vertical-align: middle;\n",
       "    }\n",
       "\n",
       "    .dataframe tbody tr th {\n",
       "        vertical-align: top;\n",
       "    }\n",
       "\n",
       "    .dataframe thead th {\n",
       "        text-align: right;\n",
       "    }\n",
       "</style>\n",
       "<table border=\"1\" class=\"dataframe\">\n",
       "  <thead>\n",
       "    <tr style=\"text-align: right;\">\n",
       "      <th></th>\n",
       "      <th>chr</th>\n",
       "      <th>source</th>\n",
       "      <th>type</th>\n",
       "      <th>start</th>\n",
       "      <th>end</th>\n",
       "      <th>score</th>\n",
       "      <th>strand</th>\n",
       "      <th>phase</th>\n",
       "      <th>attributes</th>\n",
       "    </tr>\n",
       "  </thead>\n",
       "  <tbody>\n",
       "  </tbody>\n",
       "</table>\n",
       "</div>"
      ],
      "text/plain": [
       "Empty DataFrame\n",
       "Columns: [chr, source, type, start, end, score, strand, phase, attributes]\n",
       "Index: []"
      ]
     },
     "execution_count": 97,
     "metadata": {},
     "output_type": "execute_result"
    }
   ],
   "source": [
    "### --- Keeping in a separated dataframe the UTR regions on the forward strands\n",
    "UTR_forw_Akashinriki = forw_Akashinriki.loc[df_Akashinriki['type'].isin(['three_prime_UTR','five_prime_UTR'])]\n",
    "UTR_forw_Akashinriki.head()\n"
   ]
  },
  {
   "cell_type": "code",
   "execution_count": 98,
   "metadata": {},
   "outputs": [
    {
     "data": {
      "text/html": [
       "<div>\n",
       "<style scoped>\n",
       "    .dataframe tbody tr th:only-of-type {\n",
       "        vertical-align: middle;\n",
       "    }\n",
       "\n",
       "    .dataframe tbody tr th {\n",
       "        vertical-align: top;\n",
       "    }\n",
       "\n",
       "    .dataframe thead th {\n",
       "        text-align: right;\n",
       "    }\n",
       "</style>\n",
       "<table border=\"1\" class=\"dataframe\">\n",
       "  <thead>\n",
       "    <tr style=\"text-align: right;\">\n",
       "      <th></th>\n",
       "      <th>chr</th>\n",
       "      <th>source</th>\n",
       "      <th>type</th>\n",
       "      <th>start</th>\n",
       "      <th>end</th>\n",
       "      <th>score</th>\n",
       "      <th>strand</th>\n",
       "      <th>phase</th>\n",
       "      <th>attributes</th>\n",
       "    </tr>\n",
       "  </thead>\n",
       "  <tbody>\n",
       "  </tbody>\n",
       "</table>\n",
       "</div>"
      ],
      "text/plain": [
       "Empty DataFrame\n",
       "Columns: [chr, source, type, start, end, score, strand, phase, attributes]\n",
       "Index: []"
      ]
     },
     "execution_count": 98,
     "metadata": {},
     "output_type": "execute_result"
    }
   ],
   "source": [
    "### --- Keeping in a separated dataframe the UTR regions on the reverse strands\n",
    "UTR_rev_Akashinriki = rev_Akashinriki.loc[df_Akashinriki['type'].isin(['three_prime_UTR','five_prime_UTR'])]\n",
    "UTR_rev_Akashinriki.head()"
   ]
  },
  {
   "cell_type": "markdown",
   "metadata": {},
   "source": [
    "Still no UTRs."
   ]
  },
  {
   "cell_type": "markdown",
   "metadata": {},
   "source": [
    "### 3.5.3 Extracting introns from the whole genome"
   ]
  },
  {
   "cell_type": "code",
   "execution_count": 106,
   "metadata": {},
   "outputs": [],
   "source": [
    "### --- Extracting introns from Akashinriki\n",
    "extract_tot_introns_gp('Data/Akashinriki_exon.tsv', 'Output/Akashinriki_introns.tsv')"
   ]
  },
  {
   "cell_type": "code",
   "execution_count": 107,
   "metadata": {
    "scrolled": true
   },
   "outputs": [
    {
     "data": {
      "text/html": [
       "<div>\n",
       "<style scoped>\n",
       "    .dataframe tbody tr th:only-of-type {\n",
       "        vertical-align: middle;\n",
       "    }\n",
       "\n",
       "    .dataframe tbody tr th {\n",
       "        vertical-align: top;\n",
       "    }\n",
       "\n",
       "    .dataframe thead th {\n",
       "        text-align: right;\n",
       "    }\n",
       "</style>\n",
       "<table border=\"1\" class=\"dataframe\">\n",
       "  <thead>\n",
       "    <tr style=\"text-align: right;\">\n",
       "      <th></th>\n",
       "      <th>ID</th>\n",
       "      <th>type</th>\n",
       "      <th>start</th>\n",
       "      <th>end</th>\n",
       "      <th>length</th>\n",
       "    </tr>\n",
       "  </thead>\n",
       "  <tbody>\n",
       "    <tr>\n",
       "      <th>0</th>\n",
       "      <td>ID=Horvu_AKASHIN_1H01G000100.1</td>\n",
       "      <td>intron</td>\n",
       "      <td>5511</td>\n",
       "      <td>7915</td>\n",
       "      <td>2406</td>\n",
       "    </tr>\n",
       "    <tr>\n",
       "      <th>1</th>\n",
       "      <td>ID=Horvu_AKASHIN_1H01G000200.1</td>\n",
       "      <td>intron</td>\n",
       "      <td>11975</td>\n",
       "      <td>12723</td>\n",
       "      <td>750</td>\n",
       "    </tr>\n",
       "    <tr>\n",
       "      <th>2</th>\n",
       "      <td>ID=Horvu_AKASHIN_1H01G000200.1</td>\n",
       "      <td>intron</td>\n",
       "      <td>12862</td>\n",
       "      <td>13030</td>\n",
       "      <td>170</td>\n",
       "    </tr>\n",
       "    <tr>\n",
       "      <th>3</th>\n",
       "      <td>ID=Horvu_AKASHIN_1H01G000200.1</td>\n",
       "      <td>intron</td>\n",
       "      <td>13251</td>\n",
       "      <td>13592</td>\n",
       "      <td>343</td>\n",
       "    </tr>\n",
       "    <tr>\n",
       "      <th>4</th>\n",
       "      <td>ID=Horvu_AKASHIN_1H01G000200.1</td>\n",
       "      <td>intron</td>\n",
       "      <td>13663</td>\n",
       "      <td>13752</td>\n",
       "      <td>91</td>\n",
       "    </tr>\n",
       "    <tr>\n",
       "      <th>...</th>\n",
       "      <td>...</td>\n",
       "      <td>...</td>\n",
       "      <td>...</td>\n",
       "      <td>...</td>\n",
       "      <td>...</td>\n",
       "    </tr>\n",
       "    <tr>\n",
       "      <th>95</th>\n",
       "      <td>ID=Horvu_AKASHIN_1H01G002700.1</td>\n",
       "      <td>intron</td>\n",
       "      <td>1077104</td>\n",
       "      <td>1077194</td>\n",
       "      <td>92</td>\n",
       "    </tr>\n",
       "    <tr>\n",
       "      <th>96</th>\n",
       "      <td>ID=Horvu_AKASHIN_1H01G002700.1</td>\n",
       "      <td>intron</td>\n",
       "      <td>1077284</td>\n",
       "      <td>1077699</td>\n",
       "      <td>417</td>\n",
       "    </tr>\n",
       "    <tr>\n",
       "      <th>97</th>\n",
       "      <td>ID=Horvu_AKASHIN_1H01G002700.1</td>\n",
       "      <td>intron</td>\n",
       "      <td>1077820</td>\n",
       "      <td>1077907</td>\n",
       "      <td>89</td>\n",
       "    </tr>\n",
       "    <tr>\n",
       "      <th>98</th>\n",
       "      <td>ID=Horvu_AKASHIN_1H01G002700.1</td>\n",
       "      <td>intron</td>\n",
       "      <td>1077979</td>\n",
       "      <td>1078194</td>\n",
       "      <td>217</td>\n",
       "    </tr>\n",
       "    <tr>\n",
       "      <th>99</th>\n",
       "      <td>ID=Horvu_AKASHIN_1H01G002700.1</td>\n",
       "      <td>intron</td>\n",
       "      <td>1078244</td>\n",
       "      <td>1078508</td>\n",
       "      <td>266</td>\n",
       "    </tr>\n",
       "  </tbody>\n",
       "</table>\n",
       "<p>100 rows × 5 columns</p>\n",
       "</div>"
      ],
      "text/plain": [
       "                                ID     type    start      end  length\n",
       "0   ID=Horvu_AKASHIN_1H01G000100.1  intron      5511     7915    2406\n",
       "1   ID=Horvu_AKASHIN_1H01G000200.1  intron     11975    12723     750\n",
       "2   ID=Horvu_AKASHIN_1H01G000200.1  intron     12862    13030     170\n",
       "3   ID=Horvu_AKASHIN_1H01G000200.1  intron     13251    13592     343\n",
       "4   ID=Horvu_AKASHIN_1H01G000200.1  intron     13663    13752      91\n",
       "..                             ...      ...      ...      ...     ...\n",
       "95  ID=Horvu_AKASHIN_1H01G002700.1  intron   1077104  1077194      92\n",
       "96  ID=Horvu_AKASHIN_1H01G002700.1  intron   1077284  1077699     417\n",
       "97  ID=Horvu_AKASHIN_1H01G002700.1  intron   1077820  1077907      89\n",
       "98  ID=Horvu_AKASHIN_1H01G002700.1  intron   1077979  1078194     217\n",
       "99  ID=Horvu_AKASHIN_1H01G002700.1  intron   1078244  1078508     266\n",
       "\n",
       "[100 rows x 5 columns]"
      ]
     },
     "execution_count": 107,
     "metadata": {},
     "output_type": "execute_result"
    }
   ],
   "source": [
    "introns_Akashinriki = pd.read_csv('Output/Akashinriki_introns.tsv', sep = '\\t')\n",
    "introns_Akashinriki[:100]"
   ]
  },
  {
   "cell_type": "code",
   "execution_count": 110,
   "metadata": {},
   "outputs": [],
   "source": [
    "### --- Counting introns type in Akashinriki\n",
    "introns_dictionary_Akashinriki = counting_introns_type_gp(exon_Akashinriki)"
   ]
  },
  {
   "cell_type": "code",
   "execution_count": 111,
   "metadata": {},
   "outputs": [
    {
     "name": "stdout",
     "output_type": "stream",
     "text": [
      "Intronless are: 16635\n",
      "Intronpoor are: 18474\n",
      "Intronrich are: 12050\n"
     ]
    }
   ],
   "source": [
    "n_intronless_Akashinriki, n_intronpoor_Akashinriki, n_intronrich_Akashinriki, intronless_Akashinriki, intronpoor_Akashinriki, intronrich_Akashinriki = splitting_introns_type(introns_dictionary_Akashinriki)"
   ]
  },
  {
   "cell_type": "code",
   "execution_count": 112,
   "metadata": {},
   "outputs": [
    {
     "data": {
      "image/png": "[encoded data removed]",
      "text/plain": [
       "<Figure size 720x504 with 1 Axes>"
      ]
     },
     "metadata": {},
     "output_type": "display_data"
    }
   ],
   "source": [
    "genes = ['Intronless', 'Intronpoor', 'Intronrich']\n",
    "data_Akashinriki = [16635, 18474, 12050]\n",
    "fig = plt.figure(figsize =(10, 7))\n",
    "plt.pie(data_Akashinriki, labels = genes, autopct='%1.0f%%')\n",
    "plt.title(\"Genes Akashinriki Distribution\", bbox={'facecolor':'0.8', 'pad':5})\n",
    "plt.show()"
   ]
  },
  {
   "cell_type": "code",
   "execution_count": 113,
   "metadata": {},
   "outputs": [],
   "source": [
    "### --- Creating the list of Akashinriki gene IDs to check the number of transcripts using command line\n",
    "intronless_file_Akashinriki = open('Output/Akashinriki_intronlessIDs.txt', 'a')\n",
    "intronpoor_file_Akashinriki = open('Output/Akashinriki_intronpoorIDs.txt', 'a')\n",
    "intronrich_file_Akashinriki = open('Output/Akashinriki_intronrichIDs.txt', 'a')\n",
    "for i in range(len(intronless_Akashinriki)):\n",
    "    if i == len(intronless_Akashinriki) -1:\n",
    "        intronless_file_Akashinriki.write(intronless_Akashinriki[i])\n",
    "    else:\n",
    "        intronless_file_Akashinriki.write(intronless_Akashinriki[i] + '\\n')\n",
    "intronless_file_Akashinriki.close()\n",
    "\n",
    "for i in range(len(intronpoor_Akashinriki)):\n",
    "    if i == len(intronpoor_Akashinriki) -1:\n",
    "        intronpoor_file_Akashinriki.write(intronpoor_Akashinriki[i])\n",
    "    else:\n",
    "        intronpoor_file_Akashinriki.write(intronpoor_Akashinriki[i] + '\\n')\n",
    "intronpoor_file_Akashinriki.close()\n",
    "\n",
    "for i in range(len(intronrich_Akashinriki)):\n",
    "    if i == len(intronrich_Akashinriki) -1:\n",
    "        intronrich_file_Akashinriki.write(intronrich_Akashinriki[i])\n",
    "    else:\n",
    "        intronrich_file_Akashinriki.write(intronrich_Akashinriki[i]+'\\n')\n",
    "intronrich_file_Akashinriki.close()"
   ]
  },
  {
   "cell_type": "code",
   "execution_count": 114,
   "metadata": {},
   "outputs": [],
   "source": [
    "### --- Storing the number of transcripts in intron-less/poor/rich genes within a variable \n",
    "n_mRNA_intronless_Akashinriki = ! grep -f Output/Akashinriki_intronlessIDs.txt Data/Akashinriki_nohashtag.gff3 | awk -F '\\t' '{print $3}' | grep -w 'mRNA' | wc -l\n",
    "n_mRNA_intronpoor_Akashinriki = ! grep -f Output/Akashinriki_intronpoorIDs.txt Data/Akashinriki_nohashtag.gff3 | awk -F '\\t' '{print $3}' | grep -w 'mRNA' | wc -l\n",
    "n_mRNA_intronrich_Akashinriki = ! grep -f Output/Akashinriki_intronrichIDs.txt Data/Akashinriki_nohashtag.gff3 | awk -F '\\t' '{print $3}' | grep -w 'mRNA' | wc -l"
   ]
  },
  {
   "cell_type": "code",
   "execution_count": 115,
   "metadata": {
    "scrolled": true
   },
   "outputs": [
    {
     "name": "stdout",
     "output_type": "stream",
     "text": [
      "1.0\n",
      "1.0\n",
      "1.0\n"
     ]
    }
   ],
   "source": [
    "### --- Checking the average number of transcripts for each gene-type\n",
    "avg_mRNA_intronless_Akashinriki = int(n_mRNA_intronless_Akashinriki[0])/n_intronless_Akashinriki\n",
    "print(avg_mRNA_intronless_Akashinriki)\n",
    "avg_mRNA_intronpoor_Akashinriki = int(n_mRNA_intronpoor_Akashinriki[0])/n_intronpoor_Akashinriki\n",
    "print(avg_mRNA_intronpoor_Akashinriki)\n",
    "avg_mRNA_intronrich_Akashinriki = int(n_mRNA_intronrich_Akashinriki[0])/n_intronrich_Akashinriki\n",
    "print(avg_mRNA_intronrich_Akashinriki)"
   ]
  },
  {
   "cell_type": "markdown",
   "metadata": {},
   "source": [
    "Still no alternative splicing annotated."
   ]
  },
  {
   "cell_type": "code",
   "execution_count": 116,
   "metadata": {},
   "outputs": [
    {
     "data": {
      "text/plain": [
       "count    130501.000000\n",
       "mean        601.838507\n",
       "std        2340.509460\n",
       "min           1.000000\n",
       "25%          91.000000\n",
       "50%         124.000000\n",
       "75%         424.000000\n",
       "max      242106.000000\n",
       "Name: length, dtype: float64"
      ]
     },
     "execution_count": 116,
     "metadata": {},
     "output_type": "execute_result"
    }
   ],
   "source": [
    "### --- Basic statistics of Akashinriki introns\n",
    "introns_Akashinriki['length'].describe()"
   ]
  },
  {
   "cell_type": "code",
   "execution_count": 117,
   "metadata": {},
   "outputs": [
    {
     "data": {
      "text/plain": [
       "<AxesSubplot:ylabel='Density'>"
      ]
     },
     "execution_count": 117,
     "metadata": {},
     "output_type": "execute_result"
    },
    {
     "data": {
      "image/png": "[encoded data removed]",
      "text/plain": [
       "<Figure size 432x288 with 1 Axes>"
      ]
     },
     "metadata": {
      "needs_background": "light"
     },
     "output_type": "display_data"
    }
   ],
   "source": [
    "### --- Plotting the distribution of Akashinriki introns length\n",
    "introns_Akashinriki['length'].plot.density()"
   ]
  },
  {
   "cell_type": "code",
   "execution_count": 118,
   "metadata": {},
   "outputs": [
    {
     "data": {
      "text/plain": [
       "<AxesSubplot:>"
      ]
     },
     "execution_count": 118,
     "metadata": {},
     "output_type": "execute_result"
    },
    {
     "data": {
      "image/png": "[encoded data removed]",
      "text/plain": [
       "<Figure size 432x288 with 1 Axes>"
      ]
     },
     "metadata": {
      "needs_background": "light"
     },
     "output_type": "display_data"
    }
   ],
   "source": [
    "### --- Plotting the boxplot of Akashinriki introns length without outliers\n",
    "introns_Akashinriki.boxplot(column='length', return_type='axes', showfliers=False) # showfliers = False -> discard outliers"
   ]
  },
  {
   "cell_type": "markdown",
   "metadata": {},
   "source": [
    "### 3.5.4 Re-organizing files and directories"
   ]
  },
  {
   "cell_type": "code",
   "execution_count": 121,
   "metadata": {},
   "outputs": [
    {
     "name": "stdout",
     "output_type": "stream",
     "text": [
      "Akashinriki_exon.tsv\t   Akashinriki_nohashtag.gff3  HOR10350\t\t  Morex\r\n",
      "Akashinriki_nohashtag.csv  Barke\t\t       Hv_Morex_longread  raw\r\n"
     ]
    }
   ],
   "source": [
    "! ls Data/"
   ]
  },
  {
   "cell_type": "code",
   "execution_count": 124,
   "metadata": {},
   "outputs": [],
   "source": [
    "! mkdir Data/Akashinriki "
   ]
  },
  {
   "cell_type": "code",
   "execution_count": 125,
   "metadata": {},
   "outputs": [],
   "source": [
    "! mv Data/Akashinriki_* Data/Akashinriki/"
   ]
  },
  {
   "cell_type": "code",
   "execution_count": 130,
   "metadata": {},
   "outputs": [
    {
     "name": "stdout",
     "output_type": "stream",
     "text": [
      "Akashinriki  Barke  HOR10350  Hv_Morex_longread  Morex\traw\r\n"
     ]
    }
   ],
   "source": [
    "! ls Data/"
   ]
  },
  {
   "cell_type": "code",
   "execution_count": 126,
   "metadata": {},
   "outputs": [
    {
     "name": "stdout",
     "output_type": "stream",
     "text": [
      "Akashinriki_intronlessIDs.txt  Akashinriki_introns.tsv\tHv_Morex_longread\r\n",
      "Akashinriki_intronpoorIDs.txt  Barke\t\t\tMorex\r\n",
      "Akashinriki_intronrichIDs.txt  HOR10350\r\n"
     ]
    }
   ],
   "source": [
    "! ls Output/ "
   ]
  },
  {
   "cell_type": "code",
   "execution_count": 127,
   "metadata": {},
   "outputs": [],
   "source": [
    "! mkdir Output/Akashinriki"
   ]
  },
  {
   "cell_type": "code",
   "execution_count": 128,
   "metadata": {},
   "outputs": [],
   "source": [
    "! mv Output/Akashinriki_* Output/Akashinriki/"
   ]
  },
  {
   "cell_type": "code",
   "execution_count": 129,
   "metadata": {},
   "outputs": [
    {
     "name": "stdout",
     "output_type": "stream",
     "text": [
      "Akashinriki  Barke  HOR10350  Hv_Morex_longread  Morex\r\n"
     ]
    }
   ],
   "source": [
    "! ls Output/"
   ]
  },
  {
   "cell_type": "markdown",
   "metadata": {},
   "source": [
    "## 3.6 B1K_04_12 - Gene projection"
   ]
  },
  {
   "cell_type": "markdown",
   "metadata": {},
   "source": [
    "### 3.6.1 Data collection"
   ]
  },
  {
   "cell_type": "code",
   "execution_count": 101,
   "metadata": {},
   "outputs": [
    {
     "name": "stdout",
     "output_type": "stream",
     "text": [
      "--2021-06-04 16:36:02--  https://doi.ipk-gatersleben.de/DOI/c4d433dc-bf7c-4ad9-9368-69bb77837ca5/0ae99eec-5c46-41b6-83ab-f7f4b4e2f86c/1/DOWNLOAD\n",
      "Resolving doi.ipk-gatersleben.de (doi.ipk-gatersleben.de)... 194.94.136.144\n",
      "Connecting to doi.ipk-gatersleben.de (doi.ipk-gatersleben.de)|194.94.136.144|:443... connected.\n",
      "HTTP request sent, awaiting response... 200 OK\n",
      "Length: 51759801 (49M) [text/plain]\n",
      "Saving to: ‘Data/raw/B1K.gff3’\n",
      "\n",
      "Data/raw/B1K.gff3   100%[===================>]  49,36M   860KB/s    in 65s     \n",
      "\n",
      "2021-06-04 16:37:07 (782 KB/s) - ‘Data/raw/B1K.gff3’ saved [51759801/51759801]\n",
      "\n"
     ]
    }
   ],
   "source": [
    "### --- This will download the raw data to the subdirectory raw under the directory Data\n",
    "! wget -O Data/raw/B1K.gff3 https://doi.ipk-gatersleben.de/DOI/c4d433dc-bf7c-4ad9-9368-69bb77837ca5/0ae99eec-5c46-41b6-83ab-f7f4b4e2f86c/1/DOWNLOAD"
   ]
  },
  {
   "cell_type": "markdown",
   "metadata": {},
   "source": [
    "### 3.6.2 Processing Data"
   ]
  },
  {
   "cell_type": "code",
   "execution_count": 131,
   "metadata": {},
   "outputs": [],
   "source": [
    "### --- There is no need to import the libraries again\n",
    "# import pandas as pd\n",
    "# import numpy as np\n",
    "# import matplotlib.pyplot as plt"
   ]
  },
  {
   "cell_type": "code",
   "execution_count": 132,
   "metadata": {},
   "outputs": [],
   "source": [
    "### --- Removing all hashtags from the gff3 file\n",
    "! sed '/#/d' Data/raw/B1K.gff3  > Data/B1K_nohashtag.gff3"
   ]
  },
  {
   "cell_type": "code",
   "execution_count": 133,
   "metadata": {},
   "outputs": [],
   "source": [
    "### --- Changing the gff3 file to a csv format file to import it with pandas\n",
    "! cat Data/B1K_nohashtag.gff3 | sed 's/,/--/g' | sed 's/;/--/g' | sed 's/\\t/,/g' | awk -F '--' '{print $1}' > Data/B1K_nohashtag.csv"
   ]
  },
  {
   "cell_type": "code",
   "execution_count": 134,
   "metadata": {},
   "outputs": [
    {
     "data": {
      "text/html": [
       "<div>\n",
       "<style scoped>\n",
       "    .dataframe tbody tr th:only-of-type {\n",
       "        vertical-align: middle;\n",
       "    }\n",
       "\n",
       "    .dataframe tbody tr th {\n",
       "        vertical-align: top;\n",
       "    }\n",
       "\n",
       "    .dataframe thead th {\n",
       "        text-align: right;\n",
       "    }\n",
       "</style>\n",
       "<table border=\"1\" class=\"dataframe\">\n",
       "  <thead>\n",
       "    <tr style=\"text-align: right;\">\n",
       "      <th></th>\n",
       "      <th>chr</th>\n",
       "      <th>source</th>\n",
       "      <th>type</th>\n",
       "      <th>start</th>\n",
       "      <th>end</th>\n",
       "      <th>score</th>\n",
       "      <th>strand</th>\n",
       "      <th>phase</th>\n",
       "      <th>attributes</th>\n",
       "    </tr>\n",
       "  </thead>\n",
       "  <tbody>\n",
       "    <tr>\n",
       "      <th>0</th>\n",
       "      <td>chr1H</td>\n",
       "      <td>PGSBv2.28112019</td>\n",
       "      <td>gene</td>\n",
       "      <td>56490</td>\n",
       "      <td>65056</td>\n",
       "      <td>2821.964</td>\n",
       "      <td>-</td>\n",
       "      <td>.</td>\n",
       "      <td>ID=Horvu_FT11_1H01G000100</td>\n",
       "    </tr>\n",
       "    <tr>\n",
       "      <th>1</th>\n",
       "      <td>chr1H</td>\n",
       "      <td>PGSBv2.28112019</td>\n",
       "      <td>mRNA</td>\n",
       "      <td>56490</td>\n",
       "      <td>65056</td>\n",
       "      <td>.</td>\n",
       "      <td>-</td>\n",
       "      <td>.</td>\n",
       "      <td>ID=Horvu_FT11_1H01G000100.1</td>\n",
       "    </tr>\n",
       "    <tr>\n",
       "      <th>2</th>\n",
       "      <td>chr1H</td>\n",
       "      <td>PGSBv2.28112019</td>\n",
       "      <td>exon</td>\n",
       "      <td>56490</td>\n",
       "      <td>56618</td>\n",
       "      <td>.</td>\n",
       "      <td>-</td>\n",
       "      <td>.</td>\n",
       "      <td>ID=Horvu_FT11_1H01G000100.1_exon_10</td>\n",
       "    </tr>\n",
       "    <tr>\n",
       "      <th>3</th>\n",
       "      <td>chr1H</td>\n",
       "      <td>PGSBv2.28112019</td>\n",
       "      <td>exon</td>\n",
       "      <td>56624</td>\n",
       "      <td>56662</td>\n",
       "      <td>.</td>\n",
       "      <td>-</td>\n",
       "      <td>.</td>\n",
       "      <td>ID=Horvu_FT11_1H01G000100.1_exon_9</td>\n",
       "    </tr>\n",
       "    <tr>\n",
       "      <th>4</th>\n",
       "      <td>chr1H</td>\n",
       "      <td>PGSBv2.28112019</td>\n",
       "      <td>exon</td>\n",
       "      <td>56833</td>\n",
       "      <td>56970</td>\n",
       "      <td>.</td>\n",
       "      <td>-</td>\n",
       "      <td>.</td>\n",
       "      <td>ID=Horvu_FT11_1H01G000100.1_exon_8</td>\n",
       "    </tr>\n",
       "  </tbody>\n",
       "</table>\n",
       "</div>"
      ],
      "text/plain": [
       "     chr           source  type  start    end     score strand phase  \\\n",
       "0  chr1H  PGSBv2.28112019  gene  56490  65056  2821.964      -     .   \n",
       "1  chr1H  PGSBv2.28112019  mRNA  56490  65056         .      -     .   \n",
       "2  chr1H  PGSBv2.28112019  exon  56490  56618         .      -     .   \n",
       "3  chr1H  PGSBv2.28112019  exon  56624  56662         .      -     .   \n",
       "4  chr1H  PGSBv2.28112019  exon  56833  56970         .      -     .   \n",
       "\n",
       "                            attributes  \n",
       "0            ID=Horvu_FT11_1H01G000100  \n",
       "1          ID=Horvu_FT11_1H01G000100.1  \n",
       "2  ID=Horvu_FT11_1H01G000100.1_exon_10  \n",
       "3   ID=Horvu_FT11_1H01G000100.1_exon_9  \n",
       "4   ID=Horvu_FT11_1H01G000100.1_exon_8  "
      ]
     },
     "execution_count": 134,
     "metadata": {},
     "output_type": "execute_result"
    }
   ],
   "source": [
    "### --- Transforming the gff3 file to a pandas dataframe to better handle it\n",
    "df_B1K = pd.read_csv('Data/B1K_nohashtag.csv', header=None, names = ['chr', 'source', 'type','start','end','score','strand','phase','attributes'])\n",
    "df_B1K.head()"
   ]
  },
  {
   "cell_type": "code",
   "execution_count": 135,
   "metadata": {},
   "outputs": [
    {
     "data": {
      "text/html": [
       "<div>\n",
       "<style scoped>\n",
       "    .dataframe tbody tr th:only-of-type {\n",
       "        vertical-align: middle;\n",
       "    }\n",
       "\n",
       "    .dataframe tbody tr th {\n",
       "        vertical-align: top;\n",
       "    }\n",
       "\n",
       "    .dataframe thead th {\n",
       "        text-align: right;\n",
       "    }\n",
       "</style>\n",
       "<table border=\"1\" class=\"dataframe\">\n",
       "  <thead>\n",
       "    <tr style=\"text-align: right;\">\n",
       "      <th></th>\n",
       "      <th>chr</th>\n",
       "      <th>source</th>\n",
       "      <th>type</th>\n",
       "      <th>start</th>\n",
       "      <th>end</th>\n",
       "      <th>score</th>\n",
       "      <th>strand</th>\n",
       "      <th>phase</th>\n",
       "      <th>attributes</th>\n",
       "    </tr>\n",
       "  </thead>\n",
       "  <tbody>\n",
       "    <tr>\n",
       "      <th>2</th>\n",
       "      <td>chr1H</td>\n",
       "      <td>PGSBv2.28112019</td>\n",
       "      <td>exon</td>\n",
       "      <td>56490</td>\n",
       "      <td>56618</td>\n",
       "      <td>.</td>\n",
       "      <td>-</td>\n",
       "      <td>.</td>\n",
       "      <td>ID=Horvu_FT11_1H01G000100.1_exon_10</td>\n",
       "    </tr>\n",
       "    <tr>\n",
       "      <th>3</th>\n",
       "      <td>chr1H</td>\n",
       "      <td>PGSBv2.28112019</td>\n",
       "      <td>exon</td>\n",
       "      <td>56624</td>\n",
       "      <td>56662</td>\n",
       "      <td>.</td>\n",
       "      <td>-</td>\n",
       "      <td>.</td>\n",
       "      <td>ID=Horvu_FT11_1H01G000100.1_exon_9</td>\n",
       "    </tr>\n",
       "    <tr>\n",
       "      <th>4</th>\n",
       "      <td>chr1H</td>\n",
       "      <td>PGSBv2.28112019</td>\n",
       "      <td>exon</td>\n",
       "      <td>56833</td>\n",
       "      <td>56970</td>\n",
       "      <td>.</td>\n",
       "      <td>-</td>\n",
       "      <td>.</td>\n",
       "      <td>ID=Horvu_FT11_1H01G000100.1_exon_8</td>\n",
       "    </tr>\n",
       "    <tr>\n",
       "      <th>5</th>\n",
       "      <td>chr1H</td>\n",
       "      <td>PGSBv2.28112019</td>\n",
       "      <td>exon</td>\n",
       "      <td>57142</td>\n",
       "      <td>57357</td>\n",
       "      <td>.</td>\n",
       "      <td>-</td>\n",
       "      <td>.</td>\n",
       "      <td>ID=Horvu_FT11_1H01G000100.1_exon_7</td>\n",
       "    </tr>\n",
       "    <tr>\n",
       "      <th>6</th>\n",
       "      <td>chr1H</td>\n",
       "      <td>PGSBv2.28112019</td>\n",
       "      <td>exon</td>\n",
       "      <td>57703</td>\n",
       "      <td>57776</td>\n",
       "      <td>.</td>\n",
       "      <td>-</td>\n",
       "      <td>.</td>\n",
       "      <td>ID=Horvu_FT11_1H01G000100.1_exon_6</td>\n",
       "    </tr>\n",
       "  </tbody>\n",
       "</table>\n",
       "</div>"
      ],
      "text/plain": [
       "     chr           source  type  start    end score strand phase  \\\n",
       "2  chr1H  PGSBv2.28112019  exon  56490  56618     .      -     .   \n",
       "3  chr1H  PGSBv2.28112019  exon  56624  56662     .      -     .   \n",
       "4  chr1H  PGSBv2.28112019  exon  56833  56970     .      -     .   \n",
       "5  chr1H  PGSBv2.28112019  exon  57142  57357     .      -     .   \n",
       "6  chr1H  PGSBv2.28112019  exon  57703  57776     .      -     .   \n",
       "\n",
       "                            attributes  \n",
       "2  ID=Horvu_FT11_1H01G000100.1_exon_10  \n",
       "3   ID=Horvu_FT11_1H01G000100.1_exon_9  \n",
       "4   ID=Horvu_FT11_1H01G000100.1_exon_8  \n",
       "5   ID=Horvu_FT11_1H01G000100.1_exon_7  \n",
       "6   ID=Horvu_FT11_1H01G000100.1_exon_6  "
      ]
     },
     "execution_count": 135,
     "metadata": {},
     "output_type": "execute_result"
    }
   ],
   "source": [
    "### --- Building a separate dataframe containing all exons\n",
    "exon_B1K = df_B1K.loc[df_B1K['type'].isin(['exon'])]\n",
    "exon_B1K.head()"
   ]
  },
  {
   "cell_type": "code",
   "execution_count": 136,
   "metadata": {},
   "outputs": [],
   "source": [
    "### --- Exporting the exon dataframe to a tsv file \n",
    "exon_B1K.to_csv('Data/B1K_exon.tsv',sep='\\t',index=False,header=False)"
   ]
  },
  {
   "cell_type": "code",
   "execution_count": 137,
   "metadata": {},
   "outputs": [
    {
     "data": {
      "text/html": [
       "<div>\n",
       "<style scoped>\n",
       "    .dataframe tbody tr th:only-of-type {\n",
       "        vertical-align: middle;\n",
       "    }\n",
       "\n",
       "    .dataframe tbody tr th {\n",
       "        vertical-align: top;\n",
       "    }\n",
       "\n",
       "    .dataframe thead th {\n",
       "        text-align: right;\n",
       "    }\n",
       "</style>\n",
       "<table border=\"1\" class=\"dataframe\">\n",
       "  <thead>\n",
       "    <tr style=\"text-align: right;\">\n",
       "      <th></th>\n",
       "      <th>chr</th>\n",
       "      <th>source</th>\n",
       "      <th>type</th>\n",
       "      <th>start</th>\n",
       "      <th>end</th>\n",
       "      <th>score</th>\n",
       "      <th>strand</th>\n",
       "      <th>phase</th>\n",
       "      <th>attributes</th>\n",
       "    </tr>\n",
       "  </thead>\n",
       "  <tbody>\n",
       "    <tr>\n",
       "      <th>22</th>\n",
       "      <td>chr1H</td>\n",
       "      <td>PGSBv2.28112019</td>\n",
       "      <td>gene</td>\n",
       "      <td>76489</td>\n",
       "      <td>78121</td>\n",
       "      <td>2492.776</td>\n",
       "      <td>+</td>\n",
       "      <td>.</td>\n",
       "      <td>ID=Horvu_FT11_1H01G000200</td>\n",
       "    </tr>\n",
       "    <tr>\n",
       "      <th>23</th>\n",
       "      <td>chr1H</td>\n",
       "      <td>PGSBv2.28112019</td>\n",
       "      <td>mRNA</td>\n",
       "      <td>76489</td>\n",
       "      <td>78121</td>\n",
       "      <td>.</td>\n",
       "      <td>+</td>\n",
       "      <td>.</td>\n",
       "      <td>ID=Horvu_FT11_1H01G000200.1</td>\n",
       "    </tr>\n",
       "    <tr>\n",
       "      <th>24</th>\n",
       "      <td>chr1H</td>\n",
       "      <td>PGSBv2.28112019</td>\n",
       "      <td>exon</td>\n",
       "      <td>76489</td>\n",
       "      <td>76805</td>\n",
       "      <td>.</td>\n",
       "      <td>+</td>\n",
       "      <td>.</td>\n",
       "      <td>ID=Horvu_FT11_1H01G000200.1_exon_1</td>\n",
       "    </tr>\n",
       "    <tr>\n",
       "      <th>25</th>\n",
       "      <td>chr1H</td>\n",
       "      <td>PGSBv2.28112019</td>\n",
       "      <td>exon</td>\n",
       "      <td>77042</td>\n",
       "      <td>77213</td>\n",
       "      <td>.</td>\n",
       "      <td>+</td>\n",
       "      <td>.</td>\n",
       "      <td>ID=Horvu_FT11_1H01G000200.1_exon_2</td>\n",
       "    </tr>\n",
       "    <tr>\n",
       "      <th>26</th>\n",
       "      <td>chr1H</td>\n",
       "      <td>PGSBv2.28112019</td>\n",
       "      <td>exon</td>\n",
       "      <td>77295</td>\n",
       "      <td>77649</td>\n",
       "      <td>.</td>\n",
       "      <td>+</td>\n",
       "      <td>.</td>\n",
       "      <td>ID=Horvu_FT11_1H01G000200.1_exon_3</td>\n",
       "    </tr>\n",
       "  </tbody>\n",
       "</table>\n",
       "</div>"
      ],
      "text/plain": [
       "      chr           source  type  start    end     score strand phase  \\\n",
       "22  chr1H  PGSBv2.28112019  gene  76489  78121  2492.776      +     .   \n",
       "23  chr1H  PGSBv2.28112019  mRNA  76489  78121         .      +     .   \n",
       "24  chr1H  PGSBv2.28112019  exon  76489  76805         .      +     .   \n",
       "25  chr1H  PGSBv2.28112019  exon  77042  77213         .      +     .   \n",
       "26  chr1H  PGSBv2.28112019  exon  77295  77649         .      +     .   \n",
       "\n",
       "                            attributes  \n",
       "22           ID=Horvu_FT11_1H01G000200  \n",
       "23         ID=Horvu_FT11_1H01G000200.1  \n",
       "24  ID=Horvu_FT11_1H01G000200.1_exon_1  \n",
       "25  ID=Horvu_FT11_1H01G000200.1_exon_2  \n",
       "26  ID=Horvu_FT11_1H01G000200.1_exon_3  "
      ]
     },
     "execution_count": 137,
     "metadata": {},
     "output_type": "execute_result"
    }
   ],
   "source": [
    "### --- Keeping in a separated dataframe the forward strands\n",
    "forw_B1K = df_B1K.loc[df_B1K['strand'].isin(['+'])]\n",
    "forw_B1K.head()"
   ]
  },
  {
   "cell_type": "code",
   "execution_count": 138,
   "metadata": {},
   "outputs": [
    {
     "data": {
      "text/html": [
       "<div>\n",
       "<style scoped>\n",
       "    .dataframe tbody tr th:only-of-type {\n",
       "        vertical-align: middle;\n",
       "    }\n",
       "\n",
       "    .dataframe tbody tr th {\n",
       "        vertical-align: top;\n",
       "    }\n",
       "\n",
       "    .dataframe thead th {\n",
       "        text-align: right;\n",
       "    }\n",
       "</style>\n",
       "<table border=\"1\" class=\"dataframe\">\n",
       "  <thead>\n",
       "    <tr style=\"text-align: right;\">\n",
       "      <th></th>\n",
       "      <th>chr</th>\n",
       "      <th>source</th>\n",
       "      <th>type</th>\n",
       "      <th>start</th>\n",
       "      <th>end</th>\n",
       "      <th>score</th>\n",
       "      <th>strand</th>\n",
       "      <th>phase</th>\n",
       "      <th>attributes</th>\n",
       "    </tr>\n",
       "  </thead>\n",
       "  <tbody>\n",
       "    <tr>\n",
       "      <th>0</th>\n",
       "      <td>chr1H</td>\n",
       "      <td>PGSBv2.28112019</td>\n",
       "      <td>gene</td>\n",
       "      <td>56490</td>\n",
       "      <td>65056</td>\n",
       "      <td>2821.964</td>\n",
       "      <td>-</td>\n",
       "      <td>.</td>\n",
       "      <td>ID=Horvu_FT11_1H01G000100</td>\n",
       "    </tr>\n",
       "    <tr>\n",
       "      <th>1</th>\n",
       "      <td>chr1H</td>\n",
       "      <td>PGSBv2.28112019</td>\n",
       "      <td>mRNA</td>\n",
       "      <td>56490</td>\n",
       "      <td>65056</td>\n",
       "      <td>.</td>\n",
       "      <td>-</td>\n",
       "      <td>.</td>\n",
       "      <td>ID=Horvu_FT11_1H01G000100.1</td>\n",
       "    </tr>\n",
       "    <tr>\n",
       "      <th>2</th>\n",
       "      <td>chr1H</td>\n",
       "      <td>PGSBv2.28112019</td>\n",
       "      <td>exon</td>\n",
       "      <td>56490</td>\n",
       "      <td>56618</td>\n",
       "      <td>.</td>\n",
       "      <td>-</td>\n",
       "      <td>.</td>\n",
       "      <td>ID=Horvu_FT11_1H01G000100.1_exon_10</td>\n",
       "    </tr>\n",
       "    <tr>\n",
       "      <th>3</th>\n",
       "      <td>chr1H</td>\n",
       "      <td>PGSBv2.28112019</td>\n",
       "      <td>exon</td>\n",
       "      <td>56624</td>\n",
       "      <td>56662</td>\n",
       "      <td>.</td>\n",
       "      <td>-</td>\n",
       "      <td>.</td>\n",
       "      <td>ID=Horvu_FT11_1H01G000100.1_exon_9</td>\n",
       "    </tr>\n",
       "    <tr>\n",
       "      <th>4</th>\n",
       "      <td>chr1H</td>\n",
       "      <td>PGSBv2.28112019</td>\n",
       "      <td>exon</td>\n",
       "      <td>56833</td>\n",
       "      <td>56970</td>\n",
       "      <td>.</td>\n",
       "      <td>-</td>\n",
       "      <td>.</td>\n",
       "      <td>ID=Horvu_FT11_1H01G000100.1_exon_8</td>\n",
       "    </tr>\n",
       "  </tbody>\n",
       "</table>\n",
       "</div>"
      ],
      "text/plain": [
       "     chr           source  type  start    end     score strand phase  \\\n",
       "0  chr1H  PGSBv2.28112019  gene  56490  65056  2821.964      -     .   \n",
       "1  chr1H  PGSBv2.28112019  mRNA  56490  65056         .      -     .   \n",
       "2  chr1H  PGSBv2.28112019  exon  56490  56618         .      -     .   \n",
       "3  chr1H  PGSBv2.28112019  exon  56624  56662         .      -     .   \n",
       "4  chr1H  PGSBv2.28112019  exon  56833  56970         .      -     .   \n",
       "\n",
       "                            attributes  \n",
       "0            ID=Horvu_FT11_1H01G000100  \n",
       "1          ID=Horvu_FT11_1H01G000100.1  \n",
       "2  ID=Horvu_FT11_1H01G000100.1_exon_10  \n",
       "3   ID=Horvu_FT11_1H01G000100.1_exon_9  \n",
       "4   ID=Horvu_FT11_1H01G000100.1_exon_8  "
      ]
     },
     "execution_count": 138,
     "metadata": {},
     "output_type": "execute_result"
    }
   ],
   "source": [
    "### --- Keeping in a separated dataframe the reverse strands\n",
    "rev_B1K = df_B1K.loc[df_B1K['strand'].isin(['-'])]\n",
    "rev_B1K.head()"
   ]
  },
  {
   "cell_type": "code",
   "execution_count": 139,
   "metadata": {},
   "outputs": [
    {
     "data": {
      "text/html": [
       "<div>\n",
       "<style scoped>\n",
       "    .dataframe tbody tr th:only-of-type {\n",
       "        vertical-align: middle;\n",
       "    }\n",
       "\n",
       "    .dataframe tbody tr th {\n",
       "        vertical-align: top;\n",
       "    }\n",
       "\n",
       "    .dataframe thead th {\n",
       "        text-align: right;\n",
       "    }\n",
       "</style>\n",
       "<table border=\"1\" class=\"dataframe\">\n",
       "  <thead>\n",
       "    <tr style=\"text-align: right;\">\n",
       "      <th></th>\n",
       "      <th>chr</th>\n",
       "      <th>source</th>\n",
       "      <th>type</th>\n",
       "      <th>start</th>\n",
       "      <th>end</th>\n",
       "      <th>score</th>\n",
       "      <th>strand</th>\n",
       "      <th>phase</th>\n",
       "      <th>attributes</th>\n",
       "    </tr>\n",
       "  </thead>\n",
       "  <tbody>\n",
       "  </tbody>\n",
       "</table>\n",
       "</div>"
      ],
      "text/plain": [
       "Empty DataFrame\n",
       "Columns: [chr, source, type, start, end, score, strand, phase, attributes]\n",
       "Index: []"
      ]
     },
     "execution_count": 139,
     "metadata": {},
     "output_type": "execute_result"
    }
   ],
   "source": [
    "### --- Keeping in a separated dataframe the UTR regions on the forward strands\n",
    "UTR_forw_B1K = forw_B1K.loc[df_B1K['type'].isin(['three_prime_UTR','five_prime_UTR'])]\n",
    "UTR_forw_B1K.head()"
   ]
  },
  {
   "cell_type": "code",
   "execution_count": 140,
   "metadata": {},
   "outputs": [
    {
     "data": {
      "text/html": [
       "<div>\n",
       "<style scoped>\n",
       "    .dataframe tbody tr th:only-of-type {\n",
       "        vertical-align: middle;\n",
       "    }\n",
       "\n",
       "    .dataframe tbody tr th {\n",
       "        vertical-align: top;\n",
       "    }\n",
       "\n",
       "    .dataframe thead th {\n",
       "        text-align: right;\n",
       "    }\n",
       "</style>\n",
       "<table border=\"1\" class=\"dataframe\">\n",
       "  <thead>\n",
       "    <tr style=\"text-align: right;\">\n",
       "      <th></th>\n",
       "      <th>chr</th>\n",
       "      <th>source</th>\n",
       "      <th>type</th>\n",
       "      <th>start</th>\n",
       "      <th>end</th>\n",
       "      <th>score</th>\n",
       "      <th>strand</th>\n",
       "      <th>phase</th>\n",
       "      <th>attributes</th>\n",
       "    </tr>\n",
       "  </thead>\n",
       "  <tbody>\n",
       "  </tbody>\n",
       "</table>\n",
       "</div>"
      ],
      "text/plain": [
       "Empty DataFrame\n",
       "Columns: [chr, source, type, start, end, score, strand, phase, attributes]\n",
       "Index: []"
      ]
     },
     "execution_count": 140,
     "metadata": {},
     "output_type": "execute_result"
    }
   ],
   "source": [
    "### --- Keeping in a separated dataframe the UTR regions on the reverse strands\n",
    "UTR_rev_B1K = rev_B1K.loc[df_B1K['type'].isin(['three_prime_UTR','five_prime_UTR'])]\n",
    "UTR_rev_B1K.head()"
   ]
  },
  {
   "cell_type": "markdown",
   "metadata": {},
   "source": [
    "No UTRs."
   ]
  },
  {
   "cell_type": "markdown",
   "metadata": {},
   "source": [
    "### 3.6.3 Extracting introns from the whole genome"
   ]
  },
  {
   "cell_type": "code",
   "execution_count": 141,
   "metadata": {},
   "outputs": [],
   "source": [
    "### --- Extracting introns from B1K\n",
    "extract_tot_introns_gp('Data/B1K_exon.tsv', 'Output/B1K_introns.tsv')"
   ]
  },
  {
   "cell_type": "code",
   "execution_count": 142,
   "metadata": {},
   "outputs": [
    {
     "data": {
      "text/html": [
       "<div>\n",
       "<style scoped>\n",
       "    .dataframe tbody tr th:only-of-type {\n",
       "        vertical-align: middle;\n",
       "    }\n",
       "\n",
       "    .dataframe tbody tr th {\n",
       "        vertical-align: top;\n",
       "    }\n",
       "\n",
       "    .dataframe thead th {\n",
       "        text-align: right;\n",
       "    }\n",
       "</style>\n",
       "<table border=\"1\" class=\"dataframe\">\n",
       "  <thead>\n",
       "    <tr style=\"text-align: right;\">\n",
       "      <th></th>\n",
       "      <th>ID</th>\n",
       "      <th>type</th>\n",
       "      <th>start</th>\n",
       "      <th>end</th>\n",
       "      <th>length</th>\n",
       "    </tr>\n",
       "  </thead>\n",
       "  <tbody>\n",
       "    <tr>\n",
       "      <th>0</th>\n",
       "      <td>ID=Horvu_FT11_1H01G000100.1</td>\n",
       "      <td>intron</td>\n",
       "      <td>56619</td>\n",
       "      <td>56623</td>\n",
       "      <td>6</td>\n",
       "    </tr>\n",
       "    <tr>\n",
       "      <th>1</th>\n",
       "      <td>ID=Horvu_FT11_1H01G000100.1</td>\n",
       "      <td>intron</td>\n",
       "      <td>56663</td>\n",
       "      <td>56832</td>\n",
       "      <td>171</td>\n",
       "    </tr>\n",
       "    <tr>\n",
       "      <th>2</th>\n",
       "      <td>ID=Horvu_FT11_1H01G000100.1</td>\n",
       "      <td>intron</td>\n",
       "      <td>56971</td>\n",
       "      <td>57141</td>\n",
       "      <td>172</td>\n",
       "    </tr>\n",
       "    <tr>\n",
       "      <th>3</th>\n",
       "      <td>ID=Horvu_FT11_1H01G000100.1</td>\n",
       "      <td>intron</td>\n",
       "      <td>57358</td>\n",
       "      <td>57702</td>\n",
       "      <td>346</td>\n",
       "    </tr>\n",
       "    <tr>\n",
       "      <th>4</th>\n",
       "      <td>ID=Horvu_FT11_1H01G000100.1</td>\n",
       "      <td>intron</td>\n",
       "      <td>57777</td>\n",
       "      <td>57870</td>\n",
       "      <td>95</td>\n",
       "    </tr>\n",
       "    <tr>\n",
       "      <th>...</th>\n",
       "      <td>...</td>\n",
       "      <td>...</td>\n",
       "      <td>...</td>\n",
       "      <td>...</td>\n",
       "      <td>...</td>\n",
       "    </tr>\n",
       "    <tr>\n",
       "      <th>95</th>\n",
       "      <td>ID=Horvu_FT11_1H01G003200.1</td>\n",
       "      <td>intron</td>\n",
       "      <td>1493228</td>\n",
       "      <td>1493342</td>\n",
       "      <td>116</td>\n",
       "    </tr>\n",
       "    <tr>\n",
       "      <th>96</th>\n",
       "      <td>ID=Horvu_FT11_1H01G003300.1</td>\n",
       "      <td>intron</td>\n",
       "      <td>1512751</td>\n",
       "      <td>1512846</td>\n",
       "      <td>97</td>\n",
       "    </tr>\n",
       "    <tr>\n",
       "      <th>97</th>\n",
       "      <td>ID=Horvu_FT11_1H01G003300.1</td>\n",
       "      <td>intron</td>\n",
       "      <td>1513098</td>\n",
       "      <td>1513203</td>\n",
       "      <td>107</td>\n",
       "    </tr>\n",
       "    <tr>\n",
       "      <th>98</th>\n",
       "      <td>ID=Horvu_FT11_1H01G003400.1</td>\n",
       "      <td>intron</td>\n",
       "      <td>1517301</td>\n",
       "      <td>1517699</td>\n",
       "      <td>400</td>\n",
       "    </tr>\n",
       "    <tr>\n",
       "      <th>99</th>\n",
       "      <td>ID=Horvu_FT11_1H01G003400.1</td>\n",
       "      <td>intron</td>\n",
       "      <td>1518113</td>\n",
       "      <td>1518203</td>\n",
       "      <td>92</td>\n",
       "    </tr>\n",
       "  </tbody>\n",
       "</table>\n",
       "<p>100 rows × 5 columns</p>\n",
       "</div>"
      ],
      "text/plain": [
       "                             ID     type    start      end  length\n",
       "0   ID=Horvu_FT11_1H01G000100.1  intron     56619    56623       6\n",
       "1   ID=Horvu_FT11_1H01G000100.1  intron     56663    56832     171\n",
       "2   ID=Horvu_FT11_1H01G000100.1  intron     56971    57141     172\n",
       "3   ID=Horvu_FT11_1H01G000100.1  intron     57358    57702     346\n",
       "4   ID=Horvu_FT11_1H01G000100.1  intron     57777    57870      95\n",
       "..                          ...      ...      ...      ...     ...\n",
       "95  ID=Horvu_FT11_1H01G003200.1  intron   1493228  1493342     116\n",
       "96  ID=Horvu_FT11_1H01G003300.1  intron   1512751  1512846      97\n",
       "97  ID=Horvu_FT11_1H01G003300.1  intron   1513098  1513203     107\n",
       "98  ID=Horvu_FT11_1H01G003400.1  intron   1517301  1517699     400\n",
       "99  ID=Horvu_FT11_1H01G003400.1  intron   1518113  1518203      92\n",
       "\n",
       "[100 rows x 5 columns]"
      ]
     },
     "execution_count": 142,
     "metadata": {},
     "output_type": "execute_result"
    }
   ],
   "source": [
    "introns_B1K = pd.read_csv('Output/B1K_introns.tsv', sep = '\\t')\n",
    "introns_B1K[:100]"
   ]
  },
  {
   "cell_type": "code",
   "execution_count": 143,
   "metadata": {},
   "outputs": [],
   "source": [
    "### --- Counting introns type in B1K\n",
    "introns_dictionary_B1K = counting_introns_type_gp(exon_B1K)"
   ]
  },
  {
   "cell_type": "code",
   "execution_count": 144,
   "metadata": {},
   "outputs": [
    {
     "name": "stdout",
     "output_type": "stream",
     "text": [
      "Intronless are: 17002\n",
      "Intronpoor are: 18551\n",
      "Intronrich are: 12034\n"
     ]
    }
   ],
   "source": [
    "n_intronless_B1K, n_intronpoor_B1K, n_intronrich_B1K, intronless_B1K, intronpoor_B1K, intronrich_B1K = splitting_introns_type(introns_dictionary_B1K)"
   ]
  },
  {
   "cell_type": "code",
   "execution_count": 145,
   "metadata": {},
   "outputs": [
    {
     "data": {
      "image/png": "[encoded data removed]",
      "text/plain": [
       "<Figure size 720x504 with 1 Axes>"
      ]
     },
     "metadata": {},
     "output_type": "display_data"
    }
   ],
   "source": [
    "genes = ['Intronless', 'Intronpoor', 'Intronrich']\n",
    "data_B1K = [16635, 18474, 12050]\n",
    "fig = plt.figure(figsize =(10, 7))\n",
    "plt.pie(data_B1K, labels = genes, autopct='%1.0f%%')\n",
    "plt.title(\"Genes B1K Distribution\", bbox={'facecolor':'0.8', 'pad':5})\n",
    "plt.show()"
   ]
  },
  {
   "cell_type": "code",
   "execution_count": 146,
   "metadata": {},
   "outputs": [],
   "source": [
    "### --- Creating the list of B1K gene IDs to check the number of transcripts using command line\n",
    "intronless_file_B1K = open('Output/B1K_intronlessIDs.txt', 'a')\n",
    "intronpoor_file_B1K = open('Output/B1K_intronpoorIDs.txt', 'a')\n",
    "intronrich_file_B1K = open('Output/B1K_intronrichIDs.txt', 'a')\n",
    "for i in range(len(intronless_B1K)):\n",
    "    if i == len(intronless_B1K) -1:\n",
    "        intronless_file_B1K.write(intronless_B1K[i])\n",
    "    else:\n",
    "        intronless_file_B1K.write(intronless_B1K[i] + '\\n')\n",
    "intronless_file_B1K.close()\n",
    "\n",
    "for i in range(len(intronpoor_B1K)):\n",
    "    if i == len(intronpoor_B1K) -1:\n",
    "        intronpoor_file_B1K.write(intronpoor_B1K[i])\n",
    "    else:\n",
    "        intronpoor_file_B1K.write(intronpoor_B1K[i] + '\\n')\n",
    "intronpoor_file_B1K.close()\n",
    "\n",
    "for i in range(len(intronrich_B1K)):\n",
    "    if i == len(intronrich_B1K) -1:\n",
    "        intronrich_file_B1K.write(intronrich_B1K[i])\n",
    "    else:\n",
    "        intronrich_file_B1K.write(intronrich_B1K[i]+'\\n')\n",
    "intronrich_file_B1K.close()"
   ]
  },
  {
   "cell_type": "code",
   "execution_count": 147,
   "metadata": {},
   "outputs": [],
   "source": [
    "### --- Storing the number of transcripts in intron-less/poor/rich genes within a variable \n",
    "n_mRNA_intronless_B1K = ! grep -f Output/B1K_intronlessIDs.txt Data/B1K_nohashtag.gff3 | awk -F '\\t' '{print $3}' | grep -w 'mRNA' | wc -l\n",
    "n_mRNA_intronpoor_B1K = ! grep -f Output/B1K_intronpoorIDs.txt Data/B1K_nohashtag.gff3 | awk -F '\\t' '{print $3}' | grep -w 'mRNA' | wc -l\n",
    "n_mRNA_intronrich_B1K = ! grep -f Output/B1K_intronrichIDs.txt Data/B1K_nohashtag.gff3 | awk -F '\\t' '{print $3}' | grep -w 'mRNA' | wc -l"
   ]
  },
  {
   "cell_type": "code",
   "execution_count": 148,
   "metadata": {},
   "outputs": [
    {
     "name": "stdout",
     "output_type": "stream",
     "text": [
      "1.0\n",
      "1.0\n",
      "1.0\n"
     ]
    }
   ],
   "source": [
    "### --- Checking the average number of transcripts for each gene-type\n",
    "avg_mRNA_intronless_B1K = int(n_mRNA_intronless_B1K[0])/n_intronless_B1K\n",
    "print(avg_mRNA_intronless_B1K)\n",
    "avg_mRNA_intronpoor_B1K = int(n_mRNA_intronpoor_B1K[0])/n_intronpoor_B1K\n",
    "print(avg_mRNA_intronpoor_B1K)\n",
    "avg_mRNA_intronrich_B1K = int(n_mRNA_intronrich_B1K[0])/n_intronrich_B1K\n",
    "print(avg_mRNA_intronrich_B1K)"
   ]
  },
  {
   "cell_type": "code",
   "execution_count": 149,
   "metadata": {
    "scrolled": true
   },
   "outputs": [
    {
     "data": {
      "text/plain": [
       "count    130720.000000\n",
       "mean        580.916493\n",
       "std        2385.718425\n",
       "min           1.000000\n",
       "25%          91.000000\n",
       "50%         123.000000\n",
       "75%         414.000000\n",
       "max      203425.000000\n",
       "Name: length, dtype: float64"
      ]
     },
     "execution_count": 149,
     "metadata": {},
     "output_type": "execute_result"
    }
   ],
   "source": [
    "### --- Basic statistics of B1K introns\n",
    "introns_B1K['length'].describe()"
   ]
  },
  {
   "cell_type": "code",
   "execution_count": 150,
   "metadata": {},
   "outputs": [
    {
     "data": {
      "text/plain": [
       "<AxesSubplot:ylabel='Density'>"
      ]
     },
     "execution_count": 150,
     "metadata": {},
     "output_type": "execute_result"
    },
    {
     "data": {
      "image/png": "[encoded data removed]",
      "text/plain": [
       "<Figure size 432x288 with 1 Axes>"
      ]
     },
     "metadata": {
      "needs_background": "light"
     },
     "output_type": "display_data"
    }
   ],
   "source": [
    "### --- Plotting the distribution of B1K introns length\n",
    "introns_B1K['length'].plot.density()"
   ]
  },
  {
   "cell_type": "code",
   "execution_count": 151,
   "metadata": {},
   "outputs": [
    {
     "data": {
      "text/plain": [
       "<AxesSubplot:>"
      ]
     },
     "execution_count": 151,
     "metadata": {},
     "output_type": "execute_result"
    },
    {
     "data": {
      "image/png": "[encoded data removed]",
      "text/plain": [
       "<Figure size 432x288 with 1 Axes>"
      ]
     },
     "metadata": {
      "needs_background": "light"
     },
     "output_type": "display_data"
    }
   ],
   "source": [
    "### --- Plotting the boxplot of B1K introns length without outliers\n",
    "introns_B1K.boxplot(column='length', return_type='axes', showfliers=False) # showfliers = False -> discard outliers"
   ]
  },
  {
   "cell_type": "markdown",
   "metadata": {},
   "source": [
    "### 3.6.4 Re-organizing files and directories"
   ]
  },
  {
   "cell_type": "markdown",
   "metadata": {},
   "source": [
    "## 3.7 Barke - Gene projection"
   ]
  },
  {
   "cell_type": "code",
   "execution_count": 102,
   "metadata": {},
   "outputs": [
    {
     "name": "stdout",
     "output_type": "stream",
     "text": [
      "--2021-06-04 16:37:08--  https://doi.ipk-gatersleben.de/DOI/c4d433dc-bf7c-4ad9-9368-69bb77837ca5/005e26c4-051b-4fd4-8538-2abe31706449/1/DOWNLOAD\n",
      "Resolving doi.ipk-gatersleben.de (doi.ipk-gatersleben.de)... 194.94.136.144\n",
      "Connecting to doi.ipk-gatersleben.de (doi.ipk-gatersleben.de)|194.94.136.144|:443... connected.\n",
      "HTTP request sent, awaiting response... 200 OK\n",
      "Length: 53169617 (51M) [text/plain]\n",
      "Saving to: ‘Data/raw/Barke_gp.gff3’\n",
      "\n",
      "Data/raw/Barke_gp.g 100%[===================>]  50,71M  1,04MB/s    in 70s     \n",
      "\n",
      "2021-06-04 16:38:18 (743 KB/s) - ‘Data/raw/Barke_gp.gff3’ saved [53169617/53169617]\n",
      "\n"
     ]
    }
   ],
   "source": [
    "### --- This will download the raw data to the subdirectory raw under the directory Data\n",
    "! wget -O Data/raw/Barke_gp.gff3 https://doi.ipk-gatersleben.de/DOI/c4d433dc-bf7c-4ad9-9368-69bb77837ca5/005e26c4-051b-4fd4-8538-2abe31706449/1/DOWNLOAD"
   ]
  },
  {
   "cell_type": "markdown",
   "metadata": {},
   "source": [
    "### 3.7.1 Data collection"
   ]
  },
  {
   "cell_type": "markdown",
   "metadata": {},
   "source": [
    "### 3.7.2 Processing Data"
   ]
  },
  {
   "cell_type": "markdown",
   "metadata": {},
   "source": [
    "### 3.7.3 Extracting introns from the whole genome"
   ]
  },
  {
   "cell_type": "markdown",
   "metadata": {},
   "source": [
    "### 3.7.4 Re-organizing files and directories"
   ]
  },
  {
   "cell_type": "markdown",
   "metadata": {},
   "source": [
    "## 3.8 Golden_Promise - Gene projection"
   ]
  },
  {
   "cell_type": "markdown",
   "metadata": {},
   "source": [
    "## 3.9 Hockett - Gene projection"
   ]
  },
  {
   "cell_type": "markdown",
   "metadata": {},
   "source": [
    "## 3.10 HOR10350 - Gene projection"
   ]
  },
  {
   "cell_type": "markdown",
   "metadata": {},
   "source": [
    "## 3.11 HOR13821 - Gene projection"
   ]
  },
  {
   "cell_type": "markdown",
   "metadata": {},
   "source": [
    "## 3.12 HOR13942 - Gene projection"
   ]
  },
  {
   "cell_type": "markdown",
   "metadata": {},
   "source": [
    "## 3.13 HOR21599 - Gene projection"
   ]
  },
  {
   "cell_type": "markdown",
   "metadata": {},
   "source": [
    "## 3.14  HOR3081 - Gene projection"
   ]
  },
  {
   "cell_type": "markdown",
   "metadata": {},
   "source": [
    "## 3.15 HOR3365 - Gene projection"
   ]
  },
  {
   "cell_type": "markdown",
   "metadata": {},
   "source": [
    "## 3.16 HOR7552 - Gene projection"
   ]
  },
  {
   "cell_type": "markdown",
   "metadata": {},
   "source": [
    "## 3.17 HOR8148 - Gene projection"
   ]
  },
  {
   "cell_type": "markdown",
   "metadata": {},
   "source": [
    "## 3.18 HOR9043 - Gene projection"
   ]
  },
  {
   "cell_type": "markdown",
   "metadata": {},
   "source": [
    "## 3.19 Igri - Gene projection"
   ]
  },
  {
   "cell_type": "markdown",
   "metadata": {},
   "source": [
    "## 3.20 Morex - Gene projection"
   ]
  },
  {
   "cell_type": "markdown",
   "metadata": {},
   "source": [
    "## 3.21 OUN333 - Gene projection"
   ]
  },
  {
   "cell_type": "markdown",
   "metadata": {},
   "source": [
    "## 3.22 RGT_Planet - Gene projection"
   ]
  },
  {
   "cell_type": "markdown",
   "metadata": {},
   "source": [
    "## 3.23 ZDM01467 - Gene projection"
   ]
  },
  {
   "cell_type": "markdown",
   "metadata": {},
   "source": [
    "## 3.24 ZDM02064 - Gene projection"
   ]
  }
 ],
 "metadata": {
  "kernelspec": {
   "display_name": "Python 3",
   "language": "python",
   "name": "python3"
  },
  "language_info": {
   "codemirror_mode": {
    "name": "ipython",
    "version": 3
   },
   "file_extension": ".py",
   "mimetype": "text/x-python",
   "name": "python",
   "nbconvert_exporter": "python",
   "pygments_lexer": "ipython3",
   "version": "3.9.2"
  }
 },
 "nbformat": 4,
 "nbformat_minor": 4
}
